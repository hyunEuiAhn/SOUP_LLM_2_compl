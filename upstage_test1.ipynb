{
 "cells": [
  {
   "cell_type": "markdown",
   "id": "98e66a4e",
   "metadata": {},
   "source": [
    "## 1. 환경 설정"
   ]
  },
  {
   "cell_type": "markdown",
   "id": "6b4a539f",
   "metadata": {},
   "source": [
    "`(1) Env 환경변수`"
   ]
  },
  {
   "cell_type": "code",
   "execution_count": null,
   "id": "d9c1dce3",
   "metadata": {},
   "outputs": [],
   "source": []
  },
  {
   "cell_type": "code",
   "execution_count": 55,
   "id": "1b2e3cc4",
   "metadata": {},
   "outputs": [],
   "source": [
    "# @title set API key\n",
    "from pprint import pprint\n",
    "import os\n",
    "import getpass\n",
    "\n",
    "import warnings\n",
    "\n",
    "warnings.filterwarnings(\"ignore\")\n",
    "\n",
    "UPSTAGE_API_KEY = getpass.getpass(\"Enter your API Key\")\n",
    "_ = os.environ.setdefault(\"UPSTAGE_API_KEY\", UPSTAGE_API_KEY)\n",
    "\n",
    "LANGCHAIN_API_KEY = getpass.getpass(\"Enter your API Key\")\n",
    "_ = os.environ.setdefault(\"LANGCHAIN_API_KEY\", LANGCHAIN_API_KEY)"
   ]
  },
  {
   "cell_type": "code",
   "execution_count": 57,
   "id": "89a27628",
   "metadata": {},
   "outputs": [
    {
     "data": {
      "text/plain": [
       "False"
      ]
     },
     "execution_count": 57,
     "metadata": {},
     "output_type": "execute_result"
    }
   ],
   "source": [
    "from dotenv import load_dotenv\n",
    "load_dotenv()"
   ]
  },
  {
   "cell_type": "code",
   "execution_count": 59,
   "id": "f165b9c4",
   "metadata": {},
   "outputs": [
    {
     "name": "stdout",
     "output_type": "stream",
     "text": [
      "Collecting pypdf==5.0.1\n",
      "  Downloading pypdf-5.0.1-py3-none-any.whl.metadata (7.4 kB)\n",
      "Downloading pypdf-5.0.1-py3-none-any.whl (294 kB)\n",
      "Installing collected packages: pypdf\n",
      "  Attempting uninstall: pypdf\n",
      "    Found existing installation: pypdf 4.3.1\n",
      "    Uninstalling pypdf-4.3.1:\n",
      "      Successfully uninstalled pypdf-4.3.1\n",
      "\u001b[31mERROR: pip's dependency resolver does not currently take into account all the packages that are installed. This behaviour is the source of the following dependency conflicts.\n",
      "langchain-upstage 0.1.8rc0 requires pypdf<5.0.0,>=4.2.0, but you have pypdf 5.0.1 which is incompatible.\u001b[0m\u001b[31m\n",
      "\u001b[0mSuccessfully installed pypdf-5.0.1\n",
      "Collecting sentence-transformers==3.2.0\n",
      "  Downloading sentence_transformers-3.2.0-py3-none-any.whl.metadata (10 kB)\n",
      "Requirement already satisfied: transformers<5.0.0,>=4.41.0 in /Library/Frameworks/Python.framework/Versions/3.12/lib/python3.12/site-packages (from sentence-transformers==3.2.0) (4.44.2)\n",
      "Requirement already satisfied: tqdm in /Library/Frameworks/Python.framework/Versions/3.12/lib/python3.12/site-packages (from sentence-transformers==3.2.0) (4.66.6)\n",
      "Requirement already satisfied: torch>=1.11.0 in /Library/Frameworks/Python.framework/Versions/3.12/lib/python3.12/site-packages (from sentence-transformers==3.2.0) (2.2.2)\n",
      "Requirement already satisfied: scikit-learn in /Library/Frameworks/Python.framework/Versions/3.12/lib/python3.12/site-packages (from sentence-transformers==3.2.0) (1.5.2)\n",
      "Requirement already satisfied: scipy in /Library/Frameworks/Python.framework/Versions/3.12/lib/python3.12/site-packages (from sentence-transformers==3.2.0) (1.14.1)\n",
      "Requirement already satisfied: huggingface-hub>=0.20.0 in /Library/Frameworks/Python.framework/Versions/3.12/lib/python3.12/site-packages (from sentence-transformers==3.2.0) (0.26.2)\n",
      "Requirement already satisfied: Pillow in /Library/Frameworks/Python.framework/Versions/3.12/lib/python3.12/site-packages (from sentence-transformers==3.2.0) (11.0.0)\n",
      "Requirement already satisfied: filelock in /Library/Frameworks/Python.framework/Versions/3.12/lib/python3.12/site-packages (from huggingface-hub>=0.20.0->sentence-transformers==3.2.0) (3.16.1)\n",
      "Requirement already satisfied: fsspec>=2023.5.0 in /Library/Frameworks/Python.framework/Versions/3.12/lib/python3.12/site-packages (from huggingface-hub>=0.20.0->sentence-transformers==3.2.0) (2024.9.0)\n",
      "Requirement already satisfied: packaging>=20.9 in /Users/hyuneui/Library/Python/3.12/lib/python/site-packages (from huggingface-hub>=0.20.0->sentence-transformers==3.2.0) (24.1)\n",
      "Requirement already satisfied: pyyaml>=5.1 in /Library/Frameworks/Python.framework/Versions/3.12/lib/python3.12/site-packages (from huggingface-hub>=0.20.0->sentence-transformers==3.2.0) (6.0.2)\n",
      "Requirement already satisfied: requests in /Library/Frameworks/Python.framework/Versions/3.12/lib/python3.12/site-packages (from huggingface-hub>=0.20.0->sentence-transformers==3.2.0) (2.32.3)\n",
      "Requirement already satisfied: typing-extensions>=3.7.4.3 in /Library/Frameworks/Python.framework/Versions/3.12/lib/python3.12/site-packages (from huggingface-hub>=0.20.0->sentence-transformers==3.2.0) (4.12.2)\n",
      "Requirement already satisfied: sympy in /Library/Frameworks/Python.framework/Versions/3.12/lib/python3.12/site-packages (from torch>=1.11.0->sentence-transformers==3.2.0) (1.13.3)\n",
      "Requirement already satisfied: networkx in /Library/Frameworks/Python.framework/Versions/3.12/lib/python3.12/site-packages (from torch>=1.11.0->sentence-transformers==3.2.0) (3.4.2)\n",
      "Requirement already satisfied: jinja2 in /Library/Frameworks/Python.framework/Versions/3.12/lib/python3.12/site-packages (from torch>=1.11.0->sentence-transformers==3.2.0) (3.1.4)\n",
      "Requirement already satisfied: numpy>=1.17 in /Library/Frameworks/Python.framework/Versions/3.12/lib/python3.12/site-packages (from transformers<5.0.0,>=4.41.0->sentence-transformers==3.2.0) (1.26.4)\n",
      "Requirement already satisfied: regex!=2019.12.17 in /Library/Frameworks/Python.framework/Versions/3.12/lib/python3.12/site-packages (from transformers<5.0.0,>=4.41.0->sentence-transformers==3.2.0) (2023.12.25)\n",
      "Requirement already satisfied: safetensors>=0.4.1 in /Library/Frameworks/Python.framework/Versions/3.12/lib/python3.12/site-packages (from transformers<5.0.0,>=4.41.0->sentence-transformers==3.2.0) (0.4.5)\n",
      "Requirement already satisfied: tokenizers<0.20,>=0.19 in /Library/Frameworks/Python.framework/Versions/3.12/lib/python3.12/site-packages (from transformers<5.0.0,>=4.41.0->sentence-transformers==3.2.0) (0.19.1)\n",
      "Requirement already satisfied: joblib>=1.2.0 in /Library/Frameworks/Python.framework/Versions/3.12/lib/python3.12/site-packages (from scikit-learn->sentence-transformers==3.2.0) (1.4.2)\n",
      "Requirement already satisfied: threadpoolctl>=3.1.0 in /Library/Frameworks/Python.framework/Versions/3.12/lib/python3.12/site-packages (from scikit-learn->sentence-transformers==3.2.0) (3.5.0)\n",
      "Requirement already satisfied: MarkupSafe>=2.0 in /Library/Frameworks/Python.framework/Versions/3.12/lib/python3.12/site-packages (from jinja2->torch>=1.11.0->sentence-transformers==3.2.0) (2.1.5)\n",
      "Requirement already satisfied: charset-normalizer<4,>=2 in /Library/Frameworks/Python.framework/Versions/3.12/lib/python3.12/site-packages (from requests->huggingface-hub>=0.20.0->sentence-transformers==3.2.0) (3.4.0)\n",
      "Requirement already satisfied: idna<4,>=2.5 in /Library/Frameworks/Python.framework/Versions/3.12/lib/python3.12/site-packages (from requests->huggingface-hub>=0.20.0->sentence-transformers==3.2.0) (3.10)\n",
      "Requirement already satisfied: urllib3<3,>=1.21.1 in /Library/Frameworks/Python.framework/Versions/3.12/lib/python3.12/site-packages (from requests->huggingface-hub>=0.20.0->sentence-transformers==3.2.0) (2.0.7)\n",
      "Requirement already satisfied: certifi>=2017.4.17 in /Library/Frameworks/Python.framework/Versions/3.12/lib/python3.12/site-packages (from requests->huggingface-hub>=0.20.0->sentence-transformers==3.2.0) (2024.8.30)\n",
      "Requirement already satisfied: mpmath<1.4,>=1.1.0 in /Library/Frameworks/Python.framework/Versions/3.12/lib/python3.12/site-packages (from sympy->torch>=1.11.0->sentence-transformers==3.2.0) (1.3.0)\n",
      "Downloading sentence_transformers-3.2.0-py3-none-any.whl (255 kB)\n",
      "Installing collected packages: sentence-transformers\n",
      "  Attempting uninstall: sentence-transformers\n",
      "    Found existing installation: sentence-transformers 3.2.1\n",
      "    Uninstalling sentence-transformers-3.2.1:\n",
      "      Successfully uninstalled sentence-transformers-3.2.1\n",
      "Successfully installed sentence-transformers-3.2.0\n",
      "Requirement already satisfied: tavily-python==0.5.0 in /Library/Frameworks/Python.framework/Versions/3.12/lib/python3.12/site-packages (0.5.0)\n",
      "Requirement already satisfied: requests in /Library/Frameworks/Python.framework/Versions/3.12/lib/python3.12/site-packages (from tavily-python==0.5.0) (2.32.3)\n",
      "Requirement already satisfied: tiktoken>=0.5.1 in /Library/Frameworks/Python.framework/Versions/3.12/lib/python3.12/site-packages (from tavily-python==0.5.0) (0.8.0)\n",
      "Requirement already satisfied: httpx in /Library/Frameworks/Python.framework/Versions/3.12/lib/python3.12/site-packages (from tavily-python==0.5.0) (0.27.2)\n",
      "Requirement already satisfied: regex>=2022.1.18 in /Library/Frameworks/Python.framework/Versions/3.12/lib/python3.12/site-packages (from tiktoken>=0.5.1->tavily-python==0.5.0) (2023.12.25)\n",
      "Requirement already satisfied: charset-normalizer<4,>=2 in /Library/Frameworks/Python.framework/Versions/3.12/lib/python3.12/site-packages (from requests->tavily-python==0.5.0) (3.4.0)\n",
      "Requirement already satisfied: idna<4,>=2.5 in /Library/Frameworks/Python.framework/Versions/3.12/lib/python3.12/site-packages (from requests->tavily-python==0.5.0) (3.10)\n",
      "Requirement already satisfied: urllib3<3,>=1.21.1 in /Library/Frameworks/Python.framework/Versions/3.12/lib/python3.12/site-packages (from requests->tavily-python==0.5.0) (2.0.7)\n",
      "Requirement already satisfied: certifi>=2017.4.17 in /Library/Frameworks/Python.framework/Versions/3.12/lib/python3.12/site-packages (from requests->tavily-python==0.5.0) (2024.8.30)\n",
      "Requirement already satisfied: anyio in /Library/Frameworks/Python.framework/Versions/3.12/lib/python3.12/site-packages (from httpx->tavily-python==0.5.0) (4.6.2.post1)\n",
      "Requirement already satisfied: httpcore==1.* in /Library/Frameworks/Python.framework/Versions/3.12/lib/python3.12/site-packages (from httpx->tavily-python==0.5.0) (1.0.6)\n",
      "Requirement already satisfied: sniffio in /Library/Frameworks/Python.framework/Versions/3.12/lib/python3.12/site-packages (from httpx->tavily-python==0.5.0) (1.3.1)\n",
      "Requirement already satisfied: h11<0.15,>=0.13 in /Library/Frameworks/Python.framework/Versions/3.12/lib/python3.12/site-packages (from httpcore==1.*->httpx->tavily-python==0.5.0) (0.14.0)\n"
     ]
    }
   ],
   "source": [
    "!pip install pypdf==5.0.1\n",
    "!pip install sentence-transformers==3.2.0\n",
    "!pip install tavily-python==0.5.0"
   ]
  },
  {
   "cell_type": "markdown",
   "id": "4394ecdf",
   "metadata": {},
   "source": [
    "`(2) 기본 라이브러리`"
   ]
  },
  {
   "cell_type": "code",
   "execution_count": 39,
   "id": "efe5c80a",
   "metadata": {},
   "outputs": [],
   "source": [
    "import re\n",
    "import os, json\n",
    "from glob import glob\n",
    "\n",
    "from textwrap import dedent\n",
    "from pprint import pprint\n",
    "\n",
    "import uuid\n",
    "\n",
    "import warnings\n",
    "warnings.filterwarnings(\"ignore\")"
   ]
  },
  {
   "cell_type": "markdown",
   "id": "d5c4536a",
   "metadata": {},
   "source": [
    "## 2. 법률 문서를 로드하여 벡터저장소에 저장"
   ]
  },
  {
   "cell_type": "code",
   "execution_count": 40,
   "id": "9a10417e",
   "metadata": {},
   "outputs": [
    {
     "data": {
      "text/plain": [
       "[]"
      ]
     },
     "execution_count": 40,
     "metadata": {},
     "output_type": "execute_result"
    }
   ],
   "source": [
    "# pdf 파일 목록을 확인\n",
    "pdf_files = glob(os.path.join('data', '*.pdf'))\n",
    "\n",
    "pdf_files"
   ]
  },
  {
   "cell_type": "markdown",
   "id": "8eb19dac",
   "metadata": {},
   "source": [
    "###  2-1. 자본시장과 금융투자업에 관한 법률(법률)(제20305호)(20240814)"
   ]
  },
  {
   "cell_type": "markdown",
   "id": "059583bb",
   "metadata": {},
   "source": [
    "- PDf 문서를 가져와서 조항 별로 구분하여 정리"
   ]
  },
  {
   "cell_type": "code",
   "execution_count": 41,
   "id": "77cc4c3d",
   "metadata": {},
   "outputs": [
    {
     "data": {
      "text/plain": [
       "216"
      ]
     },
     "execution_count": 41,
     "metadata": {},
     "output_type": "execute_result"
    }
   ],
   "source": [
    "from langchain_community.document_loaders import PyPDFLoader\n",
    "\n",
    "\n",
    "pdf_file = \"/Users/hyuneui/Desktop/upstage/cookbook/data/자본시장과 금융투자업에 관한 법률(법률)(제20305호)(20240814).pdf\"\n",
    "loader = PyPDFLoader(pdf_file)\n",
    "pages = loader.load()\n",
    "len(pages)\n"
   ]
  },
  {
   "cell_type": "code",
   "execution_count": 42,
   "id": "2e9e703c",
   "metadata": {},
   "outputs": [
    {
     "data": {
      "text/plain": [
       "{'source': '/Users/hyuneui/Desktop/upstage/cookbook/data/자본시장과 금융투자업에 관한 법률(법률)(제20305호)(20240814).pdf',\n",
       " 'page': 10}"
      ]
     },
     "execution_count": 42,
     "metadata": {},
     "output_type": "execute_result"
    }
   ],
   "source": [
    "pages[10].metadata"
   ]
  },
  {
   "cell_type": "markdown",
   "id": "7223b147",
   "metadata": {},
   "source": [
    "페이지 구조를 이용해서 파싱하는 작업"
   ]
  },
  {
   "cell_type": "markdown",
   "id": "4b3c3b9e",
   "metadata": {},
   "source": [
    "- 랭체인 Document 객체에 메타데이터와 함께 정리"
   ]
  },
  {
   "cell_type": "markdown",
   "id": "8b296c4a",
   "metadata": {},
   "source": [
    "전체적인 맥락 -> 법률정보\n"
   ]
  },
  {
   "cell_type": "markdown",
   "id": "b8b8f6d8",
   "metadata": {},
   "source": [
    "- 벡터저장소에 인덱싱"
   ]
  },
  {
   "cell_type": "markdown",
   "id": "ab9951cd",
   "metadata": {},
   "source": [
    "- PDf 문서를 가져와서 조항 별로 구분하여 정리"
   ]
  },
  {
   "cell_type": "code",
   "execution_count": 43,
   "id": "f8ad1cac",
   "metadata": {},
   "outputs": [
    {
     "data": {
      "text/plain": [
       "'법제처                                                            1                                                       국가법령정보센터\\n자본시장과 금융투자업에 관한 법률 \\n \\n자본시장과 금융투자업에 관한 법률 ( 약칭: 자본시장법 ) \\n[시행 2024. 8. 14.] [법률 제20305호, 2024. 2. 13., 일부개정] \\n금융위원회 (자본시장과-투자매매중개업, 증권발행) 02-2100-2652 \\n금융위원회 (자본시장과-파생상품) 02-2100-2654 \\n금융위원회 (자산운용과-집합투자, 신탁, 투자일임, 투자자문) 02-2100-2661 \\n금융위원회 (공정시장과-사업보고서, 상장회사특례, 불공정거래) 02-2100-2688 \\n     제1편 총칙\\n \\n제1조(목적) 이 법은 자본시장에서의 금융혁신과 공정한 경쟁을 촉진하고 투자자를 보호하며 금융투자업을 건전하게\\n육성함으로써 자본시장의 공정성ㆍ신뢰성 및 효율성을 높여 국민경제의 발전에 이바지함을 목적으로 한다.\\n \\n제2조(국외행위에 대한 적용) 이 법은 국외에서 이루어진 행위로서 그 효과가 국내에 미치는 경우에도 적용한다.\\n \\n제3조(금융투자상품) ① 이 법에서 “금융투자상품”이란 이익을 얻거나 손실을 회피할 목적으로 현재 또는 장래의 특정\\n(特定) 시점에 금전, 그 밖의 재산적 가치가 있는 것(이하 “금전등”이라 한다)을 지급하기로 약정함으로써 취득하는\\n권리로서, 그 권리를 취득하기 위하여 지급하였거나 지급하여야 할 금전등의 총액(판매수수료 등 대통령령으로 정하\\n는 금액을 제외한다)이 그 권리로부터 회수하였거나 회수할 수 있는 금전등의 총액(해지수수료 등 대통령령으로 정\\n하는 금액을 포함한다)을 초과하게 될 위험(이하 “투자성”이라 한다)이 있는 것을 말한다. 다만, 다음 각 호의 어느 하\\n나에 해당하는 것을 제외한다. <개정 2011. 7. 25., 2013. 5. 28.>\\n1. 원화로 표시된 양도성 예금증서\\n2. 「신탁법」 제78조제1항에 따른 수익증권발행신탁이 아닌 신탁으로서 다음 각 목의 어느 하나에 해당하는 신탁(제\\n103조제1항제1호의 재산을 신탁받는 경우는 제외하고 수탁자가 「신탁법」 제46조부터 제48조까지의 규정에 따 \\n라 처분 권한을 행사하는 경우는 포함한다. 이하 “관리형신탁”이라 한다)의 수익권 \\n가. 위탁자(신탁계약에 따라 처분권한을 가지고 있는 수익자를 포함한다)의 지시에 따라서만 신탁재산의 처분이 \\n이루어지는 신탁 \\n나. 신탁계약에 따라 신탁재산에 대하여 보존행위 또는 그 신탁재산의 성질을 변경하지 아니하는 범위에서 이용 \\nㆍ개량 행위만을 하는 신탁 \\n3. 그 밖에 해당 금융투자상품의 특성 등을 고려하여 금융투자상품에서 제외하더라도 투자자 보호 및 건전한 거래\\n질서를 해할 우려가 없는 것으로서 대통령령으로 정하는 금융투자상품 \\n② 제1항의 금융투자상품은 다음 각 호와 같이 구분한다.\\n1. 증권\\n2. 파생상품\\n가. 장내파생상품 \\n나. 장외파생상품 \\n \\n제4조(증권) ① 이 법에서 “증권”이란 내국인 또는 외국인이 발행한 금융투자상품으로서 투자자가 취득과 동시에 지급\\n한 금전등 외에 어떠한 명목으로든지 추가로 지급의무(투자자가 기초자산에 대한 매매를 성립시킬 수 있는 권리를\\n행사하게 됨으로써 부담하게 되는 지급의무를 제외한다)를 부담하지 아니하는 것을 말한다. 다만, 다음 각 호의 어느\\n하나에 해당하는 증권은 제2편제5장, 제3편제1장(제8편부터 제10편까지의 규정 중 제2편제5장, 제3편제1장의 규정\\n에 따른 의무 위반행위에 대한 부분을 포함한다) 및 제178조ㆍ제179조를 적용하는 경우에만 증권으로 본다. <개정\\n2013. 5. 28., 2015. 7. 24.>\\n1. 투자계약증권\\n2. 지분증권, 수익증권 또는 증권예탁증권 중 해당 증권의 유통 가능성, 이 법 또는 금융관련 법령에서의 규제 여부\\n등을 종합적으로 고려하여 대통령령으로 정하는 증권 '"
      ]
     },
     "execution_count": 43,
     "metadata": {},
     "output_type": "execute_result"
    }
   ],
   "source": [
    "pages[0].page_content"
   ]
  },
  {
   "cell_type": "code",
   "execution_count": 44,
   "id": "7ffb4427",
   "metadata": {},
   "outputs": [
    {
     "data": {
      "text/plain": [
       "'법제처                                                            2                                                       국가법령정보센터\\n자본시장과 금융투자업에 관한 법률 \\n② 제1항의 증권은 다음 각 호와 같이 구분한다.\\n1. 채무증권\\n2. 지분증권\\n3. 수익증권\\n4. 투자계약증권\\n5. 파생결합증권\\n6. 증권예탁증권\\n③ 이 법에서 “채무증권”이란 국채증권, 지방채증권, 특수채증권(법률에 의하여 직접 설립된 법인이 발행한 채권을\\n말한다. 이하 같다), 사채권(「상법」 제469조제2항제3호에 따른 사채의 경우에는 제7항제1호에 해당하는 것으로 한\\n정한다. 이하 같다), 기업어음증권(기업이 사업에 필요한 자금을 조달하기 위하여 발행한 약속어음으로서 대통령령\\n으로 정하는 요건을 갖춘 것을 말한다. 이하 같다), 그 밖에 이와 유사(類似)한 것으로서 지급청구권이 표시된 것을\\n말한다.<개정 2013. 5. 28.>\\n④ 이 법에서 “지분증권”이란 주권, 신주인수권이 표시된 것, 법률에 의하여 직접 설립된 법인이 발행한 출자증권, 「\\n상법」에 따른 합자회사ㆍ유한책임회사ㆍ유한회사ㆍ합자조합ㆍ익명조합의 출자지분, 그 밖에 이와 유사한 것으로\\n서 출자지분 또는 출자지분을 취득할 권리가 표시된 것을 말한다.<개정 2013. 5. 28.>\\n⑤ 이 법에서 “수익증권”이란 제110조의 수익증권, 제189조의 수익증권, 그 밖에 이와 유사한 것으로서 신탁의 수익\\n권이 표시된 것을 말한다.\\n⑥ 이 법에서 “투자계약증권”이란 특정 투자자가 그 투자자와 타인(다른 투자자를 포함한다. 이하 이 항에서 같다)\\n간의 공동사업에 금전등을 투자하고 주로 타인이 수행한 공동사업의 결과에 따른 손익을 귀속받는 계약상의 권리\\n가 표시된 것을 말한다.\\n⑦ 이 법에서 “파생결합증권”이란 기초자산의 가격ㆍ이자율ㆍ지표ㆍ단위 또는 이를 기초로 하는 지수 등의 변동과\\n연계하여 미리 정하여진 방법에 따라 지급하거나 회수하는 금전등이 결정되는 권리가 표시된 것을 말한다. 다만, 다\\n음 각 호의 어느 하나에 해당하는 것은 제외한다.<개정 2013. 5. 28., 2016. 3. 29., 2017. 4. 18., 2022. 12. 31.>\\n1. 발행과 동시에 투자자가 지급한 금전등에 대한 이자, 그 밖의 과실(果實)에 대하여만 해당 기초자산의 가격ㆍ이\\n자율ㆍ지표ㆍ단위 또는 이를 기초로 하는 지수 등의 변동과 연계된 증권 \\n2. 제5조제1항제2호에 따른 계약상의 권리(제5조제1항 각 호 외의 부분 단서에서 정하는 금융투자상품은 제외한다)\\n3. 해당 사채의 발행 당시 객관적이고 합리적인 기준에 따라 미리 정하는 사유가 발생하는 경우 주식으로 전환되거\\n나 그 사채의 상환과 이자지급 의무가 감면된다는 조건이 붙은 것으로서 제165조의11제1항에 따라 주권상장법 \\n인이 발행하는 사채 \\n3의2. 「은행법」 제33조제1항제2호부터 제4호까지의 규정에 따른 상각형 조건부자본증권, 은행주식 전환형 조건부\\n자본증권 및 은행지주회사주식 전환형 조건부자본증권 \\n3의3. 「금융지주회사법」 제15조의2제1항제2호 또는 제3호에 따른 상각형 조건부자본증권 또는 전환형 조건부자본\\n증권 \\n3의4. 「보험업법」 제114조의2제1항제1호에서 제3호까지의 규정에 따른 상각형 조건부자본증권, 보험회사주식 전\\n환형 조건부자본증권 및 금융지주회사주식 전환형 조건부자본증권 \\n4. 「상법」 제469조제2항제2호, 제513조 및 제516조의2에 따른 사채\\n5. 그 밖에 제1호부터 제3호까지, 제3호의2부터 제3호의4까지 및 제4호에 따른 금융투자상품과 유사한 것으로서 대\\n통령령으로 정하는 금융투자상품 \\n⑧ 이 법에서 “증권예탁증권”이란 제2항제1호부터 제5호까지의 증권을 예탁받은 자가 그 증권이 발행된 국가 외의\\n국가에서 발행한 것으로서 그 예탁받은 증권에 관련된 권리가 표시된 것을 말한다.\\n⑨ 제2항 각 호의 어느 하나에 해당하는 증권에 표시될 수 있거나 표시되어야 할 권리는 그 증권이 발행되지 아니\\n한 경우에도 그 증권으로 본다.\\n⑩ 이 법에서 “기초자산”이란 다음 각 호의 어느 하나에 해당하는 것을 말한다.'"
      ]
     },
     "execution_count": 44,
     "metadata": {},
     "output_type": "execute_result"
    }
   ],
   "source": [
    "pages[1].page_content"
   ]
  },
  {
   "cell_type": "code",
   "execution_count": 45,
   "id": "c1ffea27",
   "metadata": {},
   "outputs": [
    {
     "data": {
      "text/plain": [
       "'법제처                                                            3                                                       국가법령정보센터\\n자본시장과 금융투자업에 관한 법률 \\n1. 금융투자상품\\n2. 통화(외국의 통화를 포함한다)\\n3. 일반상품(농산물ㆍ축산물ㆍ수산물ㆍ임산물ㆍ광산물ㆍ에너지에 속하는 물품 및 이 물품을 원료로 하여 제조하거\\n나 가공한 물품, 그 밖에 이와 유사한 것을 말한다) \\n4. 신용위험(당사자 또는 제삼자의 신용등급의 변동, 파산 또는 채무재조정 등으로 인한 신용의 변동을 말한다)\\n5. 그 밖에 자연적ㆍ환경적ㆍ경제적 현상 등에 속하는 위험으로서 합리적이고 적정한 방법에 의하여 가격ㆍ이자율\\nㆍ지표ㆍ단위의 산출이나 평가가 가능한 것 \\n \\n제5조(파생상품) ① 이 법에서 “파생상품”이란 다음 각 호의 어느 하나에 해당하는 계약상의 권리를 말한다. 다만, 해당\\n금융투자상품의 유통 가능성, 계약당사자, 발행사유 등을 고려하여 증권으로 규제하는 것이 타당한 것으로서 대통령\\n령으로 정하는 금융투자상품은 그러하지 아니하다. <개정 2013. 5. 28.>\\n1. 기초자산이나 기초자산의 가격ㆍ이자율ㆍ지표ㆍ단위 또는 이를 기초로 하는 지수 등에 의하여 산출된 금전등을\\n장래의 특정 시점에 인도할 것을 약정하는 계약 \\n2. 당사자 어느 한쪽의 의사표시에 의하여 기초자산이나 기초자산의 가격ㆍ이자율ㆍ지표ㆍ단위 또는 이를 기초로\\n하는 지수 등에 의하여 산출된 금전등을 수수하는 거래를 성립시킬 수 있는 권리를 부여하는 것을 약정하는 계약 \\n3. 장래의 일정기간 동안 미리 정한 가격으로 기초자산이나 기초자산의 가격ㆍ이자율ㆍ지표ㆍ단위 또는 이를 기초\\n로 하는 지수 등에 의하여 산출된 금전등을 교환할 것을 약정하는 계약 \\n4. 제1호부터 제3호까지의 규정에 따른 계약과 유사한 것으로서 대통령령으로 정하는 계약\\n② 이 법에서 “장내파생상품”이란 다음 각 호의 어느 하나에 해당하는 것을 말한다.<개정 2013. 5. 28.>\\n1. 파생상품시장에서 거래되는 파생상품\\n2. 해외 파생상품시장(파생상품시장과 유사한 시장으로서 해외에 있는 시장과 대통령령으로 정하는 해외 파생상품\\n거래가 이루어지는 시장을 말한다)에서 거래되는 파생상품 \\n3. 그 밖에 금융투자상품시장을 개설하여 운영하는 자가 정하는 기준과 방법에 따라 금융투자상품시장에서 거래되\\n는 파생상품 \\n③ 이 법에서 “장외파생상품”이란 파생상품으로서 장내파생상품이 아닌 것을 말한다.\\n④ 제1항 각 호의 어느 하나에 해당하는 계약 중 매매계약이 아닌 계약의 체결은 이 법을 적용함에 있어서 매매계\\n약의 체결로 본다.\\n \\n제6조(금융투자업) ① 이 법에서 “금융투자업”이란 이익을 얻을 목적으로 계속적이거나 반복적인 방법으로 행하는 행\\n위로서 다음 각 호의 어느 하나에 해당하는 업(業)을 말한다.\\n1. 투자매매업\\n2. 투자중개업\\n3. 집합투자업\\n4. 투자자문업\\n5. 투자일임업\\n6. 신탁업\\n② 이 법에서 “투자매매업”이란 누구의 명의로 하든지 자기의 계산으로 금융투자상품의 매도ㆍ매수, 증권의 발행ㆍ\\n인수 또는 그 청약의 권유, 청약, 청약의 승낙을 영업으로 하는 것을 말한다.\\n③ 이 법에서 “투자중개업”이란 누구의 명의로 하든지 타인의 계산으로 금융투자상품의 매도ㆍ매수, 그 중개나 청\\n약의 권유, 청약, 청약의 승낙 또는 증권의 발행ㆍ인수에 대한 청약의 권유, 청약, 청약의 승낙을 영업으로 하는 것을\\n말한다.<개정 2013. 5. 28.>\\n④ 이 법에서 “집합투자업”이란 집합투자를 영업으로 하는 것을 말한다.\\n⑤ 제4항에서 “집합투자”란 2인 이상의 투자자로부터 모은 금전등을 투자자로부터 일상적인 운용지시를 받지 아니\\n하면서 재산적 가치가 있는 투자대상자산을 취득ㆍ처분, 그 밖의 방법으로 운용하고 그 결과를 투자자에게 배분하\\n여 귀속시키는 것을 말한다. 다만, 다음 각 호의 어느 하나에 해당하는 경우를 제외한다.<개정 2013. 5. 28., 2018. 3.'"
      ]
     },
     "execution_count": 45,
     "metadata": {},
     "output_type": "execute_result"
    }
   ],
   "source": [
    "pages[2].page_content"
   ]
  },
  {
   "cell_type": "code",
   "execution_count": 46,
   "id": "ade3718e",
   "metadata": {},
   "outputs": [],
   "source": [
    "def parse_law(law_text):\n",
    "    # 서문 분리\n",
    "    # '^'로 시작하여 '제1장' 또는 '제1조' 직전까지의 모든 텍스트를 탐색 \n",
    "    preamble_pattern = r'^(.*?)(?=제1장|제1조)'\n",
    "    preamble = re.search(preamble_pattern, law_text, re.DOTALL)\n",
    "    if preamble:\n",
    "        preamble = preamble.group(1).strip()\n",
    "    \n",
    "    # 장 분리 \n",
    "    # '제X장' 형식의 제목과 그 뒤에 오는 모든 조항을 하나의 그룹화 \n",
    "    chapter_pattern = r'(제\\d+장\\s+.+?)\\n((?:제\\d+조(?:의\\d+)?(?:\\(\\w+\\))?.*?)(?=제\\d+장|부칙|$))'\n",
    "    chapters = re.findall(chapter_pattern, law_text, re.DOTALL)\n",
    "    \n",
    "    # 부칙 분리\n",
    "    # '부칙'으로 시작하는 모든 텍스트를 탐색 \n",
    "    appendix_pattern = r'(부칙.*)'\n",
    "    appendix = re.search(appendix_pattern, law_text, re.DOTALL)\n",
    "    if appendix:\n",
    "        appendix = appendix.group(1)\n",
    "    \n",
    "    # 파싱 결과를 저장할 딕셔너리 초기화\n",
    "    parsed_law = {'서문': preamble, '장': {}, '부칙': appendix}\n",
    "    \n",
    "    # 각 장 내에서 조 분리\n",
    "    for chapter_title, chapter_content in chapters:\n",
    "        # 조 분리 패턴\n",
    "        # 1. '제X조'로 시작 ('제X조의Y' 형식도 가능)\n",
    "        # 2. 조 번호 뒤에 반드시 '(항목명)' 형식의 제목이 와야 함 \n",
    "        # 3. 다음 조가 시작되기 전까지 또는 문서의 끝까지의 모든 내용을 포함\n",
    "        article_pattern = r'(제\\d+조(?:의\\d+)?\\s*\\([^)]+\\).*?)(?=제\\d+조(?:의\\d+)?\\s*\\([^)]+\\)|$)'\n",
    "        \n",
    "        # 정규표현식을 이용해 모든 조항을 탐색 \n",
    "        articles = re.findall(article_pattern, chapter_content, re.DOTALL)\n",
    "        \n",
    "        # 각 조항의 앞뒤 공백을 제거하고 결과 딕셔너리에 저장\n",
    "        parsed_law['장'][chapter_title.strip()] = [article.strip() for article in articles]\n",
    "    \n",
    "    return parsed_law\n",
    "\n"
   ]
  },
  {
   "cell_type": "code",
   "execution_count": 47,
   "id": "969f6a76",
   "metadata": {},
   "outputs": [
    {
     "name": "stdout",
     "output_type": "stream",
     "text": [
      "40\n"
     ]
    }
   ],
   "source": [
    "# 각 페이지의 텍스트를 결합하여 재분리\n",
    "text_for_delete = r\"법제처\\s+\\d+\\s+국가법령정보센터\\n자본시장과 금융투자업에 관한 법률 시행령\"\n",
    "\n",
    "law_text = \"\\n\".join([re.sub(text_for_delete, \"\", p.page_content).strip() for p in pages])\n",
    "\n",
    "parsed_law = parse_law(law_text)\n",
    "\n",
    "# 분할된 아이템 갯수 확인\n",
    "print(len(parsed_law[\"장\"]))"
   ]
  },
  {
   "cell_type": "code",
   "execution_count": 48,
   "id": "caf7d1e2",
   "metadata": {},
   "outputs": [
    {
     "data": {
      "text/plain": [
       "{'서문': '법제처                                                            1                                                       국가법령정보센터\\n자본시장과 금융투자업에 관한 법률 \\n \\n자본시장과 금융투자업에 관한 법률 ( 약칭: 자본시장법 ) \\n[시행 2024. 8. 14.] [법률 제20305호, 2024. 2. 13., 일부개정] \\n금융위원회 (자본시장과-투자매매중개업, 증권발행) 02-2100-2652 \\n금융위원회 (자본시장과-파생상품) 02-2100-2654 \\n금융위원회 (자산운용과-집합투자, 신탁, 투자일임, 투자자문) 02-2100-2661 \\n금융위원회 (공정시장과-사업보고서, 상장회사특례, 불공정거래) 02-2100-2688 \\n     제1편 총칙',\n",
       " '장': {'제1장 금융투자업의 인가 및 등록\\n         제1절 인가요건 및 절차': ['제11조(무인가 영업행위 금지) 누구든지 이 법에 따른 금융투자업인가(변경인가를 포함한다)를 받지 아니하고는 금융\\n투자업(투자자문업, 투자일임업 및 일반 사모집합투자업은 제외한다. 이하 이 절에서 같다)을 영위하여서는 아니 된\\n다. <개정 2015. 7. 24., 2021. 4. 20.>',\n",
       "   '제11조의2(알선ㆍ중개행위 금지) 누구든지 제11조에 따른 무인가 영업행위를 목적으로 계좌의 대여를 알선하거나 중\\n개하여서는 아니 된다.\\n[본조신설 2021. 6. 8.]',\n",
       "   '제12조(금융투자업의 인가) ① 금융투자업을 영위하려는 자는 다음 각 호의 사항을 구성요소로 하여 대통령령으로 정\\n하는 업무 단위(이하 “인가업무 단위”라 한다)의 전부나 일부를 선택하여 금융위원회로부터 하나의 금융투자업인가\\n를 받아야 한다. <개정 2008. 2. 29.>\\n1. 금융투자업의 종류(투자매매업, 투자중개업, 집합투자업 및 신탁업을 말하되, 투자매매업 중 인수업을 포함한다)\\n2. 금융투자상품(집합투자업의 경우에는 제229조에 따른 집합투자기구의 종류를 말하며, 신탁업의 경우에는 제\\n103조제1항 각 호의 신탁재산을 말한다)의 범위(증권, 장내파생상품 및 장외파생상품을 말하되, 증권 중 국채증권 \\n, 사채권, 그 밖에 대통령령으로 정하는 것을 포함하고 파생상품 중 주권을 기초자산으로 하는 파생상품ㆍ그 밖에 \\n대통령령으로 정하는 것을 포함한다) \\n3. 투자자의 유형(전문투자자 및 일반투자자를 말한다. 이하 같다)\\n② 제1항에 따라 금융투자업인가를 받으려는 자는 다음 각 호의 요건을 모두 갖추어야 한다.<개정 2010. 3. 12.,\\n2013. 5. 28., 2015. 7. 31.>\\n1. 다음 각 목의 어느 하나에 해당하는 자일 것\\n가. 「상법」에 따른 주식회사이거나 대통령령으로 정하는 금융기관 \\n나. 외국 금융투자업자(외국 법령에 따라 외국에서 금융투자업에 상당하는 영업을 영위하는 자를 말한다. 이하 같 \\n다)로서 외국에서 영위하고 있는 영업에 상당하는 금융투자업 수행에 필요한 지점, 그 밖의 영업소를 설치한 \\n자 \\n2. 인가업무 단위별로 5억원 이상으로서 대통령령으로 정하는 금액 이상의 자기자본을 갖출 것\\n3. 사업계획이 타당하고 건전할 것\\n4. 투자자의 보호가 가능하고 그 영위하고자 하는 금융투자업을 수행하기에 충분한 인력과 전산설비, 그 밖의 물적\\n설비를 갖출 것 \\n5. 임원이 「금융회사의 지배구조에 관한 법률」 제5조에 적합할 것\\n6. 대주주나 외국 금융투자업자가 다음 각 목의 구분에 따른 요건을 갖출 것\\n가. 제1호가목의 경우 대주주(최대주주의 특수관계인인 주주를 포함하며, 최대주주가 법인인 경우 그 법인의 중 \\n요한 경영사항에 대하여 사실상 영향력을 행사하고 있는 자로서 대통령령으로 정하는 자를 포함한다)가 충분 \\n한 출자능력, 건전한 재무상태 및 사회적 신용을 갖출 것 \\n나. 제1호나목의 경우 외국 금융투자업자가 충분한 출자능력, 건전한 재무상태 및 사회적 신용을 갖출 것 \\n6의2. 대통령령으로 정하는 건전한 재무상태와 사회적 신용을 갖출 것\\n7. 금융투자업자와 투자자 간, 특정 투자자와 다른 투자자 간의 이해상충(利害相衝)을 방지하기 위한 체계를 갖출\\n것 \\n③ 제2항의 인가요건에 관하여 필요한 세부사항은 대통령령으로 정한다.',\n",
       "   '제13조(인가의 신청 및 심사) ① 제12조제1항에 따른 금융투자업인가를 받으려는 자는 인가신청서를 금융위원회에 제\\n출하여야 한다. <개정 2008. 2. 29.>\\n법제처                                                            10                                                       국가법령정보센터\\n자본시장과 금융투자업에 관한 법률 \\n② 금융위원회는 제1항의 인가신청서를 접수한 경우에는 그 내용을 심사하여 3개월(제14조에 따른 예비인가를 받\\n은 경우에는 1개월) 이내에 금융투자업인가 여부를 결정하고, 그 결과와 이유를 지체 없이 신청인에게 문서로 통지\\n하여야 한다. 이 경우 인가신청서에 흠결(欠缺)이 있는 때에는 보완을 요구할 수 있다.<개정 2008. 2. 29.>\\n③ 제2항 및 제5항 후단의 심사기간을 산정함에 있어서 인가신청서 흠결의 보완기간 등 총리령으로 정하는 기간은\\n심사기간에 산입(算入)하지 아니한다.<개정 2008. 2. 29., 2013. 5. 28.>\\n④ 금융위원회는 제2항에 따라 금융투자업인가를 하는 경우에는 경영의 건전성 확보 및 투자자 보호에 필요한 조건\\n을 붙일 수 있다.<개정 2008. 2. 29.>\\n⑤ 제4항에 따라 조건이 붙은 금융투자업인가를 받은 자는 사정의 변경, 그 밖에 정당한 사유가 있는 경우에는 금융\\n위원회에 조건의 취소 또는 변경을 신청할 수 있다. 이 경우 금융위원회는 2개월 이내에 조건의 취소 또는 변경 여\\n부를 결정하고, 그 결과를 지체 없이 신청인에게 문서로 통지하여야 한다.<개정 2008. 2. 29.>\\n⑥ 금융위원회는 제2항에 따라 금융투자업인가를 하거나 제5항에 따라 그 인가의 조건을 취소 또는 변경한 경우에\\n는 다음 각 호의 사항을 관보 및 인터넷 홈페이지 등에 공고하여야 한다.<개정 2008. 2. 29.>\\n1. 금융투자업인가의 내용\\n2. 금융투자업인가의 조건(조건을 붙인 경우에 한한다)\\n3. 금융투자업인가의 조건을 취소하거나 변경한 경우 그 내용(조건을 취소하거나 변경한 경우에 한한다)\\n⑦ 제1항부터 제6항까지의 규정에 따른 인가신청서 또는 조건의 취소ㆍ변경 신청서의 기재사항ㆍ첨부서류 등 인가\\n신청 또는 조건의 취소ㆍ변경의 신청에 관한 사항과 심사의 방법ㆍ절차, 그 밖에 필요한 사항은 대통령령으로 정한\\n다.<개정 2013. 5. 28.>',\n",
       "   '제14조(예비인가) ① 제12조에 따른 금융투자업인가(이하 이 조에서 “본인가”라 한다)를 받으려는 자는 미리 금융위원\\n회에 예비인가를 신청할 수 있다. <개정 2008. 2. 29.>\\n② 금융위원회는 예비인가를 신청받은 경우에는 2개월 이내에 제12조제2항 각 호의 요건을 갖출 수 있는지 여부를\\n심사하여 예비인가 여부를 결정하고, 그 결과와 이유를 지체 없이 신청인에게 문서로 통지하여야 한다. 이 경우 예\\n비인가신청에 관하여 흠결이 있는 때에는 보완을 요구할 수 있다.<개정 2008. 2. 29.>\\n③ 제2항의 심사기간을 산정함에 있어서 예비인가신청과 관련된 흠결의 보완기간 등 총리령으로 정하는 기간은 심\\n사기간에 산입하지 아니한다.<개정 2008. 2. 29.>\\n④ 금융위원회는 제2항에 따라 예비인가를 하는 경우에는 경영의 건전성 확보 및 투자자 보호에 필요한 조건을 붙\\n일 수 있다.<개정 2008. 2. 29.>\\n⑤ 금융위원회는 예비인가를 받은 자가 본인가를 신청하는 경우에는 제4항에 따른 예비인가의 조건을 이행하였는\\n지 여부와 제12조제2항 각 호의 요건을 갖추었는지 여부를 확인한 후 본인가 여부를 결정하여야 한다.<개정 2008.\\n2. 29.>\\n⑥ 제1항부터 제5항까지의 규정에 따른 예비인가의 신청서 및 그 기재사항ㆍ첨부서류 등 예비인가의 신청에 관한\\n사항과 예비인가심사의 방법ㆍ절차, 그 밖에 예비인가에 관하여 필요한 사항은 대통령령으로 정한다.',\n",
       "   '제15조(인가요건 등의 유지) ① 금융투자업자는 제12조에 따른 금융투자업인가를 받아 그 영업을 영위함에 있어서 제\\n12조제2항 각 호의 인가요건(같은 조 같은 항 제6호가목 및 같은 항 제6호의2를 제외하며, 같은 항 제2호 및 같은 항\\n제6호나목의 경우에는 대통령령으로 정하는 완화된 요건을 말한다)을 유지하여야 한다. <개정 2010. 3. 12., 2015. 7.\\n31., 2021. 6. 8.>\\n② 제16조의2에 따라 업무 단위 추가등록을 한 투자매매업자 또는 투자중개업자는 업무 단위 추가등록 이후 그 영\\n업을 영위할 때에는 제12조제2항 각 호의 요건(같은 항 제3호, 제6호 및 제6호의2는 제외하며, 같은 항 제2호의 경\\n우에는 대통령령으로 정하는 완화된 요건을 말한다)을 유지하여야 한다.<신설 2021. 6. 8.>\\n[제목개정 2021. 6. 8.]',\n",
       "   '제16조(업무의 추가 및 인가의 변경) ① 금융투자업자는 제12조에 따라 인가받은 인가업무 단위 외에 다른 인가업무 단\\n위를 추가하여 금융투자업을 영위하려는 경우에는 제12조 및 제13조에 따라 금융위원회의 변경인가를 받아야 한다.\\n법제처                                                            11                                                       국가법령정보센터\\n자본시장과 금융투자업에 관한 법률 \\n이 경우 제14조를 적용한다. <개정 2008. 2. 29., 2009. 2. 3.>\\n② 제1항에 따른 변경인가를 함에 있어서 제12조제2항제6호의 인가요건에 관하여는 같은 호에도 불구하고 대통령\\n령으로 정하는 완화된 요건을 적용한다.<신설 2010. 3. 12.>',\n",
       "   '제16조의2(투자매매업 등의 업무 단위 추가 및 등록) ① 제12조에 따라 금융투자업인가를 받은 투자매매업자 또는 투\\n자중개업자(겸영금융투자업자는 제외한다)가 같은 금융투자업의 종류에 속하는 금융투자상품을 구성요소로 하여 대\\n통령령으로 정하는 업무 단위를 추가하여 금융투자업을 영위하려는 경우에는 제12조제1항에도 불구하고 금융위원\\n회에 이를 등록(이하 “업무 단위 추가등록”이라 한다)하여야 한다.\\n② 제1항에 따라 업무 단위 추가등록을 하려는 금융투자업자는 제12조제2항 각 호의 요건(같은 항 제3호 및 제6호\\n는 제외한다)을 갖추어 금융위원회에 등록신청서를 제출하여야 한다.\\n③ 금융위원회는 제2항의 등록신청서를 접수한 경우에는 그 내용을 검토하여 2개월 이내에 업무 단위 추가등록 여\\n부를 결정하고, 그 결과와 이유를 지체 없이 신청인에게 문서로 통지하여야 한다. 이 경우 등록신청서에 흠결이 있\\n는 때에는 보완을 요구할 수 있다.\\n④ 금융위원회는 제3항에 따라 업무 단위 추가등록 여부를 결정하는 경우 다음 각 호의 어느 하나에 해당하는 사유\\n가 없으면 등록을 거부하여서는 아니 된다.\\n1. 제2항에 따른 업무 단위 추가등록 요건을 갖추지 아니한 경우\\n2. 제2항에 따른 등록신청서를 거짓으로 작성한 경우\\n3. 제3항 후단에 따른 보완요구를 이행하지 아니한 경우\\n⑤ 금융위원회는 제3항에 따라 업무 단위 추가등록을 결정하는 경우 경영의 건전성 확보 및 투자자 보호에 필요한\\n조건을 붙일 수 있다.\\n⑥ 제5항에 따라 조건이 붙은 업무 단위 추가등록을 한 자는 사정의 변경, 그 밖의 정당한 사유가 있는 경우에는 금\\n융위원회에 조건의 취소 또는 변경을 신청할 수 있다. 이 경우 금융위원회는 그 내용을 심사하여 2개월 이내에 조건\\n의 취소 또는 변경 여부를 결정하고, 그 결과를 지체 없이 신청인에게 문서로 통지하여야 한다.\\n⑦ 제3항의 검토기간 및 제6항의 심사기간을 산정할 때에는 등록신청서 흠결의 보완기간 등 총리령으로 정하는 기\\n간은 그 기간에서 제외한다.\\n⑧ 금융위원회는 제3항에 따라 업무 단위 추가등록을 결정하거나 제6항에 따라 그 등록의 조건을 취소 또는 변경한\\n경우에는 투자매매업자등록부 또는 투자중개업자등록부에 필요한 사항을 기재하여야 하며, 다음 각 호의 사항을 관\\n보 및 인터넷 홈페이지 등에 공고하여야 한다.\\n1. 업무 단위 추가등록의 내용\\n2. 업무 단위 추가등록의 조건(조건을 붙인 경우에 한정한다)\\n3. 업무 단위 추가등록의 조건을 취소하거나 변경한 경우 그 내용(조건을 취소하거나 변경한 경우에 한정한다)\\n⑨ 제3항부터 제8항까지의 규정에 따른 업무 단위 추가등록의 신청 또는 조건의 취소ㆍ변경의 신청에 관한 사항과\\n등록검토 또는 조건의 취소ㆍ변경 심사의 방법ㆍ절차, 그 밖에 필요한 사항은 대통령령으로 정한다.\\n⑩ 제1항에 따라 업무 단위 추가등록을 한 자는 제16조제1항에 따른 변경인가를 받은 것으로 본다.\\n[본조신설 2021. 6. 8.]',\n",
       "   '제16조의3(외국 금융투자업자의 조직형태 변경에 따른 인가에 관한 특례) 제12조제2항제1호 각 목에 따라 금융투자업\\n인가를 받은 외국 금융투자업자 또는 대통령령으로 정하는 외국 금융투자업자의 국내법인이 대통령령으로 정하는\\n조직형태 변경을 통하여 금융투자업 전부(이에 준하는 경우를 포함한다)를 양도하는 경우로서 영업을 양수하는 자가\\n제12조에 따른 금융투자업인가를 받아야 하는 경우에는 대통령령으로 정하는 바에 따라 제12조제2항제3호ㆍ제4호\\n및 제6호의 요건 중 전부 또는 일부를 갖춘 것으로 본다.\\n[본조신설 2021. 6. 8.]\\n법제처                                                            12                                                       국가법령정보센터\\n자본시장과 금융투자업에 관한 법률 \\n         제2절 등록요건 및 절차',\n",
       "   '제17조(미등록 영업행위의 금지) 누구든지 이 법에 따른 금융투자업등록(변경등록을 포함한다)을 하지 아니하고는 투\\n자자문업 또는 투자일임업을 영위하여서는 아니 된다.',\n",
       "   '제18조(투자자문업 또는 투자일임업의 등록) ① 투자자문업 또는 투자일임업을 영위하려는 자는 다음 각 호의 사항을\\n구성요소로 하여 대통령령으로 정하는 업무 단위(이하 “등록업무 단위”라 한다)의 전부나 일부를 선택하여 금융위원\\n회에 하나의 금융투자업등록을 하여야 한다. <개정 2008. 2. 29., 2013. 5. 28.>\\n1. 투자자문업 또는 투자일임업\\n2. 금융투자상품등의 범위(증권, 장내파생상품, 장외파생상품 및 그 밖에 대통령령으로 정하는 투자대상자산을 말한\\n다) \\n3. 투자자의 유형\\n② 제1항에 따라 금융투자업등록을 하려는 자는 다음 각 호의 요건을 모두 갖추어야 한다.<개정 2010. 3. 12., 2011.\\n8. 4., 2013. 5. 28., 2015. 7. 31.>\\n1. 다음 각 목의 어느 하나에 해당하는 자일 것. 다만, 외국 투자자문업자(외국 법령에 따라 외국에서 투자자문업에\\n상당하는 영업을 영위하는 자를 말한다. 이하 같다) 또는 외국 투자일임업자(외국 법령에 따라 외국에서 투자일임 \\n업에 상당하는 영업을 영위하는 자를 말한다. 이하 같다)가 외국에서 국내 거주자를 상대로 직접 영업을 하거나 \\n통신수단을 이용하여 투자자문업 또는 투자일임업을 영위하는 경우에는 적용하지 아니한다. \\n가. 「상법」에 따른 주식회사이거나 대통령령으로 정하는 금융기관 \\n나. 외국 투자자문업자로서 투자자문업의 수행에 필요한 지점, 그 밖의 영업소를 설치한 자 \\n다. 외국 투자일임업자로서 투자일임업의 수행에 필요한 지점, 그 밖의 영업소를 설치한 자 \\n2. 등록업무 단위별로 1억원 이상으로서 대통령령으로 정하는 금액 이상의 자기자본을 갖출 것\\n3. 다음 각 목의 구분에 따른 투자권유자문인력(제286조제1항제3호가목에 따른 투자권유자문인력을 말한다. 이하\\n같다) 또는 투자운용인력(제286조제1항제3호다목에 따른 투자운용인력을 말한다. 이하 같다)을 갖출 것. 이 경우 \\n제1호 각 목 외의 부분 단서에 규정된 자가 해당 국가에서 투자권유자문인력 또는 투자운용인력에 상당하는 자를 \\n다음 각 목의 수 이상 확보하고 있는 때에는 해당 요건을 갖춘 것으로 본다. \\n가. 투자자문업의 경우에는 투자권유자문인력을 대통령령으로 정하는 수 이상 갖출 것 \\n나. 투자일임업의 경우에는 투자운용인력을 대통령령으로 정하는 수 이상 갖출 것 \\n4. 임원이 「금융회사의 지배구조에 관한 법률」 제5조에 적합할 것\\n5. 대주주나 외국 투자자문업자 또는 외국 투자일임업자가 다음 각 목의 구분에 따른 요건을 갖출 것\\n가. 제1호가목의 경우 대주주(제12조제2항제6호가목의 대주주를 말한다)가 대통령령으로 정하는 사회적 신용을 \\n갖출 것 \\n나. 제1호 각 목 외의 부분 단서 및 같은 호 나목ㆍ다목의 경우 외국 투자자문업자 또는 외국 투자일임업자가 대 \\n통령령으로 정하는 사회적 신용을 갖출 것 \\n5의2. 대통령령으로 정하는 건전한 재무상태와 사회적 신용을 갖출 것\\n6. 금융투자업자와 투자자 간, 특정 투자자와 다른 투자자 간의 이해상충을 방지하기 위한 체계로서 대통령령으로\\n정하는 요건을 갖출 것',\n",
       "   '제19조(등록의 신청 등) ① 제18조에 따른 금융투자업등록을 하려는 자는 등록신청서를 금융위원회에 제출하여야 한다\\n. <개정 2008. 2. 29.>\\n② 금융위원회는 제1항의 등록신청서를 접수한 경우에는 그 내용을 검토하여 2개월 이내에 금융투자업등록 여부를\\n결정하고, 그 결과와 이유를 지체 없이 신청인에게 문서로 통지하여야 한다. 이 경우 등록신청서에 흠결이 있는 때\\n에는 보완을 요구할 수 있다.<개정 2008. 2. 29.>\\n③ 제2항의 검토기간을 산정함에 있어서 등록신청서 흠결의 보완기간 등 총리령으로 정하는 기간은 검토기간에 산\\n입하지 아니한다.<개정 2008. 2. 29.>\\n법제처                                                            13                                                       국가법령정보센터\\n자본시장과 금융투자업에 관한 법률 \\n④ 금융위원회는 제2항의 금융투자업등록 여부를 결정함에 있어서 다음 각 호의 어느 하나에 해당하는 사유가 없는\\n한 등록을 거부하여서는 아니 된다.<개정 2008. 2. 29.>\\n1. 제18조제2항의 금융투자업등록요건을 갖추지 아니한 경우\\n2. 제1항의 등록신청서를 거짓으로 작성한 경우\\n3. 제2항 후단의 보완요구를 이행하지 아니한 경우\\n⑤ 금융위원회는 제2항에 따라 금융투자업등록을 결정한 경우 투자자문업자등록부 또는 투자일임업자등록부에 필\\n요한 사항을 기재하여야 하며, 등록결정한 내용을 관보 및 인터넷 홈페이지 등에 공고하여야 한다.<개정 2008. 2.\\n29.>\\n⑥ 제1항부터 제5항까지의 규정에 따른 등록신청서의 기재사항ㆍ첨부서류 등 등록의 신청에 관한 사항과 등록검토\\n의 방법ㆍ절차, 그 밖에 필요한 사항은 대통령령으로 정한다.',\n",
       "   '제20조(등록요건의 유지) 투자자문업자 또는 투자일임업자는 금융투자업등록 이후 그 영업을 영위함에 있어서 제18조\\n제2항 각 호의 등록요건(같은 조 같은 항 제5호의2를 제외하며, 같은 항 제2호 및 제5호의 경우에는 대통령령으로 정\\n하는 완화된 요건을 말한다)을 유지하여야 한다. <개정 2010. 3. 12.>',\n",
       "   '제20조의2(등록의 직권말소) ① 금융위원회는 투자자문업자, 투자일임업자 및 일반 사모집합투자업자가 다음 각 호의\\n어느 하나에 해당하는 경우에는 그 등록을 직권으로 말소할 수 있다.\\n1. 해당 등록업무 단위별 최저자기자본의 100분의 70 이상을 6개월 이상 계속해서 유지하지 아니한 경우\\n2. 등록을 한 날부터 6개월(일반 사모집합투자업자의 경우에는 1년) 이내에 정당한 사유 없이 영업을 시작하지 아니\\n하거나, 영업을 시작한 후 정당한 사유 없이 등록한 업무를 6개월 이상 계속해서 하지 아니한 경우 \\n3. 해당 등록업무 단위별 투자권유자문인력 또는 투자운용인력 요건을 6개월 이상 계속해서 유지하지 아니한 경우\\n4. 월별 업무보고서를 6개월 이상 계속 제출하지 아니하고, 금융위원회로부터 그 보고서 제출요구를 받은 날부터\\n1개월 이내에 이를 제출하지 아니한 경우 \\n5. 관할 세무서장에게 폐업신고를 하거나 관할 세무서장이 사업자등록을 말소한 경우\\n6. 파산선고를 받은 경우\\n② 금융위원회는 제1항의 등록 말소를 위하여 관할 세무서장에게 영업자의 폐업 여부에 관한 정보를 요청할 수 있\\n다. 이 경우 관할 세무서장은 그 정보를 제공하여야 한다.\\n[본조신설 2021. 4. 20.]',\n",
       "   '제21조(업무의 추가 및 변경등록) ① 금융투자업자는 제18조에 따라 등록한 등록업무 단위 외에 다른 등록업무 단위를\\n추가하여 금융투자업을 영위하려는 경우에는 제18조 및 제19조에 따라 금융위원회에 변경등록하여야 한다. <개정\\n2008. 2. 29.>\\n② 제1항에 따른 변경등록을 함에 있어서 제18조제2항제5호의 등록요건에 관하여는 같은 호에도 불구하고 대통령\\n령으로 정하는 완화된 요건을 적용한다.<신설 2010. 3. 12.>'],\n",
       "  '제2장 금융투자업자의 지배구조': ['제28조의2(파생상품업무책임자) ① 자산규모 및 금융투자업의 종류 등을 고려하여 대통령령으로 정하는 금융투자업자\\n(겸영금융투자업자를 포함한다)는 상근 임원(「상법」 제401조의2제1항 각 호의 자를 포함한다)으로서 대통령령으로\\n정하는 파생상품업무책임자를 1인 이상 두어야 한다. <개정 2015. 7. 31., 2016. 3. 29.>\\n② 제1항의 파생상품업무책임자는 다음 각 호의 업무를 수행한다.\\n1. 파생상품 투자자보호에 필요한 절차나 기준의 수립 및 집행에 관한 관리ㆍ감독업무\\n2. 장외파생상품 매매에 대한 승인 업무\\n3. 그 밖에 대통령령으로 정하는 업무\\n[본조신설 2009. 2. 3.]\\n \\n제29조 삭제 <2015. 7. 31.>'],\n",
       "  '제3장 건전경영 유지\\n         제1절 경영건전성 감독': ['제30조(재무건전성 유지) ① 금융투자업자(겸영금융투자업자, 그 밖에 대통령령으로 정하는 금융투자업자를 제외한다.\\n이하 이 조에서 같다)는 제1호의 합계액에서 제2호의 합계액을 뺀 금액(이하 “영업용순자본”이라 한다)을 금융투자\\n업자의 자산 및 부채에 내재하거나 업무에 수반되는 위험을 금액으로 환산하여 합계한 금액(이하 “총위험액”이라 한\\n다) 이상으로 유지하여야 한다. <개정 2008. 2. 29.>\\n1. 자본금ㆍ준비금, 그 밖에 총리령으로 정하는 금액\\n2. 고정자산, 그 밖에 단기간 내에 유동화가 어려운 자산으로서 총리령으로 정하는 자산\\n② 제1항의 영업용순자본과 총위험액의 산정에 관한 구체적인 기준 및 방법은 금융위원회가 정하여 고시한다.<개\\n정 2008. 2. 29.>\\n③ 금융투자업자는 매 분기의 말일을 기준으로 영업용순자본에서 총위험액을 뺀 금액을 기재한 서면을 해당 분기\\n의 말일부터 45일 이내로서 대통령령으로 정하는 기간 이내에 금융위원회에 보고하여야 하며, 보고기간 종료일부\\n터 3개월간 본점과 지점, 그 밖의 영업소에 비치하고, 인터넷 홈페이지 등을 이용하여 공시하여야 한다.<개정 2008.\\n2. 29.>',\n",
       "   '제31조(경영건전성기준) ① 금융투자업자(겸영금융투자업자를 제외한다. 이하 이 절에서 같다)는 경영의 건전성을 유지\\n하기 위하여 다음 각 호의 사항에 관하여 금융위원회가 정하여 고시하는 경영건전성기준을 준수하여야 하며, 이를\\n위한 적절한 체계를 구축ㆍ시행하여야 한다. <개정 2008. 2. 29.>\\n1. 자기자본비율, 그 밖의 자본의 적정성에 관한 사항\\n2. 자산의 건전성에 관한 사항\\n3. 유동성에 관한 사항\\n4. 그 밖에 경영의 건전성 확보를 위하여 필요한 사항으로서 대통령령으로 정하는 사항\\n② 금융위원회는 제1항에 따른 경영건전성기준을 정함에 있어서 금융투자업자가 영위하는 금융투자업의 종류 등을\\n고려하여 금융투자업별로 그 내용을 달리 정할 수 있다.<개정 2008. 2. 29.>\\n③ 금융위원회는 금융투자업자의 경영건전성 확보를 위한 경영실태 및 위험에 대한 평가를 할 수 있다. 다만, 자산\\n규모 등을 고려하여 대통령령으로 정하는 금융투자업자에 대하여는 평가를 실시하여야 한다.<개정 2008. 2. 29.,\\n2009. 2. 3.>\\n④ 금융위원회는 금융투자업자가 제1항 및 제2항의 기준을 충족하지 못하거나 제30조제1항 및 제2항을 위반한 경\\n우에는 금융투자업자에 대하여 자본금의 증액, 이익배당의 제한 등 경영건전성 확보를 위한 필요한 조치를 명할 수\\n법제처                                                            15                                                       국가법령정보센터\\n자본시장과 금융투자업에 관한 법률 \\n있다.<개정 2008. 2. 29.>',\n",
       "   '제32조(회계처리) ① 금융투자업자는 다음 각 호에 따라 회계처리를 하여야 한다. <개정 2008. 2. 29., 2009. 2. 3., 2017.\\n10. 31.>\\n1. 회계연도를 금융투자업별로 총리령으로 정하는 기간으로 할 것\\n2. 금융투자업자의 고유재산과 신탁재산, 그 밖에 총리령으로 정하는 투자자재산을 명확히 구분하여 회계처리할 것\\n3. 증권선물위원회의 심의를 거쳐 금융위원회가 정하여 고시하는 금융투자업자 회계처리준칙 및 「주식회사 등의\\n외부감사에 관한 법률」 제5조에 따른 회계처리기준을 따를 것 \\n② 금융투자업자의 고유재산의 회계처리에 관한 사항으로서 제1항에서 정하지 아니한 회계처리, 계정과목의 종류\\n와 배열순서, 그 밖에 필요한 사항은 금융위원회가 정하여 고시한다.<개정 2008. 2. 29.>',\n",
       "   '제33조(업무보고서 및 공시 등) ① 금융투자업자는 매 사업연도 개시일부터 3개월간ㆍ6개월간ㆍ9개월간 및 12개월간\\n의 업무보고서를 작성하여 그 기간 경과 후 45일 이내로서 대통령령으로 정하는 기간 이내에 금융위원회에 제출하\\n여야 한다. <개정 2008. 2. 29.>\\n② 금융투자업자는 제1항에 따른 업무보고서를 금융위원회에 제출한 날부터 그 업무보고서 중 중요사항을 발췌한\\n공시서류를 1년간 본점과 지점, 그 밖의 영업소에 이를 비치하고, 인터넷 홈페이지 등을 이용하여 공시하여야 한다.\\n<개정 2008. 2. 29.>\\n③ 금융투자업자는 거액의 금융사고 또는 부실채권의 발생 등 금융투자업자의 경영상황에 중대한 영향을 미칠 사\\n항으로서 금융투자업의 종류별로 대통령령으로 정하는 사항이 발생한 경우에는 금융위원회에 보고하고, 인터넷 홈\\n페이지 등을 이용하여 공시하여야 한다.<개정 2008. 2. 29., 2009. 2. 3.>\\n④ 금융투자업자는 제1항에 따른 업무보고서 외에 매월의 업무 내용을 적은 보고서를 다음 달 말일까지 금융위원회\\n에 제출하여야 한다.<신설 2009. 2. 3.>\\n⑤ 제1항에 따른 업무보고서, 제2항에 따른 공시서류의 기재사항 및 제3항에 따른 경영상황 공시, 제4항에 따른 보\\n고서, 그 밖에 필요한 사항은 대통령령으로 정한다.<개정 2009. 2. 3.>\\n[제목개정 2009. 2. 3.]\\n \\n         제2절 대주주와의 거래제한 등',\n",
       "   '제34조(대주주와의 거래 등의 제한) ① 금융투자업자(겸영금융투자업자는 제외한다. 이하 이 절에서 같다)는 다음 각 호\\n의 어느 하나에 해당하는 행위를 하여서는 아니 된다. 다만, 담보권의 실행 등 권리행사에 필요한 경우, 제176조제\\n3항제1호에 따른 안정조작 또는 같은 항 제2호에 따른 시장조성을 하는 경우, 그 밖에 금융투자업자의 건전성을 해\\n치지 아니하는 범위에서 금융투자업의 효율적 수행을 위하여 대통령령으로 정하는 경우에는 그러하지 아니하며, 이\\n경우 금융위원회는 다음 각 호별로 그 소유기한 등을 정하여 고시할 수 있다. <개정 2009. 2. 3.>\\n1. 그 금융투자업자의 대주주가 발행한 증권을 소유하는 행위\\n2. 그 금융투자업자의 특수관계인(금융투자업자의 대주주를 제외한다) 중 대통령령으로 정하는 자가 발행한 주식,\\n채권 및 약속어음(기업이 사업에 필요한 자금을 조달하기 위하여 발행한 것에 한한다)을 소유하는 행위. 다만, 대 \\n통령령으로 정하는 비율의 범위에서 소유하는 경우를 제외한다. \\n3. 그 밖에 금융투자업자의 건전한 자산운용을 해할 우려가 있는 행위로서 대통령령으로 정하는 행위\\n② 금융투자업자는 대주주(그의 특수관계인을 포함한다. 이하 이 조에서 같다)에 대하여 신용공여(금전ㆍ증권 등 경\\n제적 가치가 있는 재산의 대여, 채무이행의 보증, 자금 지원적 성격의 증권의 매입, 그 밖에 거래상의 신용위험을 수\\n반하는 직접적ㆍ간접적 거래로서 대통령령으로 정하는 거래를 말한다. 이하 이 절에서 같다)를 하여서는 아니 되며,\\n대주주는 그 금융투자업자로부터 신용공여를 받아서는 아니 된다. 다만, 대주주에 대한 신용공여가 다음 각 호의 어\\n느 하나에 해당하는 경우에는 이를 할 수 있다.<개정 2020. 12. 29.>\\n1. 임원에 대하여 연간 급여액(근속기간 중에 그 금융투자업자로부터 지급된 소득세 과세대상이 되는 급여액을 말\\n한다)과 대통령령으로 정하는 금액 중 적은 금액의 범위에서 하는 신용공여\\n법제처                                                            16                                                       국가법령정보센터\\n자본시장과 금융투자업에 관한 법률 \\n2. 금융투자업자가 발행주식총수 또는 출자총액의 100분의 50 이상을 소유 또는 출자하거나 대통령령으로 정하는\\n기준에 의하여 사실상 경영을 지배하는 해외현지법인에 대한 신용공여 \\n3. 그 밖에 금융투자업자의 건전성을 해할 우려가 없는 신용공여로서 대통령령으로 정하는 신용공여\\n③ 금융투자업자는 제1항제2호 단서 또는 제2항 단서에 해당하는 행위(대통령령으로 정하는 행위를 제외한다)를 하\\n고자 하는 경우에는 미리 이사회 결의를 거쳐야 한다. 이 경우 이사회 결의는 재적이사 전원의 찬성으로 한다.\\n④ 금융투자업자는 제1항제2호 단서 또는 제2항 단서에 해당하는 행위(대통령령으로 정하는 행위를 제외한다)를 한\\n경우에는 그 사실을 금융위원회에 지체 없이 보고하고, 인터넷 홈페이지 등을 이용하여 공시하여야 한다.<개정\\n2008. 2. 29.>\\n⑤ 금융투자업자는 제4항에 따른 보고사항 중 대통령령으로 정하는 사항을 종합하여 분기별로 금융위원회에 보고\\n하고, 인터넷 홈페이지 등을 이용하여 공시하여야 한다.<개정 2008. 2. 29.>\\n⑥ 금융위원회는 금융투자업자 또는 그의 대주주가 제1항부터 제5항까지의 규정을 위반한 혐의가 있다고 인정될\\n경우에는 금융투자업자 또는 그의 대주주에게 필요한 자료의 제출을 명할 수 있다.<개정 2008. 2. 29.>\\n⑦ 금융위원회는 금융투자업자의 대주주(회사에 한한다)의 부채가 자산을 초과하는 등 재무구조의 부실로 인하여\\n금융투자업자의 경영건전성을 현저히 해칠 우려가 있는 경우로서 대통령령으로 정하는 경우에는 금융투자업자에\\n대하여 대주주가 발행한 증권의 신규취득 및 제2항 단서에 따른 신용공여를 제한할 수 있다.<개정 2008. 2. 29.>',\n",
       "   '제35조(대주주의 부당한 영향력 행사의 금지) 금융투자업자의 대주주(그의 특수관계인을 포함한다. 이하 이 조 및 제\\n36조에서 같다)는 금융투자업자의 이익에 반하여 대주주 자신의 이익을 얻을 목적으로 다음 각 호의 어느 하나에 해\\n당하는 행위를 하여서는 아니 된다. <개정 2015. 7. 31.>\\n1. 부당한 영향력을 행사하기 위하여 금융투자업자에 대하여 외부에 공개되지 아니한 자료 또는 정보의 제공을 요\\n구하는 행위. 다만, 「금융회사의 지배구조에 관한 법률」 제33조제6항 또는 「상법」 제466조에 따른 권리의 행사 \\n에 해당하는 경우를 제외한다. \\n2. 경제적 이익 등 반대급부의 제공을 조건으로 다른 주주와 담합하여 금융투자업자의 인사 또는 경영에 부당한 영\\n향력을 행사하는 행위 \\n3. 그 밖에 제1호 및 제2호에 준하는 행위로서 대통령령으로 정하는 행위',\n",
       "   '제36조(금융위원회의 자료 제출명령) 금융위원회는 금융투자업자의 대주주가 제35조를 위반한 혐의가 있다고 인정될\\n경우에는 금융투자업자 또는 그의 대주주에게 필요한 자료의 제출을 명할 수 있다. <개정 2008. 2. 29.>\\n[제목개정 2008. 2. 29.]'],\n",
       "  '제4장 영업행위 규칙\\n         제1절 공통 영업행위 규칙\\n           제1관 신의성실의무 등': ['제37조(신의성실의무 등) ① 금융투자업자는 신의성실의 원칙에 따라 공정하게 금융투자업을 영위하여야 한다.\\n② 금융투자업자는 금융투자업을 영위함에 있어서 정당한 사유 없이 투자자의 이익을 해하면서 자기가 이익을 얻\\n거나 제삼자가 이익을 얻도록 하여서는 아니 된다.',\n",
       "   '제38조(상호) ① 금융투자업자가 아닌 자는 그 상호 중에 “금융투자”라는 문자 또는 이와 같은 의미를 가지는 외국어 문\\n자로서 대통령령으로 정하는 문자를 사용하여서는 아니 된다. <신설 2009. 2. 3.>\\n② 증권을 대상으로 하여 투자매매업 또는 투자중개업을 영위하는 자가 아닌 자는 그 상호 중에 “증권”이라는 문자\\n또는 이와 같은 의미를 가지는 외국어문자로서 대통령령으로 정하는 문자를 사용하여서는 아니 된다. 다만, 제\\n229조제1호의 증권집합투자기구는 제183조제1항에 따라 “증권”이라는 문자 또는 이와 같은 의미를 가지는 외국어\\n문자로서 대통령령으로 정하는 문자를 사용할 수 있다.<개정 2009. 2. 3.>\\n법제처                                                            17                                                       국가법령정보센터\\n자본시장과 금융투자업에 관한 법률 \\n③ 장내파생상품 또는 장외파생상품을 대상으로 하여 투자매매업 또는 투자중개업을 영위하는 자가 아닌 자는 그\\n상호 중에 “파생” 또는 “선물”이라는 문자 또는 이와 같은 의미를 가지는 외국어문자로서 대통령령으로 정하는 문자\\n를 사용하여서는 아니 된다.<개정 2009. 2. 3.>\\n④ 집합투자업자가 아닌 자는 그 상호 중에 “집합투자”, “투자신탁” 또는 “자산운용”이라는 문자 또는 이와 같은 의\\n미를 가지는 외국어문자로서 대통령령으로 정하는 문자를 사용하여서는 아니 된다. 다만, 투자신탁인 집합투자기구\\n는 “투자신탁”이라는 문자 또는 이와 같은 의미를 가지는 외국어문자로서 대통령령으로 정하는 문자를 사용할 수\\n있다.<개정 2009. 2. 3.>\\n⑤ 투자자문업자가 아닌 자는 그 상호 중에 “투자자문”이라는 문자 또는 이와 같은 의미를 가지는 외국어문자로서\\n대통령령으로 정하는 문자를 사용하여서는 아니 된다. 다만, 「부동산투자회사법」에 따른 부동산투자자문회사는 “투\\n자자문”이라는 문자 또는 이와 같은 의미를 가지는 외국어문자로서 대통령령으로 정하는 문자를 사용할 수 있다.\\n<개정 2009. 2. 3.>\\n⑥ 투자일임업자가 아닌 자는 그 상호 중에 “투자일임”이라는 문자 또는 이와 같은 의미를 가지는 외국어문자로서\\n대통령령으로 정하는 문자를 사용하여서는 아니 된다.<개정 2009. 2. 3.>\\n⑦ 신탁업자가 아닌 자는 그 상호 중에 “신탁”이라는 문자 또는 이와 같은 의미를 가지는 외국어문자로서 대통령령\\n으로 정하는 문자를 사용하여서는 아니 된다. 다만, 집합투자업자 또는 제7조제5항에 따른 업을 영위하는 자는 그\\n상호 중에 “신탁”이라는 문자 또는 이와 같은 의미를 가지는 외국어문자로서 대통령령으로 정하는 문자를 사용할\\n수 있다.<개정 2009. 2. 3.>',\n",
       "   '제39조(명의대여의 금지) 금융투자업자는 자기의 명의를 대여하여 타인에게 금융투자업을 영위하게 하여서는 아니 된\\n다.',\n",
       "   '제40조(금융투자업자의 다른 금융업무 영위) ① 금융투자업자(겸영금융투자업자, 그 밖에 대통령령으로 정하는 금융투\\n자업자를 제외한다. 이하 이 조에서 같다)는 투자자 보호 및 건전한 거래질서를 해할 우려가 없는 금융업무로서 다음\\n각 호의 금융업무를 영위할 수 있다. 이 경우 금융투자업자는 제2호부터 제5호까지의 업무를 영위하고자 하는 때에\\n는 그 업무를 영위하기 시작한 날부터 2주 이내에 이를 금융위원회에 보고하여야 한다. <개정 2008. 2. 29., 2020. 5.\\n19.>\\n1. 이 법 또는 대통령령으로 정하는 금융관련 법령에서 인가ㆍ허가ㆍ등록 등을 요하는 금융업무 중 「보험업법」 제\\n91조에 따른 보험대리점의 업무 또는 보험중개사의 업무, 그 밖에 대통령령으로 정하는 금융업무 \\n2. 이 법 또는 대통령령으로 정하는 금융관련 법령에서 정하고 있는 금융업무로서 해당 법령에서 금융투자업자가\\n영위할 수 있도록 한 업무 \\n3. 국가 또는 공공단체 업무의 대리\\n4. 투자자를 위하여 그 투자자가 예탁한 투자자예탁금(제74조제1항의 투자자예탁금을 말한다)으로 수행하는 자금\\n이체업무 \\n5. 그 밖에 그 금융업무를 영위하여도 투자자 보호 및 건전한 거래질서를 해할 우려가 없는 업무로서 대통령령으로\\n정하는 금융업무 \\n② 금융위원회는 제1항에 따른 겸영업무 보고내용이 다음 각 호의 어느 하나에 해당하는 경우에는 그 겸영업무의\\n영위를 제한하거나 시정할 것을 명할 수 있다.<신설 2020. 5. 19.>\\n1. 금융투자업자의 경영건전성을 저해하는 경우\\n2. 투자자 보호에 지장을 초래하는 경우\\n3. 금융시장의 안정성을 저해하는 경우\\n③ 제2항에 따른 제한명령 또는 시정명령은 제1항에 따라 보고를 받은 날부터 30일 이내에 그 내용 및 사유가 구체\\n적으로 기재된 문서로 하여야 한다.<신설 2020. 5. 19.>\\n④ 금융위원회는 제1항에 따라 보고받은 겸영업무 및 제2항에 따라 제한명령 또는 시정명령을 한 겸영업무를 대통\\n령령으로 정하는 방법 및 절차에 따라 인터넷 홈페이지 등에 공고하여야 한다.<신설 2020. 5. 19.>\\n법제처                                                            18                                                       국가법령정보센터\\n자본시장과 금융투자업에 관한 법률',\n",
       "   '제41조(금융투자업자의 부수업무 영위) ① 금융투자업자는 금융투자업에 부수하는 업무를 영위하고자 하는 경우에는\\n그 업무를 영위하기 시작한 날부터 2주 이내에 이를 금융위원회에 보고하여야 한다. <개정 2008. 2. 29., 2020. 5.\\n19.>\\n② 금융위원회는 제1항에 따른 부수업무 보고내용이 다음 각 호의 어느 하나에 해당하는 경우에는 그 부수업무의\\n영위를 제한하거나 시정할 것을 명할 수 있다.<개정 2008. 2. 29., 2020. 5. 19.>\\n1. 금융투자업자의 경영건전성을 저해하는 경우\\n2. 인가를 받거나 등록한 금융투자업의 영위에 따른 투자자 보호에 지장을 초래하는 경우\\n3. 금융시장의 안정성을 저해하는 경우\\n③ 제2항에 따른 제한명령 또는 시정명령은 제1항에 따라 보고를 받은 날부터 30일 이내에 그 내용 및 사유가 구체\\n적으로 기재된 문서로 하여야 한다.<개정 2020. 5. 19.>\\n④ 금융위원회는 제1항에 따라 보고받은 부수업무 및 제2항에 따라 제한명령 또는 시정명령을 한 부수업무를 대통\\n령령으로 정하는 방법 및 절차에 따라 인터넷 홈페이지 등에 공고하여야 한다.<개정 2008. 2. 29., 2020. 5. 19.>',\n",
       "   '제42조(금융투자업자의 업무위탁) ① 금융투자업자는 금융투자업, 제40조제1항 각 호의 업무 및 제41조제1항의 부수업\\n무와 관련하여 그 금융투자업자가 영위하는 업무의 일부를 제삼자에게 위탁할 수 있다. 다만, 대통령령으로 정하는\\n내부통제업무(해당 업무에 관한 의사결정권한까지 위탁하는 경우만 해당한다)는 제삼자에게 위탁하여서는 아니 된\\n다. <개정 2020. 5. 19.>\\n② 금융투자업자는 제1항 본문에 따라 제삼자에게 업무를 위탁하는 경우에는 다음 각 호의 사항을 포함하는 위탁계\\n약을 체결하여야 하며, 그 내용을 대통령령으로 정하는 방법 및 절차에 따라 금융위원회에 보고하여야 한다.<개정\\n2008. 2. 29.>\\n1. 위탁하는 업무의 범위\\n2. 수탁자의 행위제한에 관한 사항\\n3. 위탁하는 업무의 처리에 대한 기록유지에 관한 사항\\n4. 그 밖에 투자자 보호 또는 건전한 거래질서를 위하여 필요한 사항으로서 대통령령으로 정하는 사항\\n③ 금융위원회는 제2항에 따른 위탁계약의 내용이 다음 각 호의 어느 하나에 해당하는 경우에는 해당 업무의 위탁\\n을 제한하거나 시정할 것을 명할 수 있다.<개정 2008. 2. 29.>\\n1. 금융투자업자의 경영건전성을 저해하는 경우\\n2. 투자자 보호에 지장을 초래하는 경우\\n3. 금융시장의 안정성을 저해하는 경우\\n4. 금융거래질서를 문란하게 하는 경우\\n④ 제1항 본문에 따라 위탁받는 업무가 본질적 업무(해당 금융투자업자가 인가를 받거나 등록을 한 업무와 직접적\\n으로 관련된 필수업무로서 대통령령으로 정하는 업무를 말한다. 이하 이 항에서 같다)인 경우 그 본질적 업무를 위\\n탁받는 자는 그 업무 수행에 필요한 인가를 받거나 등록을 한 자이어야 한다. 이 경우 그 업무를 위탁받는 자가 외\\n국 금융투자업자로서 대통령령으로 정하는 요건을 갖춘 경우에는 인가를 받거나 등록을 한 것으로 본다.\\n⑤ 제1항에 따라 금융투자업자의 업무를 위탁받은 자는 위탁한 자의 동의를 받은 경우에 한정하여 위탁받은 업무를\\n제삼자에게 재위탁할 수 있다.<개정 2020. 5. 19.>\\n⑥ 제1항의 업무를 위탁한 자는 대통령령으로 정하는 기준에 따라 위탁한 업무의 범위에서 위탁받은 자에게 투자자\\n의 금융투자상품의 매매, 그 밖의 거래에 관한 정보 및 투자자가 맡긴 금전, 그 밖의 재산에 관한 정보를 제공할 수\\n있다.\\n⑦ 금융투자업자는 제1항 본문에 따라 업무위탁을 하고자 하는 경우 투자자정보 보호 및 위험관리ㆍ평가 등에 관한\\n업무위탁 운영기준을 정하여야 한다.\\n⑧ 금융투자업자는 제1항 본문에 따라 업무위탁을 한 내용을 「금융소비자 보호에 관한 법률」 제23조제1항에 따른\\n계약서류 및 제123조제1항에 따른 투자설명서(집합투자업자의 경우 제124조제2항제3호에 따른 간이투자설명서를\\n포함한다. 이하 제64조, 제86조 및 제93조에서 같다)에 기재하여야 하며, 투자자와 계약을 체결한 후에 업무위탁을\\n법제처                                                            19                                                       국가법령정보센터\\n자본시장과 금융투자업에 관한 법률 \\n하거나 그 내용을 변경한 경우에는 이를 투자자에게 통보하여야 한다.<개정 2013. 5. 28., 2020. 3. 24.>\\n⑨ 「민법」 제756조는 제1항의 업무를 위탁받은 자(제5항에 따라 재위탁받은 자를 포함한다)가 그 위탁받은 업무를\\n영위하는 과정에서 투자자에게 손해를 끼친 경우에 준용한다.<개정 2020. 5. 19.>\\n⑩ 제54조, 제55조 및 「금융실명거래 및 비밀보장에 관한 법률」 제4조는 제1항의 업무를 위탁받은 자가 그 위탁받\\n은 업무를 영위하는 경우에 준용한다.\\n⑪ 그 밖에 업무의 위탁ㆍ재위탁의 기준ㆍ방법 및 절차에 관하여 투자자 보호 또는 건전한 거래질서를 위하여 필요\\n한 사항은 대통령령으로 정한다.',\n",
       "   '제43조(검사 및 처분) ① 제42조제1항에 따라 업무를 위탁받은 자는 그 위탁받은 업무와 관련하여 그 업무와 재산상황\\n에 관하여 「금융위원회의 설치 등에 관한 법률」에 따라 설립된 금융감독원(이하 “금융감독원”이라 한다)의 원장(이\\n하 “금융감독원장”이라 한다)의 검사를 받아야 한다. 이 경우 제419조제5항부터 제7항까지 및 제9항을 준용한다.\\n<개정 2015. 7. 31.>\\n② 금융위원회는 제42조제1항에 따라 업무를 위탁받은 자가 다음 각 호의 어느 하나에 해당하는 경우에는 위탁계\\n약의 어느 한쪽 또는 양쪽 당사자에게 위탁계약의 취소 또는 변경을 명할 수 있다.<개정 2008. 2. 29.>\\n1. 제42조제10항에서 준용하는 제54조, 제55조 또는 「금융실명거래 및 비밀보장에 관한 법률」 제4조제1항, 같은 조\\n제3항부터 제5항까지의 규정을 위반한 경우 \\n2. 제1항 전단에 따른 검사를 거부ㆍ방해 또는 기피한 경우\\n3. 제1항 후단에서 준용하는 제419조제5항에 따른 보고 등의 요구에 불응한 경우\\n4. 별표 1 각 호의 어느 하나(그 위탁받은 업무와 관련된 것에 한한다)에 해당하는 경우\\n③ 금융위원회는 제2항에 따라 조치를 한 경우에는 그 내용을 기록하고, 이를 유지ㆍ관리하여야 한다.<개정 2008.\\n2. 29.>\\n④ 금융투자업자 또는 제42조제1항에 따라 업무를 위탁받은 자(업무를 위탁받았던 자를 포함한다)는 금융위원회에\\n자기에 대한 제2항에 따른 조치 여부 및 그 내용을 조회할 수 있다.<개정 2008. 2. 29.>\\n⑤ 금융위원회는 제4항의 조회요청을 받은 경우에는 정당한 사유가 없는 한 조치 여부 및 그 내용을 그 조회 요청\\n자에게 통보하여야 한다.<개정 2008. 2. 29.>\\n⑥ 제425조는 제2항에 따른 위탁계약의 취소 또는 변경명령에 관하여 준용한다.',\n",
       "   '제44조(이해상충의 관리) ① 금융투자업자는 금융투자업의 영위와 관련하여 금융투자업자와 투자자 간, 특정 투자자와\\n다른 투자자 간의 이해상충을 방지하기 위하여 이해상충이 발생할 가능성을 파악ㆍ평가하고, 「금융회사의 지배구조\\n에 관한 법률」 제24조에 따른 내부통제기준(이하 “내부통제기준”이라 한다)이 정하는 방법 및 절차에 따라 이를 적\\n절히 관리하여야 한다. <개정 2015. 7. 31.>\\n② 금융투자업자는 제1항에 따라 이해상충이 발생할 가능성을 파악ㆍ평가한 결과 이해상충이 발생할 가능성이 있\\n다고 인정되는 경우에는 그 사실을 미리 해당 투자자에게 알려야 하며, 그 이해상충이 발생할 가능성을 내부통제기\\n준이 정하는 방법 및 절차에 따라 투자자 보호에 문제가 없는 수준으로 낮춘 후 매매, 그 밖의 거래를 하여야 한다.\\n③ 금융투자업자는 제2항에 따라 그 이해상충이 발생할 가능성을 낮추는 것이 곤란하다고 판단되는 경우에는 매매,\\n그 밖의 거래를 하여서는 아니 된다.',\n",
       "   '제45조(정보교류의 차단) ① 금융투자업자는 금융투자업, 제40조제1항 각 호의 업무, 제41조제1항에 따른 부수업무 및\\n제77조의3에서 종합금융투자사업자에 허용된 업무(이하 이 조에서 “금융투자업등”이라 한다)를 영위하는 경우 내부\\n통제기준이 정하는 방법 및 절차에 따라 제174조제1항 각 호 외의 부분에 따른 미공개중요정보 등 대통령령으로 정\\n하는 정보의 교류를 적절히 차단하여야 한다. <개정 2020. 5. 19.>\\n② 금융투자업자는 금융투자업등을 영위하는 경우 계열회사를 포함한 제삼자에게 정보를 제공할 때에는 내부통제\\n기준이 정하는 방법 및 절차에 따라 제174조제1항 각 호 외의 부분에 따른 미공개중요정보 등 대통령령으로 정하는\\n정보의 교류를 적절히 차단하여야 한다.<개정 2020. 5. 19.>\\n법제처                                                            20                                                       국가법령정보센터\\n자본시장과 금융투자업에 관한 법률 \\n③ 제1항 및 제2항의 내부통제기준은 다음 각 호의 사항을 반드시 포함하여야 한다.<신설 2020. 5. 19.>\\n1. 정보교류 차단을 위해 필요한 기준 및 절차\\n2. 정보교류 차단의 대상이 되는 정보의 예외적 교류를 위한 요건 및 절차\\n3. 그 밖에 정보교류 차단의 대상이 되는 정보를 활용한 이해상충 발생을 방지하기 위하여 대통령령으로 정하는 사\\n항 \\n④ 금융투자업자는 제1항 및 제2항에 따른 정보교류 차단을 위하여 다음 각 호의 사항을 준수하여야 한다.<신설\\n2020. 5. 19.>\\n1. 정보교류 차단을 위한 내부통제기준의 적정성에 대한 정기적 점검\\n2. 정보교류 차단과 관련되는 법령 및 내부통제기준에 대한 임직원 교육\\n3. 그 밖에 정보교류 차단을 위하여 대통령령으로 정하는 사항\\n \\n           제2관 투자권유 등 <개정 2009. 2. 3.>\\n \\n제46조 삭제 <2020. 3. 24.>\\n \\n제46조의2 삭제 <2020. 3. 24.>\\n \\n제47조 삭제 <2020. 3. 24.>',\n",
       "   '제48조(손해배상책임) ① 금융투자업자는 「금융소비자 보호에 관한 법률」 제19조제1항 또는 제3항을 위반한 경우 이\\n로 인하여 발생한 일반투자자의 손해를 배상할 책임이 있다. <개정 2020. 3. 24.>\\n② 금융투자상품의 취득으로 인하여 일반투자자가 지급하였거나 지급하여야 할 금전등의 총액에서 그 금융투자상\\n품의 처분, 그 밖의 방법으로 그 일반투자자가 회수하였거나 회수할 수 있는 금전등의 총액을 뺀 금액은 제1항에 따\\n른 손해액으로 추정한다.<개정 2017. 10. 31.>\\n \\n제49조 삭제 <2020. 3. 24.>',\n",
       "   '제50조(투자권유준칙) ① 금융투자업자는 투자권유를 함에 있어서 금융투자업자의 임직원이 준수하여야 할 구체적인\\n기준 및 절차(이하 “투자권유준칙”이라 한다)를 정하여야 한다. 다만, 파생상품등에 대하여는 일반투자자의 투자목적\\nㆍ재산상황 및 투자경험 등을 고려하여 투자자 등급별로 차등화된 투자권유준칙을 마련하여야 한다. <개정 2009. 2.\\n3.>\\n② 금융투자업자는 투자권유준칙을 정한 경우 이를 인터넷 홈페이지 등을 이용하여 공시하여야 한다. 투자권유준칙\\n을 변경한 경우에도 또한 같다.\\n③ 협회는 투자권유준칙과 관련하여 금융투자업자가 공통으로 사용할 수 있는 표준투자권유준칙을 제정할 수 있다.',\n",
       "   '제51조(투자권유대행인의 등록 등) ① 금융투자업자는 다음 각 호의 요건을 모두 갖춘 자(개인에 한한다)에게 투자권유\\n(파생상품등에 대한 투자권유를 제외한다)를 위탁할 수 있다. 이 경우 제42조를 적용하지 아니한다. <개정 2008. 2.\\n29., 2009. 2. 3.>\\n1. 제3항에 따라 금융위원회에 등록된 자가 아닐 것\\n2. 금융투자상품에 관한 전문 지식이 있는 자로서 대통령령으로 정하는 자격을 갖출 것\\n3. 제53조제2항에 따라 등록이 취소된 경우 그 등록이 취소된 날부터 3년이 경과하였을 것\\n② 제1항에 따라 투자권유를 위탁받은 자는 제3항에 따른 등록 전에는 투자권유를 하여서는 아니 된다.\\n③ 금융투자업자는 제1항에 따라 투자권유를 위탁한 경우에는 위탁받은 자를 금융위원회에 등록하여야 한다. 이 경\\n우 금융위원회는 그 등록업무를 대통령령으로 정하는 바에 따라 협회에 위탁할 수 있다.<개정 2008. 2. 29.>\\n④ 금융투자업자는 제3항에 따라 투자권유를 위탁받은 자를 등록하고자 하는 경우에는 금융위원회(제3항 후단에\\n따라 협회에 위탁한 경우에는 협회를 말한다. 이하 이 조에서 같다)에 등록신청서를 제출하여야 한다.<개정 2008.\\n법제처                                                            21                                                       국가법령정보센터\\n자본시장과 금융투자업에 관한 법률 \\n2. 29.>\\n⑤ 금융위원회는 제4항의 등록신청서를 접수한 경우에는 그 내용을 검토하여 2주 이내에 등록 여부를 결정하고, 그\\n결과와 이유를 지체 없이 신청인에게 문서로 통지하여야 한다. 이 경우 등록신청서에 흠결이 있는 때에는 보완을 요\\n구할 수 있다.<개정 2008. 2. 29.>\\n⑥ 제5항의 검토기간을 산정함에 있어서 등록신청서 흠결의 보완기간 등 총리령으로 정하는 기간은 검토기간에 산\\n입하지 아니한다.<개정 2008. 2. 29.>\\n⑦ 금융위원회는 제5항의 등록 여부를 결정함에 있어서 다음 각 호의 어느 하나에 해당하는 사유가 없는 한 등록을\\n거부하여서는 아니 된다.<개정 2008. 2. 29.>\\n1. 제1항의 요건을 갖추지 아니한 경우\\n2. 제4항의 등록신청서를 거짓으로 작성한 경우\\n3. 제5항 후단의 보완요구를 이행하지 아니한 경우\\n⑧ 금융위원회는 제5항에 따라 등록을 결정한 경우 투자권유대행인등록부에 필요한 사항을 기재하여야 하며, 등록\\n결정한 내용을 인터넷 홈페이지 등에 공고하여야 한다.<개정 2008. 2. 29.>\\n⑨ 제3항에 따라 등록된 자(이하 “투자권유대행인”이라 한다)는 등록 이후 그 영업을 영위함에 있어서 제1항제2호\\n의 요건을 유지하여야 한다.\\n⑩ 제3항부터 제8항까지의 규정에 따른 등록신청서의 기재사항ㆍ첨부서류 등 등록의 신청에 관한 사항과 등록검토\\n의 방법ㆍ절차, 그 밖에 등록에 관하여 필요한 사항은 대통령령으로 정한다.',\n",
       "   '제52조(투자권유대행인의 금지행위 등) ① 금융투자업자는 투자권유대행인 외의 자에게 투자권유를 대행하게 하여서\\n는 아니 된다.\\n② 삭제<2020. 3. 24.>\\n③ 삭제<2020. 3. 24.>\\n④ 금융투자업자는 투자권유대행인이 투자권유를 대행함에 있어서 법령을 준수하고 건전한 거래질서를 해하는 일\\n이 없도록 성실히 관리하여야 하며, 이를 위한 투자권유대행기준을 정하여야 한다.\\n⑤ 삭제<2020. 3. 24.>\\n⑥ 제48조, 제54조, 제55조 및 「금융실명거래 및 비밀보장에 관한 법률」 제4조는 투자권유대행인이 투자권유를 대\\n행하는 경우에 준용한다.<개정 2020. 3. 24.>',\n",
       "   '제53조(검사 및 조치) ① 투자권유대행인은 투자권유의 대행과 관련하여 그 업무와 재산상황에 관하여 금융감독원장의\\n검사를 받아야 한다. 이 경우 제419조제5항부터 제7항까지 및 제9항을 준용한다.\\n② 금융위원회는 투자권유대행인이 다음 각 호의 어느 하나에 해당하는 경우에는 금융투자업자의 투자권유대행인\\n등록을 취소하거나 그 투자권유대행인에 대하여 6개월 이내의 투자권유대행업무 정지를 할 수 있다.<개정 2008. 2.\\n29., 2020. 3. 24.>\\n1. 제51조제9항에 따른 등록요건 유지의무를 위반한 경우\\n2. 제52조제6항(제54조, 제55조 및 「금융실명거래 및 비밀보장에 관한 법률」 제4조제1항, 같은 조 제3항부터 제5항\\n까지의 규정을 준용하는 경우에 한한다)을 위반한 경우 \\n3. 제1항 전단에 따른 검사를 거부ㆍ방해 또는 기피한 경우\\n4. 제1항 후단에서 준용하는 제419조제5항에 따른 보고 등의 요구에 불응한 경우\\n5. 「금융소비자 보호에 관한 법률」 제51조제1항제3호부터 제5호까지의 어느 하나에 해당하는 경우\\n6. 「금융소비자 보호에 관한 법률」 제51조제2항 각 호 외의 부분 본문 중 대통령령으로 정하는 경우(투자권유대행\\n업무를 정지하는 경우로 한정한다) \\n③ 금융위원회는 제2항에 따라 투자권유대행인 등록을 취소하거나 투자권유대행업무를 정지한 경우에는 그 내용을\\n기록하고, 이를 유지ㆍ관리하여야 한다.<개정 2008. 2. 29.>\\n④ 금융위원회는 제2항에 따라 투자권유대행인 등록을 취소하거나 투자권유대행업무를 정지한 경우에는 그 사실을\\n인터넷 홈페이지 등에 공고하여야 한다.<개정 2008. 2. 29.>\\n법제처                                                            22                                                       국가법령정보센터\\n자본시장과 금융투자업에 관한 법률 \\n⑤ 금융투자업자 또는 투자권유대행인(투자권유대행인이었던 자를 포함한다)은 금융위원회에 자기에 대한 제2항에\\n따른 조치 여부 및 그 내용을 조회할 수 있다.<개정 2008. 2. 29.>\\n⑥ 금융위원회는 제5항의 조회요청을 받은 경우에는 정당한 사유가 없는 한 조치 여부 및 그 내용을 그 조회 요청\\n자에게 통보하여야 한다.<개정 2008. 2. 29.>\\n⑦',\n",
       "   '제423조(제2호를 제외한다)는 제2항에 따른 투자권유대행인 등록의 취소에 관하여 준용하고, 제425조는 제2항\\n에 따른 투자권유대행인 등록의 취소 및 투자권유대행업무의 정지에 관하여 준용한다.\\n \\n           제3관 직무관련 정보의 이용 금지 등',\n",
       "   '제54조(직무관련 정보의 이용 금지) ① 금융투자업자는 직무상 알게 된 정보로서 외부에 공개되지 아니한 정보를 정당\\n한 사유 없이 자기 또는 제삼자의 이익을 위하여 이용하여서는 아니 된다. <개정 2020. 5. 19.>\\n② 금융투자업자 및 그 임직원은 제45조제1항 또는 제2항에 따라 정보교류 차단의 대상이 되는 정보를 정당한 사유\\n없이 본인이 이용하거나 제삼자에게 이용하게 하여서는 아니 된다.<신설 2020. 5. 19.>',\n",
       "   '제55조(손실보전 등의 금지) 금융투자업자는 금융투자상품의 매매, 그 밖의 거래와 관련하여 제103조제3항에 따라 손\\n실의 보전 또는 이익의 보장을 하는 경우, 그 밖에 건전한 거래질서를 해할 우려가 없는 경우로서 정당한 사유가 있\\n는 경우를 제외하고는 다음 각 호의 어느 하나에 해당하는 행위를 하여서는 아니 된다. 금융투자업자의 임직원이 자\\n기의 계산으로 하는 경우에도 또한 같다.\\n1. 투자자가 입을 손실의 전부 또는 일부를 보전하여 줄 것을 사전에 약속하는 행위\\n2. 투자자가 입은 손실의 전부 또는 일부를 사후에 보전하여 주는 행위\\n3. 투자자에게 일정한 이익을 보장할 것을 사전에 약속하는 행위\\n4. 투자자에게 일정한 이익을 사후에 제공하는 행위',\n",
       "   '제56조(약관) ① 금융투자업자는 금융투자업의 영위와 관련하여 약관을 제정 또는 변경하는 경우에는 약관의 제정 또\\n는 변경 후 7일 이내에 금융위원회 및 협회에 보고하여야 한다. 다만, 투자자의 권리나 의무에 중대한 영향을 미칠\\n우려가 있는 경우로서 대통령령으로 정하는 경우에는 약관의 제정 또는 변경 전에 미리 금융위원회에 신고하여야\\n한다. <개정 2018. 12. 31.>\\n② 금융투자업자는 약관을 제정 또는 변경한 경우에는 인터넷 홈페이지 등을 이용하여 공시하여야 한다.\\n③ 협회는 건전한 거래질서를 확립하고 불공정한 내용의 약관이 통용되는 것을 방지하기 위하여 금융투자업 영위\\n와 관련하여 표준이 되는 약관(이하 이 조에서 “표준약관”이라 한다)을 제정할 수 있다.\\n④ 협회는 표준약관을 제정 또는 변경하고자 하는 경우에는 미리 금융위원회에 신고하여야 한다. 다만, 전문투자자\\n만을 대상으로 하는 표준약관을 제정 또는 변경하는 경우에는 그 표준약관을 제정 또는 변경한 후 7일 이내에 금융\\n위원회에 보고하여야 한다.<개정 2008. 2. 29.>\\n⑤ 금융위원회는 제1항 단서 또는 제4항 본문에 따른 신고를 받은 경우 그 내용을 검토하여 이 법에 적합하면 신고\\n를 수리하여야 한다.<신설 2018. 12. 31.>\\n⑥ 제1항에 따라 약관을 신고 또는 보고받거나 제4항에 따라 표준약관을 신고 또는 보고받은 금융위원회는 그 약관\\n또는 표준약관을 공정거래위원회에 통보하여야 한다. 이 경우 공정거래위원회는 통보받은 약관 또는 표준약관이 「\\n약관의 규제에 관한 법률」 제6조부터 제14조까지의 규정에 위반된 사실이 있다고 인정될 때에는 금융위원회에 그\\n사실을 통보하고 그 시정에 필요한 조치를 취하도록 요청할 수 있으며, 금융위원회는 특별한 사유가 없는 한 이에\\n응하여야 한다.<개정 2008. 2. 29., 2018. 12. 31.>\\n⑦ 금융위원회는 약관 또는 표준약관이 이 법 또는 금융과 관련되는 법령에 위반되거나 그 밖에 투자자의 이익을\\n침해할 우려가 있다고 인정되는 경우에는 금융투자업자 또는 협회에 그 내용을 구체적으로 기재한 서면에 의하여\\n약관 또는 표준약관을 변경할 것을 명할 수 있다.<개정 2008. 2. 29., 2018. 12. 31.>\\n법제처                                                            23                                                       국가법령정보센터\\n자본시장과 금융투자업에 관한 법률 \\n제57조 삭제 <2020. 3. 24.>',\n",
       "   '제58조(수수료) ① 금융투자업자는 투자자로부터 받는 수수료의 부과기준 및 절차에 관한 사항을 정하고, 인터넷 홈페\\n이지 등을 이용하여 공시하여야 한다.\\n② 금융투자업자는 제1항에 따른 수수료 부과기준을 정함에 있어서 투자자를 정당한 사유 없이 차별하여서는 아니\\n된다.\\n③ 금융투자업자는 제1항에 따른 수수료 부과기준 및 절차에 관한 사항을 협회에 통보하여야 한다.\\n④ 협회는 제3항에 따라 통보받은 사항을 금융투자업자별로 비교하여 공시하여야 한다.\\n \\n제59조 삭제 <2020. 3. 24.>',\n",
       "   '제60조(자료의 기록ㆍ유지) ① 금융투자업자는 금융투자업 영위와 관련한 자료를 대통령령으로 정하는 자료의 종류별\\n로 대통령령으로 정하는 기간 동안 기록ㆍ유지하여야 한다.\\n② 금융투자업자는 제1항에 따라 기록ㆍ유지하여야 하는 자료가 멸실되거나 위조 또는 변조가 되지 아니하도록 적\\n절한 대책을 수립ㆍ시행하여야 한다.',\n",
       "   '제61조(소유증권의 예탁) ①금융투자업자(겸영금융투자업자를 제외한다. 이하 이 조에서 같다)는 그 고유재산을 운용함\\n에 따라 소유하게 되는 증권(대통령령으로 정하는 것을 포함한다)을 예탁결제원에 지체 없이 예탁하여야 한다. 다만,\\n해당 증권의 유통 가능성, 다른 법령에 따른 유통방법이 있는지 여부, 예탁의 실행 가능성 등을 고려하여 대통령령으\\n로 정하는 경우에는 예탁결제원에 예탁하지 아니할 수 있다. <개정 2013. 5. 28.>\\n② 금융투자업자가 제1항 본문에 따라 외화증권(「외국환거래법」 제3조제1항제8호의 외화증권을 말한다. 이하 같다\\n)을 예탁결제원에 예탁하는 경우에는 대통령령으로 정하는 방법에 따라 예탁하여야 한다.<신설 2013. 5. 28.>',\n",
       "   '제62조(금융투자업 폐지 공고 등) ① 금융투자업자는 금융투자업 또는 지점, 그 밖의 영업소의 영업을 폐지하고자 하는\\n경우에는 그 뜻을 폐지 30일 전에 전국을 보급지역으로 하는 둘 이상의 일간신문에 공고하여야 하며, 알고 있는 채\\n권자에게는 각각 통지하여야 한다.\\n② 금융투자업자는 다음 각 호의 어느 하나에 해당하는 경우에는 그 금융투자업자가 행한 금융투자상품의 매매, 그\\n밖의 거래를 종결시켜야 한다. 이 경우 그 금융투자업자는 그 매매, 그 밖의 거래를 종결시키는 범위에서 금융투자\\n업자로 본다.\\n1. 제417조제1항제6호에 따라 금융투자업 폐지의 승인을 받은 경우\\n2. 제417조제1항제7호에 따라 금융투자업 폐지의 승인을 받은 경우\\n3. 제420조제1항 또는 제421조제1항(같은 조 제4항에서 준용하는 경우를 포함한다)에 따라 금융투자업인가 또는\\n금융투자업등록이 취소된 경우',\n",
       "   '제63조(임직원의 금융투자상품 매매) ① 금융투자업자의 임직원(겸영금융투자업자 중 대통령령으로 정하는 금융투자\\n업자의 경우에는 금융투자업의 직무를 수행하는 임직원에 한한다. 이하 이 조에서 같다)은 자기의 계산으로 대통령\\n령으로 정하는 금융투자상품을 매매하는 경우에는 다음 각 호의 방법에 따라야 한다.\\n1. 자기의 명의로 매매할 것\\n2. 투자중개업자 중 하나의 회사(투자중개업자의 임직원의 경우에는 그가 소속된 투자중개업자에 한하되, 그 투자\\n중개업자가 그 임직원이 매매하려는 금융투자상품을 취급하지 아니하는 경우에는 다른 투자중개업자를 이용할 \\n수 있다)를 선택하여 하나의 계좌를 통하여 매매할 것. 다만, 금융투자상품의 종류, 계좌의 성격 등을 고려하여 대 \\n통령령으로 정하는 경우에는 둘 이상의 회사 또는 둘 이상의 계좌를 통하여 매매할 수 있다. \\n3. 매매명세를 분기별(투자권유자문인력, 제286조제1항제3호나목의 조사분석인력 및 투자운용인력의 경우에는 월\\n별로 한다. 이하 이 조에서 같다)로 소속 금융투자업자에게 통지할 것 \\n4. 그 밖에 불공정행위의 방지 또는 투자자와의 이해상충의 방지를 위하여 대통령령으로 정하는 방법 및 절차를 준\\n수할 것\\n법제처                                                            24                                                       국가법령정보센터\\n자본시장과 금융투자업에 관한 법률 \\n② 금융투자업자는 그 임직원의 자기계산에 의한 금융투자상품 매매와 관련하여 불공정행위의 방지 또는 투자자와\\n의 이해상충의 방지를 위하여 그 금융투자업자의 임직원이 따라야 할 적절한 기준 및 절차를 정하여야 한다.\\n③ 금융투자업자는 분기별로 임직원의 금융투자상품의 매매명세를 제2항의 기준 및 절차에 따라 확인하여야 한다.',\n",
       "   '제63조의2(고객응대직원에 대한 보호 조치 의무) ① 금융투자업자는 고객을 직접 응대하는 직원(이하 “고객응대직원\\n”이라 한다)을 고객의 폭언이나 성희롱, 폭행 등으로부터 보호하기 위하여 다음 각 호의 조치를 하여야 한다.\\n1. 고객응대직원이 요청하는 경우 해당 고객으로부터의 분리 및 업무담당자 교체\\n2. 고객응대직원에 대한 치료 및 상담 지원\\n3. 고객응대직원을 위한 상시적 고충처리 기구 설치 또는 「근로자참여 및 협력증진에 관한 법률」 제26조에 따라 고\\n충처리위원을 두는 경우에는 고객응대직원을 위한 고충처리위원의 선임 또는 위촉 \\n4. 그 밖에 고객응대직원의 보호를 위하여 필요한 법적 조치 등 대통령령으로 정하는 조치\\n② 고객응대직원은 금융투자업자에 대하여 제1항 각 호의 조치를 요구할 수 있다.\\n③ 금융투자업자는 제2항에 따른 요구를 이유로 고객응대직원에게 불이익을 주어서는 아니 된다.\\n[본조신설 2016. 3. 29.]',\n",
       "   '제64조(손해배상책임) ① 금융투자업자는 법령ㆍ약관ㆍ집합투자규약ㆍ투자설명서(제123조제1항에 따른 투자설명서를\\n말한다)에 위반하는 행위를 하거나 그 업무를 소홀히 하여 투자자에게 손해를 발생시킨 경우에는 그 손해를 배상할\\n책임이 있다. 다만, 배상의 책임을 질 금융투자업자가 제37조제2항, 제44조, 제45조, 제71조 또는 제85조를 위반한\\n경우(투자매매업 또는 투자중개업과 집합투자업을 함께 영위함에 따라 발생하는 이해상충과 관련된 경우에 한한다\\n)로서 그 금융투자업자가 상당한 주의를 하였음을 증명하거나 투자자가 금융투자상품의 매매, 그 밖의 거래를 할 때\\n에 그 사실을 안 경우에는 배상의 책임을 지지 아니한다.\\n② 금융투자업자가 제1항에 따른 손해배상책임을 지는 경우로서 관련되는 임원에게도 귀책사유(歸責事由)가 있는\\n경우에는 그 금융투자업자와 관련되는 임원이 연대하여 그 손해를 배상할 책임이 있다.',\n",
       "   '제65조(외국 금융투자업자의 특례) ① 외국 금융투자업자의 지점, 그 밖의 영업소(이하 이 조에서 “국내지점등”이라 한\\n다)에 대하여 이 법을 적용함에 있어서 대통령령으로 정하는 영업기금은 이를 자본금으로 보고, 자본금ㆍ적립금 및\\n이월이익잉여금의 합계액은 이를 자기자본으로 보며, 국내대표자는 임원으로 본다. <개정 2009. 2. 3.>\\n② 국내지점등은 제1항의 영업기금과 부채의 합계액에 상당하는 자산을 대통령령으로 정하는 방법으로 국내에 두\\n어야 한다.<개정 2009. 2. 3.>\\n③ 국내지점등이 청산 또는 파산하는 경우 그 국내에 두는 자산은 국내에 주소 또는 거소가 있는 자에 대한 채무의\\n변제에 우선 충당하여야 한다.<개정 2009. 2. 3.>\\n④ 금융위원회는 다음 각 호의 요건을 모두 충족하는 국내지점등의 대표자의 직무를 일시 대행할 자(이하 이 항에\\n서 “직무대행자”라 한다)를 지정하여야 하며, 그 국내지점등은 그 사실을 소재지에서 등기하여야 한다. 이 경우 금융\\n위원회는 직무대행자에게 적정한 보수를 지급할 것을 그 국내지점등에 명할 수 있다.<신설 2009. 2. 3.>\\n1. 국내지점등의 대표자가 없거나 대표자가 그 직무를 수행할 수 없음에도 불구하고 대표자를 새로 선임하지 아니\\n하거나 직무대행자를 지정하지 아니하는 경우로서 국내지점등과 이해관계가 있는 자가 금융위원회에 직무대행 \\n자의 선임을 요구할 것 \\n2. 금융위원회가 제1호의 요구에 따라 그 국내지점등에 대하여 10일 이내에 대표자 또는 직무대행자를 선임하거나\\n지정할 것을 요청할 것 \\n3. 제2호의 요청을 받은 국내지점등이 제2호에 따른 기간 이내에 대표자 또는 직무대행자를 선임하거나 지정하지\\n아니할 것 \\n⑤ 제1항부터 제4항까지에 규정된 사항 외에 결산에 관한 사항 등 국내지점등의 금융투자업의 영위에 관하여 필요\\n한 사항은 대통령령으로 정한다.<개정 2009. 2. 3.>\\n법제처                                                            25                                                       국가법령정보센터\\n자본시장과 금융투자업에 관한 법률 \\n         제2절 금융투자업자별 영업행위 규칙\\n           제1관 투자매매업자 및 투자중개업자의 영업행위 규칙',\n",
       "   '제66조(매매형태의 명시) 투자매매업자 또는 투자중개업자는 투자자로부터 금융투자상품의 매매에 관한 청약 또는 주\\n문을 받는 경우에는 사전에 그 투자자에게 자기가 투자매매업자인지 투자중개업자인지를 밝혀야 한다. <개정 2013.\\n5. 28.>',\n",
       "   '제67조(자기계약의 금지) 투자매매업자 또는 투자중개업자는 금융투자상품에 관한 같은 매매에 있어 자신이 본인이 됨\\n과 동시에 상대방의 투자중개업자가 되어서는 아니 된다. 다만, 다음 각 호의 어느 하나에 해당하는 경우에는 그러하\\n지 아니하다. <개정 2013. 5. 28.>\\n1. 투자매매업자 또는 투자중개업자가 증권시장 또는 파생상품시장을 통하여 매매가 이루어지도록 한 경우\\n2. 그 밖에 투자자 보호 및 건전한 거래질서를 해할 우려가 없는 경우로서 대통령령으로 정하는 경우',\n",
       "   '제68조(최선집행의무) ① 투자매매업자 또는 투자중개업자는 금융투자상품의 매매(대통령령으로 정하는 거래는 제외\\n한다. 이하 이 조에서 같다)에 관한 투자자의 청약 또는 주문을 처리하기 위하여 대통령령으로 정하는 바에 따라 최\\n선의 거래조건으로 집행하기 위한 기준(이하 이 조에서 “최선집행기준”이라 한다)을 마련하고 이를 공표하여야 한다.\\n② 투자매매업자 또는 투자중개업자는 최선집행기준에 따라 금융투자상품의 매매에 관한 청약 또는 주문을 집행하\\n여야 한다.\\n③ 투자매매업자 또는 투자중개업자는 대통령령으로 정하는 기간마다 최선집행기준의 내용을 점검하여야 한다. 이\\n경우 최선집행기준의 내용이 제2항에 따른 청약 또는 주문을 집행하기에 적합하지 아니한 것으로 인정되는 때에는\\n이를 변경하고, 그 변경 사실을 공표하여야 한다.\\n④ 투자매매업자 또는 투자중개업자는 금융투자상품의 매매에 관한 청약 또는 주문을 받는 경우에는 미리 문서, 전\\n자문서, 그 밖에 대통령령으로 정하는 방법으로 최선집행기준을 기재 또는 표시한 설명서를 투자자에게 교부하여야\\n한다. 다만, 이미 해당 설명서(제3항에 따라 최선집행기준을 변경한 경우에는 변경한 내용이 기재 또는 표시된 설명\\n서를 말한다)를 교부한 경우에는 그러하지 아니하다.\\n⑤ 제1항에 따른 최선의 거래조건의 구체적인 내용, 최선집행기준의 공표의 방법과 제2항에 따른 청약ㆍ주문의 집\\n행 방법 및 제3항에 따른 최선집행기준의 점검ㆍ변경 및 변경 사실의 공표 방법 등에 관하여 필요한 사항은 대통령\\n령으로 정한다.\\n[전문개정 2013. 5. 28.]',\n",
       "   '제69조(자기주식의 예외적 취득) 투자매매업자는 투자자로부터 그 투자매매업자가 발행한 자기주식으로서 증권시장\\n(다자간매매체결회사에서의 거래를 포함한다. 이하 이 조에서 같다)의 매매 수량단위 미만의 주식에 대하여 매도의\\n청약을 받은 경우에는 이를 증권시장 밖에서 취득할 수 있다. 이 경우 취득한 자기주식은 대통령령으로 정하는 기간\\n이내에 처분하여야 한다. <개정 2013. 5. 28.>',\n",
       "   '제70조(임의매매의 금지) 투자매매업자 또는 투자중개업자는 투자자나 그 대리인으로부터 금융투자상품의 매매의 청\\n약 또는 주문을 받지 아니하고는 투자자로부터 예탁받은 재산으로 금융투자상품의 매매를 하여서는 아니 된다. <개\\n정 2013. 5. 28.>',\n",
       "   '제71조(불건전 영업행위의 금지) 투자매매업자 또는 투자중개업자는 다음 각 호의 어느 하나에 해당하는 행위를 하여\\n서는 아니 된다. 다만, 투자자 보호 및 건전한 거래질서를 해할 우려가 없는 경우로서 대통령령으로 정하는 경우에는\\n이를 할 수 있다. <개정 2009. 2. 3., 2013. 5. 28.>\\n1. 투자자로부터 금융투자상품의 가격에 중대한 영향을 미칠 수 있는 매수 또는 매도의 청약이나 주문을 받거나 받\\n게 될 가능성이 큰 경우 이를 체결시키기 전에 그 금융투자상품을 자기의 계산으로 매수 또는 매도하거나 제삼자 \\n에게 매수 또는 매도를 권유하는 행위\\n법제처                                                            26                                                       국가법령정보센터\\n자본시장과 금융투자업에 관한 법률 \\n2. 특정 금융투자상품의 가치에 대한 주장이나 예측을 담고 있는 자료(이하 “조사분석자료”라 한다)를 투자자에게\\n공표함에 있어서 그 조사분석자료의 내용이 사실상 확정된 때부터 공표 후 24시간이 경과하기 전까지 그 조사분 \\n석자료의 대상이 된 금융투자상품을 자기의 계산으로 매매하는 행위 \\n3. 조사분석자료 작성을 담당하는 자에 대하여 대통령령으로 정하는 기업금융업무와 연동된 성과보수를 지급하는\\n행위 \\n4. 다음 각 목의 어느 하나에 해당하는 증권의 모집 또는 매출과 관련한 계약을 체결한 날부터 그 증권이 증권시장\\n에 최초로 상장된 후 대통령령으로 정하는 기간 이내에 그 증권에 대한 조사분석자료를 공표하거나 특정인에게 \\n제공하는 행위 \\n가. 주권 \\n나. 대통령령으로 정하는 주권 관련 사채권 \\n다. 가목 또는 나목과 관련된 증권예탁증권 \\n5. 투자권유대행인 및 투자권유자문인력이 아닌 자에게 투자권유를 하게 하는 행위\\n6. 투자자로부터 금융투자상품에 대한 투자판단의 전부 또는 일부를 일임받아 투자자별로 구분하여 금융투자상품\\n을 취득ㆍ처분, 그 밖의 방법으로 운용하는 행위. 다만, 투자일임업으로서 행하는 경우와 제7조제4항에 해당하는 \\n경우에는 이를 할 수 있다. \\n7. 그 밖에 투자자 보호 또는 건전한 거래질서를 해할 우려가 있는 행위로서 대통령령으로 정하는 행위',\n",
       "   '제72조(신용공여) ① 투자매매업자 또는 투자중개업자는 증권과 관련하여 금전의 융자 또는 증권의 대여의 방법으로\\n투자자에게 신용을 공여할 수 있다. 다만, 투자매매업자는 증권의 인수일부터 3개월 이내에 투자자에게 그 증권을 매\\n수하게 하기 위하여 그 투자자에게 금전의 융자, 그 밖의 신용공여를 하여서는 아니 된다.\\n② 제1항에 따른 신용공여의 기준 및 방법에 관하여 필요한 사항은 대통령령으로 정한다.',\n",
       "   '제73조(매매명세의 통지) 투자매매업자 또는 투자중개업자는 금융투자상품의 매매가 체결된 경우에는 그 명세를 대통\\n령령으로 정하는 방법에 따라 투자자에게 통지하여야 한다.',\n",
       "   '제74조(투자자예탁금의 별도예치) ① 투자매매업자 또는 투자중개업자는 투자자예탁금(투자자로부터 금융투자상품의\\n매매, 그 밖의 거래와 관련하여 예탁받은 금전을 말한다. 이하 같다)을 고유재산과 구분하여 증권금융회사에 예치(預\\n置) 또는 신탁하여야 한다.\\n② 겸영금융투자업자 중 대통령령으로 정하는 투자매매업자 또는 투자중개업자는 제1항에 불구하고 투자자예탁금\\n을 제1항에 따른 예치 또는 신탁 외에 신탁업자(증권금융회사를 제외한다. 이하 이 조에서 같다)에게 신탁할 수 있\\n다. 이 경우 그 투자매매업자 또는 투자중개업자가 신탁업을 영위하는 경우에는 「신탁법」 제3조제1항에 불구하고\\n자기계약을 할 수 있다.<개정 2011. 7. 25.>\\n③ 투자매매업자 또는 투자중개업자는 제1항 또는 제2항에 따라 증권금융회사 또는 신탁업자(이하 이 조에서 “예치\\n기관”이라 한다)에게 투자자예탁금을 예치 또는 신탁하는 경우에는 그 투자자예탁금이 투자자의 재산이라는 뜻을\\n밝혀야 한다.\\n④ 누구든지 제1항 또는 제2항에 따라 예치기관에 예치 또는 신탁한 투자자예탁금을 상계(相計)ㆍ압류(가압류를 포\\n함한다)하지 못하며, 투자자예탁금을 예치 또는 신탁한 투자매매업자 또는 투자중개업자(이하 이 조에서 “예치금융\\n투자업자”라 한다)는 대통령령으로 정하는 경우 외에는 예치기관에 예치 또는 신탁한 투자자예탁금을 양도하거나\\n담보로 제공하여서는 아니 된다.\\n⑤ 예치기관은 예치금융투자업자가 다음 각 호의 어느 하나에 해당하게 된 경우에는 투자자의 청구에 따라 예치 또\\n는 신탁된 투자자예탁금을 대통령령으로 정하는 방법과 절차에 따라 그 투자자에게 우선하여 지급하여야 한다.<개\\n정 2021. 6. 8.>\\n1. 인가가 취소된 경우\\n2. 해산의 결의를 한 경우\\n법제처                                                            27                                                       국가법령정보센터\\n자본시장과 금융투자업에 관한 법률 \\n3. 파산선고를 받은 경우\\n4. 제6조제1항제1호 및 제2호의 금융투자업 전부 양도가 승인된 경우\\n5. 제6조제1항제1호 및 제2호의 금융투자업 전부 폐지가 승인된 경우\\n6. 제6조제1항제1호 및 제2호의 금융투자업 전부의 정지명령을 받은 경우\\n7. 그 밖에 제1호부터 제6호까지의 사유에 준하는 사유가 발생한 경우\\n⑥ 금융위원회는 제5항 각 호의 어느 하나에 해당하는 사유가 발생한 경우 그 사실을 해당 예치금융투자업자, 예치\\n기관 및 「예금자보호법」에 따른 예금보험공사(이하 “예금보험공사”라 한다)에 즉시 통지하여야 한다.<신설 2021. 6.\\n8.>\\n⑦ 제6항에 따라 통지를 받은 예치기관은 투자자예탁금 별도예치 관련 정보를 예금보험공사에 제공하여야 하고, 그\\n통지를 받은 날부터 2개월 이내에 투자자예탁금의 지급시기ㆍ지급장소, 그 밖에 투자자예탁금의 지급과 관련된 사\\n항을 둘 이상의 일간신문과 인터넷 홈페이지 등을 이용하여 공고하여야 한다. 다만, 예치기관은 불가피한 사유가 발\\n생하여 그 기간 내에 공고를 할 수 없는 경우에는 금융위원회의 확인을 받아 1개월의 범위에서 그 기간을 연장할\\n수 있다.<신설 2021. 6. 8.>\\n⑧ 예치기관은 제5항에 따른 투자자예탁금을 지급할 때 투자자가 「예금자보호법」 제21조의2제1항에 따른 부실관\\n련자에 해당하거나 부실관련자와 대통령령으로 정하는 특수관계에 있는 경우에는 그 투자자예탁금에 대하여 대통\\n령령으로 정하는 바에 따라 제7항에 따른 투자자예탁금의 지급시기 등의 공고일부터 6개월의 범위에서 그 지급을\\n보류할 수 있다.<신설 2021. 6. 8.>\\n⑨ 예치금융투자업자는 제5항 각 호의 어느 하나에 해당하는 사유가 발생한 경우 「금융실명거래 및 비밀보장에 관\\n한 법률」 제4조제1항 및 「신용정보의 이용 및 보호에 관한 법률」 제32조ㆍ제33조에도 불구하고 「금융실명거래 및\\n비밀보장에 관한 법률」 제4조에 따른 금융거래의 내용에 대한 정보 또는 자료 및 「신용정보의 이용 및 보호에 관한\\n법률」 제32조제1항에 따른 개인신용정보를 다음 각 호의 사항에 관하여 금융위원회가 정하는 방법과 절차에 따라\\n예치기관에 투자자예탁금 지급에 이용하게 할 목적으로 제공할 수 있다.<신설 2021. 6. 8.>\\n1. 제공할 수 있는 정보의 범위\\n2. 투자자정보의 암호화 등 처리방법\\n3. 투자자정보의 분리 보관\\n4. 투자자정보의 이용기간 및 이용목적\\n5. 이용기간 경과 시 투자자정보의 삭제\\n6. 그 밖에 투자자정보의 엄격한 관리를 위하여 대통령령으로 정하는 사항\\n⑩ 제5항에 따라 예치기관이 투자자예탁금을 투자자에게 직접 지급한 경우 예치금융투자업자에 대한 예치기관의\\n투자자예탁금 지급채무와 투자자에 대한 예치금융투자업자의 투자자예탁금 지급채무는 그 범위에서 각각 소멸한\\n것으로 본다.<신설 2021. 6. 8.>\\n⑪ 예치기관은 그 예치기관이 제5항 각 호의 어느 하나에 해당하게 된 경우에는 예치금융투자업자에게 예치 또는\\n신탁받은 투자자예탁금을 우선하여 지급하여야 한다.<개정 2021. 6. 8.>\\n⑫ 예치기관은 다음 각 호의 어느 하나에 해당하는 방법으로 투자자예탁금을 운용하여야 한다.<개정 2021. 6. 8.>\\n1. 국채증권 또는 지방채증권의 매수\\n2. 정부ㆍ지방자치단체 또는 대통령령으로 정하는 금융기관이 지급을 보증한 채무증권의 매수\\n3. 그 밖에 투자자예탁금의 안정적 운용을 해할 우려가 없는 것으로서 대통령령으로 정하는 방법\\n⑬ 제1항 또는 제2항에 따라 투자매매업자 또는 투자중개업자가 예치기관에 예치 또는 신탁하여야 하는 투자자예\\n탁금의 범위, 예치 또는 신탁의 비율, 예치 또는 신탁한 투자자예탁금의 인출, 예치기관의 투자자예탁금 관리, 그 밖\\n에 투자자예탁금의 예치 또는 신탁에 관하여 필요한 사항은 대통령령으로 정한다. 이 경우 예치 또는 신탁의 비율은\\n투자매매업자 또는 투자중개업자의 재무상황 등을 고려하여 인가받은 투자매매업자 또는 투자중개업자별로 달리\\n정할 수 있다.<개정 2021. 6. 8.>\\n법제처                                                            28                                                       국가법령정보센터\\n자본시장과 금융투자업에 관한 법률',\n",
       "   '제75조(투자자 예탁증권의 예탁) ①투자매매업자 또는 투자중개업자는 금융투자상품의 매매, 그 밖의 거래에 따라 보\\n관하게 되는 투자자 소유의 증권(대통령령으로 정하는 것을 포함한다)을 예탁결제원에 지체 없이 예탁하여야 한다.\\n다만, 해당 증권의 유통 가능성, 다른 법령에 따른 유통방법이 있는지 여부, 예탁의 실행 가능성 등을 고려하여 대통\\n령령으로 정하는 경우에는 예탁결제원에 예탁하지 아니할 수 있다. <개정 2013. 5. 28.>\\n② 투자매매업자 또는 투자중개업자가 제1항 본문에 따라 외화증권을 예탁결제원에 예탁하는 경우에는 대통령령으\\n로 정하는 방법에 따라 예탁하여야 한다.<신설 2013. 5. 28.>',\n",
       "   '제76조(집합투자증권 판매 등에 관한 특례) ① 투자매매업자 또는 투자중개업자는 집합투자증권을 판매하는 경우 투자\\n자가 집합투자증권의 취득을 위하여 금전등을 납입한 후 최초로 산정되는 기준가격(제238조제6항에 따른 기준가격\\n을 말한다. 이하 같다)으로 판매하여야 한다. 다만, 투자자의 이익을 해할 우려가 없는 경우로서 대통령령으로 정하는\\n경우에는 대통령령으로 정하는 기준가격으로 판매하여야 한다.\\n② 투자매매업자 또는 투자중개업자는 제92조제1항(제186조제2항에서 준용하는 경우를 포함한다)에 따른 통지를\\n받은 경우에는 해당 집합투자증권을 판매하여서는 아니 된다. 다만, 제92조제2항(제186조제2항에서 준용하는 경우\\n를 포함한다)에 따른 통지를 받은 경우에는 판매를 다시 시작할 수 있다.\\n③ 투자매매업자 또는 투자중개업자는 집합투자기구가 제182조에 따라 등록되기 전에는 해당 집합투자증권을 판\\n매하거나 판매를 위한 광고를 하여서는 아니 된다. 다만, 투자자의 이익을 해할 우려가 없는 경우로서 대통령령으로\\n정하는 경우에는 판매를 위한 광고를 할 수 있다.\\n④ 투자매매업자 또는 투자중개업자는 집합투자증권의 판매와 관련하여 판매수수료(집합투자증권을 판매하는 행위\\n에 대한 대가로 투자자로부터 직접 받는 금전을 말한다. 이하 같다) 및 판매보수(집합투자증권을 판매한 투자매매업\\n자, 투자중개업자가 투자자에게 지속적으로 제공하는 용역의 대가로 집합투자기구로부터 받는 금전을 말한다. 이하\\n같다)를 받는 경우 집합투자기구의 운용실적에 연동(連動)하여 판매수수료 또는 판매보수를 받아서는 아니 된다.\\n<개정 2009. 2. 3.>\\n⑤ 제4항의 판매수수료 및 판매보수는 다음 각 호의 한도를 초과하여서는 아니 된다.<개정 2010. 3. 12., 2015. 7.\\n24.>\\n1. 판매수수료: 납입금액 또는 환매금액의 100분의 3 이하로서 대통령령으로 정하는 한도\\n2. 판매보수: 집합투자재산의 연평균가액의 1천분의 15 이하로서 대통령령으로 정하는 한도\\n⑥ 제5항에 따른 판매수수료 및 판매보수의 한도의 구체적인 설정방법, 부과방법, 그 밖에 판매수수료 및 판매보수\\n에 관하여 필요한 사항은 대통령령으로 정한다.<신설 2010. 3. 12.>',\n",
       "   '제77조(투자성 있는 예금ㆍ보험에 대한 특례) ① 은행이 투자성 있는 예금계약, 그 밖에 이에 준하는 것으로서 대통령\\n령으로 정하는 계약을 체결하는 경우에는 제12조에 따라 투자매매업에 관한 금융투자업인가를 받은 것으로 본다. 이\\n경우 제15조, 제39조부터 제45조까지, 제56조, 제58조, 제61조부터 제65조까지 및 제2편'],\n",
       "  '제5장 온라인소액투자중개업자 등에 대한 특례 <신설 2015. 7. 24.>': ['제117조의3(미등록 영업행위의 금지) 누구든지 이 법에 따라 온라인소액투자중개업자 등록을 하지 아니한 자는 온라인\\n소액투자중개를 할 수 없다.\\n[본조신설 2015. 7. 24.]',\n",
       "   '제117조의4(등록) ① 온라인소액투자중개업자가 되고자 하는 자는 금융위원회에 등록하는 경우 제12조에 따른 인가를\\n받은 것으로 본다.\\n② 제1항에 따라 등록을 하려는 자는 다음 각 호의 요건을 모두 갖추어야 한다.<개정 2015. 7. 31.>\\n1. 다음 각 목의 어느 하나에 해당하는 자일 것\\n가. 「상법」에 따른 주식회사 \\n나. 외국 온라인소액투자중개업자(외국 법령에 따라 외국에서 온라인소액투자중개에 상당하는 영업을 영위하는 \\n자를 말한다. 이하 같다)로서 온라인소액투자중개에 필요한 지점, 그 밖의 영업소를 설치한 자 \\n2. 5억원 이상으로서 대통령령으로 정하는 금액 이상의 자기자본을 갖출 것\\n3. 사업계획이 타당하고 건전할 것\\n4. 투자자의 보호가 가능하고 그 영위하고자 하는 업을 수행하기에 충분한 인력과 전산설비, 그 밖의 물적 설비를\\n갖출 것 \\n5. 임원이 「금융회사의 지배구조에 관한 법률」 제5조에 적합할 것\\n6. 대주주(제12조제2항제6호가목의 대주주를 말한다)나 외국 온라인소액투자중개업자가 충분한 출자능력, 건전한\\n재무상태 및 사회적 신용을 갖출 것 \\n7. 경영건전성기준 등 대통령령으로 정하는 건전한 재무상태와 법령 위반사실이 없는 등 대통령령으로 정하는 건전\\n한 사회적 신용을 갖출 것 \\n8. 온라인소액투자중개업자와 투자자 간, 특정 투자자와 다른 투자자 간의 이해상충을 방지하기 위한 체계로서 대\\n통령령으로 정하는 요건을 갖출 것 \\n③ 제1항에 따른 등록을 하려는 자는 등록신청서를 금융위원회에 제출하여야 한다.\\n④ 금융위원회는 제3항의 등록신청서를 접수한 경우에는 그 내용을 검토하여 2개월 이내에 등록 여부를 결정하고,\\n그 결과와 이유를 지체 없이 신청인에게 문서로 통지하여야 한다. 이 경우 등록신청서에 흠결이 있는 때에는 보완을\\n요구할 수 있다.\\n법제처                                                            47                                                       국가법령정보센터\\n자본시장과 금융투자업에 관한 법률 \\n⑤ 제4항의 검토기간을 산정할 때 등록신청서 흠결의 보완기간 등 총리령으로 정하는 기간은 검토기간에 산입하지\\n아니한다.\\n⑥ 금융위원회는 제4항의 등록 여부를 결정할 때 다음 각 호의 어느 하나에 해당하는 사유가 없으면 등록을 거부하\\n여서는 아니 된다.\\n1. 제2항의 등록요건을 갖추지 아니한 경우\\n2. 제3항의 등록신청서를 거짓으로 작성한 경우\\n3. 제4항 후단의 보완요구를 이행하지 아니한 경우\\n⑦ 금융위원회는 제4항에 따라 등록을 결정한 경우 온라인소액투자중개업자등록부에 필요한 사항을 기재하여야 하\\n며, 등록결정한 내용을 관보 및 인터넷 홈페이지 등에 공고하여야 한다.\\n⑧ 온라인소액투자중개업자는 등록 이후 그 영업을 영위하는 경우 제2항 각 호의 등록요건(같은 항 제7호는 제외하\\n며, 같은 항 제2호 및 제6호의 경우에는 대통령령으로 정하는 완화된 요건을 말한다)을 유지하여야 한다.\\n⑨ 제1항부터 제8항까지의 규정에 따른 등록요건, 등록신청서의 기재사항ㆍ첨부서류 등 등록의 신청에 관한 사항\\n및 등록검토의 방법ㆍ절차, 그 밖에 필요한 사항은 대통령령으로 정한다.\\n[본조신설 2015. 7. 24.]',\n",
       "   '제117조의5(유사명칭의 사용 금지 등) ① 다른 금융투자업(투자중개업 중 온라인소액투자중개에 해당하지 아니하는 것\\n을 포함한다)을 영위하지 아니하는 온라인소액투자중개업자는 상호에 “금융투자” 및 이와 유사한 의미를 가지는 외\\n국어 문자로서 대통령령으로 정하는 문자를 사용하여서는 아니 된다.\\n② 온라인소액투자중개업자가 아닌 자는 “온라인소액투자중개” 또는 이와 유사한 명칭을 사용하여서는 아니 된다.\\n[본조신설 2015. 7. 24.]',\n",
       "   '제117조의6(지배구조 등) ① 온라인소액투자중개업자는 대주주가 변경된 경우에는 이를 2주 이내에 금융위원회에 보\\n고하여야 한다. <개정 2018. 3. 27.>\\n② 온라인소액투자중개업자는 그 임직원이 직무를 수행할 때 준수하여야 할 적절한 기준 및 절차로서 대통령령으\\n로 정하는 사항을 포함하는 내부통제기준을 정하여야 한다.\\n③ 제28조, 제28조의2, 제29조, 제30조, 제31조는 온라인소액투자중개업자에 대하여 적용하지 아니한다.\\n[본조신설 2015. 7. 24.]',\n",
       "   '제117조의7(영업행위의 규제 등) ① 제40조, 제48조, 제50조부터 제53조까지, 제61조, 제66조부터 제70조까지, 제72조\\n부터 제77조까지, 제77조의2, 제77조의3, 제78조 및 「금융소비자 보호에 관한 법률」 제17조부터 제19조까지, 제\\n21조, 제23조, 제25조제1항, 제26조, 제44조부터 제46조까지의 규정은 온라인소액투자중개업자에게 적용하지 아니\\n한다. <개정 2020. 3. 24.>\\n② 온라인소액투자중개업자는 자신이 온라인소액투자중개를 하는 증권을 자기의 계산으로 취득하거나, 증권의 발\\n행 또는 그 청약을 주선 또는 대리하는 행위를 하여서는 아니 된다.\\n③ 온라인소액투자중개업자는 온라인소액투자중개를 통하여 증권을 발행하는 자(이하 이 장에서 “온라인소액증권\\n발행인”이라 한다)의 신용 또는 투자 여부에 대한 투자자의 판단에 영향을 미칠 수 있는 자문이나 온라인소액증권\\n발행인의 경영에 관한 자문에 응하여서는 아니 된다.\\n④ 온라인소액투자중개업자는 투자자가 청약의 내용, 투자에 따르는 위험, 증권의 매도 제한, 증권의 발행조건과 온\\n라인소액증권발행인의 재무상태가 기재된 서류 및 사업계획서의 내용을 충분히 확인하였는지의 여부를 투자자의\\n서명 등 대통령령으로 정하는 방법으로 확인하기 전에는 그 청약의 의사 표시를 받아서는 아니 된다.\\n⑤ 온라인소액투자중개업자는 온라인소액증권발행인의 요청에 따라 투자자의 자격 등을 합리적이고 명확한 기준\\n에 따라 제한할 수 있다.\\n⑥ 온라인소액투자중개업자는 투자자가 청약의 의사를 표시하지 아니한 상태에서 투자자의 재산으로 증권의 청약\\n을 하여서는 아니 된다.\\n법제처                                                            48                                                       국가법령정보센터\\n자본시장과 금융투자업에 관한 법률 \\n⑦ 온라인소액투자중개업자는 온라인소액증권발행인에 관한 정보의 제공, 청약주문의 처리 등의 업무를 수행할 때\\n특정한 온라인소액증권발행인 또는 투자자를 부당하게 우대하거나 차별하여서는 아니 된다. 다만, 투자자가 청약의\\n의사를 먼저 표시하는 등 대통령령으로 정하는 정당한 사유가 있는 경우에는 그러하지 아니하다.\\n⑧ 온라인소액투자중개업자는 증권의 청약기간이 만료된 경우에는 증권의 청약 및 발행에 관한 내역을 금융위원회\\n가 정하여 고시하는 방법에 따라 지체 없이 투자자에게 통지하여야 한다.\\n⑨ 온라인소액투자중개업자는 제117조의10제1항과 제6항에 따른 증권의 발행한도와 투자자의 투자한도가 준수될\\n수 있도록 필요한 조치를 취하여야 한다.\\n⑩ 온라인소액투자중개업자는 다음 각 호의 행위를 제외하고는 증권의 청약을 권유하는 일체의 행위를 하여서는\\n아니 된다.<개정 2017. 10. 31.>\\n1. 제117조의9제1항 본문에 따른 투자광고를 자신의 인터넷 홈페이지에 게시하거나 같은 항 단서에 따라 같은 항\\n각 호의 사항을 제공하는 행위 \\n2. 제117조의10제2항에 따라 온라인소액증권발행인이 게재하는 내용을 자신의 인터넷 홈페이지에 게시하는 행위\\n3. 자신의 인터넷 홈페이지를 통하여 자신이 중개하는 증권 또는 그 온라인소액증권발행인에 대한 투자자들의 의견\\n이 교환될 수 있도록 관리하는 행위. 다만, 온라인소액투자중개업자는 자신의 인터넷 홈페이지를 통하여 공개되 \\n는 투자자들의 의견을 임의로 삭제하거나 수정하여서는 아니 된다. \\n4. 사모의 방식으로 증권의 청약을 권유하는 경우에는 제117조의10제2항에 따라 온라인소액증권발행인이 게재하\\n는 내용을 특정 투자자에게 전송하는 행위 \\n[본조신설 2015. 7. 24.]',\n",
       "   '제117조의8(청약증거금의 관리) ① 온라인소액투자중개업자는 투자자로부터 일체의 금전ㆍ증권, 그 밖의 재산의 보관\\nㆍ예탁을 받아서는 아니 된다.\\n② 온라인소액투자중개업자는 투자자의 청약증거금이 대통령령으로 정하는 은행(이하 이 조에서 “은행”이라 한다)\\n또는 증권금융회사에 예치 또는 신탁되도록 하여야 한다.\\n③ 온라인소액투자중개업자는 제2항에 따라 은행 또는 증권금융회사에 예치 또는 신탁된 투자자의 청약증거금이\\n투자자의 재산이라는 뜻을 밝혀야 한다.\\n④ 누구든지 제2항에 따라 은행 또는 증권금융회사에 예치 또는 신탁된 투자자의 청약증거금을 상계ㆍ압류(가압류\\n를 포함한다)하지 못하며, 온라인소액투자중개업자는 대통령령으로 정하는 경우 외에는 은행 또는 증권금융회사에\\n예치 또는 신탁된 투자자의 청약증거금을 양도하거나 담보로 제공하여서는 아니 된다.\\n⑤ 온라인소액투자중개업자는 등록취소, 해산결의 등 대통령령으로 정하는 사유가 발생한 경우 제2항에 따라 은행\\n또는 증권금융회사에 예치 또는 신탁된 투자자의 청약증거금이 투자자에게 우선하여 지급될 수 있도록 조치하여야\\n한다.\\n⑥ 그 밖에 제1항부터 제5항까지의 청약증거금의 예치 또는 신탁 등과 관련하여 필요한 사항은 대통령령으로 정한\\n다.\\n[본조신설 2015. 7. 24.]',\n",
       "   '제117조의9(투자광고의 특례) ① 온라인소액투자중개업자 또는 온라인소액증권발행인은 온라인소액투자중개업자가\\n개설한 인터넷 홈페이지 이외의 수단을 통해서 투자광고를 하여서는 아니 된다. 다만, 온라인소액투자중개업자 또는\\n온라인소액증권발행인은 다른 매체를 이용하여 다음 각 호의 사항을 제공할 수 있다. <개정 2017. 10. 31.>\\n1. 투자광고가 게시된 인터넷 홈페이지 주소\\n2. 투자광고가 게시된 인터넷 홈페이지에 접속할 수 있는 장치\\n3. 온라인소액투자중개업자ㆍ온라인소액증권발행인의 명칭, 온라인소액증권발행인의 업종 및 증권의 청약기간[온\\n라인소액증권발행인이 개설한 인터넷 홈페이지 또는 「정보통신망 이용촉진 및 정보보호 등에 관한 법률」 제2조 \\n제1항제3호의 정보통신서비스 제공자가 운영하는 포털서비스(다른 인터넷주소ㆍ정보 등의 검색과 전자우편ㆍ커 \\n뮤니티 등을 제공하는 서비스를 말한다)를 이용하여 제공하는 경우에 한정한다]\\n법제처                                                            49                                                       국가법령정보센터\\n자본시장과 금융투자업에 관한 법률 \\n② 온라인소액투자중개업자 또는 온라인소액증권발행인이 아닌 자는 온라인소액투자중개에 대한 투자광고를 하여\\n서는 아니 된다.\\n③ 온라인소액투자중개업자 또는 온라인소액증권발행인이 투자광고를 하는 경우 이 조에서 규정하지 아니한 사항\\n은 제57조를 준용한다.\\n[본조신설 2015. 7. 24.]',\n",
       "   '제117조의10(증권 모집의 특례) ① 온라인소액투자중개의 방법으로 대통령령으로 정하는 금액 이하의 증권을 모집하\\n는 경우에는 제119조 및 제130조를 적용하지 아니한다.\\n② 온라인소액증권발행인은 투자자를 보호하기 위하여 증권의 발행조건과 재무상태, 사업계획서 및 그 밖에 대통령\\n령으로 정하는 사항을 온라인소액투자중개업자가 개설한 홈페이지에 게재하고, 그 밖에 대통령령으로 정하는 조치\\n를 하여야 한다.\\n③ 온라인소액증권발행인은 온라인소액투자중개의 방법으로 증권을 모집하는 경우 청약금액이 모집예정금액에 대\\n통령령으로 정하는 비율을 곱한 금액에 미달하는 때에는 그 발행을 취소하여야 한다.\\n④ 온라인소액증권발행인은 증권의 청약기간의 종료일부터 7일 전까지 제117조의7제10항제3호에 따라 온라인소\\n액투자중개업자가 관리하는 인터넷 홈페이지를 통하여 투자자의 투자판단에 도움을 줄 수 있는 정보를 제공할 수\\n있다. 다만, 온라인소액증권발행인은 대통령령으로 정하는 바에 따라 투자자의 투자판단에 영향을 미칠 수 있는 중\\n요한 사항을 포함하고 있는 정보가 제2항에 따른 게재의 내용과 상이한 경우에는 제2항에 따른 게재의 내용을 즉시\\n정정하고 온라인소액투자중개업자가 관리하는 인터넷 홈페이지를 통하여 정정 게재(정정 게재일이 청약기간의 말\\n일부터 7일 이내인 경우에는 청약기간의 말일은 그 게재일부터 7일 후로 변경된 것으로 본다)하여야 한다.\\n⑤ 온라인소액증권발행인과 그 대주주(온라인소액투자중개의 방법으로 자금을 모집하기 직전을 기준으로 한 대주\\n주를 말한다)는 온라인소액증권발행인이 온라인소액투자중개 방식으로 증권을 발행한 후 1년 이상으로서 대통령령\\n으로 정하는 기간 동안은 보유한 온라인소액증권발행인의 지분을 누구에게도 매도할 수 없다.<개정 2018. 3. 27.>\\n⑥ 투자자(전문투자자 등 대통령령으로 정하는 자를 제외한다)가 온라인소액투자중개를 통하여 투자하는 금액은 다\\n음 각 호의 한도를 초과하여서는 아니 된다.<개정 2017. 10. 31.>\\n1. 소득 등 대통령령으로 정하는 요건을 갖춘 자\\n가. 최근 1년간 동일 온라인소액증권발행인에 대한 누적투자금액: 1천만원 이하로서 대통령령으로 정하는 금액 \\n나. 최근 1년간 누적투자금액: 2천만원 이하로서 대통령령으로 정하는 금액 \\n2. 제1호의 요건을 갖추지 못한 자\\n가. 최근 1년간 동일 온라인소액증권발행인에 대한 누적투자금액: 500만원 이하로서 대통령령으로 정하는 금액 \\n나. 최근 1년간 누적투자금액: 1천만원 이하로서 대통령령으로 정하는 금액 \\n⑦ 투자자는 온라인소액투자중개를 통하여 발행된 증권을 지체 없이 제309조제5항에서 정하는 방법으로 예탁결제\\n원에 예탁하거나 보호예수하여야 하며, 그 예탁일 또는 보호예수일부터 6개월간 해당 증권(증권에 부여된 권리의\\n행사로 취득하는 증권을 포함한다)을 매도, 그 밖의 방법으로 양도할 수 없다. 다만, 다음 각 호의 어느 하나에 해당\\n하는 경우에는 증권을 매도하거나 양도할 수 있다.<개정 2017. 10. 31.>\\n1. 전문투자자에 대한 매도\\n2. 해당 증권의 투자 손실가능성 및 낮은 유통 가능성 등을 인지하고 있는 자로서 대통령령으로 정하는 자에 대한\\n매도 \\n⑧ 투자자는 온라인소액투자중개를 통하여 발행되는 증권의 청약기간의 종료일까지 대통령령으로 정하는 바에 따\\n라 청약의 의사를 철회할 수 있다. 이 경우 온라인소액투자중개업자는 그 투자자의 청약증거금을 지체 없이 반환하\\n여야 한다.\\n[본조신설 2015. 7. 24.]',\n",
       "   '제117조의11(게재 내용의 사실확인) ① 온라인소액투자중개업자는 온라인소액투자중개 전에 해당 온라인소액증권발\\n행인에 관한 다음 각 호의 사항에 관한 사실을 확인하여야 한다.\\n법제처                                                            50                                                       국가법령정보센터\\n자본시장과 금융투자업에 관한 법률 \\n1. 온라인소액증권발행인의 재무상황\\n2. 온라인소액증권발행인의 사업계획이 투자자 보호를 위하여 대통령령으로 정하는 항목을 포함하였는지 여부\\n3. 온라인소액증권발행인의 대표자 및 경영진의 이력\\n4. 모집 자금의 사용 계획이 투자자 보호를 위하여 대통령령으로 정하는 항목을 포함하였는지 여부\\n5. 그 밖에 온라인소액증권발행인의 신뢰성을 확인할 수 있는 사항으로서 대통령령으로 정하는 사항\\n② 제1항 각 호의 사항에 관한 사실을 확인하는 방법 및 절차는 금융위원회가 정하여 고시하는 바에 따른다.\\n[본조신설 2015. 7. 24.]',\n",
       "   '제117조의12(손해배상책임 등) ① 제117조의10제2항에 따라 게재한 증권의 발행조건과 재무상태 등을 기재한 서류 또\\n는 사업계획서(제117조의10제4항에 따라 정정하여 게재한 경우를 포함한다) 중 중요사항에 관한 거짓의 기재 또는\\n표시가 있거나, 중요사항이 기재 또는 표시되지 아니함으로써 온라인소액투자중개를 통하여 증권을 취득한 자가 손\\n해를 입은 경우에는 다음 각 호의 자는 그 손해에 관하여 배상책임을 진다. 다만, 배상의 책임을 질 자가 상당한 주의\\n를 하였음에도 불구하고 이를 알 수 없었음을 증명하거나 그 증권의 취득자가 취득의 청약을 할 때에 그 사실을 안\\n경우에는 배상의 책임을 지지 아니한다.\\n1. 온라인소액증권발행인\\n2. 그 증권의 발행조건과 재무상태 등을 기재한 서류 또는 사업계획서의 작성 당시의 온라인소액증권발행인의 대표\\n자 또는 이사(이사가 없는 경우에는 이에 준하는 자를 말하며, 법인의 설립 전에 작성된 경우에는 그 발기인을 말 \\n한다) \\n3. 「상법」 제401조의2제1항 각 호의 어느 하나에 해당하는 자로서 그 증권의 발행조건과 재무상태 등을 기재한 서\\n류 또는 사업계획서의 작성을 지시하거나 집행한 자 \\n4. 그 증권의 발행조건과 재무상태 등을 기재한 서류 또는 사업계획서가 진실 또는 정확하다고 증명하여 서명한 공\\n인회계사ㆍ감정인 또는 신용평가를 전문으로 하는 자 등(그 소속 단체를 포함한다) 대통령령으로 정하는 자 \\n5. 그 증권의 발행조건과 재무상태 등을 기재한 서류 또는 사업계획서에 자기의 평가ㆍ분석ㆍ확인 의견이 기재되는\\n것에 동의하고 그 기재 내용을 확인하는 자 \\n② 제1항에 따른 손해배상액의 산정에 관하여는 제126조를 준용한다.\\n③ 제1항에 따른 배상의 책임은 그 청구권자가 해당 사실을 안 날부터 1년 이내 또는 해당 증권의 청약기간의 종료\\n일 전 7일부터 3년 이내에 청구권을 행사하지 아니한 경우에는 소멸한다.\\n[본조신설 2015. 7. 24.]',\n",
       "   '제117조의13(중앙기록관리기관) ① 온라인소액투자중개업자는 온라인소액증권발행인으로부터 증권의 모집 또는 사모\\n의 중개에 관한 의뢰를 받거나 투자자로부터 청약의 주문을 받은 경우 의뢰 또는 주문의 내용, 온라인소액증권발행\\n인과 투자자에 대한 정보 등 대통령령으로 정하는 자료를 지체 없이 중앙기록관리기관(대통령령으로 정하는 바에 따\\n라 온라인소액투자중개업자로부터 온라인소액증권발행인과 투자자에 대한 정보를 제공받아 관리하는 기관을 말한\\n다. 이하 같다)에 제공하여야 한다.\\n② 온라인소액투자중개업자는 제117조의7제9항에 따른 조치를 하기 위하여 필요한 사항을 중앙기록관리기관에 위\\n탁하여야 한다.\\n③ 중앙기록관리기관은 제1항에 따라 제공받은 자료를 대통령령으로 정하는 방법에 따라 보관ㆍ관리하여야 한다.\\n④ 중앙기록관리기관은 제1항에 따라 제공받은 자료를 타인에게 제공하여서는 아니 된다. 다만, 온라인소액투자중\\n개업자 또는 해당 온라인소액증권발행인에게 제공하는 경우, 그 밖에 대통령령으로 정하는 경우에는 이를 제공할\\n수 있다.\\n[본조신설 2015. 7. 24.]',\n",
       "   '제117조의14(투자자명부의 관리) ① 온라인소액증권발행인은 투자자명부(주주명부 등 증권의 소유자 내역을 기재ㆍ관\\n리하는 명부를 말한다)의 관리에 관한 업무를 예탁결제원에 위탁하여야 한다.\\n법제처                                                            51                                                       국가법령정보센터\\n자본시장과 금융투자업에 관한 법률 \\n② 예탁결제원은 제1항에 따라 위탁을 받은 경우 다음 각 호의 사항을 기재한 투자자명부를 작성ㆍ비치하여야 한다\\n.\\n1. 투자자의 주소 및 성명\\n2. 투자자가 소유하는 증권의 수량\\n3. 증권의 실물을 발행한 경우에는 그 번호\\n③ 예탁결제원은 제2항 각 호에 관한 정보를 타인에게 제공하여서는 아니 된다. 다만, 온라인소액투자중개업자 또\\n는 해당 온라인소액증권발행인에게 제공하는 경우, 그 밖에 대통령령으로 정하는 경우에는 이를 제공할 수 있다.\\n④ 「상법」 제358조의2제1항 및 제2항은 온라인소액투자중개를 통하여 발행된 증권에 관하여 준용한다.\\n[본조신설 2015. 7. 24.]',\n",
       "   '제117조의15(전자게시판서비스 제공자의 책임) ① 「정보통신망 이용촉진 및 정보보호 등에 관한 법률」 제2조제1항제\\n9호의 게시판을 운영하는 같은 항 제3호의 정보통신서비스 제공자(이하 “전자게시판서비스 제공자”라 한다)는 해당\\n게시판을 통하여 제117조의9제1항 각 호의 사항의 제공이 이루어지는 경우 이로 인한 투자자 피해가 발생하지 아니\\n하도록 다음 각 호의 사항을 이행하여야 한다. <개정 2017. 10. 31.>\\n1. 온라인소액증권발행인 또는 온라인소액투자중개업자가 게시판을 이용하여 제117조의9제1항 각 호의 사항을 제\\n공하는 경우 제117조의9에 따른 의무를 준수하도록 안내하고 권고할 것 \\n2. 게시판을 이용하여 제117조의9제1항 각 호의 사항을 제공하는 온라인소액증권발행인 또는 온라인소액투자중개\\n업자가 이 법을 위반하는 경우 다음 각 목의 조치를 이행할 것 \\n가. 위반자에 대한 접속 제한, 법을 위반하여 게재된 정보의 삭제 등 투자자 피해를 방지하기 위한 조치 \\n나. 위반자의 법 위반 사실을 금융위원회에 신고 \\n3. 그 밖에 대통령령으로 정하는 사항\\n② 금융위원회는 전자게시판서비스 제공자가 제1항에 따른 이행을 하지 아니하는 경우 방송통신위원회에 시정명령\\n을 하거나 과태료를 부과하도록 요구할 수 있다.\\n[본조신설 2015. 7. 24.]',\n",
       "   '제117조의16(검사 및 조치) 제419조제2항부터 제4항까지 및 제8항은 온라인소액투자중개업자에게 적용하지 아니한다.\\n[본조신설 2015. 7. 24.]\\n \\n     제3편 증권의 발행 및 유통'],\n",
       "  '제1장 증권신고서': ['제118조(적용범위) 이 장은 국채증권, 지방채증권, 대통령령으로 정하는 법률에 따라 직접 설립된 법인이 발행한 채권,\\n그 밖에 다른 법률에 따라 충분한 공시가 행하여지는 등 투자자 보호가 이루어지고 있다고 인정되는 증권으로서 대\\n통령령으로 정하는 증권에 관하여는 적용하지 아니한다.',\n",
       "   '제119조(모집 또는 매출의 신고) ① 증권의 모집 또는 매출(대통령령으로 정하는 방법에 따라 산정한 모집가액 또는 매\\n출가액 각각의 총액이 대통령령으로 정하는 금액 이상인 경우에 한한다)은 발행인이 그 모집 또는 매출에 관한 신고\\n서를 금융위원회에 제출하여 수리되지 아니하면 이를 할 수 없다. <개정 2008. 2. 29.>\\n② 제1항에 불구하고 증권의 종류, 발행예정기간, 발행횟수, 발행인의 요건 등을 고려하여 대통령령으로 정하는 기\\n준과 방법에 따라 일정기간 동안 모집하거나 매출할 증권의 총액을 일괄하여 기재한 신고서(이하 “일괄신고서”라\\n한다)를 금융위원회에 제출하여 수리된 경우에는 그 기간 중에 그 증권을 모집하거나 매출할 때마다 제출하여야 하\\n는 신고서를 따로 제출하지 아니하고 그 증권을 모집하거나 매출할 수 있다. 이 경우 그 증권(집합투자증권 및 파생\\n결합증권 중 대통령령으로 정하는 것을 제외한다)을 모집하거나 매출할 때마다 대통령령으로 정하는 일괄신고와\\n관련된 서류(이하 “일괄신고추가서류”라 한다)를 제출하여야 한다.<개정 2008. 2. 29., 2013. 5. 28.>\\n법제처                                                            52                                                       국가법령정보센터\\n자본시장과 금융투자업에 관한 법률 \\n③ 발행인은 제1항의 신고서와 제2항의 일괄신고서(이하 “증권신고서”라 한다)에 발행인(투자신탁의 수익증권 및\\n투자익명조합의 지분증권의 경우에는 그 투자신탁 및 투자익명조합을 말한다. 이하 이 항에서 같다)의 미래의 재무\\n상태나 영업실적 등에 대한 예측 또는 전망에 관한 사항으로서 다음 각 호의 사항(이하 “예측정보”라 한다)을 기재\\n또는 표시할 수 있다. 이 경우 예측정보의 기재 또는 표시는 제125조제2항제1호ㆍ제2호 및 제4호의 방법에 따라야\\n한다.\\n1. 매출규모ㆍ이익규모 등 발행인의 영업실적, 그 밖의 경영성과에 대한 예측 또는 전망에 관한 사항\\n2. 자본금규모ㆍ자금흐름 등 발행인의 재무상태에 대한 예측 또는 전망에 관한 사항\\n3. 특정한 사실의 발생 또는 특정한 계획의 수립으로 인한 발행인의 경영성과 또는 재무상태의 변동 및 일정시점에\\n서의 목표수준에 관한 사항 \\n4. 그 밖에 발행인의 미래에 대한 예측 또는 전망에 관한 사항으로서 대통령령으로 정하는 사항\\n④ 증권신고서를 제출하는 경우 증권신고서에 기재하여야 할 사항이나 그 첨부서류에 이미 제출된 것과 같은 부분\\n이 있는 때에는 그 부분을 적시하여 이를 참조하라는 뜻을 기재한 서면으로 갈음할 수 있다.\\n⑤ 증권신고서를 제출하는 경우 신고 당시 해당 발행인의 대표이사(집행임원 설치회사의 경우 대표집행임원을 말\\n한다. 이하 이 조에서 같다) 및 신고업무를 담당하는 이사(대표이사 및 신고업무를 담당하는 이사가 없는 경우 이에\\n준하는 자를 말한다)는 그 증권신고서의 기재사항 중 중요사항에 관하여 거짓의 기재 또는 표시가 있거나 중요사항\\n의 기재 또는 표시가 누락되어 있지 아니하다는 사실 등 대통령령으로 정하는 사항을 확인ㆍ검토하고 이에 각각 서\\n명하여야 한다.<개정 2013. 5. 28.>\\n⑥ 제1항부터 제5항까지의 규정에도 불구하고 발행인 및 같은 종류의 증권에 대하여 충분한 공시가 이루어지고 있\\n는 등 대통령령으로 정한 사유에 해당하는 때에는 매출에 관한 증권신고서를 제출하지 아니할 수 있다.<신설 2013.\\n5. 28.>\\n⑦ 제1항부터 제4항까지의 증권신고서의 기재사항 및 그 첨부서류에 관하여 필요한 사항은 대통령령으로 정한다.\\n<개정 2013. 5. 28.>\\n⑧ 자금조달 계획의 동일성 등 대통령령으로 정하는 사항을 종합적으로 고려하여 둘 이상의 증권의 발행 또는 매도\\n가 사실상 동일한 증권의 발행 또는 매도로 인정되는 경우에는 하나의 증권의 발행 또는 매도로 보아 제1항을 적용\\n한다.<신설 2017. 10. 31.>',\n",
       "   '제119조의2(자료요구권 등) ① 종속회사(발행인이 지배회사로서 그 회사와 「주식회사 등의 외부감사에 관한 법률」 제\\n2조제3호에 따른 대통령령으로 정하는 지배ㆍ종속의 관계에 있는 경우 그에 종속되는 회사를 말하며, 국제회계기준\\n등 발행인이 적용한 회계기준에 따라 연결재무제표 작성대상 종속회사를 보유한 외국법인등의 경우에는 해당 회계\\n기준에 따른 종속회사를 말한다. 이하 같다)가 있는 법인(이하 “연결재무제표 작성대상법인”이라 한다) 중 증권신고\\n서를 제출하여야 하는 법인은 증권신고서의 작성을 위하여 필요한 범위에서 종속회사에게 관련 자료의 제출을 요구\\n할 수 있다. <개정 2017. 10. 31.>\\n② 연결재무제표 작성대상법인 중 증권신고서를 제출하여야 하는 법인은 증권신고서의 작성을 위하여 필요한 자료\\n를 입수할 수 없거나 종속회사가 제출한 자료의 내용을 확인할 필요가 있는 때에는 종속회사의 업무와 재산상태를\\n조사할 수 있다.\\n[본조신설 2013. 5. 28.]',\n",
       "   '제120조(신고의 효력발생시기 등) ① 제119조제1항 및 제2항에 따른 증권의 신고(이하 “증권신고”라 한다)는 그 증권신\\n고서가 금융위원회에 제출되어 수리된 날부터 증권의 종류 또는 거래의 특성 등을 고려하여 총리령으로 정하는 기\\n간이 경과한 날에 그 효력이 발생한다. <개정 2008. 2. 29.>\\n② 금융위원회는 증권신고서의 형식을 제대로 갖추지 아니한 경우 또는 그 증권신고서 중 중요사항에 관하여 거짓\\n의 기재 또는 표시가 있거나 중요사항이 기재 또는 표시되지 아니한 경우를 제외하고는 그 수리를 거부하여서는 아\\n니 된다.<개정 2008. 2. 29.>\\n③ 제1항의 효력의 발생은 그 증권신고서의 기재사항이 진실 또는 정확하다는 것을 인정하거나 정부에서 그 증권의\\n가치를 보증 또는 승인하는 효력을 가지지 아니한다.\\n법제처                                                            53                                                       국가법령정보센터\\n자본시장과 금융투자업에 관한 법률 \\n④ 증권의 발행인은 증권신고를 철회하고자 하는 경우에는 그 증권신고서에 기재된 증권의 취득 또는 매수의 청약\\n일 전일까지 철회신고서를 금융위원회에 제출하여야 한다.<개정 2008. 2. 29.>',\n",
       "   '제121조(거래의 제한) ① 제120조에 따른 신고의 효력이 발생하지 아니한 증권의 취득 또는 매수의 청약이 있는 경우\\n에 그 증권의 발행인ㆍ매출인과 그 대리인은 그 청약의 승낙을 하여서는 아니 된다.\\n② 제119조제2항에 따라 일괄신고추가서류를 제출하여야 하는 경우 그 일괄신고추가서류가 제출되지 아니하면 그\\n증권의 발행인ㆍ매출인과 그 대리인은 그 증권에 관한 취득 또는 매수의 청약에 대한 승낙을 하여서는 아니 된다.',\n",
       "   '제122조(정정신고서) ① 금융위원회는 증권신고서의 형식을 제대로 갖추지 아니한 경우 또는 그 증권신고서 중 중요사\\n항에 관하여 거짓의 기재 또는 표시가 있거나 중요사항이 기재 또는 표시되지 아니한 경우와 중요사항의 기재나 표\\n시내용이 불분명하여 투자자의 합리적인 투자판단을 저해하거나 투자자에게 중대한 오해를 일으킬 수 있는 경우에\\n는 그 증권신고서에 기재된 증권의 취득 또는 매수의 청약일 전일까지 그 이유를 제시하고 그 증권신고서의 기재내\\n용을 정정한 신고서(이하 이 장에서 “정정신고서”라 한다)의 제출을 요구할 수 있다. <개정 2008. 2. 29., 2009. 2. 3.>\\n② 제1항에 따른 요구가 있는 경우 그 증권신고서는 그 요구를 한 날부터 수리되지 아니한 것으로 본다.\\n③ 증권신고서(제119조제2항의 일괄신고추가서류를 포함한다. 이하 이 항에서 같다)를 제출한 자는 그 증권신고서\\n의 기재사항을 정정하고자 하는 경우에는 그 증권신고서에 기재된 증권의 취득 또는 매수의 청약일 전일까지 정정\\n신고서를 제출할 수 있다. 이 경우 대통령령으로 정하는 중요한 사항을 정정하고자 하는 경우 또는 투자자 보호를\\n위하여 그 증권신고서에 기재된 내용을 정정할 필요가 있는 경우로서 대통령령으로 정하는 경우에는 반드시 정정\\n신고서를 제출하여야 한다.<개정 2013. 5. 28.>\\n④ 일괄신고서를 제출한 자는 제3항에 불구하고 그 발행예정기간 종료 전까지 정정신고서를 제출할 수 있다. 이 경\\n우 집합투자증권 중 대통령령으로 정하는 것을 제외하고는 발행예정금액 및 발행예정기간은 이를 정정하여서는 아\\n니 된다. 다만, 발행예정금액의 100분의 20의 범위에서 대통령령으로 정하는 한도 이하로 감액되는 발행예정금액은\\n정정할 수 있다.<개정 2009. 2. 3.>\\n⑤ 제1항ㆍ제3항 또는 제4항에 따라 정정신고서가 제출된 경우에는 그 정정신고서가 수리된 날에 그 증권신고서가\\n수리된 것으로 본다.\\n⑥ 제1항에 따른 요구를 받은 후 대통령령으로 정하는 기한 이내에 발행인이 정정신고서를 제출하지 아니하는 경우\\n에는 해당 증권신고서를 철회한 것으로 본다.<신설 2013. 5. 28.>',\n",
       "   '제123조(투자설명서의 작성ㆍ공시) ① 제119조에 따라 증권을 모집하거나 매출하는 경우 그 발행인은 대통령령으로\\n정하는 방법에 따라 작성한 투자설명서(이하 “투자설명서”라 한다) 및 제124조제2항제3호에 따른 간이투자설명서\\n(모집 또는 매출하는 증권이 집합투자증권인 경우로 한정한다. 이하 이 조에서 같다)를 그 증권신고의 효력이 발생하\\n는 날(제119조제2항에 따라 일괄신고추가서류를 제출하여야 하는 경우에는 그 일괄신고추가서류를 제출하는 날로\\n한다)에 금융위원회에 제출하여야 하며, 이를 총리령으로 정하는 장소에 비치하고 일반인이 열람할 수 있도록 하여\\n야 한다. <개정 2008. 2. 29., 2013. 5. 28.>\\n② 투자설명서에는 증권신고서(제119조제2항의 일괄신고추가서류를 포함한다. 이하 이 장에서 같다)에 기재된 내\\n용과 다른 내용을 표시하거나 그 기재사항을 누락하여서는 아니 된다. 다만, 기업경영 등 비밀유지와 투자자 보호와\\n의 형평 등을 고려하여 기재를 생략할 필요가 있는 사항으로서 대통령령으로 정하는 사항에 대하여는 그 기재를 생\\n략할 수 있다.\\n③ 대통령령으로 정하는 집합투자증권 및 파생결합증권의 발행인은 제1항 외에 다음 각 호의 구분에 따라 투자설명\\n서 및 간이투자설명서를 금융위원회에 추가로 제출하여야 하며, 이를 총리령으로 정하는 장소에 비치하고 일반인이\\n열람할 수 있도록 하여야 한다. 다만, 그 집합투자증권 및 파생결합증권의 모집 또는 매출을 중지한 경우에는 제출\\nㆍ비치 및 공시를 하지 아니할 수 있다.<개정 2008. 2. 29., 2013. 5. 28.>\\n1. 제1항에 따라 투자설명서 및 간이투자설명서를 제출한 후 총리령으로 정하는 기간마다 1회 이상 다시 고친 투자\\n설명서 및 간이투자설명서를 제출할 것\\n법제처                                                            54                                                       국가법령정보센터\\n자본시장과 금융투자업에 관한 법률 \\n2. 제182조제8항에 따라 변경등록을 한 경우 변경등록의 통지를 받은 날부터 5일 이내에 그 내용을 반영한 투자설\\n명서 및 간이투자설명서를 제출할 것',\n",
       "   '제124조(정당한 투자설명서의 사용) ① 누구든지 증권신고의 효력이 발생한 증권을 취득하고자 하는 자(전문투자자, 그\\n밖에 대통령령으로 정하는 자를 제외한다)에게 제123조에 적합한 투자설명서(집합투자증권의 경우 투자자가 제\\n123조에 따른 투자설명서의 교부를 별도로 요청하지 아니하는 경우에는 제2항제3호에 따른 간이투자설명서를 말한\\n다. 이하 이 항 및 제132조에서 같다)를 미리 교부하지 아니하면 그 증권을 취득하게 하거나 매도하여서는 아니 된다\\n. 이 경우 투자설명서가 제436조에 따른 전자문서의 방법에 따르는 때에는 다음 각 호의 요건을 모두 충족하는 때에\\n이를 교부한 것으로 본다. <개정 2013. 5. 28.>\\n1. 전자문서에 의하여 투자설명서를 받는 것을 전자문서를 받을 자(이하 “전자문서수신자”라 한다)가 동의할 것\\n2. 전자문서수신자가 전자문서를 받을 전자전달매체의 종류와 장소를 지정할 것\\n3. 전자문서수신자가 그 전자문서를 받은 사실이 확인될 것\\n4. 전자문서의 내용이 서면에 의한 투자설명서의 내용과 동일할 것\\n② 누구든지 증권신고의 대상이 되는 증권의 모집 또는 매출, 그 밖의 거래를 위하여 청약의 권유 등을 하고자 하는\\n경우에는 다음 각 호의 어느 하나에 해당하는 방법에 따라야 한다.\\n1. 제120조제1항에 따라 증권신고의 효력이 발생한 후 투자설명서를 사용하는 방법\\n2. 제120조제1항에 따라 증권신고서가 수리된 후 신고의 효력이 발생하기 전에 발행인이 대통령령으로 정하는 방\\n법에 따라 작성한 예비투자설명서(신고의 효력이 발생되지 아니한 사실을 덧붙여 적은 투자설명서를 말한다. 이 \\n하 같다)를 사용하는 방법 \\n3. 제120조제1항에 따라 증권신고서가 수리된 후 신문ㆍ방송ㆍ잡지 등을 이용한 광고, 안내문ㆍ홍보전단 또는 전자\\n전달매체를 통하여 발행인이 대통령령으로 정하는 방법에 따라 작성한 간이투자설명서(투자설명서에 기재하여야 \\n할 사항 중 그 일부를 생략하거나 중요한 사항만을 발췌하여 기재 또는 표시한 문서, 전자문서, 그 밖에 이에 준하 \\n는 기재 또는 표시를 말한다. 이하 같다)를 사용하는 방법 \\n③ 집합투자증권의 경우 제2항에도 불구하고 간이투자설명서를 사용할 수 있다. 다만, 투자자가 제123조에 따른 투\\n자설명서의 사용을 별도로 요청하는 경우에는 그러하지 아니하다.<신설 2013. 5. 28.>\\n④ 제1항 및 제3항에 따라 집합투자증권의 간이투자설명서를 교부하거나 사용하는 경우에는 투자자에게 제123조\\n에 따른 투자설명서를 별도로 요청할 수 있음을 알려야 한다.<신설 2013. 5. 28.>',\n",
       "   '제125조(거짓의 기재 등으로 인한 배상책임) ① 증권신고서(정정신고서 및 첨부서류를 포함한다. 이하 이 조에서 같다\\n)와 투자설명서(예비투자설명서 및 간이투자설명서를 포함한다. 이하 이 조에서 같다) 중 중요사항에 관하여 거짓의\\n기재 또는 표시가 있거나 중요사항이 기재 또는 표시되지 아니함으로써 증권의 취득자가 손해를 입은 경우에는 다\\n음 각 호의 자는 그 손해에 관하여 배상의 책임을 진다. 다만, 배상의 책임을 질 자가 상당한 주의를 하였음에도 불구\\n하고 이를 알 수 없었음을 증명하거나 그 증권의 취득자가 취득의 청약을 할 때에 그 사실을 안 경우에는 배상의 책\\n임을 지지 아니한다. <개정 2009. 2. 3., 2013. 5. 28.>\\n1. 그 증권신고서의 신고인과 신고 당시의 발행인의 이사(이사가 없는 경우 이에 준하는 자를 말하며, 법인의 설립\\n전에 신고된 경우에는 그 발기인을 말한다) \\n2. 「상법」 제401조의2제1항 각 호의 어느 하나에 해당하는 자로서 그 증권신고서의 작성을 지시하거나 집행한 자\\n3. 그 증권신고서의 기재사항 또는 그 첨부서류가 진실 또는 정확하다고 증명하여 서명한 공인회계사ㆍ감정인 또는\\n신용평가를 전문으로 하는 자 등(그 소속단체를 포함한다) 대통령령으로 정하는 자 \\n4. 그 증권신고서의 기재사항 또는 그 첨부서류에 자기의 평가ㆍ분석ㆍ확인 의견이 기재되는 것에 대하여 동의하고\\n그 기재내용을 확인한 자 \\n5. 그 증권의 인수인 또는 주선인(인수인 또는 주선인이 2인 이상인 경우에는 대통령령으로 정하는 자를 말한다)\\n6. 그 투자설명서를 작성하거나 교부한 자\\n7. 매출의 방법에 의한 경우 매출신고 당시의 매출인\\n법제처                                                            55                                                       국가법령정보센터\\n자본시장과 금융투자업에 관한 법률 \\n② 예측정보가 다음 각 호에 따라 기재 또는 표시된 경우에는 제1항에 불구하고 제1항 각 호의 자는 그 손해에 관하\\n여 배상의 책임을 지지 아니한다. 다만, 그 증권의 취득자가 취득의 청약 시에 예측정보 중 중요사항에 관하여 거짓\\n의 기재 또는 표시가 있거나 중요사항이 기재 또는 표시되지 아니한 사실을 알지 못한 경우로서 제1항 각 호의 자\\n에게 그 기재 또는 표시와 관련하여 고의 또는 중대한 과실이 있었음을 증명한 경우에는 배상의 책임을 진다.\\n1. 그 기재 또는 표시가 예측정보라는 사실이 밝혀져 있을 것\\n2. 예측 또는 전망과 관련된 가정이나 판단의 근거가 밝혀져 있을 것\\n3. 그 기재 또는 표시가 합리적 근거나 가정에 기초하여 성실하게 행하여졌을 것\\n4. 그 기재 또는 표시에 대하여 예측치와 실제 결과치가 다를 수 있다는 주의문구가 밝혀져 있을 것\\n③ 제2항은 주권비상장법인이 최초로 주권을 모집 또는 매출하기 위하여 증권신고서를 제출하는 경우에는 적용하\\n지 아니한다.',\n",
       "   '제126조(손해배상액) ① 제125조에 따라 배상할 금액은 청구권자가 해당 증권을 취득함에 있어서 실제로 지급한 금액\\n에서 다음 각 호의 어느 하나에 해당하는 금액을 뺀 금액으로 추정한다.\\n1. 제125조에 따라 손해배상을 청구하는 소송의 변론이 종결될 때의 그 증권의 시장가격(시장가격이 없는 경우에는\\n추정처분가격을 말한다) \\n2. 제1호의 변론종결 전에 그 증권을 처분한 경우에는 그 처분가격\\n② 제1항에 불구하고 제125조에 따라 배상책임을 질 자는 청구권자가 입은 손해액의 전부 또는 일부가 중요사항에\\n관하여 거짓의 기재 또는 표시가 있거나 중요사항이 기재 또는 표시되지 아니함으로써 발생한 것이 아님을 증명한\\n경우에는 그 부분에 대하여 배상책임을 지지 아니한다.',\n",
       "   '제127조(배상청구권의 소멸) 제125조에 따른 배상의 책임은 그 청구권자가 해당 사실을 안 날부터 1년 이내 또는 해당\\n증권에 관하여 증권신고서의 효력이 발생한 날부터 3년 이내에 청구권을 행사하지 아니한 경우에는 소멸한다.',\n",
       "   '제128조(증권발행실적보고서) 증권신고의 효력이 발생한 증권의 발행인은 금융위원회가 정하여 고시하는 방법에 따라\\n그 발행실적에 관한 보고서(이하 “증권발행실적보고서”라 한다)를 금융위원회에 제출하여야 한다. <개정 2008. 2.\\n29.>',\n",
       "   '제129조(신고서와 보고서의 공시) 금융위원회는 다음 각 호의 서류를 3년간 일정한 장소에 비치하고, 인터넷 홈페이지\\n등을 이용하여 공시하여야 한다. 이 경우 기업경영 등 비밀유지와 투자자 보호와의 형평 등을 고려하여 대통령령으\\n로 정하는 사항을 제외하고 비치 및 공시할 수 있다. <개정 2008. 2. 29., 2013. 5. 28.>\\n1. 증권신고서 및 정정신고서\\n2. 투자설명서(집합투자증권의 경우 제124조제2항제3호에 따른 간이투자설명서를 포함한다)\\n3. 증권발행실적보고서',\n",
       "   '제130조(신고서를 제출하지 아니하는 모집ㆍ매출) ① 제119조제1항에 따른 신고서를 제출하지 아니하고 증권을 모집\\n또는 매출하는 발행인은 투자자를 보호하기 위하여 재무상태에 관한 사항의 공시, 그 밖에 대통령령으로 정하는 조\\n치를 하여야 한다. 다만, 제119조제6항에서 정한 사유에 해당하는 때에는 그러하지 아니하다. <개정 2013. 5. 28.,\\n2017. 10. 31.>\\n② 자금조달 계획의 동일성 등 대통령령으로 정하는 사항을 종합적으로 고려하여 둘 이상의 증권의 발행 또는 매도\\n가 사실상 동일한 증권의 발행 또는 매도로 인정되는 경우에는 하나의 증권의 발행 또는 매도로 보아 제1항을 적용\\n한다.<신설 2017. 10. 31.>',\n",
       "   '제131조(보고 및 조사) ① 금융위원회는 투자자 보호를 위하여 필요한 경우에는 증권신고의 신고인, 증권의 발행인ㆍ매\\n출인ㆍ인수인, 그 밖의 관계인에 대하여 참고가 될 보고 또는 자료의 제출을 명하거나, 금융감독원장에게 그 장부ㆍ\\n서류, 그 밖의 물건을 조사하게 할 수 있다. <개정 2008. 2. 29.>\\n법제처                                                            56                                                       국가법령정보센터\\n자본시장과 금융투자업에 관한 법률 \\n② 제1항에 따라 조사를 하는 자는 그 권한을 표시하는 증표를 지니고 이를 관계인에게 내보여야 한다.',\n",
       "   '제132조(위원회의 조치) 금융위원회는 다음 각 호의 어느 하나에 해당하는 경우에는 증권신고의 신고인, 증권의 발행인\\nㆍ매출인ㆍ인수인 또는 주선인에 대하여 이유를 제시한 후 그 사실을 공고하고 정정을 명할 수 있으며, 필요한 때에\\n는 그 증권의 발행ㆍ모집ㆍ매출, 그 밖의 거래를 정지 또는 금지하거나 대통령령으로 정하는 조치를 할 수 있다. 이\\n경우 그 조치에 필요한 절차 및 조치기준은 총리령으로 정한다. <개정 2008. 2. 29., 2009. 2. 3., 2013. 5. 28.>\\n1. 증권신고서ㆍ정정신고서 또는 증권발행실적보고서를 제출하지 아니한 경우\\n2. 증권신고서ㆍ정정신고서 또는 증권발행실적보고서 중 중요사항에 관하여 거짓의 기재 또는 표시가 있거나 중요\\n사항이 기재 또는 표시되지 아니한 경우 \\n3. 제121조를 위반하여 증권의 취득 또는 매수의 청약에 대한 승낙을 한 경우\\n4. 투자설명서에 관하여 제123조 또는 제124조를 위반한 경우\\n5. 예비투자설명서 또는 간이투자설명서에 의한 증권의 모집ㆍ매출, 그 밖의 거래에 관하여 제124조제2항을 위반한\\n경우 \\n6. 제130조에 따른 조치를 하지 아니한 경우'],\n",
       "  '제2장 기업의 인수ㆍ합병 관련제도\\n         제1절 공개매수': ['제133조(공개매수의 적용대상) ① 이 절에서 “공개매수”란 불특정 다수인에 대하여 의결권 있는 주식, 그 밖에 대통령\\n령으로 정하는 증권(이하 “주식등”이라 한다)의 매수(다른 증권과의 교환을 포함한다. 이하 이 절에서 같다)의 청약을\\n하거나 매도(다른 증권과의 교환을 포함한다. 이하 이 절에서 같다)의 청약을 권유하고 증권시장 및 다자간매매체결\\n회사(이와 유사한 시장으로서 해외에 있는 시장을 포함한다. 이하 이 절에서 같다) 밖에서 그 주식등을 매수하는 것\\n을 말한다. <개정 2013. 5. 28.>\\n② 이 절에서 “공개매수사무취급자”란 공개매수를 하고자 하는 자를 대리하여 매수ㆍ교환ㆍ입찰, 그 밖의 유상취득\\n(이하 이 절에서 “매수등”이라 한다)을 할 주식등의 보관, 공개매수에 필요한 자금 또는 교환대상 증권의 지급, 그 밖\\n의 공개매수 관련 사무를 취급하는 자를 말한다.\\n③ 주식등을 대통령령으로 정하는 기간 동안 증권시장 밖에서 대통령령으로 정하는 수 이상의 자로부터 매수등을\\n하고자 하는 자는 그 매수등을 한 후에 본인과 그 특별관계자(대통령령으로 정하는 특별한 관계가 있는 자를 말한\\n다. 이하 같다)가 보유(소유, 그 밖에 이에 준하는 경우로서 대통령령으로 정하는 경우를 포함한다. 이하 이 절 및 제\\n2절에서 같다)하게 되는 주식등의 수의 합계가 그 주식등의 총수의 100분의 5 이상이 되는 경우(본인과 그 특별관\\n계자가 보유하는 주식등의 수의 합계가 그 주식등의 총수의 100분의 5 이상인 자가 그 주식등의 매수등을 하는 경\\n우를 포함한다)에는 공개매수를 하여야 한다. 다만, 매수등의 목적, 유형, 그 밖에 다른 주주의 권익침해 가능성 등을\\n고려하여 대통령령으로 정하는 매수등의 경우에는 공개매수 외의 방법으로 매수등을 할 수 있다.\\n④ 제3항을 적용함에 있어서 증권시장에서의 경쟁매매 외의 방법에 의한 주식등의 매수로서 대통령령으로 정하는\\n매수의 경우에는 증권시장 밖에서 행하여진 것으로 본다.\\n⑤ 제3항에 따른 주식등의 수와 주식등의 총수는 총리령으로 정하는 방법에 따라 산정한 수로 한다.<개정 2008. 2.\\n29.>',\n",
       "   '제134조(공개매수공고 및 공개매수신고서의 제출) ① 공개매수를 하고자 하는 자는 대통령령으로 정하는 방법에 따라\\n다음 각 호의 사항을 공고(이하 “공개매수공고”라 한다)하여야 한다.\\n1. 공개매수를 하고자 하는 자\\n2. 공개매수할 주식등의 발행인(그 주식등과 관련된 증권예탁증권, 그 밖에 대통령령으로 정하는 주식등의 경우에\\n는 대통령령으로 정하는 자를 말한다. 이하 이 절에서 같다) \\n3. 공개매수의 목적\\n법제처                                                            57                                                       국가법령정보센터\\n자본시장과 금융투자업에 관한 법률 \\n4. 공개매수할 주식등의 종류 및 수\\n5. 공개매수기간ㆍ가격ㆍ결제일 등 공개매수조건\\n6. 매수자금의 명세, 그 밖에 투자자 보호를 위하여 필요한 사항으로서 대통령령으로 정하는 사항\\n② 공개매수공고를 한 자(이하 “공개매수자”라 한다)는 대통령령으로 정하는 방법에 따라 다음 각 호의 사항을 기재\\n한 신고서(이하 “공개매수신고서”라 한다)를 그 공개매수공고를 한 날(이하 “공개매수공고일”이라 한다)에 금융위원\\n회와 거래소에 제출하여야 한다. 다만, 공개매수공고일이 공휴일(「근로자의 날 제정에 관한 법률」에 따른 근로자의\\n날 및 토요일을 포함한다), 그 밖에 금융위원회가 정하여 고시하는 날에 해당되는 경우에는 그 다음 날에 제출할 수\\n있다.<개정 2008. 2. 29.>\\n1. 공개매수자 및 그 특별관계자에 관한 사항\\n2. 공개매수할 주식등의 발행인\\n3. 공개매수의 목적\\n4. 공개매수할 주식등의 종류 및 수\\n5. 공개매수기간ㆍ가격ㆍ결제일 등 공개매수조건\\n6. 공개매수공고일 이후에 공개매수에 의하지 아니하고 주식등의 매수등을 하는 계약이 있는 경우에는 그 계약의\\n내용 \\n7. 매수자금의 명세, 그 밖에 투자자 보호를 위하여 필요한 사항으로서 대통령령으로 정하는 사항\\n③ 제1항 및 제2항에 따른 공개매수기간은 대통령령으로 정하는 기간 이내여야 한다.\\n④ 공개매수자는 공개매수신고서에 그 주식등의 발행인의 예측정보를 기재 또는 표시할 수 있다. 이 경우 예측정보\\n의 기재 또는 표시는 제125조제2항제1호ㆍ제2호 및 제4호의 방법에 따라야 한다.\\n⑤ 공개매수신고서의 첨부서류, 그 밖에 공개매수신고서에 관하여 필요한 사항은 대통령령으로 정한다.',\n",
       "   '제135조(신고서 사본의 송부) 공개매수자는 공개매수신고서를 제출한 경우에는 지체 없이 그 사본을 공개매수할 주식\\n등의 발행인에게 송부하여야 한다.',\n",
       "   '제136조(정정신고ㆍ공고 등) ① 금융위원회는 공개매수신고서의 형식을 제대로 갖추지 아니한 경우 또는 그 공개매수\\n신고서 중 중요사항에 관하여 거짓의 기재 또는 표시가 있거나 중요사항이 기재 또는 표시되지 아니한 경우에는 공\\n개매수기간이 종료하는 날까지 그 이유를 제시하고 그 공개매수신고서의 기재내용을 정정한 신고서(이하 이 절에서\\n“정정신고서”라 한다)의 제출을 요구할 수 있다. <개정 2008. 2. 29.>\\n② 제1항에 따른 요구가 있는 경우 그 공개매수신고서는 그 요구를 한 날부터 제출되지 아니한 것으로 본다.\\n③ 공개매수자는 공개매수조건, 그 밖에 공개매수신고서의 기재사항을 정정하고자 하는 경우 또는 투자자 보호를\\n위하여 그 공개매수신고서에 기재된 내용을 정정할 필요가 있는 경우로서 총리령으로 정하는 경우에는 공개매수기\\n간이 종료하는 날까지 금융위원회와 거래소에 정정신고서를 제출하여야 한다. 다만, 매수가격의 인하, 매수예정 주\\n식등의 수의 감소, 매수대금 지급기간의 연장(제4항제1호의 경우를 제외한다), 그 밖에 대통령령으로 정하는 공개매\\n수조건 등은 변경할 수 없다.<개정 2008. 2. 29.>\\n④ 공개매수자가 제1항 또는 제3항에 따라 공개매수신고서의 정정신고서를 제출하는 경우 공개매수기간의 종료일\\n은 다음 각 호와 같다.\\n1. 그 정정신고서를 제출한 날이 제134조제1항제5호에 따라 공고한 공개매수기간 종료일 전 10일 이내에 해당하는\\n경우에는 그 정정신고서를 제출한 날부터 10일이 경과한 날 \\n2. 그 정정신고서를 제출한 날이 제134조제1항제5호에 따라 공고한 공개매수기간 종료일 전 10일 이내에 해당하지\\n아니하는 경우에는 그 공개매수기간이 종료하는 날 \\n⑤ 공개매수자는 제1항 또는 제3항에 따라 정정신고서를 제출한 경우에는 지체 없이 그 사실과 정정한 내용(공개매\\n수공고에 포함된 사항에 한한다)을 공고하여야 한다. 이 경우 공고의 방법은 제134조제1항에 따른다.\\n⑥ 공개매수자는 공개매수신고서의 정정신고서를 제출한 경우에는 지체 없이 그 사본을 공개매수할 주식등의 발행\\n인에게 송부하여야 한다.\\n법제처                                                            58                                                       국가법령정보센터\\n자본시장과 금융투자업에 관한 법률',\n",
       "   '제137조(공개매수설명서의 작성ㆍ공시) ① 공개매수자(공개매수사무취급자를 포함한다. 이하 이 조에서 같다)는 공개\\n매수를 하고자 하는 경우에는 대통령령으로 정하는 방법에 따라 그 공개매수에 관한 설명서(이하 “공개매수설명서\\n”라 한다)를 작성하여 공개매수공고일에 금융위원회와 거래소에 제출하여야 하며, 이를 총리령으로 정하는 장소에\\n비치하고 일반인이 열람할 수 있도록 하여야 한다. 이 경우 제134조제2항 각 호 외의 부분 단서를 준용한다. <개정\\n2008. 2. 29.>\\n② 공개매수설명서에는 공개매수신고서에 기재된 내용과 다른 내용을 표시하거나 그 기재사항을 누락하여서는 아\\n니 된다.\\n③ 공개매수자는 공개매수할 주식등을 매도하고자 하는 자에게 제1항에 적합한 공개매수설명서를 미리 교부하지\\n아니하면 그 주식등을 매수하여서는 아니 된다. 이 경우 공개매수설명서가 제436조에 따른 전자문서의 방법에 따르\\n는 때에는 다음 각 호의 요건을 모두 충족하는 때에 이를 교부한 것으로 본다.\\n1. 전자문서에 의하여 공개매수설명서를 받는 것을 전자문서수신자가 동의할 것\\n2. 전자문서수신자가 전자문서를 받을 전자전달매체의 종류와 장소를 지정할 것\\n3. 전자문서수신자가 그 전자문서를 받은 사실이 확인될 것\\n4. 전자문서의 내용이 서면에 의한 공개매수설명서의 내용과 동일할 것',\n",
       "   '제138조(공개매수에 관한 의견표명) ① 공개매수신고서가 제출된 주식등의 발행인은 대통령령으로 정하는 방법에 따\\n라 그 공개매수에 관한 의견을 표명할 수 있다.\\n② 발행인은 제1항에 따라 의견을 표명한 경우에는 그 내용을 기재한 문서를 지체 없이 금융위원회와 거래소에 제\\n출하여야 한다.<개정 2008. 2. 29.>',\n",
       "   '제139조(공개매수의 철회 등) ① 공개매수자는 공개매수공고일 이후에는 공개매수를 철회할 수 없다. 다만, 대항공개매\\n수(공개매수기간 중 그 공개매수에 대항하는 공개매수를 말한다)가 있는 경우, 공개매수자가 사망ㆍ해산ㆍ파산한 경\\n우, 그 밖에 투자자 보호를 해할 우려가 없는 경우로서 대통령령으로 정하는 경우에는 공개매수기간의 말일까지 철\\n회할 수 있다.\\n② 공개매수자는 제1항에 따라 공개매수를 철회하고자 하는 경우에는 철회신고서를 금융위원회와 거래소에 제출하\\n고, 그 내용을 공고하여야 한다. 이 경우 공고의 방법은 제134조제1항에 따른다.<개정 2008. 2. 29.>\\n③ 공개매수자는 공개매수의 철회신고서를 제출한 경우에는 지체 없이 그 사본을 공개매수를 철회할 주식등의 발\\n행인에게 송부하여야 한다.\\n④ 공개매수대상 주식등의 매수의 청약에 대한 승낙 또는 매도의 청약(이하 “응모”라 한다)을 한 자(이하 “응모주주\\n”라 한다)는 공개매수기간 중에는 언제든지 응모를 취소할 수 있다. 이 경우 공개매수자는 응모주주에 대하여 그 응\\n모의 취소에 따른 손해배상 또는 위약금의 지급을 청구할 수 없다.',\n",
       "   '제140조(공개매수에 의하지 아니한 매수등의 금지) 공개매수자(그 특별관계자 및 공개매수사무취급자를 포함한다)는\\n공개매수공고일부터 그 매수기간이 종료하는 날까지 그 주식등을 공개매수에 의하지 아니하고는 매수등을 하지 못\\n한다. 다만, 공개매수에 의하지 아니하고 그 주식등의 매수등을 하더라도 다른 주주의 권익침해가 없는 경우로서 대\\n통령령으로 정하는 경우에는 공개매수에 의하지 아니하고 매수등을 할 수 있다.',\n",
       "   '제141조(공개매수의 조건과 방법) ① 공개매수자는 공개매수신고서에 기재한 매수조건과 방법에 따라 응모한 주식등\\n의 전부를 공개매수기간이 종료하는 날의 다음 날 이후 지체 없이 매수하여야 한다. 다만, 다음 각 호의 어느 하나에\\n해당하는 조건을 공개매수공고에 게재하고 공개매수신고서에 기재한 경우에는 그 조건에 따라 응모한 주식등의 전\\n부 또는 일부를 매수하지 아니할 수 있다.\\n1. 응모한 주식등의 총수가 공개매수 예정주식등의 수에 미달할 경우 응모 주식등의 전부를 매수하지 아니한다는\\n조건 \\n2. 응모한 주식등의 총수가 공개매수 예정주식등의 수를 초과할 경우에는 공개매수 예정주식등의 수의 범위에서 비\\n례배분하여 매수하고 그 초과 부분의 전부 또는 일부를 매수하지 아니한다는 조건\\n법제처                                                            59                                                       국가법령정보센터\\n자본시장과 금융투자업에 관한 법률 \\n② 공개매수자가 제1항에 따라 공개매수를 하는 경우 그 매수가격은 균일하여야 한다.',\n",
       "   '제142조(공개매수자 등의 배상책임) ① 공개매수신고서(그 첨부서류를 포함한다. 이하 이 조에서 같다) 및 그 공고, 정\\n정신고서(그 첨부서류를 포함한다. 이하 이 조에서 같다) 및 그 공고 또는 공개매수설명서 중 중요사항에 관하여 거\\n짓의 기재 또는 표시가 있거나 중요사항이 기재 또는 표시되지 아니함으로써 응모주주가 손해를 입은 경우에는 다\\n음 각 호의 자는 그 손해에 관하여 배상의 책임을 진다. 다만, 배상의 책임을 질 자가 상당한 주의를 하였음에도 불구\\n하고 이를 알 수 없었음을 증명하거나 응모주주가 응모를 할 때에 그 사실을 안 경우에는 배상의 책임을 지지 아니\\n한다.\\n1. 공개매수신고서 및 그 정정신고서의 신고인(신고인의 특별관계자를 포함하며, 신고인이 법인인 경우 그 이사를\\n포함한다)과 그 대리인 \\n2. 공개매수설명서의 작성자와 그 대리인\\n② 예측정보가 다음 각 호에 따라 기재 또는 표시된 경우에는 제1항에 불구하고 제1항 각 호의 자는 그 손해에 관하\\n여 배상의 책임을 지지 아니한다. 다만, 응모주주가 주식등의 응모를 할 때에 예측정보 중 중요사항에 관하여 거짓\\n의 기재 또는 표시가 있거나 중요사항이 기재 또는 표시되지 아니한 사실을 알지 못한 경우로서 제1항 각 호의 자\\n에게 그 기재 또는 표시와 관련하여 고의 또는 중대한 과실이 있었음을 증명한 경우에는 배상의 책임을 진다.\\n1. 그 기재 또는 표시가 예측정보라는 사실이 밝혀져 있을 것\\n2. 예측 또는 전망과 관련된 가정 또는 판단의 근거가 밝혀져 있을 것\\n3. 그 기재 또는 표시가 합리적 근거 또는 가정에 기초하여 성실하게 행하여졌을 것\\n4. 그 기재 또는 표시에 대하여 예측치와 실제 결과치가 다를 수 있다는 주의문구가 밝혀져 있을 것\\n③ 제1항 및 제2항에 따라 배상할 금액은 손해배상을 청구하는 소송의 변론이 종결될 때의 그 주식등의 시장가격\\n(시장가격이 없는 경우에는 추정처분가격을 말한다)에서 응모의 대가로 실제로 받은 금액을 뺀 금액으로 추정한다.\\n④ 제3항에 불구하고 제1항 및 제2항에 따라 배상책임을 질 자는 응모주주가 입은 손해액의 전부 또는 일부가 중요\\n사항에 관하여 거짓의 기재 또는 표시가 있거나 중요사항을 기재 또는 표시하지 아니함으로써 발생한 것이 아님을\\n증명한 경우에는 그 부분에 대하여 배상의 책임을 지지 아니한다.\\n⑤ 제1항 및 제2항에 따른 배상책임은 응모주주가 해당 사실을 안 날부터 1년 이내 또는 해당 공개매수공고일부터\\n3년 이내에 청구권을 행사하지 아니한 경우에는 소멸한다.',\n",
       "   '제143조(공개매수결과보고서) 공개매수자는 금융위원회가 정하여 고시하는 방법에 따라 공개매수의 결과를 기재한 보\\n고서(이하 “공개매수결과보고서”라 한다)를 금융위원회와 거래소에 제출하여야 한다. <개정 2008. 2. 29.>',\n",
       "   '제144조(신고서 등의 공시) 금융위원회와 거래소는 다음 각 호의 서류를 그 접수일부터 3년간 비치하고, 인터넷 홈페이\\n지 등을 이용하여 공시하여야 한다. <개정 2008. 2. 29.>\\n1. 공개매수신고서 및 정정신고서\\n2. 공개매수설명서\\n3. 제138조에 따른 문서\\n4. 제139조제2항에 따른 철회신고서\\n5. 공개매수결과보고서',\n",
       "   '제145조(의결권 제한 등) 제133조제3항 또는 제134조제1항ㆍ제2항을 위반하여 주식등의 매수등을 한 경우에는 그 날\\n부터 그 주식(그 주식등과 관련한 권리 행사 등으로 취득한 주식을 포함한다)에 대한 의결권을 행사할 수 없으며, 금\\n융위원회는 6개월 이내의 기간을 정하여 그 주식등(그 주식등과 관련한 권리 행사 등으로 취득한 주식을 포함한다\\n)의 처분을 명할 수 있다. <개정 2008. 2. 29.>',\n",
       "   '제146조(조사 및 조치) ① 금융위원회는 투자자 보호를 위하여 필요한 경우에는 공개매수자, 공개매수자의 특별관계자,\\n공개매수사무취급자, 그 밖의 관계인에 대하여 참고가 될 보고 또는 자료의 제출을 명하거나, 금융감독원장에게 그\\n장부ㆍ서류, 그 밖의 물건을 조사하게 할 수 있다. 이 경우 제131조제2항을 준용한다. <개정 2008. 2. 29.>\\n법제처                                                            60                                                       국가법령정보센터\\n자본시장과 금융투자업에 관한 법률 \\n② 금융위원회는 다음 각 호의 어느 하나에 해당하는 경우에는 공개매수자, 공개매수자의 특별관계자 또는 공개매\\n수사무취급자에 대하여 이유를 제시한 후 그 사실을 공고하고 정정을 명할 수 있으며, 필요한 때에는 그 공개매수를\\n정지 또는 금지하거나 대통령령으로 정하는 조치를 할 수 있다. 이 경우 그 조치에 필요한 절차 및 조치기준은 총리\\n령으로 정한다.<개정 2008. 2. 29., 2009. 2. 3.>\\n1. 공개매수공고 또는 제136조제5항의 공고를 하지 아니한 경우\\n2. 공개매수신고서, 정정신고서 또는 공개매수결과보고서를 제출하지 아니한 경우\\n3. 공개매수공고, 공개매수신고서, 정정신고서, 제136조제5항의 공고 또는 공개매수결과보고서 중 중요사항에 관하\\n여 거짓의 기재 또는 표시가 있거나 중요사항이 기재 또는 표시되지 아니한 경우 \\n4. 제135조, 제136조제6항 또는 제139조제3항을 위반하여 공개매수신고서, 정정신고서 또는 철회신고서의 사본을\\n발행인에게 송부하지 아니한 경우 \\n5. 제135조, 제136조제6항 또는 제139조제3항에 따른 신고서 사본에 신고서에 기재된 내용과 다른 내용을 표시하\\n거나 그 내용을 누락하여 송부한 경우 \\n6. 공개매수설명서에 관하여 제137조를 위반한 경우\\n7. 제139조제1항 또는 제2항을 위반하여 공개매수를 철회한 경우\\n8. 제140조를 위반하여 공개매수에 의하지 아니하고 매수등을 한 경우\\n9. 제141조를 위반하여 공개매수를 한 경우\\n10. 제145조를 위반하여 의결권을 행사하거나, 같은 조에 따른 처분명령을 위반한 경우\\n \\n         제2절 주식등의 대량보유상황의 보고',\n",
       "   '제147조(주식등의 대량보유 등의 보고) ① 주권상장법인의 주식등(제234조제1항에 따른 상장지수집합투자기구인 투자\\n회사의 주식은 제외한다. 이하 이 절에서 같다)을 대량보유(본인과 그 특별관계자가 보유하게 되는 주식등의 수의 합\\n계가 그 주식등의 총수의 100분의 5 이상인 경우를 말한다)하게 된 자는 그 날부터 5일(대통령령으로 정하는 날은\\n산입하지 아니한다. 이하 이 절에서 같다) 이내에 그 보유상황, 보유 목적(발행인의 경영권에 영향을 주기 위한 목적\\n여부를 말한다), 그 보유 주식등에 관한 주요계약내용, 그 밖에 대통령령으로 정하는 사항을 대통령령으로 정하는 방\\n법에 따라 금융위원회와 거래소에 보고하여야 하며, 그 보유 주식등의 수의 합계가 그 주식등의 총수의 100분의 1\\n이상 변동된 경우(그 보유 주식등의 수가 변동되지 아니한 경우, 그 밖에 대통령령으로 정하는 경우를 제외한다)에는\\n그 변동된 날부터 5일 이내에 그 변동내용을 대통령령으로 정하는 방법에 따라 금융위원회와 거래소에 보고하여야\\n한다. 이 경우 그 보유 목적이 발행인의 경영권에 영향을 주기 위한 것(임원의 선임ㆍ해임 또는 직무의 정지, 이사회\\n등 회사의 기관과 관련된 정관의 변경 등 대통령령으로 정하는 것을 말한다)이 아닌 경우와 전문투자자 중 대통령령\\n으로 정하는 자의 경우에는 그 보고내용 및 보고시기 등을 대통령령으로 달리 정할 수 있다. <개정 2008. 2. 29.,\\n2016. 3. 29.>\\n② 제1항에 따른 주식등의 수 및 주식등의 총수는 총리령으로 정하는 방법에 따라 산정한 수로 한다.<개정 2008. 2.\\n29.>\\n③ 제1항에 따라 주식등의 대량보유상황ㆍ보유 목적 또는 그 변동내용을 보고하는 날 전일까지 새로 변동내용을 보\\n고하여야 할 사유가 발생한 경우 새로 보고하여야 하는 변동내용은 당초의 대량보유상황, 보유 목적 또는 그 변동내\\n용을 보고할 때 이를 함께 보고하여야 한다.\\n④ 제1항에 따라 보고한 자는 그 보유 목적이나 그 보유 주식등에 관한 주요계약내용 등 대통령령으로 정하는 중요\\n한 사항의 변경이 있는 경우에는 5일 이내에 금융위원회와 거래소에 보고하여야 한다.<개정 2008. 2. 29.>',\n",
       "   '제148조(대량보유보고서 등의 발행인에 대한 송부) 제147조제1항 또는 제4항에 따라 보고한 자는 지체 없이 그 사본을\\n해당 주식등의 발행인(대통령령으로 정하는 주식등의 경우에는 대통령령으로 정하는 자를 말한다)에게 송부하여야\\n한다.\\n법제처                                                            61                                                       국가법령정보센터\\n자본시장과 금융투자업에 관한 법률',\n",
       "   '제149조(보고서 등의 공시) 금융위원회 및 거래소는 제147조제1항 및 제4항에 따라 제출받은 보고서를 3년간 비치하\\n고, 인터넷 홈페이지 등을 이용하여 공시하여야 한다. <개정 2008. 2. 29.>',\n",
       "   '제150조(위반 주식등의 의결권행사 제한 등) ① 제147조제1항ㆍ제3항 및 제4항에 따라 보고(그 정정보고를 포함한다\\n)하지 아니한 자 또는 대통령령으로 정하는 중요한 사항을 거짓으로 보고하거나 대통령령으로 정하는 중요한 사항의\\n기재를 누락한 자는 대통령령으로 정하는 기간 동안 의결권 있는 발행주식총수의 100분의 5를 초과하는 부분 중 위\\n반분에 대하여 그 의결권을 행사하여서는 아니 되며, 금융위원회는 6개월 이내의 기간을 정하여 그 위반분의 처분을\\n명할 수 있다. <개정 2008. 2. 29.>\\n② 제147조제1항ㆍ제3항 및 제4항에 따라 주식등의 보유 목적을 발행인의 경영권에 영향을 주기 위한 것으로 보고\\n하는 자는 그 보고하여야 할 사유가 발생한 날부터 보고한 날 이후 5일까지 그 발행인의 주식등을 추가로 취득하거\\n나 보유 주식등에 대하여 그 의결권을 행사할 수 없다.\\n③ 제2항을 위반하여 주식등을 추가로 취득한 자는 그 추가 취득분에 대하여 그 의결권을 행사할 수 없으며, 금융위\\n원회는 6개월 이내의 기간을 정하여 그 추가 취득분의 처분을 명할 수 있다.<개정 2008. 2. 29.>',\n",
       "   '제151조(조사 및 정정요구 등) ① 금융위원회는 투자자 보호를 위하여 필요한 경우에는 제147조제1항 또는 제4항에 따\\n라 보고서를 제출한 자, 그 밖의 관계인에 대하여 참고가 될 보고 또는 자료의 제출을 명하거나, 금융감독원장에게\\n그 장부ㆍ서류, 그 밖의 물건을 조사하게 할 수 있다. 이 경우 제131조제2항을 준용한다. <개정 2008. 2. 29.>\\n② 금융위원회는 제147조제1항 또는 제4항에 따라 제출된 보고서의 형식을 제대로 갖추지 아니한 경우 또는 그 보\\n고서 중 중요사항에 관하여 거짓의 기재 또는 표시가 있거나 중요사항의 기재 또는 표시가 누락된 경우에는 그 이\\n유를 제시하고 그 보고서의 정정을 명할 수 있으며, 필요한 때에는 거래를 정지 또는 금지하거나 대통령령으로 정하\\n는 조치를 할 수 있다.<개정 2008. 2. 29.>\\n \\n         제3절 의결권 대리행사의 권유 제한',\n",
       "   '제152조(의결권 대리행사의 권유) ① 상장주권(그 상장주권과 관련된 증권예탁증권을 포함한다. 이하 이 절에서 같다\\n)의 의결권 대리행사의 권유를 하고자 하는 자(이하 “의결권권유자”라 한다)는 그 권유에 있어서 그 상대방(이하 “의\\n결권피권유자”라 한다)에게 대통령령으로 정하는 방법에 따라 위임장 용지 및 참고서류를 교부하여야 한다.\\n② 제1항에서 “의결권 대리행사의 권유”란 다음 각 호의 어느 하나에 해당하는 행위를 말한다. 다만, 의결권피권유\\n자의 수 등을 고려하여 대통령령으로 정하는 경우에는 의결권 대리행사의 권유로 보지 아니한다.\\n1. 자기 또는 제삼자에게 의결권의 행사를 대리시키도록 권유하는 행위\\n2. 의결권의 행사 또는 불행사를 요구하거나 의결권 위임의 철회를 요구하는 행위\\n3. 의결권의 확보 또는 그 취소 등을 목적으로 주주에게 위임장 용지를 송부하거나, 그 밖의 방법으로 의견을 제시\\n하는 행위 \\n③ 국가기간산업 등 국민경제상 중요한 산업을 영위하는 법인으로서 대통령령으로 정하는 상장법인(이하 “공공적\\n법인”이라 한다)의 경우에는 그 공공적 법인만이 그 주식의 의결권 대리행사의 권유를 할 수 있다.\\n④ 제1항의 위임장 용지는 주주총회의 목적사항 각 항목에 대하여 의결권피권유자가 찬반(贊反)을 명기할 수 있도\\n록 하여야 한다.\\n⑤ 의결권권유자는 위임장 용지에 나타난 의결권피권유자의 의사에 반하여 의결권을 행사할 수 없다.\\n⑥ 위임장 용지 및 참고서류의 기재사항 등에 관하여 필요한 사항은 대통령령으로 정한다.',\n",
       "   '제152조의2(발행인과 의결권권유자와의 관계) ① 발행인이 아닌 의결권권유자는 발행인이 의결권 대리행사의 권유를\\n하는 경우에는 그 발행인에 대하여 다음 각 호의 어느 하나에 해당하는 행위를 할 것을 요구할 수 있다. <개정 2016.\\n3. 22.>\\n1. 발행인이 아닌 의결권권유자에 대하여 주주명부의 열람ㆍ등사를 허용하는 행위\\n법제처                                                            62                                                       국가법령정보센터\\n자본시장과 금융투자업에 관한 법률 \\n2. 발행인이 아닌 의결권권유자를 위하여 그 의결권권유자의 비용으로 위임장 용지 및 참고서류를 주주에게 송부하\\n는 행위 \\n② 발행인은 제1항에 따른 요구가 있는 경우에는 요구받은 날부터 2일(대통령령으로 정하는 날은 제외한다) 이내에\\n이에 응하여야 한다.\\n[본조신설 2013. 5. 28.]',\n",
       "   '제153조(위임장 용지 및 참고서류의 비치 및 열람) 의결권권유자는 제152조에 따라 위임장 용지 및 참고서류를 의결권\\n피권유자에게 제공하는 날 2일(대통령령으로 정하는 날을 제외한다) 전까지 이를 금융위원회와 거래소에 제출하여\\n야 하며, 총리령으로 정하는 장소에 이를 비치하고 일반인이 열람할 수 있도록 하여야 한다. <개정 2008. 2. 29.,\\n2013. 5. 28.>',\n",
       "   '제154조(정당한 위임장 용지 등의 사용) 의결권권유자는 위임장 용지 및 참고서류 중 의결권피권유자의 의결권 위임\\n여부 판단에 중대한 영향을 미칠 수 있는 사항(이하 이 절에서 “의결권 위임 관련 중요사항”이라 한다)에 관하여 거\\n짓의 기재 또는 표시를 하거나 의결권 위임 관련 중요사항의 기재 또는 표시를 누락하여서는 아니 된다.',\n",
       "   '제155조(의견표명) 의결권 대리행사의 권유대상이 되는 상장주권의 발행인은 의결권 대리행사의 권유에 대하여 의견\\n을 표명한 경우에는 그 내용을 기재한 서면을 지체 없이 금융위원회와 거래소에 제출하여야 한다. <개정 2008. 2.\\n29.>',\n",
       "   '제156조(정정요구 등) ① 금융위원회는 위임장용지 및 참고서류의 형식을 제대로 갖추지 아니한 경우 또는 위임장 용\\n지 및 참고서류 중 의결권 위임 관련 중요사항에 관하여 거짓의 기재 또는 표시가 있거나 의결권 위임 관련 중요사\\n항이 기재 또는 표시되지 아니한 경우에는 그 이유를 제시하고 위임장용지 및 참고서류를 정정하여 제출할 것을 요\\n구할 수 있다. <개정 2008. 2. 29.>\\n② 제1항에 따른 요구가 있는 경우에는 당초 제출한 위임장용지 및 참고서류는 제출하지 아니한 것으로 본다.\\n③ 의결권권유자는 위임장 용지 및 참고서류의 기재사항을 정정하고자 하는 경우에는 그 권유와 관련된 주주총회\\n일 7일(대통령령으로 정하는 날을 제외한다) 전까지 이를 정정하여 제출할 수 있다. 이 경우 대통령령으로 정하는\\n중요한 사항을 정정하고자 하는 경우 또는 투자자 보호를 위하여 그 위임장 용지 및 참고서류에 기재된 내용을 정\\n정할 필요가 있는 경우로서 대통령령으로 정하는 경우에는 반드시 이를 정정하여 제출하여야 한다.',\n",
       "   '제157조(위임장용지 등의 공시) 금융위원회와 거래소는 제152조에 따른 위임장용지 및 참고서류, 제155조에 따른 서면\\n및 제156조에 따른 정정내용을 그 접수일부터 3년간 비치하고, 인터넷 홈페이지 등을 이용하여 공시하여야 한다.\\n<개정 2008. 2. 29.>',\n",
       "   '제158조(조사 및 조치) ① 금융위원회는 투자자 보호를 위하여 필요한 경우에는 의결권권유자, 그 밖의 관계인에 대하\\n여 참고가 될 보고 또는 자료의 제출을 명하거나, 금융감독원장에게 그 장부ㆍ서류, 그 밖의 물건을 조사하게 할 수\\n있다. 이 경우 제131조제2항을 준용한다. <개정 2008. 2. 29.>\\n② 금융위원회는 다음 각 호의 어느 하나에 해당하는 경우에는 의결권권유자에 대하여 이유를 제시한 후 그 사실을\\n공고하고 정정을 명할 수 있으며, 필요한 때에는 의결권 대리행사의 권유를 정지 또는 금지하거나 대통령령으로 정\\n하는 조치를 할 수 있다. 이 경우 그 조치에 필요한 절차 및 조치기준은 총리령으로 정한다.<개정 2008. 2. 29.,\\n2009. 2. 3.>\\n1. 제152조제1항을 위반하여 위임장 용지 및 참고서류를 의결권피권유자에게 교부하지 아니한 경우\\n2. 제152조제3항을 위반하여 공공적 법인이 아닌 자가 의결권 대리행사의 권유를 한 경우\\n3. 위임장 용지 및 참고서류에 관하여 제153조 또는 제154조를 위반한 경우\\n4. 제153조 또는 제156조제1항ㆍ제3항에 따라 제출하는 위임장 용지 및 참고서류 중 의결권 위임 관련 중요사항에\\n관하여 거짓의 기재 또는 표시가 있거나 의결권 위임 관련 중요사항이 기재 또는 표시되지 아니한 경우\\n법제처                                                            63                                                       국가법령정보센터\\n자본시장과 금융투자업에 관한 법률 \\n5. 제156조제3항 후단을 위반하여 정정서류를 제출하지 아니한 경우'],\n",
       "  '제3장 상장법인의 사업보고서 등': ['제159조(사업보고서 등의 제출) ① 주권상장법인, 그 밖에 대통령령으로 정하는 법인(이하 “사업보고서 제출대상법인\\n”이라 한다)은 그 사업보고서를 각 사업연도 경과 후 90일 이내에 금융위원회와 거래소에 제출하여야 한다. 다만, 파\\n산, 그 밖의 사유로 인하여 사업보고서의 제출이 사실상 불가능하거나 실효성이 없는 경우로서 대통령령으로 정하는\\n경우에는 사업보고서를 제출하지 아니할 수 있다. <개정 2008. 2. 29.>\\n② 사업보고서 제출대상법인은 제1항의 사업보고서에 다음 각 호의 사항을 기재하고, 대통령령으로 정하는 서류를\\n첨부하여야 한다.<개정 2013. 5. 28., 2016. 3. 29.>\\n1. 회사의 목적, 상호, 사업내용\\n2. 임원보수(「상법」, 그 밖의 법률에 따른 주식매수선택권을 포함하되, 대통령령으로 정하는 것에 한한다. 이하 이\\n항에서 같다) \\n3. 임원 개인별 보수와 그 구체적인 산정기준 및 방법(임원 개인에게 지급된 보수가 5억원 이내의 범위에서 대통령\\n령으로 정하는 금액 이상인 경우에 한한다) \\n3의2. 보수총액 기준 상위 5명의 개인별 보수와 그 구체적인 산정기준 및 방법(개인에게 지급된 보수가 5억원 이내\\n의 범위에서 대통령령으로 정하는 금액 이상인 경우에 한정한다) \\n4. 재무에 관한 사항\\n5. 그 밖에 대통령령으로 정하는 사항\\n③ 최초로 제1항에 따라 사업보고서를 제출하여야 하는 법인은 사업보고서 제출대상법인에 해당하게 된 날부터\\n5일(제1항에 따른 사업보고서의 제출기간 중에 사업보고서 제출대상법인에 해당하게 된 경우에는 그 제출기한으로\\n한다) 이내에 그 직전 사업연도의 사업보고서를 금융위원회와 거래소에 제출하여야 한다. 다만, 그 법인이 증권신고\\n서 등을 통하여 이미 직전 사업연도의 사업보고서에 준하는 사항을 공시한 경우에는 직전 사업연도의 사업보고서\\n를 제출하지 아니할 수 있다.<개정 2008. 2. 29., 2009. 2. 3.>\\n④ 사업보고서 제출대상법인은 제1항의 사업보고서를 작성함에 있어서 금융위원회가 정하여 고시하는 기재방법 및\\n서식에 따라야 한다.<개정 2008. 2. 29., 2009. 2. 3.>\\n⑤ 삭제<2009. 2. 3.>\\n⑥ 사업보고서 제출대상법인은 사업보고서에 그 법인의 예측정보를 기재 또는 표시할 수 있다. 이 경우 예측정보의\\n기재 또는 표시는 제125조제2항제1호ㆍ제2호 및 제4호의 방법에 따라야 한다.\\n⑦ 사업보고서를 제출하는 경우 제출 당시 그 법인의 대표이사(집행임원 설치회사의 경우 대표집행임원을 말한다)\\n및 제출업무를 담당하는 이사는 그 사업보고서의 기재사항 중 중요사항에 관하여 거짓의 기재 또는 표시가 있거나\\n중요사항의 기재 또는 표시가 누락되어 있지 아니하다는 사실 등 대통령령으로 정하는 사항을 확인ㆍ검토하고 이\\n에 각각 서명하여야 한다.<개정 2013. 5. 28.>',\n",
       "   '제160조(반기ㆍ분기보고서의 제출) 사업보고서 제출대상법인은 그 사업연도 개시일부터 6개월간의 사업보고서(이하\\n“반기보고서”라 한다)와 사업연도 개시일부터 3개월간 및 9개월간의 사업보고서(이하 “분기보고서”라 한다)를 각각\\n그 기간 경과 후 45일 이내에 금융위원회와 거래소에 제출하여야 하되, 사업보고서 제출대상법인이 재무에 관한 사\\n항과 그 부속명세, 그 밖에 금융위원회가 정하여 고시하는 사항을 연결재무제표를 기준으로 기재하여 작성한 반기보\\n고서와 분기보고서를 금융위원회와 거래소에 제출하는 경우에는 그 최초의 사업연도와 그 다음 사업연도에 한하여\\n그 기간 경과 후 60일 이내에 제출할 수 있다. 이 경우 제159조제2항(분기보고서에 대하여는 같은 항 제3호 및 제3호\\n의2는 제외한다)ㆍ제4항ㆍ제6항 및 제7항을 준용한다. <개정 2008. 2. 29., 2009. 2. 3., 2016. 3. 29.>',\n",
       "   '제161조(주요사항보고서의 제출) ① 사업보고서 제출대상법인은 다음 각 호의 어느 하나에 해당하는 사실이 발생한 경\\n우에는 그 사실이 발생한 날의 다음 날까지(제6호의 경우에는 그 사실이 발생한 날부터 3일 이내에) 그 내용을 기재\\n한 보고서(이하 “주요사항보고서”라 한다)를 금융위원회에 제출하여야 한다. 이 경우 제159조제6항 및 제7항을 준용\\n법제처                                                            64                                                       국가법령정보센터\\n자본시장과 금융투자업에 관한 법률 \\n한다. <개정 2008. 2. 29., 2013. 5. 28., 2014. 12. 30., 2016. 3. 29.>\\n1. 발행한 어음 또는 수표가 부도로 되거나 은행과의 당좌거래가 정지 또는 금지된 때\\n2. 영업활동의 전부 또는 중요한 일부가 정지되거나 그 정지에 관한 이사회 등의 결정이 있은 때\\n3. 「채무자 회생 및 파산에 관한 법률」에 따른 회생절차개시 또는 간이회생절차개시의 신청이 있은 때\\n4. 이 법, 「상법」, 그 밖의 법률에 따른 해산사유가 발생한 때\\n5. 대통령령으로 정하는 경우에 해당하는 자본 또는 부채의 변동에 관한 이사회 등의 결정이 있은 때\\n6. 「상법」 제360조의2, 제360조의15, 제522조 및 제530조의2에 규정된 사실이 발생한 때\\n7. 대통령령으로 정하는 중요한 영업 또는 자산을 양수하거나 양도할 것을 결의한 때\\n8. 자기주식을 취득(자기주식의 취득을 목적으로 하는 신탁계약의 체결을 포함한다) 또는 처분(자기주식의 취득을\\n목적으로 하는 신탁계약의 해지를 포함한다)할 것을 결의한 때 \\n9. 그 밖에 그 법인의 경영ㆍ재산 등에 관하여 중대한 영향을 미치는 사항으로서 대통령령으로 정하는 사실이 발생\\n한 때 \\n② 사업보고서 제출대상법인은 제1항에 따라 주요사항보고서를 제출하는 경우에는 제1항 각 호의 항목별로 대통령\\n령으로 정하는 서류를 첨부하여야 한다.\\n③ 사업보고서 제출대상법인은 주요사항보고서를 작성함에 있어서 금융위원회가 정하여 고시하는 기재방법 및 서\\n식에 따라야 한다.<개정 2008. 2. 29.>\\n④ 금융위원회는 제출된 주요사항보고서가 투자자의 투자판단에 중대한 영향을 미칠 우려가 있어 그 내용을 신속\\n하게 알릴 필요가 있는 경우에는 대통령령으로 정하는 방법에 따라 행정기관, 그 밖의 관계기관에 대하여 필요한 정\\n보의 제공 또는 교환을 요청할 수 있다. 이 경우 요청을 받은 기관은 특별한 사유가 없는 한 이에 협조하여야 한다.\\n<개정 2008. 2. 29.>\\n⑤ 금융위원회는 제1항에 따라 주요사항보고서가 제출된 경우 이를 거래소에 지체 없이 송부하여야 한다.<개정\\n2008. 2. 29.>',\n",
       "   '제161조의2(자료요구권 등) ① 연결재무제표 작성대상법인 중 사업보고서 제출대상법인은 제162조제1항에 따른 사업\\n보고서등의 작성을 위하여 필요한 범위에서 종속회사에게 관련 자료의 제출을 요구할 수 있다.\\n② 연결재무제표 작성대상법인 중 사업보고서 제출대상법인은 제162조제1항에 따른 사업보고서등의 작성을 위하\\n여 필요한 자료를 입수할 수 없거나 종속회사가 제출한 자료의 내용을 확인할 필요가 있는 때에는 종속회사의 업무\\n와 재산상태를 조사할 수 있다.\\n[본조신설 2013. 5. 28.]',\n",
       "   '제162조(거짓의 기재 등에 의한 배상책임) ① 제159조제1항의 사업보고서ㆍ반기보고서ㆍ분기보고서ㆍ주요사항보고서\\n(이하 “사업보고서등”이라 한다) 및 그 첨부서류(회계감사인의 감사보고서는 제외한다) 중 중요사항에 관하여 거짓의\\n기재 또는 표시가 있거나 중요사항이 기재 또는 표시되지 아니함으로써 사업보고서 제출대상법인이 발행한 증권(그\\n증권과 관련된 증권예탁증권, 그 밖에 대통령령으로 정하는 증권을 포함한다. 이하 이 조에서 같다)의 취득자 또는\\n처분자가 손해를 입은 경우에는 다음 각 호의 자는 그 손해에 관하여 배상의 책임을 진다. 다만, 배상의 책임을 질 자\\n가 상당한 주의를 하였음에도 불구하고 이를 알 수 없었음을 증명하거나 그 증권의 취득자 또는 처분자가 그 취득\\n또는 처분을 할 때에 그 사실을 안 경우에는 배상의 책임을 지지 아니한다. <개정 2009. 2. 3.>\\n1. 그 사업보고서등의 제출인과 제출당시의 그 사업보고서 제출대상법인의 이사\\n2. 「상법」 제401조의2제1항 각 호의 어느 하나에 해당하는 자로서 그 사업보고서등의 작성을 지시하거나 집행한\\n자 \\n3. 그 사업보고서등의 기재사항 및 그 첨부서류가 진실 또는 정확하다고 증명하여 서명한 공인회계사ㆍ감정인 또는\\n신용평가를 전문으로 하는 자 등(그 소속단체를 포함한다) 대통령령으로 정하는 자 \\n4. 그 사업보고서등의 기재사항 및 그 첨부서류에 자기의 평가ㆍ분석ㆍ확인 의견이 기재되는 것에 대하여 동의하고\\n그 기재내용을 확인한 자\\n법제처                                                            65                                                       국가법령정보센터\\n자본시장과 금융투자업에 관한 법률 \\n② 예측정보가 다음 각 호에 따라 기재 또는 표시된 경우에는 제1항에 불구하고 제1항 각 호의 자는 그 손해에 관하\\n여 배상의 책임을 지지 아니한다. 다만, 해당 증권의 취득자 또는 처분자가 그 취득 또는 처분을 할 때에 예측정보\\n중 중요사항에 관하여 거짓의 기재 또는 표시가 있거나 중요사항이 기재 또는 표시되지 아니한 사실을 알지 못한\\n경우로서 제1항 각 호의 자에게 그 기재 또는 표시와 관련하여 고의 또는 중대한 과실이 있었음을 증명한 경우에는\\n배상의 책임을 진다.\\n1. 그 기재 또는 표시가 예측정보라는 사실이 밝혀져 있을 것\\n2. 예측 또는 전망과 관련된 가정 또는 판단의 근거가 밝혀져 있을 것\\n3. 그 기재 또는 표시가 합리적 근거 또는 가정에 기초하여 성실하게 행하여졌을 것\\n4. 그 기재 또는 표시에 대하여 예측치와 실제 결과치가 다를 수 있다는 주의문구가 밝혀져 있을 것\\n③ 제1항 및 제2항에 따라 배상할 금액은 청구권자가 그 증권을 취득 또는 처분함에 있어서 실제로 지급한 금액 또\\n는 받은 금액과 다음 각 호의 어느 하나에 해당하는 금액(처분의 경우에는 제1호에 한한다)과의 차액으로 추정한다.\\n1. 제1항 및 제2항에 따라 손해배상을 청구하는 소송의 변론이 종결될 때의 그 증권의 시장가격(시장가격이 없는 경\\n우에는 추정처분가격을 말한다) \\n2. 제1호의 변론종결 전에 그 증권을 처분한 경우에는 그 처분가격\\n④ 제3항에 불구하고 제1항 및 제2항에 따라 배상책임을 질 자는 청구권자가 입은 손해액의 전부 또는 일부가 중요\\n사항에 관하여 거짓의 기재 또는 표시가 있거나 중요사항이 기재 또는 표시되지 아니함으로써 발생한 것이 아님을\\n증명한 경우에는 그 부분에 대하여 배상책임을 지지 아니한다.\\n⑤ 제1항 및 제2항에 따른 배상의 책임은 그 청구권자가 해당 사실을 안 날부터 1년 이내 또는 해당 제출일부터\\n3년 이내에 청구권을 행사하지 아니한 경우에는 소멸한다.',\n",
       "   '제163조(사업보고서등의 공시) 금융위원회와 거래소는 사업보고서등을 3년간 일정한 장소에 비치하고, 인터넷 홈페이\\n지 등을 이용하여 공시하여야 한다. 이 경우 기업경영 등 비밀유지와 투자자 보호와의 형평 등을 고려하여 대통령령\\n으로 정하는 사항을 제외하고 비치 및 공시할 수 있다. <개정 2008. 2. 29.>',\n",
       "   '제164조(조사 및 조치) ① 금융위원회는 투자자 보호를 위하여 필요한 경우에는 사업보고서 제출대상법인, 그 밖의 관\\n계인에 대하여 참고가 될 보고 또는 자료의 제출을 명하거나, 금융감독원장에게 그 장부ㆍ서류, 그 밖의 물건을 조사\\n하게 할 수 있다. 이 경우 제131조제2항을 준용한다. <개정 2008. 2. 29.>\\n② 금융위원회는 다음 각 호의 어느 하나에 해당하는 경우에는 사업보고서 제출대상법인에 대하여 이유를 제시한\\n후 그 사실을 공고하고 정정을 명할 수 있으며, 필요한 때에는 증권의 발행, 그 밖의 거래를 정지 또는 금지하거나\\n대통령령으로 정하는 조치를 할 수 있다.이 경우 그 조치에 필요한 절차 및 조치기준은 총리령으로 정한다.<개정\\n2008. 2. 29., 2009. 2. 3.>\\n1. 사업보고서등을 제출하지 아니한 경우\\n2. 사업보고서등 중 중요사항에 관하여 거짓의 기재 또는 표시가 있거나 중요사항이 기재 또는 표시되지 아니한 경\\n우',\n",
       "   '제165조(사업보고서 등의 제출에 관한 특례) ①제159조부터 제161조까지의 규정에 불구하고 외국법인등의 경우에는\\n대통령령으로 정하는 기준 및 방법에 따라 제출의무를 면제하거나 제출기한을 달리하는 등 그 적용을 달리할 수 있\\n다. <개정 2013. 8. 13.>\\n② 제160조에도 불구하고 「중소기업기본법」 제2조에 따른 중소기업이 발행한 주권을 매매하는 대통령령으로 정하\\n는 증권시장에 상장된 주권을 발행한 법인의 경우에는 대통령령으로 정하는 기준 및 방법에 따라 반기ㆍ분기보고\\n서의 제출의무를 면제하거나 제출기한을 달리하는 등 그 적용을 달리할 수 있다.<신설 2013. 8. 13.>\\n③ 제159조 및 제160조에도 불구하고 사업보고서 제출대상법인은 그 회계감사인과 감사보고서 작성을 위하여 부\\n득이 사업보고서등의 제출기한 연장이 필요하다고 미리 합의하고 제159조제1항 및 제160조에 따른 사업보고서등\\n의 제출기한 만료 7일 전까지 금융위원회와 거래소에 기한 연장 사유를 기재하여 신고한 경우에는 연 1회에 한정하\\n여 사업보고서등 제출기한을 5영업일 이내에서 연장하여 제출할 수 있다.<신설 2017. 10. 31.>\\n법제처                                                            66                                                       국가법령정보센터\\n자본시장과 금융투자업에 관한 법률 \\n④ 사업보고서 제출대상법인이 제3항에 따라 금융위원회와 거래소에 신고하는 경우에는 금융위원회가 정하여 고시\\n하는 기재방법 및 서식에 따라야 하고, 회계감사인이 기재하여 서명날인한 기한 연장 사유서를 첨부하여야 한다.\\n<신설 2017. 10. 31.>\\n[제목개정 2013. 8. 13.]'],\n",
       "  '제4장 장외거래 등': ['제166조(장외거래) 거래소시장 또는 다자간매매체결회사 외에서 금융투자상품을 매매, 그 밖의 거래를 하는 경우 그 매\\n매, 그 밖의 거래방법 및 결제의 방법 등 필요한 사항은 대통령령으로 정한다. <개정 2009. 2. 3., 2013. 5. 28.>',\n",
       "   '제166조의2(장외파생상품의 매매 등) ① 투자매매업자 또는 투자중개업자는 장외파생상품을 대상으로 하여 투자매매\\n업 또는 투자중개업을 하는 경우에는 다음 각 호의 기준을 준수하여야 한다. <개정 2010. 3. 12., 2017. 4. 18.>\\n1. 장외파생상품의 매매 및 그 중개ㆍ주선 또는 대리의 상대방이 일반투자자인 경우에는 그 일반투자자가 대통령령\\n으로 정하는 위험회피 목적의 거래를 하는 경우에 한할 것. 이 경우 투자매매업자 또는 투자중개업자는 일반투자 \\n자가 장외파생상품 거래를 통하여 회피하려는 위험의 종류와 금액을 확인하고, 관련 자료를 보관하여야 한다. \\n2. 장외파생상품의 매매에 따른 위험액(금융위원회가 정하여 고시하는 위험액을 말한다)이 금융위원회가 정하여 고\\n시하는 한도를 초과하지 아니할 것 \\n3. 영업용순자본에서 총위험액을 차감한 금액을 제15조, 제20조, 제117조의4제8항 또는 제249조의3제8항에서 요구\\n하는 인가업무 또는 등록업무 단위별 자기자본(각 해당 조항에서 대통령령으로 정하는 완화된 요건을 말한다)을 \\n합계한 금액으로 나눈 값이 100분의 150에 미달하는 경우(겸영금융투자업자의 경우에는 금융위원회가 정하여 고 \\n시하는 경우를 말한다)에는 그 미달상태가 해소될 때까지 새로운 장외파생상품의 매매를 중지하고, 미종결거래의 \\n정리나 위험회피에 관련된 업무만을 수행할 것 \\n4. 장외파생상품의 매매를 할 때마다 제28조의2의 파생상품업무책임자의 승인을 받을 것. 다만, 금융위원회가 정하\\n여 고시하는 기준을 충족하는 계약으로서 거래당사자 간에 미리 합의된 계약조건에 따라 장외파생상품을 매매하 \\n는 경우는 제외한다.\\n법제처                                                            73                                                       국가법령정보센터\\n자본시장과 금융투자업에 관한 법률 \\n5. 월별 장외파생상품(파생결합증권을 포함한다)의 매매, 그 중개ㆍ주선 또는 대리의 거래내역을 다음 달 10일까지\\n금융위원회에 보고할 것 \\n6. 다음 각 목의 어느 하나에 해당하는 장외파생상품을 신규로 취급하는 경우 협회의 사전심의를 받을 것. 다만, 대\\n통령령으로 정하는 경우는 제외한다. \\n가. 기초자산이 제4조제10항제4호 또는 제5호에 해당하는 장외파생상품 \\n나. 일반투자자를 대상으로 하는 장외파생상품 \\n② 장외파생상품 거래의 매매에 따른 위험관리, 그 밖에 투자자를 보호하기 위하여 필요한 사항은 금융위원회가 정\\n하여 고시할 수 있다.\\n③ 금융감독원장은 투자매매업자 및 투자중개업자의 장외파생상품의 매매 등과 관련하여 제1항 각 호의 기준 준수\\n여부를 감독하여야 한다.\\n[본조신설 2009. 2. 3.]',\n",
       "   '제166조의3(장외거래의 청산의무) 금융투자업자는 다른 금융투자업자 및 대통령령으로 정하는 자(이하 이 조에서 “거\\n래상대방”이라 한다)와 대통령령으로 정하는 장외파생상품의 매매 및 그 밖의 장외거래(그 거래에 따른 채무의 불이\\n행이 국내 자본시장에 중대한 영향을 줄 우려가 있는 경우로 한정하며, 이하 이 조에서 “청산의무거래”라 한다)를 하\\n는 경우 금융투자상품거래청산회사, 그 밖에 이에 준하는 자로서 대통령령으로 정하는 자에게 청산의무거래에 따른\\n자기와 거래상대방의 채무를 채무인수, 경개, 그 밖의 방법으로 부담하게 하여야 한다.\\n[본조신설 2013. 4. 5.]',\n",
       "   '제167조(공공적 법인이 발행한 주식의 소유제한) ① 누구든지 공공적 법인이 발행한 주식을 누구의 명의로 하든지 자\\n기의 계산으로 다음 각 호의 기준을 초과하여 소유할 수 없다. 이 경우 의결권 없는 주식은 발행주식총수에 포함되지\\n아니하며, 그 특수관계인의 명의로 소유하는 때에는 자기의 계산으로 취득한 것으로 본다.\\n1. 그 주식이 상장된 당시에 발행주식총수의 100분의 10 이상을 소유한 주주는 그 소유비율\\n2. 제1호에 따른 주주 외의 자는 발행주식총수의 100분의 3 이내에서 정관이 정하는 비율\\n② 제1항에 불구하고 소유비율 한도에 관하여 금융위원회의 승인을 받은 경우에는 그 소유비율 한도까지 공공적 법\\n인이 발행한 주식을 소유할 수 있다.<개정 2008. 2. 29.>\\n③ 제1항 및 제2항에서 규정하는 기준을 초과하여 사실상 주식을 소유하는 자는 그 초과분에 대하여는 의결권을 행\\n사할 수 없으며, 금융위원회는 그 기준을 초과하여 사실상 주식을 소유하고 있는 자에 대하여 6개월 이내의 기간을\\n정하여 그 기준을 충족하도록 시정할 것을 명할 수 있다.<개정 2008. 2. 29.>',\n",
       "   '제168조(외국인의 증권 또는 장내파생상품 거래의 제한) ① 외국인(국내에 6개월 이상 주소 또는 거소를 두지 아니한\\n개인을 말한다. 이하 이 조에서 같다) 또는 외국법인등에 의한 증권 또는 장내파생상품의 매매, 그 밖의 거래에 관하\\n여는 대통령령으로 정하는 기준 및 방법에 따라 그 취득한도 등을 제한할 수 있다. <개정 2009. 2. 3.>\\n② 외국인 또는 외국법인등에 의한 공공적 법인의 주식 취득에 관하여는 제1항에 따른 제한에 추가하여 그 공공적\\n법인의 정관이 정하는 바에 따라 따로 이를 제한할 수 있다.\\n③ 제1항 또는 제2항을 위반하여 주식을 취득한 자는 그 주식에 대한 의결권을 행사할 수 없으며, 금융위원회는 제\\n1항 또는 제2항을 위반하여 증권 또는 장내파생상품을 매매한 자에게 6개월 이내의 기간을 정하여 그 시정을 명할\\n수 있다.<개정 2008. 2. 29.>\\n④ 그 밖에 외국인 또는 외국법인등에 의한 증권 또는 장내파생상품의 매매, 그 밖의 거래와 관련하여 투자자 보호\\n및 건전한 거래질서를 위하여 필요한 사항은 대통령령으로 정한다.',\n",
       "   '제169조(회계감사인에 의한 감사증명) ① 이 편에 따라 금융위원회와 거래소에 재무에 관한 서류를 제출하는 자 중 대\\n통령령으로 정하는 자는 「주식회사 등의 외부감사에 관한 법률」에 따라 회계감사를 받아야 한다. 다만, 기업경영 등\\n비밀유지 및 기업부담과 투자자 보호와의 형평 등을 고려하여 대통령령으로 정하는 사항에 대하여는 그러하지 아니\\n하다. <개정 2008. 2. 29., 2017. 10. 31.>\\n법제처                                                            74                                                       국가법령정보센터\\n자본시장과 금융투자업에 관한 법률 \\n② 금융위원회는 투자자 보호를 위하여 필요하다고 인정되는 경우에는 제1항에 따라 회계감사를 한 회계감사인 또\\n는 회계감사를 받은 법인에 대하여 자료의 제출 및 보고를 명하거나, 그 밖에 필요한 조치를 할 수 있다.<개정\\n2008. 2. 29.>\\n③ 외국법인등이 외국 금융투자업관련 법령에 따라 회계감사를 받은 경우로서 대통령령으로 정하는 기준을 충족하\\n였을 경우에는 제1항 본문에 따른 회계감사를 받은 것으로 본다. 이 경우 제2항은 외국 금융투자업관련 법령에 따\\n라 회계감사를 한 회계감사인(이하 “외국회계감사인”이라 한다) 또는 회계감사를 받은 외국법인등에게 준용한다.',\n",
       "   '제170조(회계감사인의 손해배상책임) ① 「주식회사 등의 외부감사에 관한 법률」 제31조제2항부터 제9항까지의 규정\\n은 선의의 투자자가 사업보고서등에 첨부된 회계감사인(외국회계감사인을 포함한다. 이하 이 조에서 같다)의 감사보\\n고서를 신뢰하여 손해를 입은 경우 그 회계감사인의 손해배상책임에 관하여 준용한다. <개정 2009. 2. 3., 2014. 1.\\n28., 2017. 10. 31.>\\n② 제1항에 따라 배상할 금액은 청구권자가 그 증권(그 증권과 관련된 증권예탁증권, 그 밖에 대통령령으로 정하는\\n증권을 포함한다. 이하 이 조에서 같다)을 취득 또는 처분함에 있어서 실제로 지급한 금액 또는 받은 금액과 다음 각\\n호의 어느 하나에 해당하는 금액(처분의 경우에는 제1호에 한한다)과의 차액으로 추정한다.\\n1. 제1항에 따라 손해배상을 청구하는 소송의 변론이 종결될 때의 그 증권의 시장가격(시장가격이 없는 경우에는\\n추정처분가격을 말한다) \\n2. 제1호의 변론종결 전에 그 증권을 처분한 경우에는 그 처분가격\\n③ 제2항에 불구하고 제1항에 따라 배상책임을 질 자는 청구권자가 입은 손해액의 전부 또는 일부가 중요사항에 관\\n하여 거짓의 기재 또는 표시가 있거나 중요사항이 기재 또는 표시되지 아니함으로써 발생한 것이 아님을 증명한 경\\n우에는 그 부분에 대하여 배상책임을 지지 아니한다.',\n",
       "   '제171조(보증금 등의 대신 납부) ① 국가ㆍ지방자치단체 또는 「공공기관의 운영에 관한 법률」에 따른 공공기관(이하\\n이 조에서 “공공기관”이라 한다)에 납부할 보증금 또는 공탁금 중 대통령령으로 정하는 보증금이나 공탁금은 상장증\\n권으로 대신 납부할 수 있다.\\n② 국가ㆍ지방자치단체 또는 공공기관은 제1항에 따라 상장증권으로 대신 납부하는 경우 이를 거부하여서는 아니\\n된다.\\n③ 제1항에 따라 국가ㆍ지방자치단체 또는 공공기관에 대신 납부할 수 있는 상장증권 및 그 상장증권의 대신 납부\\n하는 가액의 평가기준은 대통령령으로 정한다.\\n④ 삭제<2016. 3. 22.>\\n⑤ 삭제<2016. 3. 22.>\\n⑥ 삭제<2016. 3. 22.>\\n \\n     제4편 불공정거래의 규제'],\n",
       "  '제1장 내부자 거래 등': ['제172조(내부자의 단기매매차익 반환) ① 주권상장법인의 임원(「상법」 제401조의2제1항 각 호의 자를 포함한다. 이하\\n이 장에서 같다), 직원(직무상 제174조제1항의 미공개중요정보를 알 수 있는 자로서 대통령령으로 정하는 자에 한한\\n다. 이하 이 조에서 같다) 또는 주요주주가 다음 각 호의 어느 하나에 해당하는 금융투자상품(이하 “특정증권등”이라\\n한다)을 매수(권리 행사의 상대방이 되는 경우로서 매수자의 지위를 가지게 되는 특정증권등의 매도를 포함한다. 이\\n하 이 조에서 같다)한 후 6개월 이내에 매도(권리를 행사할 수 있는 경우로서 매도자의 지위를 가지게 되는 특정증권\\n등의 매수를 포함한다. 이하 이 조에서 같다)하거나 특정증권등을 매도한 후 6개월 이내에 매수하여 이익을 얻은 경\\n우에는 그 법인은 그 임직원 또는 주요주주에게 그 이익(이하 “단기매매차익”이라 한다)을 그 법인에게 반환할 것을\\n청구할 수 있다. 이 경우 이익의 산정기준ㆍ반환절차 등에 관하여 필요한 사항은 대통령령으로 정한다.\\n1. 그 법인이 발행한 증권(대통령령으로 정하는 증권을 제외한다)\\n법제처                                                            75                                                       국가법령정보센터\\n자본시장과 금융투자업에 관한 법률 \\n2. 제1호의 증권과 관련된 증권예탁증권\\n3. 그 법인 외의 자가 발행한 것으로서 제1호 또는 제2호의 증권과 교환을 청구할 수 있는 교환사채권\\n4. 제1호부터 제3호까지의 증권만을 기초자산으로 하는 금융투자상품\\n② 해당 법인의 주주(주권 외의 지분증권 또는 증권예탁증권을 소유한 자를 포함한다. 이하 이 조에서 같다)는 그 법\\n인으로 하여금 제1항에 따른 단기매매차익을 얻은 자에게 단기매매차익의 반환청구를 하도록 요구할 수 있으며, 그\\n법인이 그 요구를 받은 날부터 2개월 이내에 그 청구를 하지 아니하는 경우에는 그 주주는 그 법인을 대위(代位)하\\n여 그 청구를 할 수 있다.\\n③ 증권선물위원회는 제1항에 따른 단기매매차익의 발생사실을 알게 된 경우에는 해당 법인에 이를 통보하여야 한\\n다. 이 경우 그 법인은 통보받은 내용을 대통령령으로 정하는 방법에 따라 인터넷 홈페이지 등을 이용하여 공시하여\\n야 한다.\\n④ 제2항의 청구에 관한 소를 제기한 주주가 승소한 경우에는 그 주주는 회사에 대하여 소송비용, 그 밖에 소송으로\\n인한 모든 비용의 지급을 청구할 수 있다.\\n⑤ 제1항 및 제2항에 따른 권리는 이익을 취득한 날부터 2년 이내에 행사하지 아니한 경우에는 소멸한다.\\n⑥ 제1항은 임직원 또는 주요주주로서 행한 매도 또는 매수의 성격, 그 밖의 사정 등을 고려하여 대통령령으로 정하\\n는 경우 및 주요주주가 매도ㆍ매수한 시기 중 어느 한 시기에 있어서 주요주주가 아닌 경우에는 적용하지 아니한다.\\n⑦ 제1항 및 제2항은 주권상장법인이 모집ㆍ사모ㆍ매출하는 특정증권등을 인수한 투자매매업자에게 대통령령으로\\n정하는 기간 동안 준용한다.',\n",
       "   '제173조(임원 등의 특정증권등 소유상황 보고) ① 주권상장법인의 임원 또는 주요주주는 임원 또는 주요주주가 된 날\\n부터 5일(대통령령으로 정하는 날은 산입하지 아니한다. 이하 이 조에서 같다) 이내에 누구의 명의로 하든지 자기의\\n계산으로 소유하고 있는 특정증권등의 소유상황을, 그 특정증권등의 소유상황에 변동이 있는 경우(대통령령으로 정\\n하는 경미한 소유상황의 변동은 제외한다. 이하 이 조에서 같다)에는 그 변동이 있는 날부터 5일까지 그 내용을 대통\\n령령으로 정하는 방법에 따라 각각 증권선물위원회와 거래소에 보고하여야 한다. 이 경우 대통령령으로 정하는 부득\\n이한 사유에 따라 특정증권등의 소유상황에 변동이 있는 경우와 전문투자자 중 대통령령으로 정하는 자에 대하여는\\n그 보고 내용 및 시기를 대통령령으로 달리 정할 수 있다. <개정 2013. 5. 28.>\\n② 증권선물위원회와 거래소는 제1항의 보고서를 3년간 갖추어 두고, 인터넷 홈페이지 등을 이용하여 공시하여야\\n한다.<개정 2009. 2. 3.>',\n",
       "   '제173조의2(장내파생상품의 대량보유 보고 등) ① 동일 품목의 장내파생상품(제4조제10항제3호에 따른 일반상품, 그\\n밖에 대통령령으로 정하는 것을 기초자산으로 하는 파생상품으로서 파생상품시장에서 거래되는 것만 해당한다. 이\\n하 이 조에서 같다)을 금융위원회가 정하여 고시하는 수량 이상 보유(누구의 명의로든지 자기의 계산으로 소유하는\\n경우를 말한다. 이하 이 항에서 같다)하게 된 자는 그 날부터 5일(대통령령으로 정하는 날은 산입하지 아니한다. 이하\\n이 조에서 같다) 이내에 그 보유 상황, 그 밖에 대통령령으로 정하는 사항을 대통령령으로 정하는 방법에 따라 금융\\n위원회와 거래소에 보고하여야 하며, 그 보유 수량이 금융위원회가 정하여 고시하는 수량 이상으로 변동된 경우에는\\n그 변동된 날부터 5일 이내에 그 변동 내용을 대통령령으로 정하는 방법에 따라 금융위원회와 거래소에 보고하여야\\n한다. <개정 2013. 5. 28.>\\n② 다음 각 호의 어느 하나에 해당하는 자로서 파생상품시장에서의 시세에 영향을 미칠 수 있는 정보를 업무와 관\\n련하여 알게 된 자와 그 자로부터 그 정보를 전달받은 자는 그 정보를 누설하거나, 제1항에 따른 장내파생상품 및\\n그 기초자산의 매매나 그 밖의 거래에 이용하거나, 타인으로 하여금 이용하게 하여서는 아니 된다.<개정 2013. 5.\\n28.>\\n1. 장내파생상품의 시세에 영향을 미칠 수 있는 정책을 입안ㆍ수립 또는 집행하는 자\\n2. 장내파생상품의 시세에 영향을 미칠 수 있는 정보를 생성ㆍ관리하는 자\\n3. 장내파생상품의 기초자산의 중개ㆍ유통 또는 검사와 관련된 업무에 종사하는 자\\n[본조신설 2009. 2. 3.]\\n법제처                                                            76                                                       국가법령정보센터\\n자본시장과 금융투자업에 관한 법률',\n",
       "   '제173조의3(임원 등의 특정증권등 거래계획 보고) ① 주권상장법인의 임원 또는 주요주주(대통령령으로 정하는 자는\\n제외한다)가 특정증권등의 매매, 그 밖의 거래(상속ㆍ주식배당 등 대통령령으로 정하는 부득이한 사유로 하는 매매,\\n그 밖의 거래를 제외한다. 이하 이 조 및 제429조에서 “거래등”이라 한다)를 하려는 때에는 거래목적, 거래가격, 거래\\n수량, 거래기간 등 대통령령으로 정하는 사항(이하 “거래계획”이라 한다)을 그 거래기간의 개시일 전 30일 이상 90일\\n이내의 대통령령으로 정하는 기간까지 증권선물위원회와 거래소에 각각 보고하여야 한다. 다만, 거래계획의 거래수\\n량 및 거래금액과 그 거래계획의 개시일 기준 과거 6개월간 거래수량 및 거래금액을 합산하여 대통령령으로 정하는\\n규모 미만인 경우에는 그러하지 아니하다.\\n② 제1항에 따라 거래계획을 보고한 자(이하 이 조에서 “거래계획 보고자”라 한다)는 그 거래계획을 보고한 때부터\\n그 거래계획에 따른 거래기간의 종료일까지는 새로운 거래계획을 보고하여서는 아니 된다.\\n③ 거래계획 보고자는 그 거래계획에 따라 특정증권등의 거래등을 하여야 한다. 다만, 거래 당시의 시장 상황 등을\\n반영하여 필요한 경우에 한정하여 거래금액의 100분의 30 이하의 비율로서 대통령령으로 정하는 바에 따라 거래계\\n획과 달리 거래등을 할 수 있다.\\n④ 거래계획 보고자는 사망, 파산, 시장변동성 확대로 과도한 손실이 예상되는 경우 등 대통령령으로 정하는 부득이\\n한 사유가 발생하는 때에는 대통령령으로 정하는 바에 따라 증권선물위원회와 거래소에 보고한 후 그 거래계획을\\n철회할 수 있다.\\n⑤ 증권선물위원회와 거래소는 제1항에 따라 보고된 거래계획(제4항에 따라 철회된 경우를 포함한다)을 3년간 갖추\\n어 두고, 인터넷 홈페이지 등을 이용하여 공시하여야 한다.\\n⑥ 제1항부터 제5항까지에서 규정한 사항 외에 거래계획의 보고 등에 필요한 사항은 대통령령으로 정한다.\\n[본조신설 2024. 1. 23.]',\n",
       "   '제174조(미공개중요정보 이용행위 금지) ① 다음 각 호의 어느 하나에 해당하는 자(제1호부터 제5호까지의 어느 하나\\n의 자에 해당하지 아니하게 된 날부터 1년이 경과하지 아니한 자를 포함한다)는 상장법인[6개월 이내에 상장하는 법\\n인 또는 6개월 이내에 상장법인과의 합병, 주식의 포괄적 교환, 그 밖에 대통령령으로 정하는 기업결합 방법에 따라\\n상장되는 효과가 있는 비상장법인(이하 이 항에서 “상장예정법인등”이라 한다)을 포함한다. 이하 이 항 및 제443조제\\n1항제1호에서 같다]의 업무 등과 관련된 미공개중요정보(투자자의 투자판단에 중대한 영향을 미칠 수 있는 정보로\\n서 대통령령으로 정하는 방법에 따라 불특정 다수인이 알 수 있도록 공개되기 전의 것을 말한다. 이하 이 항에서 같\\n다)를 특정증권등(상장예정법인등이 발행한 해당 특정증권등을 포함한다. 이하 제443조제1항제1호에서 같다)의 매\\n매, 그 밖의 거래에 이용하거나 타인에게 이용하게 하여서는 아니 된다. <개정 2009. 2. 3., 2013. 5. 28.>\\n1. 그 법인(그 계열회사를 포함한다. 이하 이 호 및 제2호에서 같다) 및 그 법인의 임직원ㆍ대리인으로서 그 직무와\\n관련하여 미공개중요정보를 알게 된 자 \\n2. 그 법인의 주요주주로서 그 권리를 행사하는 과정에서 미공개중요정보를 알게 된 자\\n3. 그 법인에 대하여 법령에 따른 허가ㆍ인가ㆍ지도ㆍ감독, 그 밖의 권한을 가지는 자로서 그 권한을 행사하는 과정\\n에서 미공개중요정보를 알게 된 자 \\n4. 그 법인과 계약을 체결하고 있거나 체결을 교섭하고 있는 자로서 그 계약을 체결ㆍ교섭 또는 이행하는 과정에서\\n미공개중요정보를 알게 된 자 \\n5. 제2호부터 제4호까지의 어느 하나에 해당하는 자의 대리인(이에 해당하는 자가 법인인 경우에는 그 임직원 및 대\\n리인을 포함한다)ㆍ사용인, 그 밖의 종업원(제2호부터 제4호까지의 어느 하나에 해당하는 자가 법인인 경우에는 \\n그 임직원 및 대리인)으로서 그 직무와 관련하여 미공개중요정보를 알게 된 자 \\n6. 제1호부터 제5호까지의 어느 하나에 해당하는 자(제1호부터 제5호까지의 어느 하나의 자에 해당하지 아니하게\\n된 날부터 1년이 경과하지 아니한 자를 포함한다)로부터 미공개중요정보를 받은 자 \\n② 다음 각 호의 어느 하나에 해당하는 자(제1호부터 제5호까지의 어느 하나의 자에 해당하지 아니하게 된 날부터\\n1년이 경과하지 아니한 자를 포함한다)는 주식등에 대한 공개매수(제133조제1항의 공개매수를 말한다. 이하 이 항\\n에서 같다)의 실시 또는 중지에 관한 미공개정보(대통령령으로 정하는 방법에 따라 불특정 다수인이 알 수 있도록\\n공개되기 전의 것을 말한다. 이하 이 항에서 같다)를 그 주식등과 관련된 특정증권등의 매매, 그 밖의 거래에 이용하\\n법제처                                                            77                                                       국가법령정보센터\\n자본시장과 금융투자업에 관한 법률 \\n거나 타인에게 이용하게 하여서는 아니 된다. 다만, 공개매수를 하려는 자(이하 이 조에서 “공개매수예정자”라 한다\\n)가 공개매수공고 이후에도 상당한 기간 동안 주식등을 보유하는 등 주식등에 대한 공개매수의 실시 또는 중지에\\n관한 미공개정보를 그 주식등과 관련된 특정증권등의 매매, 그 밖의 거래에 이용할 의사가 없다고 인정되는 경우에\\n는 그러하지 아니하다.<개정 2009. 2. 3., 2013. 5. 28.>\\n1. 공개매수예정자(그 계열회사를 포함한다. 이하 이 호 및 제2호에서 같다) 및 공개매수예정자의 임직원ㆍ대리인으\\n로서 그 직무와 관련하여 공개매수의 실시 또는 중지에 관한 미공개정보를 알게 된 자 \\n2. 공개매수예정자의 주요주주로서 그 권리를 행사하는 과정에서 공개매수의 실시 또는 중지에 관한 미공개정보를\\n알게 된 자 \\n3. 공개매수예정자에 대하여 법령에 따른 허가ㆍ인가ㆍ지도ㆍ감독, 그 밖의 권한을 가지는 자로서 그 권한을 행사\\n하는 과정에서 공개매수의 실시 또는 중지에 관한 미공개정보를 알게 된 자 \\n4. 공개매수예정자와 계약을 체결하고 있거나 체결을 교섭하고 있는 자로서 그 계약을 체결ㆍ교섭 또는 이행하는\\n과정에서 공개매수의 실시 또는 중지에 관한 미공개정보를 알게 된 자 \\n5. 제2호부터 제4호까지의 어느 하나에 해당하는 자의 대리인(이에 해당하는 자가 법인인 경우에는 그 임직원 및 대\\n리인을 포함한다)ㆍ사용인, 그 밖의 종업원(제2호부터 제4호까지의 어느 하나에 해당하는 자가 법인인 경우에는 \\n그 임직원 및 대리인)으로서 그 직무와 관련하여 공개매수의 실시 또는 중지에 관한 미공개정보를 알게 된 자 \\n6. 공개매수예정자 또는 제1호부터 제5호까지의 어느 하나에 해당하는 자(제1호부터 제5호까지의 어느 하나의 자에\\n해당하지 아니하게 된 날부터 1년이 경과하지 아니한 자를 포함한다)로부터 공개매수의 실시 또는 중지에 관한 \\n미공개정보를 받은 자 \\n③ 다음 각 호의 어느 하나에 해당하는 자(제1호부터 제5호까지의 어느 하나의 자에 해당하지 아니하게 된 날부터\\n1년이 경과하지 아니한 자를 포함한다)는 주식등의 대량취득ㆍ처분(경영권에 영향을 줄 가능성이 있는 대량취득ㆍ\\n처분으로서 대통령령으로 정하는 취득ㆍ처분을 말한다. 이하 이 항에서 같다)의 실시 또는 중지에 관한 미공개정보\\n(대통령령으로 정하는 방법에 따라 불특정 다수인이 알 수 있도록 공개되기 전의 것을 말한다. 이하 이 항에서 같다\\n)를 그 주식등과 관련된 특정증권등의 매매, 그 밖의 거래에 이용하거나 타인에게 이용하게 하여서는 아니 된다. 다\\n만, 대량취득ㆍ처분을 하려는 자가 제149조에 따른 공시 이후에도 상당한 기간 동안 주식등을 보유하는 등 주식등\\n에 대한 대량취득ㆍ처분의 실시 또는 중지에 관한 미공개정보를 그 주식등과 관련된 특정증권등의 매매, 그 밖의 거\\n래에 이용할 의사가 없다고 인정되는 경우에는 그러하지 아니하다.<개정 2009. 2. 3., 2013. 5. 28.>\\n1. 대량취득ㆍ처분을 하려는 자(그 계열회사를 포함한다. 이하 이 호 및 제2호에서 같다) 및 대량취득ㆍ처분을 하려\\n는 자의 임직원ㆍ대리인으로서 그 직무와 관련하여 대량취득ㆍ처분의 실시 또는 중지에 관한 미공개정보를 알게 \\n된 자 \\n2. 대량취득ㆍ처분을 하려는 자의 주요주주로서 그 권리를 행사하는 과정에서 대량취득ㆍ처분의 실시 또는 중지에\\n관한 미공개정보를 알게 된 자 \\n3. 대량취득ㆍ처분을 하려는 자에 대하여 법령에 따른 허가ㆍ인가ㆍ지도ㆍ감독, 그 밖의 권한을 가지는 자로서 그\\n권한을 행사하는 과정에서 대량취득ㆍ처분의 실시 또는 중지에 관한 미공개정보를 알게 된 자 \\n4. 대량취득ㆍ처분을 하려는 자와 계약을 체결하고 있거나 체결을 교섭하고 있는 자로서 그 계약을 체결ㆍ교섭 또\\n는 이행하는 과정에서 대량취득ㆍ처분의 실시 또는 중지에 관한 미공개정보를 알게 된 자 \\n5. 제2호부터 제4호까지의 어느 하나에 해당하는 자의 대리인(이에 해당하는 자가 법인인 경우에는 그 임직원 및 대\\n리인을 포함한다)ㆍ사용인, 그 밖의 종업원(제2호부터 제4호까지의 어느 하나에 해당하는 자가 법인인 경우에는 \\n그 임직원 및 대리인)으로서 그 직무와 관련하여 대량취득ㆍ처분의 실시 또는 중지에 관한 미공개정보를 알게 된 \\n자 \\n6. 대량취득ㆍ처분을 하려는 자 또는 제1호부터 제5호까지의 어느 하나에 해당하는 자(제1호부터 제5호까지의 어느\\n하나의 자에 해당하지 아니하게 된 날부터 1년이 경과하지 아니한 자를 포함한다)로부터 대량취득ㆍ처분의 실시 \\n또는 중지에 관한 미공개정보를 알게 된 자\\n법제처                                                            78                                                       국가법령정보센터\\n자본시장과 금융투자업에 관한 법률',\n",
       "   '제175조(미공개중요정보 이용행위의 배상책임) ① 제174조를 위반한 자는 해당 특정증권등의 매매, 그 밖의 거래를 한\\n자가 그 매매, 그 밖의 거래와 관련하여 입은 손해를 배상할 책임을 진다.\\n② 제1항에 따른 손해배상청구권은 청구권자가 제174조를 위반한 행위가 있었던 사실을 안 때부터 2년간 또는 그\\n행위가 있었던 때부터 5년간 이를 행사하지 아니한 경우에는 시효로 인하여 소멸한다.<개정 2018. 3. 27.>'],\n",
       "  '제2장 시세조종 등': ['제176조(시세조종행위 등의 금지) ① 누구든지 상장증권 또는 장내파생상품의 매매에 관하여 그 매매가 성황을 이루고\\n있는 듯이 잘못 알게 하거나, 그 밖에 타인에게 그릇된 판단을 하게 할 목적으로 다음 각 호의 어느 하나에 해당하는\\n행위를 하여서는 아니 된다.\\n1. 자기가 매도하는 것과 같은 시기에 그와 같은 가격 또는 약정수치로 타인이 그 증권 또는 장내파생상품을 매수할\\n것을 사전에 그 자와 서로 짠 후 매도하는 행위 \\n2. 자기가 매수하는 것과 같은 시기에 그와 같은 가격 또는 약정수치로 타인이 그 증권 또는 장내파생상품을 매도할\\n것을 사전에 그 자와 서로 짠 후 매수하는 행위 \\n3. 그 증권 또는 장내파생상품의 매매를 함에 있어서 그 권리의 이전을 목적으로 하지 아니하는 거짓으로 꾸민 매매\\n를 하는 행위 \\n4. 제1호부터 제3호까지의 행위를 위탁하거나 수탁하는 행위\\n② 누구든지 상장증권 또는 장내파생상품의 매매를 유인할 목적으로 다음 각 호의 어느 하나에 해당하는 행위를 하\\n여서는 아니 된다.<개정 2013. 5. 28.>\\n1. 그 증권 또는 장내파생상품의 매매가 성황을 이루고 있는 듯이 잘못 알게 하거나 그 시세(증권시장 또는 파생상\\n품시장에서 형성된 시세, 다자간매매체결회사가 상장주권의 매매를 중개함에 있어서 형성된 시세, 그 밖에 대통 \\n령령으로 정하는 시세를 말한다. 이하 같다)를 변동시키는 매매 또는 그 위탁이나 수탁을 하는 행위 \\n2. 그 증권 또는 장내파생상품의 시세가 자기 또는 타인의 시장 조작에 의하여 변동한다는 말을 유포하는 행위\\n3. 그 증권 또는 장내파생상품의 매매를 함에 있어서 중요한 사실에 관하여 거짓의 표시 또는 오해를 유발시키는 표\\n시를 하는 행위 \\n③ 누구든지 상장증권 또는 장내파생상품의 시세를 고정시키거나 안정시킬 목적으로 그 증권 또는 장내파생상품에\\n관한 일련의 매매 또는 그 위탁이나 수탁을 하는 행위를 하여서는 아니 된다. 다만, 다음 각 호의 어느 하나에 해당\\n하는 경우에는 그러하지 아니하다.\\n1. 투자매매업자(모집 또는 매출되는 증권의 발행인 또는 소유자와 인수계약을 체결한 투자매매업자로서 대통령령\\n으로 정하는 자에 한한다. 이하 이 조에서 같다)가 대통령령으로 정하는 방법에 따라 그 증권의 모집 또는 매출의 \\n청약기간의 종료일 전 30일의 범위에서 대통령령으로 정하는 날부터 그 청약기간의 종료일까지의 기간 동안 증 \\n권의 가격을 안정시킴으로써 증권의 모집 또는 매출을 원활하도록 하기 위한 매매거래(이하 이 항에서 “안정조작 \\n”이라 한다)를 하는 경우 \\n2. 투자매매업자가 대통령령으로 정하는 방법에 따라 모집 또는 매출한 증권의 수요ㆍ공급을 그 증권이 상장된 날\\n부터 6개월의 범위에서 대통령령으로 정하는 기간 동안 조성하는 매매거래(이하 이 항에서 “시장조성”이라 한다 \\n)를 하는 경우 \\n3. 모집 또는 매출되는 증권 발행인의 임원 등 대통령령으로 정하는 자가 투자매매업자에게 안정조작을 위탁하는\\n경우 \\n4. 투자매매업자가 제3호에 따라 안정조작을 수탁하는 경우\\n5. 모집 또는 매출되는 증권의 인수인이 투자매매업자에게 시장조성을 위탁하는 경우\\n6. 투자매매업자가 제5호에 따라 시장조성을 수탁하는 경우\\n④ 누구든지 증권, 파생상품 또는 그 증권ㆍ파생상품의 기초자산 중 어느 하나가 거래소에 상장되거나 그 밖에 이에\\n준하는 경우로서 대통령령으로 정하는 경우에는 그 증권 또는 파생상품에 관한 매매, 그 밖의 거래(이하 이 항, 제\\n177조 및 제443조제1항제7호에서 “매매등”이라 한다)와 관련하여 다음 각 호의 어느 하나에 해당하는 행위를 하여\\n법제처                                                            79                                                       국가법령정보센터\\n자본시장과 금융투자업에 관한 법률 \\n서는 아니 된다.<개정 2009. 2. 3., 2013. 5. 28.>\\n1. 파생상품의 매매등에서 부당한 이익을 얻거나 제삼자에게 부당한 이익을 얻게 할 목적으로 그 파생상품의 기초\\n자산의 시세를 변동 또는 고정시키는 행위 \\n2. 파생상품의 기초자산의 매매등에서 부당한 이익을 얻거나 제삼자에게 부당한 이익을 얻게 할 목적으로 그 파생\\n상품의 시세를 변동 또는 고정시키는 행위 \\n3. 증권의 매매등에서 부당한 이익을 얻거나 제삼자에게 부당한 이익을 얻게 할 목적으로 그 증권과 연계된 증권으\\n로서 대통령령으로 정하는 증권 또는 그 증권의 기초자산의 시세를 변동 또는 고정시키는 행위 \\n4. 증권의 기초자산의 매매등에서 부당한 이익을 얻거나 제삼자에게 부당한 이익을 얻게 할 목적으로 그 증권의 시\\n세를 변동 또는 고정시키는 행위 \\n5. 파생상품의 매매등에서 부당한 이익을 얻거나 제삼자에게 부당한 이익을 얻게 할 목적으로 그 파생상품과 기초\\n자산이 동일하거나 유사한 파생상품의 시세를 변동 또는 고정시키는 행위',\n",
       "   '제177조(시세조종의 배상책임) ① 제176조를 위반한 자는 다음 각 호의 구분에 따른 손해를 배상할 책임을 진다. <개정\\n2013. 5. 28.>\\n1. 그 위반행위로 인하여 형성된 가격에 의하여 해당 증권 또는 파생상품에 관한 매매등을 하거나 그 위탁을 한 자\\n가 그 매매등 또는 위탁으로 인하여 입은 손해 \\n2. 제1호의 손해 외에 그 위반행위(제176조제4항 각 호의 어느 하나에 해당하는 행위로 한정한다)로 인하여 가격에\\n영향을 받은 다른 증권, 파생상품 또는 그 증권ㆍ파생상품의 기초자산에 대한 매매등을 하거나 그 위탁을 한 자가 \\n그 매매등 또는 위탁으로 인하여 입은 손해 \\n3. 제1호 및 제2호의 손해 외에 그 위반행위(제176조제4항 각 호의 어느 하나에 해당하는 행위로 한정한다)로 인하\\n여 특정 시점의 가격 또는 수치에 따라 권리행사 또는 조건성취 여부가 결정되거나 금전등이 결제되는 증권 또는 \\n파생상품과 관련하여 그 증권 또는 파생상품을 보유한 자가 그 위반행위로 형성된 가격 또는 수치에 따라 결정되 \\n거나 결제됨으로써 입은 손해 \\n② 제1항에 따른 손해배상청구권은 청구권자가 제176조를 위반한 행위가 있었던 사실을 안 때부터 2년간 또는 그\\n행위가 있었던 때부터 5년간 이를 행사하지 아니한 경우에는 시효로 인하여 소멸한다.<개정 2018. 3. 27.>'],\n",
       "  '제3장 부정거래행위 등': ['제178조(부정거래행위 등의 금지) ① 누구든지 금융투자상품의 매매(증권의 경우 모집ㆍ사모ㆍ매출을 포함한다. 이하\\n이 조 및 제179조에서 같다), 그 밖의 거래와 관련하여 다음 각 호의 어느 하나에 해당하는 행위를 하여서는 아니 된\\n다.\\n1. 부정한 수단, 계획 또는 기교를 사용하는 행위\\n2. 중요사항에 관하여 거짓의 기재 또는 표시를 하거나 타인에게 오해를 유발시키지 아니하기 위하여 필요한 중요\\n사항의 기재 또는 표시가 누락된 문서, 그 밖의 기재 또는 표시를 사용하여 금전, 그 밖의 재산상의 이익을 얻고자 \\n하는 행위 \\n3. 금융투자상품의 매매, 그 밖의 거래를 유인할 목적으로 거짓의 시세를 이용하는 행위\\n② 누구든지 금융투자상품의 매매, 그 밖의 거래를 할 목적이나 그 시세의 변동을 도모할 목적으로 풍문의 유포, 위\\n계(僞計)의 사용, 폭행 또는 협박을 하여서는 아니 된다.',\n",
       "   '제178조의2(시장질서 교란행위의 금지) ① 제1호에 해당하는 자는 제2호에 해당하는 정보를 증권시장에 상장된 증권\\n(제174조제1항에 따른 상장예정법인등이 발행한 증권을 포함한다)이나 장내파생상품 또는 이를 기초자산으로 하는\\n파생상품(이를 모두 포괄하여 이하 이 항에서 “지정 금융투자상품”이라 한다)의 매매, 그 밖의 거래(이하 이 조에서\\n“매매등”이라 한다)에 이용하거나 타인에게 이용하게 하는 행위를 하여서는 아니 된다. 다만, 투자자 보호 및 건전한\\n시장질서를 해할 우려가 없는 행위로서 대통령령으로 정하는 경우 및 그 행위가 제173조의2제2항, 제174조 또는 제\\n178조에 해당하는 경우는 제외한다.\\n법제처                                                            80                                                       국가법령정보센터\\n자본시장과 금융투자업에 관한 법률 \\n1. 다음 각 목의 어느 하나에 해당하는 자\\n가. 제174조 각 항 각 호의 어느 하나에 해당하는 자로부터 나온 미공개중요정보 또는 미공개정보인 정을 알면서 \\n이를 받거나 전득(轉得)한 자 \\n나. 자신의 직무와 관련하여 제2호에 해당하는 정보(이하 이 호에서 “정보”라 한다)를 생산하거나 알게 된 자 \\n다. 해킹, 절취(竊取), 기망(欺罔), 협박, 그 밖의 부정한 방법으로 정보를 알게 된 자 \\n라. 나목 또는 다목의 어느 하나에 해당하는 자로부터 나온 정보인 정을 알면서 이를 받거나 전득한 자 \\n2. 다음 각 목의 모두에 해당하는 정보\\n가. 그 정보가 지정 금융투자상품의 매매등 여부 또는 매매등의 조건에 중대한 영향을 줄 가능성이 있을 것 \\n나. 그 정보가 투자자들이 알지 못하는 사실에 관한 정보로서 불특정 다수인이 알 수 있도록 공개되기 전일 것 \\n② 누구든지 상장증권 또는 장내파생상품에 관한 매매등과 관련하여 다음 각 호의 어느 하나에 해당하는 행위를 하\\n여서는 아니 된다. 다만, 그 행위가 제176조 또는 제178조에 해당하는 경우는 제외한다.\\n1. 거래 성립 가능성이 희박한 호가를 대량으로 제출하거나 호가를 제출한 후 해당 호가를 반복적으로 정정ㆍ취소\\n하여 시세에 부당한 영향을 주거나 줄 우려가 있는 행위 \\n2. 권리의 이전을 목적으로 하지 아니함에도 불구하고 거짓으로 꾸민 매매를 하여 시세에 부당한 영향을 주거나 줄\\n우려가 있는 행위 \\n3. 손익이전 또는 조세회피 목적으로 자기가 매매하는 것과 같은 시기에 그와 같은 가격 또는 약정수치로 타인이 그\\n상장증권 또는 장내파생상품을 매수할 것을 사전에 그 자와 서로 짠 후 매매를 하여 시세에 부당한 영향을 주거 \\n나 영향을 줄 우려가 있는 행위 \\n4. 풍문을 유포하거나 거짓으로 계책을 꾸미는 등으로 상장증권 또는 장내파생상품의 수요ㆍ공급 상황이나 그 가격\\n에 대하여 타인에게 잘못된 판단이나 오해를 유발하거나 상장증권 또는 장내파생상품의 가격을 왜곡할 우려가 \\n있는 행위 \\n[본조신설 2014. 12. 30.]',\n",
       "   '제178조의3(불공정거래행위 통보 등) ① 증권선물위원회는 제429조 및 제429조의2의 과징금 사건이 제173조의2제2항\\n, 제174조, 제176조 또는 제178조의 위반 혐의가 있다고 인정하는 경우에는 검찰총장에게 이를 통보하여야 한다.\\n② 증권선물위원회는 검찰총장이 제173조의2제2항, 제174조, 제176조 또는 제178조를 위반한 자를 소추하기 위하\\n여 관련 정보를 요구하는 경우에는 이를 제공할 수 있다.\\n[본조신설 2014. 12. 30.]',\n",
       "   '제179조(부정거래행위 등의 배상책임) ① 제178조를 위반한 자는 그 위반행위로 인하여 금융투자상품의 매매, 그 밖의\\n거래를 한 자가 그 매매, 그 밖의 거래와 관련하여 입은 손해를 배상할 책임을 진다.\\n② 제1항에 따른 손해배상청구권은 청구권자가 제178조를 위반한 행위가 있었던 사실을 안 때부터 2년간 또는 그\\n행위가 있었던 때부터 5년간 이를 행사하지 아니한 경우에는 시효로 인하여 소멸한다.<개정 2018. 3. 27.>',\n",
       "   '제180조(공매도의 제한) ① 누구든지 증권시장(다자간매매체결회사에서의 증권의 매매거래를 포함한다. 이하 이 장에\\n서 같다)에서 상장증권(대통령령으로 정하는 증권에 한한다. 이하 이 장에서 같다)에 대하여 다음 각 호의 어느 하나\\n에 해당하는 매도(이하 “공매도”라 한다)를 하거나 그 위탁 또는 수탁을 하여서는 아니 된다. 다만, 제2호에 해당하는\\n경우로서(이하 “차입공매도”라 한다) 증권시장의 안정성 및 공정한 가격형성을 위하여 대통령령으로 정하는 방법에\\n따르는 경우에는 이를 할 수 있다. <개정 2013. 5. 28., 2016. 3. 29.>\\n1. 소유하지 아니한 상장증권의 매도\\n2. 차입한 상장증권으로 결제하고자 하는 매도\\n② 제1항 본문에 불구하고 다음 각 호의 어느 하나에 해당하는 경우에는 이를 공매도로 보지 아니한다.\\n1. 증권시장에서 매수계약이 체결된 상장증권을 해당 수량의 범위에서 결제일 전에 매도하는 경우\\n2. 전환사채ㆍ교환사채ㆍ신주인수권부사채 등의 권리 행사, 유ㆍ무상증자, 주식배당 등으로 취득할 주식을 매도하\\n는 경우로서 결제일까지 그 주식이 상장되어 결제가 가능한 경우\\n법제처                                                            81                                                       국가법령정보센터\\n자본시장과 금융투자업에 관한 법률 \\n3. 그 밖에 결제를 이행하지 아니할 우려가 없는 경우로서 대통령령으로 정하는 경우\\n③ 금융위원회는 증권시장의 안정성 및 공정한 가격형성을 저해할 우려가 있는 경우에는 거래소의 요청에 따라 상\\n장증권의 범위, 매매거래의 유형 및 기한 등을 정하여 차입공매도를 제한할 수 있다.<신설 2016. 3. 29., 2021. 1. 5.>',\n",
       "   '제180조의2(순보유잔고의 보고) ① 제180조제1항 각 호 외의 부분 단서에 따라 상장증권을 차입공매도한 자(대통령령\\n으로 정하는 거래에 따라 증권을 차입공매도한 자는 제외하며, 이하 이 장에서 “매도자”라 한다)는 해당 증권에 관한\\n매수, 그 밖의 거래에 따라 보유하게 된 순보유잔고(이하 이 장에서 “순보유잔고”라 한다)가 발행주식 수의 일정 비율\\n을 초과하는 경우에는 매도자의 순보유잔고에 관한 사항과 그 밖에 필요한 사항을 금융위원회와 거래소에 보고하여\\n야 한다.\\n② 금융위원회는 제1항에 따라 제출된 보고서에 거짓의 기재 또는 표시가 있거나 기재사항이 누락된 경우에는 그\\n이유를 제시하고 그 보고서의 정정을 명할 수 있다.\\n③ 전문투자자로서 제1항에 따른 보고의무가 있는 자는 대통령령으로 정하는 기간 동안 순보유잔고 산정에 관한 자\\n료를 보관하여야 하며, 금융위원회가 자료제출을 요구하는 경우 이를 지체 없이 제출하여야 한다.\\n④ 제1항의 매도자의 구체적인 범위, 순보유잔고의 산출방법, 순보유잔고의 비율 등 보고의 기준, 그 밖에 필요한 보\\n고 사항은 대통령령으로 정하고, 보고의 절차 및 방법은 금융위원회가 정하여 고시한다.\\n[본조신설 2016. 3. 29.]',\n",
       "   '제180조의3(순보유잔고의 공시) ① 대통령령으로 정하는 상장증권의 종목별 발행총수 대비 매도자의 해당 증권에 대한\\n종목별 순보유잔고의 비율이 대통령령으로 정하는 기준에 해당하는 경우 매도자는 매도자에 관한 사항, 순보유잔고\\n에 관한 사항, 그 밖에 대통령령으로 정하는 사항을 공시하여야 한다.\\n② 제1항에 따른 공시에 필요한 절차 및 방법 등의 세부사항은 금융위원회가 정하여 고시한다.\\n[본조신설 2016. 3. 29.]',\n",
       "   '제180조의4(공매도 거래자의 모집 또는 매출에 따른 주식 취득 제한) 누구든지 증권시장에 상장된 주식에 대한 모집 또\\n는 매출 계획이 공시된 이후부터 해당 주식의 모집가액 또는 매출가액이 결정되기 전까지 대통령령으로 정하는 기\\n간 동안 모집 또는 매출 대상 주식과 동일한 종목에 대하여 증권시장에서 공매도를 하거나 공매도 주문을 위탁한 경\\n우에는 해당 모집 또는 매출에 따른 주식을 취득하여서는 아니 된다. 다만, 모집가액 또는 매출가액의 공정한 가격형\\n성을 저해하지 아니하는 경우로서 대통령령으로 정하는 경우에는 그러하지 아니하다.\\n[본조신설 2021. 1. 5.]',\n",
       "   '제180조의4(공매도 거래자의 모집 또는 매출 등에 따른 증권 취득 제한) ① 누구든지 증권시장에 상장된 주식에 대한\\n모집 또는 매출 계획이 공시된 이후부터 해당 주식의 모집가액 또는 매출가액이 결정되기 전까지 대통령령으로 정\\n하는 기간 동안 모집 또는 매출 대상 주식과 동일한 종목에 대하여 증권시장에서 공매도를 하거나 공매도 주문을 위\\n탁한 경우에는 해당 모집 또는 매출에 따른 주식을 취득하여서는 아니 된다. 다만, 모집가액 또는 매출가액의 공정한\\n가격형성을 저해하지 아니하는 경우로서 대통령령으로 정하는 경우에는 그러하지 아니하다. <개정 2024. 10. 22.>\\n② 누구든지 주권상장법인의 전환사채 또는 신주인수권부사채 발행 계획이 공시된 이후부터 전환가액 또는 신주인\\n수권행사가액이 결정되기 전까지 대통령령으로 정하는 기간 동안 해당 주권상장법인의 주식에 대하여 증권시장에\\n서 공매도를 하거나 공매도 주문을 위탁한 경우에는 해당 사채 발행에 따른 전환사채 또는 신주인수권부사채를 취\\n득하여서는 아니 된다. 다만, 전환가액 또는 신주인수권행사가액의 공정한 가격형성을 저해하지 아니하는 경우로서\\n대통령령으로 정하는 경우에는 그러하지 아니하다.<신설 2024. 10. 22.>\\n[본조신설 2021. 1. 5.]\\n[제목개정 2024. 10. 22.]\\n[시행일: 2025. 3. 31.] 제180조의4',\n",
       "   '제180조의5(차입공매도를 위한 대차거래정보 보관 등) ① 차입공매도를 목적으로 상장증권의 대차거래 계약을 체결한\\n자는 계약체결 일시, 종목 및 수량 등 대통령령으로 정하는 대차거래정보를 대통령령으로 정하는 방법으로 5년간 보\\n법제처                                                            82                                                       국가법령정보센터\\n자본시장과 금융투자업에 관한 법률 \\n관하여야 한다.\\n② 제1항에 따라 대차거래정보의 보관의무를 지는 자는 금융위원회 및 거래소가 그 자료의 제출을 요구하는 경우\\n이를 지체 없이 제출하여야 한다.\\n[본조신설 2021. 1. 5.]',\n",
       "   '제180조의5(차입공매도를 위한 대차거래) ① 차입공매도를 목적으로 상장증권의 대차거래 계약을 체결한 자는 계약체\\n결 일시, 종목 및 수량 등 대통령령으로 정하는 대차거래정보를 대통령령으로 정하는 방법으로 5년간 보관하여야 한\\n다.\\n② 제1항에 따라 대차거래정보의 보관의무를 지는 자는 금융위원회 및 거래소가 그 자료의 제출을 요구하는 경우\\n이를 지체 없이 제출하여야 한다.\\n③ 차입공매도를 목적으로 대통령령으로 정하는 상장증권의 대차거래 계약을 체결하려는 자는 대통령령으로 정하\\n는 바에 따라 상환기간을 정하여 계약을 체결하여야 한다.<신설 2024. 10. 22.>\\n④ 증권의 대차거래의 중개ㆍ주선이나 대리업무를 하려는 자는 차입자가 차입공매도를 목적으로 대차거래 계약을\\n체결하는 경우 제3항의 상환기간이 적용되도록 대차거래 계약을 구분하여 관리하여야 한다.<신설 2024. 10. 22.>\\n[본조신설 2021. 1. 5.]\\n[제목개정 2024. 10. 22.]\\n[시행일: 2025. 3. 31.] 제180조의5',\n",
       "   '제180조의6(무차입공매도 방지조치) ① 대통령령으로 정하는 상장증권을 차입공매도하려는 법인은 임직원이 공매도\\n관련 직무를 수행할 때 준수하여야 할 기준 및 절차를 마련하고 전산설비를 갖추는 등 제180조제1항 각 호 외의 부\\n분 단서에 따른 차입공매도에 해당하지 아니하는 공매도(이하 “무차입공매도”라 한다)를 방지하기 위하여 필요한 조\\n치를 하여야 한다.\\n② 투자중개업자는 법인으로부터 공매도의 위탁을 받는 경우 그 법인이 제1항에 따른 조치를 하였는지 확인하는 등\\n대통령령으로 정하는 방법에 따라 무차입공매도를 방지하기 위한 조치를 하여야 한다.\\n③ 제1항에 따른 조치를 하여야 하는 법인의 범위와 조치의 내용 등에 관하여 필요한 세부사항은 대통령령으로 정\\n한다.\\n[본조신설 2024. 10. 22.]\\n[시행일: 2025. 3. 31.] 제180조의6\\n \\n     제5편 집합투자기구'],\n",
       "  '제1장 총칙': ['제373조(무허가 시장개설행위 금지) 누구든지 이 법에 따른 거래소허가를 받지 아니하고는 금융투자상품시장을 개설\\n하거나 운영하여서는 아니 된다. 다만, 다음 각 호의 어느 하나에 해당하는 경우에는 그러하지 아니하다.\\n1. 다자간매매체결회사가 제78조에 따라 다자간매매체결업무를 하는 경우\\n2. 협회가 제286조제1항제5호에 따라 증권시장에 상장되지 아니한 주권의 장외매매거래에 관한 업무를 하는 경우\\n3. 그 밖에 거래소 외의 자가 금융투자상품의 매매체결에 관한 업무를 수행하더라도 공정한 가격 형성, 매매 그 밖\\n의 거래의 안정성 및 효율성의 도모 및 투자자의 보호에 우려가 없는 경우로서 대통령령으로 정하는 경우 \\n[전문개정 2013. 5. 28.]',\n",
       "   '제373조의2(거래소의 허가) ① 금융투자상품시장을 개설하거나 운영하려는 자는 다음 각 호의 사항을 구성요소로 하여\\n대통령령으로 정하는 시장개설 단위의 전부나 일부를 선택하여 금융위원회로부터 하나의 거래소허가를 받아야 한다\\n.\\n1. 매매의 대상이 되는 금융투자상품의 범위(증권 및 장내파생상품을 말하되, 증권 중 주권, 그 밖에 대통령령으로\\n정하는 것을 포함한다) \\n2. 회원(거래소시장에서의 거래에 참가할 수 있는 자로서 제387조제1항의 회원관리규정에 따른 자를 말한다. 이하\\n같다)이 되는 자의 범위 \\n② 제1항에 따라 거래소허가를 받으려는 자는 다음 각 호의 요건을 모두 갖추어야 한다.<개정 2015. 7. 31.>\\n1. 「상법」에 따른 주식회사일 것\\n2. 거래소허가 단위별로 1천억원 이상으로서 대통령령으로 정하는 금액 이상의 자기자본을 갖출 것\\n3. 사업계획이 타당하고 건전할 것\\n4. 투자자의 보호가 가능하고 금융투자상품시장을 개설ㆍ운영하기에 충분한 인력과 전산설비, 그 밖의 물적 설비를\\n갖출 것 \\n5. 정관, 회원관리규정ㆍ증권시장업무규정ㆍ파생상품시장업무규정ㆍ상장규정ㆍ공시규정ㆍ시장감시규정ㆍ분쟁조\\n정규정, 그 밖의 업무에 관한 규정(이하 이 호 및 제373조의7에서 “정관등”이라 한다)이 법령에 적합하고, 증권 및 \\n장내파생상품의 공정한 가격 형성과 매매 그 밖의 거래의 안정성 및 효율성을 도모하며 투자자의 보호를 위하여 \\n충분할 것 \\n6. 임원이 「금융회사의 지배구조에 관한 법률」 제5조에 적합할 것\\n7. 대주주(제12조제2항제6호가목의 대주주를 말한다)가 충분한 출자능력, 건전한 재무상태 및 사회적 신용을 갖출\\n것 \\n8. 대통령령으로 정하는 사회적 신용을 갖출 것\\n9. 이해상충방지체계를 구축하고 있을 것\\n③ 제2항의 허가요건에 관하여 필요한 세부사항은 대통령령으로 정한다.\\n법제처                                                            168                                                       국가법령정보센터\\n자본시장과 금융투자업에 관한 법률 \\n[본조신설 2013. 5. 28.]',\n",
       "   '제373조의3(허가의 신청 및 심사) ① 제373조의2제1항에 따른 허가를 받으려는 자는 허가신청서를 금융위원회에 제출\\n하여야 한다.\\n② 금융위원회는 제1항의 허가신청서를 접수한 때에는 그 내용을 심사하여 3개월 이내에 허가 여부를 결정하고, 그\\n결과와 이유를 지체 없이 신청인에게 문서로 통지하여야 한다. 이 경우 허가신청서에 흠결이 있는 경우에는 보완을\\n요구할 수 있다.\\n③ 제2항의 심사기간을 산정함에 있어서 허가신청서 흠결의 보완기간 등 총리령으로 정하는 기간은 이를 산입하지\\n아니한다.\\n④ 금융위원회는 제2항에 따라 허가를 하는 경우에는 증권 및 장내파생상품의 공정한 가격 형성과 그 매매, 그 밖의\\n거래의 안정성 및 효율성 도모, 회사 경영의 건전성 확보 및 투자자 보호에 필요한 조건을 붙일 수 있다.\\n⑤ 제4항에 따라 조건이 붙은 허가를 받은 자는 사정의 변경이나 그 밖에 정당한 사유가 있는 경우에는 금융위원회\\n에 조건의 취소 또는 변경을 요청할 수 있다. 이 경우 금융위원회는 2개월 이내에 조건의 취소 또는 변경 여부를 결\\n정하고, 그 결과를 지체 없이 신청인에게 문서로 통지하여야 한다.\\n⑥ 금융위원회는 제2항에 따라 허가를 한 경우에는 다음 각 호의 사항을 관보 및 인터넷 홈페이지 등에 공고하여야\\n한다.\\n1. 허가의 내용\\n2. 허가의 조건(조건을 붙인 경우로 한정한다)\\n3. 허가의 조건을 취소하거나 변경한 경우 그 내용(조건을 취소하거나 변경한 경우로 한정한다)\\n⑦ 제1항부터 제6항까지의 규정에 따른 허가신청서의 기재사항ㆍ첨부서류 등 허가의 신청에 관한 사항과 허가심사\\n의 방법ㆍ절차, 그 밖에 필요한 사항은 대통령령으로 정한다.\\n[본조신설 2013. 5. 28.]',\n",
       "   '제373조의4(예비허가) ① 제373조의2에 따른 거래소허가(이하 이 조에서 “본허가”라 한다)를 받으려는 자는 미리 금융\\n위원회에 예비허가를 신청할 수 있다.\\n② 금융위원회는 예비허가를 신청받은 경우에는 2개월 이내에 제373조의2제2항 각 호의 요건을 갖출 수 있는지 여\\n부를 심사하여 예비허가 여부를 결정하고, 그 결과와 이유를 지체 없이 신청인에게 문서로 통지하여야 한다. 이 경\\n우 예비허가신청에 관하여 흠결이 있는 때에는 보완을 요구할 수 있다.\\n③ 제2항의 심사기간을 산정함에 있어서 예비허가신청과 관련된 흠결의 보완기간 등 총리령으로 정하는 기간은 심\\n사기간에 산입하지 아니한다.\\n④ 금융위원회는 제2항에 따라 예비허가를 하는 경우에는 증권 및 장내파생상품의 공정한 가격 형성과 그 매매, 그\\n밖의 거래의 안정성 및 효율성 도모, 회사 경영의 건전성 확보 및 투자자 보호에 필요한 조건을 붙일 수 있다.\\n⑤ 금융위원회는 예비허가를 받은 자가 본허가를 신청하는 경우에는 제4항에 따른 예비허가의 조건을 이행하였는\\n지 여부와 제373조의2제2항 각 호의 요건을 갖추었는지 여부를 확인한 후 본허가 여부를 결정하여야 한다.\\n⑥ 제1항부터 제5항까지의 규정에 따른 예비허가의 신청서 및 그 기재사항ㆍ첨부서류 등 예비허가의 신청에 관한\\n사항과 예비허가심사의 방법ㆍ절차, 그 밖에 예비허가에 관하여 필요한 사항은 대통령령으로 정한다.\\n[본조신설 2013. 5. 28.]',\n",
       "   '제373조의5(허가요건의 유지) 거래소는 제373조의2에 따른 거래소허가를 받아 시장을 개설ㆍ운영함에 있어서 제\\n373조의2제2항 각 호(제8호는 제외한다)의 허가요건을 유지하여야 한다.\\n[본조신설 2013. 5. 28.]',\n",
       "   '제373조의6(시장개설 단위의 추가 및 허가의 변경) 거래소는 제373조의2에 따라 허가받은 시장개설 단위 외에 다른 시\\n장개설 단위를 추가하여 금융투자상품시장을 개설ㆍ운영하려는 경우에는 제373조의2 및 제373조의3에 따라 금융\\n위원회의 변경허가를 받아야 한다. 이 경우 제373조의4를 적용한다.\\n법제처                                                            169                                                       국가법령정보센터\\n자본시장과 금융투자업에 관한 법률 \\n[본조신설 2013. 5. 28.]',\n",
       "   '제373조의7(상장 및 시장감시 등의 책무) 거래소는 다음 각 호의 업무를 행함에 있어서 이 법 또는 정관등에 따라 거래\\n소시장에서 투자자를 보호하고 증권 및 장내파생상품의 매매를 공정하게 수행할 책무를 가진다.\\n1. 증권의 상장 및 상장폐지 업무\\n2. 제402조제1항제1호부터 제3호까지의 규정에 따른 업무\\n3. 그 밖에 투자자를 보호하고 공정한 거래질서를 확보하기 위하여 필요한 업무로서 대통령령으로 정하는 업무\\n[본조신설 2013. 5. 28.]',\n",
       "   '제374조(「상법」의 적용) 거래소에 대하여는 이 법에서 특별히 정한 경우를 제외하고는 「상법」 중 주식회사에 관한 규\\n정을 적용한다.'],\n",
       "  '제2장 집합투자기구의 구성 등\\n         제1절 투자신탁': ['제188조(신탁계약의 체결 등) ① 투자신탁을 설정하고자 하는 집합투자업자는 다음 각 호의 사항이 기재된 신탁계약서\\n에 의하여 신탁업자와 신탁계약을 체결하여야 한다. <개정 2016. 3. 22.>\\n1. 집합투자업자 및 신탁업자의 상호\\n2. 신탁원본의 가액 및 제189조제1항 및 제3항에 따라 발행하는 투자신탁의 수익권(이하 “수익증권”이라 한다)의 총\\n좌수에 관한 사항 \\n3. 투자신탁재산의 운용 및 관리에 관한 사항\\n4. 이익분배 및 환매에 관한 사항\\n5. 집합투자업자ㆍ신탁업자 등이 받는 보수, 그 밖의 수수료의 계산방법과 지급시기ㆍ방법에 관한 사항. 다만, 집합\\n투자업자가 기준가격 산정업무를 위탁하는 경우에는 그 수수료는 해당 투자신탁재산에서 부담한다는 내용을 포 \\n함하여야 한다. \\n6. 수익자총회에 관한 사항\\n7. 공시 및 보고서에 관한 사항\\n8. 그 밖에 수익자 보호를 위하여 필요한 사항으로서 대통령령으로 정하는 사항\\n② 투자신탁을 설정한 집합투자업자는 신탁계약을 변경하고자 하는 경우에는 신탁업자와 변경계약을 체결하여야\\n한다. 이 경우 신탁계약 중 다음 각 호의 어느 하나에 해당하는 사항을 변경하는 경우에는 미리 제190조제5항 본문\\n에 따른 수익자총회의 결의를 거쳐야 한다.<개정 2013. 5. 28.>\\n1. 집합투자업자ㆍ신탁업자 등이 받는 보수, 그 밖의 수수료의 인상\\n2. 신탁업자의 변경(합병ㆍ분할ㆍ분할합병, 그 밖에 대통령령으로 정하는 사유로 변경되는 경우를 제외한다)\\n3. 신탁계약기간의 변경(투자신탁을 설정할 당시에 그 기간변경이 신탁계약서에 명시되어 있는 경우는 제외한다)\\n4. 그 밖에 수익자의 이익과 관련된 중요한 사항으로서 대통령령으로 정하는 사항\\n③ 투자신탁을 설정한 집합투자업자는 제2항에 따라 신탁계약을 변경한 경우에는 인터넷 홈페이지 등을 이용하여\\n공시하여야 하며, 제2항 후단에 따라 신탁계약을 변경한 경우에는 공시 외에 이를 수익자에게 통지하여야 한다.\\n④ 집합투자업자는 제1항에 따라 투자신탁을 설정하는 경우(그 투자신탁을 추가로 설정하는 경우를 포함한다) 신탁\\n업자에게 해당 신탁계약에서 정한 신탁원본 전액을 금전으로 납입하여야 한다.',\n",
       "   '제189조(투자신탁의 수익권 등) ① 투자신탁을 설정한 집합투자업자는 투자신탁의 수익권을 균등하게 분할하여 수익\\n증권을 발행한다. <개정 2016. 3. 22.>\\n② 수익자는 신탁원본의 상환 및 이익의 분배 등에 관하여 수익증권의 좌수에 따라 균등한 권리를 가진다.\\n③투자신탁을 설정한 집합투자업자는 신탁계약에서 정한 신탁원본 전액이 납입된 경우 신탁업자의 확인을 받아 「\\n주식ㆍ사채 등의 전자등록에 관한 법률」에 따른 전자등록의 방법으로 투자신탁의 수익권을 발행하여야 한다.<개정\\n2016. 3. 22.>\\n④ 수익증권은 무액면 기명식으로 한다.\\n⑤ 투자신탁을 설정한 집합투자업자는 제3항에 따른 수익증권을 발행하는 경우에는 다음 각 호의 사항이 「주식ㆍ\\n사채 등의 전자등록에 관한 법률」에 따라 전자등록 또는 기록되도록 하여야 한다. 이 경우 그 집합투자업자 및 그\\n투자신탁재산을 보관ㆍ관리하는 신탁업자의 대표이사(집행임원 설치회사의 경우 대표집행임원을 말한다)로부터 대\\n법제처                                                            86                                                       국가법령정보센터\\n자본시장과 금융투자업에 관한 법률 \\n통령령으로 정하는 방법과 절차에 따라 확인을 받아야 한다.<개정 2013. 5. 28., 2016. 3. 22.>\\n1. 집합투자업자 및 신탁업자의 상호\\n2. 수익자의 성명 또는 명칭\\n3. 신탁계약을 체결할 당시의 신탁원본의 가액 및 수익증권의 총좌수\\n4. 수익증권의 발행일\\n5. 삭제<2016. 3. 22.>\\n⑥ 투자신탁을 설정한 집합투자업자는 수익자명부의 작성에 관한 업무를 「주식ㆍ사채 등의 전자등록에 관한 법률」\\n제2조제6호에 따른 전자등록기관(이하 “전자등록기관”이라 한다)에 위탁하여야 한다.<개정 2016. 3. 22.>\\n⑦ 전자등록기관은 제6항에 따라 위탁을 받은 경우 다음 각 호의 사항을 기재한 수익자명부를 작성ㆍ비치하여야 한\\n다.<개정 2016. 3. 22.>\\n1. 수익자의 주소 및 성명\\n2. 수익자가 소유하는 수익증권의 좌수\\n3. 삭제<2016. 3. 22.>\\n⑧ 전자등록기관은 제7항 각 호에 관한 정보를 타인에게 제공해서는 아니 된다. 다만, 수익자총회 개최를 위하여 집\\n합투자업자에게 제공하는 경우, 그 밖에 대통령령으로 정하는 경우에는 이를 제공할 수 있다.<개정 2016. 3. 22.>\\n⑨ 「상법」 제337조, 제339조, 제340조 및 「주식ㆍ사채 등의 전자등록에 관한 법률」 제35조제3항 후단은 수익권 및\\n수익증권에 관하여 준용하며, 「상법」 제353조 및 제354조는 수익자명부에 관하여 준용한다.<개정 2016. 3. 22.>\\n[제목개정 2016. 3. 22.]',\n",
       "   '제190조(수익자총회) ① 투자신탁에는 전체 수익자로 구성되는 수익자총회를 두며, 수익자총회는 이 법 또는 신탁계약\\n에서 정한 사항에 대하여만 결의할 수 있다.\\n② 수익자총회는 투자신탁을 설정한 집합투자업자가 소집한다.\\n③ 투자신탁을 설정한 집합투자업자는 투자신탁재산을 보관ㆍ관리하는 신탁업자 또는 발행된 수익증권의 총좌수\\n의 100분의 5 이상을 소유한 수익자가 수익자총회의 목적과 소집의 이유를 기재한 서면을 제출하여 수익자총회의\\n소집을 그 집합투자업자에 요청하는 경우 1개월 이내에 수익자총회를 소집하여야 한다. 이 경우 집합투자업자가 정\\n당한 사유 없이 수익자총회를 소집하기 위한 절차를 거치지 아니하는 경우에는 그 신탁업자 또는 발행된 수익증권\\n총좌수의 100분의 5 이상을 소유한 수익자는 금융위원회의 승인을 받아 수익자총회를 개최할 수 있다.<개정 2008.\\n2. 29.>\\n④ 「상법」 제363조제1항 및 제2항은 수익자총회의 소집통지에 관하여 준용한다. 이 경우 “주주”는 각각 “수익자”로,\\n“주주명부”는 “수익자명부”로, “회사”는 “집합투자업자”로 본다.\\n⑤ 수익자총회는 출석한 수익자의 의결권의 과반수와 발행된 수익증권 총좌수의 4분의 1 이상의 수로 결의한다. 다\\n만, 이 법에서 정한 수익자총회의 결의사항 외에 신탁계약으로 정한 수익자총회의 결의사항에 대하여는 출석한 수\\n익자의 의결권의 과반수와 발행된 수익증권의 총좌수의 5분의 1 이상의 수로 결의할 수 있다.<개정 2013. 5. 28.>\\n⑥ 수익자는 수익자총회에 출석하지 아니하고 서면에 의하여 의결권을 행사할 수 있다. 다만, 다음 각 호의 요건을\\n모두 충족하는 경우에는 수익자총회에 출석한 수익자가 소유한 수익증권의 총좌수의 결의내용에 영향을 미치지 아\\n니하도록 의결권을 행사(이하 이 항에서 “간주의결권행사”라 한다)한 것으로 본다.<개정 2013. 5. 28.>\\n1. 수익자에게 대통령령으로 정하는 방법에 따라 의결권 행사에 관한 통지가 있었으나 의결권이 행사되지 아니하였\\n을 것 \\n2. 간주의결권행사의 방법이 집합투자규약에 기재되어 있을 것\\n3. 수익자총회에서 의결권을 행사한 수익증권의 총좌수가 발행된 수익증권의 총좌수의 10분의 1 이상일 것\\n4. 그 밖에 수익자를 보호하기 위하여 대통령령으로 정하는 방법 및 절차를 따를 것\\n⑦ 투자신탁을 설정한 집합투자업자(제3항 후단에 따라 수익자총회를 소집하는 신탁업자 또는 발행된 수익증권 총\\n좌수의 100분의 5 이상을 소유한 수익자를 포함한다. 이하 이 항에서 같다)는 제5항에 따른 수익자총회의 결의가\\n이루어지지 아니한 경우 그 날부터 2주 이내에 연기된 수익자총회(이하 “연기수익자총회”라 한다)를 소집하여야 한\\n법제처                                                            87                                                       국가법령정보센터\\n자본시장과 금융투자업에 관한 법률 \\n다.<개정 2013. 5. 28.>\\n⑧ 연기수익자총회의 결의에 관하여는 제5항 및 제6항을 준용한다. 이 경우 “발행된 수익증권 총좌수의 4분의 1 이\\n상”은 “발행된 수익증권 총좌수의 8분의 1 이상”으로 보고, “수익증권의 총좌수의 5분의 1 이상”은 “수익증권의 총\\n좌수의 10분의 1 이상”으로 본다.<개정 2013. 5. 28.>\\n⑨ 수익자총회 및 연기수익자총회의 소집 방법, 서면에 의한 의결권 행사 방법, 그 밖에 수익자총회에 관하여 필요\\n한 사항은 대통령령으로 정한다.\\n⑩ 「상법」 제364조, 제366조의2제2항ㆍ제3항, 제367조, 제368조제3항ㆍ제4항, 제368조의4, 제369조제1항ㆍ제2항,\\n제371조부터 제373조까지, 제376조, 제377조 및 제379조부터 제381조까지의 규정은 수익자총회에 관하여 준용한\\n다. 이 경우 “주주”는 각각 “수익자”로, “정관”은 각각 “신탁계약”으로, “주식”은 “수익증권”으로, “회사”는 각각 “집합\\n투자업자”로, “이사회의 결의”는 각각 “집합투자업자의 결정”으로 본다.<개정 2013. 5. 28.>',\n",
       "   '제191조(반대수익자의 수익증권매수청구권) ① 투자신탁의 수익자는 다음 각 호의 어느 하나에 해당하는 경우 집합투\\n자업자에게 수익증권의 수를 기재한 서면으로 자기가 소유하고 있는 수익증권의 매수를 청구할 수 있다. <개정\\n2013. 5. 28.>\\n1. 제188조제2항 각 호 외의 부분 후단에 따른 신탁계약의 변경 또는 제193조제2항에 따른 투자신탁의 합병에 대한\\n수익자총회의 결의에 반대(수익자총회 전에 해당 집합투자업자에게 서면으로 그 결의에 반대하는 의사를 통지한 \\n경우로 한정한다)하는 수익자가 그 수익자총회의 결의일부터 20일 이내에 수익증권의 매수를 청구하는 경우 \\n2. 제193조제2항 각 호 외의 부분 단서에 따른 투자신탁의 합병에 반대하는 수익자가 대통령령으로 정하는 방법에\\n따라 수익증권의 매수를 청구하는 경우 \\n② 투자신탁을 설정한 집합투자업자는 제1항에 따른 청구가 있는 경우 해당 수익자에게 수익증권의 매수에 따른 수\\n수료, 그 밖의 비용을 부담시켜서는 아니 된다.\\n③ 투자신탁을 설정한 집합투자업자는 제1항에 따른 청구가 있는 경우에는 매수청구기간이 만료된 날부터 15일 이\\n내에 그 투자신탁재산으로 대통령령으로 정하는 방법에 따라 그 수익증권을 매수하여야 한다. 다만, 매수자금이 부\\n족하여 매수에 응할 수 없는 경우에는 금융위원회의 승인을 받아 수익증권의 매수를 연기할 수 있다.<개정 2008. 2.\\n29.>\\n④ 투자신탁을 설정한 집합투자업자는 제3항 본문에 따라 수익증권을 매수한 경우에는 지체 없이 그 수익증권을 소\\n각(消却)하여야 한다.',\n",
       "   '제192조(투자신탁의 해지) ① 투자신탁을 설정한 집합투자업자는 금융위원회의 승인을 받아 투자신탁을 해지할 수 있\\n다. 다만, 수익자의 이익을 해할 우려가 없는 경우로서 대통령령으로 정하는 경우에는 금융위원회의 승인을 받지 아\\n니하고 투자신탁을 해지할 수 있으며, 이 경우 집합투자업자는 그 해지사실을 지체 없이 금융위원회에 보고하여야\\n한다. <개정 2008. 2. 29.>\\n② 투자신탁을 설정한 집합투자업자는 다음 각 호의 어느 하나에 해당하는 경우에는 지체 없이 투자신탁을 해지하\\n여야 한다. 이 경우 집합투자업자는 그 해지사실을 지체 없이 금융위원회에 보고하여야 한다.<개정 2008. 2. 29.,\\n2013. 5. 28., 2015. 7. 24., 2018. 3. 27., 2021. 4. 20.>\\n1. 신탁계약에서 정한 신탁계약기간의 종료\\n2. 수익자총회의 투자신탁 해지 결의\\n3. 투자신탁의 피흡수합병\\n4. 투자신탁의 등록 취소\\n5. 수익자의 총수가 1인이 되는 경우. 다만, 제6조제6항에 따라 인정되거나 건전한 거래질서를 해할 우려가 없는 경\\n우로서 대통령령으로 정하는 경우는 제외한다. \\n6. 제249조의9제1항에 따라 투자신탁인 일반 사모집합투자기구의 해지 명령을 받은 경우\\n③ 투자신탁을 설정한 집합투자업자는 제1항 또는 제2항(제3호를 제외한다)에 따라 투자신탁을 해지하는 경우에는\\n신탁계약이 정하는 바에 따라 투자신탁재산에 속하는 자산을 해당 수익자에게 지급할 수 있다.\\n법제처                                                            88                                                       국가법령정보센터\\n자본시장과 금융투자업에 관한 법률 \\n④ 제1항에 따라 해지 승인을 신청하는 경우 신청서의 기재사항 및 첨부서류, 제1항ㆍ제2항에 따라 투자신탁이 해\\n지되는 경우 미수금 및 미지급금 등의 처리방법, 그 밖에 투자신탁의 해지에 관하여 필요한 사항은 대통령령으로 정\\n한다.\\n⑤ 투자신탁을 설정한 집합투자업자는 수익자의 환매청구에 응하는 등 대통령령으로 정하는 경우에는 투자신탁의\\n일부를 해지할 수 있다.',\n",
       "   '제193조(투자신탁의 합병) ① 투자신탁을 설정한 집합투자업자는 그 집합투자업자가 운용하는 다른 투자신탁을 흡수\\n하는 방법으로 투자신탁을 합병할 수 있다.\\n② 투자신탁을 설정한 집합투자업자는 제1항에 따라 투자신탁을 합병하고자 하는 경우 다음 각 호의 사항을 기재한\\n합병계획서를 작성하여 합병하는 각 투자신탁의 수익자총회의 결의를 거쳐야 한다. 다만, 건전한 거래질서를 해할\\n우려가 적은 소규모 투자신탁의 합병 등 대통령령으로 정하는 경우는 제외한다.<개정 2013. 5. 28.>\\n1. 투자신탁의 합병으로 인하여 존속하는 투자신탁의 증가하는 신탁원본의 가액 및 수익증권의 좌수\\n2. 투자신탁의 합병으로 인하여 소멸하는 투자신탁의 수익자에게 발행하는 수익증권의 배정에 관한 사항\\n3. 투자신탁의 합병으로 인하여 소멸하는 투자신탁의 수익자에게 현금을 지급하는 경우 그 내용\\n4. 합병하는 각 투자신탁의 수익자총회의 회일\\n5. 합병을 할 날\\n6. 투자신탁의 합병으로 인하여 존속하는 투자신탁의 신탁계약을 변경하는 경우 그 내용\\n7. 그 밖에 대통령령으로 정하는 사항\\n③ 「상법」 제527조의5제1항 및 제3항은 채권자가 있는 투자신탁이 합병하는 경우에 준용한다. 이 경우 “회사”는 각\\n각 “집합투자업자”로, “주주총회”는 “수익자총회”로 본다.\\n④ 투자신탁을 설정한 집합투자업자는 수익자총회일의 2주 전부터 합병 후 6개월이 경과하는 날까지 다음 각 호의\\n서류를 본점 및 투자매매업자 또는 투자중개업자의 영업소에 비치하여야 한다. 이 경우 그 투자신탁의 수익자 및 채\\n권자는 영업시간 중 언제든지 그 서류를 열람할 수 있으며, 그 서류의 등본 또는 초본의 교부를 청구할 수 있다.\\n1. 합병하는 각 투자신탁의 최종의 결산서류\\n2. 합병으로 인하여 소멸하는 투자신탁의 수익자에게 발행하는 수익증권의 배정에 관한 사항 및 그 이유를 기재한\\n서면 \\n3. 합병계획서\\n⑤ 투자신탁을 설정한 집합투자업자는 제1항에 따라 투자신탁을 합병한 경우에는 그 사실을 지체 없이 금융위원회\\n에 보고하여야 한다. 이 경우 합병되는 투자신탁의 수익증권이 증권시장에 상장되어 있는 때에는 거래소에도 보고\\n하여야 한다.<개정 2008. 2. 29.>\\n⑥ 투자신탁의 합병은 존속하는 투자신탁의 집합투자업자가 제5항에 따라 금융위원회에 보고를 한 때에 그 효력이\\n발생한다. 이 경우 소멸하는 투자신탁은 해지된 것으로 본다.<개정 2008. 2. 29.>\\n⑦ 합병 후 존속하는 투자신탁은 합병으로 인하여 소멸된 투자신탁의 권리ㆍ의무를 승계한다.\\n⑧ 수익증권의 합병가액 산정방식, 수익자총회 승인사항의 수익자 통지, 그 밖에 투자신탁의 합병에 관하여 필요한\\n사항은 대통령령으로 정한다.\\n \\n         제2절 회사 형태의 집합투자기구\\n           제1관 투자회사',\n",
       "   '제194조(투자회사의 설립 등) ① 「금융회사의 지배구조에 관한 법률」 제5조에 적합하지 아니한 자는 투자회사의 발기\\n인이 될 수 없다. <개정 2013. 5. 28., 2015. 7. 31.>\\n② 발기인은 투자회사를 설립하는 경우 다음 각 호의 사항을 기재한 정관을 작성하여 발기인 전원이 기명날인 또는\\n서명하여야 한다.<개정 2009. 2. 3.>\\n법제처                                                            89                                                       국가법령정보센터\\n자본시장과 금융투자업에 관한 법률 \\n1. 목적\\n2. 상호\\n3. 발행할 주식의 총수\\n4. 설립시에 발행하는 주식의 총수 및 발행가액\\n5. 회사의 소재지\\n6. 투자회사재산의 운용 및 관리에 관한 사항\\n7. 그 투자회사가 유지하여야 하는 순자산액(자산에서 부채를 뺀 금액을 말한다)의 최저액(이하 “최저순자산액”이라\\n한다) \\n8. 이익분배 및 환매에 관한 사항\\n9. 공시 및 보고서에 관한 사항\\n10. 공고방법\\n11. 그 밖에 주주를 보호하기 위하여 필요한 사항으로서 대통령령으로 정하는 사항\\n③ 투자회사 설립시의 자본금은 주식 발행가액의 총액으로 한다.\\n④ 투자회사가 설립시에 발행하는 주식의 총수는 그 상한과 하한을 두는 방법으로 정할 수 있다.\\n⑤ 삭제<2015. 7. 24.>\\n⑥ 투자회사의 발기인은 투자회사의 설립시에 발행하는 주식의 총수를 인수(「상법」 제293조에 따른 인수를 말한다\\n. 이하 이 장에서 같다)하여야 한다.\\n⑦ 제6항에 따라 주식을 인수한 발기인은 지체 없이 주식의 인수가액을 금전으로 납입하여야 한다.\\n⑧ 발기인은 투자회사 설립시에 발행하는 주식의 인수가액의 납입이 완료된 경우에는 지체 없이 의결권 과반수의\\n찬성으로 이사를 선임하여야 하며, 선임된 이사는 투자회사의 설립에 관하여 법령이나 투자회사의 정관을 위반한\\n사항이 있는지를 조사하여 그 결과를 이사회에 보고하여야 한다.\\n⑨ 이사는 제8항에 따른 조사결과 법령 또는 투자회사의 정관을 위반한 사항을 발견한 경우에는 지체 없이 이를 발\\n기인에게 보고하여야 한다.\\n⑩ 투자회사의 발기인은 다음 각 호의 사항을 제8항에 따른 보고를 종료한 날부터 2주 이내에 대통령령으로 정하는\\n서류를 첨부하여 설립등기를 하여야 한다.\\n1. 제2항제1호부터 제3호까지의 사항 및 같은 항 제5호ㆍ제7호ㆍ제10호의 사항\\n2. 정관으로 투자회사의 존속기간 또는 해산사유를 정한 경우 그 내용\\n3. 이사의 성명ㆍ주민등록번호(법인인 경우에는 상호ㆍ사업자등록번호)\\n⑪ 투자회사의 발기인은 투자회사재산을 선박에 투자하는 투자회사를 설립하여서는 아니 되며, 투자회사는 설립 후\\n에도 투자회사재산을 선박에 투자하는 투자회사에 해당하도록 그 투자회사의 정관을 변경하여서는 아니 된다.<개\\n정 2016. 3. 29.>',\n",
       "   '제195조(정관의 변경 등) ① 투자회사는 이사회 결의로 정관을 변경할 수 있다. 다만, 정관의 내용 중 다음 각 호의 어느\\n하나에 해당하는 사항을 변경하고자 하는 경우에는 제201조제2항 본문에 따른 주주총회의 결의를 거쳐야 한다. <개\\n정 2013. 5. 28.>\\n1. 집합투자업자ㆍ신탁업자 등이 받는 보수, 그 밖의 수수료의 인상\\n2. 집합투자업자 또는 신탁업자의 변경\\n3. 정관으로 투자회사의 존속기간 또는 해산사유를 정한 경우 존속기간 또는 해산사유의 변경\\n4. 그 밖에 주주의 이익과 관련된 중요한 사항으로서 대통령령으로 정하는 사항\\n② 투자회사는 제1항에 불구하고 합병ㆍ분할ㆍ분할합병, 그 밖에 대통령령으로 정하는 사유로 집합투자업자 또는\\n신탁업자가 변경된 경우에는 이사회 결의 및 주주총회의 결의 없이 정관을 변경할 수 있다.\\n③ 투자회사는 제1항 또는 제2항에 따라 정관을 변경한 경우에는 인터넷 홈페이지 등을 이용하여 공시하여야 하며,\\n제1항 단서에 따라 정관을 변경한 경우에는 공시 외에 이를 주주에게 통지하여야 한다.\\n법제처                                                            90                                                       국가법령정보센터\\n자본시장과 금융투자업에 관한 법률',\n",
       "   '제196조(투자회사의 주식) ① 투자회사의 주식은 무액면 기명식으로 한다.\\n② 투자회사는 회사 성립일 또는 신주(新株)의 납입기일에 지체 없이 「주식ㆍ사채 등의 전자등록에 관한 법률」에\\n따른 전자등록의 방법으로 주식을 발행하여야 한다.<개정 2016. 3. 22.>\\n③ 투자회사가 그 성립 후에 신주를 발행하는 경우 신주의 수, 발행가액 및 납입기일은 이사회가 결정한다. 다만, 정\\n관에서 달리 정하고 있는 경우에는 그에 따른다.\\n④ 주주의 청구가 있는 경우 그 주주의 주식을 매수할 수 있는 투자회사(이하 이 조에서 “개방형투자회사”라 한다\\n)가 그 성립 후에 신주를 발행하는 경우 이사회는 다음 각 호의 사항을 결정할 수 있다. 이 경우 개방형투자회사는\\n제3호의 방법에 따라 확정된 매일의 발행가액을 그 투자회사의 주식을 판매하는 투자매매업자 또는 투자중개업자\\n의 지점, 그 밖의 영업소에 게시하고, 인터넷 홈페이지 등을 이용하여 공시하여야 한다.\\n1. 신주의 발행기간\\n2. 제1호의 발행기간 이내에 발행하는 신주수의 상한\\n3. 제1호의 발행기간 동안 매일의 발행가액 및 주금납입기일을 정하는 방법\\n⑤ 투자회사는 그 성립 후에 신주를 발행하는 경우 같은 날에 발행하는 신주의 발행가액, 그 밖의 발행조건은 균등\\n하게 정하여야 한다. 이 경우 신주의 발행가액은 그 투자회사가 소유하는 자산의 순자산액에 기초하여 대통령령으\\n로 정하는 방법에 따라 산정한다.\\n⑥ 제194조제7항은 신주를 발행하는 경우의 주식인수인에게 준용한다.\\n⑦ 주식인수인은 투자회사가 그 성립 후에 신주를 발행하는 경우 주금의 납입과 동시에 주주의 권리ㆍ의무를 가진\\n다.',\n",
       "   '제197조(이사의 구분 등) ① 투자회사의 이사는 집합투자업자인 이사(이하 이 관에서 “법인이사”라 한다)와 감독이사로\\n구분한다.\\n② 투자회사는 법인이사 1인과 감독이사 2인 이상을 선임하여야 한다.',\n",
       "   '제198조(법인이사) ① 법인이사는 투자회사를 대표하고 투자회사의 업무를 집행한다.\\n② 법인이사는 다음 각 호의 어느 하나에 해당하는 업무를 집행하고자 하는 경우에는 이사회 결의를 거쳐야 한다.\\n1. 집합투자업자ㆍ신탁업자ㆍ투자매매업자ㆍ투자중개업자 및 일반사무관리회사와의 업무위탁계약(변경계약을 포\\n함한다)의 체결 \\n2. 자산의 운용 또는 보관 등에 따르는 보수의 지급\\n3. 금전의 분배 및 주식의 배당에 관한 사항\\n4. 그 밖에 투자회사의 운영상 중요하다고 인정되는 사항으로서 정관이 정하는 사항\\n③ 법인이사는 3개월마다 1회 이상 그 업무의 집행상황 및 자산의 운용 내용을 이사회에 보고하여야 한다.\\n④ 법인이사는 법인이사의 직무를 정하여 그 직무를 수행할 자를 그 임직원 중에서 선임할 수 있다. 이 경우 집합투\\n자업자는 이를 투자회사에 서면으로 통보하여야 한다.\\n⑤ 제4항에 의하여 투자회사에 통보된 자가 그 직무 범위에서 행한 행위는 법인이사의 행위로 본다.',\n",
       "   '제199조(감독이사) ① 감독이사는 법인이사의 업무집행을 감독하며, 투자회사의 업무 및 재산상황을 파악하기 위하여\\n필요한 경우에는 법인이사와 그 투자회사재산을 보관ㆍ관리하는 신탁업자, 그 투자회사의 주식을 판매하는 투자매\\n매업자ㆍ투자중개업자 또는 그 투자회사로부터 제184조제6항의 업무를 위탁받은 일반사무관리회사에 대하여 그 투\\n자회사와 관련되는 업무 및 재산상황에 관한 보고를 요구할 수 있다.\\n② 감독이사는 그 직무를 수행함에 있어서 필요하다고 인정되는 경우에는 제240조제3항에 따른 회계감사인에 대하\\n여 회계감사에 관한 보고를 요구할 수 있다.\\n③ 제1항 또는 제2항에 따라 감독이사의 요구를 받은 자는 특별한 사유가 없는 한 이에 응하여야 한다.\\n④ 다음 각 호의 어느 하나에 해당하는 자는 감독이사가 될 수 없으며, 감독이사가 된 후 이에 해당하게 된 경우에\\n는 그 직을 상실한다.<개정 2013. 5. 28., 2015. 7. 31.>\\n법제처                                                            91                                                       국가법령정보센터\\n자본시장과 금융투자업에 관한 법률 \\n1. 「금융회사의 지배구조에 관한 법률」 제5조에 적합하지 아니한 자\\n2. 해당 투자회사의 발기인(제194조제8항에 따라 최초로 투자회사의 감독이사를 선임하는 경우에 한한다)\\n3. 투자회사의 대주주 및 그 특수관계인\\n4. 법인이사의 특수관계인 또는 법인이사로부터 계속적으로 보수를 지급받고 있는 자\\n5. 그 투자회사의 주식을 판매하는 투자매매업자 또는 투자중개업자의 특수관계인\\n6. 그 투자회사의 이사가 다른 법인의 이사로 있는 경우 그 법인의 상근 임직원인 자\\n7. 그 밖에 감독이사로서의 중립성을 해할 우려가 있는 자로서 대통령령으로 정하는 자\\n⑤ 제54조는 감독이사에게 준용한다.',\n",
       "   '제200조(이사회) ① 이사회는 각 이사가 소집한다.\\n② 이사는 이사회를 소집하고자 하는 경우에는 그 회의일 3일 전까지 각 이사에게 소집을 통지하여야 한다. 다만,\\n정관이 정하는 바에 따라 통지기간을 단축할 수 있다.\\n③ 이사회는 이 법과 정관이 정하는 사항에 대하여만 결의한다.\\n④ 이사회는 이사가 결원된 경우 이사를 선임하기 위한 주주총회를 즉시 소집하여야 한다.\\n⑤ 이사회 결의는 이사 과반수의 출석과 출석한 이사 과반수의 찬성으로 한다.',\n",
       "   '제201조(주주총회) ① 투자회사의 주주총회는 이사회가 소집한다.\\n② 주주총회는 출석한 주주의 의결권의 과반수와 발행주식총수의 4분의 1 이상의 수로 결의한다. 다만, 이 법에서\\n정한 주주총회의 결의사항 외에 집합투자규약으로 정한 주주총회의 결의사항에 대하여는 출석한 주주의 의결권의\\n과반수와 발행주식총수의 5분의 1 이상의 수로 결의할 수 있다.<개정 2013. 5. 28.>\\n③ 제190조제1항ㆍ제3항 및 제6항부터 제9항까지의 규정은 투자회사의 주주총회에 관하여 준용한다. 이 경우 “투\\n자신탁”은 “투자회사”로, “신탁계약”은 “정관”으로, “투자신탁을 설정한 집합투자업자”및 “집합투자업자”는 각각 “투\\n자회사의 이사회”로, “투자신탁재산”은 “투자회사재산”으로, “수익증권”은 각각 “주식”으로, “총좌수”는 각각 “총수\\n”로, “수익자”는 각각 “주주”로, “수익자총회”는 각각 “주주총회”로, “좌수”는 각각 “수”로, 같은 조 제8항 중 “제5항\\n”은 “제2항”으로 본다.<개정 2013. 5. 28.>\\n④ 제191조는 투자회사가 제195조제1항 단서에 따른 정관의 변경 또는 제204조제2항에 따른 합병에 반대하는 주\\n주에게 준용한다. 이 경우 “신탁계약”은 “정관”으로, “투자신탁”, “집합투자업자” 및 “투자신탁을 설정한 집합투자업\\n자”는 각각 “투자회사”로, “수익자총회”는 각각 “주주총회”로, “수익자”는 각각 “주주”로, “수익증권”은 각각 “주식”으\\n로, “투자신탁재산”은 “투자회사재산”으로 본다.<개정 2013. 5. 28.>',\n",
       "   '제202조(해산) ① 투자회사는 다음 각 호의 어느 하나에 해당하는 사유로 해산한다. 이 경우 청산인은 해산일부터 30일\\n이내에 해산의 사유 및 연월일, 청산인 및 청산감독인의 성명ㆍ주민등록번호(청산인이 법인이사인 경우에는 상호ㆍ\\n사업자등록번호)를 금융위원회에 보고하여야 한다. <개정 2008. 2. 29., 2013. 5. 28.>\\n1. 정관에서 정한 존속기간의 만료, 그 밖의 해산사유의 발생\\n2. 주주총회의 해산 결의\\n3. 투자회사의 피흡수합병\\n4. 투자회사의 파산\\n5. 법원의 명령 또는 판결\\n6. 투자회사 등록의 취소\\n7. 주주(법인이사인 주주는 제외한다)의 총수가 1인이 되는 경우. 다만, 건전한 거래질서를 해할 우려가 없는 경우로\\n서 대통령령으로 정하는 경우는 제외한다. \\n② 투자회사는 해산한 경우 법인이사가 청산인이 되는 때에는 해산일부터 2주 이내에, 청산인이 선임된 때에는 그\\n선임일부터 2주 이내에 대통령령으로 정하는 서류를 첨부하여 다음 각 호의 사항을 등기하여야 한다.\\n1. 청산인의 성명ㆍ주민등록번호(청산인이 법인이사인 경우에는 상호ㆍ사업자등록번호)\\n법제처                                                            92                                                       국가법령정보센터\\n자본시장과 금융투자업에 관한 법률 \\n2. 청산인 중에서 대표청산인을 정하도록 하거나 2인 이상의 청산인이 공동으로 투자회사를 대표할 것을 정한 경우\\n에는 그 내용 \\n③ 투자회사는 해산한 경우 감독이사가 청산감독인이 되는 때에는 해산일부터 2주 이내에, 청산감독인이 선임된 때\\n에는 선임일부터 2주 이내에 대통령령으로 정하는 서류를 첨부하여 청산감독인의 성명 및 주민등록번호를 등기하\\n여야 한다.\\n④ 투자회사가 해산한 경우(제1항제3호 및 제4호의 사유로 해산한 경우를 제외한다)에는 청산인 및 청산감독인으로\\n구성되는 청산인회를 둔다.\\n⑤ 투자회사가 제1항제1호ㆍ제2호 또는 제7호의 사유로 해산한 때에는 정관 또는 주주총회에서 달리 정한 경우 외\\n에는 법인이사 및 감독이사가 각각 청산인 및 청산감독인이 된다.<개정 2013. 5. 28.>\\n⑥ 투자회사가 다음 각 호의 어느 하나에 해당하는 경우에는 금융위원회가 이해관계인의 청구에 의하여 청산인 및\\n청산감독인을 선임한다.<개정 2008. 2. 29.>\\n1. 제1항제5호의 사유로 해산한 경우\\n2. 청산인 또는 청산감독인이 없는 경우\\n3. 「상법」 제193조제1항에 따라 청산하는 경우\\n⑦ 투자회사가 제1항제6호의 사유로 해산한 경우에는 금융위원회가 직권으로 청산인 및 청산감독인을 선임한다.\\n<개정 2008. 2. 29.>\\n⑧ 금융위원회는 청산인 또는 청산감독인이 업무를 집행함에 있어서 현저하게 부적합하거나 중대한 법령 위반사항\\n이 있는 경우에는 직권으로 또는 이해관계인의 청구에 의하여 이들을 해임할 수 있다. 이 경우 금융위원회는 직권으\\n로 새로운 청산인 또는 청산감독인을 선임할 수 있다.<개정 2008. 2. 29.>\\n⑨ 금융위원회는 다음 각 호의 어느 하나에 해당하는 경우에는 등기원인을 증명하는 서면을 첨부하여 투자회사의\\n소재지를 관할하는 등기소에 해당 등기를 촉탁하여야 한다.<개정 2008. 2. 29.>\\n1. 제1항제6호의 사유로 투자회사가 해산한 경우\\n2. 금융위원회가 직권으로 청산인 또는 청산감독인을 해임한 경우',\n",
       "   '제203조(청산) ① 청산인은 취임 후 지체 없이 투자회사의 재산상황을 조사하여 총리령으로 정하는 기간 이내에 재산\\n목록과 재무상태표를 작성하여 이를 청산인회에 제출하여 승인을 받아야 하며, 그 등본을 지체 없이 금융위원회에\\n제출하여야 한다. <개정 2008. 2. 29., 2021. 4. 20.>\\n② 청산감독인은 청산인이 업무수행과 관련하여 법령이나 정관을 위반하거나, 그 밖에 투자회사에 대하여 현저하게\\n손해를 끼칠 우려가 있는 사실을 발견한 경우에는 금융위원회에 이를 보고하여야 한다.<개정 2008. 2. 29.>\\n③ 청산인은 취임한 날부터 1개월 이내에 투자회사의 채권자에 대하여 일정 기간 이내에 그 채권을 신고할 것과 그\\n기간 이내에 신고하지 아니하면 청산에서 제외된다는 뜻을 2회 이상 공고함으로써 최고하여야 한다. 이 경우 그 신\\n고기간은 1개월 이상으로 하여야 한다.\\n④ 청산인은 자금차입ㆍ채무보증 또는 담보제공이 제한되는 투자회사의 경우 제3항에 불구하고 대통령령으로 정하\\n는 방법에 따라 채권자에 대한 최고절차를 생략할 수 있다. 다만, 장내파생상품 매매에 따른 계약이행책임이 있는\\n경우 등 대통령령으로 정하는 경우에는 그 절차를 생략하여서는 아니 된다.\\n⑤ 청산인은 청산사무가 종결된 경우에는 지체 없이 결산보고서를 작성하여 주주총회의 승인을 받아야 한다. 이 경\\n우 그 결산보고서를 공고하고, 이를 금융위원회 및 협회에 제출하여야 한다.<개정 2008. 2. 29.>\\n⑥ 청산인 또는 청산감독인은 제202조제5항에 따른 경우에는 정관 또는 주주총회가 정하는 바에 따라, 같은 조 제\\n6항 및 제7항에 따라 선임된 경우에는 금융위원회가 정하는 바에 따라 투자회사로부터 보수를 지급받을 수 있다.\\n<개정 2008. 2. 29.>\\n⑦ 청산인은 제1항에 따라 승인을 얻은 재산목록과 재무상태표를 청산종결시까지 투자회사에 비치하여야 하며, 이\\n를 집합투자업자 및 투자매매업자ㆍ투자중개업자에게 송부하여 그 영업소에 비치하도록 하여야 한다.<개정 2021.\\n4. 20.>\\n법제처                                                            93                                                       국가법령정보센터\\n자본시장과 금융투자업에 관한 법률',\n",
       "   '제204조(합병) ① 투자회사는 그 투자회사와 법인이사가 같은 다른 투자회사를 흡수하는 방법으로 합병하는 경우가 아\\n니면 다른 회사와 합병할 수 없다.\\n② 투자회사는 제1항에 따라 합병하고자 하는 경우에는 제201조제2항 단서에 따른 주주총회의 결의를 거쳐야 한다\\n. 다만, 건전한 거래질서를 해할 우려가 적은 소규모 투자회사의 합병 등 대통령령으로 정하는 경우는 제외한다.<개\\n정 2013. 5. 28.>\\n③ 제193조제4항ㆍ제5항 및 제8항은 투자회사의 합병에 관하여 준용한다. 이 경우 “투자신탁을 설정한 집합투자업\\n자”, “투자신탁” 및 “투자신탁의 집합투자업자”는 각각 “투자회사”로, “수익자총회”는 각각 “주주총회”로, “수익자”는\\n각각 “주주”로, “수익증권”은 각각 “주식”으로 본다.',\n",
       "   '제205조(투자회사의 특례) ① 제3편'],\n",
       "  '제3장 집합투자기구의 종류 등\\n         제1절 집합투자기구의 종류': ['제229조(집합투자기구의 종류) 집합투자기구는 집합투자재산의 운용대상에 따라 다음 각 호와 같이 구분한다.\\n1. 증권집합투자기구 : 집합투자재산의 100분의 40 이상으로서 대통령령으로 정하는 비율을 초과하여 증권(대통령\\n령으로 정하는 증권을 제외하며, 대통령령으로 정하는 증권 외의 증권을 기초자산으로 한 파생상품을 포함한다. \\n이하 이 조에서 같다)에 투자하는 집합투자기구로서 제2호 및 제3호에 해당하지 아니하는 집합투자기구 \\n2. 부동산집합투자기구 : 집합투자재산의 100분의 40 이상으로서 대통령령으로 정하는 비율을 초과하여 부동산(부\\n동산을 기초자산으로 한 파생상품, 부동산 개발과 관련된 법인에 대한 대출, 그 밖에 대통령령으로 정하는 방법으 \\n로 부동산 및 대통령령으로 정하는 부동산과 관련된 증권에 투자하는 경우를 포함한다. 이하 이 조에서 같다)에 \\n투자하는 집합투자기구 \\n3. 특별자산집합투자기구 : 집합투자재산의 100분의 40 이상으로서 대통령령으로 정하는 비율을 초과하여 특별자\\n산(증권 및 부동산을 제외한 투자대상자산을 말한다)에 투자하는 집합투자기구 \\n4. 혼합자산집합투자기구 : 집합투자재산을 운용함에 있어서 제1호부터 제3호까지의 규정의 제한을 받지 아니하는\\n집합투자기구 \\n5. 단기금융집합투자기구 : 집합투자재산 전부를 대통령령으로 정하는 단기금융상품에 투자하는 집합투자기구로서\\n대통령령으로 정하는 방법으로 운용되는 집합투자기구 \\n \\n         제2절 특수한 형태의 집합투자기구',\n",
       "   '제230조(환매금지형집합투자기구) ① 투자신탁ㆍ투자유한회사ㆍ투자합자회사ㆍ투자유한책임회사ㆍ투자합자조합 및\\n투자익명조합을 설정ㆍ설립하고자 하는 집합투자업자 또는 투자회사의 발기인(이하 이 절에서 “집합투자업자등”이\\n라 한다)은 제235조제1항에 불구하고 존속기간을 정한 집합투자기구에 대하여만 집합투자증권의 환매를 청구할 수\\n없는 집합투자기구(이하 이 조에서 “환매금지형집합투자기구”라 한다)를 설정ㆍ설립할 수 있다. <개정 2013. 5. 28.>\\n② 투자신탁이나 투자익명조합의 집합투자업자 또는 투자회사등은 기존 투자자의 이익을 해할 우려가 없는 등 대\\n통령령으로 정하는 때에만 환매금지형집합투자기구의 집합투자증권을 추가로 발행할 수 있다.\\n③ 투자신탁의 집합투자업자 또는 투자회사는 신탁계약 또는 정관에 투자자의 환금성 보장 등을 위한 별도의 방법\\n을 정하지 아니한 경우에는 환매금지형집합투자기구의 집합투자증권을 최초로 발행한 날부터 90일 이내에 그 집합\\n법제처                                                            102                                                       국가법령정보센터\\n자본시장과 금융투자업에 관한 법률 \\n투자증권을 증권시장에 상장하여야 한다.\\n④ 제238조제6항부터 제8항까지의 규정은 환매금지형집합투자기구의 집합투자증권에 관하여는 적용하지 아니한\\n다. 다만, 제2항에 따라 추가로 집합투자증권을 발행할 수 있는 환매금지형집합투자기구의 경우에는 적용한다.\\n⑤ 집합투자업자등은 집합투자기구의 투자대상자산의 현금화하기 곤란한 사정 등을 고려하여 대통령령으로 정하\\n는 경우에는 그 집합투자기구를 환매금지형집합투자기구로 설정ㆍ설립하여야 한다.',\n",
       "   '제231조(종류형집합투자기구) ① 집합투자업자등은 제189조제2항, 제196조제5항 및 제208조제1항(제216조제2항, 제\\n222조제2항 및 제227조제2항에서 준용하는 경우를 포함한다)에 불구하고 같은 집합투자기구에서 제76조제4항에 따\\n른 판매보수의 차이로 인하여 기준가격이 다르거나 판매수수료가 다른 여러 종류의 집합투자증권을 발행하는 집합\\n투자기구(이하 이 조에서 “종류형집합투자기구”라 한다)를 설정ㆍ설립할 수 있다.\\n② 종류형집합투자기구는 집합투자자총회의 결의가 필요한 경우로서 특정 종류의 집합투자증권의 투자자에 대하\\n여만 이해관계가 있는 경우에는 그 종류의 투자자만으로 종류집합투자자총회를 개최할 수 있다.\\n③ 종류형집합투자기구의 설정ㆍ설립, 집합투자증권의 발행ㆍ판매ㆍ환매, 그 밖에 종류형집합투자기구에 관하여\\n필요한 사항은 대통령령으로 정한다.',\n",
       "   '제232조(전환형집합투자기구) ① 집합투자업자등은 복수의 집합투자기구 간에 각 집합투자기구의 투자자가 소유하고\\n있는 집합투자증권을 다른 집합투자기구의 집합투자증권으로 전환할 수 있는 권리를 투자자에게 부여하는 구조의\\n집합투자기구(이하 이 조에서 “전환형집합투자기구”라 한다)를 설정ㆍ설립하는 경우에는 다음 각 호의 요건을 모두\\n충족하여야 한다. <개정 2015. 7. 24.>\\n1. 복수의 집합투자기구 간에 공통으로 적용되는 집합투자규약이 있을 것\\n2. 집합투자규약에 제9조제18항제1호부터 제4호까지, 제4호의2, 제5호, 제6호 및 같은 조 제19항제1호의 규정에 따\\n른 집합투자기구 간의 전환이 금지되어 있을 것 \\n② 집합투자증권의 전환, 그 밖에 전환형집합투자기구에 관하여 필요한 사항은 대통령령으로 정한다.',\n",
       "   '제233조(모자형집합투자기구) ① 집합투자업자등은 다른 집합투자기구(이하 이 조에서 “모집합투자기구”라 한다)가 발\\n행하는 집합투자증권을 취득하는 구조의 집합투자기구(이하 이 조에서 “자집합투자기구”라 한다)를 설정ㆍ설립하는\\n경우에는 다음 각 호의 요건을 모두 충족하여야 한다.\\n1. 자집합투자기구가 모집합투자기구의 집합투자증권 외의 다른 집합투자증권을 취득하는 것이 허용되지 아니할\\n것 \\n2. 자집합투자기구 외의 자가 모집합투자기구의 집합투자증권을 취득하는 것이 허용되지 아니할 것\\n3. 자집합투자기구와 모집합투자기구의 집합투자재산을 운용하는 집합투자업자가 동일할 것\\n② 제81조제1항제3호(라목을 제외한다)는 자집합투자기구가 모집합투자기구의 집합투자증권을 취득하는 경우에는\\n적용하지 아니한다.\\n③ 모집합투자기구 및 자집합투자기구(이하 이 조에서 “모자형집합투자기구”라 한다)의 설정ㆍ설립, 집합투자증권\\n의 판매ㆍ환매, 그 밖에 모자형집합투자기구에 관하여 필요한 사항은 대통령령으로 정한다.',\n",
       "   '제234조(상장지수집합투자기구) ① 제34조제1항제1호ㆍ제2호, 제87조제3항(제186조제2항에서 준용하는 경우를 포함\\n한다), 제88조, 제147조, 제172조, 제173조 및 제235조부터 제237조까지의 규정은 다음 각 호의 요건을 모두 갖춘 집\\n합투자기구(이하 이 조에서 “상장지수집합투자기구”라 한다)에는 적용하지 아니한다. <개정 2009. 2. 3., 2013. 5.\\n28.>\\n1. 기초자산의 가격 또는 기초자산의 종류에 따라 다수 종목의 가격수준을 종합적으로 표시하는 지수의 변화에 연\\n동하여 운용하는 것을 목표로 할 것. 이 경우 기초자산의 가격 또는 지수는 대통령령으로 정하는 요건을 갖추어야 \\n한다. \\n2. 수익증권 또는 투자회사 주식의 환매가 허용될 것\\n법제처                                                            103                                                       국가법령정보센터\\n자본시장과 금융투자업에 관한 법률 \\n3. 수익증권 또는 투자회사 주식이 해당 투자신탁의 설정일 또는 투자회사의 설립일부터 30일 이내에 증권시장에\\n상장될 것 \\n② 투자매매업자 또는 투자중개업자 중 대통령령으로 정하는 자가 상장지수집합투자기구의 설정ㆍ설립을 위하여\\n자기 또는 타인의 계산으로 증권을 매매하는 경우에는 투자일임업을 영위하는 것으로 보지 아니한다.\\n③ 상장지수집합투자기구를 설정ㆍ추가설정 또는 설립ㆍ신주발행하는 경우 제188조제4항 및 제194조제7항(제\\n196조제6항에서 준용하는 경우를 포함한다)에 불구하고 금전 외의 자산으로 납입할 수 있다.<개정 2009. 2. 3.>\\n④ 상장지수집합투자기구의 설정ㆍ추가설정ㆍ설립 및 신주발행, 집합투자증권의 판매 및 환매, 상장 및 상장폐지,\\n소유 재산의 공고, 그 밖에 필요한 사항은 대통령령으로 정한다.<개정 2009. 2. 3.>\\n \\n제234조의2 삭제 <2013. 8. 13.>'],\n",
       "  '제4장 집합투자증권의 환매': ['제235조(환매청구 및 방법 등) ① 투자자는 언제든지 집합투자증권의 환매를 청구할 수 있다.\\n② 투자자는 집합투자증권의 환매를 청구하고자 하는 경우에는 그 집합투자증권을 판매한 투자매매업자 또는 투자\\n중개업자에게 청구하여야 한다. 다만, 투자매매업자 또는 투자중개업자가 해산ㆍ인가취소 또는 업무정지, 그 밖에\\n대통령령으로 정하는 사유(이하 이 항에서 “해산등”이라 한다)로 인하여 환매청구에 응할 수 없는 경우에는 총리령\\n으로 정하는 방법에 따라 해당 집합투자기구의 집합투자업자에게 직접 청구할 수 있으며, 환매청구를 받은 집합투\\n자업자가 해산등으로 인하여 환매에 응할 수 없는 경우에는 해당 집합투자재산을 보관ㆍ관리하는 신탁업자에게 청\\n구할 수 있다.<개정 2008. 2. 29.>\\n③ 제2항 본문에 따라 환매청구를 받은 투자매매업자 또는 투자중개업자는 수익증권 또는 투자익명조합의 지분증\\n권인 경우 해당 투자신탁 또는 투자익명조합의 집합투자업자에 대하여, 투자회사등이 발행한 집합투자증권인 경우\\n그 투자회사등에 대하여 각각 지체 없이 환매에 응할 것을 요구하여야 하며, 제2항 단서에 따라 투자회사등이 발행\\n한 집합투자증권의 환매청구를 받은 집합투자업자 또는 신탁업자는 투자회사등에 대하여 지체 없이 환매에 응할\\n것을 요구하여야 한다.\\n④ 제2항 및 제3항에 따라 환매청구를 받거나 환매에 응할 것을 요구받은 투자신탁이나 투자익명조합의 집합투자\\n업자(해당 집합투자재산을 보관ㆍ관리하는 신탁업자를 포함한다) 또는 투자회사등은 그 집합투자기구의 투자대상\\n자산의 환금성 등을 고려하여 대통령령으로 정하는 경우를 제외하고는 투자자가 환매청구를 한 날부터 15일 이내\\n에 집합투자규약에서 정한 환매일에 환매대금을 지급하여야 한다.\\n⑤ 투자신탁이나 투자익명조합의 집합투자업자(해당 집합투자재산을 보관ㆍ관리하는 신탁업자를 포함한다) 또는\\n투자회사등은 제4항에 따라 환매대금을 지급하는 경우에는 집합투자재산의 범위에서 집합투자재산으로 소유 중인\\n금전 또는 집합투자재산을 처분하여 조성한 금전으로만 하여야 한다. 다만, 집합투자기구의 투자자 전원의 동의를\\n얻은 경우에는 그 집합투자기구에서 소유하고 있는 집합투자재산으로 지급할 수 있다.\\n⑥ 집합투자증권을 판매한 투자매매업자ㆍ투자중개업자, 집합투자재산을 운용하는 집합투자업자 또는 집합투자재\\n산을 보관ㆍ관리하는 신탁업자는 환매청구를 받거나 환매에 응할 것을 요구받은 집합투자증권을 자기의 계산으로\\n취득하거나 타인에게 취득하게 하여서는 아니 된다. 다만, 집합투자증권의 원활한 환매를 위하여 필요하거나 투자\\n자의 이익을 해할 우려가 없는 경우로서 대통령령으로 정하는 경우에는 그 투자매매업자ㆍ투자중개업자ㆍ집합투\\n자업자 또는 신탁업자는 환매청구를 받거나 환매에 응할 것을 요구받은 집합투자증권을 자기의 계산으로 취득할\\n수 있다.\\n⑦ 투자신탁이나 투자익명조합의 집합투자업자(해당 집합투자재산을 보관ㆍ관리하는 신탁업자를 포함한다. 이하\\n이 장에서 같다) 또는 투자회사등은 이 장에 따라 집합투자증권을 환매한 경우에는 그 집합투자증권을 소각하여야\\n한다.',\n",
       "   '제236조(환매가격 및 수수료) ① 투자신탁이나 투자익명조합의 집합투자업자 또는 투자회사등은 집합투자증권을 환매\\n하는 경우 환매청구일 후에 산정되는 기준가격으로 하여야 한다. 다만, 투자자의 이익 또는 집합투자재산의 안정적\\n법제처                                                            104                                                       국가법령정보센터\\n자본시장과 금융투자업에 관한 법률 \\n운용을 해할 우려가 없는 경우로서 대통령령으로 정하는 경우에는 환매청구일 이전에 산정된 기준가격으로 환매할\\n수 있다.\\n② 집합투자증권을 환매하는 경우에 부과하는 환매수수료는 대통령령으로 정하는 방법에 따라 집합투자증권의 환\\n매를 청구하는 해당 투자자가 부담하며, 투자자가 부담한 환매수수료는 집합투자재산에 귀속된다.\\n③ 제1항에 따른 환매청구일 후의 기준가격의 결정 등 환매가격에 관하여 필요한 사항은 대통령령으로 정한다.',\n",
       "   '제237조(환매의 연기) ① 투자신탁이나 투자익명조합의 집합투자업자 또는 투자회사등은 집합투자재산인 자산의 처분\\n이 불가능한 경우 등 대통령령으로 정하는 사유로 인하여 집합투자규약에서 정한 환매일에 집합투자증권을 환매할\\n수 없게 된 경우에는 그 집합투자증권의 환매를 연기할 수 있다. 이 경우 투자신탁이나 투자익명조합의 집합투자업\\n자 또는 투자회사등은 환매를 연기한 날부터 6주 이내에 집합투자자총회에서 집합투자증권의 환매에 관한 사항으로\\n서 대통령령으로 정하는 사항을 결의(제190조제5항 본문, 제201조제2항 단서, 제210조제2항 단서, 제215조제3항, 제\\n220조제3항 및 제226조제3항의 결의를 말한다)하여야 한다.\\n② 투자신탁이나 투자익명조합의 집합투자업자 또는 투자회사등은 제1항 후단의 집합투자자총회에서 집합투자증\\n권의 환매에 관한 사항을 정하지 아니하거나 환매에 관하여 정한 사항의 실행이 불가능한 경우에는 계속하여 환매\\n를 연기할 수 있다.\\n③ 투자신탁이나 투자익명조합의 집합투자업자 또는 투자회사등은 제1항 후단의 집합투자자총회에서 환매에 관한\\n사항이 결의되거나 제2항에 따라 환매의 연기를 계속하는 경우 지체 없이 다음 각 호의 구분에 따라 정한 사항을\\n투자자에게 통지하여야 한다.\\n1. 집합투자자총회에서 환매에 관한 사항을 결의한 경우\\n가. 환매에 관하여 결의한 사항 \\n나. 그 밖에 대통령령으로 정하는 사항 \\n2. 환매연기를 계속하는 경우\\n가. 환매를 연기하는 사유 \\n나. 환매를 연기하는 기간 \\n다. 환매를 재개하는 경우 환매대금의 지급방법 \\n라. 그 밖에 대통령령으로 정하는 사항 \\n④ 투자신탁이나 투자익명조합의 집합투자업자 또는 투자회사등은 환매연기사유의 전부 또는 일부가 해소된 경우\\n에는 환매가 연기된 투자자에 대하여 환매한다는 뜻을 통지하고 대통령령으로 정하는 방법에 따라 환매대금을 지\\n급하여야 한다.\\n⑤ 투자신탁이나 투자익명조합의 집합투자업자 또는 투자회사등은 집합투자재산의 일부가 제1항에 따른 환매연기\\n사유에 해당하는 경우 그 일부에 대하여는 환매를 연기하고 나머지에 대하여는 투자자가 소유하고 있는 집합투자\\n증권의 지분(持分)에 따라 환매에 응할 수 있다.\\n⑥ 투자신탁이나 투자익명조합의 집합투자업자 또는 투자회사등은 제5항에 따라 환매가 연기된 집합투자재산만으\\n로 별도의 집합투자기구를 설정 또는 설립할 수 있다. 이 경우 제81조, 제88조, 제238조제7항, 제240조제3항부터 제\\n8항까지 및 제248조를 적용하지 아니한다.\\n⑦ 제5항에 따른 환매대금의 지급방법 및 제6항에 따른 별도의 집합투자기구의 설정 또는 설립 등에 관하여 필요한\\n사항은 대통령령으로 정한다.\\n⑧ 투자신탁이나 투자익명조합의 집합투자업자 또는 투자회사등은 다음 각 호의 어느 하나에 해당하는 경우에는\\n제235조제1항에 따른 환매청구에 응하지 아니할 수 있다.\\n1. 집합투자기구(투자신탁을 제외한다)가 해산한 경우\\n2. 투자회사의 순자산액이 정관이 정하는 최저순자산액에 미달하는 경우\\n3. 법령 또는 법령에 따른 명령에 따라 환매가 제한되는 경우\\n4. 투자신탁의 수익자, 투자회사의 주주 또는 그 수익자ㆍ주주의 질권자로서 권리를 행사할 자를 정하기 위하여 「상\\n법」 제354조제1항(제189조제9항에서 준용하는 경우를 포함한다. 이하 이 조에서 같다)에 따라 일정한 날을 정하\\n법제처                                                            105                                                       국가법령정보센터\\n자본시장과 금융투자업에 관한 법률 \\n여 수익자명부 또는 주주명부에 기재된 수익자ㆍ주주 또는 질권자를 그 권리를 행사할 수익자ㆍ주주 또는 질권 \\n자로 보도록 한 경우로서 이 일정한 날과 그 권리를 행사할 날의 사이에 환매청구를 한 경우. 이 경우 같은 법 제 \\n354조제3항을 적용함에 있어서 “3월”을 “2개월”로 한다.'],\n",
       "  '제5장 평가 및 회계': ['제238조(집합투자재산의 평가 및 기준가격의 산정 등) ① 집합투자업자는 대통령령으로 정하는 방법에 따라 집합투자\\n재산을 시가에 따라 평가하되, 평가일 현재 신뢰할 만한 시가가 없는 경우에는 대통령령으로 정하는 공정가액으로\\n평가하여야 한다. 다만, 투자자가 수시로 변동되는 등 투자자의 이익을 해할 우려가 적은 경우로서 대통령령으로 정\\n하는 경우에는 대통령령으로 정하는 가액으로 평가할 수 있다.\\n② 집합투자업자는 제1항에 따른 집합투자재산의 평가업무를 수행하기 위하여 대통령령으로 정하는 방법에 따라\\n평가위원회를 구성ㆍ운영하여야 한다.\\n③ 집합투자업자는 집합투자재산에 대한 평가가 공정하고 정확하게 이루어질 수 있도록 그 집합투자재산을 보관ㆍ\\n관리하는 신탁업자의 확인을 받아 다음 각 호의 사항이 포함된 집합투자재산의 평가와 절차에 관한 기준(이하 이\\n조에서 “집합투자재산평가기준”이라 한다)을 마련하여야 한다.\\n1. 제2항에 따른 평가위원회의 구성 및 운영에 관한 사항\\n2. 집합투자재산의 평가의 일관성 유지에 관한 사항\\n3. 집합투자재산의 종류별로 해당 재산의 가격을 평가하는 채권평가회사(제263조에 따른 채권평가회사를 말한다\\n)를 두는 경우 그 선정 및 변경과 해당 채권평가회사가 제공하는 가격의 적용에 관한 사항 \\n4. 그 밖에 대통령령으로 정하는 사항\\n④ 집합투자업자는 제2항에 따른 평가위원회가 집합투자재산을 평가한 경우 그 평가명세를 지체 없이 그 집합투자\\n재산을 보관ㆍ관리하는 신탁업자에게 통보하여야 한다.\\n⑤ 집합투자재산을 보관ㆍ관리하는 신탁업자는 집합투자업자의 집합투자재산에 대한 평가가 법령 및 집합투자재\\n산평가기준에 따라 공정하게 이루어졌는지 확인하여야 한다.\\n⑥ 투자신탁이나 투자익명조합의 집합투자업자 또는 투자회사등은 제1항부터 제5항까지의 규정에 따른 집합투자\\n재산의 평가결과에 따라 대통령령으로 정하는 방법으로 집합투자증권의 기준가격을 산정하여야 한다.\\n⑦ 투자신탁이나 투자익명조합의 집합투자업자 또는 투자회사등은 제6항에 따라 산정된 기준가격을 매일 공고ㆍ게\\n시하여야 한다. 다만, 기준가격을 매일 공고ㆍ게시하기 곤란한 경우 등 대통령령으로 정하는 경우에는 해당 집합투\\n자규약에서 기준가격의 공고ㆍ게시주기를 15일 이내의 범위에서 별도로 정할 수 있다.\\n⑧ 금융위원회는 투자신탁이나 투자익명조합의 집합투자업자 또는 투자회사등이 제6항을 위반하여 거짓으로 기준\\n가격을 산정한 경우에는 그 투자신탁이나 투자익명조합의 집합투자업자 또는 투자회사등에 대하여 기준가격 산정\\n업무를 일반사무관리회사에 그 범위를 정하여 위탁하도록 명할 수 있다. 이 경우 해당 집합투자업자 및 그 집합투자\\n업자의 계열회사, 투자회사ㆍ투자유한회사ㆍ투자합자회사ㆍ투자유한책임회사의 계열회사는 그 수탁대상에서 제외\\n된다.<개정 2008. 2. 29., 2013. 5. 28.>',\n",
       "   '제239조(결산서류의 작성 등) ① 투자신탁이나 투자익명조합의 집합투자업자 또는 투자회사등은 집합투자기구의 결산\\n기마다 다음 각 호의 서류 및 부속명세서(이하 이 조에서 “결산서류”라 한다)를 작성하여야 한다. <개정 2021. 4.\\n20.>\\n1. 재무상태표\\n2. 손익계산서\\n3. 제88조에 따른 자산운용보고서\\n② 투자회사의 법인이사는 결산서류의 승인을 위하여 이사회 개최 1주 전까지 그 결산서류를 이사회에 제출하여 그\\n승인을 받아야 한다.\\n법제처                                                            106                                                       국가법령정보센터\\n자본시장과 금융투자업에 관한 법률 \\n③ 투자신탁이나 투자익명조합의 집합투자업자 또는 투자회사등은 다음 각 호의 서류를 본점(투자회사등의 경우\\n그 투자회사등의 집합투자재산을 운용하는 집합투자업자의 본점을 포함한다)에 비치하여야 하며, 해당 집합투자증\\n권을 판매한 투자매매업자 또는 투자중개업자에게 이를 송부하여 그 영업소에 비치하도록 하여야 한다.\\n1. 결산서류\\n2. 회계감사보고서\\n3. 집합투자자총회 의사록\\n4. 이사회 의사록(투자회사의 경우에 한한다)\\n④ 투자신탁이나 투자익명조합의 집합투자업자, 투자회사등 및 해당 집합투자증권을 판매한 투자매매업자 또는 투\\n자중개업자는 결산서류 및 회계감사보고서를 제3항의 비치일부터 5년간 보존하여야 한다.\\n⑤ 집합투자기구의 투자자 및 채권자는 영업시간 중 언제든지 제3항에 따라 비치된 서류를 열람할 수 있으며, 그 서\\n류의 등본 또는 초본의 교부를 청구할 수 있다.\\n⑥ 결산서류의 기재사항 등에 관하여 필요한 사항은 금융위원회가 정하여 고시한다.<개정 2008. 2. 29.>',\n",
       "   '제240조(집합투자재산의 회계처리 등) ① 투자신탁이나 투자익명조합의 집합투자업자 또는 투자회사등은 집합투자재\\n산에 관하여 회계처리를 하는 경우 금융위원회가 증권선물위원회의 심의를 거쳐 정하여 고시한 회계처리기준에 따\\n라야 한다. <개정 2008. 2. 29.>\\n② 금융위원회는 제1항에 따른 회계처리기준의 제정 또는 개정을 전문성을 갖춘 민간법인 또는 단체로서 대통령령\\n으로 정하는 자에게 위탁할 수 있다. 이 경우 그 민간법인 또는 단체는 회계처리기준을 제정 또는 개정한 때에는 이\\n를 금융위원회에 지체 없이 보고하여야 한다.<개정 2008. 2. 29.>\\n③ 투자신탁이나 투자익명조합의 집합투자업자 또는 투자회사등은 집합투자재산에 대하여 회계기간의 말일 및 다\\n음 각 호의 날부터 2개월 이내에 회계감사인의 회계감사를 받아야 한다. 다만, 투자자의 이익을 해할 우려가 없는\\n경우로서 대통령령으로 정하는 경우에는 그러하지 아니하다.\\n1. 계약기간 종료 또는 해지의 경우 : 그 종료일 또는 해지일\\n2. 존속기간 만료 또는 해산의 경우 : 그 만료일 또는 해산일\\n④ 투자신탁이나 투자익명조합의 집합투자업자 또는 투자회사등은 집합투자재산의 회계감사인을 선임하거나 교체\\n한 경우에는 지체 없이 그 집합투자재산을 보관ㆍ관리하는 신탁업자에게 그 사실을 통지하여야 하며, 그 선임일 또\\n는 교체일부터 1주 이내에 금융위원회에 그 사실을 보고하여야 한다.<개정 2008. 2. 29.>\\n⑤ 회계감사인은 투자신탁이나 투자익명조합재산의 집합투자업자 또는 투자회사등의 집합투자증권의 기준가격 산\\n정업무 및 집합투자재산의 회계처리 업무를 감사함에 있어서 집합투자재산평가기준을 준수하는지 감사하고 그 결\\n과를 투자신탁이나 투자익명조합의 집합투자업자의 감사(감사위원회가 설치된 경우에는 감사위원회를 말한다) 또\\n는 투자회사등에 통보하여야 한다.\\n⑥ 회계감사인은 제10항에 따른 감사기준 및 「주식회사 등의 외부감사에 관한 법률」 제16조에 따른 회계감사기준\\n에 따라 회계감사를 실시하여야 한다.<개정 2009. 2. 3., 2017. 10. 31.>\\n⑦ 회계감사인은 다음 각 호의 자에게 집합투자재산의 회계장부 등 관계 자료의 열람ㆍ복사를 요청하거나 회계감\\n사에 필요한 자료의 제출을 요구할 수 있다. 이 경우 요청 또는 요구를 받은 자는 지체 없이 이에 응하여야 한다.\\n1. 그 집합투자재산을 운용하는 집합투자업자\\n2. 그 집합투자재산을 보관ㆍ관리하는 신탁업자\\n3. 해당 집합투자증권을 판매하는 투자매매업자ㆍ투자중개업자\\n4. 제184조제6항에 따라 해당 투자회사로부터 업무를 위탁받은 일반사무관리회사 또는 제238조제8항에 따라 투자\\n신탁이나 투자익명조합의 집합투자업자 또는 투자회사등으로부터 기준가격 산정업무를 위탁받은 일반사무관리 \\n회사 \\n⑧ 「주식회사 등의 외부감사에 관한 법률」 제20조는 제3항에 따른 집합투자재산의 회계감사에 관하여 준용한다.\\n<개정 2017. 10. 31.>\\n법제처                                                            107                                                       국가법령정보센터\\n자본시장과 금융투자업에 관한 법률 \\n⑨ 「주식회사 등의 외부감사에 관한 법률」 제4조 및 제8조는 투자회사에는 적용하지 아니한다.<개정 2017. 10.\\n31.>\\n⑩ 회계감사인의 선임기준, 감사기준, 회계감사인의 권한, 회계감사보고서의 제출 및 공시 등에 관하여 필요한 사항\\n은 대통령령으로 정한다.<개정 2009. 2. 3.>',\n",
       "   '제241조(회계감사인의 손해배상책임) ① 회계감사인은 제240조제3항에 따른 회계감사의 결과 회계감사보고서 중 중요\\n사항에 관하여 거짓의 기재 또는 표시가 있거나 중요사항이 기재 또는 표시되지 아니함으로써 이를 이용한 투자자\\n에게 손해를 끼친 경우에는 그 투자자에 대하여 손해를 배상할 책임을 진다. 이 경우 「주식회사 등의 외부감사에 관\\n한 법률」 제2조제7호나목에 따른 감사반이 회계감사인인 경우에는 해당 집합투자재산에 대한 감사에 참여한 자가\\n연대하여 손해를 배상할 책임을 진다. <개정 2017. 10. 31.>\\n② 회계감사인이 투자자에 대하여 손해를 배상할 책임이 있는 경우로서 해당 집합투자재산을 운용하는 집합투자업\\n자의 이사ㆍ감사(감사위원회가 설치된 경우에는 감사위원회의 위원을 말한다. 이하 이 항에서 같다) 또는 투자회사\\n의 감독이사에게도 귀책사유가 있는 경우에는 그 회계감사인과 집합투자업자의 이사ㆍ감사 또는 투자회사의 감독\\n이사는 연대하여 손해를 배상할 책임을 진다. 다만, 손해를 배상할 책임이 있는 자가 고의가 없는 경우에 그 자는 법\\n원이 귀책사유에 따라 정하는 책임비율에 따라 손해를 배상할 책임이 있다.<개정 2014. 1. 28.>\\n③ 제2항 단서에도 불구하고 손해배상을 청구하는 자의 소득인정액(「국민기초생활 보장법」 제2조제8호에 따른 소\\n득인정액을 말한다)이 대통령령으로 정하는 금액 이하에 해당되는 경우에는 회계감사인과 집합투자업자의 이사ㆍ\\n감사 또는 투자회사의 감독이사는 연대하여 손해를 배상할 책임이 있다.<신설 2014. 1. 28.>\\n④ 「주식회사 등의 외부감사에 관한 법률」 제31조제6항부터 제9항까지의 규정은 제1항 및 제2항의 경우에 준용한\\n다.<개정 2014. 1. 28., 2017. 10. 31.>',\n",
       "   '제242조(이익금의 분배) ① 투자신탁이나 투자익명조합의 집합투자업자 또는 투자회사등은 집합투자기구의 집합투자\\n재산 운용에 따라 발생한 이익금을 투자자에게 금전 또는 새로 발행하는 집합투자증권으로 분배하여야 한다. 다만,\\n집합투자기구의 특성을 고려하여 대통령령으로 정하는 집합투자기구의 경우에는 집합투자규약이 정하는 바에 따라\\n이익금의 분배를 집합투자기구에 유보할 수 있다.\\n② 투자신탁이나 투자익명조합의 집합투자업자 또는 투자회사등은 집합투자기구의 특성에 따라 이익금을 초과하\\n여 분배할 필요가 있는 경우에는 이익금을 초과하여 금전으로 분배할 수 있다. 다만, 투자회사의 경우에는 순자산액\\n에서 최저순자산액을 뺀 금액을 초과하여 분배할 수 없다.\\n③ 제1항에 따른 이익금의 분배 및 제2항에 따른 이익금을 초과하는 금전의 분배에 관하여 필요한 사항은 대통령령\\n으로 정한다.<개정 2009. 2. 3.>\\n \\n제243조 삭제 <2015. 7. 24.>'],\n",
       "  '제6장 집합투자재산의 보관 및 관리': ['제244조(선관주의의무) 집합투자재산을 보관ㆍ관리하는 신탁업자는 선량한 관리자의 주의로써 집합투자재산을 보관ㆍ\\n관리하여야 하며, 투자자의 이익을 보호하여야 한다.',\n",
       "   '제245조(적용배제) 제2편'],\n",
       "  '제7장 사모집합투자기구 등에 대한 특례\\n         제1절 일반 사모집합투자기구 <개정 2021. 4. 20.>': ['제249조(미등록 영업행위의 금지) 누구든지 이 법에 따른 일반 사모집합투자업 등록을 하지 아니하고는 일반 사모집합\\n투자업을 영위해서는 아니 된다. <개정 2021. 4. 20.>\\n[전문개정 2015. 7. 24.]',\n",
       "   '제249조의2(일반 사모집합투자기구의 투자자) 일반 사모집합투자기구인 투자신탁이나 투자익명조합의 일반 사모집합\\n투자업자 또는 일반 사모집합투자기구인 투자회사등은 다음 각 호의 어느 하나에 해당하는 투자자(이하 이 장에서\\n“적격투자자”라 한다)에 한정하여 집합투자증권을 발행할 수 있다. <개정 2021. 4. 20.>\\n1. 전문투자자로서 대통령령으로 정하는 투자자\\n2. 1억원 이상으로서 대통령령으로 정하는 금액 이상을 투자하는 개인 또는 법인, 그 밖의 단체(「국가재정법」 별표\\n2에서 정한 법률에 따른 기금과 집합투자기구를 포함한다) \\n[전문개정 2015. 7. 24.]\\n[제목개정 2021. 4. 20.]',\n",
       "   '제249조의3(일반 사모집합투자업의 등록) ① 일반 사모집합투자업을 영위하려는 자는 금융위원회에 일반 사모집합투\\n자업 등록을 하여야 한다. <개정 2021. 4. 20.>\\n② 제1항에 따라 등록을 하려는 자는 다음 각 호의 요건을 모두 갖추어야 한다.<개정 2015. 7. 31., 2021. 4. 20.>\\n법제처                                                            110                                                       국가법령정보센터\\n자본시장과 금융투자업에 관한 법률 \\n1. 다음 각 목의 어느 하나에 해당하는 자일 것\\n가. 「상법」에 따른 주식회사이거나 대통령령으로 정하는 금융회사 \\n나. 외국 집합투자업자(외국 법령에 따라 외국에서 집합투자업에 상당하는 영업을 영위하는 자를 말한다. 이하 이 \\n조에서 같다)로서 외국에서 영위하고 있는 영업에 상당하는 집합투자업 수행에 필요한 지점, 그 밖의 영업소를 \\n설치한 자 \\n2. 5억원 이상으로서 대통령령으로 정하는 금액 이상의 자기자본을 갖출 것\\n3. 투자자의 보호가 가능하고 그 영위하려는 일반 사모집합투자업을 수행하기에 충분한 인력과 전산설비, 그 밖의\\n물적 설비를 갖출 것 \\n4. 임원이 「금융회사의 지배구조에 관한 법률」 제5조에 적합할 것\\n5. 대주주나 외국 집합투자업자가 다음 각 목의 구분에 따른 요건을 갖출 것\\n가. 제1호가목의 경우 대주주(제12조제2항제6호가목의 대주주를 말한다)가 충분한 출자능력, 건전한 재무상태 및 \\n사회적 신용을 갖출 것 \\n나. 제1호나목의 경우 외국 집합투자업자가 충분한 출자능력, 건전한 재무상태 및 사회적 신용을 갖출 것 \\n6. 경영건전성기준 등 대통령령으로 정하는 건전한 재무상태와 법령 위반사실이 없는 등 대통령령으로 정하는 건전\\n한 사회적 신용을 갖출 것 \\n7. 일반 사모집합투자업자와 투자자 간, 특정 투자자와 다른 투자자 간의 이해상충을 방지하기 위한 체계를 갖출 것\\n③ 제1항에 따른 일반 사모집합투자업 등록을 하려는 자는 등록신청서를 금융위원회에 제출하여야 한다.<개정\\n2021. 4. 20.>\\n④ 금융위원회는 제3항의 등록신청서를 접수한 경우에는 그 내용을 검토하여 2개월 이내에 일반 사모집합투자업\\n등록 여부를 결정하고, 그 결과와 이유를 지체 없이 신청인에게 문서로 통지하여야 한다. 이 경우 등록신청서에 흠\\n결이 있는 때에는 보완을 요구할 수 있다.<개정 2021. 4. 20.>\\n⑤ 제4항의 검토기간을 산정할 때 등록신청서 흠결의 보완기간 등 총리령으로 정하는 기간은 검토기간에 산입하지\\n아니한다.\\n⑥ 금융위원회는 제4항의 일반 사모집합투자업 등록 여부를 결정할 때 다음 각 호의 어느 하나에 해당하는 사유가\\n없으면 등록을 거부해서는 아니 된다.<개정 2021. 4. 20.>\\n1. 제2항의 일반 사모집합투자업 등록요건을 갖추지 아니한 경우\\n2. 제3항의 등록신청서를 거짓으로 작성한 경우\\n3. 제4항 후단의 보완요구를 이행하지 아니한 경우\\n⑦ 금융위원회는 제4항에 따라 일반 사모집합투자업 등록을 결정한 경우 일반 사모집합투자업자 등록부에 필요한\\n사항을 적어야 하며, 등록결정한 내용을 관보 및 인터넷 홈페이지 등에 공고하여야 한다.<개정 2021. 4. 20.>\\n⑧ 일반 사모집합투자업자는 등록 이후 그 영업을 영위하는 경우 제2항 각 호의 등록요건(같은 항 제6호는 제외하\\n며, 같은 항 제2호 및 제5호의 경우에는 대통령령으로 정하는 완화된 요건을 말한다)을 유지하여야 한다.<개정\\n2021. 4. 20.>\\n⑨ 제1항부터 제8항까지의 규정에 따른 등록요건, 등록신청서의 기재사항ㆍ첨부서류 등 등록의 신청에 관한 사항\\n및 등록검토의 방법ㆍ절차, 그 밖에 필요한 사항은 대통령령으로 정한다.\\n[본조신설 2015. 7. 24.]\\n[제목개정 2021. 4. 20.]',\n",
       "   '제249조의4(일반 사모집합투자기구의 투자권유 등) ① 일반 사모집합투자기구의 집합투자증권을 판매하는 금융투자업\\n자는 투자자가 적격투자자인지를 확인하여야 한다.\\n② 일반 사모집합투자기구의 집합투자증권을 발행하는 집합투자업자는 「금융소비자 보호에 관한 법률」 제19조에\\n도 불구하고 대통령령으로 정하는 사항이 포함된 설명서(이하 “핵심상품설명서”라 한다)를 작성하여 그 일반 사모\\n집합투자기구의 집합투자증권을 투자권유 또는 판매하는 자에게 제공하여야 한다. 그 핵심상품설명서에 기재된 사\\n항(경미한 사항으로서 대통령령으로 정하는 경우는 제외한다)이 변경된 경우에도 이와 같다.\\n법제처                                                            111                                                       국가법령정보센터\\n자본시장과 금융투자업에 관한 법률 \\n③ 일반 사모집합투자기구의 집합투자증권을 투자권유 또는 판매하는 자는 핵심상품설명서가 그 일반 사모집합투\\n자기구의 집합투자규약과 부합하는지 여부 등 대통령령으로 정하는 사항을 미리 검증하여야 한다.\\n④ 일반 사모집합투자기구의 집합투자증권을 투자권유 또는 판매하는 자는 그 일반 사모집합투자기구의 집합투자\\n증권을 발행하는 자가 작성하여 제공한 핵심상품설명서를 투자자(전문투자자와 그 밖에 대통령령으로 정하는 자는\\n제외한다)에게 대통령령으로 정하는 방법에 따라 교부하고, 그 핵심상품설명서를 사용하여 투자권유 또는 판매하여\\n야 한다. 다만, 일반 사모집합투자기구의 집합투자증권을 투자권유 또는 판매하는 자가 투자자가 이해하기 쉽도록\\n핵심상품설명서의 내용 중 대통령령으로 정하는 중요한 사항을 발췌하여 기재 또는 표시한 경우로서 그 일반 사모\\n집합투자기구의 집합투자증권을 발행한 집합투자업자와 미리 합의한 경우에는 해당 자료를 사용하여 투자권유 또\\n는 판매할 수 있다.\\n⑤ 일반 사모집합투자기구(일반투자자를 대상으로 하는 경우로 한정한다)의 집합투자증권을 판매한 자는 그 일반\\n사모집합투자기구의 집합투자증권을 발행한 집합투자업자의 운용행위가 제2항에 따른 핵심상품설명서에 부합하는\\n지 여부에 대하여 대통령령으로 정하는 기준 및 방법에 따라 확인하고, 부합하지 아니하는 경우에는 그 집합투자업\\n자에게 그 운용행위의 철회ㆍ변경 또는 시정을 요구하여야 한다.\\n⑥ 일반 사모집합투자기구의 집합투자증권을 판매한 자는 제5항의 요구를 한 날부터 3영업일 이내(집합투자업자가\\n3영업일 이내에 요구를 이행하기 곤란한 불가피한 사유가 있는 경우로서 일반 사모집합투자기구의 집합투자증권을\\n판매하는 자와 이행을 위한 기간을 따로 합의한 경우에는 그 기간 이내)에 그 일반 사모집합투자기구의 집합투자증\\n권을 발행한 집합투자업자가 그 요구를 이행하지 아니하는 경우에는 그 사실을 대통령령으로 정하는 방법에 따라\\n금융위원회에 보고하고 투자자에게 통보하여야 한다.\\n⑦ 집합투자업자는 제5항의 요구에 대하여 금융위원회에 이의를 신청할 수 있다. 이 경우 관련 당사자는 대통령령\\n으로 정하는 기준에 따라 행하는 금융위원회의 결정에 따라야 한다.\\n[전문개정 2021. 4. 20.]',\n",
       "   '제249조의5(일반 사모집합투자기구의 투자광고) ① 일반 사모집합투자기구의 집합투자증권을 판매하는 금융투자업자\\n가 그 사모집합투자기구의 투자광고를 하는 경우에는 전문투자자 또는 투자광고를 하는 날 전날의 금융투자상품 잔\\n고(투자자예탁금 잔액을 포함한다)가 1억원 이상으로서 대통령령으로 정하는 금액 이상인 일반투자자만을 대상으로\\n하여야 한다.\\n② 제1항에 따른 투자광고를 하는 경우에는 서면, 전화, 전자우편, 그 밖에 금융위원회가 고시하는 매체를 통하여 전\\n문투자자 또는 제1항에 따른 투자자에게 개별적으로 알려야 한다.\\n[전문개정 2021. 4. 20.]',\n",
       "   '제249조의6(일반 사모집합투자기구의 설정ㆍ설립 및 보고) ① 일반 사모집합투자기구인 투자신탁이나 투자익명조합의\\n집합투자업자 또는 일반 사모집합투자기구인 투자회사등은 다음 각 호의 요건을 모두 갖추어 일반 사모집합투자기\\n구를 설정ㆍ설립하여야 한다. <개정 2021. 4. 20.>\\n1. 다음 각 목의 자가 업무정지기간 중에 있지 아니할 것\\n가. 그 일반 사모집합투자기구의 집합투자재산을 운용하는 집합투자업자 \\n나. 그 일반 사모집합투자기구의 집합투자재산을 보관ㆍ관리하는 신탁업자 \\n다. 그 일반 사모집합투자기구의 집합투자증권을 판매하는 투자매매업자ㆍ투자중개업자 \\n라. 투자회사인 경우 그 투자회사로부터 제184조제6항의 업무를 위탁받은 일반사무관리회사 \\n2. 일반 사모집합투자기구가 이 법에 따라 적법하게 설정ㆍ설립되었을 것\\n3. 일반 사모집합투자기구의 집합투자규약이 법령을 위반하거나 투자자의 이익을 명백히 침해하지 아니할 것\\n4. 그 밖에 제9조제18항 각 호의 집합투자기구의 형태 등을 고려하여 대통령령으로 정하는 요건을 갖출 것\\n② 일반 사모집합투자기구인 투자신탁이나 투자익명조합의 집합투자업자 또는 일반 사모집합투자기구인 투자회사\\n등은 제1항에 따라 일반 사모집합투자기구를 설정ㆍ설립한 경우 그 날부터 2주일 이내에 금융위원회에 보고하여야\\n한다. 다만, 투자자 보호 및 건전한 거래질서를 해칠 우려가 있는 경우로서 대통령령으로 정하는 경우에는 일반 사\\n모집합투자기구가 설정ㆍ설립된 후 지체 없이 보고하여야 한다.<개정 2021. 4. 20.>\\n법제처                                                            112                                                       국가법령정보센터\\n자본시장과 금융투자업에 관한 법률 \\n③ 금융위원회는 제2항에 따른 보고 내용에 흠결이 있는 경우에는 보완을 요구할 수 있다.\\n④ 일반 사모집합투자기구인 투자신탁이나 투자익명조합의 집합투자업자 또는 일반 사모집합투자기구인 투자회사\\n등은 제2항에 따라 보고한 사항이 변경된 경우에는 투자자 보호를 해칠 우려가 없는 경우로서 대통령령으로 정하는\\n경우를 제외하고는 그 변경된 날부터 2주일 이내에 금융위원회에 변경보고를 하여야 한다. 이 경우 제3항을 준용한\\n다.<개정 2021. 4. 20.>\\n⑤ 제1항부터 제4항까지의 규정에 따른 보고 및 변경보고의 방법ㆍ절차, 그 밖에 필요한 사항은 대통령령으로 정한\\n다.\\n[본조신설 2015. 7. 24.]\\n[제목개정 2021. 4. 20.]',\n",
       "   '제249조의7(일반 사모집합투자기구의 집합투자재산 운용방법 등) ① 일반 사모집합투자업자가 일반 사모집합투자기구\\n의 집합투자재산(제249조의13에 따른 투자목적회사의 재산을 포함한다. 이하 이 조에서 같다)을 운용하는 경우 다음\\n각 호의 금액을 합산한 금액이 일반 사모집합투자기구의 자산총액에서 부채총액을 뺀 가액의 100분의 400 이내에서\\n대통령령으로 정하는 비율을 초과해서는 아니 된다. 다만, 투자자 보호 및 집합투자재산의 안정적 운용을 해칠 우려\\n가 없는 경우로서 대통령령으로 정하는 일반 사모집합투자기구의 경우에는 제1호ㆍ제2호 및 제4호를 합산한 금액\\n또는 제3호의 금액이 각각 일반 사모집합투자기구의 자산총액에서 부채총액을 뺀 가액의 100분의 400 이내에서 대\\n통령령으로 정하는 비율을 초과해서는 아니 된다. <개정 2021. 4. 20.>\\n1. 파생상품에 투자하는 경우 그 파생상품의 매매에 따른 위험평가액\\n2. 집합투자재산으로 해당 일반 사모집합투자기구 외의 자를 위하여 채무보증 또는 담보제공을 하는 방법으로 운용\\n하는 경우 그 채무보증액 또는 담보목적물의 가액 \\n3. 일반 사모집합투자기구의 계산으로 금전을 차입하는 경우 그 차입금의 총액\\n4. 그 밖에 거래의 실질이 차입에 해당하는 경우로서 대통령령으로 정하는 경우에는 대통령령으로 정하는 방법에\\n따라 산정한 그 실질적인 차입금의 총액 \\n② 일반 사모집합투자업자는 일반 사모집합투자기구의 집합투자재산을 운용할 때 다음 각 호의 어느 하나에 해당\\n하는 행위를 해서는 아니 된다.<개정 2021. 4. 20.>\\n1. 대통령령으로 정하는 부동산을 취득한 후 5년 이내의 범위에서 대통령령으로 정하는 기간 이내에 이를 처분(대\\n통령령으로 정하는 부동산을 취득한 투자목적회사가 발행한 주식 또는 지분을 처분하는 것을 포함한다. 이하 이 \\n항에서 같다)하는 행위. 다만, 부동산개발사업에 따라 조성하거나 설치한 토지ㆍ건축물 등을 분양하는 경우, 그 \\n밖에 투자자 보호를 위하여 필요한 경우로서 대통령령으로 정하는 경우는 제외한다. \\n2. 건축물, 그 밖의 공작물이 없는 토지로서 그 토지에 대하여 부동산개발사업을 시행하기 전에 이를 처분하는 행위.\\n다만, 일반 사모집합투자기구의 합병ㆍ해지 또는 해산, 그 밖에 투자자 보호를 위하여 필요한 경우로서 대통령령 \\n으로 정하는 경우는 제외한다. \\n3. 일반 사모집합투자업자가 일반 사모집합투자기구의 집합투자재산을 개인 및 그 밖에 대통령령으로 정하는 자에\\n게 직접 대여하거나 이를 회피할 목적으로 「대부업 등의 등록 및 금융이용자 보호에 관한 법률」 제3조에 따라 등 \\n록한 대부업자 등 대통령령으로 정하는 자와의 연계거래 등을 이용하는 행위 \\n4. 일반 사모집합투자업자가 일반 사모집합투자기구의 집합투자재산을 금전의 대여로 운용하는 경우 그 집합투자\\n기구의 집합투자증권을 다음 각 목의 자 이외의 자에게 발행하는 행위. 다만, 집합투자재산의 안정적 운용을 해칠 \\n우려가 없는 경우로서 일반 사모집합투자기구가 금전을 대여한 차주의 목적이 대통령령으로 정하는 경우에 해당 \\n하는 경우에는 그러하지 아니하다. \\n가. 국가 \\n나. 한국은행 \\n다. 전문투자자 중 대통령령으로 정하는 자 \\n5. 일반 사모집합투자업자가 이 장의 규제를 회피할 목적으로 제249조의13에 따른 투자목적회사가 아닌 법인으로\\n서 이와 유사한 목적 또는 형태를 가진 법인을 설립 또는 이용(그 법인이 발행한 지분증권에 투자하는 행위를 포\\n법제처                                                            113                                                       국가법령정보센터\\n자본시장과 금융투자업에 관한 법률 \\n함한다. 이하 이 호에서 같다)하는 행위. 다만, 외국 투자대상자산의 취득을 목적으로 설립된 외국법인 등 대통령 \\n령으로 정하는 법인을 설립 또는 이용하는 행위는 제외한다. \\n③ 일반 사모집합투자업자는 대통령령으로 정하는 방법에 따라 다음 각 호의 사항에 관하여 매분기의 말일을 기준\\n으로 금융위원회에 보고하여야 한다.<개정 2021. 4. 20.>\\n1. 파생상품 매매 및 그에 따른 위험평가액 현황\\n2. 채무보증 또는 담보제공 현황\\n3. 금전차입 현황\\n4. 그 밖에 투자자 보호 또는 건전한 거래질서를 위하여 필요한 사항으로서 대통령령으로 정하는 사항\\n④ 일반 사모집합투자기구인 투자신탁이나 투자익명조합의 집합투자업자 또는 일반 사모집합투자기구인 투자회사\\n등은 투자자 보호와 관련하여 대통령령으로 정한 사유가 발생한 경우에는 그 날부터 3영업일 이내에 금융위원회에\\n보고하여야 한다.<개정 2021. 4. 20.>\\n⑤ 일반 사모집합투자업자는 다른 회사(투자목적회사, 투자회사, 투자유한회사, 투자합자회사, 투자유한책임회사,\\n그 밖에 대통령령으로 정하는 회사는 제외한다. 이하 이 항에서 같다)에 대한 경영권 참여, 사업구조 또는 지배구조\\n의 개선 등을 위하여 다음 각 호의 어느 하나에 해당하는 방법으로 일반 사모집합투자기구의 집합투자재산을 운용\\n하는 경우(대통령령으로 정하는 방법에 따라 다른 사모집합투자기구와 공동으로 운용하는 경우를 포함한다) 다음\\n각 호의 어느 하나에 해당하는 날부터 15년이 되는 날까지 그 지분증권을 제삼자에게 처분하여야 한다.<신설 2021.\\n4. 20.>\\n1. 다른 회사의 의결권 있는 발행주식총수 또는 출자총액의 100분의 10 이상을 보유하게 된 날\\n2. 임원의 임면 등 투자하는 회사의 주요 경영사항에 대하여 사실상의 지배력 행사가 가능하도록 하는 투자로서 대\\n통령령으로 정하는 투자를 한 날 \\n⑥ 일반 사모집합투자업자는 제87조제4항에도 불구하고 다음 각 호의 어느 하나에 해당하지 아니하는 일반 사모집\\n합투자기구의 집합투자재산인 주식과 관련하여 제81조제1항에 따른 투자한도를 초과하여 취득한 주식에 대하여\\n의결권을 행사할 수 있다.<신설 2021. 4. 20.>\\n1. 상호출자제한기업집단의 계열회사인 일반 사모집합투자업자가 운용하는 일반 사모집합투자기구\\n2. 같은 상호출자제한기업집단에 속하는 금융회사가 집합투자증권 총수의 100분의 30을 초과하여 투자한 일반 사\\n모집합투자기구 \\n⑦ 제1항부터 제6항까지의 규정에 따른 일반 사모집합투자기구 집합투자재산의 구체적인 운용방법과 보고 절차,\\n그 밖에 필요한 사항은 대통령령으로 정한다.<개정 2021. 4. 20.>\\n[본조신설 2015. 7. 24.]\\n[제목개정 2021. 4. 20.]',\n",
       "   '제249조의8(일반 사모집합투자기구에 대한 특례) ① 제76조제2항부터 제6항까지, 제81조부터 제83조까지, 제88조, 제\\n89조(제186조제2항에서 준용하는 경우를 포함한다),',\n",
       "   '제90조(제186조제2항에서 준용하는 경우를 포함한다), 제91조\\n제3항(제186조제2항에서 준용하는 경우를 포함한다), 제93조, 제94조제1항부터 제4항까지, 같은 조 제6항, 제182조,\\n제183조제1항,',\n",
       "   '제186조(제87조를 준용하는 경우는 제외한다), 제188조제2항ㆍ제3항, 제189조제2항, 제195조, 제\\n196조제5항(제208조제3항, 제216조제2항, 제217조의3제3항, 제222조제2항 및 제227조제2항에서 준용하는 경우를\\n포함한다), 제197조, 제198조제2항ㆍ제3항, 제199조, 제200조, 제207조제5항, 제208조제1항(제216조제2항, 제222조\\n제2항 및 제227조제2항에서 준용하는 경우를 포함한다), 제211조제1항, 제213조제5항, 제216조제1항, 제217조의2제\\n5항, 제217조의3제1항, 제217조의6제1항, 제218조제3항, 제222조제1항, 제224조제3항, 제227조제1항, 제229조, 제\\n230조, 제235조, 제237조, 제238조제7항ㆍ제8항, 제239조제1항제3호, 같은 조 제2항부터 제5항까지, 제240조제3항\\n부터 제8항까지, 같은 조 제10항, 제241조, 제247조제1항부터 제4항까지, 같은 조 제5항제1호부터 제3호까지, 같은\\n항 제6호ㆍ제7호, 같은 조 제6항ㆍ제7항, 제248조 및 제253조는 일반 사모집합투자기구에는 적용하지 아니한다.\\n<개정 2020. 3. 24., 2021. 4. 20.>\\n법제처                                                            114                                                       국가법령정보센터\\n자본시장과 금융투자업에 관한 법률 \\n② 제1항에도 불구하고 일반투자자를 대상으로 하는 일반 사모집합투자기구에는 다음 각 호의 조항을 적용한다. 다\\n만, 제5호의 경우 다른 사모집합투자기구에 투자하는 집합투자기구로서 일반투자자를 대상으로 하는 일반 사모집\\n합투자기구 등 대통령령으로 정하는 집합투자기구는 일반투자자로 본다.<신설 2021. 4. 20.>\\n1. 제76조제2항. 다만, 제92조제1항제1호 및 제2호(제186조제2항에서 준용하는 경우를 포함한다)에 따른 통지를 받\\n은 경우로 한정한다. \\n2. 제88조. 다만, 전문투자자에 대해서는 자산운용보고서를 교부하지 아니할 수 있다.\\n3. 제230조제5항\\n4. 제240조제3항부터 제10항까지의 규정. 다만, 투자자 전원의 동의를 얻은 경우 및 투자자의 이익을 해할 우려가\\n없는 경우로서 대통령령으로 정하는 경우에는 이를 적용하지 아니한다. \\n5.',\n",
       "   '제247조(집합투자재산을 보관ㆍ관리하는 신탁업자가 제42조제1항에 따라 다른 신탁업자에게 업무를 위탁한 경\\n우에는 당사자 간 합의가 있는 경우를 제외하고 위탁한 신탁업자가 제247조를 이행하여야 한다). 이 경우 “투자설 \\n명서”는 “핵심상품설명서”로, “3영업일”은 “3영업일 또는 집합투자업자가 3영업일 이내에 요구를 이행하기 곤란 \\n한 불가피한 사유가 있는 경우로서 일반 사모집합투자기구의 집합투자재산을 보관ㆍ관리하는 신탁업자와 이행 \\n을 위한 기간을 따로 합의한 경우에는 그 기간”으로 각각 본다. \\n③ 일반 사모집합투자기구의 투자자는 그 집합투자증권을 적격투자자가 아닌 자에게 양도해서는 아니 된다.<개정\\n2021. 4. 20.>\\n④ 일반 사모집합투자기구의 투자자(투자신탁의 경우 그 투자신탁재산을 운용하는 일반 사모집합투자업자를 말한\\n다)는 제188조제4항, 제194조제7항(제196조제6항에서 준용하는 경우를 포함한다), 제207조제4항, 제213조제4항,\\n제217조의2제4항, 제218조제2항 및 제224조제2항에도 불구하고 객관적인 가치평가가 가능하고 다른 투자자의 이\\n익을 해칠 우려가 없는 경우에는 대통령령으로 정하는 방법에 따라 증권, 부동산 또는 실물자산 등 금전 외의 자산\\n으로 납입할 수 있다.<개정 2021. 4. 20.>\\n⑤ 집합투자자총회 및 그와 관련된 사항은 일반 사모집합투자기구에는 적용하지 아니한다. 다만, 제1항에도 불구하\\n고 일반투자자를 대상으로 하는 일반 사모집합투자기구의 경우에는 제237조를 적용하며, 이 경우 집합투자자총회\\n결의일은 환매를 연기한 날부터 3개월 이내로 한다.<개정 2021. 4. 20.>\\n⑥ 일반 사모집합투자기구인 투자신탁이나 투자익명조합의 집합투자업자 또는 일반 사모집합투자기구인 투자회사\\n등이 이 법 또는 「상법」에 따라 투자자에게 공시 또는 공고하여야 하는 사항에 대하여 집합투자규약에서 정한 방법\\n으로 전체 투자자에게 통지한 경우에는 이 법 또는 「상법」에 따라 공시 또는 공고한 것으로 본다.<개정 2021. 4.\\n20.>\\n⑦ 일반 사모집합투자기구인 투자회사는 일반 사모집합투자업자인 법인이사 1명을 두며, 「상법」 제383조제1항에\\n도 불구하고 이사의 수를 1명 또는 2명으로 할 수 있다.<개정 2021. 4. 20.>\\n⑧ 일반 사모집합투자기구는 집합투자규약에 따라 투자자에 대한 손익의 분배 또는 손익의 순위 등에 관한 사항을\\n정할 수 있다.<개정 2021. 4. 20.>\\n⑨ 제7조제6항제3호에도 불구하고 일반 사모집합투자업자가 자신이 운용하는 일반 사모집합투자기구의 집합투자\\n증권을 판매하는 경우에는 제71조제5호부터 제7호까지(제7호의 경우 같은 호에 따른 대통령령으로 정하는 행위 중\\n대통령령으로 정하는 것으로 한정한다), 제74조 및 제76조제1항을 준용한다. 이 경우 제74조 및 제76조제1항 중\\n“투자매매업자 또는 투자중개업자는”은 “자신이 운용하는 일반 사모집합투자기구의 집합투자증권을 판매하는 일반\\n사모집합투자업자는”으로 본다.<개정 2021. 4. 20.>\\n[본조신설 2015. 7. 24.]\\n[제목개정 2021. 4. 20.]',\n",
       "   '제249조의9(일반 사모집합투자기구에 대한 조치) ① 금융위원회는 다음 각 호의 어느 하나에 해당하는 경우 일반 사모\\n집합투자기구의 해지ㆍ해산을 명할 수 있다. <개정 2021. 4. 20.>\\n1. 일반 사모집합투자기구가 제249조의6제1항 각 호에 따른 요건을 갖추지 못한 경우\\n법제처                                                            115                                                       국가법령정보센터\\n자본시장과 금융투자업에 관한 법률 \\n2. 제249조의6제2항ㆍ제4항에 따른 보고 또는 변경보고를 하지 아니한 경우\\n3. 거짓, 그 밖의 부정한 방법으로 제249조의6제2항ㆍ제4항에 따른 보고 또는 변경보고를 한 경우\\n4. 금융관련 법령 중 대통령령으로 정하는 법령을 위반하는 경우로서 사회적 신용을 훼손하는 등 대통령령으로 정\\n하는 경우 \\n5. 제2항제3호에 따른 시정명령 또는 중지명령을 이행하지 아니한 경우\\n6. 그 밖에 투자자의 이익을 현저히 해칠 우려가 있거나 일반 사모집합투자기구로서 존속하기 곤란하다고 인정되는\\n경우로서 대통령령으로 정하는 경우 \\n② 금융위원회는 일반 사모집합투자기구인 투자회사등(그 집합투자업자 또는 그 법인이사ㆍ업무집행사원ㆍ업무집\\n행조합원을 포함한다)이 제1항 각 호의 어느 하나에 해당하거나 별표 2 각 호의 어느 하나에 해당하는 경우에는 그\\n투자회사등에 대하여 다음 각 호의 어느 하나에 해당하는 조치를 할 수 있다.<개정 2021. 4. 20.>\\n1. 6개월 이내의 업무의 전부 또는 일부의 정지\\n2. 계약의 인계명령\\n3. 위법행위의 시정명령 또는 중지명령\\n4. 위법행위로 인한 조치를 받았다는 사실의 공표명령 또는 게시명령\\n5. 기관경고\\n6. 기관주의\\n7. 그 밖에 위법행위를 시정하거나 방지하기 위하여 필요한 조치로서 대통령령으로 정하는 조치\\n③ 금융위원회는 일반 사모집합투자기구인 투자회사의 감독이사가 다음 각 호의 어느 하나에 해당하는 경우에는\\n해임요구, 6개월 이내의 직무정지, 문책경고, 주의적 경고, 주의, 그 밖에 대통령령으로 정하는 조치를 할 수 있다.\\n<개정 2020. 5. 19., 2021. 4. 20.>\\n1. 제199조제5항에서 준용하는 제54조제1항을 위반하여 정당한 사유 없이 직무관련 정보를 이용한 경우\\n2. 그 밖에 투자자 보호 또는 건전한 거래질서를 해할 우려가 있는 경우로서 대통령령으로 정하는 경우\\n④ 일반 사모집합투자기구, 일반 사모집합투자업자 및 그 임직원에 대한 조치 등에 관하여는 제422조제3항 및 제\\n423조부터 제425조까지의 규정을 준용한다.<개정 2021. 4. 20.>\\n[본조신설 2015. 7. 24.]\\n[제목개정 2021. 4. 20.]\\n \\n         제2절 기관전용 사모집합투자기구 등 <개정 2021. 4. 20.>',\n",
       "   '제249조의10(설립 및 보고) ① 기관전용 사모집합투자기구의 정관에는 다음 각 호의 사항을 기재하고, 총사원이 기명\\n날인 또는 서명하여야 한다. <개정 2021. 4. 20.>\\n1. 목적\\n2. 상호\\n3. 회사의 소재지\\n4. 각 사원의 출자의 목적과 가격 또는 평가의 기준\\n5. 삭제<2021. 4. 20.>\\n6. 회사의 해산사유를 정한 경우에는 그 내용\\n7. 사원의 성명ㆍ주민등록번호(법인인 경우에는 상호 또는 명칭ㆍ사업자등록번호) 및 주소\\n8. 무한책임사원 또는 유한책임사원의 구분\\n9. 정관의 작성연월일\\n② 기관전용 사모집합투자기구는 다음 각 호의 사항을 등기하여야 한다.<개정 2021. 4. 20.>\\n1. 제1항제1호부터 제3호까지의 사항 및 같은 항 제6호의 사항\\n2. 무한책임사원의 상호 또는 명칭ㆍ사업자등록번호 및 주소\\n법제처                                                            116                                                       국가법령정보센터\\n자본시장과 금융투자업에 관한 법률 \\n③ 기관전용 사모집합투자기구는 다음 각 호의 요건을 모두 갖추어야 한다.<개정 2021. 4. 20.>\\n1. 기관전용 사모집합투자기구가 이 법에 따라 적법하게 설립되었을 것\\n2. 기관전용 사모집합투자기구의 정관이 법령을 위반하거나 투자자의 이익을 명백히 침해하지 아니할 것\\n④ 기관전용 사모집합투자기구는 설립등기일부터 2주일 이내에 대통령령으로 정하는 바에 따라 금융위원회에 보고\\n하여야 한다. 다만, 금융시장의 안정 또는 건전한 거래질서를 해칠 우려가 있는 경우로서 대통령령으로 정하는 경우\\n에는 기관전용 사모집합투자기구의 설립등기 후 지체 없이 보고하여야 한다.<개정 2021. 4. 20.>\\n⑤ 금융위원회는 제4항에 따른 보고 내용에 흠결이 있는 경우에는 보완을 요구할 수 있다.\\n⑥ 기관전용 사모집합투자기구는 제4항에 따라 보고한 사항이 변경된 경우에는 경미한 사항으로서 대통령령으로\\n정하는 경우를 제외하고는 그 날부터 2주일 이내에 금융위원회에 변경보고를 하여야 한다. 이 경우 제4항 및 제5항\\n을 준용한다.<개정 2021. 4. 20.>\\n⑦ 제4항부터 제6항까지의 규정에 따른 보고 및 변경보고의 방법ㆍ절차, 그 밖에 필요한 사항은 대통령령으로 정한\\n다.\\n[본조신설 2015. 7. 24.]',\n",
       "   '제249조의11(사원 및 출자) ① 기관전용 사모집합투자기구의 사원은 1인 이상의 무한책임사원과 1인 이상의 유한책임\\n사원으로 하되, 사원의 총수는 100인 이하로 한다. <개정 2021. 4. 20.>\\n② 제1항의 사원 총수를 계산할 때 다른 집합투자기구가 그 기관전용 사모집합투자기구의 지분을 100분의 10 이상\\n취득하는 경우 등 대통령령으로 정하는 경우에는 그 다른 집합투자기구의 투자자 수를 합하여 계산하여야 한다.<개\\n정 2021. 4. 20.>\\n③ 전문투자자 중 대통령령으로 정하는 자는 제1항에 따른 사원의 총수 계산에서 제외한다.\\n④ 유한책임사원은 기관전용 사모집합투자기구의 집합투자재산인 주식 또는 지분의 의결권 행사 및 대통령령으로\\n정하는 업무집행사원의 업무에 관여해서는 아니 된다.<개정 2021. 4. 20.>\\n⑤ 기관전용 사모집합투자기구 사원의 출자의 방법은 금전에 한정한다. 다만, 객관적인 가치평가가 가능하고 사원\\n의 이익을 해칠 우려가 없는 경우로서 다른 모든 사원의 동의가 있는 경우에는 증권으로 출자할 수 있다.<개정\\n2021. 4. 20.>\\n⑥ 유한책임사원은 개인(제168조제1항에 따른 외국인, 해당 기관전용 사모집합투자기구의 업무집행사원의 임원 또\\n는 운용인력을 제외한다)이 아닌 자로서 다음 각 호에 해당하는 자여야 한다.<개정 2021. 4. 20.>\\n1. 전문투자자로서 대통령령으로 정하는 투자자\\n2. 그 밖에 전문성 또는 위험감수능력 등을 갖춘 자로서 대통령령으로 정하는 투자자\\n⑦ 「한국산업은행법」에 따른 한국산업은행과 「중소기업은행법」에 따른 중소기업은행은 그 설립목적에 부합하는\\n범위에서 기관전용 사모집합투자기구에 출자할 수 있다.<개정 2021. 4. 20.>\\n⑧ 기관전용 사모집합투자기구는 그 업무집행사원의 특수관계인인 유한책임사원의 출자지분이 그 기관전용 사모\\n집합투자기구의 전체 출자지분 중 대통령령으로 정하는 비율 이상인 경우 해당 유한책임사원 관련 정보 및 기관전\\n용 사모집합투자기구의 투자 구조 등 대통령령으로 정하는 사항을 대통령령으로 정하는 기간 이내에 금융위원회에\\n보고하여야 한다.<개정 2021. 4. 20.>\\n⑨ 제1항부터 제8항까지에서 규정한 사항 외에 사원의 출자방법 및 절차, 보고의 절차 등에 관하여 필요한 사항은\\n대통령령으로 정한다.\\n[본조신설 2015. 7. 24.]',\n",
       "   '제249조의12(기관전용 사모집합투자기구 집합투자재산의 운용방법) ① 기관전용 사모집합투자기구의 집합투자재산\\n운용에 관하여는',\n",
       "   '제249조의7(제3항 및 제6항은 제외한다)을 준용한다.\\n② 기관전용 사모집합투자기구는 대통령령으로 정하는 방법에 따라 다음 각 호의 사항에 관하여 금융위원회에 보\\n고하여야 한다.\\n1. 파생상품 매매 및 그에 따른 위험평가액 현황\\n법제처                                                            117                                                       국가법령정보센터\\n자본시장과 금융투자업에 관한 법률 \\n2. 채무보증 또는 담보제공 현황\\n3. 금전차입 현황\\n4. 그 밖에 금융시장의 안정 또는 건전한 거래질서를 위하여 필요한 사항으로서 대통령령으로 정하는 사항\\n[전문개정 2021. 4. 20.]',\n",
       "   '제249조의13(투자목적회사) ① 사모집합투자기구는 다음 각 호의 요건을 모두 충족하는 투자목적회사의 지분증권에\\n투자할 수 있다. <개정 2021. 4. 20.>\\n1. 「상법」에 따른 주식회사 또는 유한회사일 것\\n2. 특정 법인 또는 특정 자산 등에 대한 효율적인 투자를 목적으로 할 것\\n3. 그 주주 또는 사원이 다음 각 목의 어느 하나에 해당하되, 가목에 해당하는 주주 또는 사원의 출자비율이 대통령\\n령으로 정하는 비율 이상일 것 \\n가. 사모집합투자기구 또는 그 사모집합투자기구가 투자한 투자목적회사 \\n나. 투자목적회사가 투자하는 회사의 임원 또는 대주주 \\n다. 그 밖에 투자목적회사의 효율적 운영을 위하여 투자목적회사의 주주 또는 사원이 될 필요가 있는 자로서 대통 \\n령령으로 정하는 자 \\n4. 그 주주 또는 사원인 사모집합투자기구의 투자자 수와 사모집합투자기구가 아닌 주주 또는 사원의 수를 합산한\\n수가 100인 이내일 것 \\n5. 상근임원을 두거나 직원을 고용하지 아니하고, 본점 외에 영업소를 설치하지 아니할 것\\n② 투자목적회사에 관하여는 이 법에 특별한 규정이 없으면 「상법」의 주식회사 또는 유한회사에 관한 규정을 적용\\n한다.\\n③ 삭제<2021. 4. 20.>\\n④ 투자목적회사 재산의 투자비율 산정방식과 그 밖에 투자목적회사 재산의 운용에 관하여 필요한 사항은 대통령\\n령으로 정한다.\\n⑤ 투자목적회사에 관하여는 제242조, 제249조의11제3항 및 제249조의18을 준용한다.<개정 2021. 4. 20.>\\n⑥ 일반투자자를 대상으로 하는 일반 사모집합투자기구가 주주 또는 사원인 투자목적회사에 관하여는 제184조제\\n3항ㆍ제4항 및 제249조의8제2항제5호를 준용한다. 이 경우 “집합투자재산”은 “투자목적회사의 재산”으로 본다.<신\\n설 2021. 4. 20.>\\n⑦ 「상법」 제317조제2항제2호ㆍ제3호 및 제549조제2항제2호는 투자목적회사에는 적용하지 아니한다.<개정 2021.\\n4. 20.>\\n[본조신설 2015. 7. 24.]',\n",
       "   '제249조의14(업무집행사원 등) ① 기관전용 사모집합투자기구는 정관으로 무한책임사원 중 1인 이상을 업무집행사원\\n으로 정하여야 한다. 이 경우 그 업무집행사원이 회사의 업무를 집행할 권리와 의무를 가진다. <개정 2021. 4. 20.>\\n② 금융관련 법령 중 대통령령으로 정하는 법령에서 규정하고 있는 업무를 영위하고 있는 자는 그 법령에도 불구하\\n고 업무집행사원이 될 수 있다. 이 경우 그 업무집행사원은 그 법령에서 제한하거나 금지하는 규정을 위반하지 아니\\n하는 범위에서 업무를 집행할 수 있으며, 대통령령으로 정하는 방법으로 기관전용 사모집합투자기구의 집합투자재\\n산을 운용하여야 한다.<개정 2021. 4. 20.>\\n③ 기관전용 사모집합투자기구는 정관으로 업무집행사원에 대한 손익의 분배 또는 손익의 순위 등에 관한 사항을\\n정할 수 있다.<개정 2021. 4. 20.>\\n④ 기관전용 사모집합투자기구의 업무집행사원이 기관전용 사모집합투자기구의 집합투자재산의 운용 및 보관ㆍ관\\n리, 기관전용 사모집합투자기구 지분의 판매 및 환매 등을 영위하는 경우에는 제11조를 적용하지 아니한다.<개정\\n2021. 4. 20.>\\n⑤ 업무집행사원은 법령과 정관에 따라 기관전용 사모집합투자기구를 위하여 그 직무를 충실히 수행하여야 한다.\\n<개정 2021. 4. 20.>\\n법제처                                                            118                                                       국가법령정보센터\\n자본시장과 금융투자업에 관한 법률 \\n⑥ 업무집행사원(법인이 업무집행사원인 경우 제2호 및 제3호에 대해서는 법인의 임직원을 포함한다)은 다음 각 호\\n의 행위를 해서는 아니 된다.<개정 2021. 4. 20.>\\n1. 기관전용 사모집합투자기구와 거래하는 행위(사원 전원의 동의가 있는 경우는 제외한다)\\n2. 원금 또는 일정한 이익의 보장을 약속하는 등의 방법으로 사원이 될 것을 부당하게 권유하는 행위\\n3. 사원 전원의 동의 없이 사원의 일부 또는 제삼자의 이익을 위하여 기관전용 사모집합투자기구가 소유한 자산의\\n명세를 사원이 아닌 자에게 제공하는 행위 \\n4. 그 밖에 금융시장의 안정 및 건전한 거래질서를 해칠 우려가 있는 경우로서 대통령령으로 정하는 행위\\n⑦ 기관전용 사모집합투자기구는 제5항 및 제6항에 따라 업무집행사원이 준수하여야 할 구체적인 행위준칙을 제정\\n하여야 하며, 행위준칙을 제정ㆍ변경한 경우에는 지체 없이 이를 금융위원회에 보고하여야 한다. 이 경우 금융위원\\n회는 보고받은 행위준칙이 법령을 위반하거나 금융시장의 안정 및 건전한 거래질서를 해칠 우려가 있는 때에는 그\\n내용을 변경하거나 보완할 것을 명할 수 있다.<개정 2021. 4. 20.>\\n⑧ 업무집행사원은 대통령령으로 정하는 기간마다 1회 이상 기관전용 사모집합투자기구 및 기관전용 사모집합투자\\n기구가 출자한 투자목적회사의 재무제표 등을 사원에게 제공하고 그 운영 및 재산에 관한 사항을 설명하여야 하며,\\n그 제공 및 설명 사실에 관한 내용을 기록ㆍ유지하여야 한다.<개정 2021. 4. 20.>\\n⑨ 업무집행사원이 아닌 사원은 영업시간 내에만 기관전용 사모집합투자기구 또는 기관전용 사모집합투자기구가\\n출자한 투자목적회사의 재산에 관한 장부ㆍ서류의 열람이나 등본 또는 초본의 교부를 청구할 수 있다.<개정 2021.\\n4. 20.>\\n⑩ 업무집행사원이 아닌 사원은 업무집행사원이 업무를 집행할 때 현저하게 부적합하거나 업무수행에 중대한 위반\\n행위가 있는 경우에는 기관전용 사모집합투자기구 또는 기관전용 사모집합투자기구가 출자한 투자목적회사의 업\\n무와 재산상황을 검사할 수 있다.<개정 2021. 4. 20.>\\n⑪ 기관전용 사모집합투자기구는 정관에서 정하는 바에 따라 기관전용 사모집합투자기구의 집합투자재산으로 업\\n무집행사원에게 보수(운용실적에 따른 성과보수를 포함한다)를 지급할 수 있다.<개정 2021. 4. 20.>\\n⑫ 금융위원회는 금융시장의 안정 또는 건전한 거래질서를 위하여 필요한 경우에는 기관전용 사모집합투자기구의\\n업무집행사원에 대하여 기관전용 사모집합투자기구의 운용에 관하여 필요한 조치를 명할 수 있다.<신설 2021. 4.\\n20.>\\n⑬ 금융감독원장은 금융시장의 안정 또는 건전한 거래질서를 위하여 필요한 경우에는 기관전용 사모집합투자기구\\n의 업무와 재산상황에 관하여 기관전용 사모집합투자기구 및 그 업무집행사원을 검사할 수 있다. 이 경우 제419조\\n제5항부터 제7항까지 및 제9항을 준용한다.<신설 2021. 4. 20.>\\n[본조신설 2015. 7. 24.]',\n",
       "   '제249조의15(업무집행사원의 등록 등) ① 기관전용 사모집합투자기구의 업무집행사원으로서 기관전용 사모집합투자\\n기구의 집합투자재산 운용업무를 영위하려는 자는 다음 각 호의 요건을 갖추어 금융위원회에 등록하여야 한다. <개\\n정 2015. 7. 31., 2021. 4. 20.>\\n1. 1억원 이상으로서 대통령령으로 정하는 금액 이상의 자기자본을 갖출 것\\n2. 임원(합자회사의 업무집행사원 등 대통령령으로 정하는 자를 포함한다)이 「금융회사의 지배구조에 관한 법률」\\n제5조에 적합할 것 \\n3. 대통령령으로 정하는 투자운용전문인력을 대통령령으로 정하는 수 이상 갖출 것\\n4. 제44조에 따라 이해상충이 발생할 가능성을 파악ㆍ평가ㆍ관리할 수 있는 적절한 내부통제기준을 갖출 것\\n5. 대통령령으로 정하는 건전한 재무상태와 사회적 신용을 갖출 것\\n② 제1항에 따른 등록을 하려는 자는 금융위원회에 등록신청서를 제출하여야 한다.\\n③ 금융위원회는 제2항의 등록신청서를 접수한 경우에는 그 내용을 검토하여 1개월 이내에 등록 여부를 결정하고,\\n그 결과와 이유를 지체 없이 신청인에게 문서로 통지하여야 한다. 이 경우 등록신청서에 흠결이 있을 때에는 보완을\\n요구할 수 있다.\\n법제처                                                            119                                                       국가법령정보센터\\n자본시장과 금융투자업에 관한 법률 \\n④ 제3항의 검토기간을 산정할 때 등록신청서 흠결의 보완기간 등 총리령으로 정하는 기간은 검토기간에 산입하지\\n아니한다.\\n⑤ 금융위원회는 제3항의 등록 여부를 결정할 때 다음 각 호의 어느 하나에 해당하는 사유가 없으면 그 등록을 거\\n부해서는 아니 된다.\\n1. 제1항의 등록요건을 갖추지 아니한 경우\\n2. 제2항의 등록신청서를 거짓으로 작성한 경우\\n3. 제3항 후단의 보완요구를 이행하지 아니한 경우\\n⑥ 기관전용 사모집합투자기구의 업무집행사원은 제1항에 따른 등록 이후 그 기관전용 사모집합투자기구의 집합투\\n자재산 운용업무를 영위하는 경우 같은 항 각 호의 등록요건을 유지하여야 한다.<개정 2021. 4. 20.>\\n⑦ 금융위원회는 기관전용 사모집합투자기구의 업무집행사원이 다음 각 호의 어느 하나에 해당하는 경우에는 그\\n업무집행사원의 등록을 취소할 수 있다.<개정 2021. 4. 20.>\\n1. 거짓, 그 밖의 부정한 방법으로 업무집행사원의 등록을 한 경우\\n2. 제6항에 따른 등록요건의 유지의무를 위반한 경우\\n3. 업무의 정지기간 중에 업무를 한 경우\\n4. 금융위원회의 시정명령 또는 중지명령을 이행하지 아니한 경우\\n5. 그 밖에 금융시장의 안정 또는 건전한 거래질서를 현저히 해칠 우려가 있거나 해당 기관전용 사모집합투자기구\\n의 집합투자재산 운용업무를 영위하기 곤란하다고 인정되는 경우로서 대통령령으로 정하는 경우 \\n⑧ 제1항에 따라 등록한 기관전용 사모집합투자기구의 업무집행사원은 등록사항이 변경된 경우 대통령령으로 정하\\n는 경미한 사항을 제외하고는 그 날부터 2주일 이내에 금융위원회에 변경된 사항을 보고하여야 한다. 이 경우 금융\\n위원회는 보고 내용에 흠결이 있으면 보완을 요구할 수 있다.<신설 2021. 4. 20.>\\n⑨ 업무집행사원(「금융회사의 지배구조에 관한 법률」 제2조제1호에 따른 금융회사는 제외한다)은 각 사업연도의\\n재무제표를 작성하여 매 사업연도 경과 후 90일 이내의 범위에서 대통령령으로 정하는 기간 이내에 금융위원회에\\n제출하여야 한다.<신설 2021. 4. 20.>\\n⑩ 제8항에 따라 변경사항을 보고하거나 제9항에 따라 재무제표를 제출한 경우에는 제249조의10제6항에 따른 변\\n경보고 사항 중 업무집행사원에 관한 것으로서 대통령령으로 정하는 사항을 금융위원회에 변경보고한 것으로 본다.\\n<신설 2021. 4. 20.>\\n⑪ 제1항부터 제5항까지 및 제8항의 규정에 따른 등록신청서의 기재사항ㆍ첨부서류 등 등록의 신청에 관한 사항과\\n등록검토의 방법ㆍ절차, 등록사항 변경의 보고에 관한 사항 및 그 밖에 필요한 사항은 대통령령으로 정한다.<개정\\n2021. 4. 20.>\\n[본조신설 2015. 7. 24.]',\n",
       "   '제249조의16(이해관계인과의 거래제한 등) ① 업무집행사원은 기관전용 사모집합투자기구의 집합투자재산을 운용할\\n때 대통령령으로 정하는 이해관계인(이하 이 조에서 “이해관계인”이라 한다)과 거래행위를 해서는 아니 된다. 다만,\\n기관전용 사모집합투자기구와 이해가 상충될 우려가 없는 거래로서 다음 각 호의 어느 하나에 해당하는 거래의 경\\n우에는 이를 할 수 있다. <개정 2021. 4. 20.>\\n1. 증권시장 등 불특정다수인이 참여하는 공개시장을 통한 거래\\n2. 일반적인 거래조건에 비추어 기관전용 사모집합투자기구에 유리한 거래\\n3. 그 밖에 대통령령으로 정하는 거래\\n② 업무집행사원은 제1항 단서에 따라 허용되는 이해관계인과의 거래가 있는 경우 또는 이해관계인의 변경이 있는\\n경우에는 그 내용을 해당 기관전용 사모집합투자기구의 집합투자재산을 보관ㆍ관리하는 신탁업자에게 즉시 통보\\n하여야 한다.<개정 2021. 4. 20.>\\n③ 업무집행사원은 기관전용 사모집합투자기구의 집합투자재산을 운용할 때 기관전용 사모집합투자기구의 계산으\\n로 그 업무집행사원이 발행한 증권을 취득해서는 아니 된다.<개정 2021. 4. 20.>\\n법제처                                                            120                                                       국가법령정보센터\\n자본시장과 금융투자업에 관한 법률 \\n④ 업무집행사원은 기관전용 사모집합투자기구의 집합투자재산을 운용할 때 집합투자재산의 100분의 5 이하로서\\n대통령령으로 정하는 비율을 초과하여 다음 각 호의 어느 하나에 해당하는 계열회사가 발행한 증권(그 계열회사가\\n발행한 지분증권과 관련한 증권예탁증권 및 대통령령으로 정하는 투자대상자산을 포함한다)을 취득해서는 아니 된\\n다. 이 경우 기관전용 사모집합투자기구의 집합투자재산으로 취득하는 증권은 시가로 평가하되 평가의 방법과 절차\\n는 대통령령으로 정하는 바에 따른다.<개정 2021. 4. 20.>\\n1. 그 업무집행사원의 계열회사\\n2. 그 기관전용 사모집합투자기구에 사실상 지배력을 행사하는 유한책임사원으로서 대통령령으로 정하는 자의 계\\n열회사 \\n[본조신설 2015. 7. 24.]',\n",
       "   '제249조의17(지분양도 등) ① 기관전용 사모집합투자기구의 무한책임사원은 출자한 지분을 타인에게 양도할 수 없다.\\n다만, 정관으로 정한 경우에는 사원 전원의 동의를 받아 지분을 분할하지 아니하고 타인에게 양도할 수 있다. <개정\\n2021. 4. 20.>\\n② 기관전용 사모집합투자기구의 유한책임사원은 무한책임사원 전원의 동의를 받아 출자한 지분을 분할하지 아니\\n하고 타인에게 양도할 수 있다.<개정 2021. 4. 20.>\\n③ 기관전용 사모집합투자기구의 무한책임사원 및 유한책임사원은 제1항 단서 및 제2항에도 불구하고 양도의 결과\\n기관전용 사모집합투자기구의 사원 총수가 100인을 초과하지 아니하는 범위에서는 지분을 분할하여 양도할 수 있\\n다. 이 경우 제249조의11제3항을 준용한다.<개정 2021. 4. 20.>\\n④ 기관전용 사모집합투자기구는 다른 회사(다른 기관전용 사모집합투자기구를 포함한다)와 합병할 수 없다.<개정\\n2021. 4. 20.>\\n⑤ 기관전용 사모집합투자기구의 유한책임사원은 그 지분을 제249조의11제6항 각 호에 해당하지 아니하는 자에게\\n양도해서는 아니 된다.<개정 2021. 4. 20.>\\n[본조신설 2015. 7. 24.]',\n",
       "   '제249조의18(상호출자제한기업집단 계열 기관전용 사모집합투자기구 등에 대한 제한) ① 상호출자제한기업집단의 계\\n열회사인 기관전용 사모집합투자기구 또는 상호출자제한기업집단의 계열회사가 무한책임사원인 기관전용 사모집합\\n투자기구는 다른 회사(제9조제16항제4호에 따른 외국 기업은 제외한다)를 계열회사로 편입한 경우에는 편입일부터\\n5년 이내에 그 다른 회사의 지분증권을 그 상호출자제한기업집단의 계열회사가 아닌 자에게 처분하여야 한다. <개\\n정 2021. 4. 20.>\\n② 제1항에도 불구하고 다음 각 호의 자(이하 “기관전용 사모집합투자기구등”이라 한다)를 제외한 상호출자제한기\\n업집단의 계열회사 전체의 자산총액[금융업 또는 보험업을 영위하는 회사의 경우 자본총액(재무상태표상의 자산총\\n액에서 부채총액을 뺀 금액을 말한다. 이하 이 항에서 같다) 또는 자본금 중 큰 금액으로 한다]에 대한 금융업 또는\\n보험업을 영위하는 회사의 자본총액 또는 자본금 중 큰 금액의 합계액의 비율이 100분의 75 이상으로서 대통령령\\n으로 정하는 비율 이상인 상호출자제한기업집단의 계열회사인 기관전용 사모집합투자기구 또는 상호출자제한기업\\n집단의 계열회사가 무한책임사원인 기관전용 사모집합투자기구가 다른 회사(제9조제16항제4호에 따른 외국 기업\\n은 제외한다)를 계열회사로 편입한 경우에는 편입일부터 7년 이내에 그 다른 회사의 지분증권을 그 상호출자제한기\\n업집단의 계열회사가 아닌 자에게 처분하여야 한다. 다만, 대통령령으로 정하는 방법에 따라 금융위원회의 승인을\\n받은 경우에는 처분기한을 3년 이내에서 연장할 수 있다<개정 2021. 4. 20.>\\n1. 기관전용 사모집합투자기구\\n2. 제1호에 해당하는 자가 투자한 투자목적회사\\n3. 제2호에 해당하는 자가 투자한 투자목적회사\\n4. 제1호부터 제3호까지에 해당하는 자가 투자한 투자대상기업(기관전용 사모집합투자기구 또는 제249조의13에 따\\n른 투자목적회사가 제249조의7제5항제1호 또는 제2호의 방법으로 투자한 기업을 말한다. 이하 이 장에서 같다) \\n5. 제4호에 해당하는 자가 지배하는 회사\\n법제처                                                            121                                                       국가법령정보센터\\n자본시장과 금융투자업에 관한 법률 \\n③ 상호출자제한기업집단의 계열회사인 기관전용 사모집합투자기구 또는 상호출자제한기업집단의 계열회사가 무\\n한책임사원인 기관전용 사모집합투자기구는 그 계열회사(투자목적회사 및 투자대상기업은 제외한다)가 발행한 지\\n분증권을 취득해서는 아니 된다.<개정 2021. 4. 20.>\\n④ 제2항에 해당하는 상호출자제한기업집단의 계열회사는 다음 각 호의 어느 하나에 해당하는 행위를 해서는 아니\\n된다.<개정 2021. 4. 20.>\\n1. 기관전용 사모집합투자기구등이 기관전용 사모집합투자기구등이 아닌 계열회사의 지분증권을 취득 또는 소유하\\n는 행위 \\n2. 기관전용 사모집합투자기구등이 아닌 계열회사가 제2항제4호 또는 제5호의 자의 지분증권을 취득 또는 소유하\\n는 행위 \\n[본조신설 2015. 7. 24.]\\n[제목개정 2021. 4. 20.]',\n",
       "   '제249조의19(지주회사 규제의 특례) ① 「독점규제 및 공정거래에 관한 법률」에 따른 지주회사에 관한 규정은 사모집합\\n투자기구 또는 투자목적회사가 제249조의7제5항제1호 또는 제2호의 요건을 충족하는 경우 그 요건을 충족한 날부\\n터 10년이 되는 날까지는 적용하지 아니한다. <개정 2021. 4. 20.>\\n② 사모집합투자기구(일반 사모집합투자기구인 투자신탁이나 투자익명조합의 집합투자업자를 포함한다) 또는 투자\\n목적회사는 제1항에 해당하는 경우 그 요건을 충족한 날부터 2주일 이내에 그 사실을 대통령령으로 정하는 방법에\\n따라 금융위원회에 보고하여야 하며, 금융위원회는 그 사항을 공정거래위원회에 통보하여야 한다.<개정 2021. 4.\\n20.>\\n③ 사모집합투자기구(기관전용 사모집합투자기구의 무한책임사원 또는 일반 사모집합투자기구의 집합투자업자 중\\n상호출자제한기업집단 계열회사 또는 금융지주회사가 아닌 자를 포함한다) 및 투자목적회사에 대해서는 제249조의\\n7제5항제1호 또는 제2호의 요건을 충족하는 경우 그 요건을 충족한 날부터 10년이 되는 날까지는 「금융지주회사법\\n」에 따른 금융지주회사로 보지 아니한다. 다만, 사모집합투자기구 또는 투자목적회사가 대통령령으로 정하는 1개\\n이상의 금융기관을 지배하는 경우에는 같은 법 제45조, 제45조의2부터 제45조의4까지 및 제48조를 준용한다.<개정\\n2021. 4. 20.>\\n④ 회사가 기관전용 사모집합투자기구의 업무집행사원 또는 일반 사모집합투자기구의 집합투자업자인 경우에는 「\\n금융지주회사법」 제45조의2부터 제45조의4까지의 규정을 준용한다. 이 경우 “은행지주회사의 주요출자자”는 “업무\\n집행사원 또는 집합투자업자” 또는 “업무집행사원 또는 집합투자업자의 대주주”로 본다.<개정 2021. 4. 20.>\\n⑤ 「금융지주회사법」에 따른 자회사는 같은 법 제19조에도 불구하고 사모집합투자기구의 지분을 취득할 수 있다.\\n<개정 2021. 4. 20.>\\n[본조신설 2015. 7. 24.]',\n",
       "   '제249조의20(기관전용 사모집합투자기구에 대한 특례) ① 제182조, 제183조제1항, 제184조제1항ㆍ제2항ㆍ제5항ㆍ제\\n6항, 제186조, 제213조부터 제215조까지,',\n",
       "   '제216조(같은 조 제3항 중 투자합자회사의 해산ㆍ청산에 관하여 준용하는\\n부분은 제외한다), 제217조, 제229조부터 제237조까지, 제238조제2항부터 제5항까지, 같은 조 제7항ㆍ제8항, 제\\n239조, 제240조제3항부터 제10항까지, 제241조, 제247조제1항부터 제4항까지, 같은 조 제5항제1호부터 제3호까지,\\n같은 항 제6호ㆍ제7호, 같은 조 제6항ㆍ제7항, 제248조, 제249조, 제249조의2부터 제249조의6까지, 제249조의8, 제\\n249조의9, 제250조, 제251조 및 제253조는 기관전용 사모집합투자기구에 적용하지 아니한다. <개정 2021. 4. 20.>\\n② 「상법」 제173조, 제198조, 제217조제2항, 제224조, 제274조 및 제286조는 기관전용 사모집합투자기구에 적용하\\n지 아니한다.<개정 2021. 4. 20.>\\n③ 「독점규제 및 공정거래에 관한 법률」 제25조제1항은 제249조의18제2항에 해당하는 상호출자제한기업집단에\\n속하는 기관전용 사모집합투자기구 또는 그 기관전용 사모집합투자기구가 투자한 투자목적회사가 소유하는 투자\\n목적회사 또는 투자대상기업[상호출자제한기업집단에 속하는 기관전용 사모집합투자기구 또는 그 기관전용 사모집\\n합투자기구가 투자한 투자목적회사의 「독점규제 및 공정거래에 관한 법률」 제9조제1항에 따른 특수관계인(동일인\\n및 그 친족에 한정한다)이 주식을 소유하고 있는 기업은 제외한다]의 지분증권에 대하여 의결권을 행사하는 경우에\\n법제처                                                            122                                                       국가법령정보센터\\n자본시장과 금융투자업에 관한 법률 \\n는 적용하지 아니한다.<개정 2020. 12. 29., 2021. 4. 20.>\\n④ 「독점규제 및 공정거래에 관한 법률」 제27조 및 제28조 중 유한책임사원의 현황과 관련된 것으로서 대통령령으\\n로 정하는 사항은 「독점규제 및 공정거래에 관한 법률」 제14조제1항에 따른 공시대상기업집단(이하 “공시대상기업\\n집단”이라 한다)의 계열회사인 기관전용 사모집합투자기구 또는 공시대상기업집단의 계열회사가 무한책임사원인\\n기관전용 사모집합투자기구 중에서 대통령령으로 정하는 기관전용 사모집합투자기구에 대해서는 적용하지 아니한\\n다.<개정 2020. 12. 29., 2021. 4. 20.>\\n[본조신설 2015. 7. 24.]\\n[제목개정 2021. 4. 20.]',\n",
       "   '제249조의21(기관전용 사모집합투자기구에 대한 조치) ① 금융위원회는 다음 각 호의 어느 하나에 해당하는 경우 기관\\n전용 사모집합투자기구의 해산을 명할 수 있다. <개정 2021. 4. 20.>\\n1. 제249조의10제4항ㆍ제6항 또는 제249조의11제8항에 따른 보고나 변경보고를 하지 아니한 경우\\n2. 거짓, 그 밖의 부정한 방법으로 제249조의10제4항ㆍ제6항 또는 제249조의11제8항에 따른 보고나 변경보고를 한\\n경우 \\n3. 기관전용 사모집합투자기구가 제249조의10제3항 각 호에 따른 요건을 갖추지 못한 경우\\n4. 별표 6 각 호의 어느 하나에 해당하는 경우로서 대통령령으로 정하는 경우\\n5. 금융관련 법령 중 대통령령으로 정하는 법령을 위반하는 경우로서 사회적 신용을 훼손하는 등 대통령령으로 정\\n하는 경우 \\n6. 제2항제3호에 따른 시정명령 또는 중지명령을 이행하지 아니한 경우\\n7. 그 밖에 금융시장의 안정 또는 건전한 거래질서를 현저히 해칠 우려가 있거나 기관전용 사모집합투자기구로서\\n존속하기 곤란하다고 인정되는 경우로서 대통령령으로 정하는 경우 \\n② 금융위원회는 기관전용 사모집합투자기구가 제1항 각 호(제4호는 제외한다)의 어느 하나에 해당하거나 별표 6\\n각 호의 어느 하나에 해당하는 경우에는 다음 각 호의 어느 하나에 해당하는 조치를 할 수 있다.<개정 2021. 4. 20.>\\n1. 6개월 이내의 업무의 전부 또는 일부의 정지\\n2. 계약의 인계명령\\n3. 위법행위의 시정명령 또는 중지명령\\n4. 위법행위로 인한 조치를 받았다는 사실의 공표명령 또는 게시명령\\n5. 기관경고\\n6. 기관주의\\n7. 그 밖에 위법행위를 시정하거나 방지하기 위하여 필요한 조치로서 대통령령으로 정하는 조치\\n③ 금융위원회는 기관전용 사모집합투자기구의 업무집행사원이 제1항 각 호(제4호는 제외한다)의 어느 하나에 해\\n당하거나 별표 6 각 호의 어느 하나에 해당하는 경우에는 다음 각 호의 어느 하나에 해당하는 조치를 할 수 있다.\\n<개정 2021. 4. 20.>\\n1. 그 업무집행사원에 대한 조치\\n가. 해임요구 \\n나. 6개월 이내의 직무정지 \\n다. 기관경고 \\n라. 기관주의 \\n마. 그 밖에 위법행위를 시정하거나 방지하기 위하여 필요한 조치로서 대통령령으로 정하는 조치 \\n2. 그 업무집행사원의 임원에 대한 조치\\n가. 해임요구 \\n나. 6개월 이내의 직무정지 \\n다. 문책경고\\n법제처                                                            123                                                       국가법령정보센터\\n자본시장과 금융투자업에 관한 법률 \\n라. 주의적 경고 \\n마. 그 밖에 위법행위를 시정하거나 방지하기 위하여 필요한 조치로서 대통령령으로 정하는 조치 \\n3. 그 업무집행사원의 직원에 대한 조치요구\\n가. 면직 \\n나. 6개월 이내의 정직 \\n다. 감봉 \\n라. 견책 \\n마. 주의 \\n바. 그 밖에 위법행위를 시정하거나 방지하기 위하여 필요한 조치로서 대통령령으로 정하는 조치 \\n④ 기관전용 사모집합투자기구 및 기관전용 사모집합투자기구의 업무집행사원에 대한 조치 등에 관하여는 제\\n422조제3항 및 제423조부터 제425조까지의 규정을 준용한다.<개정 2021. 4. 20.>\\n[본조신설 2015. 7. 24.]\\n[제목개정 2021. 4. 20.]',\n",
       "   '제249조의22(기업재무안정 사모집합투자기구 등에 대한 특례) ① 이 조에서 “기업재무안정 사모집합투자기구”란 다음\\n각 호의 어느 하나에 해당하는 재무구조개선기업(「금융산업의 구조개선에 관한 법률」에서 정하는 금융기관은 제외\\n한다. 이하 이 조에서 같다)의 경영정상화 및 재무안정 등을 위하여 제2항에서 정하는 바에 따라 투자ㆍ운용하여 그\\n수익을 투자자에게 배분하는 것을 목적으로 하는 사모집합투자기구를 말한다. <개정 2021. 4. 20.>\\n1. 「기업구조조정 촉진법」 제2조제7호에 따른 부실징후기업\\n2. 「채무자 회생 및 파산에 관한 법률」 제34조 또는 제35조에 따라 법원에 회생절차개시를 신청한 기업\\n3. 「채무자 회생 및 파산에 관한 법률」 제294조 또는 제295조에 따라 법원에 파산을 신청한 기업\\n4. 채권금융기관(대통령령으로 정하는 금융기관을 말한다)과 대통령령으로 정하는 재무구조개선을 위한 약정을 체\\n결한 기업 \\n5. 법인(그 계열회사를 포함한다)의 합병ㆍ전환ㆍ정리 등 대통령령으로 정하는 바에 따라 구조조정 또는 재무구조\\n개선 등을 하려는 기업 \\n6. 그 밖에 기업의 재무구조개선 또는 경영정상화의 추진이 필요한 기업으로서 대통령령으로 정하는 요건에 해당하\\n는 기업 \\n② 기업재무안정 사모집합투자기구는 그 집합투자재산을 운용할 때에는 사원이 출자한 날부터 6개월 이상의 기간\\n으로서 대통령령으로 정하는 기간 이내에 출자한 금액의 100분의 50 이상으로서 대통령령으로 정하는 비율 이상을\\n다음 각 호의 어느 하나에 해당하는 방법으로 운용하여야 하며, 그와 같이 운용하고 남은 재산은 대통령령으로 정하\\n는 바에 따라 운용할 수 있다.<개정 2021. 4. 20.>\\n1. 재무구조개선기업이 발행한 증권의 매매\\n2. 재무구조개선기업이 채무자인 대출채권 등 채권, 이에 수반되는 담보권 및 그 밖의 권리의 매매\\n3. 재무구조개선기업이 보유하고 있는 부동산, 영업권 등 경제적 가치가 있는 자산의 매매\\n4. 자산총액에서 부채총액을 뺀 가액을 초과하지 아니하는 범위에서의 재무구조개선기업에 대한 자금의 대여 및 지\\n급의 보증 \\n5. 제3항에 따른 투자목적회사의 지분증권에 대한 투자\\n③ 기업재무안정 사모집합투자기구가 주주 또는 사원인 경우로서 주주 또는 사원의 출자비율이 대통령령으로 정하\\n는 비율 이상인 투자목적회사는 제249조의13제1항제2호에도 불구하고 제2항제1호부터 제4호까지(제4호를 적용할\\n때 자산총액은 투자목적회사의 자산총액을 말한다)의 어느 하나에 해당하는 방법 및 그 밖에 대통령령으로 정하는\\n방법으로 재산을 운용할 수 있다.<개정 2021. 4. 20.>\\n④ 삭제<2021. 4. 20.>\\n⑤ 「국가재정법」 제13조제1항제2호부터 제5호까지의 기금을 관리하는 자는 해당 기금 여유자금운용액의 100분의\\n10의 범위에서 대통령령으로 정하는 비율 이내의 자금을 해당 기금운용계획에 따라 기업재무안정 사모집합투자기\\n법제처                                                            124                                                       국가법령정보센터\\n자본시장과 금융투자업에 관한 법률 \\n구에 출자할 수 있다. 이 경우 기금이 출자한 금액은 제3항의 투자목적회사에 출자한 금액을 합하여 산정한다.<개\\n정 2021. 4. 20.>\\n⑥ 기업재무안정 사모집합투자기구 및 제3항의 투자목적회사는 6개월 미만의 기간 중에는 취득한 지분증권을 처분\\n해서는 아니 된다. 다만, 그 지분증권을 계속 소유함으로써 사원의 이익을 명백히 해칠 우려가 있는 경우, 그 밖에\\n대통령령으로 정하는 경우로서 미리 금융위원회의 승인을 받은 경우에는 6개월 미만의 기간 중에 이를 처분할 수\\n있다.<개정 2021. 4. 20.>\\n⑦ 기업재무안정 사모집합투자기구의 집합투자재산 및 제3항의 투자목적회사 재산의 투자비율의 산정방식, 그 밖\\n에 기업재무안정 사모집합투자기구의 집합투자재산 및 제3항의 투자목적회사 재산의 운용 및 운용제한, 자금차입\\n한도 산정방법 등에 관하여 필요한 사항은 대통령령으로 정한다.<개정 2021. 4. 20.>\\n[본조신설 2016. 12. 20.]\\n[제목개정 2021. 4. 20.]',\n",
       "   '제249조의23(창업ㆍ벤처전문 사모집합투자기구 등에 대한 특례) ① 이 조에서 “창업ㆍ벤처전문 사모집합투자기구”란\\n다음 각 호의 어느 하나에 해당하는 기업(이하 이 조에서 “창업ㆍ벤처기업등”이라 한다)의 성장기반 조성 및 건전한\\n발전을 위하여 제2항에서 정하는 바에 따라 투자ㆍ운용하여 그 수익을 투자자에게 배분하는 것을 목적으로 하는 사\\n모집합투자기구를 말한다. <개정 2019. 12. 31., 2020. 2. 11., 2021. 4. 20., 2021. 12. 28., 2023. 6. 13., 2024. 1. 9.>\\n1. 「중소기업창업 지원법」 제2조제3호에 따른 창업기업. 다만, 해당 창업기업이 창업하거나 창업하여 사업을 개시\\n한 중소기업이 「중소기업창업 지원법」 제5조제1항 단서에 해당하는 업종의 중소기업인 경우는 제외한다. \\n2. 「벤처기업육성에 관한 특별법」 제2조제1항에 따른 벤처기업\\n3. 「중소기업 기술혁신 촉진법」 제15조에 따른 기술혁신형 중소기업 또는 같은 법 제15조의3에 따른 경영혁신형\\n중소기업 \\n4. 「기술보증기금법」 제2조제1호에 따른 신기술사업자\\n5. 「소재ㆍ부품ㆍ장비산업 경쟁력 강화 및 공급망 안정화를 위한 특별조치법」 제2조제5호에 따른 전문기업으로서\\n「중소기업기본법」 제2조에 따른 중소기업 \\n6. 그 밖에 성장기반 조성 및 건전한 발전이 필요한 「중소기업기본법」 제2조에 따른 중소기업으로서 대통령령으로\\n정하는 기업 \\n② 창업ㆍ벤처전문 사모집합투자기구는 그 집합투자재산을 운용할 때에는 사원이 출자한 날부터 6개월 이상의 기\\n간으로서 대통령령으로 정하는 기간 이내에 출자한 금액의 100분의 50 이상으로서 대통령령으로 정하는 비율 이상\\n을 다음 각 호의 어느 하나에 해당하는 방법으로 운용하여야 하며, 그와 같이 운용하고 남은 재산은 대통령령으로\\n정하는 바에 따라 운용할 수 있다.<개정 2021. 4. 20.>\\n1. 창업ㆍ벤처기업등이 발행한 증권에 대한 투자\\n2. 제3항에 따른 투자목적회사의 지분증권에 대한 투자\\n3. 그 밖에 창업ㆍ벤처기업등에 대한 자금 지원을 위하여 필요한 방법으로서 대통령령으로 정하는 방법\\n③ 창업ㆍ벤처전문 사모집합투자기구가 주주 또는 사원인 경우로서 주주 또는 사원의 출자비율이 대통령령으로 정\\n하는 비율 이상인 투자목적회사는 제249조의13제1항제2호에도 불구하고 제2항제1호ㆍ제3호 또는 그 밖에 대통령\\n령으로 정하는 방법으로 재산을 운용할 수 있다.<개정 2021. 4. 20.>\\n④ 창업ㆍ벤처전문 사모집합투자기구의 집합투자재산 및 제3항의 투자목적회사 재산의 투자비율의 산정방식, 그\\n밖에 창업ㆍ벤처전문 사모집합투자기구의 집합투자재산 및 제3항의 투자목적회사 재산의 운용 및 운용제한 등에\\n관하여 필요한 사항은 대통령령으로 정한다.<개정 2021. 4. 20.>\\n⑤ 창업ㆍ벤처전문 사모집합투자기구는 대통령령으로 정하는 바에 따라 제2항에 따른 집합투자재산 운용 현황, 그\\n밖에 대통령령으로 정하는 사항에 관하여 금융위원회에 보고하여야 한다.<개정 2021. 4. 20.>\\n[본조신설 2016. 12. 20.]\\n[제목개정 2021. 4. 20.]\\n법제처                                                            125                                                       국가법령정보센터\\n자본시장과 금융투자업에 관한 법률 \\n \\n         제3절 은행 및 보험회사에 대한 특칙 <신설 2015. 7. 24.>',\n",
       "   '제250조(은행에 대한 특칙) ① 은행으로서 제12조에 따라 집합투자업에 관한 금융투자업인가를 받은 자(이하 이 조에\\n서 “집합투자업겸영은행”이라 한다)는 인가받은 범위에서 투자신탁의 설정ㆍ해지 및 투자신탁재산의 운용업무를 영\\n위할 수 있다.\\n② 집합투자업겸영은행은 집합투자재산 운용업무와 관련한 의사결정을 위하여 제7항제1호ㆍ제3호ㆍ제4호의 업무\\n를 수행하지 아니하는 임원 3인(사외이사 2인을 포함한다)으로 구성된 집합투자재산운용위원회를 설치하여야 한다.\\n이 경우 집합투자재산운용위원회의 운영 등에 관하여 필요한 사항은 대통령령으로 정한다.\\n③ 집합투자업겸영은행은 투자신탁재산의 운용과 관련하여 다음 각 호의 어느 하나에 해당하는 행위를 하여서는\\n아니 된다.\\n1. 자기가 발행한 투자신탁의 수익증권을 자기의 고유재산으로 취득하는 행위\\n2. 자기가 운용하는 투자신탁의 투자신탁재산에 관한 정보를 다른 집합투자증권의 판매에 이용하는 행위\\n3. 자기가 운용하는 투자신탁의 수익증권을 다른 은행을 통하여 판매하는 행위\\n4. 제229조제5호의 단기금융집합투자기구를 설정하는 행위\\n④ 집합투자재산의 보관ㆍ관리업무를 영위하는 은행은 그 집합투자기구의 집합투자재산에 관한 정보를 자기가 운\\n용하는 투자신탁재산의 운용 또는 자기가 판매하는 집합투자증권의 판매를 위하여 이용하여서는 아니 된다.\\n⑤ 일반사무관리회사의 업무를 영위하는 은행은 해당 집합투자기구의 집합투자재산에 관한 정보를 자기가 운용하\\n는 투자신탁재산의 운용 또는 자기가 판매하는 집합투자증권의 판매를 위하여 이용하여서는 아니 된다.\\n⑥ 투자매매업 또는 투자중개업 인가를 받아 집합투자증권의 판매를 영위하는 은행은 다음 각 호의 어느 하나에 해\\n당하는 행위를 하여서는 아니 된다.\\n1. 자기가 판매하는 집합투자증권의 집합투자재산에 관한 정보를 자기가 운용하는 투자신탁재산의 운용 또는 자기\\n가 운용하는 투자신탁의 수익증권의 판매를 위하여 이용하는 행위 \\n2. 집합투자증권의 판매업무와 「은행법」에 따른 업무를 연계하여 정당한 사유 없이 고객을 차별하는 행위\\n⑦ 은행이 이 법에 따라 집합투자업, 신탁업(집합투자재산의 보관ㆍ관리업무를 포함한다. 이하 이 항에서 같다) 또\\n는 일반사무관리회사의 업무를 영위하는 경우에는 임원(사실상 임원과 동등한 지위에 있는 자로서 대통령령으로\\n정하는 자를 포함한다. 이하 이 항에서 같다)을 두어야 하고, 임직원에게 다음 각 호의 업무를 겸직하게 하여서는 아\\n니 되며, 전산설비 또는 사무실 등의 공동사용 금지 및 다른 업무를 영위하는 임직원 간의 정보교류 제한 등 대통령\\n령으로 정하는 이해상충방지체계를 갖추어야 한다. 다만, 임원의 경우 제1호의 업무 중 제2호부터 제4호까지의 업\\n무와 이해상충이 적은 업무로서 대통령령으로 정하는 업무와 제2호부터 제4호까지의 업무를 겸직할 수 있으며, 제\\n3호 및 제4호의 업무 간에는 겸직할 수 있다.<개정 2009. 2. 3., 2013. 5. 28.>\\n1. 「은행법」에 따른 업무(제2호부터 제4호까지의 업무 및 대통령령으로 정하는 업무는 제외한다)\\n2. 집합투자업\\n3. 신탁업\\n4. 일반사무관리회사의 업무',\n",
       "   '제251조(보험회사에 대한 특칙) ① 보험회사로서 제12조에 따라 집합투자업에 관한 금융투자업인가를 받은 자(이하 이\\n조에서 “집합투자업겸영보험회사”라 한다)는 인가받은 범위에서 투자신탁의 설정ㆍ해지 및 투자신탁재산의 운용업\\n무를 영위할 수 있다. 이 경우 투자신탁의 설정ㆍ해지 및 투자신탁재산의 운용업무는 「보험업법」 제108조제1항제\\n3호에 따른 특별계정(특별계정 내에 각각의 신탁계약에 의하여 설정된 다수의 투자신탁이 있는 경우 각각의 투자신\\n탁을 말한다. 이하 이 항에서 같다)에 한하며, 그 특별계정은 이 법에 따른 투자신탁으로 본다.\\n② 제250조제3항(제2호에 한한다)은 집합투자업겸영보험회사에 준용하며, 같은 조 제4항부터 제6항까지의 규정은\\n보험회사에 준용한다. 이 경우 “은행”은 “보험회사”로, “「은행법」”은 “「보험업법」”으로 본다.\\n법제처                                                            126                                                       국가법령정보센터\\n자본시장과 금융투자업에 관한 법률 \\n③ 보험회사는 이 법에 따라 집합투자업, 신탁업(집합투자재산의 보관ㆍ관리업무를 포함한다. 이하 이 항에서 같다)\\n또는 일반사무관리회사의 업무를 영위하는 경우에는 임원(대통령령으로 정하는 방법으로 투자신탁재산을 운용하는\\n경우의 임원을 제외하며, 사실상 임원과 동등한 지위에 있는 자로서 대통령령으로 정하는 자를 포함한다. 이하 이\\n항에서 같다)을 두어야 하고, 임직원에게 다음 각 호의 업무를 겸직하게 하여서는 아니 되며, 전산설비 또는 사무실\\n등의 공동사용 금지 및 다른 업무를 영위하는 임직원 간의 정보교류 제한 등 대통령령으로 정하는 이해상충방지체\\n계를 갖추어야 한다. 다만, 임원의 경우 제1호의 업무 중 제2호부터 제4호까지의 업무와 이해상충이 적은 업무로서\\n대통령령으로 정하는 업무와 제2호부터 제4호까지의 업무를 겸직할 수 있으며, 제3호 및 제4호의 업무 간에는 겸직\\n할 수 있다.<개정 2009. 2. 3., 2013. 5. 28.>\\n1. 「보험업법」에 따른 업무(제2호부터 제4호까지의 업무 및 대통령령으로 정하는 업무는 제외한다)\\n2. 집합투자업\\n3. 신탁업\\n4. 일반사무관리회사의 업무\\n④ 집합투자업겸영보험회사는 제83조제4항에 불구하고 투자신탁재산에 속하는 자산을 「보험업법」에서 정하는 방\\n법에 따라 그 보험에 가입한 자에게 대출하는 방법으로 운용할 수 있다.\\n⑤ 제182조, 제183조제1항, 제188조제1항제2호ㆍ제6호, 같은 조 제2항 각 호 외의 부분 후단 및 같은 조 제3항, 제\\n189조부터 제191조까지,',\n",
       "   '제192조(같은 조 제1항 단서는 제외한다), 제193조, 제230조, 제235조부터 제237조까지,\\n제238조제2항(대통령령으로 정하는 방법으로 투자신탁재산을 운용하는 경우에 한한다), 제239조제3항, 제253조제\\n1항 및 제420조제1항은 집합투자업겸영보험회사가 운용하는 투자신탁에 관하여는 적용하지 아니한다.<개정 2013.\\n5. 28.>\\n⑥ 제82조, 제86조, 제89조제1항제4호, 제90조 및 제92조는 보험회사의 집합투자업 영위에 관하여는 적용하지 아니\\n한다.<개정 2009. 2. 3.>'],\n",
       "  '제8장 감독ㆍ검사': ['제252조(투자회사등에 대한 감독ㆍ검사) ① 금융위원회는 투자자를 보호하고 건전한 거래질서를 유지하기 위하여 투\\n자회사등(기관전용 사모집합투자기구는 제외한다. 이하 이 조에서 같다)에 대하여 다음 각 호의 사항에 관하여 필요\\n한 조치를 명할 수 있다. <개정 2008. 2. 29., 2021. 4. 20.>\\n1. 집합투자재산의 운용에 관한 사항\\n2. 집합투자재산의 공시에 관한 사항\\n3. 그 밖에 투자자 보호 또는 건전한 거래질서를 위하여 필요한 사항으로서 대통령령으로 정하는 사항\\n②',\n",
       "   '제419조(제2항부터 제4항까지 및 제8항을 제외한다)는 투자회사등에 대한 검사에 관하여 준용한다.',\n",
       "   '제253조(집합투자기구의 등록취소 등) ① 금융위원회는 다음 각 호의 어느 하나에 해당하는 경우에는 집합투자기구의\\n등록을 취소할 수 있다. 다만, 제3호의 경우에는 등록을 취소하여야 한다. <개정 2008. 2. 29.>\\n1. 거짓, 그 밖의 부정한 방법으로 제182조제1항 또는 제8항에 따른 등록이나 변경등록을 한 경우\\n2. 제182조제2항 각 호에 따른 등록요건을 갖추지 못하게 된 경우\\n3. 집합투자기구가 해지 또는 해산한 경우\\n4. 투자회사의 순자산액이 3개월 이상 계속하여 제194조제2항제7호에 따른 최저순자산액에 미달하는 경우\\n5. 제182조제8항에 따른 변경등록을 하지 아니한 경우\\n6. 금융위원회의 시정명령 또는 중지명령을 이행하지 아니한 경우\\n7. 별표 2 각 호의 어느 하나에 해당하는 경우로서 대통령령으로 정하는 경우\\n8. 대통령령으로 정하는 금융관련 법령 등을 위반한 경우로서 대통령령으로 정하는 경우\\n9. 그 밖에 투자자의 이익을 현저히 해할 우려가 있거나 집합투자기구로서 존속하기 곤란하다고 인정되는 경우로서\\n대통령령으로 정하는 경우\\n법제처                                                            127                                                       국가법령정보센터\\n자본시장과 금융투자업에 관한 법률 \\n② 금융위원회는 투자회사등(그 집합투자업자 또는 그 법인이사ㆍ업무집행사원ㆍ업무집행조합원을 포함한다)이 제\\n1항 각 호(제7호를 제외한다)의 어느 하나에 해당하거나 별표 2 각 호의 어느 하나에 해당하는 경우에는 그 투자회\\n사등에 대하여 다음 각 호의 어느 하나에 해당하는 조치를 할 수 있다.<개정 2008. 2. 29.>\\n1. 6개월 이내의 업무의 전부 또는 일부의 정지\\n2. 계약의 인계명령\\n3. 위법행위의 시정명령 또는 중지명령\\n4. 위법행위로 인한 조치를 받았다는 사실의 공표명령 또는 게시명령\\n5. 기관경고\\n6. 기관주의\\n7. 그 밖에 위법행위를 시정하거나 방지하기 위하여 필요한 조치로서 대통령령으로 정하는 조치\\n③ 금융위원회는 투자회사의 감독이사가 다음 각 호의 어느 하나에 해당하는 경우에는 해임요구, 6개월 이내의 직\\n무정지, 문책경고, 주의적 경고, 주의, 그 밖에 대통령령으로 정하는 조치를 할 수 있다.<개정 2008. 2. 29., 2020. 5.\\n19.>\\n1. 제195조제1항 각 호 외의 부분 단서를 위반하여 정관을 변경한 경우\\n2. 제199조제5항에서 준용하는 제54조제1항을 위반하여 정당한 사유 없이 직무관련 정보를 이용한 경우\\n3. 제200조제3항을 위반하여 결의한 경우\\n4. 제247조제2항을 위반하여 시정을 요구하지 아니하거나, 같은 조 제3항을 위반하여 보고 또는 공시에 관한 업무\\n를 이행하지 아니한 경우 \\n5. 그 밖에 투자자 보호 또는 건전한 거래질서를 해할 우려가 있는 경우로서 대통령령으로 정하는 경우\\n④ 금융위원회는 다음 각 호의 어느 하나에 해당하는 경우에는 교차판매 집합투자기구의 등록을 취소할 수 있다. 다\\n만, 제1호 및 제4호의 경우에는 등록을 취소하여야 한다.<신설 2019. 11. 26.>\\n1. 거짓이나 그 밖의 부정한 방법으로 제182조의2제1항 또는 제3항에 따른 등록이나 변경등록을 한 경우\\n2. 제182조의2제2항 각 호에 따른 등록요건을 갖추지 못하게 된 경우\\n3. 제182조의2제3항에 따른 변경등록을 하지 아니한 경우\\n4. 제1항에 따라 집합투자기구의 등록이 취소된 경우\\n5. 그 밖에 투자자의 이익을 현저히 해할 우려가 있거나 교차판매 집합투자기구로서 존속하기 곤란하다고 인정되는\\n경우로서 대통령령으로 정하는 경우 \\n⑤ 금융위원회는 제1항 또는 제4항에 따라 집합투자기구 또는 교차판매 집합투자기구의 등록을 취소하거나, 제3항\\n에 따라 투자회사의 감독이사에 대한 해임요구를 하고자 하는 경우에는 청문을 실시하여야 한다.<개정 2008. 2.\\n29., 2019. 11. 26.>\\n⑥ 제424조 및 제425조는 집합투자기구 및 투자회사의 감독이사에 대한 조치 등에 관하여 준용한다.<개정 2019.\\n11. 26.>'],\n",
       "  '제9장 집합투자기구의 관계회사': ['제254조(일반사무관리회사) ① 제184조제6항에 따라 투자회사의 위탁을 받아 같은 조 제6항 각 호의 업무를 영위하거\\n나, 투자신탁이나 투자익명조합의 집합투자업자 또는 투자회사등의 위탁을 받아 제238조제6항에 따른 집합투자증\\n권의 기준가격 산정 및 그 밖에 이와 관련된 업무로서 대통령령으로 정하는 업무를 영위하려는 자는 금융위원회에\\n등록하여야 한다. <개정 2008. 2. 29., 2021. 6. 8.>\\n② 제1항에 따른 등록을 하려는 자는 다음 각 호의 요건을 모두 갖추어야 한다.<개정 2013. 5. 28., 2015. 7. 31.,\\n2016. 3. 22.>\\n1. 다음 각 목의 어느 하나에 해당할 것\\n가. 「상법」에 따른 주식회사\\n법제처                                                            128                                                       국가법령정보센터\\n자본시장과 금융투자업에 관한 법률 \\n나. 명의개서대행회사 \\n다. 그 밖에 대통령령으로 정하는 금융기관 \\n2. 5억원 이상으로서 대통령령으로 정하는 금액 이상의 자기자본을 갖출 것\\n3. 상근 임직원 중 대통령령으로 정하는 기준의 전문인력을 보유할 것\\n4. 전산설비 등 대통령령으로 정하는 물적 설비를 갖출 것\\n5. 임원이 「금융회사의 지배구조에 관한 법률」 제5조에 적합할 것\\n6. 대통령령으로 정하는 이해상충방지체계를 구축하고 있을 것(대통령령으로 정하는 금융업을 영위하고 있는 경우\\n에 한한다) \\n③ 제1항에 따른 등록을 하려는 자는 금융위원회에 등록신청서를 제출하여야 한다.<개정 2008. 2. 29.>\\n④ 금융위원회는 제3항의 등록신청서를 접수한 경우에는 그 내용을 검토하여 30일 이내에 등록 여부를 결정하고,\\n그 결과와 이유를 지체 없이 신청인에게 문서로 통지하여야 한다. 이 경우 등록신청서에 흠결이 있는 때에는 보완을\\n요구할 수 있다.<개정 2008. 2. 29.>\\n⑤ 제4항의 검토기간을 산정함에 있어서 등록신청서 흠결의 보완기간 등 총리령으로 정하는 기간은 검토기간에 산\\n입하지 아니한다.<개정 2008. 2. 29.>\\n⑥ 금융위원회는 제4항의 등록 여부를 결정함에 있어서 다음 각 호의 어느 하나에 해당하는 사유가 없는 한 그 등\\n록을 거부하여서는 아니 된다.<개정 2008. 2. 29.>\\n1. 제2항의 등록요건을 갖추지 아니한 경우\\n2. 제3항의 등록신청서를 거짓으로 작성한 경우\\n3. 제4항 후단의 보완요구를 이행하지 아니한 경우\\n⑦ 금융위원회는 제4항에 따라 등록을 결정한 경우 일반사무관리회사등록부에 필요한 사항을 기재하여야 하며, 등\\n록결정한 내용을 관보 및 인터넷 홈페이지 등에 공고하여야 한다.<개정 2008. 2. 29.>\\n⑧ 제1항에 따라 등록을 한 자(이하 “일반사무관리회사”라 한다)는 등록 이후 그 영업을 영위함에 있어서 제2항 각\\n호의 등록요건(같은 항 제2호의 경우에는 대통령령으로 정하는 완화된 요건을 말한다)을 계속 유지하여야 한다.\\n⑨ 제1항부터 제7항까지의 규정에 따른 등록신청서의 기재사항ㆍ첨부서류 등 등록의 신청에 관한 사항과 등록검토\\n의 방법ㆍ절차, 그 밖에 필요한 사항은 대통령령으로 정한다.',\n",
       "   '제255조(준용규정) 제42조, 제54조, 제60조 및 제64조는 일반사무관리회사에 준용한다.',\n",
       "   '제256조(일반사무관리회사에 대한 감독ㆍ검사) ① 금융위원회는 투자자를 보호하고 건전한 거래질서를 유지하기 위하\\n여 일반사무관리회사에 대하여 다음 각 호의 사항에 관하여 필요한 조치를 명할 수 있다. <개정 2008. 2. 29.>\\n1. 고유재산의 운용에 관한 사항\\n2. 영업의 질서 유지에 관한 사항\\n3. 영업방법에 관한 사항\\n4. 그 밖에 투자자 보호 또는 건전한 거래질서를 위하여 필요한 사항으로서 대통령령으로 정하는 사항\\n②',\n",
       "   '제419조(제2항부터 제4항까지 및 제8항을 제외한다)는 일반사무관리회사에 대한 검사에 관하여 준용한다.',\n",
       "   '제257조(일반사무관리회사에 대한 처분) ① 금융위원회는 일반사무관리회사가 별표 3 각 호의 어느 하나에 해당하는\\n경우에는 제254조제1항에 따른 등록을 취소할 수 있다. <개정 2008. 2. 29.>\\n② 금융위원회는 일반사무관리회사가 별표 3 각 호의 어느 하나에 해당하는 경우에는 다음 각 호의 어느 하나에 해\\n당하는 조치를 할 수 있다.<개정 2008. 2. 29.>\\n1. 6개월 이내의 업무의 전부 또는 일부의 정지\\n2. 계약의 인계명령\\n3. 위법행위의 시정명령 또는 중지명령\\n4. 위법행위로 인한 조치를 받았다는 사실의 공표명령 또는 게시명령\\n법제처                                                            129                                                       국가법령정보센터\\n자본시장과 금융투자업에 관한 법률 \\n5. 기관경고\\n6. 기관주의\\n7. 그 밖에 위법행위를 시정하거나 방지하기 위하여 필요한 조치로서 대통령령으로 정하는 조치\\n③ 금융위원회는 일반사무관리회사의 임원이 별표 3 각 호의 어느 하나에 해당하는 경우에는 다음 각 호의 어느 하\\n나에 해당하는 조치를 할 수 있다.<개정 2008. 2. 29.>\\n1. 해임요구\\n2. 6개월 이내의 직무정지\\n3. 문책경고\\n4. 주의적 경고\\n5. 주의\\n6. 그 밖에 위법행위를 시정하거나 방지하기 위하여 필요한 조치로서 대통령령으로 정하는 조치\\n④ 금융위원회는 일반사무관리회사의 직원이 별표 3 각 호의 어느 하나에 해당하는 경우에는 다음 각 호의 어느 하\\n나에 해당하는 조치를 그 일반사무관리회사에 요구할 수 있다.<개정 2008. 2. 29.>\\n1. 면직\\n2. 6개월 이내의 정직\\n3. 감봉\\n4. 견책\\n5. 경고\\n6. 주의\\n7. 그 밖에 위법행위를 시정하거나 방지하기 위하여 필요한 조치로서 대통령령으로 정하는 조치\\n⑤ 제422조제3항 및 제423조부터 제425조까지의 규정은 일반사무관리회사 및 그 임직원에 대한 조치 등에 관하여\\n준용한다.',\n",
       "   '제258조(집합투자기구평가회사) ① 집합투자기구를 평가하고 이를 투자자에게 제공하는 업무를 영위하려는 자는 금융\\n위원회에 등록하여야 한다. <개정 2008. 2. 29.>\\n② 제1항에 따른 등록을 하려는 자는 다음 각 호의 요건을 모두 갖추어야 한다.<개정 2013. 5. 28., 2015. 7. 31.>\\n1. 「상법」에 따른 주식회사일 것\\n2. 투자매매업자ㆍ투자중개업자 또는 집합투자업자와 그 계열회사가 아닐 것\\n3. 1억원 이상으로서 대통령령으로 정하는 금액 이상의 자기자본을 갖출 것\\n4. 상근 임직원 중 대통령령으로 정하는 기준의 전문인력을 보유할 것\\n5. 전산설비 등 대통령령으로 정하는 물적 설비를 갖출 것\\n6. 임원이 「금융회사의 지배구조에 관한 법률」 제5조에 적합할 것\\n7. 대통령령으로 정하는 집합투자기구평가체계를 갖출 것\\n8. 대통령령으로 정하는 이해상충방지체계를 구축하고 있을 것(대통령령으로 정하는 금융업을 영위하고 있는 경우\\n에 한한다) \\n③ 제1항에 따른 등록을 하려는 자는 금융위원회에 등록신청서를 제출하여야 한다.<개정 2008. 2. 29.>\\n④ 금융위원회는 제3항의 등록신청서를 접수한 경우에는 그 내용을 검토하여 30일 이내에 등록 여부를 결정하고,\\n그 결과와 이유를 지체 없이 신청인에게 문서로 통지하여야 한다. 이 경우 등록신청서에 흠결이 있는 때에는 보완을\\n요구할 수 있다.<개정 2008. 2. 29.>\\n⑤ 제4항의 검토기간을 산정함에 있어서 등록신청서 흠결의 보완기간 등 총리령으로 정하는 기간은 검토기간에 산\\n입하지 아니한다.<개정 2008. 2. 29.>\\n⑥ 금융위원회는 제4항의 등록 여부를 결정함에 있어서 다음 각 호의 어느 하나에 해당하는 사유가 없는 한 그 등\\n록을 거부하여서는 아니 된다.<개정 2008. 2. 29.>\\n법제처                                                            130                                                       국가법령정보센터\\n자본시장과 금융투자업에 관한 법률 \\n1. 제2항의 등록요건을 갖추지 아니한 경우\\n2. 제3항의 등록신청서를 거짓으로 작성한 경우\\n3. 제4항 후단의 보완요구를 이행하지 아니한 경우\\n⑦ 금융위원회는 제4항에 따라 등록을 결정한 경우 집합투자기구평가회사등록부에 필요한 사항을 기재하여야 하며\\n, 등록결정한 내용을 관보 및 인터넷 홈페이지 등에 공고하여야 한다.<개정 2008. 2. 29.>\\n⑧ 제1항에 따라 등록을 한 자(이하 “집합투자기구평가회사”라 한다)는 등록 이후 그 영업을 영위함에 있어서 제2항\\n각 호의 등록요건(같은 항 제3호의 경우에는 대통령령으로 정하는 완화된 요건을 말한다)을 계속 유지하여야 한다.\\n⑨ 제1항부터 제7항까지의 규정에 따른 등록신청서의 기재사항ㆍ첨부서류 등 등록의 신청에 관한 사항과 등록검토\\n의 방법ㆍ절차, 그 밖에 필요한 사항은 대통령령으로 정한다.',\n",
       "   '제259조(영업행위준칙 등) ① 집합투자기구평가회사는 대통령령으로 정하는 사항이 포함된 영업행위준칙을 제정하여\\n야 한다.\\n② 집합투자업자는 집합투자재산의 명세를 대통령령으로 정하는 방법에 따라 집합투자기구평가회사에 제공할 수\\n있다.\\n③ 집합투자기구평가회사의 평가기준의 공시방법 등에 관하여 필요한 사항은 대통령령으로 정한다.',\n",
       "   '제260조(준용규정) 제54조, 제60조 및 제64조는 집합투자기구평가회사에 준용한다.',\n",
       "   '제261조(집합투자기구평가회사에 대한 감독ㆍ검사) ① 금융위원회는 투자자를 보호하고 건전한 거래질서를 유지하기\\n위하여 집합투자기구평가회사에 대하여 다음 각 호의 사항에 관하여 필요한 조치를 명할 수 있다. <개정 2008. 2.\\n29.>\\n1. 고유재산의 운용에 관한 사항\\n2. 영업의 질서 유지에 관한 사항\\n3. 영업방법에 관한 사항\\n4. 그 밖에 투자자 보호 또는 건전한 거래질서를 위하여 필요한 사항으로서 대통령령으로 정하는 사항\\n②',\n",
       "   '제419조(제2항부터 제4항까지 및 제8항을 제외한다)는 집합투자기구평가회사에 대한 검사에 관하여 준용한다.',\n",
       "   '제262조(집합투자기구평가회사에 대한 조치) ① 금융위원회는 집합투자기구평가회사가 별표 4 각 호의 어느 하나에 해\\n당하는 경우에는 제258조제1항에 따른 등록을 취소할 수 있다. <개정 2008. 2. 29.>\\n② 금융위원회는 집합투자기구평가회사가 별표 4 각 호의 어느 하나에 해당하는 경우에는 다음 각 호의 어느 하나\\n에 해당하는 조치를 할 수 있다.<개정 2008. 2. 29.>\\n1. 6개월 이내의 업무의 전부 또는 일부의 정지\\n2. 계약의 인계명령\\n3. 위법행위의 시정명령 또는 중지명령\\n4. 위법행위로 인한 조치를 받았다는 사실의 공표명령 또는 게시명령\\n5. 기관경고\\n6. 기관주의\\n7. 그 밖에 위법행위를 시정하거나 방지하기 위하여 필요한 조치로서 대통령령으로 정하는 조치\\n③ 금융위원회는 집합투자기구평가회사의 임원이 별표 4 각 호의 어느 하나에 해당하는 경우에는 다음 각 호의 어\\n느 하나에 해당하는 조치를 할 수 있다.<개정 2008. 2. 29.>\\n1. 해임요구\\n2. 6개월 이내의 직무정지\\n3. 문책경고\\n4. 주의적 경고\\n법제처                                                            131                                                       국가법령정보센터\\n자본시장과 금융투자업에 관한 법률 \\n5. 주의\\n6. 그 밖에 위법행위를 시정하거나 방지하기 위하여 필요한 조치로서 대통령령으로 정하는 조치\\n④ 금융위원회는 집합투자기구평가회사의 직원이 별표 4 각 호의 어느 하나에 해당하는 경우에는 다음 각 호의 어\\n느 하나에 해당하는 조치를 그 집합투자기구평가회사에 요구할 수 있다.<개정 2008. 2. 29.>\\n1. 면직\\n2. 6개월 이내의 정직\\n3. 감봉\\n4. 견책\\n5. 경고\\n6. 주의\\n7. 그 밖에 위법행위를 시정하거나 방지하기 위하여 필요한 조치로서 대통령령으로 정하는 조치\\n⑤ 제422조제3항 및 제423조부터 제425조까지의 규정은 집합투자기구평가회사 및 그 임직원에 대한 조치 등에 관\\n하여 준용한다.',\n",
       "   '제263조(채권평가회사) ① 집합투자재산에 속하는 채권 등 자산의 가격을 평가하고 이를 집합투자기구에게 제공하는\\n업무를 영위하려는 자는 금융위원회에 등록하여야 한다. <개정 2008. 2. 29.>\\n② 제1항에 따른 등록을 하려는 자는 다음 각 호의 요건을 모두 갖추어야 한다.<개정 2013. 5. 28., 2015. 7. 31.>\\n1. 「상법」에 따른 주식회사일 것\\n2. 20억원 이상으로서 대통령령으로 정하는 금액 이상의 자기자본을 갖출 것\\n3. 상호출자제한기업집단의 출자액 또는 대통령령으로 정하는 금융기관의 출자액이 각각 100분의 10 이하일 것\\n4. 상근 임직원 중 대통령령으로 정하는 기준의 전문인력을 보유할 것\\n5. 전산설비 등 대통령령으로 정하는 물적 설비를 갖출 것\\n6. 임원이 「금융회사의 지배구조에 관한 법률」 제5조에 적합할 것\\n7. 대통령령으로 정하는 채권 등의 가격평가체계를 갖출 것\\n8. 대통령령으로 정하는 이해상충방지체계를 구축하고 있을 것(대통령령으로 정하는 금융업을 영위하고 있는 경우\\n에 한한다) \\n③ 제1항에 따른 등록을 하려는 자는 금융위원회에 등록신청서를 제출하여야 한다.<개정 2008. 2. 29.>\\n④ 금융위원회는 제3항의 등록신청서를 접수한 경우에는 그 내용을 검토하여 30일 이내에 등록 여부를 결정하고,\\n그 결과와 이유를 지체 없이 신청인에게 문서로 통지하여야 한다. 이 경우 등록신청서에 흠결이 있는 때에는 보완을\\n요구할 수 있다.<개정 2008. 2. 29.>\\n⑤ 제4항의 검토기간을 산정함에 있어서 등록신청서 흠결의 보완기간 등 총리령으로 정하는 기간은 검토기간에 산\\n입하지 아니한다.<개정 2008. 2. 29.>\\n⑥ 금융위원회는 제4항의 등록 여부를 결정함에 있어서 다음 각 호의 어느 하나에 해당하는 사유가 없는 한 그 등\\n록을 거부하여서는 아니 된다.<개정 2008. 2. 29.>\\n1. 제2항의 등록요건을 갖추지 아니한 경우\\n2. 제3항의 등록신청서를 거짓으로 작성한 경우\\n3. 제4항 후단의 보완요구를 이행하지 아니한 경우\\n⑦ 금융위원회는 제4항에 따라 등록을 결정한 경우 채권평가회사등록부에 필요한 사항을 기재하여야 하며, 등록결\\n정한 내용을 관보 및 인터넷 홈페이지 등에 공고하여야 한다.<개정 2008. 2. 29.>\\n⑧ 제1항에 따라 등록을 한 자(이하 “채권평가회사”라 한다)는 등록 이후 그 영업을 영위함에 있어서 제2항 각 호의\\n등록요건(같은 항 제2호의 경우에는 대통령령으로 정하는 완화된 요건을 말한다)을 계속 유지하여야 한다.\\n⑨ 제1항부터 제7항까지의 규정에 따른 등록신청서의 기재사항ㆍ첨부서류 등 등록의 신청에 관한 사항과 등록검토\\n의 방법ㆍ절차, 그 밖에 필요한 사항은 대통령령으로 정한다.\\n법제처                                                            132                                                       국가법령정보센터\\n자본시장과 금융투자업에 관한 법률',\n",
       "   '제264조(업무준칙 등) ① 채권평가회사는 대통령령으로 정하는 사항이 포함된 업무준칙을 제정하여야 한다.\\n② 채권평가회사의 증권평가기준 공시방법 등에 관하여 필요한 사항은 대통령령으로 정한다.',\n",
       "   '제265조(준용규정) 제54조, 제60조 및 제64조는 채권평가회사에 준용한다.',\n",
       "   '제266조(채권평가회사에 대한 감독ㆍ검사) ① 금융위원회는 투자자를 보호하고 건전한 거래질서를 유지하기 위하여\\n채권평가회사에 대하여 다음 각 호의 사항에 관하여 필요한 조치를 명할 수 있다. <개정 2008. 2. 29.>\\n1. 고유재산의 운용에 관한 사항\\n2. 영업의 질서 유지에 관한 사항\\n3. 영업방법에 관한 사항\\n4. 그 밖에 투자자 보호 또는 건전한 거래질서를 위하여 필요한 사항으로서 대통령령으로 정하는 사항\\n②',\n",
       "   '제419조(제2항부터 제4항까지 및 제8항을 제외한다)는 채권평가회사에 대한 검사에 관하여 준용한다.',\n",
       "   '제267조(채권평가회사에 대한 조치) ① 금융위원회는 채권평가회사가 별표 5 각 호의 어느 하나에 해당하는 경우에는\\n제263조제1항에 따른 등록을 취소할 수 있다. <개정 2008. 2. 29.>\\n② 금융위원회는 채권평가회사가 별표 5 각 호의 어느 하나에 해당하는 경우에는 다음 각 호의 어느 하나에 해당하\\n는 조치를 할 수 있다.<개정 2008. 2. 29.>\\n1. 6개월 이내의 업무의 전부 또는 일부의 정지\\n2. 계약의 인계명령\\n3. 위법행위의 시정명령 또는 중지명령\\n4. 위법행위로 인한 조치를 받았다는 사실의 공표명령 또는 게시명령\\n5. 기관경고\\n6. 기관주의\\n7. 그 밖에 위법행위를 시정하거나 방지하기 위하여 필요한 조치로서 대통령령으로 정하는 조치\\n③ 금융위원회는 채권평가회사의 임원이 별표 5 각 호의 어느 하나에 해당하는 경우에는 다음 각 호의 어느 하나에\\n해당하는 조치를 할 수 있다.<개정 2008. 2. 29.>\\n1. 해임요구\\n2. 6개월 이내의 직무정지\\n3. 문책경고\\n4. 주의적 경고\\n5. 주의\\n6. 그 밖에 위법행위를 시정하거나 방지하기 위하여 필요한 조치로서 대통령령으로 정하는 조치\\n④ 금융위원회는 채권평가회사의 직원이 별표 5 각 호의 어느 하나에 해당하는 경우에는 다음 각 호의 어느 하나에\\n해당하는 조치를 그 채권평가회사에 요구할 수 있다.<개정 2008. 2. 29.>\\n1. 면직\\n2. 6개월 이내의 정직\\n3. 감봉\\n4. 견책\\n5. 경고\\n6. 주의\\n7. 그 밖에 위법행위를 시정하거나 방지하기 위하여 필요한 조치로서 대통령령으로 정하는 조치\\n⑤ 제422조제3항 및 제423조부터 제425조까지의 규정은 채권평가회사 및 그 임직원에 대한 조치 등에 관하여 준용\\n한다.\\n법제처                                                            133                                                       국가법령정보센터\\n자본시장과 금융투자업에 관한 법률'],\n",
       "  '제10장 삭제 <2015. 7. 24.>': [],\n",
       "  '제11장 외국 집합투자증권에 대한 특례': ['제279조(외국 집합투자기구의 등록 등) ① 외국 투자신탁(투자신탁과 유사한 것으로서 외국 법령에 따라 설정된 투자\\n신탁을 말한다. 이하 같다)이나 외국 투자익명조합(투자익명조합과 유사한 것으로서 외국 법령에 따라 설립된 투자\\n익명조합을 말한다. 이하 같다)의 외국 집합투자업자(외국 법령에 따라 집합투자업에 상당하는 영업을 영위하는 자\\n를 말한다. 이하 같다) 또는 외국 투자회사등(외국 법령에 따라 설립된 투자회사등을 말한다. 이하 같다)은 외국 집합\\n투자증권(집합투자증권과 유사한 것으로서 외국 법령에 따라 외국에서 발행된 것을 말한다. 이하 같다)을 국내에서\\n판매하고자 하는 경우에는 해당 외국 집합투자기구(집합투자기구와 유사한 것으로서 외국 법령에 따라 설정ㆍ설립\\n된 것을 말한다. 이하 같다)를 금융위원회에 등록하여야 한다. <개정 2008. 2. 29.>\\n② 외국 투자신탁이나 외국 투자익명조합의 외국 집합투자업자 또는 외국 투자회사등은 제1항에 따라 외국 집합투\\n자기구를 등록하고자 하는 경우 대통령령으로 정하는 외국 집합투자업자 적격 요건 및 외국 집합투자증권 판매적\\n격 요건을 갖추어야 한다. 이 경우 다음 각 호의 어느 하나에 해당하는 경우에는 외국 집합투자업자 적격 요건 및\\n외국 집합투자증권 판매적격 요건을 달리 정할 수 있다.<개정 2019. 11. 26.>\\n1. 전문투자자 중 대통령령으로 정하는 자만을 대상으로 외국 집합투자증권을 판매하려는 경우\\n2. 교차판매협약등을 체결한 외국에서 교차판매협약등에 따라 설정ㆍ설립된 것으로 인정되는 외국 집합투자기구의\\n집합투자증권을 판매하려는 경우 \\n③ 제182조제2항부터 제9항까지의 규정은 제1항에 따른 외국 집합투자기구의 등록에 관하여 준용한다. 이 경우 같\\n은 조 제2항제2호 중 “이 법”은 “외국 집합투자기구가 설정ㆍ설립된 국가의 법”으로 본다.\\n법제처                                                            134                                                       국가법령정보센터\\n자본시장과 금융투자업에 관한 법률',\n",
       "   '제280조(외국 집합투자증권의 국내판매) ① 외국 투자신탁이나 외국 투자익명조합의 외국 집합투자업자 또는 외국 투\\n자회사등은 외국 집합투자증권을 국내에서 판매하는 경우에는 투자매매업자 또는 투자중개업자를 통하여 판매하여\\n야 한다.\\n② 외국 집합투자업자는 제88조에 따른 자산운용보고서를 작성하여 3개월마다 1회 이상 해당 외국 집합투자기구의\\n투자자에게 제공하여야 한다.\\n③ 투자자는 외국 투자신탁이나 외국 투자익명조합의 외국 집합투자업자, 외국 투자회사등 또는 외국 집합투자증권\\n을 판매한 투자매매업자 또는 투자중개업자에 대하여 영업시간 중 이유를 기재한 서면으로 그 투자자에 관련된 집\\n합투자재산에 관한 장부ㆍ서류로서 대통령령으로 정하는 장부ㆍ서류의 열람이나 등본 또는 초본의 교부를 청구할\\n수 있으며, 외국 투자신탁이나 외국 투자익명조합의 외국 집합투자업자, 외국 투자회사등 또는 외국 집합투자증권\\n을 판매한 투자매매업자 또는 투자중개업자는 대통령령으로 정하는 정당한 사유가 없는 한 이를 거절하지 못한다.\\n④ 외국 투자신탁이나 외국 투자익명조합의 외국 집합투자업자 또는 외국 투자회사등은 해당 외국 집합투자증권의\\n기준가격을 매일 공고ㆍ게시하여야 한다. 다만, 기준가격을 매일 공고ㆍ게시하기 곤란한 경우 등 대통령령으로 정\\n하는 경우에는 해당 집합투자규약에서 기준가격의 공고ㆍ게시기간을 15일 이내의 범위에서 별도로 정할 수 있다.\\n⑤ 외국 집합투자증권의 국내 판매와 관련하여 판매방법, 보고서 제공, 그 밖에 필요한 사항은 대통령령으로 정한다\\n.',\n",
       "   '제281조(외국 집합투자업자 등에 대한 감독ㆍ검사) ① 금융위원회는 투자자를 보호하고 건전한 거래질서를 유지하기\\n위하여 외국 투자신탁이나 외국 투자익명조합의 외국 집합투자업자 또는 외국 투자회사등에 대하여 해당 집합투자\\n재산의 공시 등에 관하여 필요한 조치를 명할 수 있다. <개정 2008. 2. 29.>\\n②',\n",
       "   '제419조(제2항부터 제4항까지 및 제8항을 제외한다)는 외국 투자신탁이나 외국 투자익명조합의 외국 집합투자\\n업자 또는 외국 투자회사등에 대한 검사에 관하여 준용한다.',\n",
       "   '제282조(외국 집합투자기구의 등록취소) ① 금융위원회는 다음 각 호의 어느 하나에 해당하는 경우에는 외국 집합투자\\n기구의 등록을 취소할 수 있다. <개정 2008. 2. 29.>\\n1. 거짓, 그 밖의 부정한 방법으로 제279조제1항에 따른 등록을 하거나 제279조제3항에서 준용하는 제182조제8항\\n에 따른 변경등록을 한 경우 \\n2. 제279조제3항에서 준용하는 제182조제2항 각 호에 따른 등록요건을 갖추지 못하게 된 경우\\n3. 제279조제3항에서 준용하는 제182조제8항에 따른 변경등록을 하지 아니한 경우\\n4. 제279조제2항에 따른 외국 집합투자업자 적격 요건 또는 외국 집합투자증권 판매적격 요건을 갖추지 못하게 된\\n경우 \\n5. 제280조를 위반한 경우\\n6. 제281조제1항에 따른 명령을 위반한 경우\\n7. 그 밖에 투자자의 이익을 현저히 해할 우려가 있거나 외국 집합투자기구로서 존속하기 곤란하다고 인정되는 경\\n우로서 대통령령으로 정하는 경우 \\n② 금융위원회는 제1항에 따라 외국 집합투자기구의 등록을 취소하고자 하는 경우에는 청문을 실시하여야 한다.\\n<개정 2008. 2. 29.>\\n③ 제424조 및 제425조는 외국 집합투자기구의 등록 취소에 관하여 준용한다.\\n \\n     제6편 금융투자업관계기관'],\n",
       "  '제1장 한국금융투자협회': ['제283조(설립) ① 회원 상호 간의 업무질서 유지 및 공정한 거래를 확립하고 투자자를 보호하며 금융투자업의 건전한\\n발전을 위하여 한국금융투자협회를 설립한다.\\n② 협회는 회원조직으로서의 법인으로 한다.\\n법제처                                                            135                                                       국가법령정보센터\\n자본시장과 금융투자업에 관한 법률 \\n③ 협회는 대통령령으로 정하는 바에 따라 주된 사무소의 소재지에서 설립등기를 함으로써 성립한다.\\n④ 협회에 대하여는 이 법에서 특별한 규정이 있는 것을 제외하고는 「민법」 중 사단법인에 관한 규정을 준용한다.',\n",
       "   '제284조(유사명칭 사용의 금지) 협회가 아닌 자는 “금융투자협회”, “증권협회”, “선물협회”, “자산운용협회” 또는 이와\\n유사한 명칭을 사용하여서는 아니 된다.',\n",
       "   '제285조(회원) ① 협회의 회원이 될 수 있는 자는 금융투자업자, 그 밖에 금융투자업과 관련된 업무를 영위하는 자로서\\n대통령령으로 정하는 자로 한다.\\n② 협회는 정관이 정하는 바에 따라 회원으로부터 회비를 징수할 수 있다.',\n",
       "   '제286조(업무) ① 협회는 정관이 정하는 바에 따라 다음 각 호의 업무를 행한다. <개정 2010. 3. 12.>\\n1. 회원 간의 건전한 영업질서 유지 및 투자자 보호를 위한 자율규제업무\\n2. 회원의 영업행위와 관련된 분쟁의 자율조정(당사자의 신청이 있는 경우에 한한다)에 관한 업무\\n3. 다음 각 목의 주요직무 종사자의 등록 및 관리에 관한 업무\\n가. 투자권유자문인력(투자권유를 하거나 투자에 관한 자문 업무를 수행하는 자를 말한다) \\n나. 조사분석인력(조사분석자료를 작성하거나 이를 심사ㆍ승인하는 업무를 수행하는 자를 말한다) \\n다. 투자운용인력(집합투자재산ㆍ신탁재산 또는 투자일임재산을 운용하는 업무를 수행하는 자를 말한다) \\n라. 그 밖에 투자자 보호 또는 건전한 거래질서를 위하여 대통령령으로 정하는 주요직무 종사자 \\n4. 금융투자업자가 다음 각 목의 어느 하나에 해당하는 장외파생상품을 신규로 취급하는 경우 그 사전심의업무\\n가. 기초자산이 제4조제10항제4호 또는 제5호에 해당하는 장외파생상품 \\n나. 일반투자자를 대상으로 하는 장외파생상품 \\n5. 증권시장에 상장되지 아니한 주권의 장외매매거래에 관한 업무\\n6. 금융투자업 관련제도의 조사ㆍ연구에 관한 업무\\n7. 투자자 교육 및 이를 위한 재단의 설립ㆍ운영에 관한 업무\\n8. 금융투자업 관련 연수업무\\n9. 이 법 또는 다른 법령에 따라 위탁받은 업무\\n10. 제1호부터 제9호까지의 업무 외에 대통령령으로 정하는 업무\\n11. 제1호부터 제10호까지의 업무에 부수되는 업무\\n② 협회는 제1항 각 호의 업무를 행함에 있어 같은 항 제1호, 제2호 및 제4호의 업무가 다른 업무와 독립적으로 운\\n영되도록 하여야 하며, 이를 위하여 별도의 조직을 갖추어야 한다.<개정 2010. 3. 12.>',\n",
       "   '제287조(정관) ① 협회의 정관에는 다음 각 호의 사항을 기재하여야 한다.\\n1. 목적\\n2. 명칭\\n3. 조직에 관한 사항. 이 경우 조직은 금융투자업의 종류 및 금융투자상품의 범위를 기준으로 대통령령으로 정하는\\n바에 따라 구분ㆍ운영되어야 한다. \\n4. 사무소에 관한 사항\\n5. 업무에 관한 사항\\n6. 회원의 자격 및 권리의무에 관한 사항\\n7. 회원의 가입, 제명, 그 밖의 제재(회원의 임직원에 대한 제재의 권고를 포함한다)에 관한 사항\\n8. 회비에 관한 사항\\n9. 공고의 방법\\n10. 그 밖에 협회의 운영에 관한 사항으로서 대통령령으로 정하는 사항\\n② 협회는 정관 중 대통령령으로 정하는 사항을 변경하고자 하는 경우에는 금융위원회의 승인을 받아야 한다.<개정\\n2008. 2. 29.>\\n법제처                                                            136                                                       국가법령정보센터\\n자본시장과 금융투자업에 관한 법률',\n",
       "   '제288조(분쟁의 자율조정) ① 협회는 제286조제1항제2호에 따른 분쟁의 자율조정을 위하여 필요한 분쟁조정규정을 정\\n한다.\\n② 협회는 분쟁의 조정을 위하여 필요하다고 인정되는 경우에는 당사자에 대하여 사실의 확인 또는 자료의 제출 등\\n을 요구할 수 있다.\\n③ 협회는 당사자, 그 밖의 이해관계인의 의견을 들을 필요가 있다고 인정되는 경우에는 이들에게 회의에 출석하여\\n의견을 진술할 것을 요청할 수 있다.',\n",
       "   '제288조의2(장외파생상품심의위원회) ① 협회는 제286조제1항제4호에 따른 장외파생상품에 관한 사전심의업무 수행\\n을 위하여 장외파생상품심의위원회(이하 이 조에서 “위원회”라 한다)를 둔다.\\n② 위원회는 위원장 1명을 포함한 5명 이상 10명 이내의 위원으로 구성한다.\\n③ 위원회의 회의는 재적위원 과반수의 출석과 출석위원 3분의 2 이상의 찬성으로 의결한다.\\n④ 위원회는 제1항의 사전심의업무를 수행함에 있어서 다음 각 호의 사항을 고려하여야 한다.\\n1. 기초자산이 제4조제10항제4호 또는 제5호에 해당하는 장외파생상품의 경우 기초자산 가격 변동에 대한 정보 제\\n공 가능성에 관한 사항 \\n2. 일반투자자를 대상으로 하는 장외파생상품의 경우 위험회피구조의 타당성, 일반투자자에게 교부하는 설명 자료\\n의 충실성, 투자권유자문인력의 자격 사항 및 교육 등 판매계획의 적정성에 관한 사항 \\n3. 그 밖에 투자자 보호를 위하여 위원회가 필요하다고 인정하는 사항\\n⑤ 위원회는 제1항의 사전심의업무를 수행함에 있어 필요한 경우에는 금융투자업자 등에 대하여 사실의 확인 또는\\n자료의 제출 등을 요구할 수 있다.\\n⑥ 위원회는 제3항에 따른 의결이 있을 경우 금융감독원장에게 지체 없이 보고하여야 한다.\\n⑦ 협회는 다음 각 호의 사항을 포함하여 위원회의 구성 및 운영을 위하여 필요한 규정을 정하여야 한다.\\n1. 위원장 및 위원의 자격, 선임방법에 관한 사항\\n2. 위원장 및 위원의 임기에 관한 사항\\n3. 위원회 운영 및 의사결정의 독립성 확보에 관한 사항\\n4. 위원회 심의절차 및 의사결정의 효력에 관한 사항\\n[본조신설 2010. 3. 12.]',\n",
       "   '제289조(준용규정) 제54조, 제63조 및 「금융회사의 지배구조에 관한 법률」 제5조는 협회에 준용한다. <개정 2009. 2.\\n3., 2015. 7. 31.>',\n",
       "   '제290조(업무규정의 보고) 협회는 업무에 관한 규정(規程)을 제정ㆍ변경하거나 폐지한 경우에는 지체 없이 금융위원회\\n에 이를 보고하여야 한다. <개정 2008. 2. 29.>',\n",
       "   '제291조(연수원) 협회는 금융투자업에 종사하는 자의 자질을 향상시키고 금융투자업에 관한 전문적인 지식을 보급하\\n기 위하여 연수원을 둘 수 있다.',\n",
       "   '제292조(협회에 대한 검사)',\n",
       "   '제419조(제2항부터 제4항까지 및 제8항을 제외한다)는 협회에 대한 검사에 관하여 준용한\\n다.',\n",
       "   '제293조(협회에 대한 조치) ① 금융위원회는 협회가 별표 7 각 호의 어느 하나에 해당하는 경우에는 다음 각 호의 어느\\n하나에 해당하는 조치를 할 수 있다. <개정 2008. 2. 29.>\\n1. 6개월 이내의 업무의 전부 또는 일부의 정지\\n2. 계약의 인계명령\\n3. 위법행위의 시정명령 또는 중지명령\\n4. 위법행위로 인한 조치를 받았다는 사실의 공표명령 또는 게시명령\\n법제처                                                            137                                                       국가법령정보센터\\n자본시장과 금융투자업에 관한 법률 \\n5. 기관경고\\n6. 기관주의\\n7. 그 밖에 위법행위를 시정하거나 방지하기 위하여 필요한 조치로서 대통령령으로 정하는 조치\\n② 금융위원회는 협회의 임원이 별표 7 각 호의 어느 하나에 해당하는 경우에는 다음 각 호의 어느 하나에 해당하\\n는 조치를 할 수 있다.<개정 2008. 2. 29.>\\n1. 해임요구\\n2. 6개월 이내의 직무정지\\n3. 문책경고\\n4. 주의적 경고\\n5. 주의\\n6. 그 밖에 위법행위를 시정하거나 방지하기 위하여 필요한 조치로서 대통령령으로 정하는 조치\\n③ 금융위원회는 협회의 직원이 별표 7 각 호의 어느 하나에 해당하는 경우에는 다음 각 호의 어느 하나에 해당하\\n는 조치를 협회에 요구할 수 있다.<개정 2008. 2. 29.>\\n1. 면직\\n2. 6개월 이내의 정직\\n3. 감봉\\n4. 견책\\n5. 경고\\n6. 주의\\n7. 그 밖에 위법행위를 시정하거나 방지하기 위하여 필요한 조치로서 대통령령으로 정하는 조치\\n④ 제422조제3항,',\n",
       "   '제423조(제1호를 제외한다),',\n",
       "   '제424조(제2항을 제외한다) 및 제425조는 협회 및 그 임직원에 대한\\n조치 등에 관하여 준용한다.'],\n",
       "  '제2장 한국예탁결제원\\n         제1절 설립 및 감독': ['제294조(설립) ① 증권등(증권, 그 밖에 대통령령으로 정하는 것을 말한다. 이하 이 장에서 같다)의 집중예탁과 계좌 간\\n대체, 매매거래에 따른 결제업무 및 유통의 원활을 위하여 한국예탁결제원을 설립한다.\\n② 예탁결제원은 법인으로 한다.\\n③ 예탁결제원은 대통령령으로 정하는 바에 따라 주된 사무소의 소재지에서 설립등기를 함으로써 성립한다.',\n",
       "   '제295조(유사명칭의 사용금지) 예탁결제원이 아닌 자는 “한국예탁결제원” 또는 이와 유사한 명칭을 사용하여서는 아니\\n된다.',\n",
       "   '제296조(업무) ①예탁결제원은 정관으로 정하는 바에 따라 다음 각 호의 업무를 행한다. <개정 2013. 5. 28.>\\n1. 증권등의 집중예탁업무\\n2. 증권등의 계좌 간 대체업무\\n3. 삭제<2016. 3. 22.>\\n4. 증권시장 밖에서의 증권등의 매매거래(다자간매매체결회사에서의 증권의 매매거래는 제외한다)에 따른 증권등\\n의 인도와 대금의 지급에 관한 업무 \\n5. 예탁결제원과 유사한 업무를 영위하는 외국 법인(이하 “외국예탁결제기관”이라 한다)과의 계좌설정을 통한 증권\\n등의 예탁, 계좌 간 대체 및 매매거래에 따른 증권등의 인도와 대금의 지급에 관한 업무 \\n6. 삭제<2013. 5. 28.>\\n7. 삭제<2013. 5. 28.>\\n법제처                                                            138                                                       국가법령정보센터\\n자본시장과 금융투자업에 관한 법률 \\n8. 삭제<2013. 5. 28.>\\n9. 삭제<2013. 5. 28.>\\n10. 삭제<2013. 5. 28.>\\n② 예탁결제원은 정관으로 정하는 바에 따라 제1항 각 호의 업무에 부수하는 업무로서 다음 각 호의 어느 하나에\\n해당하는 업무를 행한다.<신설 2013. 5. 28.>\\n1. 증권등의 보호예수업무\\n2. 예탁증권등의 담보관리에 관한 업무\\n3. 제80조에 따라 집합투자업자ㆍ투자일임업자와 집합투자재산을 보관ㆍ관리하는 신탁업자 등 사이에서 이루어지\\n는 집합투자재산의 취득ㆍ처분 등에 관한 지시 등을 처리하는 업무 \\n4. 그 밖에 금융위원회로부터 승인을 받은 업무\\n③ 예탁결제원은 정관으로 정하는 바에 따라 제1항 및 제2항 각 호의 업무 외에 다음 각 호의 업무를 영위할 수 있\\n다.<신설 2013. 5. 28., 2016. 3. 22.>\\n1. 금융위원회의 승인을 받은 업무. 이 경우 이 법 또는 다른 법률에서 인가ㆍ허가ㆍ등록ㆍ신고 등이 필요한 경우에\\n는 인가ㆍ허가 등을 받거나 등록ㆍ신고 등을 하여야 한다. \\n2. 이 법 또는 다른 법령에서 예탁결제원의 업무로 규정한 업무\\n3. 삭제<2016. 3. 22.>',\n",
       "   '제297조(증권시장 결제기관) 증권시장에서의 매매거래(다자간매매체결회사에서의 증권의 매매거래를 포함한다. 이하\\n제303조제2항제5호에서 같다)에 따른 증권인도 및 대금지급 업무는 결제기관으로서 전자등록기관이 수행한다. 이\\n경우 전자등록기관은 대금지급 업무를 금융위원회가 따로 지정하는 전자등록기관에 위탁할 수 있다. <개정 2016. 3.\\n22.>',\n",
       "   '제298조(예탁업무 영위 등의 금지) ① 예탁결제원이 아닌 자는 증권등을 예탁받아 그 증권등의 수수를 갈음하여 계좌\\n간의 대체로 결제하는 업무를 영위하여서는 아니 된다.\\n② 전자등록기관이 아닌 자는 국내에서 증권예탁증권을 발행하는 업무를 영위하여서는 아니 된다.<개정 2016. 3.\\n22.>',\n",
       "   '제299조(정관) ① 예탁결제원의 정관에는 다음 각 호의 사항을 기재하여야 한다.\\n1. 목적\\n2. 명칭\\n3. 주된 사무소의 소재지\\n4. 주식 및 자본금에 관한 사항\\n5. 주식의 취득자격 및 소유한도에 관한 사항\\n6. 주주총회 및 이사회에 관한 사항\\n7. 임원에 관한 사항\\n8. 회계에 관한 사항\\n9. 공고의 방법\\n② 예탁결제원은 정관을 변경하고자 하는 경우에는 금융위원회의 승인을 받아야 한다.<개정 2008. 2. 29.>',\n",
       "   '제300조(「상법」의 준용) ①예탁결제원에 관하여 이 법 또는 이 법에 따른 명령에 특별한 규정이 있는 것을 제외하고는\\n「상법」 중 주식회사에 관한 규정(제517조부터 제521조의2까지의 규정을 제외한다)을 준용한다. <개정 2013. 4. 5.>\\n② 예탁결제원은 이 법 또는 다른 법률에서 인가ㆍ허가ㆍ등록ㆍ신고 등이 필요한 업무를 수행하는 경우에는 「상법\\n」에 따른 주식회사로 본다.<신설 2013. 4. 5.>',\n",
       "   '제301조(임원 등) ① 예탁결제원의 임원은 사장ㆍ전무이사ㆍ이사 및 감사로 한다.\\n법제처                                                            139                                                       국가법령정보센터\\n자본시장과 금융투자업에 관한 법률 \\n② 사장은 주주총회에서 선출하되, 금융위원회의 승인을 받아야 한다.<개정 2008. 2. 29.>\\n③ 상근감사는 주주총회에서 선출한다.\\n④ 「금융회사의 지배구조에 관한 법률」 제5조는 예탁결제원의 임원에게 준용한다.<개정 2015. 7. 31.>\\n⑤ 예탁결제원의 상근 임직원은 금융투자업자 및 다른 금융투자업관계기관과 자금의 공여, 손익의 분배, 그 밖에 영\\n업에 관하여 대통령령으로 정하는 특별한 이해관계를 가져서는 아니 된다.',\n",
       "   '제302조(예탁업무규정) ① 예탁결제원은 증권등의 예탁과 제309조제3항제2호의 예탁증권등의 관리를 위하여 예탁업\\n무규정을 정하여야 한다.\\n② 제1항의 예탁업무규정에는 다음 각 호의 사항이 포함되어야 한다.\\n1. 제308조에 따른 예탁대상증권등의 지정ㆍ취소 및 그 관리에 관한 사항\\n2. 예탁자의 계좌개설과 그 폐지에 관한 사항\\n3. 예탁자계좌부의 작성 및 비치에 관한 사항\\n4. 제308조에 따른 예탁대상증권등의 예탁ㆍ반환 및 계좌 간 대체에 관한 사항\\n5. 제309조제3항제2호의 예탁증권등에 대한 담보권의 설정ㆍ소멸 및 신탁재산의 표시ㆍ말소에 관한 사항\\n6. 제309조제3항제2호의 예탁증권등의 권리 행사에 관한 사항\\n7. 그 밖에 제309조제3항제2호의 예탁증권등의 관리를 위하여 필요한 사항',\n",
       "   '제303조(결제업무규정) ① 예탁결제원 및 전자등록기관은 증권등의 매매거래에 따른 결제업무의 수행을 위하여 결제\\n업무규정을 정하여야 한다. 이 경우 결제업무규정은 제323조의11의 청산업무규정, 제387조의 회원관리규정 및 제\\n393조의 업무규정과 상충되어서는 아니 된다. <개정 2013. 5. 28., 2016. 3. 22.>\\n② 제1항의 결제업무규정에는 다음 각 호의 사항이 포함되어야 한다.<개정 2016. 3. 22.>\\n1. 예탁결제원 및 전자등록기관 결제회원의 가입ㆍ탈퇴 및 권리ㆍ의무에 관한 사항\\n2. 결제계좌의 개설 및 관리에 관한 사항\\n3. 결제시한에 관한 사항\\n4. 증권등의 인도 및 대금지급에 관한 사항\\n5. 증권시장에서의 증권의 매매거래에 따른 결제이행ㆍ불이행 결과의 거래소에 대한 통지에 관한 사항(전자등록기\\n관의 결제업무규정에 한정한다) \\n6. 그 밖에 결제업무 수행을 위하여 필요한 사항',\n",
       "   '제304조(준용규정) 제54조, 제63조, 제408조,',\n",
       "   '제413조(제296조제1항제1호ㆍ제2호ㆍ제4호의 업무로 한정한다) 및 「금\\n융실명거래 및 비밀보장에 관한 법률」 제4조는 예탁결제원에 준용한다. <개정 2013. 5. 28., 2016. 3. 22.>',\n",
       "   '제305조(업무규정의 승인ㆍ보고) ① 예탁결제원은 제296조제1항제5호의 업무에 관한 규정(規程), 제302조의 예탁업무\\n규정 및 제303조의 결제업무규정을 제정ㆍ변경하거나 폐지하고자 하는 경우에는 금융위원회의 승인을 받아야 한다.\\n<개정 2008. 2. 29., 2016. 3. 22.>\\n② 삭제<2008. 2. 29.>\\n③ 예탁결제원은 제1항 외의 업무에 관한 규정을 제정ㆍ변경하거나 폐지한 경우에는 지체 없이 금융위원회에 보고\\n하여야 한다.<개정 2008. 2. 29.>',\n",
       "   '제306조(예탁결제원에 대한 검사)',\n",
       "   '제419조(제2항부터 제4항까지 및 제8항을 제외한다)는 예탁결제원에 대한 검사에 관\\n하여 준용한다.',\n",
       "   '제307조(예탁결제원에 대한 조치) ① 금융위원회는 예탁결제원이 별표 8 각 호의 어느 하나에 해당하는 경우에는 다음\\n각 호의 어느 하나에 해당하는 조치를 할 수 있다. <개정 2008. 2. 29.>\\n1. 6개월 이내의 업무의 전부 또는 일부의 정지\\n법제처                                                            140                                                       국가법령정보센터\\n자본시장과 금융투자업에 관한 법률 \\n2. 계약의 인계명령\\n3. 위법행위의 시정명령 또는 중지명령\\n4. 위법행위로 인한 조치를 받았다는 사실의 공표명령 또는 게시명령\\n5. 기관경고\\n6. 기관주의\\n7. 그 밖에 위법행위를 시정하거나 방지하기 위하여 필요한 조치로서 대통령령으로 정하는 조치\\n② 금융위원회는 예탁결제원의 임원이 별표 8 각 호의 어느 하나에 해당하는 경우에는 다음 각 호의 어느 하나에\\n해당하는 조치를 할 수 있다.<개정 2008. 2. 29.>\\n1. 해임요구\\n2. 6개월 이내의 직무정지\\n3. 문책경고\\n4. 주의적 경고\\n5. 주의\\n6. 그 밖에 위법행위를 시정하거나 방지하기 위하여 필요한 조치로서 대통령령으로 정하는 조치\\n③ 금융위원회는 예탁결제원의 직원이 별표 8 각 호의 어느 하나에 해당하는 경우에는 다음 각 호의 어느 하나에\\n해당하는 조치를 예탁결제원에 요구할 수 있다.<개정 2008. 2. 29.>\\n1. 면직\\n2. 6개월 이내의 정직\\n3. 감봉\\n4. 견책\\n5. 경고\\n6. 주의\\n7. 그 밖에 위법행위를 시정하거나 방지하기 위하여 필요한 조치로서 대통령령으로 정하는 조치\\n④ 제422조제3항,',\n",
       "   '제423조(제1호를 제외한다),',\n",
       "   '제424조(제2항을 제외한다) 및 제425조는 예탁결제원 및 그 임직원\\n에 대한 조치 등에 관하여 준용한다.\\n \\n         제2절 예탁관련제도',\n",
       "   '제308조(예탁대상증권등) ① 이 절은 증권등에 표시될 수 있거나 표시되어야 할 권리가 「주식ㆍ사채 등의 전자등록에\\n관한 법률」에 따라 전자등록된 경우 그 증권등에 대해서는 적용하지 아니한다.\\n② 예탁결제원에 예탁할 수 있는 증권등(이하 “예탁대상증권등”이라 한다)은 예탁결제원이 지정한다.\\n[전문개정 2016. 3. 22.]',\n",
       "   '제309조(예탁결제원에의 예탁 등) ① 예탁결제원에 증권등을 예탁하고자 하는 자는 예탁결제원에 계좌를 개설하여야\\n한다.\\n② 제1항에 따라 계좌를 개설한 자(이하 “예탁자”라 한다)는 자기가 소유하고 있는 증권등과 투자자로부터 예탁받은\\n증권등을 투자자의 동의를 얻어 예탁결제원에 예탁할 수 있다.\\n③ 예탁결제원은 다음 각 호의 사항을 기재하여 예탁자계좌부를 작성ㆍ비치하되, 예탁자의 자기소유분과 투자자 예\\n탁분이 구분될 수 있도록 하여야 한다.<개정 2008. 2. 29.>\\n1. 예탁자의 명칭 및 주소\\n2. 예탁받은 증권등(이하 “예탁증권등”이라 한다)의 종류 및 수와 그 발행인의 명칭\\n3. 그 밖에 총리령으로 정하는 사항\\n④ 예탁결제원은 예탁증권등을 종류ㆍ종목별로 혼합하여 보관할 수 있다.\\n법제처                                                            141                                                       국가법령정보센터\\n자본시장과 금융투자업에 관한 법률 \\n⑤ 예탁자 또는 그 투자자가 증권등을 인수 또는 청약하거나, 그 밖의 사유로 새로 증권등의 발행을 청구하는 경우\\n에 그 증권등의 발행인은 예탁자 또는 그 투자자의 신청에 의하여 이들을 갈음하여 예탁결제원을 명의인으로 하여\\n그 증권등을 발행할 수 있다.<개정 2016. 3. 22.>',\n",
       "   '제310조(투자자의 예탁자에의 예탁 등) ① 투자자로부터 예탁받은 증권등을 예탁결제원에 다시 예탁하는 예탁자는 다\\n음 각 호의 사항을 기재하여 투자자계좌부를 작성ㆍ비치하여야 한다. <개정 2008. 2. 29.>\\n1. 투자자의 성명 및 주소\\n2. 예탁증권등의 종류 및 수와 그 발행인의 명칭\\n3. 그 밖에 총리령으로 정하는 사항\\n② 예탁자는 제1항에 따른 기재를 한 경우에는 해당 증권등이 투자자 예탁분이라는 것을 밝혀 지체 없이 예탁결제\\n원에 예탁하여야 한다.\\n③ 예탁자는 제1항에 따른 기재를 한 경우에는 제2항에 따라 해당 증권등을 예탁결제원에 예탁하기 전까지는 이를\\n자기소유분과 구분하여 보관하여야 한다.\\n④ 제1항에 따른 투자자계좌부에 기재된 증권등은 그 기재를 한 때에 예탁결제원에 예탁된 것으로 본다.',\n",
       "   '제311조(계좌부 기재의 효력) ① 투자자계좌부와 예탁자계좌부에 기재된 자는 각각 그 증권등을 점유하는 것으로 본다.\\n② 투자자계좌부 또는 예탁자계좌부에 증권등의 양도를 목적으로 계좌 간 대체의 기재를 하거나 질권설정을 목적\\n으로 질물(質物)인 뜻과 질권자를 기재한 경우에는 증권등의 교부가 있었던 것으로 본다.\\n③ 예탁증권등의 신탁은 예탁자계좌부 또는 투자자계좌부에 신탁재산인 뜻을 기재함으로써 제삼자에게 대항할 수\\n있다.<개정 2011. 7. 25.>\\n④ 삭제<2016. 3. 22.>',\n",
       "   '제312조(권리 추정 등) ① 예탁자의 투자자와 예탁자는 각각 투자자계좌부와 예탁자계좌부에 기재된 증권등의 종류ㆍ\\n종목 및 수량에 따라 예탁증권등에 대한 공유지분을 가지는 것으로 추정한다.\\n② 예탁자의 투자자나 그 질권자는 예탁자에 대하여, 예탁자는 예탁결제원에 대하여 언제든지 공유지분에 해당하는\\n예탁증권등의 반환을 청구할 수 있다. 이 경우 질권의 목적으로 되어 있는 예탁증권등에 대하여는 질권자의 동의가\\n있어야 한다.\\n③ 예탁결제원은 예탁자의 파산ㆍ해산, 그 밖에 대통령령으로 정하는 사유가 발생한 경우 총리령으로 정하는 기준\\n및 방법에 따라 예탁증권등 중 투자자 예탁분의 반환 또는 계좌 간 대체를 제한할 수 있다.<개정 2008. 2. 29.>',\n",
       "   '제313조(보전의무) ① 예탁증권등이 부족하게 된 경우에는 예탁결제원 및 제310조제1항에 규정된 예탁자가 대통령령\\n으로 정하는 방법 및 절차에 따라 이를 보전하여야 한다. 이 경우 예탁결제원 및 예탁자는 그 부족에 대한 책임이 있\\n는 자에 대하여 구상권(求償權)을 행사할 수 있다.\\n② 제1항의 예탁자는 제309조제1항에 따른 계좌를 폐쇄한 이후에도 제1항에 따른 보전책임을 부담한다. 다만, 계좌\\n를 폐쇄한 때부터 5년이 경과한 경우에는 그 책임은 소멸한다.',\n",
       "   '제314조(예탁증권등의 권리 행사 등) ① 예탁결제원은 예탁자 또는 그 투자자의 신청에 의하여 예탁증권등에 관한 권\\n리를 행사할 수 있다. 이 경우 그 투자자의 신청은 예탁자를 거쳐야 한다.\\n② 예탁결제원은 예탁증권등에 대하여 자기명의로 명의개서를 청구할 수 있다.<개정 2016. 3. 22.>\\n③ 예탁결제원은 제2항에 따라 자기명의로 명의개서된 주권에 대하여는 예탁자의 신청이 없는 경우에도 「상법」 제\\n358조의2에 규정된 사항과 주주명부의 기재 및 주권에 관하여 주주로서의 권리를 행사할 수 있다.\\n④ 삭제<2013. 5. 28.>\\n⑤ 삭제<2013. 5. 28.>\\n⑥ 예탁증권등의 발행인은 제1항에 따른 예탁결제원의 권리 행사를 위하여 대통령령으로 정하는 사항을 지체 없이\\n예탁결제원에 통지하여야 한다.<개정 2013. 5. 28.>\\n법제처                                                            142                                                       국가법령정보센터\\n자본시장과 금융투자업에 관한 법률 \\n⑦ 제3항은 예탁증권등 중 기명식 증권에 관하여 준용한다.\\n⑧ 예탁자를 통하여 투자자에게 반환된 후 투자자의 명의로 명의개서가 되지 아니한 예탁결제원 명의의 주권(그 주\\n권에서 발생하는 권리를 포함한다)의 관리에 대하여 필요한 사항은 대통령령으로 정한다.<신설 2013. 5. 28., 2016.\\n3. 29., 2017. 4. 18., 2016. 3. 22.>\\n[제목개정 2013. 5. 28.]',\n",
       "   '제315조(실질주주의 권리 행사 등) ① 예탁증권등 중 주식의 공유자(이하 “실질주주”라 한다)는 주주로서의 권리 행사\\n에 있어서는 각각 제312조제1항에 따른 공유지분에 상당하는 주식을 가지는 것으로 본다.\\n② 실질주주는 제314조제3항에 따른 권리를 행사할 수 없다. 다만, 회사의 주주에 대한 통지 및 「상법」 제396조제\\n2항에 따른 주주명부의 열람 또는 등사 청구에 대하여는 그 권리를 행사할 수 있다.\\n③ 예탁증권등 중 주권의 발행인은 「상법」 제354조에 따라 일정한 기간 또는 일정한 날을 정한 경우에는 예탁결제\\n원에 이를 지체 없이 통지하여야 하며, 예탁결제원은 그 일정한 기간의 첫날 또는 그 일정한 날(이하 이 조에서 “주\\n주명부폐쇄기준일”이라 한다)의 실질주주에 관하여 다음 각 호의 사항을 지체 없이 그 주권의 발행인 또는 명의개\\n서를 대리하는 회사에 통지하여야 한다.\\n1. 성명 및 주소\\n2. 제1항에 따른 주식의 종류 및 수\\n④ 예탁결제원은 제310조제1항에 규정된 예탁자에게 주주명부폐쇄기준일의 실질주주에 관하여 제3항 각 호에 규\\n정된 사항의 통보를 요청할 수 있다. 이 경우 요청받은 예탁자는 지체 없이 이를 통보하여야 한다.\\n⑤ 삭제<2016. 3. 22.>\\n⑥ 삭제<2016. 3. 22.>',\n",
       "   '제316조(실질주주명부의 작성 등) ① 제315조제3항에 따라 통지받은 발행인 또는 명의개서를 대행하는 회사는 통지받\\n은 사항과 통지 연월일을 기재하여 실질주주명부를 작성ㆍ비치하여야 한다.\\n② 예탁결제원에 예탁된 주권의 주식에 관한 실질주주명부에의 기재는 주주명부에의 기재와 같은 효력을 가진다.\\n③ 제1항에 따른 발행인 또는 명의개서를 대리하는 회사는 주주명부에 주주로 기재된 자와 실질주주명부에 실질주\\n주로 기재된 자가 동일인이라고 인정되는 경우에는 주주로서의 권리 행사에 있어서 주주명부의 주식수와 실질주주\\n명부의 주식수를 합산하여야 한다.',\n",
       "   '제317조(민사집행) 예탁증권등에 관한 강제집행ㆍ가압류 및 가처분의 집행 또는 경매에 관하여 필요한 사항은 대법원\\n규칙으로 정한다.',\n",
       "   '제318조(실질주주증명서) ① 예탁결제원은 예탁자 또는 그 투자자가 주주로서의 권리를 행사하기 위하여 증권등의 예\\n탁을 증명하는 문서(이하 이 조에서 “실질주주증명서”라 한다)의 발행을 신청하는 경우에는 총리령으로 정하는 방법\\n에 따라 이를 발행하여야 한다. 이 경우 투자자의 신청은 예탁자를 거쳐야 한다. <개정 2008. 2. 29.>\\n② 예탁결제원은 제1항에 따라 실질주주증명서를 발행한 경우에는 해당 발행인에게 그 사실을 지체 없이 통지하여\\n야 한다.\\n③ 예탁자 또는 그 투자자가 제1항에 따라 발행된 실질주주증명서를 발행인에게 제출한 경우에는 「상법」 제337조\\n제1항에 불구하고 발행인에게 대항할 수 있다.\\n \\n제319조 삭제 <2016. 3. 22.>',\n",
       "   '제320조(외국예탁결제기관 등의 예탁 등에 관한 특례) ① 제310조, 제313조, 제314조제6항, 제315조 및 제316조제3항\\n은 외국예탁결제기관에 적용하지 아니한다. 다만, 외국예탁결제기관이 그 적용을 요청하는 경우에는 그러하지 아니\\n하다. <개정 2013. 5. 28.>\\n② 제309조제5항, 제314조제6항, 제315조, 제316조 및 제318조는 예탁증권등의 발행인이 외국법인등인 경우에 적\\n용하지 아니한다. 다만, 그 외국법인등이 그 적용을 요청하는 경우에는 그러하지 아니하다.<개정 2013. 5. 28.>\\n법제처                                                            143                                                       국가법령정보센터\\n자본시장과 금융투자업에 관한 법률',\n",
       "   '제321조(보고 및 확인 등) 예탁결제원은 예탁자에 대하여 예탁업무에 관한 보고 또는 자료의 제출을 요구하거나, 관련\\n장부의 열람 또는 예탁자 자체보관 증권등의 보관상황 등을 확인할 수 있다.',\n",
       "   '제322조(증권등의 관리) ① 상장법인 및 명의개서대행회사는 증권등의 용지ㆍ발행ㆍ소각ㆍ교체발행ㆍ폐기, 그 밖에 그\\n관리에 관하여 예탁결제원이 정하는 증권등 취급규정에 따라야 한다.\\n② 예탁결제원은 상장법인이 증권등의 발행을 위하여 예비로 보관하고 있는 증권등의 용지(이하 “예비증권등”이라\\n한다)를 관리할 수 있다.\\n③ 예탁결제원은 필요하다고 인정되는 경우에는 상장법인 및 명의개서대행회사에 대하여 제1항에 따른 증권등의\\n사무취급절차와 예비증권등의 관리에 관한 자료의 제출을 요구할 수 있고, 소속직원에게 이를 확인하게 할 수 있다.\\n④ 비상장법인이 발행하는 증권등에 관하여 예탁결제원의 증권등 취급규정에 따른 용지를 사용하고자 할 경우에는\\n예탁결제원의 승인을 받아야 한다. 이 경우 제1항부터 제3항까지의 규정을 준용한다.\\n⑤ 제1항부터 제3항까지의 규정은 상장법인이 비상장법인으로 된 경우 예탁결제원의 증권등 취급규정에 따른 용지\\n와 그 용지에 의하여 발행한 증권등이 전부 폐기될 때까지 준용한다.',\n",
       "   '제323조(발행명세 및 사고증권등의 명세 통지 등) ① 예탁대상증권등의 발행인은 새로 증권등을 발행하는 경우 그 증\\n권등의 종류, 그 밖에 총리령으로 정하는 사항을 예탁결제원에 지체 없이 통지하여야 한다. <개정 2008. 2. 29.>\\n② 예탁대상증권등의 발행인은 증권등의 압류ㆍ가압류 또는 가처분의 명령에 관한 통지를 받거나 도난ㆍ분실 또는\\n멸실된 증권등에 대한 사고신고(「민사소송법」에 따른 공시최고 및 제권판결을 포함한다)를 접수한 경우 그 증권등\\n의 종류, 그 밖에 총리령으로 정하는 사항을 예탁결제원에 지체 없이 통지하여야 한다.<개정 2008. 2. 29.>\\n③ 제1항 및 제2항에 따라 통지를 받은 예탁결제원은 그 내용을 공표하여야 한다.'],\n",
       "  '제3장 증권금융회사': ['제323조의21(무인가 증권금융업무 금지) 누구든지 이 법에 따른 인가를 받지 아니하고는 증권금융업무(제326조제1항\\n에 따른 업무를 말한다. 이하 같다)를 영위하여서는 아니 된다. 다만, 투자자 보호 및 건전한 거래질서를 해할 우려가\\n없는 경우로서 대통령령으로 정하는 경우는 제외한다.\\n[본조신설 2013. 5. 28.]',\n",
       "   '제324조(인가) ① 제326조제1항제2호의 업무를 포함하는 증권금융업무(이하 “증권금융업무”라 한다)를 영위하려는 자\\n는 금융위원회의 인가를 받아야 한다. <개정 2008. 2. 29., 2013. 5. 28.>\\n② 제1항에 따른 인가를 받으려는 자는 다음 각 호의 요건을 모두 갖추어야 한다.<개정 2013. 5. 28., 2015. 7. 31.>\\n1. 「상법」에 따른 주식회사일 것\\n2. 20억원 이상으로서 대통령령으로 정하는 금액 이상의 자기자본을 갖출 것\\n3. 사업계획이 타당하고 건전할 것\\n4. 투자자를 보호하고 영위하고자 하는 업무를 수행하기에 충분한 인력 및 전산설비, 그 밖의 물적 설비를 갖출 것\\n5. 임원이 「금융회사의 지배구조에 관한 법률」 제5조에 적합할 것\\n6. 대주주(제12조제2항제6호가목의 대주주를 말한다)가 충분한 출자능력, 건전한 재무상태 및 사회적 신용을 갖출\\n것 \\n7. 이해상충방지체계를 구축하고 있을 것\\n③ 제1항에 따른 인가를 받으려는 자는 인가신청서를 금융위원회에 제출하여야 한다.<개정 2008. 2. 29.>\\n④ 금융위원회는 제3항의 인가신청서를 접수한 경우에는 그 내용을 심사하여 3개월 이내에 인가 여부를 결정하고,\\n그 결과와 이유를 지체 없이 신청인에게 문서로 통지하여야 한다. 이 경우 인가신청서에 흠결이 있는 때에는 보완을\\n요구할 수 있다.<개정 2008. 2. 29.>\\n⑤ 제4항의 심사기간을 산정함에 있어서 인가신청서 흠결의 보완기간 등 총리령으로 정하는 기간은 산입하지 아니\\n한다.<개정 2008. 2. 29.>\\n⑥ 금융위원회는 제4항에 따라 인가를 하는 경우에는 경영의 건전성 확보 및 투자자 보호에 필요한 조건을 붙일 수\\n있다.<개정 2008. 2. 29.>\\n법제처                                                            149                                                       국가법령정보센터\\n자본시장과 금융투자업에 관한 법률 \\n⑦ 제6항에 따라 조건이 붙은 인가를 받은 자는 사정의 변경, 그 밖에 정당한 사유가 있는 경우에는 금융위원회에\\n조건의 취소 또는 변경을 요청할 수 있다. 이 경우 금융위원회는 2개월 이내에 조건의 취소 또는 변경 여부를 결정\\n하고, 그 결과를 지체 없이 신청인에게 문서로 통지하여야 한다.<개정 2008. 2. 29.>\\n⑧ 금융위원회는 제4항에 따라 인가를 한 경우에는 다음 각 호의 사항을 관보 및 인터넷 홈페이지 등에 공고하여야\\n한다.<개정 2008. 2. 29.>\\n1. 인가의 내용\\n2. 인가의 조건(조건을 붙인 경우에 한한다)\\n3. 인가의 조건을 취소하거나 변경한 경우 그 내용\\n⑨ 증권금융회사는 인가를 받아 그 영업을 영위함에 있어서 제2항 각 호의 인가요건(제2호 및 제6호의 경우에는 대\\n통령령으로 정하는 완화된 요건을 말한다)을 유지하여야 한다.\\n⑩ 제1항부터 제8항까지의 규정에 따른 인가신청서의 기재사항ㆍ첨부서류 등 인가의 신청에 관한 사항과 인가심사\\n의 방법ㆍ절차, 그 밖에 필요한 사항은 대통령령으로 정한다.',\n",
       "   '제325조(유사명칭 사용 금지) 증권금융회사가 아닌 자는 “증권금융” 또는 이와 유사한 명칭을 사용하여서는 아니 된다.',\n",
       "   '제326조(업무) ① 증권금융업무는 다음 각 호와 같다. <개정 2008. 2. 29., 2013. 5. 28.>\\n1. 금융투자상품의 매도ㆍ매수, 증권의 발행ㆍ인수 또는 그 중개나 청약의 권유, 청약, 청약의 승낙과 관련하여 투자\\n매매업자 또는 투자중개업자에 대하여 필요한 자금 또는 증권을 대여하는 업무 \\n2. 거래소시장에서의 매매거래(다자간매매체결회사에서의 거래를 포함한다) 또는 청산대상거래에 필요한 자금 또\\n는 증권을 제378조제1항에 따른 청산기관인 거래소 또는 금융투자상품거래청산회사를 통하여 대여하는 업무 \\n3. 증권을 담보로 하는 대출업무\\n4. 그 밖에 금융위원회의 승인을 받은 업무\\n② 증권금융회사는 증권금융업무 외에 다음 각 호의 업무를 영위할 수 있다.<개정 2008. 2. 29., 2013. 5. 28.>\\n1. 다음 각 목의 어느 하나에 해당하는 업무. 이 경우 이 법 또는 다른 법률에서 인가ㆍ허가ㆍ등록 등이 필요한 경우\\n에는 이를 받아야 한다. \\n가. 투자매매업 및 투자중개업 중 대통령령으로 정하는 업무 \\n나. 신탁업무 \\n다. 집합투자재산의 보관ㆍ관리 업무 \\n라. 증권대차업무 \\n마. 그 밖에 금융위원회의 승인을 받은 업무 \\n2. 이 법 또는 다른 법령에서 증권금융회사의 업무로 규정한 업무\\n3. 그 밖에 금융위원회로부터 승인을 받은 업무\\n③ 증권금융회사는 증권금융업무, 제2항의 업무 또는 제330조에 따른 업무에 부수하는 업무로서 다음 각 호의 어느\\n하나에 해당하는 업무를 행한다.<개정 2013. 5. 28.>\\n1. 보호예수업무\\n2. 그 밖에 금융위원회의 승인을 받은 업무',\n",
       "   '제327조(임원 등) ① 증권금융회사의 상근임원은 금융투자업자의 임직원 외의 자이어야 한다.\\n② 「금융회사의 지배구조에 관한 법률」 제5조는 증권금융회사의 임원에게 준용한다.<개정 2015. 7. 31.>\\n③ 증권금융회사의 상근 임직원은 금융투자업자 및 금융투자업관계기관(그 상근 임직원이 소속된 증권금융회사를\\n제외한다)과 자금의 공여, 손익의 분배, 그 밖에 영업에 관하여 대통령령으로 정하는 특별한 이해관계를 가져서는\\n아니 된다.',\n",
       "   '제328조(준용규정) 제54조, 제63조, 제64조 및 「금융회사의 지배구조에 관한 법률」',\n",
       "   '제31조(제5항은 제외한다)는 증권\\n금융회사에 준용한다.\\n법제처                                                            150                                                       국가법령정보센터\\n자본시장과 금융투자업에 관한 법률 \\n[전문개정 2015. 7. 31.]',\n",
       "   '제329조(사채의 발행) ① 증권금융회사는 자본금과 준비금의 합계액의 20배를 초과하지 아니하는 범위에서 사채를 발\\n행할 수 있다. <개정 2013. 5. 28.>\\n② 증권금융회사는 제1항에 따라 발행한 사채의 상환을 위하여 일시적으로 그 한도를 초과하여 사채를 발행할 수\\n있다. 이 경우 발행 후 1개월 이내에 제1항의 한도에 적합하도록 하여야 한다.\\n③ 제1항에 따른 증권금융회사의 사채 발행에 관하여 필요한 사항은 대통령령으로 정한다.',\n",
       "   '제330조(금융투자업자 자금의 예탁 등) ① 증권금융회사는 금융투자업자, 금융투자업관계기관(그 증권금융회사를 제외\\n한다), 거래소, 상장법인, 그 밖에 총리령으로 정하는 자로부터 자금의 예탁을 받을 수 있다. <개정 2008. 2. 29.>\\n② 증권금융회사는 제1항의 업무를 위하여 필요한 경우에는 총리령으로 정하는 방법에 따라 채무증서를 발행할 수\\n있다.<개정 2008. 2. 29.>\\n③ 제1항 및 제2항의 경우에는 「한국은행법」과 「은행법」을 적용하지 아니한다.',\n",
       "   '제331조(감독) ① 금융위원회는 증권금융회사에 대하여 이 법이 정하는 바에 따라 감독하며, 이에 필요한 조치를 명할\\n수 있다. <개정 2008. 2. 29.>\\n② 삭제<2008. 2. 29.>\\n③ 「은행법」 제34조 및 제46조는 증권금융회사의 경영의 건전성을 유지하기 위한 감독업무에 관하여 준용한다. 이\\n경우 금융위원회는 증권금융회사의 특성을 고려하여 별도의 경영지도기준을 정하여야 한다.<개정 2008. 2. 29.,\\n2010. 5. 17.>',\n",
       "   '제332조(업무 폐지 등의 승인) ① 증권금융회사는 제326조제1항에 따른 업무를 폐지하거나 해산하고자 하는 경우에는\\n금융위원회의 승인을 받아야 한다. <개정 2008. 2. 29.>\\n② 금융위원회는 제1항에 따른 승인을 한 경우 그 내용을 관보 및 인터넷 홈페이지 등에 공고하여야 한다.<개정\\n2008. 2. 29.>\\n③ 제1항에 따른 승인방법ㆍ절차, 그 밖의 승인업무 처리를 위하여 필요한 사항은 대통령령으로 정한다.',\n",
       "   '제333조(정관ㆍ규정의 보고) ① 증권금융회사는 정관을 변경한 경우에는 이를 지체 없이 금융위원회에 보고하여야 한\\n다. <개정 2008. 2. 29.>\\n② 증권금융회사는 그 업무에 관한 규정(規程)을 제정ㆍ변경하거나 폐지한 경우에는 이를 지체 없이 금융위원회에\\n보고하여야 한다.<개정 2008. 2. 29.>',\n",
       "   '제334조(증권금융회사에 대한 검사)',\n",
       "   '제419조(제2항부터 제4항까지의 규정 및 제8항을 제외한다)는 증권금융회사에 대\\n한 검사에 관하여 준용한다.',\n",
       "   '제335조(증권금융회사에 대한 조치) ① 금융위원회는 증권금융회사가 다음 각 호의 어느 하나에 해당하는 경우에는 제\\n324조제1항에 따른 인가를 취소할 수 있다. <개정 2008. 2. 29.>\\n1. 거짓, 그 밖의 부정한 방법으로 제324조제1항에 따른 인가를 받은 경우\\n2. 인가조건을 위반한 경우\\n3. 제324조제9항에 따른 인가요건 유지의무를 위반한 경우\\n4. 업무의 정지기간 중에 업무를 한 경우\\n5. 금융위원회의 시정명령 또는 중지명령을 이행하지 아니한 경우\\n6. 별표 9 각 호의 어느 하나에 해당하는 경우로서 대통령령으로 정하는 경우\\n7. 대통령령으로 정하는 금융관련 법령 등을 위반한 경우로서 대통령령으로 정하는 경우\\n8. 그 밖에 투자자의 이익을 현저히 해할 우려가 있거나 해당 업무를 영위하기 곤란하다고 인정되는 경우로서 대통\\n령령으로 정하는 경우\\n법제처                                                            151                                                       국가법령정보센터\\n자본시장과 금융투자업에 관한 법률 \\n② 금융위원회는 증권금융회사가 제1항 각 호(제6호를 제외한다)의 어느 하나에 해당하거나 별표 9 각 호의 어느\\n하나에 해당하는 경우에는 다음 각 호의 어느 하나에 해당하는 조치를 할 수 있다.<개정 2008. 2. 29.>\\n1. 6개월 이내의 업무의 전부 또는 일부의 정지\\n2. 계약의 인계명령\\n3. 위법행위의 시정명령 또는 중지명령\\n4. 위법행위로 인한 조치를 받았다는 사실의 공표명령 또는 게시명령\\n5. 기관경고\\n6. 기관주의\\n7. 그 밖에 위법행위를 시정하거나 방지하기 위하여 필요한 조치로서 대통령령으로 정하는 조치\\n③ 금융위원회는 증권금융회사의 임원이 제1항 각 호(제6호를 제외한다)의 어느 하나에 해당하거나 별표 9 각 호의\\n어느 하나에 해당하는 경우에는 다음 각 호의 어느 하나에 해당하는 조치를 할 수 있다.<개정 2008. 2. 29.>\\n1. 해임요구\\n2. 6개월 이내의 직무정지\\n3. 문책경고\\n4. 주의적 경고\\n5. 주의\\n6. 그 밖에 위법행위를 시정하거나 방지하기 위하여 필요한 조치로서 대통령령으로 정하는 조치\\n④ 금융위원회는 증권금융회사의 직원이 제1항 각 호(제6호를 제외한다)의 어느 하나에 해당하거나 별표 9 각 호의\\n어느 하나에 해당하는 경우에는 다음 각 호의 어느 하나에 해당하는 조치를 그 증권금융회사에 요구할 수 있다.<개\\n정 2008. 2. 29.>\\n1. 면직\\n2. 6개월 이내의 정직\\n3. 감봉\\n4. 견책\\n5. 경고\\n6. 주의\\n7. 그 밖에 위법행위를 시정하거나 방지하기 위하여 필요한 조치로서 대통령령으로 정하는 조치\\n⑤ 제422조제3항 및 제423조부터 제425조까지의 규정은 증권금융회사 및 그 임직원에 대한 조치 등에 관하여 준용\\n한다.<개정 2008. 2. 29.>'],\n",
       "  '제4장 종합금융회사': ['제336조(종합금융회사의 업무) ① 종합금융회사(종전의 「종합금융회사에 관한 법률」 제3조에 따라 금융위원회의 인가\\n를 받은 자를 말한다. 이하 같다)의 업무는 다음 각 호와 같다. <개정 2008. 2. 29.>\\n1. 1년 이내에서 대통령령으로 정하는 기간 이내에 만기가 도래하는 어음의 발행ㆍ할인ㆍ매매ㆍ중개ㆍ인수 및 보\\n증 \\n2. 설비 또는 운전자금의 투융자\\n3. 증권의 인수ㆍ매출 또는 모집ㆍ매출의 중개ㆍ주선ㆍ대리\\n4. 외자도입, 해외 투자, 그 밖의 국제금융의 주선과 외자의 차입 및 전대\\n5. 채권의 발행\\n6. 기업의 경영 상담과 기업인수 또는 합병 등에 관한 용역\\n7. 지급보증\\n8. 제1호부터 제7호까지의 업무에 부수되는 업무로서 대통령령으로 정하는 업무\\n② 종합금융회사는 제1항의 업무 외에 다음 각 호의 어느 하나에 해당하는 업무를 이 법 또는 해당 법률이 정하는\\n바에 따라 인가ㆍ허가ㆍ등록 등을 받아 영위할 수 있다.\\n1. 「여신전문금융업법」에 따른 시설대여업무\\n2. 집합투자업(투자신탁의 설정ㆍ해지 및 투자신탁재산의 운용업무에 한한다)\\n3. 금전신탁 외의 신탁업\\n4. 증권을 대상으로 하는 투자매매업 및 투자중개업(제1항제3호에 해당되는 부분을 제외한다)\\n5. 「외국환거래법」에 따른 외국환업무\\n6. 그 밖에 제1항 각 호의 업무 또는 제1호부터 제5호까지의 업무와 관련된 업무로서 대통령령으로 정하는 업무\\n③ 제1항 각 호의 업무를 영위함에 있어서 그 방법 및 절차와 준수사항 등에 관하여 필요한 사항은 대통령령으로\\n정한다.\\n법제처                                                            157                                                       국가법령정보센터\\n자본시장과 금융투자업에 관한 법률',\n",
       "   '제337조(지점등의 설치) 종합금융회사는 지점ㆍ사무소, 그 밖에 이와 유사한 명칭의 영업소(사무의 일부만을 수행하는\\n출장소ㆍ관리사무소, 그 밖에 이와 유사한 장소를 포함하며, 이하 “지점등”이라 한다)를 설치하고자 하는 경우에는\\n대통령령으로 정하는 기준 및 방법에 따라 금융위원회의 인가를 받아야 한다. <개정 2008. 2. 29.>',\n",
       "   '제338조(유사명칭의 사용금지) 종합금융회사가 아닌 자는 “종합금융회사” 또는 이와 유사한 명칭을 사용하여서는 아니\\n된다.',\n",
       "   '제339조(인가사항 등) ① 종합금융회사는 제336조제1항에 따른 업무를 폐지하거나 해산하고자 하는 경우에는 금융위\\n원회의 인가를 받아야 한다. <개정 2008. 2. 29.>\\n② 종합금융회사는 다음 각 호의 어느 하나에 해당하는 경우에는 그 사유가 발생한 날부터 7일 이내에 금융위원회\\n에 그 내용을 보고하여야 한다. 다만, 제3호의 경우에는 사전에 금융위원회에 신고하여야 한다.<개정 2008. 2. 29.>\\n1. 정관의 변경\\n2. 업무방법의 변경\\n3. 본점의 이전 또는 지점등의 이전ㆍ폐쇄',\n",
       "   '제340조(채권의 발행) ① 종합금융회사는 「상법」 제470조에 불구하고 자기자본의 10배의 범위에서 채권을 발행할 수\\n있다.\\n② 종합금융회사는 제1항에 따라 발행한 채권의 상환을 위하여 필요한 경우에는 일시적으로 그 한도를 초과하여 채\\n권을 발행할 수 있다.\\n③ 그 밖에 채권의 발행에 관하여 필요한 사항은 대통령령으로 정한다.',\n",
       "   '제341조(집합투자업에 대한 특례) ① 제250조제3항(제1호 및 제2호에 한한다)ㆍ제5항 및 제6항은 종합금융회사에 준\\n용한다.\\n② 종합금융회사는 이 법에 따라 투자신탁의 설정ㆍ해지 및 투자신탁재산의 운용업무를 영위하는 경우에는 임원\\n(사실상 임원과 동등한 지위에 있는 자로서 대통령령으로 정하는 자를 포함한다. 이하 이 항에서 같다)을 두어야 하\\n고, 임직원에게 다음 각 호의 업무를 겸직하게 하여서는 아니 되며, 전산설비 또는 사무실 등의 공동사용 금지 및 다\\n른 업무를 영위하는 임직원 간의 정보교류 제한 등 대통령령으로 정하는 이해상충방지체계를 갖추어야 한다. 다만,\\n임원의 경우 제1호의 업무 중 제2호의 업무와 이해상충이 적은 업무로서 대통령령으로 정하는 업무와 제2호의 업\\n무를 겸직할 수 있다.\\n1. 제336조에 따른 업무(제2호의 업무를 제외한다)\\n2. 투자신탁의 설정ㆍ해지 및 투자신탁재산의 운용업무',\n",
       "   '제342조(동일차주 등에 대한 신용공여한도 등) ① 종합금융회사는 같은 개인ㆍ법인 및 그와 신용위험을 공유하는 자\\n(이하 이 조에서 “동일차주”라 한다)에 대하여 그 종합금융회사의 자기자본(국제결제은행의 기준에 따른 기본자본과\\n보완자본의 합계액을 말한다. 이하 이 장에서 같다)의 100분의 25를 초과하는 신용공여(대출, 어음의 할인, 지급보증,\\n자금 지원적 성격의 증권의 매입, 그 밖에 금융거래상의 신용위험을 수반하는 종합금융회사의 직접ㆍ간접적 거래를\\n말한다. 이하 이 장에서 같다)를 할 수 없다.\\n② 종합금융회사는 그 종합금융회사의 임원ㆍ자회사 및 그와 신용위험을 공유하는 자(이하 이 조에서 “관계인”이라\\n한다)에 대하여 그 종합금융회사의 자기자본의 100분의 25의 범위에서 대통령령으로 정하는 한도를 초과하는 신용\\n공여를 할 수 없다.\\n③ 종합금융회사의 동일차주 각각에 대한 신용공여가 그 종합금융회사의 자기자본의 100분의 10을 초과하는 신용\\n공여의 총 합계액은 매 월말 기준으로 그 종합금융회사 자기자본의 5배를 초과할 수 없다.\\n④ 종합금융회사는 같은 개인이나 법인 각각에 대하여 그 종합금융회사의 자기자본의 100분의 20을 초과하여 신용\\n공여를 할 수 없다.\\n⑤ 종합금융회사는 제1항부터 제4항까지의 규정에 불구하고 다음 각 호의 어느 하나에 해당하는 경우로서 대통령\\n령으로 정하는 경우에는 제1항부터 제4항까지의 규정에 따른 한도를 초과하여 신용공여를 할 수 있다.\\n법제처                                                            158                                                       국가법령정보센터\\n자본시장과 금융투자업에 관한 법률 \\n1. 국민경제 또는 종합금융회사의 채권확보의 실효성 제고를 위하여 필요한 경우\\n2. 종합금융회사가 추가로 신용공여를 하지 아니하였음에도 불구하고 자기자본의 변동, 동일차주 구성의 변동 등으\\n로 인하여 제1항부터 제4항까지의 규정에 따른 한도를 초과하게 되는 경우 \\n⑥ 종합금융회사는 제5항제2호에 따라 제1항부터 제4항까지의 규정에 따른 한도를 초과하게 되는 경우에는 그 한\\n도를 초과하게 된 날부터 1년 이내에 제1항부터 제4항까지의 규정에 따른 한도에 적합하도록 하여야 한다. 다만, 대\\n통령령으로 정하는 부득이한 사유에 해당하는 경우에는 금융위원회가 그 기간을 정하여 연장할 수 있다.<개정\\n2008. 2. 29.>\\n⑦ 제1항에 따른 자기자본, 신용공여 및 동일차주와 제2항에 따른 관계인의 구체적 범위는 대통령령으로 정한다.',\n",
       "   '제343조(대주주와의 거래의 제한 등) ① 종합금융회사는 그의 대주주(그의 특수관계인을 포함한다. 이하 이 조에서 같\\n다)에게 신용공여를 함에 있어서 자기자본의 100분의 25의 범위에서 대통령령으로 정하는 한도를 초과하여서는 아\\n니 되며, 대주주는 그 종합금융회사로부터 그 한도를 초과하여 신용공여를 받아서는 아니 된다.\\n② 종합금융회사는 그의 대주주에게 제1항의 범위에서 대통령령으로 정하는 금액 이상의 신용공여(대통령령으로\\n정하는 거래를 포함한다. 이하 이 조에서 같다)를 하거나 대주주가 발행한 주식을 대통령령으로 정하는 금액 이상으\\n로 취득하려는 경우에는 미리 이사회 결의를 거쳐야 한다. 이 경우 이사회는 재적이사 전원의 찬성으로 결의한다.\\n③ 종합금융회사는 그의 대주주에게 제2항에 따라 대통령령으로 정하는 금액 이상의 신용공여를 하거나 대주주가\\n발행한 주식을 대통령령으로 정하는 금액 이상으로 취득한 경우에는 그 사실을 금융위원회에 지체 없이 보고하고,\\n인터넷 홈페이지 등을 이용하여 공시하여야 한다.<개정 2008. 2. 29.>\\n④ 종합금융회사는 그의 대주주에 대한 신용공여 또는 대주주가 발행한 주식의 취득에 관한 보고사항 중 대통령령\\n으로 정하는 사항을 종합하여 분기별로 금융위원회에 보고하고, 인터넷 홈페이지 등을 이용하여 공시하여야 한다.\\n<개정 2008. 2. 29.>\\n⑤ 종합금융회사는 추가적인 신용공여를 하지 아니하였음에도 불구하고 자기자본의 변동 및 대주주의 변경 등으로\\n인하여 제1항에서 정한 한도를 초과하게 되는 경우에는 대통령령으로 정하는 기간 이내에 제1항에 적합하도록 하\\n여야 한다.\\n⑥ 종합금융회사는 제5항에 불구하고 신용공여의 기한 및 규모 등에 따른 부득이한 사유가 있는 경우에는 금융위원\\n회의 승인을 받아 그 기간을 연장할 수 있다.<개정 2008. 2. 29.>\\n⑦ 제6항에 따른 승인을 받으려는 종합금융회사는 제5항에 따른 기간이 만료되기 3개월 전까지 제1항에 따른 한도\\n에 적합하도록 하기 위한 세부계획서를 금융위원회에 제출하여야 하고, 금융위원회는 세부계획서를 제출받은 날부\\n터 1개월 이내에 승인 여부를 결정ㆍ통보하여야 한다.<개정 2008. 2. 29.>\\n⑧ 금융위원회는 종합금융회사 또는 그의 대주주가 제1항부터 제7항까지의 규정을 위반한 혐의가 있다고 인정되는\\n경우에는 종합금융회사 또는 대주주에 대하여 필요한 자료의 제출을 명할 수 있다.<개정 2008. 2. 29.>\\n⑨ 금융위원회는 종합금융회사의 대주주(회사에 한한다)의 부채가 자산을 초과하는 등 재무구조의 부실로 인하여\\n종합금융회사의 경영건전성을 현저히 해칠 우려가 있는 경우로서 대통령령으로 정하는 경우에는 그 종합금융회사\\n에 대하여 다음 각 호의 조치를 할 수 있다.<개정 2008. 2. 29.>\\n1. 그 대주주에 대한 신규 신용공여의 금지\\n2. 그 대주주가 발행한 증권의 신규취득 금지\\n3. 그 밖에 그 대주주에 대한 자금지원 성격의 거래제한 등 대통령령으로 정하는 조치',\n",
       "   '제344조(증권의 투자한도) ① 종합금융회사는 대통령령으로 정하는 경우를 제외하고는 자기자본의 100분의 100을 초\\n과하여 증권에 투자하여서는 아니 된다. 이 경우 국채증권과 한국은행이 발행한 통화안정증권은 그 한도계산에 산입\\n하지 아니한다.\\n② 금융위원회는 필요한 경우 제1항에 따른 투자한도의 범위에서 대통령령으로 정하는 방법에 따라 주식 및 파생결\\n합증권 등에 대한 투자한도를 따로 정하여 고시할 수 있다.<개정 2008. 2. 29.>\\n법제처                                                            159                                                       국가법령정보센터\\n자본시장과 금융투자업에 관한 법률',\n",
       "   '제345조(자금지원 관련 금지행위) ① 상호출자제한기업집단에 속하는 종합금융회사는 다른 상호출자제한기업집단에\\n속하는 금융기관(「금융산업의 구조개선에 관한 법률」에 따른 금융기관을 말한다. 이하 이 항에서 같다) 또는 회사와\\n다음 각 호의 행위를 하여서는 아니 된다.\\n1. 제342조부터 제344조까지의 규정에 따른 한도를 회피하기 위한 목적으로 다른 금융기관 또는 회사의 의결권 있\\n는 주식을 서로 교차하여 소유하거나 신용공여를 하는 행위 \\n2. 「상법」, 그 밖의 법률에 따른 자기주식 취득의 제한을 회피하기 위한 목적으로 서로 교차하여 주식을 취득하는\\n행위 \\n3. 그 밖에 예금자 및 투자자의 이익을 크게 해할 우려가 있는 행위로서 대통령령으로 정하는 행위\\n② 종합금융회사는 제1항을 위반하여 취득한 주식에 대하여는 의결권을 행사할 수 없다.\\n③ 종합금융회사는 그 종합금융회사의 주식을 매입시키기 위한 신용공여를 하여서는 아니 된다.\\n④ 금융위원회는 제1항 또는 제3항을 위반하여 주식을 취득하거나 신용공여를 한 종합금융회사에 대하여 6개월 이\\n내의 기간을 정하여 그 주식의 처분 또는 신용공여의 회수를 명하는 등 필요한 조치를 할 수 있다.<개정 2008. 2.\\n29.>',\n",
       "   '제346조(지급준비자산의 보유) 종합금융회사는 채무의 변제와 긴급한 자금인출에 대비하기 위하여 대통령령으로 정하\\n는 기준 및 방법에 따라 지급준비자산을 보유하여야 한다.',\n",
       "   '제347조(부동산 취득의 제한) ① 종합금융회사는 업무용 부동산을 제외하고는 부동산을 취득하거나 소유할 수 없다. 다\\n만, 담보권의 실행으로 인하여 취득하는 경우에는 이를 소유할 수 있다.\\n② 종합금융회사는 자기자본의 100분의 100을 초과하여 업무용 부동산을 취득하여서는 아니 된다.\\n③ 종합금융회사는 자기가 소유하는 부동산 중 업무용 부동산이 아니거나 제1항 단서에 따라 취득한 부동산을 대통\\n령령으로 정하는 방법에 따라 처분하여야 한다.\\n④ 제1항 본문에 따른 업무용 부동산의 범위는 대통령령으로 정한다.\\n \\n제348조 삭제 <2016. 3. 29.>',\n",
       "   '제349조(과징금) ① 금융위원회는 종합금융회사가 제343조제1항을 위반한 경우에는 그 종합금융회사에 대하여 한도를\\n초과한 신용공여액의 범위에서 과징금을 부과할 수 있다. <개정 2008. 2. 29., 2017. 4. 18.>\\n② 금융위원회는 종합금융회사가 제347조제1항 또는 제2항을 위반한 경우에는 그 종합금융회사에 대하여 다음 각\\n호의 구분에 따른 범위에서 과징금을 부과할 수 있다.<신설 2017. 4. 18.>\\n1. 제347조제1항을 위반한 경우: 부동산 취득금액의 100분의 30\\n2. 제347조제2항을 위반한 경우: 한도를 초과한 업무용 부동산 취득금액의 100분의 30\\n③ 제1항 및 제2항에 따른 과징금의 부과에 관하여는 제430조부터 제434조까지의 규정을 준용한다.<개정 2017. 4.\\n18.>',\n",
       "   '제350조(준용규정) 종합금융회사에 관하여는 제31조부터 제33조까지, 제35조, 제36조, 제416조,',\n",
       "   '제418조(제4호부터 제\\n9호까지의 규정에 한정한다) 및 「금융회사의 지배구조에 관한 법률」',\n",
       "   '제31조(제5항은 제외한다)를 준용한다. 이 경우\\n제31조제1항 중 “금융투자업자(겸영금융투자업자를 제외한다. 이하 이 절에서 같다)”는 “종합금융회사”로 보고, 제\\n418조 각 호 외의 부분 중 “금융투자업자(겸영금융투자업자의 경우에는 제6호부터 제9호까지에 한한다)”는 “종합금\\n융회사”로 본다.\\n[전문개정 2015. 7. 31.]\\n \\n제351조 삭제 <2009. 2. 3.>',\n",
       "   '제352조(다른 법률과의 관계) ① 「한국은행법」 및 「은행법」은 종합금융회사에는 적용하지 아니한다.\\n② 종합금융회사가 제336조에 규정하는 업무를 영위하는 경우에는 이 장에 특별한 규정이 있는 사항을 제외하고는\\n그 업무의 종류에 따라 이 법 또는 각 해당 법률을 적용한다.\\n법제처                                                            160                                                       국가법령정보센터\\n자본시장과 금융투자업에 관한 법률',\n",
       "   '제353조(종합금융회사에 대한 검사)',\n",
       "   '제419조(제2항부터 제4항까지 및 제8항을 제외한다)는 종합금융회사에 대한 검사\\n에 관하여 준용한다.',\n",
       "   '제354조(종합금융회사에 대한 조치) ① 금융위원회는 종합금융회사가 다음 각 호의 어느 하나에 해당하는 경우에는 종\\n합금융회사의 인가를 취소할 수 있다. <개정 2008. 2. 29.>\\n1. 인가조건을 위반한 경우\\n2. 업무의 정지기간 중에 업무를 한 경우\\n3. 금융위원회의 시정명령 또는 중지명령을 이행하지 아니한 경우\\n4. 별표 10 각 호의 어느 하나에 해당하는 경우로서 대통령령으로 정하는 경우\\n5. 대통령령으로 정하는 금융관련 법령 등을 위반한 경우로서 대통령령으로 정하는 경우\\n6. 그 밖에 투자자의 이익을 현저히 해할 우려가 있거나 해당 업무를 영위하기 곤란하다고 인정되는 경우로서 대통\\n령령으로 정하는 경우 \\n② 금융위원회는 종합금융회사가 제1항 각 호(제4호를 제외한다)의 어느 하나에 해당하거나 별표 10 각 호의 어느\\n하나에 해당하는 경우에는 다음 각 호의 어느 하나에 해당하는 조치를 할 수 있다.<개정 2008. 2. 29.>\\n1. 6개월 이내의 업무의 전부 또는 일부의 정지\\n2. 계약의 인계명령\\n3. 위법행위의 시정명령 또는 중지명령\\n4. 위법행위로 인한 조치를 받았다는 사실의 공표명령 또는 게시명령\\n5. 기관경고\\n6. 기관주의\\n7. 그 밖에 위법행위를 시정하거나 방지하기 위하여 필요한 조치로서 대통령령으로 정하는 조치\\n③ 금융위원회는 종합금융회사의 임원이 제1항 각 호(제4호를 제외한다)의 어느 하나에 해당하거나 별표 10 각 호\\n의 어느 하나에 해당하는 경우에는 다음 각 호의 어느 하나에 해당하는 조치를 할 수 있다.<개정 2008. 2. 29.>\\n1. 해임요구\\n2. 6개월 이내의 직무정지\\n3. 문책경고\\n4. 주의적 경고\\n5. 주의\\n6. 그 밖에 위법행위를 시정하거나 방지하기 위하여 필요한 조치로서 대통령령으로 정하는 조치\\n④ 금융위원회는 종합금융회사의 직원이 제1항 각 호(제4호를 제외한다)의 어느 하나에 해당하거나 별표 10 각 호\\n의 어느 하나에 해당하는 경우에는 다음 각 호의 어느 하나에 해당하는 조치를 그 종합금융회사에 요구할 수 있다.\\n<개정 2008. 2. 29.>\\n1. 면직\\n2. 6개월 이내의 정직\\n3. 감봉\\n4. 견책\\n5. 경고\\n6. 주의\\n7. 그 밖에 위법행위를 시정하거나 방지하기 위하여 필요한 조치로서 대통령령으로 정하는 조치\\n⑤ 제422조제3항 및 제423조부터 제425조까지의 규정은 종합금융회사 및 그 임직원에 대한 조치 등에 관하여 준용\\n한다.'],\n",
       "  '제5장 자금중개회사\\n법제처                                                            161                                                       국가법령정보센터\\n자본시장과 금융투자업에 관한 법률': ['제355조(자금중개회사의 인가) ① 대통령령으로 정하는 금융기관 등 간 자금거래의 중개업무를 영위하려는 자는 금융\\n위원회의 인가를 받아야 한다. <개정 2008. 2. 29.>\\n② 제1항에 따른 인가를 받으려는 자는 다음 각 호의 요건을 모두 갖추어야 한다.<개정 2013. 5. 28., 2015. 7. 31.>\\n1. 「상법」에 따른 주식회사일 것\\n2. 10억원 이상으로서 대통령령으로 정하는 금액 이상의 자기자본을 갖출 것\\n3. 사업계획이 타당하고 건전할 것\\n4. 투자자를 보호하고 영위하고자 하는 업을 수행하기에 충분한 인력 및 전산설비, 그 밖의 물적 설비를 갖출 것\\n5. 임원이 「금융회사의 지배구조에 관한 법률」 제5조에 적합할 것\\n6. 대주주(제12조제2항제6호가목의 대주주를 말한다)가 충분한 출자능력, 건전한 재무상태 및 사회적 신용을 갖출\\n것 \\n③ 제1항에 따른 인가를 받으려는 자는 인가신청서를 금융위원회에 제출하여야 한다.<개정 2008. 2. 29.>\\n④ 금융위원회는 제3항의 인가신청서를 접수한 경우에는 그 내용을 심사하여 3개월 이내에 인가 여부를 결정하고,\\n그 결과와 이유를 지체 없이 신청인에게 문서로 통지하여야 한다. 이 경우 인가신청서에 흠결이 있는 때에는 보완을\\n요구할 수 있다.<개정 2008. 2. 29.>\\n⑤ 제4항의 심사기간을 산정함에 있어서 인가신청서 흠결의 보완기간 등 총리령으로 정하는 기간은 산입하지 아니\\n한다.<개정 2008. 2. 29.>\\n⑥ 금융위원회는 제4항에 따라 인가를 하는 경우에는 경영의 건전성 확보 및 투자자 보호에 필요한 조건을 붙일 수\\n있다.<개정 2008. 2. 29.>\\n⑦ 제6항에 따라 조건이 붙은 인가를 받은 자는 사정의 변경, 그 밖에 정당한 사유가 있는 경우에는 금융위원회에\\n조건의 취소 또는 변경을 요청할 수 있다. 이 경우 금융위원회는 2개월 이내에 조건의 취소 또는 변경 여부를 결정\\n하고, 그 결과를 지체 없이 신청인에게 문서로 통지하여야 한다.<개정 2008. 2. 29.>\\n⑧ 금융위원회는 제4항에 따라 인가를 한 경우에는 다음 각 호의 사항을 관보 및 인터넷 홈페이지 등에 공고하여야\\n한다.<개정 2008. 2. 29.>\\n1. 인가의 내용\\n2. 인가의 조건(조건을 붙인 경우에 한한다)\\n3. 인가의 조건을 취소하거나 변경한 경우 그 내용\\n⑨ 자금중개회사는 인가를 받아 그 업무를 영위함에 있어서 제2항 각 호의 인가요건(제2호 및 제6호의 경우에는 대\\n통령령으로 정하는 완화된 요건을 말한다)을 유지하여야 한다.\\n⑩ 제1항부터 제8항까지의 규정에 따른 인가신청서의 기재사항ㆍ첨부서류 등 인가의 신청에 관한 사항과 인가심사\\n의 방법ㆍ절차, 그 밖에 필요한 사항은 대통령령으로 정한다.',\n",
       "   '제356조(유사명칭 사용 금지) 자금중개회사가 아닌 자는 “자금중개” 또는 이와 유사한 명칭을 사용하여서는 아니 된다.',\n",
       "   '제357조(자금중개회사의 행위규제 등) ① 자금중개회사는 금융투자업(제355조제1항에 따른 자금거래의 중개업무와 경\\n제적 실질이 유사한 것으로서 대통령령으로 정하는 금융투자업을 제외한다)을 영위하여서는 아니 된다.\\n② 제31조부터 제33조까지,',\n",
       "   '제339조(제2항제3호는 제외한다) 및 제416조는 자금중개회사에 준용한다.<개정 2015.\\n7. 31.>\\n③ 자금중개회사가 제355조제1항에 따른 자금거래의 중개업무를 영위함에 있어서 필요한 방법 및 절차 등은 대통\\n령령으로 정한다.\\n④ 자금중개회사의 상근임원은 대통령령으로 정하는 다른 영리법인의 상시적인 업무에 종사하려는 경우에는 금융\\n위원회의 승인을 받아야 한다.<신설 2015. 7. 31.>',\n",
       "   '제358조(자금중개회사에 대한 검사)',\n",
       "   '제419조(제2항부터 제4항까지 및 제8항을 제외한다)는 자금중개회사에 대한 검사\\n에 관하여 준용한다.\\n법제처                                                            162                                                       국가법령정보센터\\n자본시장과 금융투자업에 관한 법률',\n",
       "   '제359조(자금중개회사에 대한 조치) ① 금융위원회는 자금중개회사가 다음 각 호의 어느 하나에 해당하는 경우에는 제\\n355조제1항에 따른 인가를 취소할 수 있다. <개정 2008. 2. 29.>\\n1. 거짓, 그 밖의 부정한 방법으로 제355조제1항에 따른 인가를 받은 경우\\n2. 인가조건을 위반한 경우\\n3. 제355조제9항에 따른 인가요건 유지의무를 위반한 경우\\n4. 업무의 정지기간 중에 업무를 한 경우\\n5. 금융위원회의 시정명령 또는 중지명령을 이행하지 아니한 경우\\n6. 별표 11 각 호의 어느 하나에 해당하는 경우로서 대통령령으로 정하는 경우\\n7. 대통령령으로 정하는 금융관련 법령 등을 위반한 경우로서 대통령령으로 정하는 경우\\n8. 그 밖에 투자자의 이익을 현저히 해할 우려가 있거나 해당 업무를 영위하기 곤란하다고 인정되는 경우로서 대통\\n령령으로 정하는 경우 \\n② 금융위원회는 자금중개회사가 제1항 각 호(제6호를 제외한다)의 어느 하나에 해당하거나 별표 11 각 호의 어느\\n하나에 해당하는 경우에는 다음 각 호의 어느 하나에 해당하는 조치를 할 수 있다.<개정 2008. 2. 29.>\\n1. 6개월 이내의 업무의 전부 또는 일부의 정지\\n2. 계약의 인계명령\\n3. 위법행위의 시정명령 또는 중지명령\\n4. 위법행위로 인한 조치를 받았다는 사실의 공표명령 또는 게시명령\\n5. 기관경고\\n6. 기관주의\\n7. 그 밖에 위법행위를 시정하거나 방지하기 위하여 필요한 조치로서 대통령령으로 정하는 조치\\n③ 금융위원회는 자금중개회사의 임원이 제1항 각 호(제6호를 제외한다)의 어느 하나에 해당하거나 별표 11 각 호\\n의 하나에 해당하는 경우에는 다음 각 호의 어느 하나에 해당하는 조치를 할 수 있다.<개정 2008. 2. 29.>\\n1. 해임요구\\n2. 6개월 이내의 직무정지\\n3. 문책경고\\n4. 주의적 경고\\n5. 주의\\n6. 그 밖에 위법행위를 시정하거나 방지하기 위하여 필요한 조치로서 대통령령으로 정하는 조치\\n④ 금융위원회는 자금중개회사의 직원이 제1항 각 호(제6호를 제외한다)의 어느 하나에 해당하거나 별표 11 각 호\\n의 어느 하나에 해당하는 경우에는 다음 각 호의 어느 하나에 해당하는 조치를 그 자금중개회사에 요구할 수 있다.\\n<개정 2008. 2. 29.>\\n1. 면직\\n2. 6개월 이내의 정직\\n3. 감봉\\n4. 견책\\n5. 경고\\n6. 주의\\n7. 그 밖에 위법행위를 시정하거나 방지하기 위하여 필요한 조치로서 대통령령으로 정하는 조치\\n⑤ 제422조제3항 및 제423조부터 제425조까지의 규정은 자금중개회사 및 그 임직원에 대한 조치 등에 관하여 준용\\n한다.'],\n",
       "  '제6장 단기금융회사\\n법제처                                                            163                                                       국가법령정보센터\\n자본시장과 금융투자업에 관한 법률': ['제360조(금융기관의 단기금융업무) ① 1년 이내에서 대통령령으로 정하는 기간 이내에 만기가 도래하는 어음의 발행ㆍ\\n할인ㆍ매매ㆍ중개ㆍ인수 및 보증업무와 그 부대업무(附帶業務)로서 대통령령으로 정하는 업무(이하 “단기금융업무\\n”라 한다)를 영위하려는 자는 금융위원회의 인가를 받아야 한다. <개정 2008. 2. 29.>\\n② 제1항에 따른 인가를 받으려는 자는 다음 각 호의 요건을 모두 갖추어야 한다.<개정 2021. 6. 8.>\\n1. 은행, 그 밖에 대통령령으로 정하는 금융기관일 것\\n2. 200억원 이상으로서 대통령령으로 정하는 금액 이상의 자기자본을 갖출 것\\n3. 사업계획이 타당하고 건전할 것\\n4. 투자자를 보호하고 영위하고자 하는 업을 수행하기에 충분한 인력 및 전산설비, 그 밖의 물적 시설을 갖출 것\\n5. 대주주(제12조제2항제6호가목의 대주주를 말한다)가 충분한 출자능력, 건전한 재무상태 및 사회적 신용을 갖출\\n것 \\n6. 대통령령으로 정하는 건전한 재무상태와 사회적 신용을 갖출 것\\n③ 제1항에 따른 인가를 받으려는 자는 인가신청서를 금융위원회에 제출하여야 한다.<개정 2008. 2. 29.>\\n④ 금융위원회는 제3항의 인가신청서를 접수한 경우에는 그 내용을 심사하여 3개월 이내에 인가 여부를 결정하고,\\n그 결과와 이유를 지체 없이 신청인에게 문서로 통지하여야 한다. 이 경우 인가신청서에 흠결이 있는 때에는 보완을\\n요구할 수 있다.<개정 2008. 2. 29.>\\n⑤ 제4항의 심사기간을 산정함에 있어서 인가신청서 흠결의 보완기간 등 총리령으로 정하는 기간은 산입하지 아니\\n한다.<개정 2008. 2. 29.>\\n⑥ 금융위원회는 제4항에 따라 인가를 하는 경우에는 경영의 건전성 확보 및 투자자 보호에 필요한 조건을 붙일 수\\n있다.<개정 2008. 2. 29.>\\n⑦ 제6항에 따라 조건이 붙은 인가를 받은 자는 사정의 변경, 그 밖에 정당한 사유가 있는 경우에는 금융위원회에\\n조건의 취소 또는 변경을 요청할 수 있다. 이 경우 금융위원회는 2개월 이내에 조건의 취소 또는 변경 여부를 결정\\n하고, 그 결과를 지체 없이 신청인에게 문서로 통지하여야 한다.<개정 2008. 2. 29.>\\n⑧ 금융위원회는 제4항에 따라 인가를 한 경우에는 다음 각 호의 사항을 관보 및 인터넷 홈페이지 등에 공고하여야\\n한다.<개정 2008. 2. 29.>\\n1. 인가의 내용\\n2. 인가의 조건(조건을 붙인 경우에 한한다)\\n3. 인가의 조건을 취소하거나 변경한 경우 그 내용\\n⑨ 단기금융회사는 인가를 받아 그 영업을 영위함에 있어서 제2항 각 호의 인가요건(제6호를 제외하며, 제2호 및 제\\n5호의 경우에는 대통령령으로 정하는 완화된 요건을 말한다)을 유지하여야 한다.<개정 2021. 6. 8.>\\n⑩ 제1항부터 제8항까지의 규정에 따른 인가신청서의 기재사항ㆍ첨부서류 등 인가의 신청에 관한 사항과 인가심사\\n의 방법ㆍ절차, 그 밖에 필요한 사항은 대통령령으로 정한다.',\n",
       "   '제361조(준용규정) 제33조,',\n",
       "   '제339조(제2항제1호 및 제3호를 제외한다), 제342조, 제352조제1항 및 제416조는 단기금융\\n회사에 그 인가받은 단기금융업무 범위에서 준용한다.',\n",
       "   '제362조(단기금융업무의 적용배제 등) ① 투자매매업 또는 투자중개업에 관한 금융투자업인가를 받은 자가 기업어음\\n증권에 대한 투자매매업 또는 투자중개업을 영위하는 경우에는 이를 단기금융업무로 보지 아니한다.\\n② 단기금융회사(종합금융회사를 포함한다)가 해당 업무를 영위하는 경우에는 이를 기업어음증권에 대한 투자매매\\n업 또는 투자중개업으로 보지 아니한다.',\n",
       "   '제363조(단기금융회사에 대한 검사)',\n",
       "   '제419조(제2항부터 제4항까지 및 제8항을 제외한다)는 단기금융회사에 대한 검사\\n에 관하여 준용한다.',\n",
       "   '제364조(단기금융회사에 대한 조치) ① 금융위원회는 단기금융회사가 다음 각 호의 어느 하나에 해당하는 경우에는 제\\n360조제1항에 따른 인가를 취소할 수 있다. <개정 2008. 2. 29.>\\n법제처                                                            164                                                       국가법령정보센터\\n자본시장과 금융투자업에 관한 법률 \\n1. 거짓, 그 밖의 부정한 방법으로 제360조제1항에 따른 인가를 받은 경우\\n2. 인가조건을 위반한 경우\\n3. 제360조제9항에 따른 인가요건 유지의무를 위반한 경우\\n4. 업무의 정지기간 중에 업무를 한 경우\\n5. 금융위원회의 시정명령 또는 중지명령을 이행하지 아니한 경우\\n6. 별표 12 각 호의 어느 하나에 해당하는 경우로서 대통령령으로 정하는 경우\\n7. 대통령령으로 정하는 금융관련 법령 등을 위반한 경우로서 대통령령으로 정하는 경우\\n8. 그 밖에 투자자의 이익을 현저히 해할 우려가 있거나 해당 업무를 영위하기 곤란하다고 인정되는 경우로서 대통\\n령령으로 정하는 경우 \\n② 금융위원회는 단기금융회사가 제1항 각 호(제6호를 제외한다)의 어느 하나에 해당하거나 별표 12 각 호의 어느\\n하나에 해당하는 경우에는 다음 각 호의 어느 하나에 해당하는 조치를 할 수 있다.<개정 2008. 2. 29.>\\n1. 6개월 이내의 업무의 전부 또는 일부의 정지\\n2. 계약의 인계명령\\n3. 위법행위의 시정명령 또는 중지명령\\n4. 위법행위로 인한 조치를 받았다는 사실의 공표명령 또는 게시명령\\n5. 기관경고\\n6. 기관주의\\n7. 그 밖에 위법행위를 시정하거나 방지하기 위하여 필요한 조치로서 대통령령으로 정하는 조치\\n③ 금융위원회는 단기금융회사의 임원이 제1항 각 호(제6호를 제외한다)의 어느 하나에 해당하거나 별표 12 각 호\\n의 어느 하나에 해당하는 경우에는 다음 각 호의 어느 하나에 해당하는 조치를 할 수 있다.<개정 2008. 2. 29.>\\n1. 해임요구\\n2. 6개월 이내의 직무정지\\n3. 문책경고\\n4. 주의적 경고\\n5. 주의\\n6. 그 밖에 위법행위를 시정하거나 방지하기 위하여 필요한 조치로서 대통령령으로 정하는 조치\\n④ 금융위원회는 단기금융회사의 직원이 제1항 각 호(제6호를 제외한다)의 어느 하나에 해당하거나 별표 12 각 호\\n의 어느 하나에 해당하는 경우에는 다음 각 호의 어느 하나에 해당하는 조치를 그 단기금융회사에 요구할 수 있다.\\n<개정 2008. 2. 29.>\\n1. 면직\\n2. 6개월 이내의 정직\\n3. 감봉\\n4. 견책\\n5. 경고\\n6. 주의\\n7. 그 밖에 위법행위를 시정하거나 방지하기 위하여 필요한 조치로서 대통령령으로 정하는 조치\\n⑤ 제422조제3항 및 제423조부터 제425조까지의 규정은 단기금융회사 및 그 임직원에 대한 조치 등에 관하여 준용\\n한다.'],\n",
       "  '제7장 명의개서대행회사': ['제365조(명의개서대행회사의 등록) ① 증권의 명의개서를 대행하는 업무를 영위하려는 자는 금융위원회에 등록하여야\\n한다. <개정 2008. 2. 29.>\\n법제처                                                            165                                                       국가법령정보센터\\n자본시장과 금융투자업에 관한 법률 \\n② 제1항에 따른 등록을 하려는 자는 다음 각 호의 요건을 모두 갖추어야 한다.<개정 2016. 3. 22.>\\n1. 전자등록기관 또는 전국적인 점포망을 갖춘 은행일 것\\n2. 전산설비 등 대통령령으로 정하는 물적 설비를 갖출 것\\n3. 대통령령으로 정하는 이해상충방지체계를 구축하고 있을 것\\n③ 제1항에 따른 등록을 하려는 자는 금융위원회에 등록신청서를 제출하여야 한다.<개정 2008. 2. 29.>\\n④ 금융위원회는 제3항의 등록신청서를 접수한 경우에는 그 내용을 검토하여 2개월 이내에 등록 여부를 결정하고,\\n그 결과와 이유를 지체 없이 신청인에게 문서로 통지하여야 한다. 이 경우 등록신청서에 흠결이 있는 때에는 보완을\\n요구할 수 있다.<개정 2008. 2. 29.>\\n⑤ 제4항의 검토기간을 산정함에 있어서 등록신청서 흠결의 보완기간 등 총리령으로 정하는 기간은 검토기간에 산\\n입하지 아니한다.<개정 2008. 2. 29.>\\n⑥ 금융위원회는 제4항의 등록 여부를 결정함에 있어서 다음 각 호의 어느 하나에 해당하는 사유가 없는 한 그 등\\n록을 거부하여서는 아니 된다.<개정 2008. 2. 29.>\\n1. 제2항의 등록요건을 갖추지 아니한 경우\\n2. 제3항의 등록신청서를 거짓으로 작성한 경우\\n3. 제4항 후단의 보완요구를 이행하지 아니한 경우\\n⑦ 금융위원회는 제4항에 따라 등록을 결정한 경우 명의개서대행회사등록부에 필요한 사항을 기재하여야 하며, 등\\n록결정한 내용을 관보 및 인터넷 홈페이지 등에 공고하여야 한다.<개정 2008. 2. 29.>\\n⑧ 명의개서대행회사는 등록 이후 그 영업을 영위함에 있어서 제2항 각 호의 등록요건을 계속 유지하여야 한다.\\n⑨ 제1항부터 제7항까지의 규정에 따른 등록신청서의 기재사항ㆍ첨부서류 등 등록의 신청에 관한 사항과 등록검토\\n의 방법ㆍ절차, 그 밖에 필요한 사항은 대통령령으로 정한다.',\n",
       "   '제366조(명의개서대행회사의 부수업무) 명의개서대행회사는 증권의 배당ㆍ이자 및 상환금의 지급을 대행하는 업무와\\n증권의 발행을 대행하는 업무를 영위할 수 있다.',\n",
       "   '제367조(준용규정) 제54조,',\n",
       "   '제63조(증권의 명의개서를 대행하는 업무를 담당하는 임직원에 한한다), 제64조 및 제\\n416조는 명의개서대행회사에 준용한다.',\n",
       "   '제368조(명의개서대행회사에 대한 검사)',\n",
       "   '제419조(제2항부터 제4항까지 및 제8항을 제외한다)는 명의개서대행회사에\\n대한 검사에 관하여 준용한다.',\n",
       "   '제369조(명의개서대행회사에 대한 조치) ① 금융위원회는 명의개서대행회사가 다음 각 호의 어느 하나에 해당하는 경\\n우에는 제365조제1항에 따른 등록을 취소할 수 있다. <개정 2008. 2. 29.>\\n1. 거짓, 그 밖의 부정한 방법으로 제365조제1항에 따른 등록을 한 경우\\n2. 제365조제8항에 따른 등록요건 유지의무를 위반한 경우\\n3. 업무의 정지기간 중에 업무를 한 경우\\n4. 금융위원회의 시정명령 또는 중지명령을 이행하지 아니한 경우\\n5. 별표 13 각 호의 어느 하나에 해당하는 경우로서 대통령령으로 정하는 경우\\n6. 대통령령으로 정하는 금융관련 법령 등을 위반한 경우로서 대통령령으로 정하는 경우\\n7. 그 밖에 투자자의 이익을 현저히 해할 우려가 있거나 해당 업무를 영위하기 곤란하다고 인정되는 경우로서 대통\\n령령으로 정하는 경우 \\n② 금융위원회는 명의개서대행회사가 제1항 각 호(제5호를 제외한다)의 어느 하나에 해당하거나 별표 13 각 호의\\n어느 하나에 해당하는 경우에는 다음 각 호의 어느 하나에 해당하는 조치를 할 수 있다.<개정 2008. 2. 29.>\\n1. 6개월 이내의 업무의 전부 또는 일부의 정지\\n2. 명의개서대행계약, 그 밖의 계약의 인계명령\\n법제처                                                            166                                                       국가법령정보센터\\n자본시장과 금융투자업에 관한 법률 \\n3. 위법행위의 시정명령 또는 중지명령\\n4. 위법행위로 인한 조치를 받았다는 사실의 공표명령 또는 게시명령\\n5. 기관경고\\n6. 기관주의\\n7. 그 밖에 위법행위를 시정하거나 방지하기 위하여 필요한 조치로서 대통령령으로 정하는 조치\\n③ 금융위원회는 명의개서대행회사의 임원이 제1항 각 호(제5호를 제외한다)의 어느 하나에 해당하거나 별표 13 각\\n호의 어느 하나에 해당하는 경우에는 다음 각 호의 어느 하나에 해당하는 조치를 할 수 있다.<개정 2008. 2. 29.>\\n1. 해임요구\\n2. 6개월 이내의 직무정지\\n3. 문책경고\\n4. 주의적 경고\\n5. 주의\\n6. 그 밖에 위법행위를 시정하거나 방지하기 위하여 필요한 조치로서 대통령령으로 정하는 조치\\n④ 금융위원회는 명의개서대행회사의 직원이 제1항 각 호(제5호를 제외한다)의 어느 하나에 해당하거나 별표 13 각\\n호의 어느 하나에 해당하는 경우에는 다음 각 호의 어느 하나에 해당하는 조치를 그 명의개서대행회사에 요구할 수\\n있다.<개정 2008. 2. 29.>\\n1. 면직\\n2. 6개월 이내의 정직\\n3. 감봉\\n4. 견책\\n5. 경고\\n6. 주의\\n7. 그 밖에 위법행위를 시정하거나 방지하기 위하여 필요한 조치로서 대통령령으로 정하는 조치\\n⑤ 제422조제3항 및 제423조부터 제425조까지의 규정은 명의개서대행회사 및 그 임직원에 대한 조치 등에 관하여\\n준용한다.'],\n",
       "  '제8장 금융투자 관계 단체': ['제370조(금융투자 관계 단체의 설립 및 감독) ① 투자자 보호 및 건전한 거래질서를 위하여 투자자, 주권상장법인 또는\\n대통령령으로 정하는 자로 구성되는 단체를 설립하고자 하는 자는 금융위원회의 허가를 받아야 한다. <개정 2008.\\n2. 29., 2009. 2. 3.>\\n② 금융위원회는 제1항의 허가를 하고자 하는 경우에는 다음 각 호의 사항을 심사하여야 한다.<개정 2008. 2. 29.,\\n2013. 5. 28.>\\n1. 설립취지\\n2. 해당 단체의 재산상황과 수지 전망\\n3. 발기인 및 임원의 인적 구성\\n4. 자본시장과 금융투자업에 대한 기여도\\n③ 제1항의 허가에 관하여 필요한 사항은 대통령령으로 정한다.\\n④ 제1항의 허가를 받은 단체는 정관을 변경한 경우에는 이를 지체 없이 금융위원회에 보고하여야 한다.<개정\\n2008. 2. 29.>',\n",
       "   '제371조(금융투자 관계 단체에 대한 검사)',\n",
       "   '제419조(제2항부터 제4항까지 및 제8항을 제외한다)는 금융투자 관계 단체\\n에 대한 검사에 관하여 준용한다.\\n법제처                                                            167                                                       국가법령정보센터\\n자본시장과 금융투자업에 관한 법률',\n",
       "   '제372조(금융투자 관계 단체에 대한 조치) ① 금융위원회는 금융투자 관계 단체가 다음 각 호의 어느 하나에 해당하는\\n경우에는 제370조제1항에 따른 허가를 취소할 수 있다. <개정 2008. 2. 29.>\\n1. 거짓, 그 밖의 부정한 방법으로 제370조제1항에 따른 허가를 받은 경우\\n2. 허가조건을 위반한 경우\\n3. 정관에 따른 목적 외의 업무를 영위한 경우\\n4. 그 밖에 투자자 보호 또는 건전한 거래질서를 해할 우려가 있는 경우로서 대통령령으로 정하는 경우\\n②',\n",
       "   '제423조(제2호를 제외한다), 제424조제1항ㆍ제2항 및 제425조는 금융투자 관계 단체의 허가 취소에 관하여 준\\n용한다.<개정 2008. 2. 29.>\\n \\n     제7편 거래소 <개정 2013. 5. 28.>'],\n",
       "  '제2장 조직 등': ['제376조(정관) ① 거래소의 정관에는 다음 각 호의 사항을 기재하여야 한다. <개정 2013. 5. 28.>\\n1. 목적\\n2. 상호\\n3. 거래소가 발행할 주식의 총수\\n4. 1주의 금액\\n5. 거래소의 설립시에 발행하는 주식의 총수\\n6. 거래소가 공고하는 방법\\n7. 증권시장 및 파생상품시장 등 시장의 구분에 관한 사항\\n8. 거래소 규정(規程)의 제정ㆍ변경 및 폐지에 관한 사항\\n9. 임원 및 집행간부에 관한 사항\\n10. 이사회, 이사회 내 소위원회 및 이사후보추천위원회에 관한 사항\\n11. 감사위원회에 관한 사항\\n12. 시장감시위원회에 관한 사항\\n13. 업무의 집행에 관한 사항\\n② 거래소는 정관을 변경하고자 하는 경우에는 금융위원회의 승인을 받아야 한다. 이 경우 금융위원회는 정관변경\\n을 승인함에 있어서 각 시장운영의 자율성을 고려하여야 한다.<개정 2008. 2. 29.>',\n",
       "   '제377조(업무) ①거래소는 정관으로 정하는 바에 따라 다음 각 호의 업무를 행한다. 다만, 제3호 및 제4호의 업무는 제\\n378조에 따라 금융위원회로부터 청산기관 또는 결제기관으로 지정된 거래소로 한정한다. <개정 2013. 5. 28.>\\n1. 거래소시장의 개설ㆍ운영에 관한 업무\\n2. 증권 및 장내파생상품의 매매에 관한 업무\\n3. 증권 및 장내파생상품의 거래(다자간매매체결회사에서의 거래를 포함한다)에 따른 매매확인, 채무인수, 차감, 결\\n제증권ㆍ결제품목ㆍ결제금액의 확정, 결제이행보증, 결제불이행에 따른 처리 및 결제지시에 관한 업무 \\n4. 장내파생상품의 매매거래에 따른 품목인도 및 대금지급에 관한 업무\\n5. 증권의 상장에 관한 업무\\n6. 장내파생상품 매매의 유형 및 품목의 결정에 관한 업무\\n7. 상장법인의 신고ㆍ공시에 관한 업무\\n8. 증권 또는 장내파생상품 매매 품목의 가격이나 거래량이 비정상적으로 변동하는 거래 등 대통령령으로 정하는\\n이상거래(이하 “이상거래”라 한다)의 심리 및 회원의 감리에 관한 업무\\n법제처                                                            170                                                       국가법령정보센터\\n자본시장과 금융투자업에 관한 법률 \\n9. 증권의 경매업무\\n10. 거래소시장 등에서의 매매와 관련된 분쟁의 자율조정(당사자의 신청이 있는 경우에 한한다)에 관한 업무\\n11. 거래소시장의 개설에 수반되는 부대업무\\n12. 금융위원회의 승인을 받은 업무\\n13. 그 밖에 정관에서 정하는 업무\\n② 거래소는 제1항 각 호의 업무 외에 다른 업무를 할 수 없다. 다만, 다음 각 호의 어느 하나에 해당하는 경우에는\\n그러하지 아니하다.<신설 2013. 5. 28.>\\n1. 이 법 또는 다른 법령에서 거래소가 운영할 수 있도록 한 업무를 행하는 경우\\n2. 제323조의3에 따라 인가를 받아 금융투자상품거래청산업을 영위하는 경우',\n",
       "   '제378조(청산기관 및 결제기관) ① 증권시장 및 파생상품시장에서의 매매거래(다자간매매체결회사에서의 거래를 포함\\n한다)에 따른 매매확인, 채무인수, 차감, 결제증권ㆍ결제품목ㆍ결제금액의 확정, 결제이행보증, 결제불이행에 따른\\n처리 및 결제지시업무는 제323조의2 및 제323조의3에도 불구하고 청산기관으로서 금융위원회가 지정하는 거래소\\n가 수행한다. <개정 2013. 4. 5., 2013. 5. 28.>\\n② 파생상품시장에서의 품목인도 및 대금지급업무는 결제기관으로서 금융위원회가 지정하는 거래소가 수행한다.\\n<개정 2013. 5. 28.>',\n",
       "   '제379조(유사명칭의 사용금지) 거래소가 아닌 자는 그 명칭 또는 상호에 “한국거래소”, “금융상품거래소”, “금융투자상\\n품거래소”, “증권선물거래소”, “증권거래소”, “선물거래소”, “파생상품거래소”, “거래소시장”, “증권시장”, “유가증권시\\n장”, “코스닥시장”, “선물시장”, “파생상품시장” 또는 이와 유사한 명칭을 사용하여서는 아니 된다. <개정 2013. 5.\\n28.>',\n",
       "   '제380조(임원) ① 거래소에 15인 이내로 다음 각 호의 임원을 둔다.\\n1. 이사장 1인\\n2. 상근이사인 감사위원회 위원 1인\\n3. 시장감시위원장 1인\\n4. 이사 12인 이내\\n② 임원의 임기는 3년으로 하며, 정관이 정하는 바에 따라 연임할 수 있다.\\n③ 이사장은 대통령령으로 정하는 금융에 관한 경험과 지식을 갖추고 거래소의 건전한 경영과 공정한 거래질서를\\n해할 우려가 없는 자 중에서 제385조제1항에 따른 이사후보추천위원회(이하 “후보추천위원회”라 한다)의 추천을 받\\n아 주주총회에서 선임한다.\\n④ 금융위원회는 제3항에 따라 선임된 이사장이 직무수행에 부적합하다고 인정되는 경우로서 대통령령으로 정하는\\n경우에는 그 선임된 날부터 1개월 이내에 그 사유를 구체적으로 밝혀 해임을 요구할 수 있다. 이 경우 해임 요구된\\n이사장의 직무는 정지되며, 거래소는 2개월 이내에 이사장을 새로 선임하여야 한다.<개정 2008. 2. 29.>\\n⑤ 거래소의 사외이사(상시적인 업무에 종사하지 아니하는 자로서 거래소의 정관이 정하는 요건을 갖춘 자를 말한\\n다. 이하 이 장에서 같다)와 상근이사인 감사위원회의 위원은 후보추천위원회의 추천을 받아 주주총회에서 각각 선\\n임한다. 이 경우 최대주주와 그 특수관계인, 그 밖에 대통령령으로 정하는 자가 소유하는 거래소의 의결권 있는 주\\n식의 합계가 거래소의 의결권 있는 발행주식총수의 100분의 3(정관으로 그 비율을 더 낮게 정한 경우에는 그 비율\\n로 한다)을 초과하는 경우 그 주주는 그 초과하는 주식에 관하여 상근이사인 감사위원회 위원의 선임 및 해임에 있\\n어서는 의결권을 행사하지 못한다.\\n⑥ 제384조제3항 각 호의 어느 하나에 해당하는 자는 거래소의 상근이사인 감사위원회의 위원이 될 수 없으며, 상\\n근이사인 감사위원회의 위원이 된 후 이에 해당하게 된 경우에는 그 직을 상실한다. 다만, 거래소의 상근이사인 감\\n사위원회의 위원으로 재임 중이거나 재임하였던 자는 제384조제3항제2호에 불구하고 상근이사인 감사위원회의 위\\n원이 될 수 있다.<개정 2015. 7. 31.>\\n법제처                                                            171                                                       국가법령정보센터\\n자본시장과 금융투자업에 관한 법률',\n",
       "   '제381조(이사회) ① 거래소에 제380조제1항 각 호의 자로 구성되는 이사회를 둔다. 이 경우 사외이사가 이사회의 과반\\n수를 구성하도록 하여야 한다.\\n② 거래소 이사회의 효율적인 업무수행을 위하여 이사회 내에 각 시장별로 이사회가 위임한 사항을 심의ㆍ결의하\\n는 「상법」 제393조의2에 따른 이사회 내 위원회로서 소위원회를 설치한다.\\n③ 그 밖에 이사회 및 소위원회의 구성 및 운영에 관하여 필요한 사항은 정관으로 정한다.',\n",
       "   '제382조(임원의 자격 등) ① 「금융회사의 지배구조에 관한 법률」 제5조는 거래소의 임원에게 준용한다. <개정 2015. 7.\\n31.>\\n② 「금융회사의 지배구조에 관한 법률」 제6조제1항(제1호는 제외한다) 및 제2항은 거래소의 사외이사에게 준용한\\n다.<개정 2015. 7. 31.>\\n③ 거래소의 임원은 둘 이상의 거래소의 임원의 지위를 겸직하여서는 아니 된다.<신설 2013. 5. 28.>',\n",
       "   '제383조(정보이용금지 등) ① 거래소의 임직원 및 임직원이었던 자는 그 직무에 관하여 알게 된 비밀을 누설 또는 이용\\n하여서는 아니 된다.\\n② 거래소의 상근 임직원은 금융투자업자 및 금융투자업관계기관과 자금의 공여, 손익의 분배, 그 밖에 영업에 관하\\n여 대통령령으로 정하는 특별한 이해관계를 가져서는 아니 된다.\\n③ 제63조는 거래소의 임직원에게 준용한다.',\n",
       "   '제384조(감사위원회) ① 거래소에 감사위원회를 설치하여야 한다.\\n② 감사위원회는 다음 각 호의 요건을 모두 충족하여야 한다.<개정 2015. 7. 31.>\\n1. 총 위원의 3분의 2 이상이 사외이사일 것\\n2. 위원 중 1명 이상은 대통령령으로 정하는 회계 또는 재무전문가일 것\\n3. 감사위원회의 대표는 사외이사일 것\\n③ 다음 각 호의 어느 하나에 해당하는 사람은 사외이사가 아닌 감사위원회의 위원이 될 수 없으며, 사외이사가 아\\n닌 감사위원회의 위원이 된 후 이에 해당하게 된 경우에는 그 직을 상실한다. 다만, 거래소의 상근감사 또는 사외이\\n사가 아닌 감사위원회의 위원으로 재임 중이거나 재임하였던 사람은 제2호에도 불구하고 사외이사가 아닌 감사위\\n원회의 위원이 될 수 있다.<신설 2015. 7. 31.>\\n1. 거래소의 주요주주\\n2. 거래소의 상근 임직원 또는 최근 2년 이내에 상근 임직원이었던 사람\\n3. 그 밖에 거래소의 경영에 영향을 미칠 수 있는 사람 등 사외이사가 아닌 감사위원회의 위원으로서의 직무를 충실\\n하게 수행하기 곤란한 사람으로서 대통령령으로 정하는 사람 \\n④거래소는 사외이사의 사임ㆍ사망 등 사전에 예측하지 못한 사유로 사외이사의 수가 제2항에 따른 감사위원회의\\n구성요건에 미치지 못하게 된 경우에는 그 사유가 발생한 후 최초로 소집되는 주주총회에서 제2항에 따른 요건을\\n충족하도록 조치하여야 한다.<신설 2015. 7. 31.>\\n⑤ 감사위원회의 위원이 되는 사외이사의 선임에 관하여는 감사선임 시 의결권 행사의 제한에 관한 「상법」 제\\n409조제2항 및 제3항을 준용한다.<신설 2015. 7. 31.>',\n",
       "   '제385조(이사후보추천위원회) ① 거래소에 이사장ㆍ사외이사의 적정한 선임을 위하여 후보추천위원회를 둔다.\\n② 이사장은 다음 각 호의 자를 후보추천위원회 위원으로 위촉하며, 후보추천위원회의 위원장은 위원 간의 호선으\\n로 선출한다.<개정 2013. 5. 28.>\\n1. 사외이사인 이사 5인\\n2. 협회가 추천하는 2인\\n3. 대통령령으로 정하는 주권상장법인 대표 2인\\n4. 삭제<2013. 5. 28.>\\n법제처                                                            172                                                       국가법령정보센터\\n자본시장과 금융투자업에 관한 법률 \\n③ 후보추천위원회의 구성 및 운영에 관하여 필요한 사항은 정관으로 정한다.'],\n",
       "  '제3장 시장': ['제386조(시장의 개설ㆍ운영) 거래소는 시장을 효율적으로 관리하기 위하여 증권시장 또는 파생상품시장별로 둘 이상\\n의 금융투자상품시장을 개설하여 운영할 수 있다.\\n[전문개정 2013. 5. 28.]',\n",
       "   '제387조(회원) ① 거래소는 회원의 관리를 위하여 회원관리규정(이하 “회원관리규정”이라 한다)을 정하여야 한다.\\n② 회원은 다음 각 호와 같이 구분한다.\\n1. 거래소 결제회원\\n2. 매매전문회원\\n3. 그 밖에 대통령령으로 정하는 회원\\n③ 회원관리규정에는 다음 각 호의 사항이 포함되어야 한다.\\n1. 회원의 자격에 관한 사항\\n2. 회원의 가입과 탈퇴에 관한 사항\\n3. 회원의 권리와 의무에 관한 사항\\n4. 그 밖에 회원을 관리하기 위하여 필요한 사항',\n",
       "   '제388조(시장에서의 거래자격) ① 거래소의 회원이 아닌 자는 증권시장 및 파생상품시장에서의 매매거래를 하여서는\\n아니 된다. 다만, 회원관리규정에서 특정한 증권의 매매거래를 할 수 있도록 정한 경우에는 그 특정한 증권의 매매거\\n래를 할 수 있다.\\n② 제1항 단서에 따라 증권시장에서 매매거래를 할 수 있게 된 자는 제377조제8호, 제387조, 제389조, 제394조, 제\\n395조, 제396조제2항, 제397조부터 제400조까지, 제404조 및 제426조제6항을 적용함에 있어서 이를 거래소의 회\\n원으로 본다.',\n",
       "   '제389조(거래의 종결) ① 거래소는 회원이 거래의 정지를 당하거나 그 자격을 상실한 경우에는 그 회원 또는 다른 회원\\n으로 하여금 해당 증권시장 또는 파생상품시장에서 행한 매매거래를 종결시켜야 한다. 이 경우 자격을 상실한 회원\\n은 매매거래를 종결시키는 범위에서 회원의 자격을 가진 것으로 본다.\\n② 제1항에 따라 거래소가 다른 회원으로 하여금 해당 매매거래를 종결시키는 경우에는 그 회원과 다른 회원 사이\\n에 위임계약이 체결된 것으로 본다.',\n",
       "   '제390조(상장규정) ① 거래소는 증권시장에 상장할 증권의 심사 및 상장증권의 관리를 위하여 증권상장규정(이하 “상\\n장규정”이라 한다)을 정하여야 한다. 이 경우 거래소가 개설ㆍ운영하는 둘 이상의 증권시장에 대하여 별도의 상장규\\n정으로 정할 수 있다. <개정 2013. 5. 28.>\\n② 상장규정에는 다음 각 호의 사항이 포함되어야 한다.\\n1. 증권의 상장기준 및 상장심사에 관한 사항\\n2. 증권의 상장폐지기준 및 상장폐지에 관한 사항\\n3. 증권의 매매거래정지와 그 해제에 관한 사항\\n4. 그 밖에 상장법인 및 상장증권의 관리에 관하여 필요한 사항',\n",
       "   '제391조(공시규정) ① 거래소는 주권, 그 밖에 대통령령으로 정하는 증권을 상장한 법인(이하 이 조 및 제392조에서 “주\\n권등상장법인”이라 한다)의 기업내용 등의 신고ㆍ공시 및 관리를 위하여 주권등상장법인 공시규정(이하 “공시규정\\n”이라 한다)을 정하여야 한다. 이 경우 거래소가 개설ㆍ운영하는 둘 이상의 증권시장에 대하여 별도의 공시규정으로\\n정할 수 있다. <개정 2013. 5. 28.>\\n법제처                                                            173                                                       국가법령정보센터\\n자본시장과 금융투자업에 관한 법률 \\n② 공시규정에는 다음 각 호의 사항이 포함되어야 한다.\\n1. 주권등상장법인이 신고하여야 하는 내용에 관한 사항\\n2. 주권등상장법인이 신고함에 있어서 준수하여야 할 방법 및 절차에 관한 사항\\n3. 주권등상장법인에 관한 풍문이나 보도 등의 사실 여부 및 그 법인이 발행한 증권의 가격이나 거래량의 현저한 변\\n동의 원인 등에 대한 거래소의 신고 또는 확인 요구에 관한 사항 \\n4. 주권등상장법인의 경영상 비밀유지와 투자자 보호와의 형평 등을 고려하여 신고ㆍ공시하지 아니할 사항\\n5. 주권등상장법인이 신고한 내용의 공시에 관한 사항\\n6. 주권등상장법인의 제1호부터 제4호까지의 위반유형, 위반 여부 결정기준 및 조치 등에 관한 사항\\n7. 매매거래의 정지 등 주권등상장법인의 관리에 관한 사항\\n8. 주권등상장법인의 신고의무 이행실태의 점검에 관한 사항\\n9. 그 밖에 주권등상장법인의 신고 또는 공시와 관련하여 필요한 사항',\n",
       "   '제392조(공시의 실효성 확보) ① 은행은 주권등상장법인에 대하여 다음 각 호에 해당하는 사실이 발생한 경우에는 이\\n를 지체 없이 거래소에 통보하여야 한다.\\n1. 발행한 어음이나 수표가 부도로 된 경우\\n2. 은행과의 당좌거래가 정지 또는 금지된 경우\\n② 거래소는 제391조제2항제1호의 신고사항과 같은 항 제3호에 따른 신고 또는 확인 요구사항에 대하여 투자자의\\n투자판단에 중대한 영향을 미칠 우려가 있어 그 내용을 신속하게 알릴 필요가 있는 경우에는 대통령령으로 정하는\\n방법에 따라 행정기관, 그 밖의 관계기관에 대하여 필요한 정보의 제공 또는 교환을 요청할 수 있다. 이 경우 요청을\\n받은 기관은 특별한 사유가 없는 한 이에 협조하여야 한다.\\n③ 거래소는 주권등상장법인이 제391조에 따라 신고를 한 경우에는 이를 지체 없이 금융위원회에 송부하여야 한다.\\n<개정 2008. 2. 29.>\\n④ 금융위원회는 제3항에 따른 송부를 받은 경우에는 이를 인터넷 홈페이지 등을 이용하여 공시하여야 한다.<개정\\n2008. 2. 29.>',\n",
       "   '제393조(업무규정) ① 증권시장에서의 매매거래에 관하여 다음 각 호의 사항은 거래소의 증권시장업무규정으로 정한\\n다. 이 경우 거래소가 개설ㆍ운영하는 둘 이상의 증권시장에 대하여 별도의 증권시장업무규정으로 정할 수 있다.\\n<개정 2013. 5. 28.>\\n1. 매매거래의 종류 및 수탁에 관한 사항\\n2. 증권시장의 개폐ㆍ정지 또는 휴장에 관한 사항\\n3. 매매거래계약의 체결 및 결제의 방법. 다만, 증권인도와 대금지급에 관한 것을 제외한다.\\n4. 증거금(證據金)의 납부 등 매매거래의 규제에 관한 사항\\n5. 그 밖에 매매거래에 관하여 필요한 사항\\n② 파생상품시장에서의 매매에 관하여 다음 각 호의 사항은 거래소의 파생상품시장업무규정으로 정한다.\\n1. 장내파생상품 매매의 수탁에 관한 사항\\n2. 취급하는 장내파생상품 매매의 유형 및 품목\\n3. 장내파생상품 매매의 결제월\\n4. 파생상품시장의 개폐ㆍ정지 또는 휴장에 관한 사항\\n5. 장내파생상품 매매에 관한 계약의 체결 및 제한에 관한 사항\\n6. 위탁증거금 및 거래증거금에 관한 사항\\n7. 결제의 방법\\n8. 그 밖에 장내파생상품 매매 및 그 수탁에 관하여 필요한 사항',\n",
       "   '제394조(손해배상공동기금) ① 회원은 증권시장 또는 파생상품시장에서의 매매거래에 따른 채무의 불이행으로 인하여\\n발생하는 손해를 배상하기 위하여 거래소에 손해배상공동기금(이하 “공동기금”이라 한다)을 적립하여야 한다. 다만,\\n법제처                                                            174                                                       국가법령정보센터\\n자본시장과 금융투자업에 관한 법률 \\n증권시장 또는 파생상품시장에서의 매매거래에 대한 결제이행의 책임을 부담하지 아니하는 회원 등 거래소가 정하\\n는 회원은 공동기금을 적립하지 아니할 수 있다.\\n② 거래소는 제1항에 따른 공동기금을 증권시장과 파생상품시장으로 구분하여 적립하여야 한다.\\n③ 회원(제1항 단서에 따른 회원을 제외한다)은 제1항 및 제2항의 공동기금의 범위에서 회원의 증권시장 또는 파생\\n상품시장에서의 매매거래에 따른 채무의 불이행으로 인하여 발생하는 손해배상에 관하여 연대책임을 진다.\\n④ 제1항의 공동기금의 총적립규모, 회원별 적립률, 적립방법, 사용, 관리, 환급, 그 밖에 그 운용에 관하여 필요한 사\\n항은 대통령령으로 정한다.',\n",
       "   '제395조(회원보증금) ① 회원은 장래 증권시장 또는 파생상품시장에서의 매매거래와 관련하여 발생할 수 있는 채무의\\n이행을 보증하기 위하여 거래소에 회원보증금을 예치하여야 한다.\\n② 거래소는 제398조에 따라 회원을 대신하여 채무를 이행 또는 인수함으로써 취득한 채권을 그 회원에 대한 회원\\n보증금과 상계하여서는 아니 된다.\\n③ 회원에게 증권 또는 장내파생상품의 매매를 위탁한 자는 그 위탁으로 발생한 채권에 대하여 그 회원의 회원보증\\n금에 관하여 다른 채권자보다 우선하여 변제받을 권리가 있다.\\n④ 제1항에 따른 회원보증금의 최저한도ㆍ운용 및 관리 등에 관하여 필요한 사항은 거래소의 회원관리규정으로 정\\n한다.',\n",
       "   '제396조(위탁증거금 및 거래증거금) ① 거래소의 회원은 파생상품시장에서의 매매의 수탁과 관련하여 거래소의 파생\\n상품시장업무규정이 정하는 바에 따라 위탁자로부터 위탁증거금을 받아야 한다.\\n② 거래소의 회원은 증권시장 또는 파생상품시장에서의 매매거래를 함에 있어서 거래소에 대하여 부담하는 채무의\\n이행을 보증하기 위하여 증권시장업무규정 및 파생상품시장업무규정이 정하는 바에 따라 거래소에 거래증거금을\\n예치하여야 한다.',\n",
       "   '제397조(거래증거금과 회원보증금의 채무변제에의 충당) 거래소는 회원이 거래소 또는 다른 회원에 대하여 증권시장\\n또는 파생상품시장에서의 매매거래에 관한 채무를 이행하지 아니한 경우에는 그 회원의 거래증거금과 회원보증금으\\n로 그 채무의 변제에 충당할 수 있다.',\n",
       "   '제398조(거래소에 의한 채무이행 등) ① 거래소는 증권시장 및 파생상품시장에서의 매매거래를 원활하게 하기 위하여\\n증권시장업무규정 및 파생상품시장업무규정이 정하는 바에 따라 회원을 대신하여 그 회원의 증권시장 또는 파생상\\n품시장에서의 매매거래에 의한 채권ㆍ채무에 대하여 그 채권을 행사 또는 취득하거나 그 채무를 이행 또는 인수할\\n수 있다.\\n② 제1항의 채무의 이행 또는 인수로 인하여 거래소에 손실이 발생한 경우 해당 회원은 증권시장업무규정 및 파생\\n상품시장업무규정이 정하는 바에 따라 거래소에 대하여 같은 채무를 부담한다.',\n",
       "   '제399조(거래소의 손해배상책임) ① 거래소는 회원의 증권시장 또는 파생상품시장에서의 매매거래의 위약(違約)으로\\n인하여 발생하는 손해에 관하여 배상의 책임을 진다.\\n② 거래소가 제1항에 따라 손해를 배상하는 경우에는 대통령령으로 정하는 바에 따라 거래소의 재산과 제394조에\\n따라 적립된 공동기금에서 충당한다.<개정 2015. 7. 24.>\\n③ 거래소는 제1항 및 제2항에 따라 손해를 배상한 경우에는 위약한 회원에 대하여 그 배상한 금액과 이에 소요된\\n비용에 관하여 구상권을 가진다.\\n④ 삭제<2015. 7. 24.>\\n⑤ 제3항의 구상권의 행사와 같은 항에 따라 추심된 금액의 배분 등에 필요한 사항은 대통령령으로 정한다.<개정\\n2015. 7. 24.>',\n",
       "   '제400조(채무변제순위) ① 거래소의 회원이 증권시장 또는 파생상품시장에서의 매매거래에 따른 채무를 이행하지 아\\n니하여 거래소 또는 다른 회원에게 손해를 끼친 경우 그 손해를 입은 거래소 또는 다른 회원은 그 손해를 끼친 회원\\n법제처                                                            175                                                       국가법령정보센터\\n자본시장과 금융투자업에 관한 법률 \\n의 회원보증금ㆍ거래증거금 및 공동기금 지분에 대하여 다른 채권자보다 우선하여 변제받을 권리를 가진다.\\n② 거래소는 회원이 증권시장 또는 파생상품시장에서의 매매에 따른 결제를 위하여 납부한 대금ㆍ증권 및 품목에\\n관하여 다른 채권자보다 우선하여 변제를 받을 권리가 있다.\\n③ 거래소는 증권시장 또는 파생상품시장에서의 매매에 따른 결제완료 전에 대금ㆍ증권 및 품목이 인도된 경우에\\n해당 회원이 그 결제를 이행하지 아니함으로써 거래소에 손해를 끼친 때에는 그 회원의 재산에 관하여 다른 채권자\\n보다 우선하여 변제를 받을 권리가 있다. 다만, 그 결제의 이행 기한이 도래하기 전에 설정된 전세권ㆍ질권ㆍ저당권\\n또는 「동산ㆍ채권 등의 담보에 관한 법률」에 따른 담보권에 의하여 담보된 채권에 대하여는 우선하여 변제를 받을\\n권리가 없다.<개정 2010. 6. 10.>\\n④ 제1항부터 제3항까지의 규정에 따른 거래소의 우선권은 제395조제3항에 따른 위탁자의 회원보증금에 대한 권\\n리보다 우선하는 효력을 가진다.',\n",
       "   '제401조(시세의 공표) 거래소는 대통령령으로 정하는 방법에 따라 다음 각 호의 증권 및 장내파생상품의 시세(다자간\\n매매체결회사가 다자간매매체결업무를 할 때 형성된 시세를 제외한다. 이하 이 조에서 같다)를 공표하여야 한다.\\n<개정 2013. 5. 28.>\\n1. 증권의 매일의 매매거래량 및 그 성립가격과 최고ㆍ최저 및 최종가격\\n2. 장내파생상품의 종목별 매일의 총거래량, 최초ㆍ최고ㆍ최저 및 최종거래 성립가격 또는 약정수치\\n3. 그 밖에 시세의 공정한 형성 및 투자자 보호에 필요하다고 인정되는 시세로서 대통령령으로 정하는 시세'],\n",
       "  '제4장 시장감시 및 분쟁조정': ['제402조(시장감시위원회) ① 거래소에 다음 각 호의 업무를 수행하기 위하여 시장감시위원회를 둔다. <개정 2013. 5.\\n28., 2014. 12. 30.>\\n1. 시장감시, 이상거래의 심리 및 회원에 대한 감리(지정거래소가 제78조제3항 및 제4항에 따라 행하는 감시, 이상\\n거래의 심리 또는 거래참가자에 대한 감리를 포함한다) \\n2. 증권시장과 파생상품시장 사이의 연계감시(지정거래소가 제404조제2항 및 제3항에 따라 행하는 거래소시장과\\n다른 거래소시장 사이 및 거래소시장과 다자간매매체결회사 사이의 연계감시를 포함한다) \\n3. 제1호 및 제2호에 따른 이상거래의 심리, 회원에 대한 감리, 연계감시의 결과에 따른 회원 또는 거래참가자에 대\\n한 징계 또는 관련 임직원에 대한 징계요구의 결정 \\n4. 불공정거래의 예방 등을 위한 활동\\n5. 제377조제10호에 따른 분쟁의 자율조정에 관한 업무\\n6. 제403조에 따른 시장감시규정 및 제405조제1항에 따른 분쟁조정규정의 제정ㆍ변경 및 폐지\\n7. 그 밖에 제1호부터 제6호까지의 업무에 부수하는 업무\\n② 시장감시위원회는 다음 각 호의 위원으로 구성한다.<개정 2008. 2. 29.>\\n1. 시장감시위원회 위원장(이하 이 조에서 “시장감시위원장”이라 한다)\\n2. 삭제<2008. 2. 29.>\\n3. 금융위원회 위원장이 추천하는 2인\\n4. 협회가 추천하는 2인\\n③ 시장감시위원회 위원의 임기는 3년으로 하며, 정관이 정하는 바에 따라 연임할 수 있다.\\n④ 시장감시위원장은 대통령령으로 정하는 금융에 관한 경험과 지식을 갖추고 거래소의 건전한 경영과 공정한 거\\n래질서를 해할 우려가 없는 자 중에서 시장감시위원회의 추천을 받아 주주총회에서 선임한다.\\n⑤ 금융위원회는 제4항에 따라 선임된 시장감시위원장이 직무수행에 부적합하다고 인정되는 경우로서 대통령령으\\n로 정하는 경우에는 그 선임된 날부터 1개월 이내에 그 사유를 구체적으로 밝혀 해임을 요구할 수 있다. 이 경우 해\\n임 요구된 시장감시위원장의 직무는 정지되며, 거래소는 2개월 이내에 시장감시위원장을 새로 선임하여야 한다.\\n<개정 2008. 2. 29.>\\n법제처                                                            176                                                       국가법령정보센터\\n자본시장과 금융투자업에 관한 법률 \\n⑥ 「금융회사의 지배구조에 관한 법률」 제5조는 시장감시위원회 위원의 자격에 관하여 준용한다.<개정 2015. 7.\\n31.>\\n⑦ 시장감시위원회 위원 및 그 직에 있었던 자는 그 직무에 관하여 알게 된 비밀을 누설 또는 이용하여서는 아니 된\\n다.\\n⑧ 금융위원회는 시장감시위원회의 위원이 다음 각 호의 어느 하나에 해당하는 경우에는 그 위원에 대하여 6개월\\n이내의 기간을 정하여 업무집행을 정지하거나 해임을 요구할 수 있다.<개정 2008. 2. 29.>\\n1. 제7항을 위반하여 비밀을 누설하거나 이용한 경우\\n2. 그 밖에 투자자 보호 또는 건전한 시장 질서를 해할 우려가 있는 경우로서 대통령령으로 정하는 경우\\n⑨ 그 밖에 시장감시위원회의 구성 및 운영에 관하여 필요한 사항은 정관으로 정한다.',\n",
       "   '제403조(시장감시규정) 시장감시위원회는 제402조제1항제1호부터 제4호까지의 규정 및 이에 부수하는 사항이 포함된\\n시장감시규정을 제정하고, 이에 따라 업무를 수행한다. <개정 2013. 5. 28., 2014. 12. 30.>\\n1. 삭제<2013. 5. 28.>\\n2. 삭제<2013. 5. 28.>\\n3. 삭제<2013. 5. 28.>\\n4. 삭제<2013. 5. 28.>',\n",
       "   '제404조(이상거래의 심리 또는 회원의 감리) ① 거래소는 다음 각 호의 어느 하나에 해당하는 경우에는 금융투자업자\\n(증권 또는 장내파생상품을 대상으로 금융투자업을 영위하는 투자매매업자 또는 투자중개업자에 한한다)에게 그 사\\n유를 밝힌 서면으로 관련 자료의 제출을 요청하거나, 회원에 대하여 그와 관련된 업무ㆍ재산상황ㆍ장부ㆍ서류, 그\\n밖의 물건을 감리할 수 있다. <개정 2013. 5. 28., 2014. 12. 30.>\\n1. 거래소시장에서 이상거래의 혐의가 있다고 인정되는 해당 증권의 종목 또는 장내파생상품 매매 품목의 거래상황\\n을 파악하기 위한 경우 \\n2. 회원이 거래소의 업무관련규정을 준수하는지를 확인하기 위한 경우\\n3. 회원이 제178조의2를 위반하는지를 확인하기 위한 경우\\n② 거래소는 제1항에 따른 심리 또는 감리를 위하여 필요한 경우에는 회원에 대하여 이상거래 또는 업무관련규정\\n위반혐의와 관련된 보고, 자료의 제출 또는 관계자의 출석ㆍ진술을 요청할 수 있고, 지정거래소는 다른 거래소 또는\\n다자간매매체결회사에 대하여 이상거래의 심리 및 감리와 관련한 정보의 제공 또는 교환을 요구할 수 있다.<개정\\n2013. 5. 28.>\\n③ 거래소는 제1항 또는 제2항에 따른 요청 또는 요구를 거부하거나 제1항에 따른 감리에 협조하지 아니하는 경우\\n시장감시규정이 정하는 바에 따라 회원의 자격을 정지하거나 증권 및 장내파생상품의 매매거래를 제한할 수 있고,\\n지정거래소는 다른 거래소 또는 다자간매매체결회사에 대하여 회원 또는 거래참가자의 자격을 정지하거나 거래를\\n제한할 것을 요구할 수 있다.<개정 2013. 5. 28.>',\n",
       "   '제405조(분쟁의 자율조정) ① 시장감시위원회는 제377조제10호에 따른 분쟁의 자율조정을 위하여 필요한 분쟁조정규\\n정을 정한다.\\n② 시장감시위원회는 분쟁조정을 위하여 필요하다고 인정되는 경우에는 당사자에 대하여 사실의 확인 또는 자료의\\n제출 등을 요구할 수 있다.\\n③ 시장감시위원회는 당사자, 그 밖의 이해관계인의 의견을 들을 필요가 있다고 인정되는 경우에는 이들에게 회의\\n에 출석하여 의견을 진술할 것을 요청할 수 있다.'],\n",
       "  '제5장 소유 등에 대한 규제': ['제406조(주식소유의 제한) ① 누구든지 다음 각 호의 어느 하나에 해당하는 경우를 제외하고는 거래소의 의결권 있는\\n발행주식총수의 100분의 5를 초과하여 거래소가 발행한 주식을 소유할 수 없다. <개정 2008. 2. 29., 2013. 5. 28.>\\n법제처                                                            177                                                       국가법령정보센터\\n자본시장과 금융투자업에 관한 법률 \\n1. 집합투자기구가 소유하는 경우(사모집합투자기구가 소유하는 경우를 제외한다)\\n2. 외국 거래소(외국 법령에 따라 외국에서 거래소에 상당하는 기능을 수행하는 자를 말한다. 이하 같다)와의 제휴\\n를 위하여 필요한 경우로서 금융위원회가 자본시장의 효율성과 건전성에 기여할 가능성, 해당 거래소 주주의 보 \\n유지분 분포 등을 고려하여 구체적인 보유한도를 정하여 승인한 경우 \\n3. 정부가 소유하는 경우\\n4. 그 밖에 거래소의 공정한 운영을 해할 우려가 없는 경우로서 대통령령으로 정하는 경우\\n② 다음 각 호의 어느 하나에 해당하는 경우에는 제1항에 따라 제한되는 주식의 소유로 본다.\\n1. 신탁계약, 그 밖의 계약 또는 법률의 규정에 따라 그 주식에 대한 의결권을 행사할 수 있는 권한 또는 그 의결권\\n의 행사를 지시할 수 있는 권한을 가지는 경우 \\n2. 대통령령으로 정하는 특수관계에 있는 자가 주식을 소유하는 경우\\n3. 그 밖에 제1호 및 제2호에 준하는 경우로서 대통령령으로 정하는 경우\\n③ 제1항을 위반하여 주식을 소유하는 경우 그 초과분에 대하여는 의결권을 행사할 수 없으며, 제1항을 위반하여\\n주식을 소유한 자는 지체 없이 제1항에서 정한 한도에 적합하도록 하여야 한다.\\n④ 금융위원회는 제3항을 준수하지 아니한 자에게 6개월 이내의 기한을 정하여 그 한도를 초과하는 주식을 처분할\\n것을 명할 수 있다.<개정 2008. 2. 29.>',\n",
       "   '제407조(이행강제금) ① 금융위원회는 제406조제4항에 따른 주식처분명령을 받은 후 그 기한 이내에 그 주식처분명령\\n을 이행하지 아니한 자에 대하여는 다시 상당한 이행 기한을 정하여 그 주식을 처분할 것을 명하고, 그 기한까지 주\\n식처분명령을 이행하지 아니하는 경우에는 그 처분하여야 하는 주식의 취득가액의 100분의 5를 초과하지 아니하는\\n범위에서 이행강제금을 부과한다. <개정 2008. 2. 29.>\\n② 금융위원회는 제1항에 따른 이행강제금을 부과하기 전에 제1항에 따른 이행강제금을 부과ㆍ징수한다는 뜻을 미\\n리 문서로써 통지하여야 한다.<개정 2008. 2. 29.>\\n③ 금융위원회는 제1항에 따른 이행강제금을 부과하는 경우에는 이행강제금의 금액, 이행강제금의 부과사유, 이행\\n강제금의 납부기한 및 수납기간, 이의제기방법 및 이의제기기관 등을 밝힌 문서로써 하여야 한다.<개정 2008. 2.\\n29.>\\n④ 금융위원회는 제406조제4항에 따른 주식처분명령을 한 날을 기준으로 하여 1년에 2회 이내의 범위에서 그 주식\\n처분명령이 이행될 때까지 반복하여 제1항에 따른 이행강제금을 부과ㆍ징수할 수 있다.<개정 2008. 2. 29.>\\n⑤ 금융위원회는 주식처분명령을 받은 자가 주식처분명령을 이행한 경우에는 새로운 이행강제금의 부과를 중지하\\n되, 이미 부과된 이행강제금은 징수하여야 한다.<개정 2008. 2. 29.>\\n⑥',\n",
       "   '제430조(제2항을 제외한다)부터 제434조까지의 규정은 이행강제금의 부과 및 징수에 관하여 준용한다.',\n",
       "   '제407조(이행강제금) ① 금융위원회는 제406조제4항에 따른 주식처분명령 또는 제426조의3제7항제1호에 따른 금융투\\n자상품의 처분명령(이하 이 조에서 “처분명령”이라 한다)을 받은 후 그 기한 이내에 그 처분명령을 이행하지 아니한\\n자에 대하여는 다시 상당한 이행 기한을 정하여 그 주식 또는 금융투자상품을 처분할 것을 명하고, 그 기한까지 처분\\n명령을 이행하지 아니하는 경우에는 그 처분하여야 하는 주식 또는 금융투자상품의 취득가액의 100분의 5를 초과하\\n지 아니하는 범위에서 이행강제금을 부과한다. <개정 2008. 2. 29., 2024. 10. 22.>\\n② 금융위원회는 제1항에 따른 이행강제금을 부과하기 전에 제1항에 따른 이행강제금을 부과ㆍ징수한다는 뜻을 미\\n리 문서로써 통지하여야 한다.<개정 2008. 2. 29.>\\n③ 금융위원회는 제1항에 따른 이행강제금을 부과하는 경우에는 이행강제금의 금액, 이행강제금의 부과사유, 이행\\n강제금의 납부기한 및 수납기간, 이의제기방법 및 이의제기기관 등을 밝힌 문서로써 하여야 한다.<개정 2008. 2.\\n29.>\\n④ 금융위원회는 처분명령을 한 날을 기준으로 하여 1년에 2회 이내의 범위에서 그 처분명령이 이행될 때까지 반복\\n하여 제1항에 따른 이행강제금을 부과ㆍ징수할 수 있다.<개정 2008. 2. 29., 2024. 10. 22.>\\n⑤ 금융위원회는 처분명령을 받은 자가 처분명령을 이행한 경우에는 새로운 이행강제금의 부과를 중지하되, 이미\\n부과된 이행강제금은 징수하여야 한다.<개정 2008. 2. 29., 2024. 10. 22.>\\n법제처                                                            178                                                       국가법령정보센터\\n자본시장과 금융투자업에 관한 법률 \\n⑥',\n",
       "   '제430조(제2항을 제외한다)부터 제434조까지의 규정은 이행강제금의 부과 및 징수에 관하여 준용한다.\\n[시행일: 2025. 4. 23.] 제407조',\n",
       "   '제408조(영업양도 등의 승인) 거래소는 영업양도, 합병, 분할, 분할합병 또는 주식의 포괄적 교환ㆍ이전을 하고자 하는\\n경우에는 금융위원회의 승인을 받아야 한다. <개정 2008. 2. 29.>',\n",
       "   '제409조(거래소가 발행한 증권의 상장 및 상장폐지의 승인) ① 거래소는 자기가 발행한 증권을 상장하거나 상장을 폐\\n지하고자 하는 경우에는 금융위원회의 승인을 받아야 한다. <개정 2008. 2. 29.>\\n② 거래소는 제1항에 따라 상장한 경우에는 이상거래의 심리, 회원의 감리, 수시공시, 그 밖의 상장관리 등을 자체적\\n으로 수행하고 그 결과를 금융위원회에 보고하여야 한다.<개정 2008. 2. 29.>'],\n",
       "  '제6장 감독 등': ['제410조(보고와 검사) ① 금융위원회는 투자자 보호 또는 건전한 거래질서를 위하여 필요하다고 인정되는 경우에는 거\\n래소에 대하여 그 업무 및 재산에 관한 보고 또는 참고가 될 자료의 제출을 명하고, 금융감독원장에게 그 업무ㆍ재산\\n상황ㆍ장부ㆍ서류, 그 밖의 물건을 검사하게 할 수 있다. <개정 2008. 2. 29.>\\n② 제1항에 따라 검사를 하는 자는 그 권한을 표시하는 증표를 지니고 관계인에게 내보여야 한다.\\n③ 금융감독원장은 제1항에 따라 검사를 한 경우에는 그 결과를 금융위원회에 보고하여야 한다. 이 경우 이 법 또는\\n이 법에 따른 명령이나 처분을 위반한 사실이 있는 때에는 그 처리에 관한 의견서를 첨부하여야 한다.\\n④ 제419조제9항은 거래소에 대한 검사에 관하여 준용한다.',\n",
       "   '제411조(거래소에 대한 조치) ① 금융위원회는 거래소가 다음 각 호의 어느 하나에 해당하는 경우에는 제373조의2제\\n1항에 따른 거래소허가를 취소할 수 있다. <개정 2008. 2. 29., 2013. 5. 28.>\\n1. 거짓, 그 밖의 부정한 방법으로 제373조의2제1항에 따른 허가를 받은 경우\\n2. 허가조건을 위반한 경우\\n3. 제373조의5에 따른 허가요건 유지의무를 위반한 경우\\n4. 업무의 정지기간 중에 업무를 한 경우\\n5. 금융위원회의 시정명령 또는 중지명령을 이행하지 아니한 경우\\n6. 별표 14 각 호의 어느 하나에 해당하는 경우로서 대통령령으로 정하는 경우\\n7. 대통령령으로 정하는 금융관련 법령 등을 위반한 경우로서 대통령령으로 정하는 경우\\n8. 그 밖에 투자자의 이익을 현저히 해할 우려가 있거나 해당 업무를 영위하기 곤란하다고 인정되는 경우로서 대통\\n령령으로 정하는 경우 \\n② 금융위원회는 거래소가 제1항 각 호(제6호는 제외한다)의 어느 하나에 해당하거나 별표 14 각 호의 어느 하나에\\n해당하는 경우에는 다음 각 호의 어느 하나에 해당하는 조치를 할 수 있다.<개정 2008. 2. 29., 2013. 5. 28.>\\n1. 6개월 이내의 업무의 전부 또는 일부의 정지\\n2. 계약의 인계명령\\n3. 위법행위의 시정명령 또는 중지명령\\n4. 위법행위로 인한 조치를 받았다는 사실의 공표명령 또는 게시명령\\n5. 기관경고\\n6. 기관주의\\n7. 그 밖에 위법행위를 시정하거나 방지하기 위하여 필요한 조치로서 대통령령으로 정하는 조치\\n③ 금융위원회는 거래소의 임원이 제1항 각 호(제6호는 제외한다)의 어느 하나에 해당하거나 별표 14 각 호의 어느\\n하나에 해당하는 경우에는 다음 각 호의 어느 하나에 해당하는 조치를 할 수 있다.<개정 2008. 2. 29., 2013. 5. 28.>\\n1. 해임요구\\n법제처                                                            179                                                       국가법령정보센터\\n자본시장과 금융투자업에 관한 법률 \\n2. 6개월 이내의 직무정지\\n3. 문책경고\\n4. 주의적 경고\\n5. 주의\\n6. 그 밖에 위법행위를 시정하거나 방지하기 위하여 필요한 조치로서 대통령령으로 정하는 조치\\n7. 삭제<2017. 4. 18.>\\n④ 금융위원회는 거래소의 직원이 제1항 각 호(제6호는 제외한다)의 어느 하나에 해당하거나 별표 14 각 호의 어느\\n하나에 해당하는 경우에는 다음 각 호의 어느 하나에 해당하는 조치를 거래소에 요구할 수 있다.<개정 2013. 5.\\n28.>\\n1. 면직\\n2. 6개월 이내의 정직\\n3. 감봉\\n4. 견책\\n5. 경고\\n6. 주의\\n7. 그 밖에 위법행위를 시정하거나 방지하기 위하여 필요한 조치로서 대통령령으로 정하는 조치\\n⑤ 제422조제3항,',\n",
       "   '제423조(제1호는 제외한다),',\n",
       "   '제424조(제2항은 제외한다) 및 제425조는 거래소 및 그 임직원에 대\\n한 조치 등에 관하여 준용한다.<신설 2013. 5. 28.>',\n",
       "   '제412조(거래소 규정의 승인) ① 거래소는 회원관리규정ㆍ증권시장업무규정ㆍ파생상품시장업무규정ㆍ상장규정ㆍ공시\\n규정ㆍ시장감시규정ㆍ분쟁조정규정, 그 밖의 업무에 관한 규정을 제정ㆍ변경하거나 폐지하고자 하는 경우에는 금융\\n위원회의 승인을 받아야 한다. <개정 2008. 2. 29.>\\n② 삭제<2008. 2. 29.>',\n",
       "   '제413조(긴급사태시의 처분) 금융위원회는 천재지변, 전시, 사변, 경제사정의 급격한 변동, 그 밖에 이에 준하는 사태의\\n발생으로 인하여 매매거래가 정상적으로 이루어질 수 없다고 인정되는 경우에는 거래소에 대하여 개장시간의 변경,\\n거래의 중단 또는 시장의 휴장을 명하거나, 그 밖에 필요한 조치를 할 수 있다. <개정 2008. 2. 29.>',\n",
       "   '제414조(시장효율화위원회) ① 증권시장 및 파생상품시장의 거래비용 절감과 관련한 사항에 대한 심의를 위하여 금융\\n위원회에 시장효율화위원회를 설치한다. <개정 2008. 2. 29., 2013. 5. 28.>\\n② 이 법에 따라 설립된 기관, 그 밖에 대통령령으로 정하는 기관이 수수료 등을 변경하거나 대통령령으로 정하는\\n금액 이상으로 전산에 대한 투자를 하고자 하는 경우에는 시장효율화위원회의 심의를 거쳐야 한다.\\n③ 시장효율화위원회의 구성 및 운영에 관하여 필요한 사항은 대통령령으로 정한다.\\n \\n     제8편 감독 및 처분'],\n",
       "  '제1장 명령 및 승인 등': ['제415조(감독) 금융위원회는 투자자를 보호하고 건전한 거래질서를 유지하기 위하여 금융투자업자가 이 법 또는 이 법\\n에 따른 명령이나 처분을 적절히 준수하는지 여부를 감독하여야 한다. <개정 2008. 2. 29.>',\n",
       "   '제416조(금융위원회의 조치명령권) ① 금융위원회는 투자자를 보호하고 건전한 거래질서를 유지하기 위하여 긴급한\\n조치가 필요하다고 명백히 인정되는 경우에는 금융투자업자 및 그 임원(「상법」 제401조의2제1항 각 호의 자를 포함\\n한다. 이하 이 조에서 같다)에 대하여 다음 각 호의 사항에 관하여 필요한 조치를 명할 수 있다. 다만, 제7호의 장내파\\n생상품의 거래규모의 제한에 관한 사항에 관하여는 위탁자에게도 필요한 조치를 명할 수 있다. <개정 2008. 2. 29.,\\n2009. 2. 3., 2023. 3. 21.>\\n법제처                                                            180                                                       국가법령정보센터\\n자본시장과 금융투자업에 관한 법률 \\n1. 금융투자업자의 고유재산 운용에 관한 사항\\n2. 투자자 재산의 보관ㆍ관리에 관한 사항\\n3. 금융투자업자의 경영 및 업무개선에 관한 사항\\n4. 각종 공시에 관한 사항\\n5. 영업의 질서유지에 관한 사항\\n6. 영업방법에 관한 사항\\n7. 장내파생상품 및 장외파생상품의 거래규모의 제한에 관한 사항\\n8. 그 밖에 투자자 보호 또는 건전한 거래질서를 위하여 필요한 사항으로서 대통령령으로 정하는 사항\\n② 제1항에서 정하는 필요한 조치란 다음 각 호에 해당하는 조치를 말한다.<신설 2023. 3. 21.>\\n1. 채무불이행 또는 가격변동 등의 위험이 높은 자산의 취득금지 또는 비정상적으로 높은 금리에 의한 수신(受信)의\\n제한 \\n2. 영업의 양도나 예금ㆍ대출 등 금융거래와 관련된 계약의 이전\\n3. 채무변제행위의 금지\\n4. 계열회사 등 제3자에 대한 송금ㆍ자산이전 등 거래 금지\\n5. 투자자예탁금 등의 전부 또는 일부의 반환명령이나 지급정지\\n6. 투자자예탁금 등의 수탁금지 또는 다른 금융투자업자로의 이전\\n7. 임원의 직무정지나 임원의 직무를 대행하는 관리인의 선임\\n8. 보유자산의 처분이나 점포ㆍ조직의 축소\\n9. 합병 또는 제3자에 의한 해당 금융기관의 인수\\n10. 보고 또는 자료의 제출과 제출한 보고서 또는 자료의 공시\\n11. 영업의 전부 또는 일부 정지\\n12. 증권 및 파생상품의 매매제한\\n13. 파생상품의 거래규모 제한\\n14. 그 밖에 제1호부터 제13호까지에 준하는 조치로서 대통령령으로 정하는 조치\\n③ 제2항제7호에 따라 금융위원회가 선임한 관리인의 권한, 해임, 등기 등에 관하여는 「금융산업의 구조개선에 관\\n한 법률」 제14조의3을 준용한다.<신설 2023. 3. 21.>\\n④ 제1항부터 제3항까지에 따른 조치명령의 세부기준, 절차, 그 밖에 필요한 사항은 대통령령으로 정한다.<신설\\n2023. 3. 21.>\\n[제목개정 2008. 2. 29.]',\n",
       "   '제417조(승인사항 등) ① 금융투자업자는 다음 각 호의 어느 하나에 해당하는 행위(겸영금융투자업자의 경우에는 제\\n4호부터 제7호까지에 한한다)를 하고자 하는 경우에는 금융위원회의 승인을 받아야 한다. 다만, 역외투자자문업자\\n및 역외투자일임업자의 경우에는 제1호부터 제5호까지 및 제8호에 해당하는 행위를 한 날부터 7일 이내에 금융위원\\n회에 보고하여야 한다. <개정 2008. 2. 29., 2018. 3. 27.>\\n1. 합병, 분할 또는 분할합병\\n2. 주식의 포괄적 교환 또는 이전\\n3. 해산\\n4. 제6조제1항제1호부터 제3호까지 및 제6호의 어느 하나에 해당하는 금융투자업 전부(이에 준하는 경우를 포함한\\n다)의 양도 또는 양수 \\n5. 제6조제1항제4호 및 제5호의 어느 하나에 해당하는 금융투자업 전부(이에 준하는 경우를 포함한다)의 양도 또는\\n양수 \\n6. 제6조제1항제1호부터 제3호까지 및 제6호의 어느 하나에 해당하는 금융투자업 전부(이에 준하는 경우를 포함한\\n다)의 폐지\\n법제처                                                            181                                                       국가법령정보센터\\n자본시장과 금융투자업에 관한 법률 \\n7. 제6조제1항제4호 및 제5호의 어느 하나에 해당하는 금융투자업 전부(이에 준하는 경우를 포함한다)의 폐지\\n8. 그 밖에 투자자 보호 또는 채권자 보호 등을 위하여 필요한 사항으로서 대통령령으로 정하는 행위\\n② 금융위원회는 제1항에 따른 승인을 하거나 보고를 받은 경우 그 내용을 관보 및 인터넷 홈페이지 등에 공고하여\\n야 한다.<개정 2008. 2. 29., 2018. 3. 27.>\\n③ 제1항의 승인ㆍ보고의 기준ㆍ방법, 그 밖의 승인ㆍ보고 업무 처리를 위하여 필요한 사항은 대통령령으로 정한다\\n.<개정 2018. 3. 27.>\\n[제목개정 2018. 3. 27.]',\n",
       "   '제418조(보고사항) 금융투자업자(겸영금융투자업자의 경우에는 제6호부터 제9호까지에 한한다)는 다음 각 호의 어느\\n하나에 해당하는 경우에는 대통령령으로 정하는 방법에 따라 그 사실을 금융위원회에 보고하여야 한다. <개정 2008.\\n2. 29.>\\n1. 상호를 변경한 때\\n2. 정관 중 대통령령으로 정하는 중요한 사항을 변경한 때\\n3. 삭제<2015. 7. 31.>\\n4. 최대주주가 변경된 때\\n5. 대주주 또는 그의 특수관계인의 소유주식이 의결권 있는 발행주식총수의 100분의 1 이상 변동된 때\\n6. 제6조제1항제1호부터 제3호까지 및 제6호의 어느 하나에 해당하는 금융투자업의 일부를 양도 또는 양수한 때\\n7. 제6조제1항제4호 및 제5호의 어느 하나에 해당하는 금융투자업의 일부를 양도 또는 양수한 때\\n8. 제6조제1항제1호부터 제3호까지 및 제6호의 어느 하나에 해당하는 금융투자업의 일부를 폐지한 때\\n9. 제6조제1항제4호 및 제5호의 어느 하나에 해당하는 금융투자업의 일부를 폐지한 때\\n10. 지점, 그 밖의 영업소를 신설하거나 폐지한 때\\n11. 본점의 위치를 변경한 때\\n12. 본점ㆍ지점, 그 밖의 영업소의 영업을 중지하거나 다시 시작한 때\\n13. 그 밖에 투자자 보호 또는 건전한 거래질서를 위하여 필요한 경우로서 대통령령으로 정하는 경우'],\n",
       "  '제2장 검사 및 조치': ['제419조(금융투자업자에 대한 검사) ① 금융투자업자는 그 업무와 재산상황에 관하여 금융감독원장의 검사를 받아야\\n한다.\\n② 한국은행은 금융통화위원회가 금융투자업자의 제40조제1항제3호 또는 제4호의 업무와 관련하여 통화신용정책\\n의 수행 및 지급결제제도의 원활한 운영을 위하여 필요하다고 인정하는 때에는 제40조제1항제3호 또는 제4호의 업\\n무를 영위하는 금융투자업자에 대하여 자료제출을 요구할 수 있다. 이 경우 요구하는 자료는 금융투자업자의 업무\\n부담을 충분히 고려하여 필요한 최소한의 범위로 한정하여야 한다.<개정 2020. 5. 19.>\\n③ 한국은행은 금융통화위원회가 통화신용정책의 수행을 위하여 필요하다고 인정하는 때에는 금융투자업자가 영\\n위하는 제40조제1항제3호 또는 제4호의 업무에 대하여 금융감독원장에게 검사를 요구하거나 한국은행과의 공동검\\n사를 요구할 수 있다.<개정 2020. 5. 19.>\\n④ 「한국은행법」 제87조 및 제88조와 「금융위원회의 설치 등에 관한 법률」 제62조는 제2항 및 제3항의 요구 방법\\n및 절차에 관하여 준용한다.<개정 2008. 2. 29.>\\n⑤ 금융감독원장은 제1항의 검사를 함에 있어서 필요하다고 인정되는 경우에는 금융투자업자에게 업무 또는 재산\\n에 관한 보고, 자료의 제출, 증인의 출석, 증언 및 의견의 진술을 요구할 수 있다.\\n⑥ 제1항에 따라 검사를 하는 자는 그 권한을 표시하는 증표를 지니고 이를 관계자에게 내보여야 한다.\\n⑦ 금융감독원장이 제1항에 따른 검사를 한 경우에는 그 보고서를 금융위원회에 제출하여야 한다. 이 경우 이 법 또\\n는 이 법에 따른 명령이나 처분을 위반한 사실이 있는 때에는 그 처리에 관한 의견서를 첨부하여야 한다.<개정\\n2008. 2. 29.>\\n법제처                                                            182                                                       국가법령정보센터\\n자본시장과 금융투자업에 관한 법률 \\n⑧ 금융감독원장은 제1항에 따른 검사업무의 일부를 대통령령으로 정하는 바에 따라 거래소 또는 협회에 위탁할 수\\n있다.\\n⑨ 금융위원회는 검사의 방법ㆍ절차, 검사결과에 대한 조치기준, 그 밖의 검사업무와 관련하여 필요한 사항을 정하\\n여 고시할 수 있다.<개정 2008. 2. 29.>',\n",
       "   '제420조(금융투자업자에 대한 조치) ① 금융위원회는 금융투자업자가 다음 각 호의 어느 하나에 해당하는 경우에는 제\\n12조에 따른 금융투자업인가, 제16조의2에 따른 업무 단위 추가등록 또는 제18조ㆍ제117조의4 및 제249조의3에 따\\n른 금융투자업등록을 취소할 수 있다. <개정 2008. 2. 29., 2015. 7. 24., 2020. 3. 24., 2021. 6. 8.>\\n1. 거짓, 그 밖의 부정한 방법으로 금융투자업의 인가를 받거나 등록한 경우\\n2. 인가조건 또는 업무 단위 추가등록조건을 위반한 경우\\n3. 제15조제1항에 따른 인가요건, 같은 조 제2항에 따른 업무 단위 추가등록요건 또는 제20조ㆍ제117조의4제8항\\n및 제249조의3제8항에 따른 등록요건의 유지의무를 위반한 경우 \\n4. 업무의 정지기간 중에 업무를 한 경우\\n5. 금융위원회의 시정명령 또는 중지명령을 이행하지 아니한 경우\\n6. 별표 1 각 호의 어느 하나에 해당하는 경우로서 대통령령으로 정하는 경우\\n7. 대통령령으로 정하는 금융관련 법령 등을 위반한 경우로서 대통령령으로 정하는 경우\\n8. 「금융소비자 보호에 관한 법률」 제51조제1항제4호 또는 제5호에 해당하는 경우\\n9. 그 밖에 투자자의 이익을 현저히 해할 우려가 있거나 해당 금융투자업을 영위하기 곤란하다고 인정되는 경우로\\n서 대통령령으로 정하는 경우 \\n② 금융투자업자(겸영금융투자업자를 제외한다)는 제1항에 따라 그 업무에 관련된 금융투자업인가와 금융투자업등\\n록이 모두 취소된 경우에는 이로 인하여 해산한다.\\n③ 금융위원회는 금융투자업자가 제1항 각 호(제6호를 제외한다)의 어느 하나에 해당하거나 별표 1 각 호의 어느\\n하나에 해당하는 경우 또는 「금융회사의 지배구조에 관한 법률」 별표 각 호의 어느 하나에 해당하는 경우(제1호에\\n해당하는 조치로 한정한다), 「금융소비자 보호에 관한 법률」 제51조제2항 각 호 외의 부분 본문 중 대통령령으로\\n정하는 경우에 해당하는 경우(제1호에 해당하는 조치로 한정한다)에는 다음 각 호의 어느 하나에 해당하는 조치를\\n할 수 있다.<개정 2008. 2. 29., 2015. 7. 31., 2020. 3. 24.>\\n1. 6개월 이내의 업무의 전부 또는 일부의 정지\\n2. 신탁계약, 그 밖의 계약의 인계명령\\n3. 위법행위의 시정명령 또는 중지명령\\n4. 위법행위로 인한 조치를 받았다는 사실의 공표명령 또는 게시명령\\n5. 기관경고\\n6. 기관주의\\n7. 그 밖에 위법행위를 시정하거나 방지하기 위하여 필요한 조치로서 대통령령으로 정하는 조치',\n",
       "   '제421조(외국 금융투자업자의 지점등의 인가ㆍ등록의 취소 등에 대한 특례) ① 금융위원회는 외국 금융투자업자가 다\\n음 각 호의 어느 하나에 해당하는 경우에는 그 외국 금융투자업자의 지점, 그 밖의 영업소에 대하여 제12조에 따른\\n금융투자업인가, 제16조의2에 따른 업무 단위 추가등록 또는 제18조ㆍ제117조의4 및 제249조의3에 따른 금융투자\\n업등록을 취소할 수 있다. <개정 2008. 2. 29., 2015. 7. 24., 2021. 6. 8.>\\n1. 해산\\n2. 파산\\n3. 합병 또는 영업의 양도 등으로 인한 소멸\\n4. 국내지점, 그 밖의 영업소가 영위하는 금융투자업에 상당하는 영업의 폐지 또는 인가ㆍ등록의 취소\\n5. 국내지점, 그 밖의 영업소가 영위하는 금융투자업에 상당하는 영업의 중지 또는 정지\\n6. 외국 법령을 위반한 경우(국내지점, 그 밖의 영업소가 이로 인해 영업 수행이 곤란하다고 인정되는 경우에 한한\\n다)\\n법제처                                                            183                                                       국가법령정보센터\\n자본시장과 금융투자업에 관한 법률 \\n② 외국 금융투자업자의 지점, 그 밖의 영업소는 제1항 각 호의 어느 하나에 해당하는 사실이 발생한 경우에는 지체\\n없이 그 사실을 금융위원회에 보고하여야 한다.<개정 2008. 2. 29.>\\n③ 외국 금융투자업자의 지점, 그 밖의 영업소는 제1항에 따라 그 업무에 관련된 금융투자업인가와 금융투자업등록\\n이 모두 취소된 경우에는 지체 없이 청산하여야 한다.\\n④ 제1항 및 제2항은 역외투자자문업자 또는 역외투자일임업자의 등록취소 등에 관하여 준용한다. 이 경우 제1항\\n각 호 외의 부분 중 “외국 금융투자업자”는 “역외투자자문업자 또는 역외투자일임업자”로, “외국 금융투자업자의 지\\n점, 그 밖의 영업소”는 “역외투자자문업자 또는 역외투자일임업자”로 보고, 같은 항 제4호 및 제5호 중 “국내지점,\\n그 밖의 영업소가 영위하는 금융투자업”은 각각 “투자자문업 또는 투자일임업”으로, 같은 항 제6호 중 “국내지점, 그\\n밖의 영업소”는 “역외투자자문업자 또는 역외투자일임업자”로 보며, 제2항 중 “외국 금융투자업자의 지점, 그 밖의\\n영업소”는 “역외투자자문업자 또는 역외투자일임업자”로 본다.',\n",
       "   '제422조(임직원에 대한 조치) ① 금융위원회는 금융투자업자의 임원이 제420조제1항 각 호(제6호를 제외한다)의 어느\\n하나에 해당하거나 별표 1 각 호의 어느 하나에 해당하는 경우에는 다음 각 호의 어느 하나에 해당하는 조치를 할 수\\n있다. <개정 2008. 2. 29.>\\n1. 해임요구\\n2. 6개월 이내의 직무정지\\n3. 문책경고\\n4. 주의적 경고\\n5. 주의\\n6. 그 밖에 위법행위를 시정하거나 방지하기 위하여 필요한 조치로서 대통령령으로 정하는 조치\\n② 금융위원회는 금융투자업자의 직원이 제420조제1항 각 호(제6호를 제외한다)의 어느 하나에 해당하거나 별표 1\\n각 호의 어느 하나에 해당하는 경우에는 다음 각 호의 어느 하나에 해당하는 조치를 그 금융투자업자에게 요구할\\n수 있다.<개정 2008. 2. 29.>\\n1. 면직\\n2. 6개월 이내의 정직\\n3. 감봉\\n4. 견책\\n5. 경고\\n6. 주의\\n7. 그 밖에 위법행위를 시정하거나 방지하기 위하여 필요한 조치로서 대통령령으로 정하는 조치\\n③ 금융위원회는 제1항 또는 제2항에 따라 금융투자업자의 임직원에 대하여 조치를 하거나 이를 요구하는 경우 그\\n임직원에 대하여 관리ㆍ감독의 책임이 있는 임직원에 대한 조치를 함께 하거나 이를 요구할 수 있다. 다만, 관리ㆍ\\n감독의 책임이 있는 자가 그 임직원의 관리ㆍ감독에 상당한 주의를 다한 경우에는 조치를 감면할 수 있다.<개정\\n2008. 2. 29.>',\n",
       "   '제423조(청문) 금융위원회는 다음 각 호의 어느 하나에 해당하는 처분 또는 조치를 하고자 하는 경우에는 청문을 실시\\n하여야 한다. <개정 2008. 2. 29., 2013. 5. 28.>\\n1. 제77조의2제4항에 따른 종합금융투자사업자에 대한 지정의 취소\\n2. 제323조의20제1항에 따른 금융투자상품거래청산회사에 대한 인가의 취소\\n3. 제323조의20제3항 또는 제4항에 따른 금융투자상품거래청산회사 임직원에 대한 해임요구 또는 면직요구\\n4. 제335조의15제1항에 따른 신용평가회사에 대한 인가의 취소\\n5. 제335조의15제3항 또는 제4항에 따른 신용평가회사 임직원에 대한 해임요구 또는 면직요구\\n6. 제411조제1항에 따른 거래소허가의 취소\\n7. 제411조제3항 또는 제4항에 따른 거래소 임직원에 대한 해임요구 또는 면직요구\\n법제처                                                            184                                                       국가법령정보센터\\n자본시장과 금융투자업에 관한 법률 \\n8. 제420조제1항 또는 제421조제1항(같은 조 제4항에서 준용하는 경우를 포함한다)에 의한 금융투자업에 대한 인\\n가ㆍ등록의 취소 \\n9. 제422조에 의한 금융투자업자 임직원에 대한 해임요구 또는 면직요구',\n",
       "   '제424조(처분 등의 기록 및 공시 등) ① 금융위원회는 제420조부터 제422조까지의 규정에 따라 처분 또는 조치한 경우\\n에는 그 내용을 기록하고 이를 유지ㆍ관리하여야 한다. <개정 2008. 2. 29.>\\n② 금융위원회는 제420조제1항ㆍ제3항 또는 제421조제1항(같은 조 제4항에서 준용하는 경우를 포함한다)에 따라\\n조치를 취한 경우 그 사실을 관보 및 인터넷 홈페이지 등에 공고하여야 한다.<개정 2008. 2. 29.>\\n③ 금융위원회는 금융투자업자의 퇴임한 임원 또는 퇴직한 직원이 재임 또는 재직 중이었다면 제422조제1항제1호\\n부터 제5호까지 또는 같은 조 제2항제1호부터 제6호까지에 해당하는 조치를 받았을 것으로 인정되는 경우에는 그\\n조치의 내용을 해당 금융투자업자에게 통보할 수 있다. 이 경우 통보를 받은 금융투자업자는 이를 퇴임ㆍ퇴직한 해\\n당 임직원에게 통보하여야 한다.<개정 2008. 2. 29., 2014. 12. 30., 2017. 4. 18.>\\n④ 제1항은 금융투자업자가 금융위원회의 조치요구에 따라 그 임직원을 조치한 경우 및 제3항에 따라 통보를 받은\\n경우에 준용한다.<개정 2008. 2. 29.>\\n⑤ 금융투자업자 또는 그 임직원(임직원이었던 자를 포함한다)은 금융위원회에 자기에 대한 제420조부터 제422조\\n까지의 규정에 따른 처분 또는 조치 여부 및 그 내용을 조회할 수 있다.<개정 2008. 2. 29.>\\n⑥ 금융위원회는 제5항의 조회요청을 받은 경우에는 정당한 사유가 없는 한 처분 또는 조치 여부 및 그 내용을 그\\n조회 요청자에게 통보하여야 한다.<개정 2008. 2. 29.>',\n",
       "   '제425조(금융투자업인가 취소처분 등에 대한 이의신청 특례) ① 제420조제1항ㆍ제3항, 제421조제1항ㆍ제4항, 제422조\\n제1항제2호부터 제6호까지 및 같은 조 제3항(제1항제2호부터 제6호까지의 어느 하나에 해당하는 조치에 한한다)에\\n따른 처분 또는 조치에 대하여 불복하는 자는 그 처분 또는 조치의 고지를 받은 날부터 30일 이내에 그 사유를 갖추\\n어 금융위원회에 이의를 신청할 수 있다. <개정 2008. 2. 29.>\\n② 금융위원회는 제1항에 따른 이의신청을 받으면 그 신청을 받은 날부터 60일 이내에 그 이의신청에 대한 결과를\\n신청인에게 통지하여야 한다. 다만, 부득이한 사유로 60일 이내에 통지할 수 없는 경우에는 그 기간을 만료일 다음\\n날부터 기산하여 30일의 범위에서 한 차례 연장할 수 있다.<개정 2023. 9. 14.>\\n③ 제1항 및 제2항에서 규정한 사항 외에 처분에 대한 이의신청에 관한 사항은 「행정기본법」 제36조에 따른다.<신\\n설 2023. 9. 14.>\\n[제목개정 2023. 9. 14.]'],\n",
       "  '제3장 조사 등': ['제426조(보고 및 조사) ① 금융위원회(제172조부터 제174조까지, 제176조, 제178조, 제178조의2, 제180조 및 제180조\\n의2부터 제180조의5까지의 규정을 위반한 사항인 경우에는 증권선물위원회를 말한다. 이하 이 조에서 같다)는 이 법\\n또는 이 법에 따른 명령이나 처분을 위반한 사항이 있거나 투자자 보호 또는 건전한 거래질서를 위하여 필요하다고\\n인정되는 경우에는 위반행위의 혐의가 있는 자, 그 밖의 관계자에게 참고가 될 보고 또는 자료의 제출을 명하거나 금\\n융감독원장에게 장부ㆍ서류, 그 밖의 물건을 조사하게 할 수 있다. <개정 2008. 2. 29., 2013. 5. 28., 2014. 12. 30.,\\n2016. 3. 29., 2021. 1. 5.>\\n② 금융위원회는 제1항에 따른 조사를 위하여 위반행위의 혐의가 있는 자, 그 밖의 관계자에게 다음 각 호의 사항을\\n요구할 수 있다.<개정 2008. 2. 29., 2013. 5. 28.>\\n1. 조사사항에 관한 사실과 상황에 대한 진술서의 제출\\n2. 조사사항에 관한 진술을 위한 출석\\n3. 조사에 필요한 장부ㆍ서류, 그 밖의 물건의 제출\\n③ 금융위원회는 제1항에 따른 조사를 함에 있어서 제172조부터 제174조까지, 제176조, 제178조, 제178조의2, 제\\n180조 및 제180조의2부터 제180조의5까지의 규정을 위반한 사항의 조사에 필요하다고 인정되는 경우에는 다음 각\\n법제처                                                            185                                                       국가법령정보센터\\n자본시장과 금융투자업에 관한 법률 \\n호의 조치를 할 수 있다.<개정 2008. 2. 29., 2014. 12. 30., 2016. 3. 29., 2021. 1. 5.>\\n1. 제2항제3호에 따라 제출된 장부ㆍ서류, 그 밖의 물건의 영치\\n2. 관계자의 사무소 또는 사업장에 대한 출입을 통한 업무ㆍ장부ㆍ서류, 그 밖의 물건의 조사\\n④ 금융위원회는 제1항에 따른 조사를 함에 있어서 필요하다고 인정되는 경우에는 금융투자업자, 금융투자업관계\\n기관 또는 거래소에 대통령령으로 정하는 방법에 따라 조사에 필요한 자료의 제출을 요구할 수 있다.<개정 2008. 2.\\n29.>\\n⑤ 금융위원회는 제1항에 따른 조사 결과 별표 15 각 호의 어느 하나에 해당하는 경우에는 시정명령, 그 밖에 대통\\n령령으로 정하는 조치를 할 수 있으며, 조사 및 조치를 함에 있어서 필요한 절차ㆍ조치기준, 그 밖에 필요한 사항을\\n정하여 고시할 수 있다.<개정 2008. 2. 29.>\\n⑥ 거래소는 이상거래의 심리 및 회원에 대한 감리결과 이 법 또는 이 법에 따른 명령이나 처분을 위반한 혐의를 알\\n게 된 경우에는 금융위원회에 통보하여야 한다.<개정 2008. 2. 29.>\\n⑦ 제3항제2호에 따라 조사를 하는 자는 그 권한을 표시하는 증표를 지니고 이를 관계자에게 내보여야 한다.\\n⑧ 금융위원회는 관계자에 대한 조사실적ㆍ처리결과, 그 밖에 관계자의 위법행위를 예방하는데 필요한 정보 및 자\\n료를 대통령령으로 정하는 방법에 따라 공표할 수 있다.<개정 2008. 2. 29.>',\n",
       "   '제426조(보고 및 조사) ① 금융위원회(제172조부터 제174조까지, 제176조, 제178조, 제178조의2, 제180조 및 제180조\\n의2부터 제180조의6까지의 규정을 위반한 사항인 경우에는 증권선물위원회를 말한다. 이하 이 조에서 같다)는 이 법\\n또는 이 법에 따른 명령이나 처분을 위반한 사항이 있거나 투자자 보호 또는 건전한 거래질서를 위하여 필요하다고\\n인정되는 경우에는 위반행위의 혐의가 있는 자, 그 밖의 관계자에게 참고가 될 보고 또는 자료의 제출을 명하거나 금\\n융감독원장에게 장부ㆍ서류, 그 밖의 물건을 조사하게 할 수 있다. <개정 2008. 2. 29., 2013. 5. 28., 2014. 12. 30.,\\n2016. 3. 29., 2021. 1. 5., 2024. 10. 22.>\\n② 금융위원회는 제1항에 따른 조사를 위하여 위반행위의 혐의가 있는 자, 그 밖의 관계자에게 다음 각 호의 사항을\\n요구할 수 있다.<개정 2008. 2. 29., 2013. 5. 28.>\\n1. 조사사항에 관한 사실과 상황에 대한 진술서의 제출\\n2. 조사사항에 관한 진술을 위한 출석\\n3. 조사에 필요한 장부ㆍ서류, 그 밖의 물건의 제출\\n③ 금융위원회는 제1항에 따른 조사를 함에 있어서 제172조부터 제174조까지, 제176조, 제178조, 제178조의2, 제\\n180조 및 제180조의2부터 제180조의6까지의 규정을 위반한 사항의 조사에 필요하다고 인정되는 경우에는 다음 각\\n호의 조치를 할 수 있다.<개정 2008. 2. 29., 2014. 12. 30., 2016. 3. 29., 2021. 1. 5., 2024. 10. 22.>\\n1. 제2항제3호에 따라 제출된 장부ㆍ서류, 그 밖의 물건의 영치\\n2. 관계자의 사무소 또는 사업장에 대한 출입을 통한 업무ㆍ장부ㆍ서류, 그 밖의 물건의 조사\\n④ 금융위원회는 제1항에 따른 조사를 함에 있어서 필요하다고 인정되는 경우에는 금융투자업자, 금융투자업관계\\n기관 또는 거래소에 대통령령으로 정하는 방법에 따라 조사에 필요한 자료의 제출을 요구할 수 있다.<개정 2008. 2.\\n29.>\\n⑤ 금융위원회는 제1항에 따른 조사 결과 별표 15 각 호의 어느 하나에 해당하는 경우에는 시정명령, 그 밖에 대통\\n령령으로 정하는 조치를 할 수 있으며, 조사 및 조치를 함에 있어서 필요한 절차ㆍ조치기준, 그 밖에 필요한 사항을\\n정하여 고시할 수 있다.<개정 2008. 2. 29.>\\n⑥ 거래소는 이상거래의 심리 및 회원에 대한 감리결과 이 법 또는 이 법에 따른 명령이나 처분을 위반한 혐의를 알\\n게 된 경우에는 금융위원회에 통보하여야 한다.<개정 2008. 2. 29.>\\n⑦ 제3항제2호에 따라 조사를 하는 자는 그 권한을 표시하는 증표를 지니고 이를 관계자에게 내보여야 한다.\\n⑧ 금융위원회는 관계자에 대한 조사실적ㆍ처리결과, 그 밖에 관계자의 위법행위를 예방하는데 필요한 정보 및 자\\n료를 대통령령으로 정하는 방법에 따라 공표할 수 있다.<개정 2008. 2. 29.>\\n[시행일: 2025. 3. 31.] 제426조\\n법제처                                                            186                                                       국가법령정보센터\\n자본시장과 금융투자업에 관한 법률',\n",
       "   '제426조의2(지급정지) ① 금융위원회는 제173조의2제2항, 제174조, 제176조, 제178조, 제178조의2, 제180조 또는 제\\n180조의4를 위반한 행위(이하 이 장에서 “특정 불공정거래 행위”라 한다)를 하였다고 판단할 만한 상당한 이유가 있\\n고 불법이익 은닉 방지를 위하여 금융거래를 정지할 상당한 필요가 있다고 인정하는 경우 특정 불공정거래 행위에\\n사용되었다고 의심되는 계좌의 전부 또는 일부에 대하여 「전기통신금융사기 피해 방지 및 피해금 환급에 관한 특별\\n법」 제2조제1호에 따른 금융회사(이하 이 조에서 “금융회사”라 한다)에 지급정지를 요구할 수 있다.\\n② 수사기관은 제1항에 따른 지급정지 요구 조치를 금융위원회에 요청할 수 있다.\\n③ 제1항에 따른 지급정지 기간은 6개월로 한다. 다만, 금융위원회는 불법이익 은닉 방지 등을 위하여 지급정지를\\n계속할 필요가 있다고 인정하는 경우에는 6개월의 범위에서 1회에 한정하여 연장을 요구할 수 있다.\\n④ 제1항에 따른 요구를 받은 금융회사는 금융위원회로부터 지급정지 조치를 요구받은 해당 계좌에 대하여 지체 없\\n이 지급정지 조치를 하여야 하고, 그 사실을 해당 계좌의 명의인과 금융위원회에 통지하여야 한다. 다만, 명의인의\\n소재를 알 수 없는 경우에는 금융회사의 인터넷 홈페이지 등에 지급정지 조치에 관한 사실을 공개하여야 한다.\\n⑤ 수사기관은 도주 또는 증거인멸 등의 우려가 있는 경우 금융회사에 명의인에 대한 통지를 유예할 것을 요청할\\n수 있다. 이 경우 금융회사는 제4항에 따른 통지를 유예하여야 한다.\\n⑥ 제1항에 따른 요구를 받은 금융회사에 종사하는 사람은 지급정지 조치가 완료되기 전 또는 제5항에 따른 통지\\n유예기간 동안 이를 명의인 등 제3자에게 누설하여서는 아니 된다.\\n⑦ 금융위원회는 다음 각 호의 어느 하나에 해당하는 경우 제4항에 따라 지급정지된 계좌에 대하여 지급정지의 일\\n부나 전부를 해제할 수 있다. 다만, 제1호 또는 제2호에 해당하는 경우에는 지급정지를 해제하여야 한다.\\n1. 명의인이 특정 불공정거래 행위에 관여하지 아니하였다는 사실이 인정되는 경우\\n2. 해당 계좌가 불법이익 은닉에 사용된 계좌가 아니라는 사실이 객관적인 자료 등으로 소명되는 경우\\n3. 수사기관에 대한 고발ㆍ통보 등이 이루어졌고, 수사기관에 의한 추징보전절차 등이 진행되어 더 이상 지급정지\\n의 필요성이 인정되지 아니하는 경우 \\n4. 지급정지를 한 날부터 12개월이 지날 때까지 특정 불공정거래 행위 여부에 대한 증권선물위원회 의결이 존재하\\n지 아니하는 경우 \\n5. 그 밖에 지급정지를 유지할 필요성 등을 고려하여 대통령령으로 정하는 경우\\n⑧ 제1항부터 제7항까지에 따른 지급정지의 대상, 요건, 절차, 통지 등에 필요한 사항은 대통령령으로 정한다.\\n[본조신설 2024. 10. 22.]\\n[시행일: 2025. 4. 23.] 제426조의2',\n",
       "   '제426조의3(불공정거래행위자에 대한 거래 및 임원선임 제한) ① 금융위원회는 투자자를 보호하고 건전한 거래 질서를\\n유지하기 위하여 제426조에 따른 조사 결과 특정 불공정거래 행위를 한 자에 대하여 일정 기간(이하 이 조에서 “제\\n한기간”이라 한다) 동안 다음 각 호의 어느 하나에 해당하는 행위를 제한하는 명령(이하 이 조에서 “제한명령”이라\\n한다)을 할 수 있다.\\n1. 누구의 명의로든지 자기의 계산으로 행하는 금융투자상품의 계좌 개설, 매매, 대여, 차입 및 그 밖의 거래. 다만,\\n거래의 성격, 그 밖의 사정 등을 고려하여 대통령령으로 정하는 경우는 제외한다. \\n2. 주권상장법인, 그 밖에 대통령령으로 정하는 법인(이하 이 조에서 “주권상장법인등”이라 한다)의 임원[「상법」에\\n따른 집행임원, 「금융회사의 지배구조에 관한 법률」 제2조제5호에 따른 업무집행책임자(이 경우 “금융회사”는 \\n“주권상장법인등”으로 본다)를 포함한다]으로서의 선임ㆍ재임(在任) \\n② 제1항에 따른 제한기간을 정할 때 금융위원회는 다음 각 호의 사항을 고려하여야 하며, 제한기간은 5년을 초과\\n하여서는 아니 된다.\\n1. 위반행위의 내용 및 정도\\n2. 위반행위의 기간 및 횟수\\n3. 위반행위로 인하여 취득한 이익의 규모\\n③ 금융위원회는 제1항제1호(같은 호 단서는 제외한다)에 따른 거래가 제한되는 자(이하 이 조에서 “거래제한대상\\n자”라 한다)에 관한 다음 각 호의 정보 중 거래제한 조치에 필요한 정보를 금융투자업자(겸영금융투자업자를 포함\\n법제처                                                            187                                                       국가법령정보센터\\n자본시장과 금융투자업에 관한 법률 \\n한다), 금융투자업관계기관 또는 거래소에 통보하여야 한다.\\n1. 거래제한대상자의 인적사항 및 거래제한대상자가 보유한 금융투자상품 계좌정보\\n2. 제한명령의 내용 및 제한기간\\n3. 그 밖에 대통령령으로 정하는 정보\\n④ 금융투자업자는 제3항에 따라 통보받은 거래제한대상자로부터 금융투자상품의 거래 요청을 받은 경우 제1항제\\n1호(같은 호 단서는 제외한다)에 해당하는 거래에 대해서는 이를 거부하여야 한다. 이 경우 거래제한대상자의 거래\\n요청 사실(제3항제1호의 정보를 포함한다. 이하 같다) 및 그 거부 또는 처리결과를 금융위원회 및 거래소에 통보하\\n여야 한다.\\n⑤ 거래소는 금융투자업자가 제4항을 위반한 혐의를 알게 된 경우에는 이를 금융위원회에 통보하여야 한다.\\n⑥ 주권상장법인등은 제1항제2호에 따른 임원으로서의 선임ㆍ재임이 제한되는 자(이하 이 조에서 “임원선임ㆍ재임\\n제한대상자”라 한다)를 임원으로 선임할 수 없다. 임원선임ㆍ재임제한대상자가 임원으로 재임 중인 경우에는 해당\\n임원을 지체 없이 해임하여야 한다.\\n⑦ 금융위원회는 다음 각 호의 어느 하나에 해당하는 경우 각 호의 구분에 따른 조치 및 그 밖에 시정에 필요한 조\\n치를 할 수 있다.\\n1. 거래제한대상자가 제한명령을 위반하여 금융투자상품을 취득한 경우: 6개월 이내의 범위에서 기간을 정하여 내\\n리는 해당 금융투자상품의 처분명령 \\n2. 주권상장법인등이 제6항 전단을 위반하여 임원선임ㆍ재임제한대상자를 임원으로 선임하거나 같은 항 후단을 위\\n반하여 임원선임ㆍ재임제한대상자를 해임하지 아니한 경우: 해당 임원선임ㆍ재임제한대상자의 해임 요구 \\n⑧ 제1항부터 제7항까지에 따른 제한명령의 절차ㆍ기준, 거래제한대상자 통보 방법ㆍ절차, 시정에 필요한 조치의\\n구체적 내용ㆍ절차 및 그 밖에 필요한 사항은 대통령령으로 정한다.\\n[본조신설 2024. 10. 22.]\\n[시행일: 2025. 4. 23.] 제426조의3',\n",
       "   '제427조(불공정거래 조사를 위한 압수ㆍ수색) ① 증권선물위원회는 제172조부터 제174조까지, 제176조, 제178조, 제\\n178조의2, 제180조 및 제180조의2부터 제180조의5까지의 규정을 위반한 행위(이하 이 조에서 “위반행위”라 한다)를\\n조사하기 위하여 필요하다고 인정되는 경우에는 금융위원회 소속공무원 중 대통령령으로 정하는 자(이하 이 조에서\\n“조사공무원”이라 한다)에게 위반행위의 혐의가 있는 자를 심문하거나 물건을 압수 또는 사업장 등을 수색하게 할\\n수 있다. <개정 2008. 2. 29., 2016. 3. 29., 2021. 1. 5.>\\n② 조사공무원이 위반행위를 조사하기 위하여 압수 또는 수색을 하는 경우에는 검사의 청구에 의하여 법관이 발부\\n한 압수ㆍ수색영장이 있어야 한다.\\n③ 조사공무원이 제1항에 따라 심문ㆍ압수ㆍ수색을 하는 경우에는 그 권한을 표시하는 증표를 지니고 이를 관계자\\n에게 내보여야 한다.\\n④ 형사소송법 중 압수ㆍ수색과 압수ㆍ수색영장의 집행 및 압수물 환부(還付) 등에 관한 규정은 이 법에 규정된 압\\n수ㆍ수색과 압수ㆍ수색영장에 관하여 준용한다.\\n⑤ 조사공무원이 영치ㆍ심문ㆍ압수 또는 수색을 한 경우에는 그 전 과정을 기재하여 입회인 또는 심문을 받은 자에\\n게 확인시킨 후 그와 함께 기명날인 또는 서명하여야 한다. 이 경우 입회인 또는 심문을 받은 자가 기명날인 또는\\n서명을 하지 아니하거나 할 수 없는 때에는 그 사유를 덧붙여 적어야 한다.\\n⑥ 조사공무원이 위반행위의 조사를 완료한 경우에는 그 결과를 증권선물위원회에 보고하여야 한다.',\n",
       "   '제427조의2(조사권한의 남용 금지) ① 조사공무원 및 제426조에 따라 조사업무를 수행하는 금융감독원 소속 직원(이하\\n“조사원”이라 한다)은 이 법의 시행을 위하여 필요한 최소한의 범위 안에서 조사를 행하여야 하며, 다른 목적 등을 위\\n하여 조사권을 남용하여서는 아니 된다.\\n② 금융위원회는 조사원의 조사권 남용을 방지하고 조사절차의 적법성을 보장하기 위한 구체적 기준을 정하여 고\\n시할 수 있다.\\n법제처                                                            188                                                       국가법령정보센터\\n자본시장과 금융투자업에 관한 법률 \\n[본조신설 2013. 5. 28.]'],\n",
       "  '제4장 과징금': ['제428조(금융투자업자에 대한 과징금) ① 금융위원회는 금융투자업자가 제34조제1항제1호ㆍ제2호와 같은 조 제2항 및\\n제77조의3제9항을 위반한 경우에는 그 금융투자업자에 대하여 다음 각 호의 구분에 따른 위반금액을 초과하지 아니\\n하는 범위에서 과징금을 부과할 수 있다. <개정 2008. 2. 29., 2013. 5. 28., 2017. 4. 18., 2018. 3. 27.>\\n1. 제34조제1항제1호를 위반한 경우에는 취득금액\\n2. 제34조제1항제2호를 위반한 경우에는 허용비율을 초과하는 취득금액\\n3. 제34조제2항을 위반한 경우에는 신용공여액\\n4. 삭제<2017. 4. 18.>\\n5. 제77조의3제9항을 위반한 경우에는 신용공여액\\n② 금융위원회는 금융투자업자가 제77조의3제5항부터 제7항까지를 위반한 경우(제77조의3제8항에 해당하는 경우\\n는 제외한다)에는 그 금융투자업자에 대하여 허용금액을 초과한 신용공여액의 100분의 40을 초과하지 아니하는 범\\n위에서 과징금을 부과할 수 있다.<신설 2017. 4. 18., 2018. 3. 27.>\\n③ 금융위원회는 금융투자업자에 대하여 제420조제3항에 따라 업무정지처분을 부과할 수 있는 경우에는 이에 갈음\\n하여 업무정지기간의 이익의 범위에서 과징금을 부과할 수 있다.<개정 2008. 2. 29., 2017. 4. 18.>\\n④ 금융위원회는 금융투자업자 및 그 임직원이 제54조제2항(제42조제10항, 제52조제6항, 제199조제5항, 제255조,\\n제260조, 제265조, 제289조, 제304조, 제323조의17, 제328조 또는 제367조에서 준용하는 경우를 포함한다)을 위반\\n한 경우에는 그 금융투자업자, 임직원 및 정보교류 차단의 대상이 되는 정보를 제공받아 이용한 자에게 그 위반행위\\n와 관련된 거래로 얻은 이익(미실현 이익을 포함한다) 또는 이로 인하여 회피한 손실액의 1.5배에 상당하는 금액 이\\n하의 과징금을 부과할 수 있다.<신설 2020. 5. 19.>',\n",
       "   '제429조(공시위반에 대한 과징금) ① 금융위원회는 제125조제1항 각 호의 어느 하나에 해당하는 자가 다음 각 호의 어\\n느 하나에 해당하는 경우에는 증권신고서상의 모집가액 또는 매출가액의 100분의 3(20억원을 초과하는 경우에는\\n20억원)을 초과하지 아니하는 범위에서 과징금을 부과할 수 있다. <개정 2008. 2. 29.>\\n1. 제119조, 제122조 또는 제123조에 따른 신고서ㆍ설명서, 그 밖의 제출서류 중 중요사항에 관하여 거짓의 기재 또\\n는 표시를 하거나 중요사항을 기재 또는 표시하지 아니한 때 \\n2. 제119조, 제122조 또는 제123조에 따른 신고서ㆍ설명서, 그 밖의 제출서류를 제출하지 아니한 때\\n② 금융위원회는 제142조제1항 각 호의 어느 하나에 해당하는 자가 다음 각 호의 어느 하나에 해당하는 경우에는\\n공개매수신고서에 기재된 공개매수예정총액의 100분의 3(20억원을 초과하는 경우에는 20억원)을 초과하지 아니하\\n는 범위에서 과징금을 부과할 수 있다. 이 경우 공개매수예정총액은 공개매수할 주식등의 수량을 공개매수가격으로\\n곱하여 산정한 금액으로 한다.<개정 2008. 2. 29.>\\n1. 제134조, 제136조 또는 제137조에 따른 신고서ㆍ설명서, 그 밖의 제출서류 또는 공고 중 중요사항에 관하여 거짓\\n의 기재 또는 표시를 하거나 중요사항을 기재 또는 표시하지 아니한 때 \\n2. 제134조, 제136조 또는 제137조에 따른 신고서ㆍ설명서, 그 밖의 제출서류를 제출하지 아니하거나 공고하여야\\n할 사항을 공고하지 아니한 때 \\n③ 금융위원회는 제159조제1항, 제160조 또는 제161조제1항에 따라 사업보고서 제출대상법인이 다음 각 호의 어느\\n하나에 해당하는 경우에는 직전 사업연도 중에 증권시장(다자간매매체결회사에서의 거래를 포함한다. 이하 이 항에\\n서 같다)에서 형성된 그 법인이 발행한 주식(그 주식과 관련된 증권예탁증권을 포함한다. 이하 이 항에서 같다)의 일\\n일평균거래금액의 100분의 10(20억원을 초과하거나 그 법인이 발행한 주식이 증권시장에서 거래되지 아니한 경우\\n에는 20억원)을 초과하지 아니하는 범위에서 과징금을 부과할 수 있다.<개정 2008. 2. 29., 2009. 2. 3., 2013. 5. 28.>\\n1. 제159조제1항, 제160조 또는 제161조제1항에 따른 사업보고서등 중 중요사항에 관하여 거짓의 기재 또는 표시\\n를 하거나 중요사항을 기재 또는 표시하지 아니한 때\\n법제처                                                            189                                                       국가법령정보센터\\n자본시장과 금융투자업에 관한 법률 \\n2. 제159조제1항, 제160조 또는 제161조제1항에 따른 사업보고서등을 제출하지 아니한 때\\n④ 금융위원회는 제147조제1항에 따라 보고를 하여야 할 자가 다음 각 호의 어느 하나에 해당하는 경우에는 같은\\n항에 따른 주권상장법인이 발행한 주식의 시가총액(대통령령으로 정하는 방법에 따라 산정된 금액으로 한다)의\\n10만분의 1(5억원을 초과하는 경우에는 5억원)을 초과하지 아니하는 범위에서 과징금을 부과할 수 있다.<개정\\n2013. 5. 28.>\\n1. 제147조제1항ㆍ제3항 또는 제4항을 위반하여 보고를 하지 아니한 경우\\n2. 제147조에 따른 보고서류 또는 제151조제2항에 따른 정정보고서 중 대통령령으로 정하는 중요한 사항에 관하여\\n거짓의 기재 또는 표시를 하거나 중요한 사항을 기재 또는 표시하지 아니한 경우 \\n⑤ 금융위원회는 제173조의3에 따라 거래계획 등을 보고하여야 하는 자가 다음 각 호의 어느 하나에 해당하는 경우\\n에는 같은 조에 따른 주권상장법인이 발행한 주식의 시가총액(대통령령으로 정하는 방법에 따라 산정된 금액으로\\n한다)의 1만분의 2(20억원을 초과하는 경우에는 20억원)를 초과하지 아니하는 범위에서 과징금을 부과할 수 있다.\\n<신설 2024. 1. 23.>\\n1. 거래계획에 대통령령으로 정하는 중요사항을 기재 또는 표시하지 아니하거나 거짓으로 기재 또는 표시한 때\\n2. 제173조의3제1항을 위반하여 거래계획을 보고하지 아니하고 특정증권등의 거래등을 한 때\\n3. 제173조의3제2항을 위반하여 거래기간의 종료일 이전에 새로운 거래계획을 보고한 때\\n4. 제173조의3제3항을 위반하여 거래계획에 따라 특정증권등의 거래등을 하지 아니한 때\\n5. 제173조의3제4항을 위반하여 거래계획을 철회한 때\\n⑥ 제1항부터 제5항까지에 따른 과징금은 각 해당 규정의 위반행위가 있었던 때부터 5년이 경과하면 이를 부과하\\n여서는 아니 된다.<신설 2013. 5. 28., 2024. 1. 23.>',\n",
       "   '제429조의2(불공정거래행위 등에 대한 과징금) ① 금융위원회는 다음 각 호의 어느 하나에 해당하는 자에 대하여 그 위\\n반행위로 얻은 이익(미실현 이익을 포함한다. 이하 이 조에서 같다) 또는 이로 인하여 회피한 손실액의 2배에 상당하\\n는 금액 이하의 과징금을 부과할 수 있다. 다만, 그 위반행위와 관련된 거래로 얻은 이익 또는 이로 인하여 회피한 손\\n실액이 없거나 산정하기 곤란한 경우에는 40억원 이하의 과징금을 부과할 수 있다.\\n1. 제173조의2제2항을 위반하여 파생상품시장에서의 시세에 영향을 미칠 수 있는 정보를 누설하거나, 장내파생상\\n품 및 그 기초자산의 매매나 그 밖의 거래에 이용하거나, 타인으로 하여금 이용하게 한 자 \\n2. 제174조를 위반하여 미공개중요정보 이용행위를 한 자\\n3. 제176조를 위반하여 시세조종행위 등을 한 자\\n4. 제178조를 위반하여 부정거래행위 등을 한 자\\n② 금융위원회는 제1항에 따라 과징금을 부과할 때 동일한 위반행위로 제443조제1항 또는 제445조제22호의2에 따\\n라 벌금을 부과받은 경우에는 제1항의 과징금 부과를 취소하거나 벌금에 상당하는 금액(몰수나 추징을 당한 경우\\n해당 금액을 포함한다)의 전부 또는 일부를 과징금에서 제외할 수 있다.\\n③ 검찰총장은 금융위원회가 제1항에 따라 과징금을 부과하기 위하여 수사 관련 자료를 요구하는 경우에는 필요하\\n다고 인정되는 범위에서 이를 제공할 수 있다.\\n④ 금융위원회는 제178조의2를 위반한 자에 대하여 5억원 이하의 과징금을 부과할 수 있다. 다만, 그 위반행위와 관\\n련된 거래로 얻은 이익 또는 이로 인하여 회피한 손실액의 1.5배에 해당하는 금액이 5억원을 초과하는 경우에는 그\\n이익 또는 회피한 손실액의 1.5배에 상당하는 금액 이하의 과징금을 부과할 수 있다.\\n[전문개정 2023. 7. 18.]',\n",
       "   '제429조의3(위법한 공매도에 대한 과징금) ① 금융위원회는 제180조를 위반하여 상장증권에 대하여 허용되지 아니하\\n는 방법으로 공매도를 하거나 공매도 주문을 위탁 또는 수탁한 자에 대하여 다음 각 호의 구분에 따른 위반금액을\\n초과하지 아니하는 범위에서 과징금을 부과할 수 있다.\\n1. 공매도를 하거나 공매도 주문을 위탁한 경우에는 제180조를 위반한 공매도 주문금액\\n2. 공매도 주문을 수탁한 경우에는 제180조를 위반한 공매도 주문금액\\n법제처                                                            190                                                       국가법령정보센터\\n자본시장과 금융투자업에 관한 법률 \\n② 금융위원회는 제180조의4를 위반한 자에 대하여 5억원 이하의 과징금을 부과할 수 있다. 다만, 그 위반행위와 관\\n련된 거래로 얻은 이익(미실현 이익을 포함한다. 이하 이 항에서 같다) 또는 이로 인하여 회피한 손실액의 1.5배에\\n해당하는 금액이 5억원을 초과하는 경우에는 그 이익 또는 회피한 손실액의 1.5배에 상당하는 금액 이하의 과징금\\n을 부과할 수 있다.\\n③ 금융위원회는 제1항에 따른 과징금을 부과할 때 동일한 위반행위로 제443조제1항제10호에 따라 벌금을 부과받\\n은 경우에는 과징금 부과를 취소하거나 벌금에 상당하는 금액의 전부 또는 일부를 과징금에서 제외할 수 있다.\\n[본조신설 2021. 1. 5.]',\n",
       "   '제430조(과징금의 부과) ① 제428조,',\n",
       "   '제429조(제4항은 제외한다) 및 제429조의3제1항제2호에 따른 과징금의 부과는 과\\n징금부과대상자에게 각 해당 규정의 위반행위에 대하여 고의 또는 중대한 과실이 있는 경우에 한한다. <개정 2013.\\n5. 28., 2021. 1. 5.>\\n② 금융위원회는 제428조, 제429조, 제429조의2 및 제429조의3에 따라 과징금을 부과하는 경우에는 대통령령으로\\n정하는 기준에 따라 다음 각 호의 사항을 고려하여야 한다.<개정 2008. 2. 29., 2009. 2. 3., 2014. 12. 30., 2017. 4.\\n18., 2021. 1. 5.>\\n1. 위반행위의 내용 및 정도\\n2. 위반행위의 기간 및 회수\\n3. 위반행위로 인하여 취득한 이익의 규모\\n4. 업무정지기간(제428조제3항에 따라 과징금을 부과하는 경우만 해당한다)\\n③ 금융위원회는 이 법을 위반한 법인이 합병을 하는 경우 그 법인이 행한 위반행위는 합병 후 존속하거나 합병에\\n의하여 신설된 법인이 행한 행위로 보아 과징금을 부과ㆍ징수할 수 있다.<개정 2008. 2. 29.>\\n④ 과징금의 부과에 관하여 필요한 사항은 대통령령으로 정한다.',\n",
       "   '제431조(의견제출) ① 금융위원회는 과징금을 부과하기 전에 미리 당사자 또는 이해관계인 등에게 의견을 제출할 기회\\n를 주어야 한다. <개정 2008. 2. 29.>\\n② 제1항에 따른 당사자 또는 이해관계인 등은 금융위원회의 회의에 출석하여 의견을 진술하거나 필요한 자료를 제\\n출할 수 있다.<개정 2008. 2. 29.>\\n③ 당사자 또는 이해관계인 등은 제2항에 따른 의견 진술 등을 하는 경우 변호인의 도움을 받거나 그를 대리인으로\\n지정할 수 있다.<신설 2013. 5. 28.>',\n",
       "   '제432조(과징금 부과처분에 대한 이의신청 특례) 제428조, 제429조, 제429조의2 및 제429조의3에 따른 과징금 부과처\\n분에 대한 이의신청에 관하여는 제425조를 준용한다.\\n[전문개정 2023. 9. 14.]',\n",
       "   '제433조(과징금의 납부기한 연기 및 분할 납부) ① 금융위원회는 과징금을 부과받은 자(이하 “과징금납부의무자”라 한\\n다)에 대하여 「행정기본법」 제29조 단서에 따라 과징금 납부기한을 연기하거나 과징금을 분할 납부하게 할 수 있으\\n며, 이 경우 필요하다고 인정하면 담보를 제공하게 할 수 있다.\\n② 과징금납부의무자는 제1항에 따라 과징금의 납부기한을 연기받거나 분할 납부를 하려는 경우에는 그 납부기한\\n의 10일 전까지 금융위원회에 신청하여야 한다.\\n③ 금융위원회는 제1항에 따라 과징금 납부기한이 연기되거나 분할 납부가 허용된 과징금납부의무자가 다음 각 호\\n의 어느 하나에 해당하게 된 때에는 그 납부기한의 연기 또는 분할 납부 결정을 취소하고 과징금을 일시에 징수할\\n수 있다.\\n1. 분할 납부하기로 한 과징금을 그 납부기한까지 내지 아니한 경우\\n2. 담보 제공 요구에 따르지 아니하거나 제공된 담보의 가치를 훼손하는 행위를 한 경우\\n3. 강제집행, 경매의 개시, 파산선고, 법인의 해산, 국세 강제징수 또는 지방세 체납처분 등의 사유로 과징금의 전부\\n또는 나머지를 징수할 수 없다고 인정되는 경우\\n법제처                                                            191                                                       국가법령정보센터\\n자본시장과 금융투자업에 관한 법률 \\n4. 「행정기본법」 제29조 각 호의 사유가 해소되어 과징금을 한꺼번에 납부할 수 있다고 인정되는 경우\\n5. 그 밖에 제1호부터 제4호까지에 준하는 사유가 있는 경우\\n④ 제1항부터 제3항까지에서 규정한 사항 외에 과징금의 납부기한 연기, 분할 납부 또는 담보 제공 등에 관하여 필\\n요한 사항은 대통령령으로 정한다.\\n[전문개정 2023. 9. 14.]',\n",
       "   '제434조(과징금의 징수 및 체납처분) ① 금융위원회는 과징금납부의무자가 납부기한 내에 과징금을 납부하지 아니한\\n경우에는 납부기한의 다음 날부터 납부한 날의 전일까지의 기간에 대하여 대통령령으로 정하는 가산금을 징수할 수\\n있다. <개정 2008. 2. 29.>\\n② 금융위원회는 과징금납부의무자가 납부기한 내에 과징금을 납부하지 아니한 경우에는 기간을 정하여 독촉을 하\\n고, 그 지정한 기간 이내에 과징금 및 제1항에 따른 가산금을 납부하지 아니한 경우에는 국세체납처분의 예에 따라\\n징수할 수 있다.<개정 2008. 2. 29.>\\n③ 금융위원회는 제1항 및 제2항에 따른 과징금 및 가산금의 징수 또는 체납처분에 관한 업무를 국세청장에게 위탁\\n할 수 있다.<개정 2008. 2. 29.>\\n④ 금융위원회는 체납된 과징금의 징수를 위하여 필요하다고 인정되는 경우에는 「국세기본법」 및 「지방세기본법」\\n에 따라 문서로서 해당 세무관서의 장이나 지방자치단체의 장에게 과세정보의 제공을 요청할 수 있다. 이 경우 과세\\n정보의 제공을 요청받은 자는 정당한 사유가 없으면 그 요청에 따라야 한다.<신설 2014. 12. 30.>\\n⑤ 제1항부터 제4항까지의 규정 외에 과징금 또는 가산금의 징수에 관하여 필요한 사항은 대통령령으로 정한다.\\n<개정 2013. 5. 28., 2014. 12. 30.>',\n",
       "   '제434조의2(과오납금의 환급) ① 금융위원회는 과징금 납부의무자가 이의신청의 재결 또는 법원의 판결 등의 사유로\\n과징금 과오납금의 환급을 청구하는 경우에는 지체 없이 환급하여야 하며, 과징금 납부의무자의 청구가 없어도 금융\\n위원회가 확인한 과오납금은 환급하여야 한다.\\n② 금융위원회는 제1항에 따라 과오납금을 환급하는 경우 환급받을 자가 금융위원회에 납부하여야 하는 과징금이\\n있으면 환급하는 금액을 과징금에 충당할 수 있다.\\n[본조신설 2009. 2. 3.]',\n",
       "   '제434조의3(환급가산금) 금융위원회는 제434조의2제1항에 따라 과징금을 환급하는 경우에는 과징금을 납부한 날부터\\n환급한 날까지의 기간에 대하여 대통령령으로 정하는 가산금 이율을 적용하여 환급가산금을 환급받을 자에게 지급\\n하여야 한다.\\n[본조신설 2009. 2. 3.]',\n",
       "   '제434조의4(결손처분) 금융위원회는 과징금 납부의무자에게 다음 각 호의 어느 하나에 해당하는 사유가 있으면 결손처\\n분을 할 수 있다. <개정 2010. 6. 10.>\\n1. 체납처분이 끝나고 체납액에 충당된 배분금액이 체납액에 미치지 못하는 경우\\n2. 징수금 등의 징수권에 대한 소멸시효가 완성된 경우\\n3. 체납자의 행방이 분명하지 아니하거나 재산이 없다는 것이 판명된 경우\\n4. 체납처분의 목적물인 총재산의 추산가액이 체납처분 비용에 충당하면 남을 여지가 없음이 확인된 경우\\n5. 체납처분의 목적물인 총재산이 징수금 등보다 우선하는 국세, 지방세, 전세권ㆍ질권ㆍ저당권 및 「동산ㆍ채권 등\\n의 담보에 관한 법률」에 따른 담보권으로 담보된 채권 등의 변제에 충당하면 남을 여지가 없음이 확인된 경우 \\n6. 그 밖에 징수할 가망이 없는 경우로서 대통령령으로 정하는 사유에 해당하는 경우\\n[본조신설 2009. 2. 3.]\\n \\n     제9편 보칙\\n법제처                                                            192                                                       국가법령정보센터\\n자본시장과 금융투자업에 관한 법률',\n",
       "   '제435조(위법행위의 신고 및 신고자 보호) ① 누구든지 제4편의 불공정거래행위, 그 밖에 이 법의 위반행위를 알게 되\\n었거나 이를 강요 또는 제의받은 경우에는 금융위원회(제172조부터 제174조까지, 제176조, 제178조, 제178조의2, 제\\n180조 및 제180조의2부터 제180조의5까지의 규정을 위반한 사항인 경우에는 증권선물위원회를 말한다. 이하 이 조\\n에서 같다)에 신고 또는 제보할 수 있다. <개정 2008. 2. 29., 2014. 12. 30., 2016. 3. 29., 2021. 1. 5.>\\n② 금융위원회는 제1항에 따른 신고 또는 제보를 받은 경우에는 이를 신속하게 처리하고, 그 처리결과를 신고자 또\\n는 제보자(이하 이 조에서 “신고자등”이라 한다)에게 통지하여야 한다.<개정 2008. 2. 29., 2009. 2. 3.>\\n③ 삭제<2009. 2. 3.>\\n④ 금융위원회는 제1항에 따라 신고 또는 제보를 받은 경우 신고자등의 신분 등에 관한 비밀을 유지하여야 한다.\\n<개정 2008. 2. 29.>\\n⑤ 신고자등이 소속된 기관ㆍ단체 또는 회사는 그 신고자등에 대하여 그 신고 또는 제보와 관련하여 직접 또는 간\\n접적인 방법으로 불리한 대우를 하여서는 아니 된다.\\n⑥ 신고자등이 신고의 내용이 거짓이라는 사실을 알았거나 알 수 있었음에도 불구하고 신고한 경우에는 이 법의 보\\n호를 받지 못한다.\\n⑦ 금융위원회는 신고자등에 대하여 포상금을 지급할 수 있다.<개정 2008. 2. 29.>\\n⑧ 제1항부터 제7항까지에 규정한 사항 외에 신고의 방법 및 처리, 신고자등에 대한 통지방법, 신고자등의 보호와\\n포상금 지급 등에 관한 사항은 대통령령으로 정한다.<개정 2009. 2. 3.>',\n",
       "   '제435조(위법행위의 신고 및 신고자 보호) ① 누구든지 제4편의 불공정거래행위, 그 밖에 이 법의 위반행위를 알게 되\\n었거나 이를 강요 또는 제의받은 경우에는 금융위원회(제172조부터 제174조까지, 제176조, 제178조, 제178조의2, 제\\n180조 및 제180조의2부터 제180조의6까지의 규정을 위반한 사항인 경우에는 증권선물위원회를 말한다. 이하 이 조\\n에서 같다)에 신고 또는 제보할 수 있다. <개정 2008. 2. 29., 2014. 12. 30., 2016. 3. 29., 2021. 1. 5., 2024. 10. 22.>\\n② 금융위원회는 제1항에 따른 신고 또는 제보를 받은 경우에는 이를 신속하게 처리하고, 그 처리결과를 신고자 또\\n는 제보자(이하 이 조에서 “신고자등”이라 한다)에게 통지하여야 한다.<개정 2008. 2. 29., 2009. 2. 3.>\\n③ 삭제<2009. 2. 3.>\\n④ 금융위원회는 제1항에 따라 신고 또는 제보를 받은 경우 신고자등의 신분 등에 관한 비밀을 유지하여야 한다.\\n<개정 2008. 2. 29.>\\n⑤ 신고자등이 소속된 기관ㆍ단체 또는 회사는 그 신고자등에 대하여 그 신고 또는 제보와 관련하여 직접 또는 간\\n접적인 방법으로 불리한 대우를 하여서는 아니 된다.\\n⑥ 신고자등이 신고의 내용이 거짓이라는 사실을 알았거나 알 수 있었음에도 불구하고 신고한 경우에는 이 법의 보\\n호를 받지 못한다.\\n⑦ 금융위원회는 신고자등에 대하여 포상금을 지급할 수 있다.<개정 2008. 2. 29.>\\n⑧ 제1항부터 제7항까지에 규정한 사항 외에 신고의 방법 및 처리, 신고자등에 대한 통지방법, 신고자등의 보호와\\n포상금 지급 등에 관한 사항은 대통령령으로 정한다.<개정 2009. 2. 3.>\\n[시행일: 2025. 3. 31.] 제435조',\n",
       "   '제436조(전자문서에 의한 신고 등) ① 이 법에 따라 금융위원회, 증권선물위원회, 금융감독원장, 거래소, 협회 또는 예탁\\n결제원에 신고서ㆍ보고서, 그 밖의 서류 또는 자료 등을 제출하는 경우에는 전자문서의 방법으로 할 수 있다. <개정\\n2008. 2. 29.>\\n② 제1항의 전자문서에 의한 신고 등의 방법 및 절차, 그 밖에 필요한 사항은 대통령령으로 정한다.',\n",
       "   '제437조(외국금융투자감독기관과의 정보교환 등) ① 금융위원회는 외국의 금융투자업 감독기관(이하 이 조에서 “외국\\n금융투자감독기관”이라 한다)과 정보교환을 할 수 있다. <개정 2008. 2. 29.>\\n② 금융위원회(제172조부터 제174조까지, 제176조, 제178조, 제178조의2, 제180조 및 제180조의2부터 제180조의\\n5까지의 규정을 위반한 사항인 경우에는 증권선물위원회를 말한다. 이하 이 조에서 같다)는 외국금융투자감독기관\\n이 이 법 또는 이 법에 상응하는 외국의 법령을 위반한 행위에 대하여 목적ㆍ범위 등을 밝혀 이 법에서 정하는 방법\\n법제처                                                            193                                                       국가법령정보센터\\n자본시장과 금융투자업에 관한 법률 \\n에 따른 조사 또는 검사를 요청하는 경우 이에 협조할 수 있다. 이 경우 금융위원회는 상호주의 원칙에 따라 조사\\n또는 검사자료를 외국금융투자감독기관에 제공하거나 이를 제공받을 수 있다.<개정 2008. 2. 29., 2009. 2. 3., 2014.\\n12. 30., 2016. 3. 29., 2021. 1. 5.>\\n③ 금융위원회는 다음 각 호의 요건을 모두 충족하는 경우에만 제2항 후단에 따라 외국금융투자감독기관에 조사 또\\n는 검사자료를 제공할 수 있다.<개정 2008. 2. 29., 2009. 2. 3.>\\n1. 외국금융투자감독기관에 제공된 조사 또는 검사자료가 제공된 목적 외의 다른 용도로 사용되지 아니할 것\\n2. 조사 또는 검사자료 및 그 제공사실의 비밀이 유지될 것. 다만, 조사 또는 검사자료가 제공된 목적 범위에서 이\\n법에 상응하는 외국 법령의 위반과 관련된 처분, 재판 또는 그에 상응하는 절차에 사용되는 경우에는 그러하지 아 \\n니하다. \\n3. 삭제<2009. 2. 3.>\\n④ 거래소는 외국 거래소와 정보교환을 할 수 있다. 이 경우 거래소는 미리 금융위원회와 협의하여야 한다. 다만, 일\\n반인에게 공개된 정보를 교환하는 경우, 그 밖에 대통령령으로 정하는 경우에는 금융위원회와 협의를 하지 아니할\\n수 있다.<개정 2008. 2. 29., 2009. 2. 3.>\\n⑤ 거래소가 제4항에 따라 정보교환을 하는 경우에는 제2항을 준용한다. 이 경우 제2항 중 “금융위원회”를 각각 “거\\n래소”로 보며, “외국금융투자감독기관”을 각각 “외국 거래소”로, “조사 또는 검사”는 각각 “심리 또는 감리”로 본다.\\n<신설 2008. 2. 29., 2009. 2. 3.>',\n",
       "   '제437조(외국금융투자감독기관과의 정보교환 등) ① 금융위원회는 외국의 금융투자업 감독기관(이하 이 조에서 “외국\\n금융투자감독기관”이라 한다)과 정보교환을 할 수 있다. <개정 2008. 2. 29.>\\n② 금융위원회(제172조부터 제174조까지, 제176조, 제178조, 제178조의2, 제180조 및 제180조의2부터 제180조의\\n6까지의 규정을 위반한 사항인 경우에는 증권선물위원회를 말한다. 이하 이 조에서 같다)는 외국금융투자감독기관\\n이 이 법 또는 이 법에 상응하는 외국의 법령을 위반한 행위에 대하여 목적ㆍ범위 등을 밝혀 이 법에서 정하는 방법\\n에 따른 조사 또는 검사를 요청하는 경우 이에 협조할 수 있다. 이 경우 금융위원회는 상호주의 원칙에 따라 조사\\n또는 검사자료를 외국금융투자감독기관에 제공하거나 이를 제공받을 수 있다.<개정 2008. 2. 29., 2009. 2. 3., 2014.\\n12. 30., 2016. 3. 29., 2021. 1. 5., 2024. 10. 22.>\\n③ 금융위원회는 다음 각 호의 요건을 모두 충족하는 경우에만 제2항 후단에 따라 외국금융투자감독기관에 조사 또\\n는 검사자료를 제공할 수 있다.<개정 2008. 2. 29., 2009. 2. 3.>\\n1. 외국금융투자감독기관에 제공된 조사 또는 검사자료가 제공된 목적 외의 다른 용도로 사용되지 아니할 것\\n2. 조사 또는 검사자료 및 그 제공사실의 비밀이 유지될 것. 다만, 조사 또는 검사자료가 제공된 목적 범위에서 이\\n법에 상응하는 외국 법령의 위반과 관련된 처분, 재판 또는 그에 상응하는 절차에 사용되는 경우에는 그러하지 아 \\n니하다. \\n3. 삭제<2009. 2. 3.>\\n④ 거래소는 외국 거래소와 정보교환을 할 수 있다. 이 경우 거래소는 미리 금융위원회와 협의하여야 한다. 다만, 일\\n반인에게 공개된 정보를 교환하는 경우, 그 밖에 대통령령으로 정하는 경우에는 금융위원회와 협의를 하지 아니할\\n수 있다.<개정 2008. 2. 29., 2009. 2. 3.>\\n⑤ 거래소가 제4항에 따라 정보교환을 하는 경우에는 제2항을 준용한다. 이 경우 제2항 중 “금융위원회”를 각각 “거\\n래소”로 보며, “외국금융투자감독기관”을 각각 “외국 거래소”로, “조사 또는 검사”는 각각 “심리 또는 감리”로 본다.\\n<신설 2008. 2. 29., 2009. 2. 3.>\\n[시행일: 2025. 3. 31.] 제437조',\n",
       "   '제438조(권한의 위임 또는 위탁) ① 삭제 <2008. 2. 29.>\\n② 금융위원회는 이 법에 따른 권한의 일부를 대통령령으로 정하는 바에 따라 증권선물위원회에 위임할 수 있다.\\n<개정 2008. 2. 29.>\\n③ 금융위원회는 이 법에 따른 권한의 일부를 대통령령으로 정하는 바에 따라 거래소 또는 협회에 위탁할 수 있다.\\n<개정 2008. 2. 29.>\\n법제처                                                            194                                                       국가법령정보센터\\n자본시장과 금융투자업에 관한 법률 \\n④ 금융위원회 또는 증권선물위원회는 이 법에 따른 권한의 일부를 대통령령으로 정하는 바에 따라 금융감독원장\\n에게 위탁할 수 있다.<개정 2008. 2. 29.>',\n",
       "   '제439조(증권선물위원회의 심의) 금융위원회는 다음 각 호의 어느 하나에 해당하는 경우에는 미리 증권선물위원회의\\n심의를 거쳐야 한다. <개정 2008. 2. 29., 2009. 2. 3., 2013. 5. 28., 2014. 12. 30., 2021. 1. 5.>\\n1. 다음 각 목의 어느 하나에 해당하는 사항을 정하는 경우\\n가. 제131조제1항, 제132조, 제146조제1항 전단 및 제2항, 제151조제1항 전단 및 제2항, 제158조제1항 전단 및 \\n제2항, 제164조제1항 전단 및 제2항에 따른 조사ㆍ조치의 절차 및 기준 \\n나. 제165조의16에 따른 재무관리기준 \\n다. 제426조제5항에 따른 금융위원회의 조사ㆍ조치의 절차 및 기준 \\n2. 다음 각 목의 어느 하나에 해당하는 조치ㆍ명령 등을 하는 경우\\n가. 제132조, 제146조제2항, 제151조제2항, 제158조제2항, 제164조제2항 및 제165조의18에 따른 조치 \\n나. 제165조의15제1항제2호에 따른 의결권 없는 주식 발행의 인정 \\n다. 제167조제2항에 따른 주식소유비율 한도의 승인 \\n라. 제416조에 따른 명령 \\n마. 제426조제5항에 따른 조사결과에 따른 조치 \\n바. 제428조, 제429조, 제429조의2 및 제429조의3에 따른 과징금부과처분 \\n사. 제449조제3항에 따른 과태료부과처분 \\n3. 그 밖에 금융위원회가 증권선물위원회의 심의가 필요하다고 정하여 고시하는 사항',\n",
       "   '제439조(증권선물위원회의 심의) 금융위원회는 다음 각 호의 어느 하나에 해당하는 경우에는 미리 증권선물위원회의\\n심의를 거쳐야 한다. <개정 2008. 2. 29., 2009. 2. 3., 2013. 5. 28., 2014. 12. 30., 2021. 1. 5., 2024. 10. 22.>\\n1. 다음 각 목의 어느 하나에 해당하는 사항을 정하는 경우\\n가. 제131조제1항, 제132조, 제146조제1항 전단 및 제2항, 제151조제1항 전단 및 제2항, 제158조제1항 전단 및 \\n제2항, 제164조제1항 전단 및 제2항에 따른 조사ㆍ조치의 절차 및 기준 \\n나. 제165조의16에 따른 재무관리기준 \\n다. 제426조제5항에 따른 금융위원회의 조사ㆍ조치의 절차 및 기준 \\n2. 다음 각 목의 어느 하나에 해당하는 조치ㆍ명령 등을 하는 경우\\n가. 제132조, 제146조제2항, 제151조제2항, 제158조제2항, 제164조제2항 및 제165조의18에 따른 조치 \\n나. 제165조의15제1항제2호에 따른 의결권 없는 주식 발행의 인정 \\n다. 제167조제2항에 따른 주식소유비율 한도의 승인 \\n라. 제416조에 따른 명령 \\n마. 제426조제5항에 따른 조사결과에 따른 조치 \\n바. 제426조의2제1항에 따른 지급정지 요구 \\n사. 제426조의3에 따른 제한명령 \\n아. 제428조, 제429조, 제429조의2 및 제429조의3에 따른 과징금부과처분 \\n자. 제449조제3항에 따른 과태료부과처분 \\n3. 그 밖에 금융위원회가 증권선물위원회의 심의가 필요하다고 정하여 고시하는 사항\\n[시행일: 2025. 4. 23.] 제439조',\n",
       "   '제440조(금융감독원장에 대한 지시ㆍ감독 등) ① 금융위원회 또는 증권선물위원회는 이 법에 의한 권한을 행사하는 데\\n에 필요하다고 인정되는 경우에는 금융감독원장에 대하여 지시ㆍ감독 및 업무집행방법의 변경, 그 밖에 감독상 필요\\n한 조치를 명할 수 있다. <개정 2008. 2. 29.>\\n② 금융감독원은 이 법에 따라 금융위원회 또는 증권선물위원회의 지시ㆍ감독을 받아 다음 각 호의 사항에 관한 업\\n무를 행한다.<개정 2008. 2. 29., 2013. 5. 28.>\\n법제처                                                            195                                                       국가법령정보센터\\n자본시장과 금융투자업에 관한 법률 \\n1. 증권신고서에 관한 사항\\n2. 증권의 공개매수에 관한 사항\\n3. 이 법에 따라 금융감독원장의 검사를 받아야 하는 기관의 검사에 관한 사항\\n4. 상장법인의 관리에 관한 사항\\n5. 상장법인의 기업분석 및 기업내용의 신고에 관한 사항\\n6. 거래소시장(다자간매매체결회사에서의 거래를 포함한다) 외에서의 증권 및 장외파생상품의 매매의 감독에 관한\\n사항 \\n7. 정부로부터 위탁받은 업무\\n8. 그 밖에 이 법에 따라 부여된 업무\\n9. 제1호부터 제8호까지의 업무에 부수되는 업무',\n",
       "   '제441조(금융투자상품 매매의 제한 등) 제63조 및 제383조제1항은 다음 각 호의 자에게 준용한다. <개정 2008. 2. 29.>\\n1. 금융위원회의 위원 및 소속 공무원\\n2. 증권선물위원회의 위원\\n3. 금융감독원의 원장ㆍ부원장ㆍ부원장보ㆍ감사 및 소속 직원',\n",
       "   '제442조(분담금) ① 금융위원회에 증권신고서를 제출하는 발행인(그 증권이 집합투자증권인 경우에는 집합투자업자를\\n말한다)은 금융감독원의 운영경비의 일부를 분담하여야 한다. <개정 2008. 2. 29., 2013. 5. 28.>\\n② 제1항에 따른 분담금의 분담요율ㆍ한도, 그 밖에 분담금의 납부에 관하여 필요한 사항은 대통령령으로 정한다.',\n",
       "   '제442조의2(위반행위로 얻은 이익의 산정) 제429조의2 및 제429조의3에 따른 위반행위와 관련된 거래로 얻은 이익 또\\n는 이로 인하여 회피한 손실액 및 제443조에 따른 위반행위로 얻은 이익 또는 회피한 손실액은 그 위반행위를 통하\\n여 이루어진 거래로 발생한 총수입에서 그 거래를 위한 총비용을 공제한 차액을 말한다. 이 경우 각 위반행위의 유형\\n별 구체적인 산정방식은 대통령령으로 정한다.\\n[본조신설 2023. 7. 18.]\\n \\n     제10편 벌칙',\n",
       "   '제443조(벌칙) ① 다음 각 호의 어느 하나에 해당하는 자는 1년 이상의 유기징역 또는 그 위반행위로 얻은 이익 또는\\n회피한 손실액의 3배 이상 5배 이하에 상당하는 벌금에 처한다. 다만, 그 위반행위로 얻은 이익 또는 회피한 손실액\\n이 없거나 산정하기 곤란한 경우 또는 그 위반행위로 얻은 이익 또는 회피한 손실액의 5배에 해당하는 금액이 5억원\\n이하인 경우에는 벌금의 상한액을 5억원으로 한다. <개정 2013. 5. 28., 2014. 12. 30., 2017. 4. 18., 2018. 3. 27.,\\n2021. 1. 5.>\\n1. 제174조제1항을 위반하여 상장법인의 업무 등과 관련된 미공개중요정보를 특정증권등의 매매, 그 밖의 거래에\\n이용하거나 타인에게 이용하게 한 자 \\n2. 제174조제2항을 위반하여 주식등에 대한 공개매수의 실시 또는 중지에 관한 미공개정보를 그 주식등과 관련된\\n특정증권등의 매매, 그 밖의 거래에 이용하거나 타인에게 이용하게 한 자 \\n3. 제174조제3항을 위반하여 주식등의 대량취득ㆍ처분의 실시 또는 중지에 관한 미공개정보를 그 주식등과 관련된\\n특정증권등의 매매, 그 밖의 거래에 이용하거나 타인에게 이용하게 한 자 \\n4. 제176조제1항을 위반하여 상장증권 또는 장내파생상품의 매매에 관하여 그 매매가 성황을 이루고 있는 듯이 잘\\n못 알게 하거나, 그 밖에 타인에게 그릇된 판단을 하게 할 목적으로 같은 항 각 호의 어느 하나에 해당하는 행위 \\n를 한 자 \\n5. 제176조제2항을 위반하여 상장증권 또는 장내파생상품의 매매를 유인할 목적으로 같은 항 각 호의 어느 하나에\\n해당하는 행위를 한 자\\n법제처                                                            196                                                       국가법령정보센터\\n자본시장과 금융투자업에 관한 법률 \\n6. 제176조제3항을 위반하여 상장증권 또는 장내파생상품의 시세를 고정시키거나 안정시킬 목적으로 그 증권 또는\\n장내파생상품에 관한 일련의 매매 또는 그 위탁이나 수탁을 한 자 \\n7. 증권 또는 파생상품에 관한 매매등과 관련하여 제176조제4항 각 호의 어느 하나에 해당하는 행위를 한 자\\n8. 금융투자상품의 매매(증권의 경우 모집ㆍ사모ㆍ매출을 포함한다), 그 밖의 거래와 관련하여 제178조제1항 각 호\\n의 어느 하나에 해당하는 행위를 한 자 \\n9. 제178조제2항을 위반하여 금융투자상품의 매매(증권의 경우 모집ㆍ사모ㆍ매출을 포함한다), 그 밖의 거래를 할\\n목적이나 그 시세의 변동을 도모할 목적으로 풍문의 유포, 위계의 사용, 폭행 또는 협박을 한 자 \\n10. 제180조를 위반하여 상장증권에 대하여 허용하지 아니하는 방법으로 공매도를 하거나 그 위탁 또는 수탁을 한\\n자 \\n② 제1항 각 호(제10호는 제외한다)의 위반행위로 얻은 이익 또는 회피한 손실액이 5억원 이상인 경우에는 제1항의\\n징역을 다음 각 호의 구분에 따라 가중한다.<개정 2018. 3. 27., 2021. 1. 5.>\\n1. 이익 또는 회피한 손실액이 50억원 이상인 경우에는 무기 또는 5년 이상의 징역\\n2. 이익 또는 회피한 손실액이 5억원 이상 50억원 미만인 경우에는 3년 이상의 유기징역\\n③ 제1항 또는 제2항에 따라 징역에 처하는 경우에는 10년 이하의 자격정지를 병과(竝科)할 수 있다.',\n",
       "   '제443조(벌칙) ① 다음 각 호의 어느 하나에 해당하는 자는 1년 이상의 유기징역 또는 그 위반행위로 얻은 이익 또는\\n회피한 손실액의 4배 이상 6배 이하에 상당하는 벌금에 처한다. 다만, 그 위반행위로 얻은 이익 또는 회피한 손실액\\n이 없거나 산정하기 곤란한 경우 또는 그 위반행위로 얻은 이익 또는 회피한 손실액의 6배에 해당하는 금액이 5억원\\n이하인 경우에는 벌금의 상한액을 5억원으로 한다. <개정 2013. 5. 28., 2014. 12. 30., 2017. 4. 18., 2018. 3. 27.,\\n2021. 1. 5., 2024. 10. 22.>\\n1. 제174조제1항을 위반하여 상장법인의 업무 등과 관련된 미공개중요정보를 특정증권등의 매매, 그 밖의 거래에\\n이용하거나 타인에게 이용하게 한 자 \\n2. 제174조제2항을 위반하여 주식등에 대한 공개매수의 실시 또는 중지에 관한 미공개정보를 그 주식등과 관련된\\n특정증권등의 매매, 그 밖의 거래에 이용하거나 타인에게 이용하게 한 자 \\n3. 제174조제3항을 위반하여 주식등의 대량취득ㆍ처분의 실시 또는 중지에 관한 미공개정보를 그 주식등과 관련된\\n특정증권등의 매매, 그 밖의 거래에 이용하거나 타인에게 이용하게 한 자 \\n4. 제176조제1항을 위반하여 상장증권 또는 장내파생상품의 매매에 관하여 그 매매가 성황을 이루고 있는 듯이 잘\\n못 알게 하거나, 그 밖에 타인에게 그릇된 판단을 하게 할 목적으로 같은 항 각 호의 어느 하나에 해당하는 행위 \\n를 한 자 \\n5. 제176조제2항을 위반하여 상장증권 또는 장내파생상품의 매매를 유인할 목적으로 같은 항 각 호의 어느 하나에\\n해당하는 행위를 한 자 \\n6. 제176조제3항을 위반하여 상장증권 또는 장내파생상품의 시세를 고정시키거나 안정시킬 목적으로 그 증권 또는\\n장내파생상품에 관한 일련의 매매 또는 그 위탁이나 수탁을 한 자 \\n7. 증권 또는 파생상품에 관한 매매등과 관련하여 제176조제4항 각 호의 어느 하나에 해당하는 행위를 한 자\\n8. 금융투자상품의 매매(증권의 경우 모집ㆍ사모ㆍ매출을 포함한다), 그 밖의 거래와 관련하여 제178조제1항 각 호\\n의 어느 하나에 해당하는 행위를 한 자 \\n9. 제178조제2항을 위반하여 금융투자상품의 매매(증권의 경우 모집ㆍ사모ㆍ매출을 포함한다), 그 밖의 거래를 할\\n목적이나 그 시세의 변동을 도모할 목적으로 풍문의 유포, 위계의 사용, 폭행 또는 협박을 한 자 \\n10. 제180조를 위반하여 상장증권에 대하여 허용하지 아니하는 방법으로 공매도를 하거나 그 위탁 또는 수탁을 한\\n자 \\n② 제1항 각 호의 위반행위로 얻은 이익 또는 회피한 손실액이 5억원 이상인 경우에는 제1항의 징역을 다음 각 호\\n의 구분에 따라 가중한다.<개정 2018. 3. 27., 2021. 1. 5., 2024. 10. 22.>\\n1. 이익 또는 회피한 손실액이 50억원 이상인 경우에는 무기 또는 5년 이상의 징역\\n법제처                                                            197                                                       국가법령정보센터\\n자본시장과 금융투자업에 관한 법률 \\n2. 이익 또는 회피한 손실액이 5억원 이상 50억원 미만인 경우에는 3년 이상의 유기징역\\n③ 제1항 또는 제2항에 따라 징역에 처하는 경우에는 10년 이하의 자격정지를 병과(竝科)할 수 있다.\\n[시행일: 2025. 3. 31.] 제443조',\n",
       "   '제444조(벌칙) 다음 각 호의 어느 하나에 해당하는 자는 5년 이하의 징역 또는 2억원 이하의 벌금에 처한다. <개정\\n2009. 2. 3., 2013. 4. 5., 2013. 5. 28., 2015. 7. 24., 2018. 3. 27., 2020. 5. 19., 2021. 4. 20., 2021. 6. 8., 2024. 2. 13.>\\n1. 제11조를 위반하여 금융투자업인가(변경인가를 포함한다)를 받지 아니하고 금융투자업(투자자문업, 투자일임업\\n및 일반 사모집합투자업은 제외한다)을 영위한 자 \\n1의2. 제11조의2를 위반하여 계좌 대여를 알선하거나 중개한 자\\n1의3. 제16조의2를 위반하여 업무 단위 추가등록을 하지 아니하고 투자매매업 또는 투자중개업을 영위한 자\\n1의4. 거짓, 그 밖의 부정한 방법으로 제16조의2에 따른 업무 단위 추가등록을 한 자\\n2. 거짓, 그 밖의 부정한 방법으로 제12조에 따른 금융투자업인가(변경인가를 포함한다)를 받은 자\\n3. 제34조제1항을 위반하여 같은 항 제1호 또는 제2호에 해당하는 행위를 한 자\\n4. 제34조제2항을 위반하여 신용공여를 한 금융투자업자와 그로부터 신용공여를 받은 자\\n5.',\n",
       "   '제35조(제350조에서 준용하는 경우를 포함한다)를 위반하여 대주주(그의 특수관계인을 포함한다) 자신의 이익을\\n얻을 목적으로 같은 조 각 호의 어느 하나에 해당하는 행위를 한 자 \\n6. 제42조제10항, 제52조제6항 및 제304조에서 준용하는 「금융실명거래 및 비밀보장에 관한 법률」 제4조제1항 또\\n는 제3항부터 제5항까지의 규정을 위반하여 거래정보등을 제삼자에게 제공하거나 누설한 자와 이를 요구한 자 \\n6의2. 제54조제2항(제42조제10항, 제52조제6항, 제199조제5항, 제255조, 제260조, 제265조, 제289조, 제304조, 제\\n323조의17, 제328조 또는 제367조에서 준용하는 경우를 포함한다)을 위반하여 제45조제1항 또는 제2항에 따라 \\n정보교류 차단의 대상이 되는 정보를 정당한 사유 없이 본인이 이용하거나 제삼자에게 이용하게 한 자와 정보교 \\n류 차단의 대상이 되는 정보를 제공받아 이용한 자 \\n7. 제70조를 위반하여 투자자로부터 예탁받은 재산으로 금융투자상품의 매매를 한 자\\n8.',\n",
       "   '제71조(제7호를 제외한다),',\n",
       "   '제85조(제8호를 제외한다), 제98조제1항(제101조의2제1항에서 준용하는 경우를 포함\\n한다)ㆍ제2항(제10호를 제외한다) 또는',\n",
       "   '제108조(제9호를 제외한다)를 위반하여 각 해당 조항 각 호의 어느 하나 \\n에 해당하는 행위를 한 자 \\n8의2. 제77조의3제5항부터 제7항까지(제77조의3제8항에 해당하는 경우는 제외한다)를 위반하여 신용공여를 한 자\\n8의3. 제77조의3제8항의 기간 이내에 한도에 적합하도록 하지 아니한 자\\n8의4. 제77조의3제9항을 위반하여 신용공여를 한 종합금융투자사업자와 그로부터 신용공여를 받은 자\\n9. 제81조제1항을 위반하여 집합투자재산을 운용함에 있어서 같은 항 각 호의 어느 하나에 해당하는 행위를 한 자\\n10. 제84조제1항을 위반하여 집합투자재산을 운용함에 있어서 이해관계인과 거래행위를 한 자\\n11. 제87조제2항부터 제5항(제186조제2항에서 준용하는 경우를 포함한다)까지 또는 제112조제2항부터 제5항까지\\n의 규정을 위반하여 의결권을 행사한 자 \\n11의2. 제117조의7제6항을 위반하여 투자자의 재산으로 증권의 청약을 한 자\\n11의3. 제117조의8제1항을 위반하여 투자자의 재산을 보관ㆍ예탁받은 자\\n12.',\n",
       "   '제119조(제5항을 제외한다)를 위반하여 증권을 모집 또는 매출한 자\\n13. 다음 각 목의 어느 하나에 해당하는 서류 중 중요사항에 관하여 거짓의 기재 또는 표시를 하거나 중요사항을 기\\n재 또는 표시하지 아니한 자 및 그 중요사항에 관하여 거짓의 기재 또는 표시가 있거나 중요사항의 기재 또는 표 \\n시가 누락되어 있는 사실을 알고도 제119조제5항 또는 제159조제7항(제160조 후단 또는 제161조제1항 각 호 외 \\n의 부분 후단에서 준용하는 경우를 포함한다)에 따른 서명을 한 자와 그 사실을 알고도 이를 진실 또는 정확하다 \\n고 증명하여 그 뜻을 기재한 공인회계사ㆍ감정인 또는 신용평가를 전문으로 하는 자 \\n가. 제119조에 따른 증권신고서 또는 일괄신고추가서류 \\n나. 제122조에 따른 정정신고서\\n법제처                                                            198                                                       국가법령정보센터\\n자본시장과 금융투자업에 관한 법률 \\n다. 제123조에 따른 투자설명서(집합투자증권의 경우 제124조제2항제3호에 따른 간이투자설명서를 포함한다) \\n라. 제159조에 따른 사업보고서 \\n마. 제160조에 따른 반기보고서 또는 분기보고서 \\n바. 제161조에 따른 주요사항보고서 \\n사. 제164조제2항에 따른 정정명령에 따라 제출하는 사업보고서등 \\n14. 제122조제3항을 위반하여 정정신고서를 제출하지 아니한 자\\n15. 다음 각 목의 어느 하나에 해당하는 공고 또는 서류 중 중요사항에 관하여 거짓의 기재 또는 표시를 하거나 중\\n요사항을 기재 또는 표시하지 아니한 자 \\n가. 제134조에 따른 공개매수공고 또는 공개매수신고서 \\n나. 제136조에 따른 정정신고서 또는 공고 \\n다. 제137조제1항에 따른 공개매수설명서 \\n16. 제134조제1항 또는 제136조제5항을 위반하여 공고를 하지 아니한 자\\n17. 제134조제2항을 위반하여 공개매수신고서를 제출하지 아니한 자\\n18. 제147조에 따른 보고서류 또는 제151조제2항에 따른 정정보고서 중 대통령령으로 정하는 중요한 사항(이하 이\\n호에서 “중요한 사항”이라 한다)에 관하여 거짓의 기재 또는 표시를 하거나 중요한 사항을 기재 또는 표시하지 아 \\n니한 자 \\n19. 제154조에 따른 위임장 용지 및 참고서류 또는 제156조에 따른 정정서류 중 의결권피권유자의 의결권 위임 여\\n부 판단에 중대한 영향을 미칠 수 있는 사항(이하 이 호에서 “의결권 위임 관련 중요사항”이라 한다)에 관하여 거 \\n짓의 기재 또는 표시를 하거나 의결권 위임 관련 중요사항을 기재 또는 표시하지 아니한 자 \\n19의2. 제246조제5항ㆍ제6항을 위반하여 거래한 자\\n19의3. 제249조의7제2항(제249조의12에서 준용하는 경우를 포함한다)을 위반하여 집합투자재산을 운용한 자\\n19의4. 제249조의7제6항을 위반하여 의결권을 행사한 자\\n19의5. 제249조의16제1항을 위반하여 거래행위를 한 자\\n20. 제250조제1항 또는 제251조제1항을 위반하여 집합투자업을 영위한 자\\n21. 제280조제1항을 위반하여 투자매매업자 또는 투자중개업자를 통하지 아니하고 외국 집합투자증권을 국내에서\\n판매한 자 \\n21의2. 제323조의2를 위반하여 금융투자상품거래청산업인가(변경인가를 포함한다)를 받지 아니하고 금융투자상품\\n거래청산업무를 영위한 자 \\n21의3. 거짓, 그 밖의 부정한 방법으로 제323조의3에 따른 금융투자상품거래청산업인가(변경인가를 포함한다)를 받\\n은 자 \\n22. 제323조의21, 제335조의2, 제355조제1항 또는 제360조제1항을 위반하여 인가를 받지 아니하고 해당 업무를 영\\n위한 자 \\n23. 거짓, 그 밖의 부정한 방법으로 제324조제1항, 제335조의3제1항, 제355조제1항 또는 제360조제1항에 따른 인\\n가를 받은 자 \\n24. 제335조제1항, 제354조제1항, 제359조제1항 또는 제364조제1항에 따라 인가가 취소된 후 그 취소된 업무를 영\\n위한 자 \\n25. 제343조제1항을 위반하여 신용공여를 한 종합금융회사와 그로부터 신용공여를 받은 자\\n26. 제357조제1항을 위반하여 금융투자업을 영위한 자\\n27. 제373조를 위반하여 거래소허가(변경허가를 포함한다)를 받지 아니하고 금융투자상품시장을 개설하거나 운영\\n한 자 \\n27의2. 거짓, 그 밖의 부정한 방법으로 제373조의2에 따른 거래소허가(변경허가를 포함한다)를 받은 자\\n28. 제420조제1항에 따라 금융투자업인가가 취소된 후 그 취소된 업무를 영위한 자\\n29. 제435조제4항을 위반하여 신고자등의 신분 등에 관한 비밀을 누설한 자\\n법제처                                                            199                                                       국가법령정보센터\\n자본시장과 금융투자업에 관한 법률',\n",
       "   '제445조(벌칙) 다음 각 호의 어느 하나에 해당하는 자는 3년 이하의 징역 또는 1억원 이하의 벌금에 처한다. <개정\\n2008. 2. 29., 2009. 2. 3., 2013. 4. 5., 2013. 5. 28., 2015. 7. 24., 2016. 3. 29., 2018. 3. 27., 2019. 11. 26., 2020. 5. 19.,\\n2021. 1. 5., 2021. 4. 20., 2024. 2. 13.>\\n1. 제17조를 위반하여 금융투자업등록(변경등록을 포함한다)을 하지 아니하고 투자자문업 또는 투자일임업을 영위\\n한 자 \\n2. 거짓, 그 밖의 부정한 방법으로 제18조에 따른 금융투자업등록(변경등록을 포함한다)을 한 자\\n3. 제39조를 위반하여 자기의 명의를 대여하여 타인에게 금융투자업을 영위하게 한 자\\n4. 삭제<2020. 5. 19.>\\n5. 삭제<2020. 5. 19.>\\n6. 삭제<2020. 3. 24.>\\n7. 제51조제2항을 위반하여 등록 전에 투자권유를 한 자\\n8. 제52조제1항을 위반하여 투자권유대행인 외의 자에게 투자권유를 대행하게 한 자\\n9. 제54조제1항(제42조제10항, 제52조제6항, 제199조제5항, 제255조, 제260조, 제265조, 제289조, 제304조, 제\\n323조의17, 제328조 또는 제367조에서 준용하는 경우를 포함한다)를 위반하여 직무상 알게 된 정보로서 외부에 \\n공개되지 아니한 정보를 자기 또는 제삼자의 이익을 위하여 이용한 자 \\n10.',\n",
       "   '제55조(제42조제10항, 제52조제6항 또는 제101조의2제1항에서 준용하는 경우를 포함한다)를 위반하여 같은 조\\n각 호의 어느 하나에 해당하는 행위를 한 자 \\n11. 제60조제1항(제255조, 제260조 또는 제265조에서 준용하는 경우를 포함한다) 또는 제187조제1항을 위반하여\\n자료를 기록ㆍ유지하지 아니한 자 \\n12. 제63조제1항제1호(제289조, 제304조, 제323조의17, 제328조, 제335조의14, 제367조, 제383조제3항 또는 제\\n441조에서 준용하는 경우를 포함한다)를 위반하여 같은 호에 규정된 방법에 따르지 아니하고 금융투자상품을 매 \\n매한 자 \\n13. 제76조제3항을 위반하여 집합투자증권을 판매하거나 판매를 위한 광고를 한 자\\n13의2. 거짓, 그 밖의 부정한 방법으로 제77조의2제1항에 따른 종합금융투자사업자의 지정을 받은 자\\n13의3. 제77조의2에 따라 금융위원회로부터 종합금융투자사업자의 지정을 받지 아니하고 전담중개업무 또는 제\\n77조의3제3항 각 호의 어느 하나에 해당하는 업무를 영위한 자 \\n14. 제80조제3항 전단을 위반하여 투자신탁재산별로 미리 정하여진 자산배분명세에 따라 취득ㆍ처분 등의 결과를\\n배분하지 아니한 자 \\n15. 제87조제6항(제186조제2항에서 준용하는 경우를 포함한다)에 따른 명령을 위반하여 주식을 처분하지 아니한\\n자 \\n16. 제104조제2항을 위반하여 신탁재산을 고유재산으로 취득한 자\\n17. 삭제<2009. 2. 3.>\\n18. 제114조제3항 또는 제240조제3항을 위반하여 회계감사를 받지 아니한 자\\n18의2. 제117조의3을 위반하여 등록(변경등록을 포함한다)을 하지 아니하고 온라인소액투자중개를 한 자\\n18의3. 거짓, 그 밖의 부정한 방법으로 제117조의4에 의한 등록(변경등록을 포함한다)을 한 자\\n18의4. 제117조의7제10항을 위반하여 증권의 청약을 권유하는 행위를 한 자\\n19. 제133조제3항 또는 제140조를 위반하여 공개매수에 의하지 아니하고 주식등의 매수등을 한 자\\n20. 제147조제1항ㆍ제3항 또는 제4항을 위반하여 보고를 하지 아니한 자\\n21. 제152조제1항 또는 제3항을 위반하여 의결권 대리행사의 권유를 한 자\\n22. 제169조제1항을 위반하여 회계감사를 받지 아니한 자\\n22의2. 제173조의2제2항을 위반하여 파생상품시장에서의 시세에 영향을 미칠 수 있는 정보를 누설하거나, 장내파\\n생상품 및 그 기초자산의 매매나 그 밖의 거래에 이용하거나, 타인으로 하여금 이용하게 한 자 \\n23. 제182조제1항을 위반하여 집합투자기구를 등록하지 아니한 자\\n법제처                                                            200                                                       국가법령정보센터\\n자본시장과 금융투자업에 관한 법률 \\n24. 거짓, 그 밖의 부정한 방법으로 제182조제1항ㆍ제8항(제279조제3항에서 준용하는 경우를 포함한다), 제182조의\\n2제1항ㆍ제3항 또는 제279조제1항에 따른 등록이나 변경등록을 한 자 \\n24의2. 제246조제7항을 위반하여 정보를 이용한 자\\n25. 제247조제1항을 위반하여 철회ㆍ변경 또는 시정을 요구하지 아니한 자\\n25의2. 제249조를 위반하여 일반 사모집합투자업 등록을 하지 아니하고 일반 사모집합투자업을 영위한 자\\n25의3. 거짓, 그 밖의 부정한 방법으로 제249조의3에 따른 일반 사모집합투자업 등록을 한 자\\n26. 제250조제3항(제251조제2항 또는 제341조제1항에서 준용하는 경우를 포함한다)을 위반하여 같은 항 각 호의\\n어느 하나에 해당하는 행위를 한 자 \\n27. 제250조제4항(제251조제2항에서 준용하는 경우를 포함한다) 또는 제5항(제251조제2항 또는 제341조제1항에서\\n준용하는 경우를 포함한다)을 위반하여 집합투자재산에 관한 정보를 자기가 운용하는 투자신탁재산의 운용이나 \\n자기가 판매하는 집합투자증권의 판매를 위하여 이용한 자 \\n28. 제250조제6항(제251조제2항 또는 제341조제1항에서 준용하는 경우를 포함한다)을 위반하여 같은 항 각 호의\\n어느 하나에 해당하는 행위를 한 자 \\n29. 제253조제1항에 따라 등록이 취소된 후 그 취소된 업무를 영위한 자\\n30. 제254조제1항을 위반하여 등록을 하지 아니하고 해당 업무를 영위한 자\\n31. 거짓, 그 밖의 부정한 방법으로 제254조제1항에 따른 등록을 한 자\\n32. 제257조제1항에 따라 등록이 취소된 후 그 취소된 업무를 영위한 자\\n32의2. 제249조의15제1항을 위반하여 등록을 하지 아니하고 해당 업무를 영위한 자\\n32의3. 거짓, 그 밖의 부정한 방법으로 제249조의15제1항에 따른 등록을 한 자\\n33. 제279조제1항에 따른 등록을 하지 아니하고 외국 집합투자증권을 판매한 자\\n34. 제282조제1항에 따라 등록이 취소된 후 그 취소된 외국 집합투자기구의 외국 집합투자증권을 판매한 자\\n35. 제298조를 위반하여 계좌 간의 대체로 결제하는 업무를 영위하거나 국내에서 증권예탁증권을 발행하는 업무를\\n영위한 자 \\n36. 제301조제5항, 제323조의9제3항, 제327조제3항 또는 제383조제2항(제78조제6항에서 준용하는 경우를 포함한\\n다)을 위반하여 자금의 공여, 손익의 분배, 그 밖에 영업에 관하여 특별한 이해관계를 가진 자 \\n37. 제335조제2항, 제354조제2항, 제359조제2항 또는 제364조제2항에 따른 업무의 정지기간 중 업무를 영위한 자\\n37의2. 제335조의11제6항을 위반하여 직무상 알게 된 요청인의 비밀을 누설하거나 이용한 자\\n37의3. 제335조의11제7항제1호를 위반하여 신용평가회사와 특수한 관계에 있는 자와 관련된 신용평가를 한 자\\n37의4. 제335조의11제7항제2호를 위반하여 신용평가 과정에서 신용평가회사 또는 그 계열회사의 상품이나 서비스\\n를 구매하거나 이용하도록 강요한 자 \\n38. 제339조제1항(제357조제2항 또는 제361조에서 준용하는 경우를 포함한다)을 위반하여 인가를 받지 아니하고\\n업무를 폐지하거나 해산한 자 \\n39. 제365조제1항을 위반하여 등록을 하지 아니하고 해당 업무를 영위한 자\\n40. 거짓, 그 밖의 부정한 방법으로 제365조제1항에 따른 등록을 한 자\\n41. 제369조제1항에 따라 등록이 취소된 후 그 취소된 업무를 영위한 자\\n42. 제383조제1항(제78조제6항, 제323조의17 및 제441조에서 준용하는 경우를 포함한다)을 위반하여 비밀을 누설\\n하거나 이용한 자 \\n43. 제394조제1항을 위반하여 공동기금을 적립하지 아니한 자\\n44. 제402조제7항을 위반하여 비밀을 누설하거나 이용한 자\\n45. 제417조제1항(제335조의14에서 준용하는 경우를 포함한다)을 위반하여 승인을 받지 아니하거나 같은 항 단서\\n를 위반하여 보고하지 아니하고 같은 항 각 호(겸영금융투자업자의 경우에는 제4호부터 제7호까지에 한한다)의 \\n어느 하나에 해당하는 행위를 한 자 \\n46. 제420조제1항에 따라 금융투자업등록이 취소된 후 그 취소된 업무를 영위한 자\\n법제처                                                            201                                                       국가법령정보센터\\n자본시장과 금융투자업에 관한 법률 \\n47. 제420조제3항에 따른 인가받은 업무의 정지기간 중 그 정지된 업무를 영위한 자\\n48. 제426조제2항에 따른 금융위원회(제172조부터 제174조까지, 제176조, 제178조, 제178조의2, 제180조 및 제\\n180조의2부터 제180조의5까지의 규정을 위반한 사항인 경우에는 증권선물위원회를 말한다)의 요구에 불응한 자',\n",
       "   '제445조(벌칙) 다음 각 호의 어느 하나에 해당하는 자는 3년 이하의 징역 또는 1억원 이하의 벌금에 처한다. <개정\\n2008. 2. 29., 2009. 2. 3., 2013. 4. 5., 2013. 5. 28., 2015. 7. 24., 2016. 3. 29., 2018. 3. 27., 2019. 11. 26., 2020. 5. 19.,\\n2021. 1. 5., 2021. 4. 20., 2024. 2. 13., 2024. 10. 22.>\\n1. 제17조를 위반하여 금융투자업등록(변경등록을 포함한다)을 하지 아니하고 투자자문업 또는 투자일임업을 영위\\n한 자 \\n2. 거짓, 그 밖의 부정한 방법으로 제18조에 따른 금융투자업등록(변경등록을 포함한다)을 한 자\\n3. 제39조를 위반하여 자기의 명의를 대여하여 타인에게 금융투자업을 영위하게 한 자\\n4. 삭제<2020. 5. 19.>\\n5. 삭제<2020. 5. 19.>\\n6. 삭제<2020. 3. 24.>\\n7. 제51조제2항을 위반하여 등록 전에 투자권유를 한 자\\n8. 제52조제1항을 위반하여 투자권유대행인 외의 자에게 투자권유를 대행하게 한 자\\n9. 제54조제1항(제42조제10항, 제52조제6항, 제199조제5항, 제255조, 제260조, 제265조, 제289조, 제304조, 제\\n323조의17, 제328조 또는 제367조에서 준용하는 경우를 포함한다)를 위반하여 직무상 알게 된 정보로서 외부에 \\n공개되지 아니한 정보를 자기 또는 제삼자의 이익을 위하여 이용한 자 \\n10.',\n",
       "   '제55조(제42조제10항, 제52조제6항 또는 제101조의2제1항에서 준용하는 경우를 포함한다)를 위반하여 같은 조\\n각 호의 어느 하나에 해당하는 행위를 한 자 \\n11. 제60조제1항(제255조, 제260조 또는 제265조에서 준용하는 경우를 포함한다) 또는 제187조제1항을 위반하여\\n자료를 기록ㆍ유지하지 아니한 자 \\n12. 제63조제1항제1호(제289조, 제304조, 제323조의17, 제328조, 제335조의14, 제367조, 제383조제3항 또는 제\\n441조에서 준용하는 경우를 포함한다)를 위반하여 같은 호에 규정된 방법에 따르지 아니하고 금융투자상품을 매 \\n매한 자 \\n13. 제76조제3항을 위반하여 집합투자증권을 판매하거나 판매를 위한 광고를 한 자\\n13의2. 거짓, 그 밖의 부정한 방법으로 제77조의2제1항에 따른 종합금융투자사업자의 지정을 받은 자\\n13의3. 제77조의2에 따라 금융위원회로부터 종합금융투자사업자의 지정을 받지 아니하고 전담중개업무 또는 제\\n77조의3제3항 각 호의 어느 하나에 해당하는 업무를 영위한 자 \\n14. 제80조제3항 전단을 위반하여 투자신탁재산별로 미리 정하여진 자산배분명세에 따라 취득ㆍ처분 등의 결과를\\n배분하지 아니한 자 \\n15. 제87조제6항(제186조제2항에서 준용하는 경우를 포함한다)에 따른 명령을 위반하여 주식을 처분하지 아니한\\n자 \\n16. 제104조제2항을 위반하여 신탁재산을 고유재산으로 취득한 자\\n17. 삭제<2009. 2. 3.>\\n18. 제114조제3항 또는 제240조제3항을 위반하여 회계감사를 받지 아니한 자\\n18의2. 제117조의3을 위반하여 등록(변경등록을 포함한다)을 하지 아니하고 온라인소액투자중개를 한 자\\n18의3. 거짓, 그 밖의 부정한 방법으로 제117조의4에 의한 등록(변경등록을 포함한다)을 한 자\\n18의4. 제117조의7제10항을 위반하여 증권의 청약을 권유하는 행위를 한 자\\n19. 제133조제3항 또는 제140조를 위반하여 공개매수에 의하지 아니하고 주식등의 매수등을 한 자\\n20. 제147조제1항ㆍ제3항 또는 제4항을 위반하여 보고를 하지 아니한 자\\n21. 제152조제1항 또는 제3항을 위반하여 의결권 대리행사의 권유를 한 자\\n법제처                                                            202                                                       국가법령정보센터\\n자본시장과 금융투자업에 관한 법률 \\n22. 제169조제1항을 위반하여 회계감사를 받지 아니한 자\\n22의2. 제173조의2제2항을 위반하여 파생상품시장에서의 시세에 영향을 미칠 수 있는 정보를 누설하거나, 장내파\\n생상품 및 그 기초자산의 매매나 그 밖의 거래에 이용하거나, 타인으로 하여금 이용하게 한 자 \\n23. 제182조제1항을 위반하여 집합투자기구를 등록하지 아니한 자\\n24. 거짓, 그 밖의 부정한 방법으로 제182조제1항ㆍ제8항(제279조제3항에서 준용하는 경우를 포함한다), 제182조의\\n2제1항ㆍ제3항 또는 제279조제1항에 따른 등록이나 변경등록을 한 자 \\n24의2. 제246조제7항을 위반하여 정보를 이용한 자\\n25. 제247조제1항을 위반하여 철회ㆍ변경 또는 시정을 요구하지 아니한 자\\n25의2. 제249조를 위반하여 일반 사모집합투자업 등록을 하지 아니하고 일반 사모집합투자업을 영위한 자\\n25의3. 거짓, 그 밖의 부정한 방법으로 제249조의3에 따른 일반 사모집합투자업 등록을 한 자\\n26. 제250조제3항(제251조제2항 또는 제341조제1항에서 준용하는 경우를 포함한다)을 위반하여 같은 항 각 호의\\n어느 하나에 해당하는 행위를 한 자 \\n27. 제250조제4항(제251조제2항에서 준용하는 경우를 포함한다) 또는 제5항(제251조제2항 또는 제341조제1항에서\\n준용하는 경우를 포함한다)을 위반하여 집합투자재산에 관한 정보를 자기가 운용하는 투자신탁재산의 운용이나 \\n자기가 판매하는 집합투자증권의 판매를 위하여 이용한 자 \\n28. 제250조제6항(제251조제2항 또는 제341조제1항에서 준용하는 경우를 포함한다)을 위반하여 같은 항 각 호의\\n어느 하나에 해당하는 행위를 한 자 \\n29. 제253조제1항에 따라 등록이 취소된 후 그 취소된 업무를 영위한 자\\n30. 제254조제1항을 위반하여 등록을 하지 아니하고 해당 업무를 영위한 자\\n31. 거짓, 그 밖의 부정한 방법으로 제254조제1항에 따른 등록을 한 자\\n32. 제257조제1항에 따라 등록이 취소된 후 그 취소된 업무를 영위한 자\\n32의2. 제249조의15제1항을 위반하여 등록을 하지 아니하고 해당 업무를 영위한 자\\n32의3. 거짓, 그 밖의 부정한 방법으로 제249조의15제1항에 따른 등록을 한 자\\n33. 제279조제1항에 따른 등록을 하지 아니하고 외국 집합투자증권을 판매한 자\\n34. 제282조제1항에 따라 등록이 취소된 후 그 취소된 외국 집합투자기구의 외국 집합투자증권을 판매한 자\\n35. 제298조를 위반하여 계좌 간의 대체로 결제하는 업무를 영위하거나 국내에서 증권예탁증권을 발행하는 업무를\\n영위한 자 \\n36. 제301조제5항, 제323조의9제3항, 제327조제3항 또는 제383조제2항(제78조제6항에서 준용하는 경우를 포함한\\n다)을 위반하여 자금의 공여, 손익의 분배, 그 밖에 영업에 관하여 특별한 이해관계를 가진 자 \\n37. 제335조제2항, 제354조제2항, 제359조제2항 또는 제364조제2항에 따른 업무의 정지기간 중 업무를 영위한 자\\n37의2. 제335조의11제6항을 위반하여 직무상 알게 된 요청인의 비밀을 누설하거나 이용한 자\\n37의3. 제335조의11제7항제1호를 위반하여 신용평가회사와 특수한 관계에 있는 자와 관련된 신용평가를 한 자\\n37의4. 제335조의11제7항제2호를 위반하여 신용평가 과정에서 신용평가회사 또는 그 계열회사의 상품이나 서비스\\n를 구매하거나 이용하도록 강요한 자 \\n38. 제339조제1항(제357조제2항 또는 제361조에서 준용하는 경우를 포함한다)을 위반하여 인가를 받지 아니하고\\n업무를 폐지하거나 해산한 자 \\n39. 제365조제1항을 위반하여 등록을 하지 아니하고 해당 업무를 영위한 자\\n40. 거짓, 그 밖의 부정한 방법으로 제365조제1항에 따른 등록을 한 자\\n41. 제369조제1항에 따라 등록이 취소된 후 그 취소된 업무를 영위한 자\\n42. 제383조제1항(제78조제6항, 제323조의17 및 제441조에서 준용하는 경우를 포함한다)을 위반하여 비밀을 누설\\n하거나 이용한 자 \\n43. 제394조제1항을 위반하여 공동기금을 적립하지 아니한 자\\n44. 제402조제7항을 위반하여 비밀을 누설하거나 이용한 자\\n법제처                                                            203                                                       국가법령정보센터\\n자본시장과 금융투자업에 관한 법률 \\n45. 제417조제1항(제335조의14에서 준용하는 경우를 포함한다)을 위반하여 승인을 받지 아니하거나 같은 항 단서\\n를 위반하여 보고하지 아니하고 같은 항 각 호(겸영금융투자업자의 경우에는 제4호부터 제7호까지에 한한다)의 \\n어느 하나에 해당하는 행위를 한 자 \\n46. 제420조제1항에 따라 금융투자업등록이 취소된 후 그 취소된 업무를 영위한 자\\n47. 제420조제3항에 따른 인가받은 업무의 정지기간 중 그 정지된 업무를 영위한 자\\n48. 제426조제2항에 따른 금융위원회(제172조부터 제174조까지, 제176조, 제178조, 제178조의2, 제180조 및 제\\n180조의2부터 제180조의6까지의 규정을 위반한 사항인 경우에는 증권선물위원회를 말한다)의 요구에 불응한 자 \\n[시행일: 2025. 3. 31.] 제445조',\n",
       "   '제446조(벌칙) 다음 각 호의 어느 하나에 해당하는 자는 1년 이하의 징역 또는 3천만원 이하의 벌금에 처한다. <개정\\n2008. 2. 29., 2009. 2. 3., 2010. 3. 12., 2013. 4. 5., 2013. 5. 28., 2013. 8. 13., 2015. 7. 24., 2016. 12. 20., 2018. 12. 31.,\\n2020. 5. 19., 2021. 4. 20., 2023. 3. 21., 2024. 2. 13.>\\n1. 삭제<2015. 7. 31.>\\n2. 삭제<2015. 7. 31.>\\n3. 제38조를 위반하여 상호 중에 금융투자, 증권, 파생, 선물, 집합투자, 투자신탁, 자산운용, 투자자문, 투자일임 또\\n는 신탁이라는 문자를 사용한 자 \\n4. 제42조제1항 단서(제255조에서 준용하는 경우를 포함한다)를 위반하여 업무를 위탁한 자\\n4의2. 제42조제5항(제255조에서 준용하는 경우를 포함한다)을 위반하여 위탁한 자의 동의를 받지 아니하고 위탁받\\n은 업무를 제삼자에게 재위탁한 자 \\n5. 제43조제2항에 따른 위탁계약의 취소명령 또는 변경명령을 위반한 자\\n6. 삭제<2020. 3. 24.>\\n7. 제53조제2항에 따라 투자권유대행인등록이 취소된 후 투자권유대행업무를 영위하거나, 같은 조 같은 항에 따른\\n투자권유대행업무의 정지기간 중 투자권유대행업무를 영위한 자 \\n8. 삭제<2020. 3. 24.>\\n9. 제65조제2항을 위반하여 자산을 국내에 두지 아니한 자\\n10. 제65조제3항을 위반하여 자산을 국내에 주소나 거소가 있는 자에 대한 채무의 변제에 우선 충당하지 아니한 자\\n11. 제66조를 위반하여 사전에 자기가 투자매매업자인지 투자중개업자인지를 밝히지 아니하고 금융투자상품의 매\\n매에 관한 청약 또는 주문을 받은 자 \\n12. 제67조를 위반하여 금융투자상품을 매매한 자\\n13. 삭제<2013. 5. 28.>\\n14. 제88조 또는 제280조제2항을 위반하여 자산운용보고서를 제공하지 아니한 자 또는 거짓으로 작성하거나 그 기\\n재사항을 누락하고 작성하여 제공한 자 \\n15.',\n",
       "   '제89조(제186조제2항에서 준용하는 경우를 포함한다)를 위반하여 공시를 하지 아니하거나 거짓으로 공시한 자\\n16. 제91조제1항(제186조제2항에서 준용하는 경우를 포함한다)ㆍ제113조제1항 또는 제280조제3항을 위반하여 열\\n람이나 교부 청구를 거절한 자 \\n17. 제95조제2항(제117조에서 준용하는 경우를 포함한다) 또는 제116조제3항에 따른 명령을 위반한 자\\n17의2. 제101조제1항에 따른 신고를 하지 아니하고 유사투자자문업을 영위한 자\\n17의3. 거짓이나 그 밖의 부정한 방법으로 제101조제1항에 따른 신고를 한 자\\n18. 제103조제1항 또는 제4항을 위반하여 재산을 수탁한 자\\n19. 제105조제1항부터 제3항까지의 규정을 위반하여 신탁재산을 운용한 자\\n19의2. 제117조의5를 위반하여 상호 등에 금융투자 또는 온라인소액투자중개라는 문자를 사용한 자\\n19의3. 제117조의7제2항을 위반하여 자신이 중개하는 증권을 자기의 계산으로 취득한 자\\n19의4. 제117조의7제3항을 위반하여 자문에 응한 자\\n법제처                                                            204                                                       국가법령정보센터\\n자본시장과 금융투자업에 관한 법률 \\n19의5. 제117조의7제4항을 위반하여 청약의 의사표시를 받은 자\\n19의6. 제117조의7제7항을 위반하여 특정한 온라인소액증권발행인 또는 투자자를 우대하거나 차별한 자\\n19의7. 제117조의9제2항을 위반하여 투자광고를 한 자\\n19의8. 정당한 이유 없이 제119조의2 또는 제161조의2에 따른 연결재무제표 작성대상법인의 자료제출 요구 및 조\\n사를 거부ㆍ방해ㆍ기피한 자 \\n20. 제121조를 위반하여 증권에 관한 취득 또는 매수의 청약에 대한 승낙을 한 자\\n21. 제123조제1항, 제137조제1항 또는 제153조를 위반하여 투자설명서(집합투자증권의 경우 제124조제2항제3호에\\n따른 간이투자설명서를 포함한다), 공개매수설명서 또는 위임장 용지 및 참고서류를 제출하지 아니한 자 \\n22. 제124조제1항을 위반하여 투자설명서(집합투자증권의 경우 제124조제2항제3호에 따른 간이투자설명서를 포함\\n한다)를 미리 교부하지 아니하고 증권을 취득하게 하거나 매도한 자 \\n23. 제124조제2항을 위반하여 같은 항 각 호의 어느 하나에 해당하는 방법에 따르지 아니하고 청약의 권유 등을 한\\n자 \\n24. 제132조, 제146조제2항, 제151조제2항, 제158조제2항 또는 제164조제2항에 따른 금융위원회의 처분을 위반한\\n자 \\n25. 제137조제3항을 위반하여 공개매수설명서를 미리 교부하지 아니하고 주식등을 매수한 자\\n26. 제145조, 제150조제1항ㆍ제3항, 제167조제3항 또는 제168조제3항에 따른 처분명령 또는 시정명령을 위반한 자\\n27. 제156조제3항 후단을 위반하여 정정서류를 제출하지 아니한 자\\n28. 제159조, 제160조 또는 제161조제1항을 위반하여 사업보고서ㆍ반기보고서ㆍ분기보고서나 주요사항보고서를\\n제출하지 아니한 자 \\n29. 제167조제1항을 위반하여 주식을 소유한 자\\n30. 제169조제2항(같은 조 제3항 후단에서 준용하는 경우를 포함한다)에 따른 자료의 제출 또는 보고명령이나 조치\\n를 위반한 자 \\n31. 제173조제1항을 위반하여 보고를 하지 아니하거나 거짓으로 보고한 자\\n32. 제192조제1항을 위반하여 승인을 받지 아니하고 투자신탁을 해지한 자\\n33. 거짓, 그 밖의 부정한 방법으로 제192조제1항에 따른 승인을 받은 자\\n34. 제192조제2항, 제202조제1항(제211조제2항, 제216조제3항, 제217조의6제2항에서 준용하는 경우를 포함한다),\\n제221조제1항(제227조제3항에서 준용하는 경우를 포함한다)을 위반하여 투자신탁을 해지하지 아니하거나 투자 \\n회사등을 해산하지 아니한 자 \\n35. 제235조제4항 또는 제5항을 위반하여 환매대금을 지급하거나 지급하지 아니한 자\\n36. 제238조제7항 또는 제280조제4항을 위반하여 기준가격을 공고ㆍ게시하지 아니하거나 거짓으로 공고ㆍ게시한\\n자 \\n37. 제246조제2항을 위반하여 집합투자재산을 구분하여 관리하지 아니한 자\\n38. 제246조제3항을 위반하여 예탁하지 아니한 자\\n39. 제246조제4항을 위반하여 집합투자업자의 지시를 각각의 집합투자기구별로 이행하지 아니한 자\\n40. 제248조제1항을 위반하여 자산보관ㆍ관리보고서를 투자자에게 제공하지 아니하거나 거짓으로 작성하여 제공\\n한 자 \\n40의2. 제249조의4제2항을 위반하여 핵심상품설명서를 작성ㆍ제공하지 아니한 자\\n40의3. 제249조의4제4항을 위반하여 핵심상품설명서를 교부하지 아니한 자\\n40의4. 제249조의4제5항을 위반하여 철회ㆍ변경 또는 시정을 요구하지 아니한 자\\n41. 제249조의6제2항 또는 제4항을 위반하여 보고(변경보고를 포함한다)를 하지 아니하거나 거짓으로 보고한 자\\n41의2. 제249조의7제5항(제249조의12에서 준용하는 경우를 포함한다)을 위반하여 지분증권을 처분하지 아니한 자\\n41의3. 제249조의8제2항을 위반하여 집합투자증권을 타인에게 양도한 자\\n41의4. 제249조의9제1항에 따른 일반 사모집합투자기구의 해지ㆍ해산명령을 따르지 아니한 자\\n법제처                                                            205                                                       국가법령정보센터\\n자본시장과 금융투자업에 관한 법률 \\n42. 제249조의9제2항, 제249조의21제2항, 제253조제2항, 제257조제2항 또는 제369조제2항에 따른 업무의 정지기\\n간 중 업무를 영위한 자 \\n43. 제249조의10제4항ㆍ제6항 또는 제249조의11제8항을 위반하여 보고(변경보고를 포함한다)를 하지 아니하거나\\n거짓으로 보고한 자 \\n44. 삭제<2015. 7. 24.>\\n45. 제249조의14제2항, 제249조의22제2항ㆍ제6항 또는 제249조의23제2항을 위반하여 운용한 자 또는 지분증권등\\n을 소유하지 아니하거나 처분한 자 \\n46. 삭제<2021. 4. 20.>\\n46의2. 제249조의23제5항을 위반하여 보고를 하지 아니하거나 거짓으로 보고한 자\\n47. 제249조의14제6항을 위반하여 같은 항 제1호부터 제3호까지의 어느 하나에 해당하는 행위를 한 자\\n48. 제249조의17제1항을 위반하여 출자한 지분을 타인에게 양도한 자\\n49. 제249조의18제1항(제249조의13제5항에서 준용하는 경우를 포함한다)을 위반하여 지분증권을 처분하지 아니하\\n거나, 같은 조 제3항(제249조의13제5항에서 준용하는 경우를 포함한다)을 위반하여 지분증권을 취득한 자 \\n50. 삭제<2009. 6. 9.>\\n51. 제249조의19제2항을 위반하여 보고를 하지 아니하거나 거짓으로 보고한 자\\n52. 제249조의21제1항에 따른 해산명령을 따르지 아니한 자\\n52의2. 제249조의21제3항에 따른 직무정지 기간 중 직무를 수행한 업무집행사원\\n53. 제309조제3항 또는 제310조제1항을 위반하여 예탁자계좌부 또는 투자자계좌부를 작성ㆍ비치하지 아니하거나\\n거짓으로 작성한 자 \\n53의2. 제323조의16제1항을 위반하여 거래정보를 보관ㆍ관리하지 아니한 자\\n53의3. 제323조의16제2항을 위반하여 거래정보를 보고하지 아니하거나 거짓으로 보고한 자\\n54. 제338조 또는 제356조를 위반하여 “종합금융회사”, “자금중개” 또는 이와 유사한 명칭을 사용한 자\\n55. 제342조제1항부터 제4항(제361조에서 준용하는 경우를 포함한다)까지 또는 제345조제3항을 위반하여 신용공\\n여를 한 자 \\n56. 제344조를 위반하여 증권에 투자한 자\\n57. 제345조제1항을 위반하여 같은 항 각 호의 어느 하나에 해당하는 행위를 한 자\\n58. 제345조제2항을 위반하여 의결권을 행사한 자\\n59. 제345조제4항에 따른 조치를 이행하지 아니한 자\\n60. 삭제<2017. 4. 18.>\\n61. 삭제<2017. 4. 18.>\\n62. 제347조제3항을 위반하여 부동산을 처분하지 아니한 자\\n62의2. 제416조제1항(제335조의14, 제350조, 제357조, 제361조 및 제367조에서 준용하는 경우를 포함한다)에 따른\\n명령을 이행하기 위한 절차ㆍ조치를 이행하지 아니한 자 \\n63. 제420조제3항에 따른 등록된 업무의 정지기간 중 그 정지된 업무를 영위한 자',\n",
       "   '제446조(벌칙) 다음 각 호의 어느 하나에 해당하는 자는 1년 이하의 징역 또는 3천만원 이하의 벌금에 처한다. <개정\\n2008. 2. 29., 2009. 2. 3., 2010. 3. 12., 2013. 4. 5., 2013. 5. 28., 2013. 8. 13., 2015. 7. 24., 2016. 12. 20., 2018. 12. 31.,\\n2020. 5. 19., 2021. 4. 20., 2023. 3. 21., 2024. 2. 13., 2024. 10. 22.>\\n1. 삭제<2015. 7. 31.>\\n2. 삭제<2015. 7. 31.>\\n3. 제38조를 위반하여 상호 중에 금융투자, 증권, 파생, 선물, 집합투자, 투자신탁, 자산운용, 투자자문, 투자일임 또\\n는 신탁이라는 문자를 사용한 자 \\n4. 제42조제1항 단서(제255조에서 준용하는 경우를 포함한다)를 위반하여 업무를 위탁한 자\\n법제처                                                            206                                                       국가법령정보센터\\n자본시장과 금융투자업에 관한 법률 \\n4의2. 제42조제5항(제255조에서 준용하는 경우를 포함한다)을 위반하여 위탁한 자의 동의를 받지 아니하고 위탁받\\n은 업무를 제삼자에게 재위탁한 자 \\n5. 제43조제2항에 따른 위탁계약의 취소명령 또는 변경명령을 위반한 자\\n6. 삭제<2020. 3. 24.>\\n7. 제53조제2항에 따라 투자권유대행인등록이 취소된 후 투자권유대행업무를 영위하거나, 같은 조 같은 항에 따른\\n투자권유대행업무의 정지기간 중 투자권유대행업무를 영위한 자 \\n8. 삭제<2020. 3. 24.>\\n9. 제65조제2항을 위반하여 자산을 국내에 두지 아니한 자\\n10. 제65조제3항을 위반하여 자산을 국내에 주소나 거소가 있는 자에 대한 채무의 변제에 우선 충당하지 아니한 자\\n11. 제66조를 위반하여 사전에 자기가 투자매매업자인지 투자중개업자인지를 밝히지 아니하고 금융투자상품의 매\\n매에 관한 청약 또는 주문을 받은 자 \\n12. 제67조를 위반하여 금융투자상품을 매매한 자\\n13. 삭제<2013. 5. 28.>\\n14. 제88조 또는 제280조제2항을 위반하여 자산운용보고서를 제공하지 아니한 자 또는 거짓으로 작성하거나 그 기\\n재사항을 누락하고 작성하여 제공한 자 \\n15.',\n",
       "   '제89조(제186조제2항에서 준용하는 경우를 포함한다)를 위반하여 공시를 하지 아니하거나 거짓으로 공시한 자\\n16. 제91조제1항(제186조제2항에서 준용하는 경우를 포함한다)ㆍ제113조제1항 또는 제280조제3항을 위반하여 열\\n람이나 교부 청구를 거절한 자 \\n17. 제95조제2항(제117조에서 준용하는 경우를 포함한다) 또는 제116조제3항에 따른 명령을 위반한 자\\n17의2. 제101조제1항에 따른 신고를 하지 아니하고 유사투자자문업을 영위한 자\\n17의3. 거짓이나 그 밖의 부정한 방법으로 제101조제1항에 따른 신고를 한 자\\n18. 제103조제1항 또는 제4항을 위반하여 재산을 수탁한 자\\n19. 제105조제1항부터 제3항까지의 규정을 위반하여 신탁재산을 운용한 자\\n19의2. 제117조의5를 위반하여 상호 등에 금융투자 또는 온라인소액투자중개라는 문자를 사용한 자\\n19의3. 제117조의7제2항을 위반하여 자신이 중개하는 증권을 자기의 계산으로 취득한 자\\n19의4. 제117조의7제3항을 위반하여 자문에 응한 자\\n19의5. 제117조의7제4항을 위반하여 청약의 의사표시를 받은 자\\n19의6. 제117조의7제7항을 위반하여 특정한 온라인소액증권발행인 또는 투자자를 우대하거나 차별한 자\\n19의7. 제117조의9제2항을 위반하여 투자광고를 한 자\\n19의8. 정당한 이유 없이 제119조의2 또는 제161조의2에 따른 연결재무제표 작성대상법인의 자료제출 요구 및 조\\n사를 거부ㆍ방해ㆍ기피한 자 \\n20. 제121조를 위반하여 증권에 관한 취득 또는 매수의 청약에 대한 승낙을 한 자\\n21. 제123조제1항, 제137조제1항 또는 제153조를 위반하여 투자설명서(집합투자증권의 경우 제124조제2항제3호에\\n따른 간이투자설명서를 포함한다), 공개매수설명서 또는 위임장 용지 및 참고서류를 제출하지 아니한 자 \\n22. 제124조제1항을 위반하여 투자설명서(집합투자증권의 경우 제124조제2항제3호에 따른 간이투자설명서를 포함\\n한다)를 미리 교부하지 아니하고 증권을 취득하게 하거나 매도한 자 \\n23. 제124조제2항을 위반하여 같은 항 각 호의 어느 하나에 해당하는 방법에 따르지 아니하고 청약의 권유 등을 한\\n자 \\n24. 제132조, 제146조제2항, 제151조제2항, 제158조제2항 또는 제164조제2항에 따른 금융위원회의 처분을 위반한\\n자 \\n25. 제137조제3항을 위반하여 공개매수설명서를 미리 교부하지 아니하고 주식등을 매수한 자\\n26. 제145조, 제150조제1항ㆍ제3항, 제167조제3항 또는 제168조제3항에 따른 처분명령 또는 시정명령을 위반한 자\\n27. 제156조제3항 후단을 위반하여 정정서류를 제출하지 아니한 자\\n법제처                                                            207                                                       국가법령정보센터\\n자본시장과 금융투자업에 관한 법률 \\n28. 제159조, 제160조 또는 제161조제1항을 위반하여 사업보고서ㆍ반기보고서ㆍ분기보고서나 주요사항보고서를\\n제출하지 아니한 자 \\n29. 제167조제1항을 위반하여 주식을 소유한 자\\n30. 제169조제2항(같은 조 제3항 후단에서 준용하는 경우를 포함한다)에 따른 자료의 제출 또는 보고명령이나 조치\\n를 위반한 자 \\n31. 제173조제1항을 위반하여 보고를 하지 아니하거나 거짓으로 보고한 자\\n32. 제192조제1항을 위반하여 승인을 받지 아니하고 투자신탁을 해지한 자\\n33. 거짓, 그 밖의 부정한 방법으로 제192조제1항에 따른 승인을 받은 자\\n34. 제192조제2항, 제202조제1항(제211조제2항, 제216조제3항, 제217조의6제2항에서 준용하는 경우를 포함한다),\\n제221조제1항(제227조제3항에서 준용하는 경우를 포함한다)을 위반하여 투자신탁을 해지하지 아니하거나 투자 \\n회사등을 해산하지 아니한 자 \\n35. 제235조제4항 또는 제5항을 위반하여 환매대금을 지급하거나 지급하지 아니한 자\\n36. 제238조제7항 또는 제280조제4항을 위반하여 기준가격을 공고ㆍ게시하지 아니하거나 거짓으로 공고ㆍ게시한\\n자 \\n37. 제246조제2항을 위반하여 집합투자재산을 구분하여 관리하지 아니한 자\\n38. 제246조제3항을 위반하여 예탁하지 아니한 자\\n39. 제246조제4항을 위반하여 집합투자업자의 지시를 각각의 집합투자기구별로 이행하지 아니한 자\\n40. 제248조제1항을 위반하여 자산보관ㆍ관리보고서를 투자자에게 제공하지 아니하거나 거짓으로 작성하여 제공\\n한 자 \\n40의2. 제249조의4제2항을 위반하여 핵심상품설명서를 작성ㆍ제공하지 아니한 자\\n40의3. 제249조의4제4항을 위반하여 핵심상품설명서를 교부하지 아니한 자\\n40의4. 제249조의4제5항을 위반하여 철회ㆍ변경 또는 시정을 요구하지 아니한 자\\n41. 제249조의6제2항 또는 제4항을 위반하여 보고(변경보고를 포함한다)를 하지 아니하거나 거짓으로 보고한 자\\n41의2. 제249조의7제5항(제249조의12에서 준용하는 경우를 포함한다)을 위반하여 지분증권을 처분하지 아니한 자\\n41의3. 제249조의8제2항을 위반하여 집합투자증권을 타인에게 양도한 자\\n41의4. 제249조의9제1항에 따른 일반 사모집합투자기구의 해지ㆍ해산명령을 따르지 아니한 자\\n42. 제249조의9제2항, 제249조의21제2항, 제253조제2항, 제257조제2항 또는 제369조제2항에 따른 업무의 정지기\\n간 중 업무를 영위한 자 \\n43. 제249조의10제4항ㆍ제6항 또는 제249조의11제8항을 위반하여 보고(변경보고를 포함한다)를 하지 아니하거나\\n거짓으로 보고한 자 \\n44. 삭제<2015. 7. 24.>\\n45. 제249조의14제2항, 제249조의22제2항ㆍ제6항 또는 제249조의23제2항을 위반하여 운용한 자 또는 지분증권등\\n을 소유하지 아니하거나 처분한 자 \\n46. 삭제<2021. 4. 20.>\\n46의2. 제249조의23제5항을 위반하여 보고를 하지 아니하거나 거짓으로 보고한 자\\n47. 제249조의14제6항을 위반하여 같은 항 제1호부터 제3호까지의 어느 하나에 해당하는 행위를 한 자\\n48. 제249조의17제1항을 위반하여 출자한 지분을 타인에게 양도한 자\\n49. 제249조의18제1항(제249조의13제5항에서 준용하는 경우를 포함한다)을 위반하여 지분증권을 처분하지 아니하\\n거나, 같은 조 제3항(제249조의13제5항에서 준용하는 경우를 포함한다)을 위반하여 지분증권을 취득한 자 \\n50. 삭제<2009. 6. 9.>\\n51. 제249조의19제2항을 위반하여 보고를 하지 아니하거나 거짓으로 보고한 자\\n52. 제249조의21제1항에 따른 해산명령을 따르지 아니한 자\\n52의2. 제249조의21제3항에 따른 직무정지 기간 중 직무를 수행한 업무집행사원\\n법제처                                                            208                                                       국가법령정보센터\\n자본시장과 금융투자업에 관한 법률 \\n53. 제309조제3항 또는 제310조제1항을 위반하여 예탁자계좌부 또는 투자자계좌부를 작성ㆍ비치하지 아니하거나\\n거짓으로 작성한 자 \\n53의2. 제323조의16제1항을 위반하여 거래정보를 보관ㆍ관리하지 아니한 자\\n53의3. 제323조의16제2항을 위반하여 거래정보를 보고하지 아니하거나 거짓으로 보고한 자\\n54. 제338조 또는 제356조를 위반하여 “종합금융회사”, “자금중개” 또는 이와 유사한 명칭을 사용한 자\\n55. 제342조제1항부터 제4항(제361조에서 준용하는 경우를 포함한다)까지 또는 제345조제3항을 위반하여 신용공\\n여를 한 자 \\n56. 제344조를 위반하여 증권에 투자한 자\\n57. 제345조제1항을 위반하여 같은 항 각 호의 어느 하나에 해당하는 행위를 한 자\\n58. 제345조제2항을 위반하여 의결권을 행사한 자\\n59. 제345조제4항에 따른 조치를 이행하지 아니한 자\\n60. 삭제<2017. 4. 18.>\\n61. 삭제<2017. 4. 18.>\\n62. 제347조제3항을 위반하여 부동산을 처분하지 아니한 자\\n62의2. 제416조제1항(제335조의14, 제350조, 제357조, 제361조 및 제367조에서 준용하는 경우를 포함한다)에 따른\\n명령을 이행하기 위한 절차ㆍ조치를 이행하지 아니한 자 \\n63. 제420조제3항에 따른 등록된 업무의 정지기간 중 그 정지된 업무를 영위한 자\\n64. 제426조의2제6항을 위반하여 지급정지 조치가 완료되기 전 또는 제5항에 따른 통지 유예기간 동안 이를 명의\\n인 등 제3자에게 누설한 자 \\n[시행일: 2025. 4. 23.] 제446조',\n",
       "   '제447조(징역과 벌금의 병과) ① 제443조제1항(제10호는 제외한다) 및 제2항에 따라 징역에 처하는 경우에는 같은 조\\n제1항에 따른 벌금을 병과한다. <신설 2014. 12. 30., 2021. 1. 5.>\\n② 제443조제1항제10호 및 제444조부터 제446조까지의 규정에 해당하는 죄를 범한 자에게는 징역과 벌금을 병과\\n할 수 있다.<개정 2014. 12. 30., 2021. 1. 5.>',\n",
       "   '제447조의2(몰수ㆍ추징) ① 제443조제1항 각 호(제10호는 제외한다)의 어느 하나에 해당하는 자가 해당 행위를 하여\\n취득한 재산은 몰수하며, 몰수할 수 없는 경우에는 그 가액을 추징한다. <개정 2021. 1. 5., 2021. 6. 8.>\\n② 제443조제1항제4호부터 제7호까지의 어느 하나에 해당하는 자가 해당 행위를 위하여 제공하였거나 제공하려\\n한 재산은 몰수하며, 몰수할 수 없는 경우에는 그 가액을 추징한다.<신설 2021. 6. 8.>\\n[본조신설 2014. 12. 30.]',\n",
       "   '제448조(양벌규정) 법인(단체를 포함한다. 이하 이 조에서 같다)의 대표자나 법인 또는 개인의 대리인, 사용인, 그 밖의\\n종업원이 그 법인 또는 개인의 업무에 관하여 제443조부터 제446조까지의 어느 하나에 해당하는 위반행위를 하면\\n그 행위자를 벌하는 외에 그 법인 또는 개인에게도 해당 조문의 벌금형을 과(科)한다. 다만, 법인 또는 개인이 그 위\\n반행위를 방지하기 위하여 해당 업무에 관하여 상당한 주의와 감독을 게을리하지 아니한 경우에는 그러하지 아니하\\n다.\\n[전문개정 2009. 2. 3.]',\n",
       "   '제448조의2(형벌 등의 감면) ① 제173조의2제2항, 제174조, 제176조 또는 제178조를 위반한 자가 수사기관에 자수(증\\n권선물위원회에 자진신고한 경우를 포함한다. 이하 이 조에서 같다)하거나 수사ㆍ재판절차에서 해당 사건에 관한 다\\n른 사람의 범죄를 규명하는 진술 또는 증언이나, 그 밖의 자료제출행위 또는 범인검거를 위한 제보와 관련하여 자신\\n의 범죄로 처벌되는 경우에는 그 형을 감경 또는 면제할 수 있다.\\n② 금융위원회는 제1항에 따라 자수하거나 해당 사건에 관한 다른 사람의 범죄를 규명하는 진술 또는 증언이나, 그\\n밖의 자료제출행위 또는 범인검거를 위한 제보와 관련하여 자신의 위반행위로 제429조의2제1항에 따른 과징금을\\n법제처                                                            209                                                       국가법령정보센터\\n자본시장과 금융투자업에 관한 법률 \\n부과받은 자에 대하여 그 과징금을 감경 또는 면제할 수 있다.\\n③ 제2항에 따라 과징금이 감경 또는 면제되는 자의 범위와 감경 또는 면제의 기준ㆍ정도 등에 관한 세부 사항은\\n대통령령으로 정한다.\\n[본조신설 2023. 7. 18.]',\n",
       "   '제449조(과태료) ① 다음 각 호의 어느 하나에 해당하는 자에 대하여는 1억원 이하의 과태료를 부과한다. <개정 2009.\\n2. 3., 2010. 3. 12., 2013. 4. 5., 2013. 5. 28., 2015. 7. 24., 2016. 3. 29., 2017. 4. 18., 2018. 12. 31., 2019. 11. 26., 2020.\\n5. 19., 2021. 1. 5., 2021. 4. 20., 2024. 2. 13.>\\n1. 삭제<2015. 7. 31.>\\n2. 삭제<2015. 7. 31.>\\n3. 삭제<2015. 7. 31.>\\n4. 삭제<2015. 7. 31.>\\n5. 삭제<2015. 7. 31.>\\n6. 삭제<2015. 7. 31.>\\n7. 삭제<2015. 7. 31.>\\n8. 삭제<2015. 7. 31.>\\n9. 삭제<2015. 7. 31.>\\n10. 삭제<2015. 7. 31.>\\n11. 삭제<2015. 7. 31.>\\n12. 삭제<2015. 7. 31.>\\n13. 제33조제1항(제335조의14, 제350조, 제357조제2항 또는 제361조에서 준용하는 경우를 포함한다)을 위반하여\\n업무보고서를 제출하지 아니하거나 거짓으로 작성하여 제출한 자 \\n14. 제33조제2항(제350조, 제357조제2항 또는 제361조에서 준용하는 경우를 포함한다)을 위반하여 공시서류를 비\\n치 또는 공시하지 아니하거나 거짓으로 작성하여 비치 또는 공시한 자 \\n15. 제33조제3항(제350조, 제357조제2항 또는 제361조에서 준용하는 경우를 포함한다)을 위반하여 보고 또는 공시\\n를 하지 아니하거나 거짓으로 보고 또는 공시한 자 \\n15의2. 제33조제4항(제350조, 제357조제2항 또는 제361조에서 준용하는 경우를 포함한다)을 위반하여 보고서를 제\\n출하지 아니하거나 거짓으로 작성하여 제출한 자 \\n16. 제34조제3항을 위반하여 이사회 결의를 거치지 아니한 자\\n17. 제34조제4항 또는 제5항을 위반하여 보고 또는 공시를 하지 아니하거나 거짓으로 보고 또는 공시한 자\\n18. 제34조제6항 또는',\n",
       "   '제36조(제350조에서 준용하는 경우를 포함한다)에 따른 자료의 제출명령을 위반한 자\\n19. 제40조제1항 후단 또는 제41조제1항을 위반하여 보고를 하지 아니한 자\\n20. 제43조제1항, 제53조제1항, 제131조제1항, 제146조제1항, 제151조제1항, 제158조제1항, 제164조제1항, 제\\n321조 또는 제419조제1항(제101조제11항, 제252조제2항, 제256조제2항, 제261조제2항, 제266조제2항, 제281조 \\n제2항, 제292조, 제306조, 제323조의19, 제334조 및 제335조의14, 제353조, 제358조, 제363조, 제368조 또는 제 \\n371조에서 준용하는 경우를 포함한다)에 따른 검사ㆍ조사 또는 확인을 거부ㆍ방해 또는 기피한 자 \\n21. 삭제<2020. 3. 24.>\\n22. 삭제<2020. 3. 24.>\\n23. 제50조제1항에 따른 투자권유준칙 또는 제52조제4항에 따른 투자권유대행기준을 정하지 아니한 자\\n24. 제56조제1항 단서에 따른 신고를 하지 아니하고 약관을 제정 또는 변경한 자\\n25. 거짓, 그 밖의 부정한 방법으로 제56조제1항 단서에 따른 신고를 한 자\\n25의2. 삭제<2020. 3. 24.>\\n26. 삭제<2020. 3. 24.>\\n법제처                                                            210                                                       국가법령정보센터\\n자본시장과 금융투자업에 관한 법률 \\n27. 제62조제1항을 위반하여 공고 또는 통지를 하지 아니한 자\\n28. 삭제<2017. 4. 18.>\\n28의2. 제68조제1항부터 제5항까지의 규정을 위반하여 각 해당 조항의 의무를 이행하지 아니한 자\\n29.',\n",
       "   '제71조(제7호에 한한다),',\n",
       "   '제85조(제8호에 한한다), 제98조제2항(제10호에 한한다) 또는',\n",
       "   '제108조(제9호에 한한다\\n)를 위반하여 각 해당 조항의 해당 호에 해당하는 행위를 한 자 \\n30. 제76조제4항부터 제6항까지의 규정을 위반하여 판매수수료나 판매보수를 받은 자\\n30의2. 제77조의3제2항을 위반하여 같은 항 각 호의 사항을 포함하는 계약을 체결하지 아니한 자\\n31. 제86조를 위반하여 성과보수를 받은 자\\n32. 제87조제7항(제186조제2항에서 준용하는 경우를 포함한다)을 위반하여 기록ㆍ유지하지 아니한 자\\n33. 제87조제8항(제186조제2항에서 준용하는 경우를 포함한다) 또는 제112조제7항을 위반하여 공시를 하지 아니하\\n거나 거짓으로 공시한 자 \\n34. 제90조제1항(제186조제2항에서 준용하는 경우를 포함한다) 또는 제2항(제186조제2항에서 준용하는 경우를 포\\n함한다)을 위반하여 영업보고서나 결산서류를 제출하지 아니하거나 거짓으로 작성하여 제출한 자 \\n34의2. 제98조의2를 위반하여 성과보수를 받은 자\\n34의3. 제101조의2제2항 또는 제101조의3을 위반하여 표시 또는 광고를 한 자\\n35. 제114조제1항 또는 제240조제1항을 위반하여 회계처리를 한 자\\n35의2. 제117조의6제2항을 위반하여 온라인소액투자중개업자 내부통제기준을 정하지 아니한 자\\n35의3. 제117조의7제9항을 위반하여 필요한 조치를 취하지 아니한 자\\n35의4. 제117조의9제1항을 위반하여 투자광고를 한 자\\n35의5. 제117조의10제2항에 따른 조치를 하지 아니한 자\\n35의6. 제117조의10제3항을 위반한 자\\n35의7. 제117조의10제4항에 따라 게재한 내용을 정정하지 아니한 자\\n35의8. 제117조의10제5항을 위반하여 증권을 매도한 자\\n35의9. 제117조의10제8항에 따라 청약증거금을 지체 없이 반환하지 아니한 자\\n35의10. 제117조의11제1항에 따른 조치를 취하지 아니한 자\\n36. 제130조에 따른 조치를 하지 아니한 자\\n37. 제135조, 제136조제6항, 제139조제3항 또는 제148조를 위반하여 신고서 또는 보고서의 사본을 송부하지 아니\\n한 자 \\n38. 제135조, 제136조제6항 또는 제139조제3항에 따른 신고서 사본이나 제148조에 따른 보고서 사본에 신고서 또\\n는 보고서에 기재된 내용과 다른 내용을 표시하거나 그 내용을 누락하여 송부한 자 \\n39. 삭제<2021. 1. 5.>\\n39의2. 제180조의2제1항을 위반하여 순보유잔고를 보고하지 아니하거나 순보유잔고의 보고에 관하여 거짓의 기재\\n또는 표시를 한 자 \\n39의3. 제180조의2제2항을 위반하여 금융위원회의 정정명령을 이행하지 아니하거나 정정명령에 따른 보고에 관하\\n여 거짓의 기재 또는 표시를 한 자 \\n39의4. 제180조의3을 위반하여 공시를 하지 아니하거나 거짓으로 공시한 자\\n39의5. 제180조의5를 위반하여 대차거래정보를 보관하지 아니하거나 자료제출 요구에 따르지 아니한 자\\n40. 제182조제8항(제279조제3항에서 준용하는 경우를 포함한다) 또는 제182조의2제3항에 따른 변경등록을 하지\\n아니한 자 \\n41. 제183조제2항을 위반하여 명칭을 사용한 자\\n41의2. 제184조제3항을 위반하여 집합투자재산의 보관ㆍ관리업무를 위탁하지 아니한 자\\n41의3. 제249조의7제3항 또는 제249조의12제2항을 위반하여 보고를 하지 아니하거나 거짓으로 보고한 자\\n42. 제250조제7항, 제251조제3항 또는 제341조제2항을 위반하여 임원을 두지 아니하거나 임직원에게 겸직하게 한\\n자\\n법제처                                                            211                                                       국가법령정보센터\\n자본시장과 금융투자업에 관한 법률 \\n43. 제250조제7항, 제251조제3항 또는 제341조제2항을 위반하여 이해상충방지체계를 갖추지 아니한 자\\n44. 제284조, 제295조, 제323조의8, 제325조, 제335조의7 또는 제379조를 위반하여 명칭을 사용한 자\\n44의2. 제335조의8제2항을 위반하여 신용평가내부통제기준을 정하지 아니한 자\\n44의3. 제335조의8제3항을 위반하여 준법감시인을 두지 아니한 자\\n44의4. 제335조의8제4항을 위반하여 같은 항 각 호의 어느 하나에 해당하는 업무를 수행하는 직무를 담당하거나\\n담당하게 한 자 \\n44의5. 제335조의12제1항 또는 제2항을 위반하여 금융위원회가 정하여 고시하는 서류 또는 신용평가서를 제출하\\n지 아니하거나 거짓으로 작성하여 제출한 자 \\n45. 제343조제2항을 위반하여 이사회 결의를 거치지 아니한 자\\n46. 제343조제3항 또는 제4항에 따른 보고 또는 공시를 하지 아니하거나 거짓으로 보고 또는 공시한 자\\n47. 제343조제8항에 따른 자료의 제출명령을 위반한 자\\n47의2. 제346조를 위반하여 지급준비자산을 보유하지 아니한 자\\n48. 거짓, 그 밖의 부정한 방법으로 제370조제1항에 따른 허가를 받은 자\\n49. 제435조제5항을 위반하여 신고자등에게 불리한 대우를 한 자\\n② 제63조제1항(제289조, 제304조, 제328조, 제367조, 제383조제3항 또는 제441조에서 준용하는 경우를 포함한다\\n)을 위반하여 같은 항 제2호부터 제4호까지의 방법에 따르지 아니하고 자기의 계산으로 금융투자상품을 매매한 자\\n에 대해서는 5천만원 이하의 과태료를 부과한다.<신설 2017. 4. 18.>\\n③ 다음 각 호의 어느 하나에 해당하는 자에 대하여는 3천만원 이하의 과태료를 부과한다.<개정 2009. 2. 3., 2013.\\n5. 28., 2015. 7. 24., 2016. 3. 22., 2016. 3. 29., 2017. 4. 18., 2018. 12. 31., 2021. 4. 20.>\\n1. 삭제<2015. 7. 31.>\\n2. 제50조제2항을 위반하여 공시를 하지 아니하거나 거짓으로 공시한 자\\n3. 삭제<2020. 3. 24.>\\n4. 제56조제1항 본문에 따른 보고를 하지 아니하거나 거짓으로 보고한 자\\n4의2. 제63조의2를 위반하여 고객응대직원의 보호를 위한 조치를 하지 아니하거나 고객응대직원에게 불이익을 준\\n자 \\n5. 제73조를 위반하여 매매명세를 통지하지 아니하거나 거짓으로 통지한 자\\n5의2. 정당한 사유 없이 제101조제2항에 따른 보고를 하지 않거나 거짓으로 보고한 자\\n5의3. 제101조제3항 후단에 따른 정당한 사유 없이 자료제출을 하지 않거나 거짓으로 제출한 자\\n6. 삭제<2018. 12. 31.>\\n6의2. 제117조의6제1항에 따른 보고를 하지 아니하거나 거짓으로 보고한 자\\n6의3. 제117조의7제8항에 따른 통지를 하지 아니하거나 거짓으로 통지한 자\\n6의4. 제117조의10제7항을 위반하여 증권을 예탁 또는 보호예수하지 아니하거나 증권을 매도 또는 인출한 자\\n6의5. 제117조의15에 따라 투자자 피해가 발생하지 아니하도록 하기 위한 사항을 이행하지 아니한 자\\n7. 제128조 또는 제143조를 위반하여 보고서를 제출하지 아니하거나 거짓으로 작성하여 제출한 자\\n8. 제131조제1항, 제146조제1항, 제151조제1항, 제158조제1항, 제164조제1항 또는 제419조제5항(제43조제1항 후\\n단, 제53조제1항 후단, 제252조제2항, 제256조제2항, 제261조제2항, 제266조제2항, 제281조제2항, 제292조, 제 \\n306조, 제334조, 제335조의14, 제353조, 제358조, 제363조, 제368조 또는 제371조에서 준용하는 경우를 포함한다 \\n)에 따른 보고 또는 자료의 제출명령이나 증인의 출석, 증언 및 의견의 진술 요구에 불응한 자 \\n8의2. 제152조의2제2항을 위반하여 발행인이 아닌 의결권권유자의 요구에 응하지 아니한 자\\n8의3. 제173조의2제1항에 따른 보고를 하지 아니하거나 거짓으로 보고한 자\\n8의4. 제180조의2제3항을 위반하여 자료를 보관하지 아니하거나 금융위원회의 자료제출 요구에 응하지 아니한 자\\n9. 제190조제7항(제201조제3항, 제210조제3항, 제215조제4항, 제217조의5제4항, 제220조제4항 또는 제226조제4항\\n에서 준용하는 경우를 포함한다)을 위반하여 연기수익자총회 등을 소집하지 아니한 자\\n법제처                                                            212                                                       국가법령정보센터\\n자본시장과 금융투자업에 관한 법률 \\n10. 제249조의14제7항을 위반하여 행위준칙을 제정하지 아니한 자 또는 보고를 하지 아니하거나 거짓으로 보고한\\n자 \\n10의2. 제249조의15제8항을 위반하여 등록사항 변경의 보고를 하지 아니하거나 거짓으로 보고한 자\\n10의3. 제249조의15제9항을 위반하여 재무제표를 제출하지 아니하거나 거짓으로 작성하여 제출한 자\\n11. 제310조제2항을 위반하여 예탁하지 아니한 자\\n12. 제310조제3항을 위반하여 증권등을 구분하여 보관하지 아니한 자\\n13. 삭제<2013. 5. 28.>\\n14. 제314조제6항 또는 제315조제3항ㆍ제4항을 위반하여 통지나 통보를 하지 아니한 자\\n15. 제316조제1항을 위반하여 실질주주명부를 작성ㆍ비치하지 아니하거나 거짓으로 작성한 자\\n16. 제323조제1항 또는 제2항에 따른 통지를 하지 아니하거나 거짓으로 통지한 자\\n17. 제339조제2항(제357조제2항 또는 제361조에서 준용하는 경우를 포함한다)을 위반하여 보고를 하지 아니하거나\\n거짓으로 보고한 자 또는 신고를 하지 아니하고 같은 항 제3호에 해당하는 행위를 한 자 \\n18. 삭제<2015. 7. 31.>\\n18의2. 삭제<2023. 3. 21.>\\n19.',\n",
       "   '제418조(제335조의14 및 제350조에서 준용하는 경우를 포함한다)를 위반하여 보고를 하지 아니하거나 거짓으\\n로 보고한 자 \\n④ 제1항부터 제3항까지의 규정에 따른 과태료는 대통령령으로 정하는 방법 및 절차에 따라 금융위원회(제3항제\\n6호의5에 따른 과태료는 방송통신위원회)가 부과ㆍ징수한다.<개정 2008. 2. 29., 2015. 7. 24., 2017. 4. 18.>\\n⑤ 삭제<2009. 2. 3.>\\n⑥ 삭제<2009. 2. 3.>',\n",
       "   '제449조(과태료) ① 다음 각 호의 어느 하나에 해당하는 자에 대하여는 1억원 이하의 과태료를 부과한다. <개정 2009.\\n2. 3., 2010. 3. 12., 2013. 4. 5., 2013. 5. 28., 2015. 7. 24., 2016. 3. 29., 2017. 4. 18., 2018. 12. 31., 2019. 11. 26., 2020.\\n5. 19., 2021. 1. 5., 2021. 4. 20., 2024. 2. 13., 2024. 10. 22.>\\n1. 삭제<2015. 7. 31.>\\n2. 삭제<2015. 7. 31.>\\n3. 삭제<2015. 7. 31.>\\n4. 삭제<2015. 7. 31.>\\n5. 삭제<2015. 7. 31.>\\n6. 삭제<2015. 7. 31.>\\n7. 삭제<2015. 7. 31.>\\n8. 삭제<2015. 7. 31.>\\n9. 삭제<2015. 7. 31.>\\n10. 삭제<2015. 7. 31.>\\n11. 삭제<2015. 7. 31.>\\n12. 삭제<2015. 7. 31.>\\n13. 제33조제1항(제335조의14, 제350조, 제357조제2항 또는 제361조에서 준용하는 경우를 포함한다)을 위반하여\\n업무보고서를 제출하지 아니하거나 거짓으로 작성하여 제출한 자 \\n14. 제33조제2항(제350조, 제357조제2항 또는 제361조에서 준용하는 경우를 포함한다)을 위반하여 공시서류를 비\\n치 또는 공시하지 아니하거나 거짓으로 작성하여 비치 또는 공시한 자 \\n15. 제33조제3항(제350조, 제357조제2항 또는 제361조에서 준용하는 경우를 포함한다)을 위반하여 보고 또는 공시\\n를 하지 아니하거나 거짓으로 보고 또는 공시한 자 \\n15의2. 제33조제4항(제350조, 제357조제2항 또는 제361조에서 준용하는 경우를 포함한다)을 위반하여 보고서를 제\\n출하지 아니하거나 거짓으로 작성하여 제출한 자\\n법제처                                                            213                                                       국가법령정보센터\\n자본시장과 금융투자업에 관한 법률 \\n16. 제34조제3항을 위반하여 이사회 결의를 거치지 아니한 자\\n17. 제34조제4항 또는 제5항을 위반하여 보고 또는 공시를 하지 아니하거나 거짓으로 보고 또는 공시한 자\\n18. 제34조제6항 또는',\n",
       "   '제36조(제350조에서 준용하는 경우를 포함한다)에 따른 자료의 제출명령을 위반한 자\\n19. 제40조제1항 후단 또는 제41조제1항을 위반하여 보고를 하지 아니한 자\\n20. 제43조제1항, 제53조제1항, 제131조제1항, 제146조제1항, 제151조제1항, 제158조제1항, 제164조제1항, 제\\n321조 또는 제419조제1항(제101조제11항, 제252조제2항, 제256조제2항, 제261조제2항, 제266조제2항, 제281조 \\n제2항, 제292조, 제306조, 제323조의19, 제334조 및 제335조의14, 제353조, 제358조, 제363조, 제368조 또는 제 \\n371조에서 준용하는 경우를 포함한다)에 따른 검사ㆍ조사 또는 확인을 거부ㆍ방해 또는 기피한 자 \\n21. 삭제<2020. 3. 24.>\\n22. 삭제<2020. 3. 24.>\\n23. 제50조제1항에 따른 투자권유준칙 또는 제52조제4항에 따른 투자권유대행기준을 정하지 아니한 자\\n24. 제56조제1항 단서에 따른 신고를 하지 아니하고 약관을 제정 또는 변경한 자\\n25. 거짓, 그 밖의 부정한 방법으로 제56조제1항 단서에 따른 신고를 한 자\\n25의2. 삭제<2020. 3. 24.>\\n26. 삭제<2020. 3. 24.>\\n27. 제62조제1항을 위반하여 공고 또는 통지를 하지 아니한 자\\n28. 삭제<2017. 4. 18.>\\n28의2. 제68조제1항부터 제5항까지의 규정을 위반하여 각 해당 조항의 의무를 이행하지 아니한 자\\n29.',\n",
       "   '제71조(제7호에 한한다),',\n",
       "   '제85조(제8호에 한한다), 제98조제2항(제10호에 한한다) 또는',\n",
       "   '제108조(제9호에 한한다\\n)를 위반하여 각 해당 조항의 해당 호에 해당하는 행위를 한 자 \\n30. 제76조제4항부터 제6항까지의 규정을 위반하여 판매수수료나 판매보수를 받은 자\\n30의2. 제77조의3제2항을 위반하여 같은 항 각 호의 사항을 포함하는 계약을 체결하지 아니한 자\\n31. 제86조를 위반하여 성과보수를 받은 자\\n32. 제87조제7항(제186조제2항에서 준용하는 경우를 포함한다)을 위반하여 기록ㆍ유지하지 아니한 자\\n33. 제87조제8항(제186조제2항에서 준용하는 경우를 포함한다) 또는 제112조제7항을 위반하여 공시를 하지 아니하\\n거나 거짓으로 공시한 자 \\n34. 제90조제1항(제186조제2항에서 준용하는 경우를 포함한다) 또는 제2항(제186조제2항에서 준용하는 경우를 포\\n함한다)을 위반하여 영업보고서나 결산서류를 제출하지 아니하거나 거짓으로 작성하여 제출한 자 \\n34의2. 제98조의2를 위반하여 성과보수를 받은 자\\n34의3. 제101조의2제2항 또는 제101조의3을 위반하여 표시 또는 광고를 한 자\\n35. 제114조제1항 또는 제240조제1항을 위반하여 회계처리를 한 자\\n35의2. 제117조의6제2항을 위반하여 온라인소액투자중개업자 내부통제기준을 정하지 아니한 자\\n35의3. 제117조의7제9항을 위반하여 필요한 조치를 취하지 아니한 자\\n35의4. 제117조의9제1항을 위반하여 투자광고를 한 자\\n35의5. 제117조의10제2항에 따른 조치를 하지 아니한 자\\n35의6. 제117조의10제3항을 위반한 자\\n35의7. 제117조의10제4항에 따라 게재한 내용을 정정하지 아니한 자\\n35의8. 제117조의10제5항을 위반하여 증권을 매도한 자\\n35의9. 제117조의10제8항에 따라 청약증거금을 지체 없이 반환하지 아니한 자\\n35의10. 제117조의11제1항에 따른 조치를 취하지 아니한 자\\n36. 제130조에 따른 조치를 하지 아니한 자\\n37. 제135조, 제136조제6항, 제139조제3항 또는 제148조를 위반하여 신고서 또는 보고서의 사본을 송부하지 아니\\n한 자\\n법제처                                                            214                                                       국가법령정보센터\\n자본시장과 금융투자업에 관한 법률 \\n38. 제135조, 제136조제6항 또는 제139조제3항에 따른 신고서 사본이나 제148조에 따른 보고서 사본에 신고서 또\\n는 보고서에 기재된 내용과 다른 내용을 표시하거나 그 내용을 누락하여 송부한 자 \\n39. 삭제<2021. 1. 5.>\\n39의2. 제180조의2제1항을 위반하여 순보유잔고를 보고하지 아니하거나 순보유잔고의 보고에 관하여 거짓의 기재\\n또는 표시를 한 자 \\n39의3. 제180조의2제2항을 위반하여 금융위원회의 정정명령을 이행하지 아니하거나 정정명령에 따른 보고에 관하\\n여 거짓의 기재 또는 표시를 한 자 \\n39의4. 제180조의3을 위반하여 공시를 하지 아니하거나 거짓으로 공시한 자\\n39의5. 제180조의5제1항을 위반하여 대차거래정보를 보관하지 아니하거나, 같은 조 제2항에 따른 자료제출 요구에\\n따르지 아니한 자 \\n39의6. 제180조의5제3항에 따른 상환기간을 위반하여 차입공매도를 목적으로 상장증권의 대차거래 계약을 체결하\\n였거나, 같은 조 제4항을 위반하여 대차거래 계약을 구분하여 관리하지 아니한 자 \\n39의7. 제180조의6제1항 또는 제2항을 위반하여 무차입공매도를 방지하기 위한 조치를 하지 아니한 자\\n40. 제182조제8항(제279조제3항에서 준용하는 경우를 포함한다) 또는 제182조의2제3항에 따른 변경등록을 하지\\n아니한 자 \\n41. 제183조제2항을 위반하여 명칭을 사용한 자\\n41의2. 제184조제3항을 위반하여 집합투자재산의 보관ㆍ관리업무를 위탁하지 아니한 자\\n41의3. 제249조의7제3항 또는 제249조의12제2항을 위반하여 보고를 하지 아니하거나 거짓으로 보고한 자\\n42. 제250조제7항, 제251조제3항 또는 제341조제2항을 위반하여 임원을 두지 아니하거나 임직원에게 겸직하게 한\\n자 \\n43. 제250조제7항, 제251조제3항 또는 제341조제2항을 위반하여 이해상충방지체계를 갖추지 아니한 자\\n44. 제284조, 제295조, 제323조의8, 제325조, 제335조의7 또는 제379조를 위반하여 명칭을 사용한 자\\n44의2. 제335조의8제2항을 위반하여 신용평가내부통제기준을 정하지 아니한 자\\n44의3. 제335조의8제3항을 위반하여 준법감시인을 두지 아니한 자\\n44의4. 제335조의8제4항을 위반하여 같은 항 각 호의 어느 하나에 해당하는 업무를 수행하는 직무를 담당하거나\\n담당하게 한 자 \\n44의5. 제335조의12제1항 또는 제2항을 위반하여 금융위원회가 정하여 고시하는 서류 또는 신용평가서를 제출하\\n지 아니하거나 거짓으로 작성하여 제출한 자 \\n45. 제343조제2항을 위반하여 이사회 결의를 거치지 아니한 자\\n46. 제343조제3항 또는 제4항에 따른 보고 또는 공시를 하지 아니하거나 거짓으로 보고 또는 공시한 자\\n47. 제343조제8항에 따른 자료의 제출명령을 위반한 자\\n47의2. 제346조를 위반하여 지급준비자산을 보유하지 아니한 자\\n48. 거짓, 그 밖의 부정한 방법으로 제370조제1항에 따른 허가를 받은 자\\n49. 제435조제5항을 위반하여 신고자등에게 불리한 대우를 한 자\\n② 제63조제1항(제289조, 제304조, 제328조, 제367조, 제383조제3항 또는 제441조에서 준용하는 경우를 포함한다\\n)을 위반하여 같은 항 제2호부터 제4호까지의 방법에 따르지 아니하고 자기의 계산으로 금융투자상품을 매매한 자\\n에 대해서는 5천만원 이하의 과태료를 부과한다.<신설 2017. 4. 18.>\\n③ 다음 각 호의 어느 하나에 해당하는 자에 대하여는 3천만원 이하의 과태료를 부과한다.<개정 2009. 2. 3., 2013.\\n5. 28., 2015. 7. 24., 2016. 3. 22., 2016. 3. 29., 2017. 4. 18., 2018. 12. 31., 2021. 4. 20.>\\n1. 삭제<2015. 7. 31.>\\n2. 제50조제2항을 위반하여 공시를 하지 아니하거나 거짓으로 공시한 자\\n3. 삭제<2020. 3. 24.>\\n4. 제56조제1항 본문에 따른 보고를 하지 아니하거나 거짓으로 보고한 자\\n법제처                                                            215                                                       국가법령정보센터\\n자본시장과 금융투자업에 관한 법률 \\n4의2. 제63조의2를 위반하여 고객응대직원의 보호를 위한 조치를 하지 아니하거나 고객응대직원에게 불이익을 준\\n자 \\n5. 제73조를 위반하여 매매명세를 통지하지 아니하거나 거짓으로 통지한 자\\n5의2. 정당한 사유 없이 제101조제2항에 따른 보고를 하지 않거나 거짓으로 보고한 자\\n5의3. 제101조제3항 후단에 따른 정당한 사유 없이 자료제출을 하지 않거나 거짓으로 제출한 자\\n6. 삭제<2018. 12. 31.>\\n6의2. 제117조의6제1항에 따른 보고를 하지 아니하거나 거짓으로 보고한 자\\n6의3. 제117조의7제8항에 따른 통지를 하지 아니하거나 거짓으로 통지한 자\\n6의4. 제117조의10제7항을 위반하여 증권을 예탁 또는 보호예수하지 아니하거나 증권을 매도 또는 인출한 자\\n6의5. 제117조의15에 따라 투자자 피해가 발생하지 아니하도록 하기 위한 사항을 이행하지 아니한 자\\n7. 제128조 또는 제143조를 위반하여 보고서를 제출하지 아니하거나 거짓으로 작성하여 제출한 자\\n8. 제131조제1항, 제146조제1항, 제151조제1항, 제158조제1항, 제164조제1항 또는 제419조제5항(제43조제1항 후\\n단, 제53조제1항 후단, 제252조제2항, 제256조제2항, 제261조제2항, 제266조제2항, 제281조제2항, 제292조, 제 \\n306조, 제334조, 제335조의14, 제353조, 제358조, 제363조, 제368조 또는 제371조에서 준용하는 경우를 포함한다 \\n)에 따른 보고 또는 자료의 제출명령이나 증인의 출석, 증언 및 의견의 진술 요구에 불응한 자 \\n8의2. 제152조의2제2항을 위반하여 발행인이 아닌 의결권권유자의 요구에 응하지 아니한 자\\n8의3. 제173조의2제1항에 따른 보고를 하지 아니하거나 거짓으로 보고한 자\\n8의4. 제180조의2제3항을 위반하여 자료를 보관하지 아니하거나 금융위원회의 자료제출 요구에 응하지 아니한 자\\n9. 제190조제7항(제201조제3항, 제210조제3항, 제215조제4항, 제217조의5제4항, 제220조제4항 또는 제226조제4항\\n에서 준용하는 경우를 포함한다)을 위반하여 연기수익자총회 등을 소집하지 아니한 자 \\n10. 제249조의14제7항을 위반하여 행위준칙을 제정하지 아니한 자 또는 보고를 하지 아니하거나 거짓으로 보고한\\n자 \\n10의2. 제249조의15제8항을 위반하여 등록사항 변경의 보고를 하지 아니하거나 거짓으로 보고한 자\\n10의3. 제249조의15제9항을 위반하여 재무제표를 제출하지 아니하거나 거짓으로 작성하여 제출한 자\\n11. 제310조제2항을 위반하여 예탁하지 아니한 자\\n12. 제310조제3항을 위반하여 증권등을 구분하여 보관하지 아니한 자\\n13. 삭제<2013. 5. 28.>\\n14. 제314조제6항 또는 제315조제3항ㆍ제4항을 위반하여 통지나 통보를 하지 아니한 자\\n15. 제316조제1항을 위반하여 실질주주명부를 작성ㆍ비치하지 아니하거나 거짓으로 작성한 자\\n16. 제323조제1항 또는 제2항에 따른 통지를 하지 아니하거나 거짓으로 통지한 자\\n17. 제339조제2항(제357조제2항 또는 제361조에서 준용하는 경우를 포함한다)을 위반하여 보고를 하지 아니하거나\\n거짓으로 보고한 자 또는 신고를 하지 아니하고 같은 항 제3호에 해당하는 행위를 한 자 \\n18. 삭제<2015. 7. 31.>\\n18의2. 삭제<2023. 3. 21.>\\n19.',\n",
       "   '제418조(제335조의14 및 제350조에서 준용하는 경우를 포함한다)를 위반하여 보고를 하지 아니하거나 거짓으\\n로 보고한 자 \\n④ 제1항부터 제3항까지의 규정에 따른 과태료는 대통령령으로 정하는 방법 및 절차에 따라 금융위원회(제3항제\\n6호의5에 따른 과태료는 방송통신위원회)가 부과ㆍ징수한다.<개정 2008. 2. 29., 2015. 7. 24., 2017. 4. 18.>\\n⑤ 삭제<2009. 2. 3.>\\n⑥ 삭제<2009. 2. 3.>\\n[시행일: 2025. 3. 31.] 제449조\\n법제처                                                            216                                                       국가법령정보센터\\n자본시장과 금융투자업에 관한 법률']},\n",
       " '부칙': '부칙 <제20305호,2024. 2. 13.> \\n제1조(시행일) 이 법은 공포 후 6개월이 경과한 날부터 시행한다.\\n제2조(유사투자자문업 신고의 직권말소에 관한 적용례) 제101조제9항제1호의2의 개정규정은 이 법 시행 이후 공정거\\n래위원회가 명한 시정조치를 이행하지 아니한 경우부터 적용한다.\\n제3조(유사투자자문업 신고의 직권말소에 관한 특례) 제101조제9항제2호의 개정규정에 따른 과태료 및 과징금의 부\\n과 횟수는 이 법 시행 이후 부과받은 과태료 및 과징금 처분부터 합산한다. 다만, 이 법 시행 전에 제101조제2항 또\\n는 같은 조 제3항 후단을 위반하여 과태료 처분을 3회 미만 받았던 경우에는 이를 1회 받은 것으로 보아 같은 개정\\n규정에 따른 과태료 및 과징금 부과 횟수에 합산한다.\\n제4조(다른 법률의 개정) 금융소비자 보호에 관한 법률 일부를 다음과 같이 개정한다.\\n제2조제4호가목을 다음과 같이 한다.\\n가. 간행물ㆍ출판물ㆍ통신물 또는 방송 등을 통하여 개별 금융소비자를 상정하지 아니하고 다수인을 대상으로 일방적으\\n로 이루어지는 조언을 하는 것. 다만, 본문의 조언과 관련하여 온라인상에서 일정한 대가를 지급한 고객과 의견을 교환\\n할 수 있는 경우에는 그러하지 아니하다.'}"
      ]
     },
     "execution_count": 48,
     "metadata": {},
     "output_type": "execute_result"
    }
   ],
   "source": [
    "parsed_law"
   ]
  },
  {
   "cell_type": "markdown",
   "id": "f9b4e0a5",
   "metadata": {},
   "source": [
    "- 랭체인 Document 객체에 메타데이터와 함께 정리"
   ]
  },
  {
   "cell_type": "code",
   "execution_count": 49,
   "id": "04b9c973",
   "metadata": {},
   "outputs": [
    {
     "data": {
      "text/plain": [
       "479"
      ]
     },
     "execution_count": 49,
     "metadata": {},
     "output_type": "execute_result"
    }
   ],
   "source": [
    "from langchain_core.documents import Document\n",
    "\n",
    "final_docs = []\n",
    "for law in parsed_law['장'].keys():\n",
    "    for article in parsed_law['장'][law]:\n",
    "\n",
    "        # metadata 내용을 정리 \n",
    "        metadata = {\n",
    "                \"source\": pdf_file,\n",
    "                \"chapter\": law,\n",
    "                \"name\" : \"자본시장법\"\n",
    "                }\n",
    "\n",
    "        # metadata 내용을 본문에 추가 \n",
    "        content = f\"[법률정보]\\n다음 조항은 {metadata['name']} {metadata['chapter']}에서 발췌한 내용입니다.\\n\\n[법률조항]\\n{article}\"\n",
    "\n",
    "        final_docs.append(Document(page_content=content, metadata=metadata))\n",
    "        \n",
    "len(final_docs)"
   ]
  },
  {
   "cell_type": "code",
   "execution_count": 50,
   "id": "ce58308b",
   "metadata": {},
   "outputs": [
    {
     "name": "stdout",
     "output_type": "stream",
     "text": [
      "[법률정보]\n",
      "다음 조항은 자본시장법 제1장 금융투자업의 인가 및 등록\n",
      "         제1절 인가요건 및 절차에서 발췌한 내용입니다.\n",
      "\n",
      "[법률조항]\n",
      "제11조(무인가 영업행위 금지) 누구든지 이 법에 따른 금융투자업인가(변경인가를 포함한다)를 받지 아니하고는 금융\n",
      "투자업(투자자문업, 투자일임업 및 일반 사모집합투자업은 제외한다. 이하 이 절에서 같다)을 영위하여서는 아니 된\n",
      "다. <개정 2015. 7. 24., 2021. 4. 20.>\n",
      "\n",
      "{'source': '/Users/hyuneui/Desktop/upstage/cookbook/data/자본시장과 금융투자업에 관한 법률(법률)(제20305호)(20240814).pdf', 'chapter': '제1장 금융투자업의 인가 및 등록\\n         제1절 인가요건 및 절차', 'name': '자본시장법'}\n"
     ]
    }
   ],
   "source": [
    "print(final_docs[0].page_content)\n",
    "print()\n",
    "print(final_docs[0].metadata)"
   ]
  },
  {
   "cell_type": "code",
   "execution_count": 51,
   "id": "c1df1182",
   "metadata": {},
   "outputs": [
    {
     "name": "stdout",
     "output_type": "stream",
     "text": [
      "[법률정보]\n",
      "다음 조항은 자본시장법 제1장 금융투자업의 인가 및 등록\n",
      "         제1절 인가요건 및 절차에서 발췌한 내용입니다.\n",
      "\n",
      "[법률조항]\n",
      "제11조의2(알선ㆍ중개행위 금지) 누구든지 제11조에 따른 무인가 영업행위를 목적으로 계좌의 대여를 알선하거나 중\n",
      "개하여서는 아니 된다.\n",
      "[본조신설 2021. 6. 8.]\n",
      "\n",
      "{'source': '/Users/hyuneui/Desktop/upstage/cookbook/data/자본시장과 금융투자업에 관한 법률(법률)(제20305호)(20240814).pdf', 'chapter': '제1장 금융투자업의 인가 및 등록\\n         제1절 인가요건 및 절차', 'name': '자본시장법'}\n"
     ]
    }
   ],
   "source": [
    "print(final_docs[1].page_content)\n",
    "print()\n",
    "print(final_docs[1].metadata)"
   ]
  },
  {
   "cell_type": "markdown",
   "id": "b9413999",
   "metadata": {},
   "source": [
    "- 벡터저장소에 인덱싱"
   ]
  },
  {
   "cell_type": "code",
   "execution_count": 52,
   "id": "e53318fc",
   "metadata": {},
   "outputs": [
    {
     "name": "stdout",
     "output_type": "stream",
     "text": [
      "66 4956\n"
     ]
    }
   ],
   "source": [
    "# 각 문서의 텍스트 길이를 확인\n",
    "\n",
    "text_lengths = [len(d.page_content) for d in final_docs]\n",
    "print(min(text_lengths), max(text_lengths))"
   ]
  },
  {
   "cell_type": "code",
   "execution_count": 56,
   "id": "167518a3",
   "metadata": {},
   "outputs": [],
   "source": [
    "from langchain_chroma import Chroma\n",
    "from langchain_upstage import ChatUpstage, UpstageEmbeddings\n",
    "from langchain_core.vectorstores import VectorStore\n",
    "from langchain_chroma import Chroma\n",
    "# from langchain.embeddings.openai import OpenAIEmbeddings\n",
    "\n",
    "# OpenAI Embeddings 모델 초기화\n",
    "embeddings_model = UpstageEmbeddings(model=\"solar-embedding-1-large\")\n",
    "\n",
    "\n",
    "# Chroma 인덱스 생성\n",
    "labor_db = Chroma.from_documents(\n",
    "    documents=final_docs, \n",
    "    embedding=embeddings_model,    \n",
    "    collection_name=\"labor_law\",\n",
    "    persist_directory=\"./chroma_db\",\n",
    ")"
   ]
  },
  {
   "cell_type": "code",
   "execution_count": 60,
   "id": "11191a48",
   "metadata": {},
   "outputs": [
    {
     "data": {
      "application/vnd.jupyter.widget-view+json": {
       "model_id": "1177b33246d24275a46e3b3dcd19aa51",
       "version_major": 2,
       "version_minor": 0
      },
      "text/plain": [
       "config.json:   0%|          | 0.00/799 [00:00<?, ?B/s]"
      ]
     },
     "metadata": {},
     "output_type": "display_data"
    },
    {
     "data": {
      "application/vnd.jupyter.widget-view+json": {
       "model_id": "f0cbc306c583447385f24ad83d2e3124",
       "version_major": 2,
       "version_minor": 0
      },
      "text/plain": [
       "model.safetensors:   0%|          | 0.00/1.11G [00:00<?, ?B/s]"
      ]
     },
     "metadata": {},
     "output_type": "display_data"
    },
    {
     "data": {
      "application/vnd.jupyter.widget-view+json": {
       "model_id": "74ba237adde44026a69383124212f439",
       "version_major": 2,
       "version_minor": 0
      },
      "text/plain": [
       "tokenizer_config.json:   0%|          | 0.00/443 [00:00<?, ?B/s]"
      ]
     },
     "metadata": {},
     "output_type": "display_data"
    },
    {
     "data": {
      "application/vnd.jupyter.widget-view+json": {
       "model_id": "1aab5b5105de4261a15358277a268415",
       "version_major": 2,
       "version_minor": 0
      },
      "text/plain": [
       "sentencepiece.bpe.model:   0%|          | 0.00/5.07M [00:00<?, ?B/s]"
      ]
     },
     "metadata": {},
     "output_type": "display_data"
    },
    {
     "data": {
      "application/vnd.jupyter.widget-view+json": {
       "model_id": "2fa73651d4734608803d76beb8fbee0a",
       "version_major": 2,
       "version_minor": 0
      },
      "text/plain": [
       "tokenizer.json:   0%|          | 0.00/17.1M [00:00<?, ?B/s]"
      ]
     },
     "metadata": {},
     "output_type": "display_data"
    },
    {
     "data": {
      "application/vnd.jupyter.widget-view+json": {
       "model_id": "469cc8149f4c4c149cad8aca11268fec",
       "version_major": 2,
       "version_minor": 0
      },
      "text/plain": [
       "special_tokens_map.json:   0%|          | 0.00/279 [00:00<?, ?B/s]"
      ]
     },
     "metadata": {},
     "output_type": "display_data"
    }
   ],
   "source": [
    "from langchain.embeddings import OpenAIEmbeddings\n",
    "from langchain_chroma import Chroma\n",
    "from langchain_core.documents import Document\n",
    "from langchain.retrievers import ContextualCompressionRetriever\n",
    "from langchain.retrievers.document_compressors import CrossEncoderReranker\n",
    "from langchain_community.cross_encoders import HuggingFaceCrossEncoder\n",
    "from langchain_community.retrievers import TavilySearchAPIRetriever\n",
    "from langchain_core.tools import tool\n",
    "from typing import List\n",
    "# CrossEncoder 리랭크 모델 설정\n",
    "rerank_model = HuggingFaceCrossEncoder(model_name=\"BAAI/bge-reranker-base\")\n",
    "cross_reranker = CrossEncoderReranker(model=rerank_model, top_n=3)\n",
    "# # 자본시장법 검색\n",
    "# labor_db = Chroma(\n",
    "#     embedding_function=embeddings_model,\n",
    "#     collection_name=\"labor_law\",\n",
    "#     persist_directory=\"./chroma_db\",\n",
    "# )\n",
    "labor_db_retriever = ContextualCompressionRetriever(\n",
    "    base_compressor=cross_reranker,\n",
    "    base_retriever=labor_db.as_retriever(search_kwargs={\"k\":5}),\n",
    ")\n",
    "@tool\n",
    "def labor_law_search(query: str) -> List[Document]:\n",
    "    \"\"\"자본시장법 법률 조항을 검색합니다.\"\"\"\n",
    "    docs = labor_db_retriever.invoke(query)\n",
    "    if len(docs) > 0:\n",
    "        return docs\n",
    "    return [Document(page_content=\"관련 정보를 찾을 수 없습니다.\")]\n",
    "# 웹 검색\n",
    "web_retriever = ContextualCompressionRetriever(\n",
    "    base_compressor=cross_reranker,\n",
    "    base_retriever=TavilySearchAPIRetriever(k=10),\n",
    ")\n",
    "@tool\n",
    "def web_search(query: str) -> List[str]:\n",
    "    \"\"\"데이터베이스에 없는 정보 또는 최신 정보를 웹에서 검색합니다.\"\"\"\n",
    "    docs = web_retriever.invoke(query)\n",
    "    formatted_docs = []\n",
    "    for doc in docs:\n",
    "        formatted_docs.append(\n",
    "            Document(\n",
    "                page_content= f'<Document href=\"{doc.metadata[\"source\"]}\"/>\\n{doc.page_content}\\n</Document>',\n",
    "                metadata={\"source\": \"web search\", \"url\": doc.metadata[\"source\"]}\n",
    "            )\n",
    "        )\n",
    "    if len(formatted_docs) > 0:\n",
    "        return formatted_docs\n",
    "    return [Document(page_content=\"관련 정보를 찾을 수 없습니다.\")]"
   ]
  },
  {
   "cell_type": "code",
   "execution_count": 62,
   "id": "a9abf2e3",
   "metadata": {},
   "outputs": [],
   "source": [
    "tools = [ labor_law_search, web_search]"
   ]
  },
  {
   "cell_type": "code",
   "execution_count": 63,
   "id": "8560e57c",
   "metadata": {},
   "outputs": [
    {
     "name": "stdout",
     "output_type": "stream",
     "text": [
      "[StructuredTool(name='labor_law_search', description='자본시장법 법률 조항을 검색합니다.', args_schema=<class 'langchain_core.utils.pydantic.labor_law_search'>, func=<function labor_law_search at 0x12c283740>), StructuredTool(name='web_search', description='데이터베이스에 없는 정보 또는 최신 정보를 웹에서 검색합니다.', args_schema=<class 'langchain_core.utils.pydantic.web_search'>, func=<function web_search at 0x12c283600>)]\n"
     ]
    }
   ],
   "source": [
    "print(tools)"
   ]
  },
  {
   "cell_type": "code",
   "execution_count": 66,
   "id": "d9d78b87",
   "metadata": {},
   "outputs": [],
   "source": [
    "from langchain_upstage import ChatUpstage\n",
    "\n",
    "# 기본 LLM\n",
    "llm = ChatUpstage()\n",
    " #업스테이지로 변경\n",
    "# LLM에 도구 바인딩하여 추가\n",
    "llm_with_tools = llm.bind_tools(tools)\n",
    "\n",
    "\n",
    "\n"
   ]
  },
  {
   "cell_type": "code",
   "execution_count": 67,
   "id": "7d4d11ea",
   "metadata": {},
   "outputs": [
    {
     "name": "stdout",
     "output_type": "stream",
     "text": [
      "client=<openai.resources.chat.completions.Completions object at 0x127afafc0> async_client=<openai.resources.chat.completions.AsyncCompletions object at 0x12c380290> model_kwargs={} upstage_api_key=SecretStr('**********') upstage_api_base='https://api.upstage.ai/v1/solar'\n"
     ]
    }
   ],
   "source": [
    "print(llm)"
   ]
  },
  {
   "cell_type": "code",
   "execution_count": 68,
   "id": "472d89f6",
   "metadata": {},
   "outputs": [
    {
     "name": "stdout",
     "output_type": "stream",
     "text": [
      "AIMessage(content='', additional_kwargs={'tool_calls': [{'id': '7505a2f8-6643-4127-b2cf-c4c0fc4e4dec', 'function': {'arguments': '{\"query\":\"자기매매\"}', 'name': 'labor_law_search'}, 'type': 'function'}], 'refusal': None}, response_metadata={'token_usage': {'completion_tokens': 59, 'prompt_tokens': 675, 'total_tokens': 734, 'completion_tokens_details': None, 'prompt_tokens_details': None}, 'model_name': 'solar-mini-240612', 'system_fingerprint': None, 'finish_reason': 'tool_calls', 'logprobs': None}, id='run-435a9991-4195-4418-87b9-7c5b57c05a80-0', tool_calls=[{'name': 'labor_law_search', 'args': {'query': '자기매매'}, 'id': '7505a2f8-6643-4127-b2cf-c4c0fc4e4dec', 'type': 'tool_call'}], usage_metadata={'input_tokens': 675, 'output_tokens': 59, 'total_tokens': 734, 'input_token_details': {}, 'output_token_details': {}})\n",
      "----------------------------------------------------------------------------------------------------\n",
      "''\n",
      "----------------------------------------------------------------------------------------------------\n",
      "[{'args': {'query': '자기매매'},\n",
      "  'id': '7505a2f8-6643-4127-b2cf-c4c0fc4e4dec',\n",
      "  'name': 'labor_law_search',\n",
      "  'type': 'tool_call'}]\n"
     ]
    }
   ],
   "source": [
    "# 벡터 검색과 웹 검색이 모두 필요한 경우\n",
    "query = \"자기주식으로 매매를 해도 되는지 알려주세요. 2024년 자기매매관련 개정수정이 있나요?\"\n",
    "ai_msg = llm_with_tools.invoke(query)\n",
    "pprint(ai_msg)\n",
    "print(\"-\" * 100)\n",
    "pprint(ai_msg.content)\n",
    "print(\"-\" * 100)\n",
    "pprint(ai_msg.tool_calls)"
   ]
  },
  {
   "cell_type": "code",
   "execution_count": 69,
   "id": "966e553a",
   "metadata": {},
   "outputs": [],
   "source": [
    "from pydantic import BaseModel, Field\n",
    "from typing import List, TypedDict, Annotated, Optional\n",
    "from operator import add\n",
    "from langchain_core.documents import Document\n",
    "class CorrectiveRagState(TypedDict):\n",
    "    question: str                 # 사용자의 질문\n",
    "    generation: str               # LLM 생성 답변\n",
    "    documents: List[Document]     # 컨텍스트 문서 (검색된 문서)\n",
    "    num_generations: int          # 질문 or 답변 생성 횟수 (무한 루프 방지에 활용)\n",
    "class InformationStrip(BaseModel):\n",
    "    \"\"\"추출된 정보에 대한 내용과 출처, 관련성 점수\"\"\"\n",
    "    content: str = Field(..., description=\"추출된 정보 내용\")\n",
    "    source: str = Field(..., description=\"정보의 출처(법률 조항 또는 URL 등). 예시: 법조 제22조 3항 \")\n",
    "    relevance_score: float = Field(..., ge=0, le=1, description=\"관련성 점수 (0에서 1 사이)\")\n",
    "    faithfulness_score: float = Field(..., ge=0, le=1, description=\"충실성 점수 (0에서 1 사이)\")\n",
    "class ExtractedInformation(BaseModel):\n",
    "    strips: List[InformationStrip] = Field(..., description=\"추출된 정보 조각들\")\n",
    "    query_relevance: float = Field(..., ge=0, le=1, description=\"질의에 대한 전반전인 답변 가능성 점수 (0에서 1 사이)\")\n",
    "class RefinedQuestion(BaseModel):\n",
    "    \"\"\"개선된 질문과 이유\"\"\"\n",
    "    question_refined : str = Field(..., description=\"개선된 질문\")\n",
    "    reason : str = Field(..., description=\"이유\")\n",
    "# 자본시장법\n",
    "class PersonalRagState(CorrectiveRagState):\n",
    "    rewritten_query: str   # 재작성한 질문\n",
    "    extracted_info: Optional[ExtractedInformation]   # 추출된 정보 조각\n",
    "    node_answer: Optional[str]"
   ]
  },
  {
   "cell_type": "code",
   "execution_count": null,
   "id": "81245820",
   "metadata": {},
   "outputs": [],
   "source": []
  },
  {
   "cell_type": "code",
   "execution_count": null,
   "id": "b3d6bd1b",
   "metadata": {},
   "outputs": [],
   "source": []
  },
  {
   "cell_type": "markdown",
   "id": "64f5af46",
   "metadata": {},
   "source": [
    "###  2-3.  산업안전보건법"
   ]
  },
  {
   "cell_type": "markdown",
   "id": "5888c5dc",
   "metadata": {},
   "source": [
    "- PDf 문서를 가져와서 조항 별로 구분하여 정리"
   ]
  },
  {
   "cell_type": "markdown",
   "id": "bb29aff7",
   "metadata": {},
   "source": [
    "- 랭체인 Document 객체에 메타데이터와 함께 정리"
   ]
  },
  {
   "cell_type": "markdown",
   "id": "3d157bc6",
   "metadata": {},
   "source": [
    "- 벡터저장소에 인덱싱"
   ]
  },
  {
   "cell_type": "markdown",
   "id": "e493a788",
   "metadata": {},
   "source": [
    "# 3. 도구 호출"
   ]
  },
  {
   "cell_type": "markdown",
   "id": "b523b0bc",
   "metadata": {},
   "source": [
    "### 3-1. 법률 정보 검색 도구, 웹 검색 도구 정의"
   ]
  },
  {
   "cell_type": "code",
   "execution_count": null,
   "id": "e5a0d85c",
   "metadata": {},
   "outputs": [],
   "source": [
    "from langchain.embeddings import OpenAIEmbeddings\n",
    "from langchain_chroma import Chroma\n",
    "from langchain_core.documents import Document\n",
    "from langchain.retrievers import ContextualCompressionRetriever\n",
    "from langchain.retrievers.document_compressors import CrossEncoderReranker\n",
    "from langchain_community.cross_encoders import HuggingFaceCrossEncoder\n",
    "from langchain_community.retrievers import TavilySearchAPIRetriever\n",
    "from langchain_core.tools import tool\n",
    "from typing import List\n",
    "\n",
    "\n",
    "# 문서 임베딩 모델 설정\n",
    "embeddings_model = OpenAIEmbeddings(model=\"text-embedding-ada-002\") #업스테이지로 수정\n",
    "\n",
    "# CrossEncoder 리랭크 모델 설정\n",
    "rerank_model = HuggingFaceCrossEncoder(model_name=\"BAAI/bge-reranker-base\")\n",
    "cross_reranker = CrossEncoderReranker(model=rerank_model, top_n=3)\n",
    "\n",
    "\n",
    "# 자본시장법 검색 \n",
    "labor_db = Chroma(\n",
    "    embedding_function=embeddings_model,   \n",
    "    collection_name=\"labor_law\",\n",
    "    persist_directory=\"./chroma_db\",\n",
    ")\n",
    "\n",
    "labor_db_retriever = ContextualCompressionRetriever(\n",
    "    base_compressor=cross_reranker, \n",
    "    base_retriever=labor_db.as_retriever(search_kwargs={\"k\":5}),\n",
    ")\n",
    "\n",
    "@tool\n",
    "def labor_law_search(query: str) -> List[Document]:\n",
    "    \"\"\"자본시장법 법률 조항을 검색합니다.\"\"\"\n",
    "    docs = labor_db_retriever.invoke(query)\n",
    "\n",
    "    if len(docs) > 0:\n",
    "        return docs\n",
    "    \n",
    "    return [Document(page_content=\"관련 정보를 찾을 수 없습니다.\")]\n",
    "\n",
    "\n",
    "# 웹 검색\n",
    "web_retriever = ContextualCompressionRetriever(\n",
    "    base_compressor=cross_reranker, \n",
    "    base_retriever=TavilySearchAPIRetriever(k=10),\n",
    ")\n",
    "\n",
    "@tool\n",
    "def web_search(query: str) -> List[str]:\n",
    "    \"\"\"데이터베이스에 없는 정보 또는 최신 정보를 웹에서 검색합니다.\"\"\"\n",
    "\n",
    "    docs = web_retriever.invoke(query)\n",
    "\n",
    "    formatted_docs = []\n",
    "    for doc in docs:\n",
    "        formatted_docs.append(\n",
    "            Document(\n",
    "                page_content= f'<Document href=\"{doc.metadata[\"source\"]}\"/>\\n{doc.page_content}\\n</Document>',\n",
    "                metadata={\"source\": \"web search\", \"url\": doc.metadata[\"source\"]}\n",
    "            )\n",
    "        )\n",
    "\n",
    "    if len(formatted_docs) > 0:\n",
    "        return formatted_docs\n",
    "    \n",
    "    return [Document(page_content=\"관련 정보를 찾을 수 없습니다.\")]\n"
   ]
  },
  {
   "cell_type": "code",
   "execution_count": null,
   "id": "0572979c",
   "metadata": {},
   "outputs": [],
   "source": []
  },
  {
   "cell_type": "code",
   "execution_count": null,
   "id": "6649ec80",
   "metadata": {},
   "outputs": [],
   "source": [
    "# 도구 목록을 정의 \n",
    "tools = [ labor_law_search, web_search]"
   ]
  },
  {
   "cell_type": "code",
   "execution_count": null,
   "id": "6844bc35",
   "metadata": {},
   "outputs": [
    {
     "data": {
      "text/plain": [
       "[StructuredTool(name='personal_law_search', description='인사규정 법률 조항을 검색합니다.', args_schema=<class 'langchain_core.utils.pydantic.personal_law_search'>, func=<function personal_law_search at 0x0000018B7D07A160>),\n",
       " StructuredTool(name='labor_law_search', description='근로기준법 법률 조항을 검색합니다.', args_schema=<class 'langchain_core.utils.pydantic.labor_law_search'>, func=<function labor_law_search at 0x0000018B7D032160>),\n",
       " StructuredTool(name='oshc_law_search', description='산업안전보건법 법률 조항을 검색합니다.', args_schema=<class 'langchain_core.utils.pydantic.oshc_law_search'>, func=<function oshc_law_search at 0x0000018B7D07A840>),\n",
       " StructuredTool(name='web_search', description='데이터베이스에 없는 정보 또는 최신 정보를 웹에서 검색합니다.', args_schema=<class 'langchain_core.utils.pydantic.web_search'>, func=<function web_search at 0x0000018B7D07B920>)]"
      ]
     },
     "execution_count": 43,
     "metadata": {},
     "output_type": "execute_result"
    }
   ],
   "source": [
    "tools"
   ]
  },
  {
   "cell_type": "markdown",
   "id": "eef7f7a4",
   "metadata": {},
   "source": [
    "### 3-2. LLM 모델"
   ]
  },
  {
   "cell_type": "code",
   "execution_count": null,
   "id": "c96e2202",
   "metadata": {},
   "outputs": [],
   "source": [
    "from langchain_openai import ChatOpenAI\n",
    "\n",
    "# 기본 LLM\n",
    "llm = ChatOpenAI(model=\"gpt-4o-mini\",\n",
    "                 temperature=0,\n",
    "                 streaming=True) #업스테이지로 변경\n",
    "\n",
    "# LLM에 도구 바인딩하여 추가 \n",
    "llm_with_tools = llm.bind_tools(tools)"
   ]
  },
  {
   "cell_type": "code",
   "execution_count": null,
   "id": "6b1f34a2",
   "metadata": {},
   "outputs": [
    {
     "data": {
      "text/plain": [
       "ChatOpenAI(client=<openai.resources.chat.completions.Completions object at 0x0000018B3BB25FD0>, async_client=<openai.resources.chat.completions.AsyncCompletions object at 0x0000018B3BB92890>, root_client=<openai.OpenAI object at 0x0000018B7D16BC90>, root_async_client=<openai.AsyncOpenAI object at 0x0000018B7CE53590>, model_name='gpt-4o-mini', temperature=0.0, model_kwargs={}, openai_api_key=SecretStr('**********'), streaming=True)"
      ]
     },
     "execution_count": 45,
     "metadata": {},
     "output_type": "execute_result"
    }
   ],
   "source": [
    "llm"
   ]
  },
  {
   "cell_type": "code",
   "execution_count": null,
   "id": "7fabf018",
   "metadata": {},
   "outputs": [
    {
     "name": "stdout",
     "output_type": "stream",
     "text": [
      "AIMessage(content='', additional_kwargs={'tool_calls': [{'index': 0, 'id': 'call_DqWl1EPvgQqUd9Tr3LRZAe7W', 'function': {'arguments': '{\"query\":\"연차휴가 부여 기준\"}', 'name': 'labor_law_search'}, 'type': 'function'}]}, response_metadata={'finish_reason': 'tool_calls', 'model_name': 'gpt-4o-mini-2024-07-18', 'system_fingerprint': 'fp_0ba0d124f1'}, id='run-f3f76d34-e3bb-469e-8946-fee2d27c1e8e-0', tool_calls=[{'name': 'labor_law_search', 'args': {'query': '연차휴가 부여 기준'}, 'id': 'call_DqWl1EPvgQqUd9Tr3LRZAe7W', 'type': 'tool_call'}])\n",
      "----------------------------------------------------------------------------------------------------\n",
      "''\n",
      "----------------------------------------------------------------------------------------------------\n",
      "[{'args': {'query': '연차휴가 부여 기준'},\n",
      "  'id': 'call_DqWl1EPvgQqUd9Tr3LRZAe7W',\n",
      "  'name': 'labor_law_search',\n",
      "  'type': 'tool_call'}]\n",
      "----------------------------------------------------------------------------------------------------\n"
     ]
    }
   ],
   "source": [
    "# 근로기준법과 관련된 질문을 하는 경우 -> 근로기준법 검색 도구를 호출  \n",
    "query = \"자기주식으로 매매를 해도 되는지 알려주세요.\"\n",
    "ai_msg = llm_with_tools.invoke(query)\n",
    "\n",
    "pprint(ai_msg)\n",
    "print(\"-\" * 100)\n",
    "\n",
    "pprint(ai_msg.content)\n",
    "print(\"-\" * 100)\n",
    "\n",
    "pprint(ai_msg.tool_calls)\n",
    "print(\"-\" * 100)"
   ]
  },
  {
   "cell_type": "code",
   "execution_count": null,
   "id": "689eddc9",
   "metadata": {},
   "outputs": [
    {
     "name": "stdout",
     "output_type": "stream",
     "text": [
      "AIMessage(content='안녕하세요! 어떻게 도와드릴까요?', additional_kwargs={}, response_metadata={'finish_reason': 'stop', 'model_name': 'gpt-4o-mini-2024-07-18', 'system_fingerprint': 'fp_0ba0d124f1'}, id='run-867f95cf-8257-4122-bde6-f031b9737e77-0')\n",
      "----------------------------------------------------------------------------------------------------\n",
      "'안녕하세요! 어떻게 도와드릴까요?'\n",
      "----------------------------------------------------------------------------------------------------\n",
      "[]\n",
      "----------------------------------------------------------------------------------------------------\n"
     ]
    }
   ],
   "source": [
    "# 도구들의 목적과 관련 없는 질문을 하는 경우 -> 도구 호출 없이 그대로 답변을 생성 \n",
    "query = \"안녕하세요?\"\n",
    "ai_msg = llm_with_tools.invoke(query)\n",
    "\n",
    "pprint(ai_msg)\n",
    "print(\"-\" * 100)\n",
    "\n",
    "pprint(ai_msg.content)\n",
    "print(\"-\" * 100)\n",
    "\n",
    "pprint(ai_msg.tool_calls)\n",
    "print(\"-\" * 100)"
   ]
  },
  {
   "cell_type": "code",
   "execution_count": null,
   "id": "978d80b5",
   "metadata": {},
   "outputs": [
    {
     "name": "stdout",
     "output_type": "stream",
     "text": [
      "AIMessage(content='', additional_kwargs={'tool_calls': [{'index': 0, 'id': 'call_asJE2uB5FXF4O9Nn4NKOqBd5', 'function': {'arguments': '{\"query\": \"연차휴가 부여 기준\"}', 'name': 'labor_law_search'}, 'type': 'function'}, {'index': 1, 'id': 'call_pDmYTjOSOvzHy0oX5XM900Y0', 'function': {'arguments': '{\"query\": \"2023년 연차휴가 사용 비율\"}', 'name': 'web_search'}, 'type': 'function'}]}, response_metadata={'finish_reason': 'tool_calls', 'model_name': 'gpt-4o-mini-2024-07-18', 'system_fingerprint': 'fp_0ba0d124f1'}, id='run-5e244b23-92ad-41f9-8cbe-a65bfabba15f-0', tool_calls=[{'name': 'labor_law_search', 'args': {'query': '연차휴가 부여 기준'}, 'id': 'call_asJE2uB5FXF4O9Nn4NKOqBd5', 'type': 'tool_call'}, {'name': 'web_search', 'args': {'query': '2023년 연차휴가 사용 비율'}, 'id': 'call_pDmYTjOSOvzHy0oX5XM900Y0', 'type': 'tool_call'}])\n",
      "----------------------------------------------------------------------------------------------------\n",
      "''\n",
      "----------------------------------------------------------------------------------------------------\n",
      "[{'args': {'query': '연차휴가 부여 기준'},\n",
      "  'id': 'call_asJE2uB5FXF4O9Nn4NKOqBd5',\n",
      "  'name': 'labor_law_search',\n",
      "  'type': 'tool_call'},\n",
      " {'args': {'query': '2023년 연차휴가 사용 비율'},\n",
      "  'id': 'call_pDmYTjOSOvzHy0oX5XM900Y0',\n",
      "  'name': 'web_search',\n",
      "  'type': 'tool_call'}]\n",
      "----------------------------------------------------------------------------------------------------\n"
     ]
    }
   ],
   "source": [
    "# 벡터 검색과 웹 검색이 모두 필요한 경우 \n",
    "query = \"자기주식으로 매매를 해도 되는지 알려주세요. 2024년 자기매매관련 개정수정이 있나요?\"\n",
    "ai_msg = llm_with_tools.invoke(query)\n",
    "\n",
    "pprint(ai_msg)\n",
    "print(\"-\" * 100)\n",
    "\n",
    "pprint(ai_msg.content)\n",
    "print(\"-\" * 100)\n",
    "\n",
    "pprint(ai_msg.tool_calls)\n",
    "print(\"-\" * 100)"
   ]
  },
  {
   "cell_type": "markdown",
   "id": "e6678014",
   "metadata": {},
   "source": [
    "잘불러와지는 것을 알 수 있음"
   ]
  },
  {
   "cell_type": "markdown",
   "id": "d13353a2",
   "metadata": {},
   "source": [
    "# 4. Agent RAG 구현 "
   ]
  },
  {
   "cell_type": "markdown",
   "id": "351a0fa2",
   "metadata": {},
   "source": [
    "- 각 법률에 특화된 RAG 에이전트를 구현 \n",
    "- 질문 라우팅을 통해서 각 에이전트를 도구 형태로 사용 \n",
    "- 생성된 답변에 대한 피드백을 제공하는 에이전트 사용 \n",
    "- 필요한 경우 사람의 피드백을 요청 (답변이 애매한 경우 - 재검색 여부 판단)\n"
   ]
  },
  {
   "cell_type": "markdown",
   "id": "8dcb9f9c",
   "metadata": {},
   "source": [
    "### 4-1. 각 법률에 특화된 RAG 에이전트를 구현 \n",
    "- 검색된 문서의 관련성 등을 평가하여 질문 재작성 및 다시 검색 (Corrective RAG 적용)"
   ]
  },
  {
   "cell_type": "markdown",
   "id": "b4718a35",
   "metadata": {},
   "source": [
    "`(1) 인사규정(취업규칙) 검색 에이전트`"
   ]
  },
  {
   "cell_type": "code",
   "execution_count": null,
   "id": "d819597d",
   "metadata": {},
   "outputs": [],
   "source": [
    "from pydantic import BaseModel, Field\n",
    "from typing import List, TypedDict, Annotated, Optional\n",
    "from operator import add\n",
    "from langchain_core.documents import Document\n",
    "\n",
    "class CorrectiveRagState(TypedDict):\n",
    "    question: str                 # 사용자의 질문\n",
    "    generation: str               # LLM 생성 답변\n",
    "    documents: List[Document]     # 컨텍스트 문서 (검색된 문서)\n",
    "    num_generations: int          # 질문 or 답변 생성 횟수 (무한 루프 방지에 활용)\n",
    "\n",
    "class InformationStrip(BaseModel):\n",
    "    \"\"\"추출된 정보에 대한 내용과 출처, 관련성 점수\"\"\"\n",
    "    content: str = Field(..., description=\"추출된 정보 내용\")\n",
    "    source: str = Field(..., description=\"정보의 출처(법률 조항 또는 URL 등). 예시: 법조 제22조 3항 \")\n",
    "    relevance_score: float = Field(..., ge=0, le=1, description=\"관련성 점수 (0에서 1 사이)\")\n",
    "    faithfulness_score: float = Field(..., ge=0, le=1, description=\"충실성 점수 (0에서 1 사이)\")\n",
    "\n",
    "class ExtractedInformation(BaseModel):\n",
    "    strips: List[InformationStrip] = Field(..., description=\"추출된 정보 조각들\")\n",
    "    query_relevance: float = Field(..., ge=0, le=1, description=\"질의에 대한 전반전인 답변 가능성 점수 (0에서 1 사이)\")\n",
    "\n",
    "class RefinedQuestion(BaseModel):\n",
    "    \"\"\"개선된 질문과 이유\"\"\"\n",
    "    question_refined : str = Field(..., description=\"개선된 질문\")\n",
    "    reason : str = Field(..., description=\"이유\")\n",
    "\n",
    "# 인사규정(취업규칙)\n",
    "class PersonalRagState(CorrectiveRagState):\n",
    "    rewritten_query: str   # 재작성한 질문 \n",
    "    extracted_info: Optional[ExtractedInformation]   # 추출된 정보 조각 \n",
    "    node_answer: Optional[str]\n"
   ]
  },
  {
   "cell_type": "code",
   "execution_count": 88,
   "id": "c980dc1c",
   "metadata": {},
   "outputs": [],
   "source": [
    "from langchain_core.prompts import ChatPromptTemplate\n",
    "from typing import Literal\n",
    "def retrieve_documents(state: PersonalRagState) -> PersonalRagState:\n",
    "    print(\"---문서 검색---\")\n",
    "    query = state.get(\"rewritten_query\", state[\"question\"])\n",
    "    docs =  labor_law_search.invoke(query)\n",
    "    return {\"documents\": docs}\n",
    "def extract_and_evaluate_information(state: PersonalRagState) -> PersonalRagState:\n",
    "    print(\"---정보 추출 및 평가---\")\n",
    "    extracted_strips = []\n",
    "    for doc in state[\"documents\"]:\n",
    "        extract_prompt = ChatPromptTemplate.from_messages([\n",
    "            (\"system\", \"\"\"당신은 자본시장법 전문가입니다. 주어진 문서에서 질문과 관련된 주요 사실과 정보를 3~5개 정도 추출하세요.\n",
    "            각 추출된 정보에 대해 다음 두 가지 측면을 0에서 1 사이의 점수로 평가하세요:\n",
    "            1. 질문과의 관련성\n",
    "            2. 답변의 충실성 (질문에 대한 완전하고 정확한 답변을 제공할 수 있는 정도)\n",
    "            추출 형식:\n",
    "            1. [추출된 정보]\n",
    "            - 관련성 점수: [0-1 사이의 점수]\n",
    "            - 충실성 점수: [0-1 사이의 점수]\n",
    "            2. [추출된 정보]\n",
    "            - 관련성 점수: [0-1 사이의 점수]\n",
    "            - 충실성 점수: [0-1 사이의 점수]\n",
    "            ...\n",
    "            마지막으로, 추출된 정보를 종합하여 질문에 대한 전반적인 답변 가능성을 0에서 1 사이의 점수로 평가하세요.\"\"\"),\n",
    "            (\"human\", \"[질문]\\n{question}\\n\\n[문서 내용]\\n{document_content}\")\n",
    "        ])\n",
    "        extract_llm = llm.with_structured_output(ExtractedInformation)\n",
    "        extracted_data = extract_llm.invoke(extract_prompt.format(\n",
    "            question=state[\"question\"],\n",
    "            document_content=doc.page_content\n",
    "        ))\n",
    "        if extracted_data.query_relevance < 0.8:\n",
    "            continue\n",
    "        for strip in extracted_data.strips:\n",
    "            if strip.relevance_score > 0.7 and strip.faithfulness_score > 0.7:\n",
    "                extracted_strips.append(strip)\n",
    "    return {\n",
    "        \"extracted_info\": extracted_strips,\n",
    "        \"num_generations\": state.get(\"num_generations\", 0) + 1\n",
    "    }\n",
    "def rewrite_query(state: PersonalRagState) -> PersonalRagState:\n",
    "    print(\"---쿼리 재작성---\")\n",
    "    rewrite_prompt = ChatPromptTemplate.from_messages([\n",
    "        (\"system\", \"\"\"당신은 자본시장법 전문가입니다. 주어진 원래 질문과 추출된 정보를 바탕으로, 더 관련성 있고 충실한 정보를 찾기 위해 검색 쿼리를 개선해주세요.\n",
    "        다음 사항을 고려하여 검색 쿼리를 개선하세요:\n",
    "        1. 원래 질문의 핵심 요소\n",
    "        2. 추출된 정보의 관련성 점수\n",
    "        3. 추출된 정보의 충실성 점수\n",
    "        4. 부족한 정보나 더 자세히 알아야 할 부분\n",
    "        개선된 검색 쿼리 작성 단계:\n",
    "        1. 2-3개의 검색 쿼리를 제안하세요.\n",
    "        2. 각 쿼리는 구체적이고 간결해야 합니다(5-10 단어 사이).\n",
    "        3. 자본시장법과 관련된 전문 용어를 적절히 활용하세요.\n",
    "        4. 각 쿼리 뒤에는 해당 쿼리를 제안한 이유를 간단히 설명하세요.\n",
    "        출력 형식:\n",
    "        1. [개선된 검색 쿼리 1]\n",
    "        - 이유: [이 쿼리를 제안한 이유 설명]\n",
    "        2. [개선된 검색 쿼리 2]\n",
    "        - 이유: [이 쿼리를 제안한 이유 설명]\n",
    "        3. [개선된 검색 쿼리 3]\n",
    "        - 이유: [이 쿼리를 제안한 이유 설명]\n",
    "        마지막으로, 제안된 쿼리 중 가장 효과적일 것 같은 쿼리를 선택하고 그 이유를 설명하세요.\"\"\"),\n",
    "        (\"human\", \"원래 질문: {question}\\n\\n추출된 정보:\\n{extracted_info}\\n\\n위 지침에 따라 개선된 검색 쿼리를 작성해주세요.\")\n",
    "    ])\n",
    "    extracted_info_str = \"\\n\".join([strip.content for strip in state[\"extracted_info\"]])\n",
    "    rewrite_llm = llm.with_structured_output(RefinedQuestion)\n",
    "    response = rewrite_llm.invoke(rewrite_prompt.format(\n",
    "        question=state[\"question\"],\n",
    "        extracted_info=extracted_info_str\n",
    "    ))\n",
    "    return {\"rewritten_query\": response.question_refined}\n",
    "def generate_node_answer(state: PersonalRagState) -> PersonalRagState:\n",
    "    print(\"---답변 생성---\")\n",
    "    answer_prompt = ChatPromptTemplate.from_messages([\n",
    "        (\"system\", \"\"\"당신은 금융법 전문가입니다.  주어진 질문과 추출된 정보를 바탕으로 답변을 생성해주세요.\n",
    "        답변은 마크다운 형식으로 작성하며, 각 정보의 출처를 명확히 표시해야 합니다.\n",
    "        답변 구조:\n",
    "        1. 질문에 대한 직접적인 답변\n",
    "        2. 관련 법률 조항 및 해석\n",
    "        3. 추가 설명 또는 예시 (필요한 경우)\n",
    "        4. 결론 및 요약\n",
    "        각 섹션에서 사용된 정보의 출처를 괄호 안에 명시하세요. 예: (출처: 자본시장법 제15조)\"\"\"),\n",
    "        (\"human\", \"질문: {question}\\n\\n추출된 정보:\\n{extracted_info}\\n\\n위 지침에 따라 최종 답변을 작성해주세요.\")\n",
    "    ])\n",
    "    extracted_info_str = \"\\n\".join([f\"내용: {strip.content}\\n출처: {strip.source}\\n관련성: {strip.relevance_score}\\n충실성: {strip.faithfulness_score}\" for strip in state[\"extracted_info\"]])\n",
    "    node_answer = llm.invoke(answer_prompt.format(\n",
    "        question=state[\"question\"],\n",
    "        extracted_info=extracted_info_str\n",
    "    ))\n",
    "    print(node_answer)\n",
    "    return {\"node_answer\": node_answer.content}\n",
    "def should_continue(state: PersonalRagState) -> Literal[\"계속\", \"종료\"]:\n",
    "    if state[\"num_generations\"] >= 2:\n",
    "        return \"종료\"\n",
    "    if len(state[\"extracted_info\"]) >= 1:\n",
    "        return \"종료\"\n",
    "    return \"계속\"\n",
    "\n"
   ]
  },
  {
   "cell_type": "code",
   "execution_count": 89,
   "id": "80d32535",
   "metadata": {},
   "outputs": [
    {
     "data": {
      "image/jpeg": "[encoded data removed]",
      "text/plain": [
       "<IPython.core.display.Image object>"
      ]
     },
     "metadata": {},
     "output_type": "display_data"
    }
   ],
   "source": [
    "from langgraph.graph import StateGraph, START, END\n",
    "from IPython.display import Image, display\n",
    "\n",
    "# 그래프 생성\n",
    "workflow = StateGraph(PersonalRagState)\n",
    "\n",
    "# 노드 추가\n",
    "workflow.add_node(\"retrieve\", retrieve_documents)\n",
    "workflow.add_node(\"extract_and_evaluate\", extract_and_evaluate_information)\n",
    "workflow.add_node(\"rewrite_query\", rewrite_query)\n",
    "workflow.add_node(\"generate_answer\", generate_node_answer)\n",
    "\n",
    "\n",
    "# 엣지 추가\n",
    "workflow.add_edge(START, \"retrieve\")\n",
    "workflow.add_edge(\"retrieve\", \"extract_and_evaluate\")\n",
    "\n",
    "# 조건부 엣지 추가\n",
    "workflow.add_conditional_edges(\n",
    "    \"extract_and_evaluate\",\n",
    "    should_continue,\n",
    "    {\n",
    "        \"계속\": \"rewrite_query\",\n",
    "        \"종료\": \"generate_answer\"\n",
    "    }\n",
    ")\n",
    "workflow.add_edge(\"rewrite_query\", \"retrieve\")\n",
    "workflow.add_edge(\"generate_answer\", END)\n",
    "\n",
    "# 그래프 컴파일\n",
    "personal_law_agent = workflow.compile()\n",
    "\n",
    "# 그래프 시각화\n",
    "display(Image(personal_law_agent.get_graph().draw_mermaid_png()))"
   ]
  },
  {
   "cell_type": "code",
   "execution_count": null,
   "id": "f4480783",
   "metadata": {},
   "outputs": [
    {
     "name": "stderr",
     "output_type": "stream",
     "text": [
      "Adding a node to a graph that has already been compiled. This will not be reflected in the compiled graph.\n"
     ]
    },
    {
     "ename": "ValueError",
     "evalue": "Node `generate_answer` already present.",
     "output_type": "error",
     "traceback": [
      "\u001b[0;31m---------------------------------------------------------------------------\u001b[0m",
      "\u001b[0;31mValueError\u001b[0m                                Traceback (most recent call last)",
      "Cell \u001b[0;32mIn[87], line 1\u001b[0m\n\u001b[0;32m----> 1\u001b[0m \u001b[43mworkflow\u001b[49m\u001b[38;5;241;43m.\u001b[39;49m\u001b[43madd_node\u001b[49m\u001b[43m(\u001b[49m\u001b[38;5;124;43m\"\u001b[39;49m\u001b[38;5;124;43mgenerate_answer\u001b[39;49m\u001b[38;5;124;43m\"\u001b[39;49m\u001b[43m,\u001b[49m\u001b[43m \u001b[49m\u001b[43mgenerate_node_answer\u001b[49m\u001b[43m)\u001b[49m\n",
      "File \u001b[0;32m/Library/Frameworks/Python.framework/Versions/3.12/lib/python3.12/site-packages/langgraph/graph/state.py:331\u001b[0m, in \u001b[0;36mStateGraph.add_node\u001b[0;34m(self, node, action, metadata, input, retry)\u001b[0m\n\u001b[1;32m    329\u001b[0m     \u001b[38;5;28;01mraise\u001b[39;00m \u001b[38;5;167;01mRuntimeError\u001b[39;00m\n\u001b[1;32m    330\u001b[0m \u001b[38;5;28;01mif\u001b[39;00m node \u001b[38;5;129;01min\u001b[39;00m \u001b[38;5;28mself\u001b[39m\u001b[38;5;241m.\u001b[39mnodes:\n\u001b[0;32m--> 331\u001b[0m     \u001b[38;5;28;01mraise\u001b[39;00m \u001b[38;5;167;01mValueError\u001b[39;00m(\u001b[38;5;124mf\u001b[39m\u001b[38;5;124m\"\u001b[39m\u001b[38;5;124mNode `\u001b[39m\u001b[38;5;132;01m{\u001b[39;00mnode\u001b[38;5;132;01m}\u001b[39;00m\u001b[38;5;124m` already present.\u001b[39m\u001b[38;5;124m\"\u001b[39m)\n\u001b[1;32m    332\u001b[0m \u001b[38;5;28;01mif\u001b[39;00m node \u001b[38;5;241m==\u001b[39m END \u001b[38;5;129;01mor\u001b[39;00m node \u001b[38;5;241m==\u001b[39m START:\n\u001b[1;32m    333\u001b[0m     \u001b[38;5;28;01mraise\u001b[39;00m \u001b[38;5;167;01mValueError\u001b[39;00m(\u001b[38;5;124mf\u001b[39m\u001b[38;5;124m\"\u001b[39m\u001b[38;5;124mNode `\u001b[39m\u001b[38;5;132;01m{\u001b[39;00mnode\u001b[38;5;132;01m}\u001b[39;00m\u001b[38;5;124m` is reserved.\u001b[39m\u001b[38;5;124m\"\u001b[39m)\n",
      "\u001b[0;31mValueError\u001b[0m: Node `generate_answer` already present."
     ]
    }
   ],
   "source": []
  },
  {
   "cell_type": "code",
   "execution_count": null,
   "id": "d36b0c8a",
   "metadata": {},
   "outputs": [
    {
     "name": "stdout",
     "output_type": "stream",
     "text": [
      "---문서 검색---\n"
     ]
    }
   ],
   "source": [
    "inputs = {\"question\": \"회사에 자기매매로 모회사의 지분을 취득해도 되는가?\"}\n",
    "for output in personal_law_agent.stream(inputs):\n",
    "    for key, value in output.items():\n",
    "        # 노드 출력\n",
    "        pprint(f\"Node '{key}':\")\n",
    "        pprint(f\"Value: {value}\", indent=2, width=80, depth=None)\n",
    "    print(\"\\n----------------------------------------------------------\\n\")\n",
    "    print(value['node_answer'])\n",
    "\n"
   ]
  },
  {
   "cell_type": "code",
   "execution_count": 90,
   "id": "3a891d43",
   "metadata": {},
   "outputs": [
    {
     "name": "stdout",
     "output_type": "stream",
     "text": [
      "{'documents': [Document(metadata={'chapter': '제4장 영업행위 규칙\\n         제1절 공통 영업행위 규칙\\n           제1관 신의성실의무 등', 'name': '자본시장법', 'source': '/Users/hyuneui/Desktop/upstage/cookbook/data/자본시장과 금융투자업에 관한 법률(법률)(제20305호)(20240814).pdf'}, page_content='[법률정보]\\n다음 조항은 자본시장법 제4장 영업행위 규칙\\n         제1절 공통 영업행위 규칙\\n           제1관 신의성실의무 등에서 발췌한 내용입니다.\\n\\n[법률조항]\\n제69조(자기주식의 예외적 취득) 투자매매업자는 투자자로부터 그 투자매매업자가 발행한 자기주식으로서 증권시장\\n(다자간매매체결회사에서의 거래를 포함한다. 이하 이 조에서 같다)의 매매 수량단위 미만의 주식에 대하여 매도의\\n청약을 받은 경우에는 이를 증권시장 밖에서 취득할 수 있다. 이 경우 취득한 자기주식은 대통령령으로 정하는 기간\\n이내에 처분하여야 한다. <개정 2013. 5. 28.>'), Document(metadata={'chapter': '제3장 건전경영 유지\\n         제1절 경영건전성 감독', 'name': '자본시장법', 'source': '/Users/hyuneui/Desktop/upstage/cookbook/data/자본시장과 금융투자업에 관한 법률(법률)(제20305호)(20240814).pdf'}, page_content='[법률정보]\\n다음 조항은 자본시장법 제3장 건전경영 유지\\n         제1절 경영건전성 감독에서 발췌한 내용입니다.\\n\\n[법률조항]\\n제34조(대주주와의 거래 등의 제한) ① 금융투자업자(겸영금융투자업자는 제외한다. 이하 이 절에서 같다)는 다음 각 호\\n의 어느 하나에 해당하는 행위를 하여서는 아니 된다. 다만, 담보권의 실행 등 권리행사에 필요한 경우, 제176조제\\n3항제1호에 따른 안정조작 또는 같은 항 제2호에 따른 시장조성을 하는 경우, 그 밖에 금융투자업자의 건전성을 해\\n치지 아니하는 범위에서 금융투자업의 효율적 수행을 위하여 대통령령으로 정하는 경우에는 그러하지 아니하며, 이\\n경우 금융위원회는 다음 각 호별로 그 소유기한 등을 정하여 고시할 수 있다. <개정 2009. 2. 3.>\\n1. 그 금융투자업자의 대주주가 발행한 증권을 소유하는 행위\\n2. 그 금융투자업자의 특수관계인(금융투자업자의 대주주를 제외한다) 중 대통령령으로 정하는 자가 발행한 주식,\\n채권 및 약속어음(기업이 사업에 필요한 자금을 조달하기 위하여 발행한 것에 한한다)을 소유하는 행위. 다만, 대 \\n통령령으로 정하는 비율의 범위에서 소유하는 경우를 제외한다. \\n3. 그 밖에 금융투자업자의 건전한 자산운용을 해할 우려가 있는 행위로서 대통령령으로 정하는 행위\\n② 금융투자업자는 대주주(그의 특수관계인을 포함한다. 이하 이 조에서 같다)에 대하여 신용공여(금전ㆍ증권 등 경\\n제적 가치가 있는 재산의 대여, 채무이행의 보증, 자금 지원적 성격의 증권의 매입, 그 밖에 거래상의 신용위험을 수\\n반하는 직접적ㆍ간접적 거래로서 대통령령으로 정하는 거래를 말한다. 이하 이 절에서 같다)를 하여서는 아니 되며,\\n대주주는 그 금융투자업자로부터 신용공여를 받아서는 아니 된다. 다만, 대주주에 대한 신용공여가 다음 각 호의 어\\n느 하나에 해당하는 경우에는 이를 할 수 있다.<개정 2020. 12. 29.>\\n1. 임원에 대하여 연간 급여액(근속기간 중에 그 금융투자업자로부터 지급된 소득세 과세대상이 되는 급여액을 말\\n한다)과 대통령령으로 정하는 금액 중 적은 금액의 범위에서 하는 신용공여\\n법제처                                                            16                                                       국가법령정보센터\\n자본시장과 금융투자업에 관한 법률 \\n2. 금융투자업자가 발행주식총수 또는 출자총액의 100분의 50 이상을 소유 또는 출자하거나 대통령령으로 정하는\\n기준에 의하여 사실상 경영을 지배하는 해외현지법인에 대한 신용공여 \\n3. 그 밖에 금융투자업자의 건전성을 해할 우려가 없는 신용공여로서 대통령령으로 정하는 신용공여\\n③ 금융투자업자는 제1항제2호 단서 또는 제2항 단서에 해당하는 행위(대통령령으로 정하는 행위를 제외한다)를 하\\n고자 하는 경우에는 미리 이사회 결의를 거쳐야 한다. 이 경우 이사회 결의는 재적이사 전원의 찬성으로 한다.\\n④ 금융투자업자는 제1항제2호 단서 또는 제2항 단서에 해당하는 행위(대통령령으로 정하는 행위를 제외한다)를 한\\n경우에는 그 사실을 금융위원회에 지체 없이 보고하고, 인터넷 홈페이지 등을 이용하여 공시하여야 한다.<개정\\n2008. 2. 29.>\\n⑤ 금융투자업자는 제4항에 따른 보고사항 중 대통령령으로 정하는 사항을 종합하여 분기별로 금융위원회에 보고\\n하고, 인터넷 홈페이지 등을 이용하여 공시하여야 한다.<개정 2008. 2. 29.>\\n⑥ 금융위원회는 금융투자업자 또는 그의 대주주가 제1항부터 제5항까지의 규정을 위반한 혐의가 있다고 인정될\\n경우에는 금융투자업자 또는 그의 대주주에게 필요한 자료의 제출을 명할 수 있다.<개정 2008. 2. 29.>\\n⑦ 금융위원회는 금융투자업자의 대주주(회사에 한한다)의 부채가 자산을 초과하는 등 재무구조의 부실로 인하여\\n금융투자업자의 경영건전성을 현저히 해칠 우려가 있는 경우로서 대통령령으로 정하는 경우에는 금융투자업자에\\n대하여 대주주가 발행한 증권의 신규취득 및 제2항 단서에 따른 신용공여를 제한할 수 있다.<개정 2008. 2. 29.>'), Document(metadata={'chapter': '제4장 종합금융회사', 'name': '자본시장법', 'source': '/Users/hyuneui/Desktop/upstage/cookbook/data/자본시장과 금융투자업에 관한 법률(법률)(제20305호)(20240814).pdf'}, page_content='[법률정보]\\n다음 조항은 자본시장법 제4장 종합금융회사에서 발췌한 내용입니다.\\n\\n[법률조항]\\n제345조(자금지원 관련 금지행위) ① 상호출자제한기업집단에 속하는 종합금융회사는 다른 상호출자제한기업집단에\\n속하는 금융기관(「금융산업의 구조개선에 관한 법률」에 따른 금융기관을 말한다. 이하 이 항에서 같다) 또는 회사와\\n다음 각 호의 행위를 하여서는 아니 된다.\\n1. 제342조부터 제344조까지의 규정에 따른 한도를 회피하기 위한 목적으로 다른 금융기관 또는 회사의 의결권 있\\n는 주식을 서로 교차하여 소유하거나 신용공여를 하는 행위 \\n2. 「상법」, 그 밖의 법률에 따른 자기주식 취득의 제한을 회피하기 위한 목적으로 서로 교차하여 주식을 취득하는\\n행위 \\n3. 그 밖에 예금자 및 투자자의 이익을 크게 해할 우려가 있는 행위로서 대통령령으로 정하는 행위\\n② 종합금융회사는 제1항을 위반하여 취득한 주식에 대하여는 의결권을 행사할 수 없다.\\n③ 종합금융회사는 그 종합금융회사의 주식을 매입시키기 위한 신용공여를 하여서는 아니 된다.\\n④ 금융위원회는 제1항 또는 제3항을 위반하여 주식을 취득하거나 신용공여를 한 종합금융회사에 대하여 6개월 이\\n내의 기간을 정하여 그 주식의 처분 또는 신용공여의 회수를 명하는 등 필요한 조치를 할 수 있다.<개정 2008. 2.\\n29.>')]}\n"
     ]
    }
   ],
   "source": [
    "print(value)"
   ]
  },
  {
   "cell_type": "markdown",
   "id": "ff695b15",
   "metadata": {},
   "source": [
    "`(2) 근로기준법 RAG 에이전트`"
   ]
  },
  {
   "cell_type": "markdown",
   "id": "b8312b67",
   "metadata": {},
   "source": [
    "모듈별로 프롬프트달리하는거 필요"
   ]
  },
  {
   "cell_type": "code",
   "execution_count": null,
   "id": "abf8075e",
   "metadata": {},
   "outputs": [],
   "source": [
    "# 근로기준법\n",
    "class LaborRagState(CorrectiveRagState):\n",
    "    rewritten_query: str   # 재작성한 질문 \n",
    "    extracted_info: Optional[ExtractedInformation]   # 추출된 정보 조각 \n",
    "    node_answer: Optional[str]"
   ]
  },
  {
   "cell_type": "code",
   "execution_count": null,
   "id": "b9596ee8",
   "metadata": {},
   "outputs": [],
   "source": [
    "from langchain_core.prompts import ChatPromptTemplate\n",
    "from typing import Literal\n",
    "\n",
    "def retrieve_documents(state: LaborRagState) -> LaborRagState:\n",
    "    print(\"---문서 검색---\")\n",
    "    query = state.get(\"rewritten_query\", state[\"question\"])\n",
    "    docs = labor_law_search.invoke(query)\n",
    "    return {\"documents\": docs}\n",
    "\n",
    "def extract_and_evaluate_information(state: LaborRagState) -> LaborRagState:\n",
    "    print(\"---정보 추출 및 평가---\")\n",
    "    extracted_strips = []\n",
    "\n",
    "    for doc in state[\"documents\"]:\n",
    "        extract_prompt = ChatPromptTemplate.from_messages([\n",
    "            (\"system\", \"\"\"당신은 근로기준법 전문가입니다. 주어진 문서에서 질문과 관련된 주요 사실과 정보를 3~5개 정도 추출하세요. \n",
    "            각 추출된 정보에 대해 다음 두 가지 측면을 0에서 1 사이의 점수로 평가하세요:\n",
    "            1. 질문과의 관련성\n",
    "            2. 답변의 충실성 (질문에 대한 완전하고 정확한 답변을 제공할 수 있는 정도)\n",
    "            \n",
    "            추출 형식:\n",
    "            1. [추출된 정보]\n",
    "            - 관련성 점수: [0-1 사이의 점수]\n",
    "            - 충실성 점수: [0-1 사이의 점수]\n",
    "            2. [추출된 정보]\n",
    "            - 관련성 점수: [0-1 사이의 점수]\n",
    "            - 충실성 점수: [0-1 사이의 점수]\n",
    "            ...\n",
    "            \n",
    "            마지막으로, 추출된 정보를 종합하여 질문에 대한 전반적인 답변 가능성을 0에서 1 사이의 점수로 평가하세요.\"\"\"),\n",
    "            (\"human\", \"[질문]\\n{question}\\n\\n[문서 내용]\\n{document_content}\")\n",
    "        ])\n",
    "\n",
    "        extract_llm = llm.with_structured_output(ExtractedInformation)\n",
    "\n",
    "        extracted_data = extract_llm.invoke(extract_prompt.format(\n",
    "            question=state[\"question\"],\n",
    "            document_content=doc.page_content\n",
    "        ))\n",
    "\n",
    "        if extracted_data.query_relevance < 0.8:\n",
    "            continue\n",
    "\n",
    "        for strip in extracted_data.strips:\n",
    "            if strip.relevance_score > 0.7 and strip.faithfulness_score > 0.7:\n",
    "                extracted_strips.append(strip)\n",
    "\n",
    "    return {\n",
    "        \"extracted_info\": extracted_strips,\n",
    "        \"num_generations\": state.get(\"num_generations\", 0) + 1\n",
    "    }\n",
    "\n",
    "def rewrite_query(state: LaborRagState) -> LaborRagState:\n",
    "    print(\"---쿼리 재작성---\")\n",
    "\n",
    "    rewrite_prompt = ChatPromptTemplate.from_messages([\n",
    "        (\"system\", \"\"\"당신은 근로기준법 전문가입니다. 주어진 원래 질문과 추출된 정보를 바탕으로, 더 관련성 있고 충실한 정보를 찾기 위해 검색 쿼리를 개선해주세요.\n",
    "\n",
    "        다음 사항을 고려하여 검색 쿼리를 개선하세요:\n",
    "        1. 원래 질문의 핵심 요소\n",
    "        2. 추출된 정보의 관련성 점수\n",
    "        3. 추출된 정보의 충실성 점수\n",
    "        4. 부족한 정보나 더 자세히 알아야 할 부분\n",
    "\n",
    "        개선된 검색 쿼리 작성 단계:\n",
    "        1. 2-3개의 검색 쿼리를 제안하세요.\n",
    "        2. 각 쿼리는 구체적이고 간결해야 합니다(5-10 단어 사이).\n",
    "        3. 근로기준법과 관련된 전문 용어를 적절히 활용하세요.\n",
    "        4. 각 쿼리 뒤에는 해당 쿼리를 제안한 이유를 간단히 설명하세요.\n",
    "\n",
    "        출력 형식:\n",
    "        1. [개선된 검색 쿼리 1]\n",
    "        - 이유: [이 쿼리를 제안한 이유 설명]\n",
    "        2. [개선된 검색 쿼리 2]\n",
    "        - 이유: [이 쿼리를 제안한 이유 설명]\n",
    "        3. [개선된 검색 쿼리 3]\n",
    "        - 이유: [이 쿼리를 제안한 이유 설명]\n",
    "\n",
    "        마지막으로, 제안된 쿼리 중 가장 효과적일 것 같은 쿼리를 선택하고 그 이유를 설명하세요.\"\"\"),\n",
    "        (\"human\", \"원래 질문: {question}\\n\\n추출된 정보:\\n{extracted_info}\\n\\n위 지침에 따라 개선된 검색 쿼리를 작성해주세요.\")\n",
    "    ])\n",
    "\n",
    "    extracted_info_str = \"\\n\".join([strip.content for strip in state[\"extracted_info\"]])\n",
    "    \n",
    "    rewrite_llm = llm.with_structured_output(RefinedQuestion)\n",
    "\n",
    "    response = rewrite_llm.invoke(rewrite_prompt.format(\n",
    "        question=state[\"question\"],\n",
    "        extracted_info=extracted_info_str\n",
    "    ))\n",
    "    \n",
    "    return {\"rewritten_query\": response.question_refined}\n",
    "\n",
    "def generate_node_answer(state: LaborRagState) -> LaborRagState:\n",
    "    print(\"---답변 생성---\")\n",
    "\n",
    "    answer_prompt = ChatPromptTemplate.from_messages([\n",
    "        (\"system\", \"\"\"당신은 근로기준법 전문가입니다. 주어진 질문과 추출된 정보를 바탕으로 답변을 생성해주세요. \n",
    "        답변은 마크다운 형식으로 작성하며, 각 정보의 출처를 명확히 표시해야 합니다. \n",
    "        답변 구조:\n",
    "        1. 질문에 대한 직접적인 답변\n",
    "        2. 관련 법률 조항 및 해석\n",
    "        3. 추가 설명 또는 예시 (필요한 경우)\n",
    "        4. 결론 및 요약\n",
    "        각 섹션에서 사용된 정보의 출처를 괄호 안에 명시하세요. 예: (출처: 근로기준법 제15조)\"\"\"),\n",
    "        (\"human\", \"질문: {question}\\n\\n추출된 정보:\\n{extracted_info}\\n\\n위 지침에 따라 최종 답변을 작성해주세요.\")\n",
    "    ])\n",
    "\n",
    "    extracted_info_str = \"\\n\".join([f\"내용: {strip.content}\\n출처: {strip.source}\\n관련성: {strip.relevance_score}\\n충실성: {strip.faithfulness_score}\" for strip in state[\"extracted_info\"]])\n",
    "\n",
    "    node_answer = llm.invoke(answer_prompt.format(\n",
    "        question=state[\"question\"],\n",
    "        extracted_info=extracted_info_str\n",
    "    ))\n",
    "\n",
    "    return {\"node_answer\": node_answer.content}\n",
    "\n",
    "def should_continue(state: LaborRagState) -> Literal[\"계속\", \"종료\"]:\n",
    "    if state[\"num_generations\"] >= 2:\n",
    "        return \"종료\"\n",
    "    if len(state[\"extracted_info\"]) >= 1:\n",
    "        return \"종료\"\n",
    "    return \"계속\""
   ]
  },
  {
   "cell_type": "code",
   "execution_count": null,
   "id": "4cb66bd0",
   "metadata": {},
   "outputs": [
    {
     "data": {
      "image/jpeg": "[encoded data removed]",
      "text/plain": [
       "<IPython.core.display.Image object>"
      ]
     },
     "metadata": {},
     "output_type": "display_data"
    }
   ],
   "source": [
    "from langgraph.graph import StateGraph, START, END\n",
    "from IPython.display import Image, display\n",
    "\n",
    "# 그래프 생성\n",
    "workflow = StateGraph(LaborRagState)\n",
    "\n",
    "# 노드 추가\n",
    "workflow.add_node(\"retrieve\", retrieve_documents)\n",
    "workflow.add_node(\"extract_and_evaluate\", extract_and_evaluate_information)\n",
    "workflow.add_node(\"rewrite_query\", rewrite_query)\n",
    "workflow.add_node(\"generate_answer\", generate_node_answer)\n",
    "\n",
    "\n",
    "# 엣지 추가\n",
    "workflow.add_edge(START, \"retrieve\")\n",
    "workflow.add_edge(\"retrieve\", \"extract_and_evaluate\")\n",
    "\n",
    "# 조건부 엣지 추가\n",
    "workflow.add_conditional_edges(\n",
    "    \"extract_and_evaluate\",\n",
    "    should_continue,\n",
    "    {\n",
    "        \"계속\": \"rewrite_query\",\n",
    "        \"종료\": \"generate_answer\"\n",
    "    }\n",
    ")\n",
    "workflow.add_edge(\"rewrite_query\", \"retrieve\")\n",
    "workflow.add_edge(\"generate_answer\", END)\n",
    "\n",
    "# 그래프 컴파일\n",
    "labor_law_agent = workflow.compile()\n",
    "\n",
    "# 그래프 시각화\n",
    "display(Image(labor_law_agent.get_graph().draw_mermaid_png()))"
   ]
  },
  {
   "cell_type": "code",
   "execution_count": null,
   "id": "991a2d8c",
   "metadata": {},
   "outputs": [
    {
     "name": "stdout",
     "output_type": "stream",
     "text": [
      "---문서 검색---\n",
      "\"Node 'retrieve':\"\n",
      "(\"Value: {'documents': [Document(metadata={'chapter': '제10장 기숙사', 'name': \"\n",
      " \"'근로기준법', 'source': 'data/근로기준법(법률)(제18176호)(20211119).pdf'}, \"\n",
      " \"page_content='[법률정보]\\\\n다음 조항은 근로기준법 제10장 기숙사에서 발췌한 \"\n",
      " '내용입니다.\\\\n\\\\n[법률조항]\\\\n제98조(기숙사 생활의 보장) ① 사용자는 사업 또는 사업장의 부속 기숙사에 기숙하는 근로자의 '\n",
      " \"사생활의 자유를 침해\\\\n하지 못한다.\\\\n② 사용자는 기숙사 생활의 자치에 필요한 임원 선거에 간섭하지 못한다.'), \"\n",
      " \"Document(metadata={'chapter': '제10장 기숙사', 'name': '근로기준법', 'source': \"\n",
      " \"'data/근로기준법(법률)(제18176호)(20211119).pdf'}, page_content='[법률정보]\\\\n다음 조항은 \"\n",
      " '근로기준법 제10장 기숙사에서 발췌한 내용입니다.\\\\n\\\\n[법률조항]\\\\n제98조(기숙사 생활의 보장) ① 사용자는 사업 '\n",
      " '또는 사업장의 부속 기숙사에 기숙하는 근로자의 사생활의 자유를 침해\\\\n하지 못한다.\\\\n② 사용자는 기숙사 생활의 자치에 필요한 임원 '\n",
      " \"선거에 간섭하지 못한다.'), Document(metadata={'chapter': '제10장 기숙사', 'name': \"\n",
      " \"'근로기준법', 'source': 'data/근로기준법(법률)(제18176호)(20211119).pdf'}, \"\n",
      " \"page_content='[법률정보]\\\\n다음 조항은 근로기준법 제10장 기숙사에서 발췌한 \"\n",
      " '내용입니다.\\\\n\\\\n[법률조항]\\\\n제98조(기숙사 생활의 보장) ① 사용자는 사업 또는 사업장의 부속 기숙사에 기숙하는 근로자의 '\n",
      " \"사생활의 자유를 침해\\\\n하지 못한다.\\\\n② 사용자는 기숙사 생활의 자치에 필요한 임원 선거에 간섭하지 못한다.')]}\")\n",
      "\n",
      "----------------------------------------------------------\n",
      "\n",
      "---정보 추출 및 평가---\n",
      "\"Node 'extract_and_evaluate':\"\n",
      "\"Value: {'num_generations': 1, 'extracted_info': []}\"\n",
      "\n",
      "----------------------------------------------------------\n",
      "\n",
      "---쿼리 재작성---\n",
      "\"Node 'rewrite_query':\"\n",
      "\"Value: {'rewritten_query': '첫 출근 전 해고 가능성 및 법적 기준'}\"\n",
      "\n",
      "----------------------------------------------------------\n",
      "\n",
      "---문서 검색---\n",
      "\"Node 'retrieve':\"\n",
      "(\"Value: {'documents': [Document(metadata={'chapter': '제10장 기숙사', 'name': \"\n",
      " \"'근로기준법', 'source': 'data/근로기준법(법률)(제18176호)(20211119).pdf'}, \"\n",
      " \"page_content='[법률정보]\\\\n다음 조항은 근로기준법 제10장 기숙사에서 발췌한 \"\n",
      " '내용입니다.\\\\n\\\\n[법률조항]\\\\n제98조(기숙사 생활의 보장) ① 사용자는 사업 또는 사업장의 부속 기숙사에 기숙하는 근로자의 '\n",
      " \"사생활의 자유를 침해\\\\n하지 못한다.\\\\n② 사용자는 기숙사 생활의 자치에 필요한 임원 선거에 간섭하지 못한다.'), \"\n",
      " \"Document(metadata={'chapter': '제10장 기숙사', 'name': '근로기준법', 'source': \"\n",
      " \"'data/근로기준법(법률)(제18176호)(20211119).pdf'}, page_content='[법률정보]\\\\n다음 조항은 \"\n",
      " '근로기준법 제10장 기숙사에서 발췌한 내용입니다.\\\\n\\\\n[법률조항]\\\\n제98조(기숙사 생활의 보장) ① 사용자는 사업 '\n",
      " '또는 사업장의 부속 기숙사에 기숙하는 근로자의 사생활의 자유를 침해\\\\n하지 못한다.\\\\n② 사용자는 기숙사 생활의 자치에 필요한 임원 '\n",
      " \"선거에 간섭하지 못한다.'), Document(metadata={'chapter': '제10장 기숙사', 'name': \"\n",
      " \"'근로기준법', 'source': 'data/근로기준법(법률)(제18176호)(20211119).pdf'}, \"\n",
      " \"page_content='[법률정보]\\\\n다음 조항은 근로기준법 제10장 기숙사에서 발췌한 \"\n",
      " '내용입니다.\\\\n\\\\n[법률조항]\\\\n제98조(기숙사 생활의 보장) ① 사용자는 사업 또는 사업장의 부속 기숙사에 기숙하는 근로자의 '\n",
      " \"사생활의 자유를 침해\\\\n하지 못한다.\\\\n② 사용자는 기숙사 생활의 자치에 필요한 임원 선거에 간섭하지 못한다.')]}\")\n",
      "\n",
      "----------------------------------------------------------\n",
      "\n",
      "---정보 추출 및 평가---\n",
      "\"Node 'extract_and_evaluate':\"\n",
      "\"Value: {'num_generations': 2, 'extracted_info': []}\"\n",
      "\n",
      "----------------------------------------------------------\n",
      "\n",
      "---답변 생성---\n",
      "\"Node 'generate_answer':\"\n",
      "(\"Value: {'node_answer': '# 첫 출근 이전 해고 가능성에 대한 답변\\\\n\\\\n1. **질문에 대한 직접적인 \"\n",
      " '답변**\\\\n   첫 출근 이전에도 해고가 가능합니다. 그러나 이 경우에도 해고 사유와 절차가 적법해야 하며, 채용 내정자에게 불이익을 '\n",
      " '주지 않도록 주의해야 합니다.\\\\n\\\\n2. **관련 법률 조항 및 해석**\\\\n   근로기준법 제23조에 따르면, 근로계약은 근로자가 '\n",
      " '근로를 제공하기로 약정한 경우에 성립합니다. 따라서 첫 출근 이전에는 근로계약이 체결되지 않았다고 볼 수 있으며, 이 경우 해고가 '\n",
      " '가능하다고 해석됩니다. 그러나 해고 사유가 정당해야 하며, 부당한 해고는 법적으로 문제가 될 수 있습니다 (출처: 근로기준법 '\n",
      " '제23조).\\\\n\\\\n3. **추가 설명 또는 예시**\\\\n   예를 들어, 회사가 경영상의 이유로 인해 채용 내정자를 해고하는 경우, '\n",
      " '해당 사유가 객관적으로 정당해야 합니다. 만약 회사가 재정적으로 어려운 상황에 처해 있다면, 이를 해고 사유로 삼을 수 있습니다. 그러나 '\n",
      " '이 경우에도 채용 내정자에게 사전 통지 및 설명을 제공하는 것이 바람직합니다.\\\\n\\\\n4. **결론 및 요약**\\\\n   첫 출근 '\n",
      " '이전에도 해고는 가능하지만, 해고 사유가 정당해야 하며, 근로계약이 체결되지 않은 상태에서의 해고는 법적으로 문제가 될 수 있습니다. '\n",
      " \"따라서 회사는 해고 결정을 내리기 전에 신중하게 고려해야 합니다 (출처: 근로기준법 제23조).'}\")\n",
      "\n",
      "----------------------------------------------------------\n",
      "\n"
     ]
    }
   ],
   "source": [
    "inputs = {\"question\": \"첫 출근 이전에도 해고를 시킬 수 있나요?  회사가 어려워져 채용 내정자를 채용하지 못할 것 같습니다.\"}\n",
    "for output in labor_law_agent.stream(inputs):\n",
    "    for key, value in output.items():\n",
    "        # 노드 출력\n",
    "        pprint(f\"Node '{key}':\")\n",
    "        pprint(f\"Value: {value}\", indent=2, width=80, depth=None)\n",
    "    print(\"\\n----------------------------------------------------------\\n\")"
   ]
  },
  {
   "cell_type": "code",
   "execution_count": null,
   "id": "04814fd7",
   "metadata": {},
   "outputs": [
    {
     "name": "stdout",
     "output_type": "stream",
     "text": [
      "# 첫 출근 이전 해고 가능성에 대한 답변\n",
      "\n",
      "1. **질문에 대한 직접적인 답변**\n",
      "   첫 출근 이전에도 해고가 가능합니다. 그러나 이 경우에도 해고 사유와 절차가 적법해야 하며, 채용 내정자에게 불이익을 주지 않도록 주의해야 합니다.\n",
      "\n",
      "2. **관련 법률 조항 및 해석**\n",
      "   근로기준법 제23조에 따르면, 근로계약은 근로자가 근로를 제공하기로 약정한 경우에 성립합니다. 따라서 첫 출근 이전에는 근로계약이 체결되지 않았다고 볼 수 있으며, 이 경우 해고가 가능하다고 해석됩니다. 그러나 해고 사유가 정당해야 하며, 부당한 해고는 법적으로 문제가 될 수 있습니다 (출처: 근로기준법 제23조).\n",
      "\n",
      "3. **추가 설명 또는 예시**\n",
      "   예를 들어, 회사가 경영상의 이유로 인해 채용 내정자를 해고하는 경우, 해당 사유가 객관적으로 정당해야 합니다. 만약 회사가 재정적으로 어려운 상황에 처해 있다면, 이를 해고 사유로 삼을 수 있습니다. 그러나 이 경우에도 채용 내정자에게 사전 통지 및 설명을 제공하는 것이 바람직합니다.\n",
      "\n",
      "4. **결론 및 요약**\n",
      "   첫 출근 이전에도 해고는 가능하지만, 해고 사유가 정당해야 하며, 근로계약이 체결되지 않은 상태에서의 해고는 법적으로 문제가 될 수 있습니다. 따라서 회사는 해고 결정을 내리기 전에 신중하게 고려해야 합니다 (출처: 근로기준법 제23조).\n"
     ]
    }
   ],
   "source": [
    "print(value['node_answer'])"
   ]
  },
  {
   "cell_type": "markdown",
   "id": "972f8229",
   "metadata": {},
   "source": [
    "`(3) 산업안전보건법 RAG 에이전트`"
   ]
  },
  {
   "cell_type": "code",
   "execution_count": null,
   "id": "237b42e2",
   "metadata": {},
   "outputs": [],
   "source": [
    "# 산업안전보건법 \n",
    "class OSHCRagState(CorrectiveRagState):\n",
    "    rewritten_query: str   # 재작성한 질문 \n",
    "    extracted_info: Optional[ExtractedInformation]   # 추출된 정보 조각 \n",
    "    node_answer: Optional[str] "
   ]
  },
  {
   "cell_type": "code",
   "execution_count": null,
   "id": "47f842dc",
   "metadata": {},
   "outputs": [],
   "source": [
    "from langchain_core.prompts import ChatPromptTemplate\n",
    "from typing import Literal\n",
    "\n",
    "def retrieve_documents(state: OSHCRagState) -> OSHCRagState:\n",
    "    print(\"---문서 검색---\")\n",
    "    query = state.get(\"rewritten_query\", state[\"question\"])\n",
    "    docs = oshc_law_search.invoke(query)\n",
    "    return {\"documents\": docs}\n",
    "\n",
    "def extract_and_evaluate_information(state: OSHCRagState) -> OSHCRagState:\n",
    "    print(\"---정보 추출 및 평가---\")\n",
    "    extracted_strips = []\n",
    "\n",
    "    for doc in state[\"documents\"]:\n",
    "        extract_prompt = ChatPromptTemplate.from_messages([\n",
    "            (\"system\", \"\"\"당신은 산업안전보건법  전문가입니다. 주어진 문서에서 질문과 관련된 주요 사실과 정보를 3~5개 정도 추출하세요. \n",
    "            각 추출된 정보에 대해 다음 두 가지 측면을 0에서 1 사이의 점수로 평가하세요:\n",
    "            1. 질문과의 관련성\n",
    "            2. 답변의 충실성 (질문에 대한 완전하고 정확한 답변을 제공할 수 있는 정도)\n",
    "            \n",
    "            추출 형식:\n",
    "            1. [추출된 정보]\n",
    "            - 관련성 점수: [0-1 사이의 점수]\n",
    "            - 충실성 점수: [0-1 사이의 점수]\n",
    "            2. [추출된 정보]\n",
    "            - 관련성 점수: [0-1 사이의 점수]\n",
    "            - 충실성 점수: [0-1 사이의 점수]\n",
    "            ...\n",
    "            \n",
    "            마지막으로, 추출된 정보를 종합하여 질문에 대한 전반적인 답변 가능성을 0에서 1 사이의 점수로 평가하세요.\"\"\"),\n",
    "            (\"human\", \"[질문]\\n{question}\\n\\n[문서 내용]\\n{document_content}\")\n",
    "        ])\n",
    "\n",
    "        extract_llm = llm.with_structured_output(ExtractedInformation)\n",
    "\n",
    "        extracted_data = extract_llm.invoke(extract_prompt.format(\n",
    "            question=state[\"question\"],\n",
    "            document_content=doc.page_content\n",
    "        ))\n",
    "\n",
    "        if extracted_data.query_relevance < 0.8:\n",
    "            continue\n",
    "\n",
    "        for strip in extracted_data.strips:\n",
    "            if strip.relevance_score > 0.7 and strip.faithfulness_score > 0.7:\n",
    "                extracted_strips.append(strip)\n",
    "\n",
    "    return {\n",
    "        \"extracted_info\": extracted_strips,\n",
    "        \"num_generations\": state.get(\"num_generations\", 0) + 1\n",
    "    }\n",
    "\n",
    "def rewrite_query(state: OSHCRagState) -> OSHCRagState:\n",
    "    print(\"---쿼리 재작성---\")\n",
    "\n",
    "    rewrite_prompt = ChatPromptTemplate.from_messages([\n",
    "        (\"system\", \"\"\"당신은 산업안전보건법 전문가입니다. 주어진 원래 질문과 추출된 정보를 바탕으로, 더 관련성 있고 충실한 정보를 찾기 위해 검색 쿼리를 개선해주세요.\n",
    "\n",
    "        다음 사항을 고려하여 검색 쿼리를 개선하세요:\n",
    "        1. 원래 질문의 핵심 요소\n",
    "        2. 추출된 정보의 관련성 점수\n",
    "        3. 추출된 정보의 충실성 점수\n",
    "        4. 부족한 정보나 더 자세히 알아야 할 부분\n",
    "\n",
    "        개선된 검색 쿼리 작성 단계:\n",
    "        1. 2-3개의 검색 쿼리를 제안하세요.\n",
    "        2. 각 쿼리는 구체적이고 간결해야 합니다(5-10 단어 사이).\n",
    "        3. 주택임대차보호법과 관련된 전문 용어를 적절히 활용하세요.\n",
    "        4. 각 쿼리 뒤에는 해당 쿼리를 제안한 이유를 간단히 설명하세요.\n",
    "\n",
    "        출력 형식:\n",
    "        1. [개선된 검색 쿼리 1]\n",
    "        - 이유: [이 쿼리를 제안한 이유 설명]\n",
    "        2. [개선된 검색 쿼리 2]\n",
    "        - 이유: [이 쿼리를 제안한 이유 설명]\n",
    "        3. [개선된 검색 쿼리 3]\n",
    "        - 이유: [이 쿼리를 제안한 이유 설명]\n",
    "\n",
    "        마지막으로, 제안된 쿼리 중 가장 효과적일 것 같은 쿼리를 선택하고 그 이유를 설명하세요.\"\"\"),\n",
    "        (\"human\", \"원래 질문: {question}\\n\\n추출된 정보:\\n{extracted_info}\\n\\n위 지침에 따라 개선된 검색 쿼리를 작성해주세요.\")\n",
    "    ])\n",
    "\n",
    "    extracted_info_str = \"\\n\".join([strip.content for strip in state[\"extracted_info\"]])\n",
    "    \n",
    "    rewrite_llm = llm.with_structured_output(RefinedQuestion)\n",
    "\n",
    "    response = rewrite_llm.invoke(rewrite_prompt.format(\n",
    "        question=state[\"question\"],\n",
    "        extracted_info=extracted_info_str\n",
    "    ))\n",
    "    \n",
    "    return {\"rewritten_query\": response.question_refined}\n",
    "\n",
    "def generate_node_answer(state: OSHCRagState) -> OSHCRagState:\n",
    "    print(\"---답변 생성---\")\n",
    "\n",
    "    answer_prompt = ChatPromptTemplate.from_messages([\n",
    "        (\"system\", \"\"\"당신은 산업안전보건법 전문가입니다. 주어진 질문과 추출된 정보를 바탕으로 답변을 생성해주세요. \n",
    "        답변은 마크다운 형식으로 작성하며, 각 정보의 출처를 명확히 표시해야 합니다. \n",
    "        답변 구조:\n",
    "        1. 질문에 대한 직접적인 답변\n",
    "        2. 관련 법률 조항 및 해석\n",
    "        3. 추가 설명 또는 예시 (필요한 경우)\n",
    "        4. 결론 및 요약\n",
    "        각 섹션에서 사용된 정보의 출처를 괄호 안에 명시하세요. 예: (출처: 산업안전보건법  제15조)\"\"\"),\n",
    "        (\"human\", \"질문: {question}\\n\\n추출된 정보:\\n{extracted_info}\\n\\n위 지침에 따라 최종 답변을 작성해주세요.\")\n",
    "    ])\n",
    "\n",
    "    extracted_info_str = \"\\n\".join([f\"내용: {strip.content}\\n출처: {strip.source}\\n관련성: {strip.relevance_score}\\n충실성: {strip.faithfulness_score}\" for strip in state[\"extracted_info\"]])\n",
    "\n",
    "    node_answer = llm.invoke(answer_prompt.format(\n",
    "        question=state[\"question\"],\n",
    "        extracted_info=extracted_info_str\n",
    "    ))\n",
    "\n",
    "    return {\"node_answer\": node_answer.content}\n",
    "\n",
    "def should_continue(state: OSHCRagState) -> Literal[\"계속\", \"종료\"]:\n",
    "    if state[\"num_generations\"] >= 2:\n",
    "        return \"종료\"\n",
    "    if len(state[\"extracted_info\"]) >= 1:\n",
    "        return \"종료\"\n",
    "    return \"계속\""
   ]
  },
  {
   "cell_type": "code",
   "execution_count": null,
   "id": "8a48565a",
   "metadata": {},
   "outputs": [
    {
     "data": {
      "image/jpeg": "[encoded data removed]",
      "text/plain": [
       "<IPython.core.display.Image object>"
      ]
     },
     "metadata": {},
     "output_type": "display_data"
    }
   ],
   "source": [
    "from langgraph.graph import StateGraph, START, END\n",
    "from IPython.display import Image, display\n",
    "\n",
    "# 그래프 생성\n",
    "workflow = StateGraph(OSHCRagState)\n",
    "\n",
    "# 노드 추가\n",
    "workflow.add_node(\"retrieve\", retrieve_documents)\n",
    "workflow.add_node(\"extract_and_evaluate\", extract_and_evaluate_information)\n",
    "workflow.add_node(\"rewrite_query\", rewrite_query)\n",
    "workflow.add_node(\"generate_answer\", generate_node_answer)\n",
    "\n",
    "\n",
    "# 엣지 추가\n",
    "workflow.add_edge(START, \"retrieve\")\n",
    "workflow.add_edge(\"retrieve\", \"extract_and_evaluate\")\n",
    "\n",
    "# 조건부 엣지 추가\n",
    "workflow.add_conditional_edges(\n",
    "    \"extract_and_evaluate\",\n",
    "    should_continue,\n",
    "    {\n",
    "        \"계속\": \"rewrite_query\",\n",
    "        \"종료\": \"generate_answer\"\n",
    "    }\n",
    ")\n",
    "workflow.add_edge(\"rewrite_query\", \"retrieve\")\n",
    "workflow.add_edge(\"generate_answer\", END)\n",
    "\n",
    "# 그래프 컴파일\n",
    "oshc_law_agent = workflow.compile()\n",
    "\n",
    "# 그래프 시각화\n",
    "display(Image(oshc_law_agent.get_graph().draw_mermaid_png()))"
   ]
  },
  {
   "cell_type": "code",
   "execution_count": null,
   "id": "b2bc9a7d",
   "metadata": {},
   "outputs": [
    {
     "name": "stdout",
     "output_type": "stream",
     "text": [
      "---문서 검색---\n",
      "\"Node 'retrieve':\"\n",
      "(\"Value: {'documents': [Document(metadata={'chapter': '제4장 유해ㆍ위험 방지 조치', \"\n",
      " \"'name': '산업안전보건법', 'source': 'data/산업안전보건법(법률)(제19591호)(20240517).pdf'}, \"\n",
      " \"page_content='[법률정보]\\\\n다음 조항은 산업안전보건법 제4장 유해ㆍ위험 방지 조치에서 발췌한 \"\n",
      " '내용입니다.\\\\n\\\\n[법률조항]\\\\n제57조(산업재해 발생 은폐 금지 및 보고 등) ① 사업주는 산업재해가 발생하였을 때에는 그 발생 '\n",
      " '사실을 은폐해서는\\\\n아니 된다.\\\\n② 사업주는 고용노동부령으로 정하는 바에 따라 산업재해의 발생 원인 등을 기록하여 보존하여야 '\n",
      " '한다.\\\\n③ 사업주는 고용노동부령으로 정하는 산업재해에 대해서는 그 발생 개요ㆍ원인 및 보고 시기, 재발방지 계획 '\n",
      " \"등을\\\\n고용노동부령으로 정하는 바에 따라 고용노동부장관에게 보고하여야 한다.'), Document(metadata={'chapter': \"\n",
      " \"'제4장 유해ㆍ위험 방지 조치', 'name': '산업안전보건법', 'source': \"\n",
      " \"'data/산업안전보건법(법률)(제19591호)(20240517).pdf'}, page_content='[법률정보]\\\\n다음 조항은 \"\n",
      " '산업안전보건법 제4장 유해ㆍ위험 방지 조치에서 발췌한 내용입니다.\\\\n\\\\n[법률조항]\\\\n제57조(산업재해 발생 은폐 금지 및 보고 '\n",
      " '등) ① 사업주는 산업재해가 발생하였을 때에는 그 발생 사실을 은폐해서는\\\\n아니 된다.\\\\n② 사업주는 고용노동부령으로 정하는 바에 '\n",
      " '따라 산업재해의 발생 원인 등을 기록하여 보존하여야 한다.\\\\n③ 사업주는 고용노동부령으로 정하는 산업재해에 대해서는 그 발생 개요ㆍ원인 '\n",
      " \"및 보고 시기, 재발방지 계획 등을\\\\n고용노동부령으로 정하는 바에 따라 고용노동부장관에게 보고하여야 한다.'), \"\n",
      " \"Document(metadata={'chapter': '제4장 유해ㆍ위험 방지 조치', 'name': '산업안전보건법', \"\n",
      " \"'source': 'data/산업안전보건법(법률)(제19591호)(20240517).pdf'}, \"\n",
      " \"page_content='[법률정보]\\\\n다음 조항은 산업안전보건법 제4장 유해ㆍ위험 방지 조치에서 발췌한 \"\n",
      " '내용입니다.\\\\n\\\\n[법률조항]\\\\n제57조(산업재해 발생 은폐 금지 및 보고 등) ① 사업주는 산업재해가 발생하였을 때에는 그 발생 '\n",
      " '사실을 은폐해서는\\\\n아니 된다.\\\\n② 사업주는 고용노동부령으로 정하는 바에 따라 산업재해의 발생 원인 등을 기록하여 보존하여야 '\n",
      " '한다.\\\\n③ 사업주는 고용노동부령으로 정하는 산업재해에 대해서는 그 발생 개요ㆍ원인 및 보고 시기, 재발방지 계획 '\n",
      " \"등을\\\\n고용노동부령으로 정하는 바에 따라 고용노동부장관에게 보고하여야 한다.')]}\")\n",
      "\n",
      "----------------------------------------------------------\n",
      "\n",
      "---정보 추출 및 평가---\n",
      "\"Node 'extract_and_evaluate':\"\n",
      "(\"Value: {'num_generations': 1, 'extracted_info': \"\n",
      " \"[InformationStrip(content='사업주는 고용노동부령으로 정하는 바에 따라 산업재해의 발생 원인 등을 기록하여 보존하여야 \"\n",
      " \"한다.', source='산업안전보건법 제57조 ②항', relevance_score=0.9, \"\n",
      " \"faithfulness_score=0.8), InformationStrip(content='사업주는 고용노동부령으로 정하는 산업재해에 \"\n",
      " \"대해서는 그 발생 개요ㆍ원인 및 보고 시기, 재발방지 계획 등을 고용노동부령으로 정하는 바에 따라 고용노동부장관에게 보고하여야 한다.', \"\n",
      " \"source='산업안전보건법 제57조 ③항', relevance_score=0.95, faithfulness_score=0.9), \"\n",
      " \"InformationStrip(content='사업주는 고용노동부령으로 정하는 바에 따라 산업재해의 발생 원인 등을 기록하여 보존하여야 \"\n",
      " \"한다.', source='산업안전보건법 제57조 ②항', relevance_score=0.9, \"\n",
      " \"faithfulness_score=0.8), InformationStrip(content='사업주는 고용노동부령으로 정하는 산업재해에 \"\n",
      " \"대해서는 그 발생 개요ㆍ원인 및 보고 시기, 재발방지 계획 등을 고용노동부장관에게 보고하여야 한다.', source='산업안전보건법 \"\n",
      " \"제57조 ③항', relevance_score=0.95, faithfulness_score=0.9), \"\n",
      " \"InformationStrip(content='사업주는 고용노동부령으로 정하는 바에 따라 산업재해의 발생 원인 등을 기록하여 보존하여야 \"\n",
      " \"한다.', source='산업안전보건법 제57조 ②항', relevance_score=0.9, \"\n",
      " \"faithfulness_score=0.8), InformationStrip(content='사업주는 고용노동부령으로 정하는 산업재해에 \"\n",
      " \"대해서는 그 발생 개요ㆍ원인 및 보고 시기, 재발방지 계획 등을 고용노동부령으로 정하는 바에 따라 고용노동부장관에게 보고하여야 한다.', \"\n",
      " \"source='산업안전보건법 제57조 ③항', relevance_score=0.95, faithfulness_score=0.9)]}\")\n",
      "\n",
      "----------------------------------------------------------\n",
      "\n",
      "---답변 생성---\n",
      "\"Node 'generate_answer':\"\n",
      "(\"Value: {'node_answer': '# 출근 시 교통사고로 인한 산재처리와 산업재해조사표 제출 여부\\\\n\\\\n## 1. 질문에 \"\n",
      " '대한 직접적인 답변\\\\n출근 시 발생한 교통사고로 인해 산재처리를 하였다면, 산업재해조사표를 제출해야 합니다. 사업주는 해당 사고에 대한 '\n",
      " '발생 개요와 원인 등을 기록하고, 이를 고용노동부장관에게 보고해야 할 의무가 있습니다.\\\\n\\\\n## 2. 관련 법률 조항 및 '\n",
      " '해석\\\\n- **산업안전보건법 제57조 ②항**: \"사업주는 고용노동부령으로 정하는 바에 따라 산업재해의 발생 원인 등을 기록하여 '\n",
      " '보존하여야 한다.\"\\\\n- **산업안전보건법 제57조 ③항**: \"사업주는 고용노동부령으로 정하는 산업재해에 대해서는 그 발생 개요ㆍ원인 '\n",
      " '및 보고 시기, 재발방지 계획 등을 고용노동부령으로 정하는 바에 따라 고용노동부장관에게 보고하여야 한다.\"\\\\n\\\\n이 조항들은 사업주가 '\n",
      " '산업재해 발생 시 그 원인과 경과를 기록하고, 이를 관련 기관에 보고할 의무가 있음을 명시하고 있습니다.\\\\n\\\\n## 3. 추가 설명 '\n",
      " '또는 예시\\\\n산업재해조사표는 사고의 발생 원인, 경과, 재발 방지 대책 등을 포함하여 작성해야 하며, 이는 고용노동부의 지침에 따라 '\n",
      " '이루어져야 합니다. 예를 들어, 출근길에 발생한 교통사고의 경우, 사고의 경위와 원인, 그리고 향후 유사 사고를 방지하기 위한 대책을 '\n",
      " '포함하여 보고해야 합니다.\\\\n\\\\n## 4. 결론 및 요약\\\\n출근 시 발생한 교통사고로 산재처리를 한 경우, 사업주는 산업재해조사표를 '\n",
      " '작성하여 고용노동부장관에게 제출해야 합니다. 이는 법적으로 요구되는 의무이며, 사고의 원인과 재발 방지 대책을 포함해야 합니다. 따라서, '\n",
      " \"관련 법률을 준수하여 적절한 절차를 이행하는 것이 중요합니다. (출처: 산업안전보건법 제57조)'}\")\n",
      "\n",
      "----------------------------------------------------------\n",
      "\n"
     ]
    }
   ],
   "source": [
    "inputs = {\"question\": \"출근시 교통사고로 산재처리를 했는데, 산업재해조사표를 제출해야하나요?\"}\n",
    "for output in oshc_law_agent.stream(inputs):\n",
    "    for key, value in output.items():\n",
    "        # 노드 출력\n",
    "        pprint(f\"Node '{key}':\")\n",
    "        pprint(f\"Value: {value}\", indent=2, width=80, depth=None)\n",
    "    print(\"\\n----------------------------------------------------------\\n\")"
   ]
  },
  {
   "cell_type": "code",
   "execution_count": null,
   "id": "e0c9725e",
   "metadata": {},
   "outputs": [
    {
     "name": "stdout",
     "output_type": "stream",
     "text": [
      "# 출근 시 교통사고로 인한 산재처리와 산업재해조사표 제출 여부\n",
      "\n",
      "## 1. 질문에 대한 직접적인 답변\n",
      "출근 시 발생한 교통사고로 인해 산재처리를 하였다면, 산업재해조사표를 제출해야 합니다. 사업주는 해당 사고에 대한 발생 개요와 원인 등을 기록하고, 이를 고용노동부장관에게 보고해야 할 의무가 있습니다.\n",
      "\n",
      "## 2. 관련 법률 조항 및 해석\n",
      "- **산업안전보건법 제57조 ②항**: \"사업주는 고용노동부령으로 정하는 바에 따라 산업재해의 발생 원인 등을 기록하여 보존하여야 한다.\"\n",
      "- **산업안전보건법 제57조 ③항**: \"사업주는 고용노동부령으로 정하는 산업재해에 대해서는 그 발생 개요ㆍ원인 및 보고 시기, 재발방지 계획 등을 고용노동부령으로 정하는 바에 따라 고용노동부장관에게 보고하여야 한다.\"\n",
      "\n",
      "이 조항들은 사업주가 산업재해 발생 시 그 원인과 경과를 기록하고, 이를 관련 기관에 보고할 의무가 있음을 명시하고 있습니다.\n",
      "\n",
      "## 3. 추가 설명 또는 예시\n",
      "산업재해조사표는 사고의 발생 원인, 경과, 재발 방지 대책 등을 포함하여 작성해야 하며, 이는 고용노동부의 지침에 따라 이루어져야 합니다. 예를 들어, 출근길에 발생한 교통사고의 경우, 사고의 경위와 원인, 그리고 향후 유사 사고를 방지하기 위한 대책을 포함하여 보고해야 합니다.\n",
      "\n",
      "## 4. 결론 및 요약\n",
      "출근 시 발생한 교통사고로 산재처리를 한 경우, 사업주는 산업재해조사표를 작성하여 고용노동부장관에게 제출해야 합니다. 이는 법적으로 요구되는 의무이며, 사고의 원인과 재발 방지 대책을 포함해야 합니다. 따라서, 관련 법률을 준수하여 적절한 절차를 이행하는 것이 중요합니다. (출처: 산업안전보건법 제57조)\n"
     ]
    }
   ],
   "source": [
    "print(value['node_answer'])"
   ]
  },
  {
   "cell_type": "markdown",
   "id": "d936da24",
   "metadata": {},
   "source": [
    "*산업안전보건법 + 산업재해보상보험법은 보통 같이 참조하여 가지고 오므로 두개를 같은 노드에 넣어도 될듯"
   ]
  },
  {
   "cell_type": "markdown",
   "id": "67a294b3",
   "metadata": {},
   "source": [
    "`(4) 웹 검색 기반 RAG 에이전트`"
   ]
  },
  {
   "cell_type": "code",
   "execution_count": null,
   "id": "2643ebaa",
   "metadata": {},
   "outputs": [],
   "source": [
    "# 웹 검색 도구 \n",
    "class SearchRagState(CorrectiveRagState):\n",
    "    rewritten_query: str   # 재작성한 질문 \n",
    "    extracted_info: Optional[ExtractedInformation]   # 추출된 정보 조각 \n",
    "    node_answer: Optional[str] "
   ]
  },
  {
   "cell_type": "code",
   "execution_count": null,
   "id": "a6528951",
   "metadata": {},
   "outputs": [],
   "source": [
    "from langchain_core.prompts import ChatPromptTemplate\n",
    "from typing import Literal\n",
    "\n",
    "def retrieve_documents(state: SearchRagState) -> SearchRagState:\n",
    "    print(\"---문서 검색---\")\n",
    "    query = state.get(\"rewritten_query\", state[\"question\"])\n",
    "    docs = web_search.invoke(query)\n",
    "    return {\"documents\": docs}\n",
    "\n",
    "def extract_and_evaluate_information(state: SearchRagState) -> SearchRagState:\n",
    "    print(\"---정보 추출 및 평가---\")\n",
    "    extracted_strips = []\n",
    "\n",
    "    for doc in state[\"documents\"]:\n",
    "        extract_prompt = ChatPromptTemplate.from_messages([\n",
    "            (\"system\", \"\"\"당신은 인터넷 정보 검색 전문가입니다. 주어진 문서에서 질문과 관련된 주요 사실과 정보를 3~5개 정도 추출하세요. \n",
    "            각 추출된 정보에 대해 다음 두 가지 측면을 0에서 1 사이의 점수로 평가하세요:\n",
    "            1. 질문과의 관련성\n",
    "            2. 답변의 충실성 (질문에 대한 완전하고 정확한 답변을 제공할 수 있는 정도)\n",
    "            \n",
    "            추출 형식:\n",
    "            1. [추출된 정보]\n",
    "            - 관련성 점수: [0-1 사이의 점수]\n",
    "            - 충실성 점수: [0-1 사이의 점수]\n",
    "            2. [추출된 정보]\n",
    "            - 관련성 점수: [0-1 사이의 점수]\n",
    "            - 충실성 점수: [0-1 사이의 점수]\n",
    "            ...\n",
    "            \n",
    "            마지막으로, 추출된 정보를 종합하여 질문에 대한 전반적인 답변 가능성을 0에서 1 사이의 점수로 평가하세요.\"\"\"),\n",
    "            (\"human\", \"[질문]\\n{question}\\n\\n[문서 내용]\\n{document_content}\")\n",
    "        ])\n",
    "\n",
    "        extract_llm = llm.with_structured_output(ExtractedInformation)\n",
    "\n",
    "        extracted_data = extract_llm.invoke(extract_prompt.format(\n",
    "            question=state[\"question\"],\n",
    "            document_content=doc.page_content\n",
    "        ))\n",
    "\n",
    "        if extracted_data.query_relevance < 0.8:\n",
    "            continue\n",
    "\n",
    "        for strip in extracted_data.strips:\n",
    "            if strip.relevance_score > 0.7 and strip.faithfulness_score > 0.7:\n",
    "                extracted_strips.append(strip)\n",
    "\n",
    "    return {\n",
    "        \"extracted_info\": extracted_strips,\n",
    "        \"num_generations\": state.get(\"num_generations\", 0) + 1\n",
    "    }\n",
    "\n",
    "def rewrite_query(state: SearchRagState) -> SearchRagState:\n",
    "    print(\"---쿼리 재작성---\")\n",
    "\n",
    "    rewrite_prompt = ChatPromptTemplate.from_messages([\n",
    "        (\"system\", \"\"\"당신은 인터넷 정보 검색 전문가입니다. 주어진 원래 질문과 추출된 정보를 바탕으로, 더 관련성 있고 충실한 정보를 찾기 위해 검색 쿼리를 개선해주세요.\n",
    "\n",
    "        다음 사항을 고려하여 검색 쿼리를 개선하세요:\n",
    "        1. 원래 질문의 핵심 요소\n",
    "        2. 추출된 정보의 관련성 점수\n",
    "        3. 추출된 정보의 충실성 점수\n",
    "        4. 부족한 정보나 더 자세히 알아야 할 부분\n",
    "\n",
    "        개선된 검색 쿼리 작성 단계:\n",
    "        1. 2-3개의 검색 쿼리를 제안하세요.\n",
    "        2. 각 쿼리는 구체적이고 간결해야 합니다(5-10 단어 사이).\n",
    "        3. 질문과 관련된 전문 용어를 적절히 활용하세요.\n",
    "        4. 각 쿼리 뒤에는 해당 쿼리를 제안한 이유를 간단히 설명하세요.\n",
    "\n",
    "        출력 형식:\n",
    "        1. [개선된 검색 쿼리 1]\n",
    "        - 이유: [이 쿼리를 제안한 이유 설명]\n",
    "        2. [개선된 검색 쿼리 2]\n",
    "        - 이유: [이 쿼리를 제안한 이유 설명]\n",
    "        3. [개선된 검색 쿼리 3]\n",
    "        - 이유: [이 쿼리를 제안한 이유 설명]\n",
    "\n",
    "        마지막으로, 제안된 쿼리 중 가장 효과적일 것 같은 쿼리를 선택하고 그 이유를 설명하세요.\"\"\"),\n",
    "        (\"human\", \"원래 질문: {question}\\n\\n추출된 정보:\\n{extracted_info}\\n\\n위 지침에 따라 개선된 검색 쿼리를 작성해주세요.\")\n",
    "    ])\n",
    "\n",
    "    extracted_info_str = \"\\n\".join([strip.content for strip in state[\"extracted_info\"]])\n",
    "    \n",
    "    rewrite_llm = llm.with_structured_output(RefinedQuestion)\n",
    "\n",
    "    response = rewrite_llm.invoke(rewrite_prompt.format(\n",
    "        question=state[\"question\"],\n",
    "        extracted_info=extracted_info_str\n",
    "    ))\n",
    "    \n",
    "    return {\"rewritten_query\": response.question_refined}\n",
    "\n",
    "def generate_node_answer(state: SearchRagState) -> SearchRagState:\n",
    "    print(\"---답변 생성---\")\n",
    "\n",
    "    answer_prompt = ChatPromptTemplate.from_messages([\n",
    "        (\"system\", \"\"\"당신은 인터넷 정보 검색 전문가입니다. 주어진 질문과 추출된 정보를 바탕으로 답변을 생성해주세요. \n",
    "        답변은 마크다운 형식으로 작성하며, 각 정보의 출처를 명확히 표시해야 합니다. \n",
    "        답변 구조:\n",
    "        1. 질문에 대한 직접적인 답변\n",
    "        2. 관련 출처 및 링크\n",
    "        3. 추가 설명 또는 예시 (필요한 경우)\n",
    "        4. 결론 및 요약\n",
    "        각 섹션에서 사용된 정보의 출처를 괄호 안에 명시하세요. 국가법령정보 사이트나 공신력있는 사이트에서만 가져오세요. 블로그제외 예: (출처: 국가법령정보 (https://www.law.go.kr/)\"\"\"),\n",
    "        (\"human\", \"질문: {question}\\n\\n추출된 정보:\\n{extracted_info}\\n\\n위 지침에 따라 최종 답변을 작성해주세요.\")\n",
    "    ])\n",
    "\n",
    "    extracted_info_str = \"\\n\".join([f\"내용: {strip.content}\\n출처: {strip.source}\\n관련성: {strip.relevance_score}\\n충실성: {strip.faithfulness_score}\" for strip in state[\"extracted_info\"]])\n",
    "\n",
    "    node_answer = llm.invoke(answer_prompt.format(\n",
    "        question=state[\"question\"],\n",
    "        extracted_info=extracted_info_str\n",
    "    ))\n",
    "\n",
    "    return {\"node_answer\": node_answer.content}\n",
    "\n",
    "def should_continue(state: SearchRagState) -> Literal[\"계속\", \"종료\"]:\n",
    "    if state[\"num_generations\"] >= 2:\n",
    "        return \"종료\"\n",
    "    if len(state[\"extracted_info\"]) >= 1:\n",
    "        return \"종료\"\n",
    "    return \"계속\""
   ]
  },
  {
   "cell_type": "code",
   "execution_count": null,
   "id": "c9c56461",
   "metadata": {},
   "outputs": [
    {
     "data": {
      "image/jpeg": "[encoded data removed]",
      "text/plain": [
       "<IPython.core.display.Image object>"
      ]
     },
     "metadata": {},
     "output_type": "display_data"
    }
   ],
   "source": [
    "from langgraph.graph import StateGraph, START, END\n",
    "from IPython.display import Image, display\n",
    "\n",
    "# 그래프 생성\n",
    "workflow = StateGraph(SearchRagState)\n",
    "\n",
    "# 노드 추가\n",
    "workflow.add_node(\"retrieve\", retrieve_documents)\n",
    "workflow.add_node(\"extract_and_evaluate\", extract_and_evaluate_information)\n",
    "workflow.add_node(\"rewrite_query\", rewrite_query)\n",
    "workflow.add_node(\"generate_answer\", generate_node_answer)\n",
    "\n",
    "\n",
    "# 엣지 추가\n",
    "workflow.add_edge(START, \"retrieve\")\n",
    "workflow.add_edge(\"retrieve\", \"extract_and_evaluate\")\n",
    "\n",
    "# 조건부 엣지 추가\n",
    "workflow.add_conditional_edges(\n",
    "    \"extract_and_evaluate\",\n",
    "    should_continue,\n",
    "    {\n",
    "        \"계속\": \"rewrite_query\",\n",
    "        \"종료\": \"generate_answer\"\n",
    "    }\n",
    ")\n",
    "workflow.add_edge(\"rewrite_query\", \"retrieve\")\n",
    "workflow.add_edge(\"generate_answer\", END)\n",
    "\n",
    "# 그래프 컴파일\n",
    "search_web_agent = workflow.compile()\n",
    "print(search_web_agent)\n",
    "\n",
    "# 그래프 시각화\n",
    "display(Image(search_web_agent.get_graph().draw_mermaid_png()))"
   ]
  },
  {
   "cell_type": "code",
   "execution_count": null,
   "id": "47d0e859",
   "metadata": {},
   "outputs": [
    {
     "name": "stdout",
     "output_type": "stream",
     "text": [
      "---문서 검색---\n",
      "\"Node 'retrieve':\"\n",
      "(\"Value: {'documents': [Document(metadata={'source': 'web search', 'url': \"\n",
      " \"'https://blog.naver.com/PostView.nhn?blogId=hope-pys&logNo=222687929063'}, \"\n",
      " \"page_content='<Document \"\n",
      " 'href=\"https://blog.naver.com/PostView.nhn?blogId=hope-pys&logNo=222687929063\"/>\\\\n출퇴근 '\n",
      " '교통사고, 산업재해조사표 제출 여부 , 제출 의무 : 네이버 블로그 NAVER 블로그 블로그 검색 블로그 주소 변경 불가 안내블로그 마켓 '\n",
      " '판매자의 이력 관리를 위해 블로그 주소 변경이 불가합니다. 블로그 아이디가 필요해요!블로그에서 진짜 나를 기록하고 블로그 아이디 만들기 '\n",
      " '블로그 아이디 만들기 레이어 닫기 설정한 아이디는 나중에 변경할 수 없으니 신중하게 입력해주세요. 변경 전 공유된 블로그/글/클립 링크는 '\n",
      " '연결이 끊길 수 있습니다. 블로그 도움말에서 아이디 변경 유의사항을 확인해보세요. 2. 블로그 아이디는 한번 변경하면 취소 확인 블로그 '\n",
      " '아이디는 한번 정하면 취소 확인 블로그 아이디가 만들어졌어요. 나중에 언제든지 변경할 수 있어요. 블로그 주제 주제 없음 블로그 시작하기 '\n",
      " '내 블로그  블로그 홈  프로필 사진 변경 블로그 전체 서비스 보기 네이버 주요 서비스 바로가기 설정전체 서비스 보기 네이버 MYBOX '\n",
      " \"블로그 VIBE_New_ 블로그 메뉴 프롤로그 블로그 안부 블로그\\\\n</Document>'), \"\n",
      " \"Document(metadata={'source': 'web search', 'url': \"\n",
      " \"'https://m.blog.naver.com/laborprofessional/222708939444'}, \"\n",
      " \"page_content='<Document \"\n",
      " 'href=\"https://m.blog.naver.com/laborprofessional/222708939444\"/>\\\\n산업안전보건법 '\n",
      " '제57조 및 동 시행규칙 제73조에 근거하여 3일 이상의 휴업이 필요한 산업재해가 발생한 경우 1개월 이내에 관할 노동청에 '\n",
      " '산업재해조사표를 제출해야 하고 이를 어긴 경우 1,500만원 이하의 과태료가 부과될 수 있습니다(산업재해보상보험법 제175조). 해당 '\n",
      " '별표에는 아래에 인용한 바와 같이 산업재해조사표를 제출하지 않은 경우와 거짓으로 보고한 경우를 나누어 과태료 부과 기준을 정하고 있고, '\n",
      " '사업장 외 교통사고 등 사업주의 법 위반을 직접적인 원인으로 발생한 산업재해가 아닌 것이 명백한 경우는 보고 대상에서 제외하고 있습니다. '\n",
      " '사업주가 제공한 교통수단을 통한 출퇴근 중 발생한 재해 : 산업재해조사표 제출 대상 O 사업주의 법위반에 기인하지 않은 것이 명백한 '\n",
      " '경우, 사적 교통수단으로 통상적인 경로와 방법으로 출퇴근 중 발생한 재해 : 산업재해조사표 제출 대상 X 출퇴근재해 #출퇴근산재 '\n",
      " '#산업재해조사표 #산업재해조사표과태료 #산업재해조사표제출 #출퇴근산재산업재해조사표 #출퇴근재해신고 #출퇴근산재보고 #노동청 #과태료 '\n",
      " '{\"title\":\"출퇴근재해, 산업재해조사표 제출해야 '\n",
      " '하는가?\",\"source\":\"https://blog.naver.com/laborprofessional/222708939444\",\"blogName\":\"노동법의 '\n",
      " '..\",\"blogId\":\"labors1\",\"domainIdOrBlogId\":\"laborprofessional\",\"nicknameOrBlogId\":\"Labor '\n",
      " 'Professional\",\"logNo\":222708939444,\"smartEditorVersion\":4,\"meDisplay\":true,\"lineDisplay\":true,\"outsideDisplay\":true,\"cafeDisplay\":true,\"blogDisplay\":true}\\\\n</Document>\\'), '\n",
      " \"Document(metadata={'source': 'web search', 'url': \"\n",
      " \"'https://m.blog.naver.com/log18485/222987924360'}, page_content='<Document \"\n",
      " 'href=\"https://m.blog.naver.com/log18485/222987924360\"/>\\\\n업무중 교통사고, 산업재해로 '\n",
      " '인정받으려면 확인하세요 : 네이버 블로그 진앤리 노동팀 사업주(회사)가 제공한 교통수단이나 그에 준하는 교통수단을 이용하고, 사업주의 '\n",
      " '지배 관리 아래에서 출퇴근하던 중에 발생한 사고\\\\u200b그 밖에 통상적인 경로, 방법을 통해 출퇴근하던 중 발생한 사고 출퇴근 혹은 '\n",
      " '업무중에 발생한 교통사고가 이러한 산재 인정 기준을 충족한다면 다양한 보상을 받을 수 있습니다. 그러므로 업무를 하던 중 일어난 사고에 '\n",
      " '대하여 적절한 보상을 받고자 하신다면, 산재로 인정을 받는 것이 가장 중요하기 때문에 근로자의 고의 및 그에 준하는 행위로 인하여 발생한 '\n",
      " '부상/질병/장해/사망 사고 회사의 근무 감독 하에 이동하던 중 발생한 사고 통상적인 경로를 통하여 이동하던 중 발생한 사고 위의 인정 '\n",
      " '기준에 해당해야만 산재 보상을 받으실 수 있으며, 이를 입증하기 위해서는 다음과 같은 내용들을 꼼꼼하게 준비하셔야 합니다. #진앤리 '\n",
      " '{\"title\":\"업무중 교통사고, 산업재해로 인정받으려면 '\n",
      " '확인하세요\",\"source\":\"https://blog.naver.com/log18485/222987924360\",\"blogName\":\"진·리 '\n",
      " '법률..\",\"blogId\":\"log18485\",\"domainIdOrBlogId\":\"log18485\",\"nicknameOrBlogId\":\"진앤리 '\n",
      " '노동팀\",\"logNo\":222987924360,\"smartEditorVersion\":4,\"lineDisplay\":true,\"outsideDisplay\":false,\"meDisplay\":true,\"cafeDisplay\":true,\"blogDisplay\":true}\\\\n</Document>\\')]}')\n",
      "\n",
      "----------------------------------------------------------\n",
      "\n",
      "---정보 추출 및 평가---\n",
      "\"Node 'extract_and_evaluate':\"\n",
      "(\"Value: {'num_generations': 1, 'extracted_info': \"\n",
      " \"[InformationStrip(content='출퇴근 중 발생한 교통사고는 산업재해로 인정될 수 있으며, 이 경우 산업재해조사표를 \"\n",
      " \"제출해야 할 의무가 있다.', source='출퇴근 교통사고, 산업재해조사표 제출 여부', relevance_score=0.9, \"\n",
      " \"faithfulness_score=0.9), InformationStrip(content='산업재해조사표는 산업재해 발생 시 근로자가 \"\n",
      " \"제출해야 하는 서류로, 사고의 경위와 피해 상황을 기록한다.', source='출퇴근 교통사고, 산업재해조사표 제출 여부', \"\n",
      " 'relevance_score=0.8, faithfulness_score=0.8), '\n",
      " \"InformationStrip(content='산업재해처리 절차에는 사고 발생 후 일정 기간 내에 조사표를 제출하는 것이 포함된다.', \"\n",
      " \"source='출퇴근 교통사고, 산업재해조사표 제출 여부', relevance_score=0.85, \"\n",
      " \"faithfulness_score=0.85), InformationStrip(content='3일 이상의 휴업이 필요한 산업재해가 발생한 \"\n",
      " \"경우 1개월 이내에 관할 노동청에 산업재해조사표를 제출해야 한다.', source='산업안전보건법 제57조 및 동 시행규칙 제73조', \"\n",
      " \"relevance_score=1.0, faithfulness_score=1.0), InformationStrip(content='사업주가 \"\n",
      " \"제공한 교통수단을 통한 출퇴근 중 발생한 재해는 산업재해조사표 제출 대상이다.', source='산업재해조사표 관련 규정', \"\n",
      " \"relevance_score=1.0, faithfulness_score=1.0), InformationStrip(content='사적 \"\n",
      " \"교통수단으로 통상적인 경로와 방법으로 출퇴근 중 발생한 재해는 산업재해조사표 제출 대상이 아니다.', source='산업재해조사표 관련 \"\n",
      " \"규정', relevance_score=1.0, faithfulness_score=1.0), \"\n",
      " \"InformationStrip(content='산업재해조사표를 제출하지 않은 경우 1,500만원 이하의 과태료가 부과될 수 있다.', \"\n",
      " \"source='산업재해보상보험법 제175조', relevance_score=0.8, faithfulness_score=0.8), \"\n",
      " \"InformationStrip(content='사업주의 법 위반에 기인하지 않은 것이 명백한 경우는 보고 대상에서 제외된다.', \"\n",
      " \"source='산업재해조사표 관련 규정', relevance_score=0.8, faithfulness_score=0.8), \"\n",
      " \"InformationStrip(content='업무중 교통사고가 산업재해로 인정받으려면 사업주가 제공한 교통수단을 이용하거나 사업주의 \"\n",
      " \"지배 관리 아래에서 출퇴근 중 발생해야 한다.', \"\n",
      " \"source='https://blog.naver.com/log18485/222987924360', relevance_score=0.9, \"\n",
      " \"faithfulness_score=0.9), InformationStrip(content='출퇴근 중 발생한 교통사고가 통상적인 경로와 \"\n",
      " \"방법을 통해 발생한 경우에도 산업재해로 인정받을 수 있다.', \"\n",
      " \"source='https://blog.naver.com/log18485/222987924360', relevance_score=0.85, \"\n",
      " \"faithfulness_score=0.85), InformationStrip(content='산재로 인정을 받기 위해서는 사고가 발생한 \"\n",
      " \"경위와 관련된 자료를 꼼꼼하게 준비해야 한다.', \"\n",
      " \"source='https://blog.naver.com/log18485/222987924360', relevance_score=0.8, \"\n",
      " \"faithfulness_score=0.8), InformationStrip(content='산재 보상을 받기 위해서는 근로자의 고의가 \"\n",
      " \"아닌 사고여야 하며, 회사의 근무 감독 하에 이동 중 발생한 사고여야 한다.', \"\n",
      " \"source='https://blog.naver.com/log18485/222987924360', relevance_score=0.75, \"\n",
      " 'faithfulness_score=0.75)]}')\n",
      "\n",
      "----------------------------------------------------------\n",
      "\n",
      "---답변 생성---\n",
      "\"Node 'generate_answer':\"\n",
      "(\"Value: {'node_answer': '## 출근 시 교통사고로 산재처리를 했는데, 산업재해조사표를 제출해야 하나요?\\\\n\\\\n출근 \"\n",
      " '중 발생한 교통사고는 산업재해로 인정될 수 있으며, 이 경우 산업재해조사표를 제출해야 할 의무가 있습니다. 특히, 3일 이상의 휴업이 '\n",
      " '필요한 산업재해가 발생한 경우에는 사고 발생 후 1개월 이내에 관할 노동청에 산업재해조사표를 제출해야 합니다.\\\\n\\\\n### 관련 출처 '\n",
      " '및 링크\\\\n- 산업안전보건법 제57조 및 동 시행규칙 제73조 (출처: 국가법령정보 '\n",
      " '(https://www.law.go.kr/))\\\\n- 산업재해보상보험법 제175조 (출처: 국가법령정보 '\n",
      " '(https://www.law.go.kr/))\\\\n\\\\n### 추가 설명\\\\n산업재해조사표는 산업재해 발생 시 근로자가 제출해야 하는 '\n",
      " '서류로, 사고의 경위와 피해 상황을 기록합니다. 사업주가 제공한 교통수단을 통한 출퇴근 중 발생한 재해는 반드시 산업재해조사표 제출 '\n",
      " '대상이 되며, 사적 교통수단으로 통상적인 경로와 방법으로 출퇴근 중 발생한 재해는 제출 대상이 아닙니다. 또한, 산업재해조사표를 제출하지 '\n",
      " '않은 경우에는 1,500만원 이하의 과태료가 부과될 수 있습니다.\\\\n\\\\n### 결론 및 요약\\\\n출근 시 교통사고로 인해 산업재해 '\n",
      " '처리를 하였다면, 반드시 산업재해조사표를 제출해야 합니다. 이는 법적으로 요구되는 절차이며, 제출하지 않을 경우 과태료가 부과될 수 '\n",
      " \"있습니다. 따라서 사고 발생 후 신속하게 필요한 서류를 준비하는 것이 중요합니다.'}\")\n",
      "\n",
      "----------------------------------------------------------\n",
      "\n"
     ]
    }
   ],
   "source": [
    "inputs = {\"question\": \"출근시 교통사고로 산재처리를 했는데, 산업재해조사표를 제출해야하나요?\"}\n",
    "for output in search_web_agent.stream(inputs):\n",
    "    for key, value in output.items():\n",
    "        # 노드 출력\n",
    "        pprint(f\"Node '{key}':\")\n",
    "        pprint(f\"Value: {value}\", indent=2, width=80, depth=None)\n",
    "    print(\"\\n----------------------------------------------------------\\n\")"
   ]
  },
  {
   "cell_type": "code",
   "execution_count": null,
   "id": "cdd93d75",
   "metadata": {},
   "outputs": [
    {
     "name": "stdout",
     "output_type": "stream",
     "text": [
      "## 출근 시 교통사고로 산재처리를 했는데, 산업재해조사표를 제출해야 하나요?\n",
      "\n",
      "출근 중 발생한 교통사고는 산업재해로 인정될 수 있으며, 이 경우 산업재해조사표를 제출해야 할 의무가 있습니다. 특히, 3일 이상의 휴업이 필요한 산업재해가 발생한 경우에는 사고 발생 후 1개월 이내에 관할 노동청에 산업재해조사표를 제출해야 합니다.\n",
      "\n",
      "### 관련 출처 및 링크\n",
      "- 산업안전보건법 제57조 및 동 시행규칙 제73조 (출처: 국가법령정보 (https://www.law.go.kr/))\n",
      "- 산업재해보상보험법 제175조 (출처: 국가법령정보 (https://www.law.go.kr/))\n",
      "\n",
      "### 추가 설명\n",
      "산업재해조사표는 산업재해 발생 시 근로자가 제출해야 하는 서류로, 사고의 경위와 피해 상황을 기록합니다. 사업주가 제공한 교통수단을 통한 출퇴근 중 발생한 재해는 반드시 산업재해조사표 제출 대상이 되며, 사적 교통수단으로 통상적인 경로와 방법으로 출퇴근 중 발생한 재해는 제출 대상이 아닙니다. 또한, 산업재해조사표를 제출하지 않은 경우에는 1,500만원 이하의 과태료가 부과될 수 있습니다.\n",
      "\n",
      "### 결론 및 요약\n",
      "출근 시 교통사고로 인해 산업재해 처리를 하였다면, 반드시 산업재해조사표를 제출해야 합니다. 이는 법적으로 요구되는 절차이며, 제출하지 않을 경우 과태료가 부과될 수 있습니다. 따라서 사고 발생 후 신속하게 필요한 서류를 준비하는 것이 중요합니다.\n"
     ]
    }
   ],
   "source": [
    "print(value['node_answer'])"
   ]
  },
  {
   "cell_type": "markdown",
   "id": "99cd6f08",
   "metadata": {},
   "source": [
    "### 4-2. 질문 라우팅 \n",
    "- 사용자의 질문을 분석하여 적절한 에이전트를 선택 (Adaptive RAG 적용)"
   ]
  },
  {
   "cell_type": "code",
   "execution_count": null,
   "id": "e444bb47",
   "metadata": {},
   "outputs": [],
   "source": [
    "from typing import Annotated\n",
    "from operator import add\n",
    "\n",
    "# 메인 그래프 상태 정의\n",
    "class ResearchAgentState(TypedDict):\n",
    "    question: str\n",
    "    answers: Annotated[List[str], add]\n",
    "    final_answer: str\n",
    "    datasources: List[str]\n",
    "    evaluation_report: Optional[dict]\n",
    "    user_decision: Optional[str]"
   ]
  },
  {
   "cell_type": "code",
   "execution_count": null,
   "id": "d9830629",
   "metadata": {},
   "outputs": [
    {
     "name": "stdout",
     "output_type": "stream",
     "text": [
      "tools=[ToolSelector(tool='search_personal')]\n",
      "tools=[ToolSelector(tool='search_labor'), ToolSelector(tool='search_web')]\n",
      "tools=[ToolSelector(tool='search_oshc'), ToolSelector(tool='search_web')]\n"
     ]
    }
   ],
   "source": [
    "from typing import Literal\n",
    "from langchain_core.prompts import ChatPromptTemplate\n",
    "from pydantic import BaseModel, Field\n",
    "\n",
    "# 라우팅 결정을 위한 데이터 모델\n",
    "class ToolSelector(BaseModel):\n",
    "    \"\"\"Routes the user question to the most appropriate tool.\"\"\"\n",
    "    tool: Literal[\"search_personal\", \"search_labor\", \"search_oshc\", \"search_web\"] = Field(\n",
    "        description=\"Select one of the tools, based on the user's question.\",\n",
    "    )\n",
    "\n",
    "class ToolSelectors(BaseModel):\n",
    "    \"\"\"Select the appropriate tools that are suitable for the user question.\"\"\"\n",
    "    tools: List[ToolSelector] = Field(\n",
    "        description=\"Select one or more tools, based on the user's question.\",\n",
    "    )\n",
    "\n",
    "# 구조화된 출력을 위한 LLM 설정\n",
    "structured_llm_tool_selector = llm.with_structured_output(ToolSelectors)\n",
    "\n",
    "# 라우팅을 위한 프롬프트 템플릿\n",
    "system = dedent(\"\"\"You are an AI assistant specializing in routing user questions to the appropriate tools.\n",
    "Use the following guidelines:\n",
    "- For questions specifically about legal provisions or articles of the company regulations law (취업규칙), use the search_personal tool.\n",
    "- For questions specifically about legal provisions or articles of the labor law (근로기준법), use the search_labor tool.\n",
    "- For questions specifically about legal provisions or articles of the Occupational Safety and Health law (산업안전보건법), use the search_oshc tool.\n",
    "- For any other information, including questions related to these laws but not directly about specific legal provisions, or for the most up-to-date data, use the search_web tool.\n",
    "Always choose all of the appropriate tools based on the user's question. \n",
    "If a question is about a law but doesn't seem to be asking about specific legal provisions, include both the relevant law search tool and the search_web tool.\"\"\")\n",
    "\n",
    "route_prompt = ChatPromptTemplate.from_messages(\n",
    "    [\n",
    "        (\"system\", system),\n",
    "        (\"human\", \"{question}\"),\n",
    "    ]\n",
    ")\n",
    "\n",
    "# 질문 라우터 정의\n",
    "question_tool_router = route_prompt | structured_llm_tool_selector\n",
    "\n",
    "# 테스트 실행\n",
    "print(question_tool_router.invoke({\"question\": \"취업규칙에서 선택적 근로시간제가 적용가능한 근로자는 누구인가요?\"}))\n",
    "print(question_tool_router.invoke({\"question\": \"첫 출근 이전에도 해고를 시킬 수 있나요?  회사가 어려워져 채용 내정자를 채용하지 못할 것 같습니다\"}))\n",
    "print(question_tool_router.invoke({\"question\": \"출근시 교통사고로 산재처리를 했는데, 산업재해조사표를 제출해야하나요?\"}))"
   ]
  },
  {
   "cell_type": "code",
   "execution_count": null,
   "id": "0d9e7222",
   "metadata": {},
   "outputs": [],
   "source": [
    "# 질문 라우팅 노드 \n",
    "def analyze_question_tool_search(state: ResearchAgentState):\n",
    "    question = state[\"question\"]\n",
    "    result = question_tool_router.invoke({\"question\": question})\n",
    "    datasources = [tool.tool for tool in result.tools]\n",
    "    return {\"datasources\": datasources}\n",
    "\n",
    "\n",
    "def route_datasources_tool_search(state: ResearchAgentState) -> List[str]:\n",
    "    datasources = set(state['datasources'])\n",
    "    valid_sources = {\"search_personal\", \"search_labor\", \"search_oshc\", \"search_web\"}\n",
    "    \n",
    "    if datasources.issubset(valid_sources):\n",
    "        return list(datasources)\n",
    "    \n",
    "    return list(valid_sources)"
   ]
  },
  {
   "cell_type": "code",
   "execution_count": null,
   "id": "3f8d516e",
   "metadata": {},
   "outputs": [],
   "source": [
    "# 노드 정의 \n",
    "def personal_rag_node(state: PersonalRagState, input=ResearchAgentState) -> ResearchAgentState:\n",
    "    print(\"--- 사내문서(취업규칙) 전문가 에이전트 시작 ---\")\n",
    "    question = state[\"question\"]\n",
    "    answer = personal_law_agent.invoke({\"question\": question})\n",
    "    return {\"answers\": [answer[\"node_answer\"]]}\n",
    "\n",
    "def labor_rag_node(state: LaborRagState, input=ResearchAgentState) -> ResearchAgentState:\n",
    "    print(\"--- 근로기준법 전문가 에이전트 시작 ---\")\n",
    "    question = state[\"question\"]\n",
    "    answer = labor_law_agent.invoke({\"question\": question})\n",
    "    return {\"answers\": [answer[\"node_answer\"]]}\n",
    "\n",
    "def oshc_rag_node(state: OSHCRagState, input=ResearchAgentState) -> ResearchAgentState:\n",
    "    print(\"--- 산업안전보건법 전문가 에이전트 시작 ---\")\n",
    "    question = state[\"question\"]\n",
    "    answer = oshc_law_agent.invoke({\"question\": question})\n",
    "    return {\"answers\": [answer[\"node_answer\"]]}\n",
    "\n",
    "def web_rag_node(state: SearchRagState, input=ResearchAgentState) -> ResearchAgentState:\n",
    "    print(\"--- 인터넷 검색 전문가 에이전트 시작 ---\")\n",
    "    question = state[\"question\"]\n",
    "    answer = search_web_agent.invoke({\"question\": question})\n",
    "    return {\"answers\": [answer[\"node_answer\"]]}\n"
   ]
  },
  {
   "cell_type": "code",
   "execution_count": null,
   "id": "261a3bb4",
   "metadata": {},
   "outputs": [],
   "source": [
    "# 최종 답변 생성 노드\n",
    "from langchain_core.output_parsers import StrOutputParser\n",
    "from langchain_core.prompts import ChatPromptTemplate\n",
    "\n",
    "# RAG 프롬프트 정의\n",
    "rag_prompt = ChatPromptTemplate.from_messages([\n",
    "    (\"system\", \"\"\"You are an assistant answering questions based on provided documents. Follow these guidelines:\n",
    "\n",
    "1. Use only information from the given documents.\n",
    "2. If the document lacks relevant info, say \"제공된 정보로는 충분한 답변을 할 수 없습니다.\"\n",
    "3. Cite the source of information for each sentence in your answer. Use the following format:\n",
    "    - For legal articles: \"법률명 제X조 Y항\"\n",
    "    - For web sources: \"출처 제목 (URL)\"\n",
    "4. Don't speculate or add information not in the documents.\n",
    "5. Keep answers concise and clear.\n",
    "6. Omit irrelevant information.\n",
    "7. If multiple sources provide the same information, cite all relevant sources.\n",
    "8. If information comes from multiple sources, combine them coherently while citing each source.\n",
    "\n",
    "Example of citation usage:\n",
    "'''[근로기준법 제2조 제1항 제1호] 근로자란 직업의 종류와 관계없이 임금을 목적으로 사업이나 사업장에 근로를 제공하는 사람을 말한다\n",
    "\n",
    "[대법 2009다99396,  선고일자 : 2010-04-15]\n",
    "근로기준법상 근로자에 해당하는지는 계약의 형식이 고용계약, 도급계약 또는 위임계약인지 여부보다 근로제공 관계의 실질이 근로제공자가 사업 또는 사업장에 임금을 목적으로 종속적인 관계에서 사용자에게 근로를 제공하였는지 여부에 따라 판단하여야 한다.\n",
    "여기에서 종속적인 관계가 있는지는, 업무 내용을 사용자가 정하고 취업규칙 또는 복무(인사)규정 등의 적용을 받으며 업무수행과정에서 사용자가 상당한 지휘·감독을 하는지  사용자가 근무시간과 근무장소를 지정하고 근로자가 이에 구속을 받는지, (국가법령정보 사이트, https://example.com/realestate) '''\n",
    "'''\n",
    "\"\"\"\n",
    "    ),\n",
    "    (\"human\", \"Answer the following question using these documents:\\n\\n[Documents]\\n{documents}\\n\\n[Question]\\n{question}\"),\n",
    "])\n",
    "\n",
    "def answer_final(state: ResearchAgentState) -> ResearchAgentState:\n",
    "    \"\"\"\n",
    "    Generate answer using the retrieved_documents\n",
    "    \"\"\"\n",
    "    print(\"---최종 답변---\")\n",
    "    question = state[\"question\"]\n",
    "    documents = state.get(\"answers\", [])\n",
    "    if not isinstance(documents, list):\n",
    "        documents = [documents]\n",
    "\n",
    "    # 문서 내용을 문자열로 결합 \n",
    "    documents_text = \"\\n\\n\".join(documents)\n",
    "\n",
    "    # RAG generation\n",
    "    rag_chain = rag_prompt | llm | StrOutputParser()\n",
    "    generation = rag_chain.invoke({\"documents\": documents_text, \"question\": question})\n",
    "    return {\"final_answer\": generation, \"question\":question}\n",
    "\n",
    "\n",
    "# LLM Fallback 프롬프트 정의\n",
    "fallback_prompt = ChatPromptTemplate.from_messages([\n",
    "    (\"system\", \"\"\"You are an AI assistant helping with various topics. Follow these guidelines:\n",
    "\n",
    "1. Provide accurate and helpful information to the best of your ability.\n",
    "2. Express uncertainty when unsure; avoid speculation.\n",
    "3. Keep answers concise yet informative.\n",
    "4. Respond ethically and constructively.\n",
    "5. Mention reliable general sources when applicable.\"\"\"),\n",
    "    (\"human\", \"{question}\"),\n",
    "])\n",
    "\n",
    "def llm_fallback(state: ResearchAgentState) -> ResearchAgentState:\n",
    "    \"\"\"\n",
    "    Generate answer using the LLM without context\n",
    "    \"\"\"\n",
    "    print(\"---Fallback 답변---\")\n",
    "    question = state[\"question\"]\n",
    "    \n",
    "    # LLM chain\n",
    "    llm_chain = fallback_prompt | llm | StrOutputParser()\n",
    "    \n",
    "    generation = llm_chain.invoke({\"question\": question})\n",
    "    return {\"final_answer\": generation, \"question\":question}"
   ]
  },
  {
   "cell_type": "code",
   "execution_count": null,
   "id": "727273fa",
   "metadata": {},
   "outputs": [
    {
     "data": {
      "image/jpeg": "[encoded data removed]",
      "text/plain": [
       "<IPython.core.display.Image object>"
      ]
     },
     "metadata": {},
     "output_type": "display_data"
    }
   ],
   "source": [
    "# 노드 정의를 딕셔너리로 관리\n",
    "nodes = {\n",
    "    \"analyze_question\": analyze_question_tool_search,\n",
    "    \"search_personal\": personal_rag_node,\n",
    "    \"search_labor\": labor_rag_node,\n",
    "    \"search_oshc\": oshc_rag_node,\n",
    "    \"search_web\": web_rag_node,\n",
    "    \"generate_answer\": answer_final,\n",
    "    \"llm_fallback\": llm_fallback\n",
    "}\n",
    "\n",
    "# 그래프 생성을 위한 StateGraph 객체를 정의\n",
    "search_builder = StateGraph(ResearchAgentState)\n",
    "\n",
    "# 노드 추가\n",
    "for node_name, node_func in nodes.items():\n",
    "    search_builder.add_node(node_name, node_func)\n",
    "\n",
    "# 엣지 추가 (병렬 처리)\n",
    "search_builder.add_edge(START, \"analyze_question\")\n",
    "search_builder.add_conditional_edges(\n",
    "    \"analyze_question\",\n",
    "    route_datasources_tool_search,\n",
    "    [\"search_personal\", \"search_labor\", \"search_oshc\", \"search_web\", \"llm_fallback\"]\n",
    ")\n",
    "\n",
    "# 검색 노드들을 generate_answer에 연결\n",
    "for node in [\"search_personal\", \"search_labor\", \"search_oshc\", \"search_web\"]:\n",
    "    search_builder.add_edge(node, \"generate_answer\")\n",
    "\n",
    "search_builder.add_edge(\"generate_answer\", END)\n",
    "search_builder.add_edge(\"llm_fallback\", END)\n",
    "\n",
    "# 그래프 컴파일\n",
    "rag_search_graph = search_builder.compile()\n",
    "\n",
    "# 그래프 시각화 \n",
    "display(Image(rag_search_graph.get_graph().draw_mermaid_png()))"
   ]
  },
  {
   "cell_type": "code",
   "execution_count": null,
   "id": "7dd2ae1f",
   "metadata": {},
   "outputs": [
    {
     "name": "stdout",
     "output_type": "stream",
     "text": [
      "\"Node 'analyze_question':\"\n",
      "\"Value: {'datasources': ['search_oshc', 'search_web']}\"\n",
      "\n",
      "----------------------------------------------------------\n",
      "\n",
      "--- 산업안전보건법 전문가 에이전트 시작 ---\n",
      "---문서 검색---\n",
      "--- 인터넷 검색 전문가 에이전트 시작 ---\n",
      "---문서 검색---\n",
      "---정보 추출 및 평가---\n",
      "---정보 추출 및 평가---\n",
      "---답변 생성---\n",
      "\"Node 'search_oshc':\"\n",
      "(\"Value: {'answers': ['# 출근 시 교통사고로 인한 산재처리와 산업재해조사표 제출 여부\\\\n\\\\n## 1. 질문에 대한 \"\n",
      " '직접적인 답변\\\\n출근 시 발생한 교통사고로 인해 산재처리를 하였다면, 산업재해조사표를 제출해야 합니다. 사업주는 해당 사고에 대한 발생 '\n",
      " '개요와 원인 등을 기록하고, 이를 고용노동부장관에게 보고해야 할 의무가 있습니다.\\\\n\\\\n## 2. 관련 법률 조항 및 해석\\\\n- '\n",
      " '**산업안전보건법 제57조 ②항**: \"사업주는 고용노동부령으로 정하는 바에 따라 산업재해의 발생 원인 등을 기록하여 보존하여야 '\n",
      " '한다.\"\\\\n- **산업안전보건법 제57조 ③항**: \"사업주는 고용노동부령으로 정하는 산업재해에 대해서는 그 발생 개요ㆍ원인 및 보고 '\n",
      " '시기, 재발방지 계획 등을 고용노동부령으로 정하는 바에 따라 고용노동부장관에게 보고하여야 한다.\"\\\\n\\\\n이 조항들은 사업주가 산업재해 '\n",
      " '발생 시 그 원인과 경과를 기록하고, 이를 관련 기관에 보고할 의무가 있음을 명시하고 있습니다.\\\\n\\\\n## 3. 추가 설명 또는 '\n",
      " '예시\\\\n산업재해조사표는 사고의 발생 원인, 경과, 재발 방지 대책 등을 포함해야 하며, 이는 고용노동부의 지침에 따라 작성되어야 '\n",
      " '합니다. 예를 들어, 출근길에 발생한 교통사고의 경우, 사고의 경위와 원인, 그리고 향후 유사 사고를 방지하기 위한 대책을 포함하여 '\n",
      " '보고해야 합니다.\\\\n\\\\n## 4. 결론 및 요약\\\\n출근 시 발생한 교통사고로 산재처리를 한 경우, 사업주는 산업재해조사표를 작성하여 '\n",
      " '고용노동부장관에게 제출해야 합니다. 이는 법적으로 요구되는 의무이며, 사고의 원인과 재발 방지 대책을 포함해야 합니다. 따라서, 적절한 '\n",
      " \"절차를 따르는 것이 중요합니다. (출처: 산업안전보건법 제57조)']}\")\n",
      "\n",
      "----------------------------------------------------------\n",
      "\n",
      "---답변 생성---\n",
      "\"Node 'search_web':\"\n",
      "(\"Value: {'answers': ['# 출근 시 교통사고로 산재처리를 했는데, 산업재해조사표를 제출해야 하나요?\\\\n\\\\n출근 중 \"\n",
      " '발생한 교통사고는 산업재해로 인정될 수 있으며, 이 경우 산업재해조사표를 제출해야 할 의무가 있습니다. 산업재해조사표는 사고의 경위와 '\n",
      " '피해 상황을 기록하는 서류로, 사고 발생 후 3일 이내에 제출해야 합니다.\\\\n\\\\n## 관련 출처 및 링크\\\\n- 출퇴근 교통사고, '\n",
      " '산업재해조사표 제출 여부 (출처: 국가법령정보 (https://www.law.go.kr/))\\\\n- 산업재해보상보험법 제37조 (출처: '\n",
      " '국가법령정보 (https://www.law.go.kr/))\\\\n\\\\n## 추가 설명\\\\n산업재해로 인정받기 위해서는 사고가 근로자의 '\n",
      " '고의가 아닌 경우여야 하며, 사업주가 제공한 교통수단을 이용하거나 통상적인 경로로 출퇴근 중 발생해야 합니다. 또한, 사고를 입증할 수 '\n",
      " '있는 자료를 준비하는 것이 중요합니다.\\\\n\\\\n## 결론 및 요약\\\\n출근 시 교통사고로 인해 산업재해 처리를 했다면, 반드시 '\n",
      " '산업재해조사표를 제출해야 하며, 이는 사고 발생 후 3일 이내에 이루어져야 합니다. 이를 통해 산업재해로 인정받고 적절한 보상을 받을 수 '\n",
      " \"있습니다.']}\")\n",
      "\n",
      "----------------------------------------------------------\n",
      "\n",
      "---최종 답변---\n",
      "\"Node 'generate_answer':\"\n",
      "(\"Value: {'question': '출근시 교통사고로 산재처리를 했는데, 산업재해조사표를 제출해야하나요?', \"\n",
      " \"'final_answer': '출근 시 발생한 교통사고로 인해 산재처리를 하였다면, 산업재해조사표를 제출해야 합니다. 사업주는 사고의 \"\n",
      " '발생 개요와 원인 등을 기록하고, 이를 고용노동부장관에게 보고할 의무가 있습니다[산업안전보건법 제57조 ②항, 제57조 ③항]. '\n",
      " '산업재해조사표는 사고의 경위와 피해 상황을 기록하는 서류로, 사고 발생 후 3일 이내에 제출해야 합니다[출처: 출퇴근 교통사고, '\n",
      " '산업재해조사표 제출 여부 (https://www.law.go.kr/)]. 따라서, 출근 시 교통사고로 산재처리를 했다면 반드시 '\n",
      " \"산업재해조사표를 제출해야 합니다.'}\")\n",
      "\n",
      "----------------------------------------------------------\n",
      "\n"
     ]
    }
   ],
   "source": [
    "inputs = {\"question\": \"출근시 교통사고로 산재처리를 했는데, 산업재해조사표를 제출해야하나요?\"}\n",
    "for output in rag_search_graph.stream(inputs):\n",
    "    for key, value in output.items():\n",
    "        # 노드 출력\n",
    "        pprint(f\"Node '{key}':\")\n",
    "        pprint(f\"Value: {value}\", indent=2, width=80, depth=None)\n",
    "    print(\"\\n----------------------------------------------------------\\n\")"
   ]
  },
  {
   "cell_type": "code",
   "execution_count": null,
   "id": "1b89b9bb",
   "metadata": {},
   "outputs": [
    {
     "name": "stdout",
     "output_type": "stream",
     "text": [
      "출근 시 발생한 교통사고로 인해 산재처리를 하였다면, 산업재해조사표를 제출해야 합니다. 사업주는 사고의 발생 개요와 원인 등을 기록하고, 이를 고용노동부장관에게 보고할 의무가 있습니다[산업안전보건법 제57조 ②항, 제57조 ③항]. 산업재해조사표는 사고의 경위와 피해 상황을 기록하는 서류로, 사고 발생 후 3일 이내에 제출해야 합니다[출처: 출퇴근 교통사고, 산업재해조사표 제출 여부 (https://www.law.go.kr/)]. 따라서, 출근 시 교통사고로 산재처리를 했다면 반드시 산업재해조사표를 제출해야 합니다.\n"
     ]
    }
   ],
   "source": [
    "print(value['final_answer'])"
   ]
  },
  {
   "cell_type": "markdown",
   "id": "306cad29",
   "metadata": {},
   "source": []
  },
  {
   "cell_type": "markdown",
   "id": "54e96cfe",
   "metadata": {},
   "source": [
    "# 5. 답변 평가 및 확인"
   ]
  },
  {
   "cell_type": "markdown",
   "id": "6309b804",
   "metadata": {},
   "source": [
    "### 5-1. 답변을 평가하는 ReAct 에이전트"
   ]
  },
  {
   "cell_type": "code",
   "execution_count": null,
   "id": "ebfedd91",
   "metadata": {},
   "outputs": [],
   "source": [
    "from textwrap import dedent\n",
    "\n",
    "evaluation_prompt = dedent(\"\"\"\n",
    "당신은 AI 어시스턴트가 생성한 답변을 평가하는 전문가입니다. 주어진 질문과 답변을 평가하고, 60점 만점으로 점수를 매기세요. 다음 기준을 사용하여 평가하십시오:\n",
    "\n",
    "1. 정확성 (10점)\n",
    "2. 관련성 (10점)\n",
    "3. 완전성 (10점)\n",
    "4. 인용 정확성 (10점)\n",
    "5. 명확성과 간결성 (10점)\n",
    "6. 객관성 (10점)\n",
    "\n",
    "평가 과정:\n",
    "1. 주어진 질문과 답변을 주의 깊게 읽으십시오.\n",
    "2. 필요한 경우, 다음 도구를 사용하여 추가 정보를 수집하세요:\n",
    "   - web_search: 웹 검색\n",
    "   - personal_law_search: 사내문서(취업규칙) 검색\n",
    "   - labor_law_search: 근로기준법 검색\n",
    "   - oshc_law_search: 산업안전보건법 검색\n",
    "\n",
    "   도구 사용 형식:\n",
    "   Action: [tool_name]\n",
    "   Action Input: [input for the tool]\n",
    "\n",
    "3. 각 기준에 대해 1-10점 사이의 점수를 매기세요.\n",
    "4. 총점을 계산하세요 (60점 만점).\n",
    "\n",
    "출력 형식:\n",
    "{\n",
    "  \"scores\": {\n",
    "    \"accuracy\": 0,\n",
    "    \"relevance\": 0,\n",
    "    \"completeness\": 0,\n",
    "    \"citation_accuracy\": 0,\n",
    "    \"clarity_conciseness\": 0,\n",
    "    \"objectivity\": 0\n",
    "  },\n",
    "  \"total_score\": 0,\n",
    "  \"brief_evaluation\": \"간단한 평가 설명\"\n",
    "}\n",
    "\n",
    "최종 출력에는 각 기준의 점수, 총점, 그리고 간단한 평가 설명만 포함하세요.\n",
    "\"\"\")"
   ]
  },
  {
   "cell_type": "code",
   "execution_count": null,
   "id": "73a1548f",
   "metadata": {},
   "outputs": [
    {
     "data": {
      "text/plain": [
       "[StructuredTool(name='personal_law_search', description='인사규정 법률 조항을 검색합니다.', args_schema=<class 'langchain_core.utils.pydantic.personal_law_search'>, func=<function personal_law_search at 0x0000018B7D07A160>),\n",
       " StructuredTool(name='labor_law_search', description='근로기준법 법률 조항을 검색합니다.', args_schema=<class 'langchain_core.utils.pydantic.labor_law_search'>, func=<function labor_law_search at 0x0000018B7D032160>),\n",
       " StructuredTool(name='oshc_law_search', description='산업안전보건법 법률 조항을 검색합니다.', args_schema=<class 'langchain_core.utils.pydantic.oshc_law_search'>, func=<function oshc_law_search at 0x0000018B7D07A840>),\n",
       " StructuredTool(name='web_search', description='데이터베이스에 없는 정보 또는 최신 정보를 웹에서 검색합니다.', args_schema=<class 'langchain_core.utils.pydantic.web_search'>, func=<function web_search at 0x0000018B7D07B920>)]"
      ]
     },
     "execution_count": 79,
     "metadata": {},
     "output_type": "execute_result"
    }
   ],
   "source": [
    "tools"
   ]
  },
  {
   "cell_type": "code",
   "execution_count": null,
   "id": "c8383fa5",
   "metadata": {},
   "outputs": [
    {
     "data": {
      "image/jpeg": "[encoded data removed]",
      "text/plain": [
       "<IPython.core.display.Image object>"
      ]
     },
     "metadata": {},
     "output_type": "display_data"
    }
   ],
   "source": [
    "from langgraph.prebuilt import create_react_agent\n",
    "from IPython.display import Image, display\n",
    "\n",
    "# 그래프 생성 \n",
    "answer_reviewer = create_react_agent(\n",
    "    llm, \n",
    "    tools=tools, \n",
    "    state_modifier=evaluation_prompt,\n",
    "    )\n",
    "\n",
    "# 그래프 출력\n",
    "display(Image(answer_reviewer.get_graph().draw_mermaid_png()))"
   ]
  },
  {
   "cell_type": "code",
   "execution_count": null,
   "id": "b9a92866",
   "metadata": {},
   "outputs": [
    {
     "name": "stdout",
     "output_type": "stream",
     "text": [
      "================================\u001b[1m Human Message \u001b[0m=================================\n",
      "\n",
      "[질문]\n",
      "\\출근시 교통사고로 산재처리를 했는데, 산업재해조사표를 제출해야하나요?n\n",
      "[답변]\n",
      "출근 시 발생한 교통사고로 인해 산재처리를 하였다면, 산업재해조사표를 제출해야 합니다. 사업주는 사고의 발생 개요와 원인 등을 기록하고, 이를 고용노동부장관에게 보고할 의무가 있습니다[산업안전보건법 제57조 ②항, 제57조 ③항]. 산업재해조사표는 사고의 경위와 피해 상황을 기록하는 서류로, 사고 발생 후 3일 이내에 제출해야 합니다[출처: 출퇴근 교통사고, 산업재해조사표 제출 여부 (https://www.law.go.kr/)]. 따라서, 출근 시 교통사고로 산재처리를 했다면 반드시 산업재해조사표를 제출해야 합니다.\n",
      "==================================\u001b[1m Ai Message \u001b[0m==================================\n",
      "Tool Calls:\n",
      "  oshc_law_search (call_4HhGdh54S2pGeII5Z2PlaYcJ)\n",
      " Call ID: call_4HhGdh54S2pGeII5Z2PlaYcJ\n",
      "  Args:\n",
      "    query: 산업재해조사표 제출 의무\n",
      "  labor_law_search (call_TjDTfGTKY9t2kO8xXw9G3H7i)\n",
      " Call ID: call_TjDTfGTKY9t2kO8xXw9G3H7i\n",
      "  Args:\n",
      "    query: 출근길 교통사고 산재처리\n",
      "=================================\u001b[1m Tool Message \u001b[0m=================================\n",
      "Name: oshc_law_search\n",
      "\n",
      "[Document(metadata={'chapter': '제4장 유해ㆍ위험 방지 조치', 'name': '산업안전보건법', 'source': 'data/산업안전보건법(법률)(제19591호)(20240517).pdf'}, page_content='[법률정보]\\n다음 조항은 산업안전보건법 제4장 유해ㆍ위험 방지 조치에서 발췌한 내용입니다.\\n\\n[법률조항]\\n제57조(산업재해 발생 은폐 금지 및 보고 등) ① 사업주는 산업재해가 발생하였을 때에는 그 발생 사실을 은폐해서는\\n아니 된다.\\n② 사업주는 고용노동부령으로 정하는 바에 따라 산업재해의 발생 원인 등을 기록하여 보존하여야 한다.\\n③ 사업주는 고용노동부령으로 정하는 산업재해에 대해서는 그 발생 개요ㆍ원인 및 보고 시기, 재발방지 계획 등을\\n고용노동부령으로 정하는 바에 따라 고용노동부장관에게 보고하여야 한다.'), Document(metadata={'chapter': '제4장 유해ㆍ위험 방지 조치', 'name': '산업안전보건법', 'source': 'data/산업안전보건법(법률)(제19591호)(20240517).pdf'}, page_content='[법률정보]\\n다음 조항은 산업안전보건법 제4장 유해ㆍ위험 방지 조치에서 발췌한 내용입니다.\\n\\n[법률조항]\\n제57조(산업재해 발생 은폐 금지 및 보고 등) ① 사업주는 산업재해가 발생하였을 때에는 그 발생 사실을 은폐해서는\\n아니 된다.\\n② 사업주는 고용노동부령으로 정하는 바에 따라 산업재해의 발생 원인 등을 기록하여 보존하여야 한다.\\n③ 사업주는 고용노동부령으로 정하는 산업재해에 대해서는 그 발생 개요ㆍ원인 및 보고 시기, 재발방지 계획 등을\\n고용노동부령으로 정하는 바에 따라 고용노동부장관에게 보고하여야 한다.'), Document(metadata={'chapter': '제4장 유해ㆍ위험 방지 조치', 'name': '산업안전보건법', 'source': 'data/산업안전보건법(법률)(제19591호)(20240517).pdf'}, page_content='[법률정보]\\n다음 조항은 산업안전보건법 제4장 유해ㆍ위험 방지 조치에서 발췌한 내용입니다.\\n\\n[법률조항]\\n제57조(산업재해 발생 은폐 금지 및 보고 등) ① 사업주는 산업재해가 발생하였을 때에는 그 발생 사실을 은폐해서는\\n아니 된다.\\n② 사업주는 고용노동부령으로 정하는 바에 따라 산업재해의 발생 원인 등을 기록하여 보존하여야 한다.\\n③ 사업주는 고용노동부령으로 정하는 산업재해에 대해서는 그 발생 개요ㆍ원인 및 보고 시기, 재발방지 계획 등을\\n고용노동부령으로 정하는 바에 따라 고용노동부장관에게 보고하여야 한다.')]\n",
      "=================================\u001b[1m Tool Message \u001b[0m=================================\n",
      "Name: labor_law_search\n",
      "\n",
      "[Document(metadata={'chapter': '제10장 기숙사', 'name': '근로기준법', 'source': 'data/근로기준법(법률)(제18176호)(20211119).pdf'}, page_content='[법률정보]\\n다음 조항은 근로기준법 제10장 기숙사에서 발췌한 내용입니다.\\n\\n[법률조항]\\n제98조(기숙사 생활의 보장) ① 사용자는 사업 또는 사업장의 부속 기숙사에 기숙하는 근로자의 사생활의 자유를 침해\\n하지 못한다.\\n② 사용자는 기숙사 생활의 자치에 필요한 임원 선거에 간섭하지 못한다.'), Document(metadata={'chapter': '제10장 기숙사', 'name': '근로기준법', 'source': 'data/근로기준법(법률)(제18176호)(20211119).pdf'}, page_content='[법률정보]\\n다음 조항은 근로기준법 제10장 기숙사에서 발췌한 내용입니다.\\n\\n[법률조항]\\n제98조(기숙사 생활의 보장) ① 사용자는 사업 또는 사업장의 부속 기숙사에 기숙하는 근로자의 사생활의 자유를 침해\\n하지 못한다.\\n② 사용자는 기숙사 생활의 자치에 필요한 임원 선거에 간섭하지 못한다.'), Document(metadata={'chapter': '제10장 기숙사', 'name': '근로기준법', 'source': 'data/근로기준법(법률)(제18176호)(20211119).pdf'}, page_content='[법률정보]\\n다음 조항은 근로기준법 제10장 기숙사에서 발췌한 내용입니다.\\n\\n[법률조항]\\n제98조(기숙사 생활의 보장) ① 사용자는 사업 또는 사업장의 부속 기숙사에 기숙하는 근로자의 사생활의 자유를 침해\\n하지 못한다.\\n② 사용자는 기숙사 생활의 자치에 필요한 임원 선거에 간섭하지 못한다.')]\n",
      "==================================\u001b[1m Ai Message \u001b[0m==================================\n",
      "\n",
      "{\n",
      "  \"scores\": {\n",
      "    \"accuracy\": 9,\n",
      "    \"relevance\": 10,\n",
      "    \"completeness\": 9,\n",
      "    \"citation_accuracy\": 8,\n",
      "    \"clarity_conciseness\": 9,\n",
      "    \"objectivity\": 10\n",
      "  },\n",
      "  \"total_score\": 55,\n",
      "  \"brief_evaluation\": \"답변은 출근 시 교통사고로 인한 산재처리에 대한 정확한 정보를 제공하며, 산업재해조사표 제출 의무에 대한 관련 법 조항을 인용하고 있습니다. 다만, 출처 링크의 정확성이 다소 부족하여 인용 정확성에서 점수를 낮췄습니다.\"\n",
      "}\n"
     ]
    }
   ],
   "source": [
    "# 그래프 실행\n",
    "from langchain_core.messages import HumanMessage\n",
    "\n",
    "messages = [HumanMessage(content=f\"\"\"[질문]\\n\\{value['question']}n\\n[답변]\\n{value['final_answer']}\"\"\")]\n",
    "messages = answer_reviewer.invoke({\"messages\": messages})\n",
    "for m in messages['messages']:\n",
    "    m.pretty_print()"
   ]
  },
  {
   "cell_type": "code",
   "execution_count": null,
   "id": "eaf8548d",
   "metadata": {},
   "outputs": [
    {
     "data": {
      "text/plain": [
       "dict_keys(['scores', 'total_score', 'brief_evaluation'])"
      ]
     },
     "execution_count": 82,
     "metadata": {},
     "output_type": "execute_result"
    }
   ],
   "source": [
    "json.loads(m.content).keys()"
   ]
  },
  {
   "cell_type": "code",
   "execution_count": null,
   "id": "fe57f21e",
   "metadata": {},
   "outputs": [
    {
     "name": "stdout",
     "output_type": "stream",
     "text": [
      "55\n"
     ]
    }
   ],
   "source": [
    "print(json.loads(m.content)['total_score']) #토탈점수 36점"
   ]
  },
  {
   "cell_type": "markdown",
   "id": "0112d5be",
   "metadata": {},
   "source": [
    "### 5-2. 답변 평가 내용을 확인하는 HITL 추가"
   ]
  },
  {
   "cell_type": "code",
   "execution_count": null,
   "id": "549617e8",
   "metadata": {},
   "outputs": [],
   "source": [
    "# 답변 평가하는 노드를 추가\n",
    "def evaluate_answer_node(state:ResearchAgentState):\n",
    "    question = state[\"question\"]\n",
    "    final_answer = state[\"final_answer\"]\n",
    "\n",
    "    messages = [HumanMessage(content=f\"\"\"[질문]\\n\\{question}n\\n[답변]\\n{final_answer}\"\"\")]\n",
    "    response = answer_reviewer.invoke({\"messages\": messages})\n",
    "    response_dict = json.loads(response['messages'][-1].content)\n",
    "\n",
    "    return {\"evaluation_report\": response_dict, \"question\": question, \"final_answer\": final_answer}\n",
    "\n",
    "# HITL 조건부 엣지 정의\n",
    "def human_review(state: ResearchAgentState):\n",
    "    print(\"\\n현재 답변:\")\n",
    "    print(state['final_answer'])\n",
    "    print(\"\\n평가 결과:\")\n",
    "    print(f\"총점: {state['evaluation_report']['total_score']}/60\")\n",
    "    print(state['evaluation_report']['brief_evaluation'])\n",
    "    \n",
    "    user_input = input(\"\\n이 답변을 승인하시겠습니까? (y/n): \").lower()\n",
    "    \n",
    "    if user_input == 'y':\n",
    "        return \"approved\"\n",
    "    else:\n",
    "        return \"rejected\"\n",
    "    "
   ]
  },
  {
   "cell_type": "code",
   "execution_count": null,
   "id": "ef039f06",
   "metadata": {},
   "outputs": [
    {
     "data": {
      "image/jpeg": "[encoded data removed]",
      "text/plain": [
       "<IPython.core.display.Image object>"
      ]
     },
     "metadata": {},
     "output_type": "display_data"
    }
   ],
   "source": [
    "# 노드 정의를 딕셔너리로 관리\n",
    "nodes = {\n",
    "    \"analyze_question\": analyze_question_tool_search,\n",
    "    \"search_personal\": personal_rag_node,\n",
    "    \"search_labor\": labor_rag_node,\n",
    "    \"search_oshc\": oshc_rag_node,\n",
    "    \"search_web\": web_rag_node,\n",
    "    \"generate_answer\": answer_final,\n",
    "    \"llm_fallback\": llm_fallback,\n",
    "    \"evaluate_answer\": evaluate_answer_node, \n",
    "}\n",
    "\n",
    "# 그래프 생성을 위한 StateGraph 객체를 정의\n",
    "search_builder = StateGraph(ResearchAgentState)\n",
    "\n",
    "# 노드 추가\n",
    "for node_name, node_func in nodes.items():\n",
    "    search_builder.add_node(node_name, node_func)\n",
    "\n",
    "# 엣지 추가 (병렬 처리)\n",
    "search_builder.add_edge(START, \"analyze_question\")\n",
    "search_builder.add_conditional_edges(\n",
    "    \"analyze_question\",\n",
    "    route_datasources_tool_search,\n",
    "    [\"search_personal\", \"search_labor\", \"search_oshc\", \"search_web\", \"llm_fallback\"]\n",
    ")\n",
    "\n",
    "# 검색 노드들을 generate_answer에 연결\n",
    "for node in [\"search_personal\", \"search_labor\", \"search_oshc\", \"search_web\"]:\n",
    "    search_builder.add_edge(node, \"generate_answer\")\n",
    "\n",
    "search_builder.add_edge(\"generate_answer\", \"evaluate_answer\")\n",
    "\n",
    "# HITL 결과에 따른 조건부 엣지 추가\n",
    "search_builder.add_conditional_edges(\n",
    "    \"evaluate_answer\",\n",
    "    human_review,\n",
    "    {\n",
    "        \"approved\": END,\n",
    "        \"rejected\": \"analyze_question\"  # 승인되지 않은 경우 질문 분석 단계로 돌아감\n",
    "    }\n",
    ")\n",
    "\n",
    "search_builder.add_edge(\"llm_fallback\", END)\n",
    "\n",
    "# 그래프 컴파일\n",
    "legal_rag_agent = search_builder.compile()\n",
    "\n",
    "# 그래프 시각화 \n",
    "display(Image(legal_rag_agent.get_graph().draw_mermaid_png()))"
   ]
  },
  {
   "cell_type": "code",
   "execution_count": null,
   "id": "cacdf91e",
   "metadata": {},
   "outputs": [
    {
     "name": "stdout",
     "output_type": "stream",
     "text": [
      "\"Node 'analyze_question':\"\n",
      "\"Value: {'datasources': ['search_oshc', 'search_web']}\"\n",
      "\n",
      "----------------------------------------------------------\n",
      "\n",
      "--- 산업안전보건법 전문가 에이전트 시작 ---\n",
      "---문서 검색---\n",
      "--- 인터넷 검색 전문가 에이전트 시작 ---\n",
      "---문서 검색---\n",
      "---정보 추출 및 평가---\n",
      "---정보 추출 및 평가---\n",
      "---답변 생성---\n",
      "---답변 생성---\n",
      "\"Node 'search_oshc':\"\n",
      "(\"Value: {'answers': ['# 출근 시 교통사고로 인한 산재처리와 산업재해조사표 제출 여부\\\\n\\\\n## 1. 질문에 대한 \"\n",
      " '직접적인 답변\\\\n출근 시 발생한 교통사고로 인해 산재처리를 한 경우, 사업주는 해당 사고에 대한 산업재해조사표를 제출해야 합니다. 이는 '\n",
      " '산업안전보건법에 따라 사업주가 산업재해의 발생 원인 등을 기록하고 보존해야 하며, 고용노동부장관에게 보고해야 하기 '\n",
      " '때문입니다.\\\\n\\\\n## 2. 관련 법률 조항 및 해석\\\\n- **산업안전보건법 제57조 ②항**: \"사업주는 고용노동부령으로 정하는 '\n",
      " '바에 따라 산업재해의 발생 원인 등을 기록하여 보존하여야 한다.\"\\\\n- **산업안전보건법 제57조 ③항**: \"사업주는 고용노동부령으로 '\n",
      " '정하는 산업재해에 대해서는 그 발생 개요ㆍ원인 및 보고 시기, 재발방지 계획 등을 고용노동부장관에게 보고하여야 한다.\"\\\\n\\\\n이 '\n",
      " '조항들은 사업주가 산업재해 발생 시 그 원인과 관련된 정보를 기록하고, 이를 고용노동부에 보고해야 함을 명시하고 있습니다. 출근 중 '\n",
      " '발생한 교통사고는 산업재해로 간주되므로, 이에 대한 조사표 제출이 필요합니다.\\\\n\\\\n## 3. 추가 설명 또는 '\n",
      " '예시\\\\n산업재해조사표는 사고의 발생 원인, 경과, 피해 정도 등을 상세히 기록하는 문서입니다. 예를 들어, 출근 중 교통사고가 발생한 '\n",
      " '경우, 사고의 경위, 관련된 차량 및 인원, 사고 발생 시간 등을 포함하여 작성해야 합니다. 이러한 정보는 향후 재발 방지 대책 수립에 '\n",
      " '중요한 역할을 합니다.\\\\n\\\\n## 4. 결론 및 요약\\\\n출근 시 발생한 교통사고로 인해 산재처리를 한 경우, 사업주는 반드시 '\n",
      " '산업재해조사표를 제출해야 합니다. 이는 산업안전보건법 제57조에 명시된 의무로, 사고의 원인 및 경과를 기록하고 고용노동부에 보고하는 '\n",
      " \"절차를 포함합니다. 따라서, 사업주는 관련 법령을 준수하여 적절한 조치를 취해야 합니다.']}\")\n",
      "\n",
      "----------------------------------------------------------\n",
      "\n",
      "\"Node 'search_web':\"\n",
      "(\"Value: {'answers': ['## 출근시 교통사고로 산재처리를 했는데, 산업재해조사표를 제출해야하나요?\\\\n\\\\n출근 중 발생한 \"\n",
      " '교통사고는 산업재해로 인정될 수 있으며, 이 경우 산업재해조사표를 제출해야 할 의무가 있습니다. 산업재해조사표는 사고의 경위와 피해 '\n",
      " '상황을 기록하는 서류로, 사고 발생 후 일정 기간 내에 제출해야 합니다.\\\\n\\\\n### 관련 출처 및 링크\\\\n- 출퇴근 교통사고, '\n",
      " '산업재해조사표 제출 여부 (출처: 국가법령정보 (https://www.law.go.kr/))\\\\n\\\\n### 추가 설명\\\\n산업재해처리 '\n",
      " '절차에 따르면, 출퇴근 중의 교통사고가 산업재해로 인정되기 위해서는 사업주가 제공한 교통수단 또는 그에 준하는 교통수단을 이용해야 하며, '\n",
      " '사용자 측의 지배 및 관리가 이루어지는 수단을 이용해 출퇴근하다가 사고가 발생해야 합니다. 이러한 조건을 충족할 경우, 산업재해조사표를 '\n",
      " '제출하는 것이 필수적입니다.\\\\n\\\\n### 결론 및 요약\\\\n출근 중 교통사고로 인해 산업재해 처리를 하였다면, 반드시 산업재해조사표를 '\n",
      " \"제출해야 합니다. 이는 사고의 경위와 피해 상황을 명확히 기록하기 위한 절차로, 법적으로 요구되는 사항입니다.']}\")\n",
      "\n",
      "----------------------------------------------------------\n",
      "\n",
      "---최종 답변---\n",
      "\"Node 'generate_answer':\"\n",
      "(\"Value: {'question': '출근시 교통사고로 산재처리를 했는데, 산업재해조사표를 제출해야하나요?', \"\n",
      " \"'final_answer': '출근 중 발생한 교통사고로 인해 산재처리를 한 경우, 사업주는 반드시 산업재해조사표를 제출해야 합니다. \"\n",
      " '이는 산업안전보건법 제57조에 명시된 의무로, 사고의 원인 및 경과를 기록하고 고용노동부에 보고하는 절차를 포함합니다[산업안전보건법 '\n",
      " '제57조 ②항, 제57조 ③항]. 따라서, 출근 시 발생한 교통사고는 산업재해로 인정되며, 이에 대한 조사표 제출이 필요합니다[출퇴근 '\n",
      " \"교통사고, 산업재해조사표 제출 여부 (출처: 국가법령정보 (https://www.law.go.kr/))].'}\")\n",
      "\n",
      "----------------------------------------------------------\n",
      "\n",
      "\n",
      "현재 답변:\n",
      "출근 중 발생한 교통사고로 인해 산재처리를 한 경우, 사업주는 반드시 산업재해조사표를 제출해야 합니다. 이는 산업안전보건법 제57조에 명시된 의무로, 사고의 원인 및 경과를 기록하고 고용노동부에 보고하는 절차를 포함합니다[산업안전보건법 제57조 ②항, 제57조 ③항]. 따라서, 출근 시 발생한 교통사고는 산업재해로 인정되며, 이에 대한 조사표 제출이 필요합니다[출퇴근 교통사고, 산업재해조사표 제출 여부 (출처: 국가법령정보 (https://www.law.go.kr/))].\n",
      "\n",
      "평가 결과:\n",
      "총점: 55/60\n",
      "답변은 출근 중 교통사고에 대한 산재처리와 관련된 법적 의무를 정확하게 설명하고 있으며, 관련 법 조항을 인용하여 신뢰성을 높이고 있습니다. 그러나 인용된 법 조항의 구체적인 내용이 부족하여 인용 정확성에서 약간의 감점이 있었습니다.\n",
      "\"Node 'evaluate_answer':\"\n",
      "(\"Value: {'question': '출근시 교통사고로 산재처리를 했는데, 산업재해조사표를 제출해야하나요?', \"\n",
      " \"'final_answer': '출근 중 발생한 교통사고로 인해 산재처리를 한 경우, 사업주는 반드시 산업재해조사표를 제출해야 합니다. \"\n",
      " '이는 산업안전보건법 제57조에 명시된 의무로, 사고의 원인 및 경과를 기록하고 고용노동부에 보고하는 절차를 포함합니다[산업안전보건법 '\n",
      " '제57조 ②항, 제57조 ③항]. 따라서, 출근 시 발생한 교통사고는 산업재해로 인정되며, 이에 대한 조사표 제출이 필요합니다[출퇴근 '\n",
      " \"교통사고, 산업재해조사표 제출 여부 (출처: 국가법령정보 (https://www.law.go.kr/))].', \"\n",
      " \"'evaluation_report': {'scores': {'accuracy': 9, 'relevance': 10, \"\n",
      " \"'completeness': 9, 'citation_accuracy': 8, 'clarity_conciseness': 9, \"\n",
      " \"'objectivity': 10}, 'total_score': 55, 'brief_evaluation': '답변은 출근 중 교통사고에 \"\n",
      " '대한 산재처리와 관련된 법적 의무를 정확하게 설명하고 있으며, 관련 법 조항을 인용하여 신뢰성을 높이고 있습니다. 그러나 인용된 법 '\n",
      " \"조항의 구체적인 내용이 부족하여 인용 정확성에서 약간의 감점이 있었습니다.'}}\")\n",
      "\n",
      "----------------------------------------------------------\n",
      "\n"
     ]
    }
   ],
   "source": [
    "inputs = {\"question\": \"출근시 교통사고로 산재처리를 했는데, 산업재해조사표를 제출해야하나요?\"}\n",
    "for output in legal_rag_agent.stream(inputs):\n",
    "    for key, value in output.items():\n",
    "        # 노드 출력\n",
    "        pprint(f\"Node '{key}':\")\n",
    "        pprint(f\"Value: {value}\", indent=2, width=80, depth=None)\n",
    "    print(\"\\n----------------------------------------------------------\\n\")"
   ]
  },
  {
   "cell_type": "code",
   "execution_count": null,
   "id": "42743e8d",
   "metadata": {},
   "outputs": [
    {
     "data": {
      "text/plain": [
       "{'question': '출근시 교통사고로 산재처리를 했는데, 산업재해조사표를 제출해야하나요?',\n",
       " 'final_answer': '출근 중 발생한 교통사고로 인해 산재처리를 한 경우, 사업주는 반드시 산업재해조사표를 제출해야 합니다. 이는 산업안전보건법 제57조에 명시된 의무로, 사고의 원인 및 경과를 기록하고 고용노동부에 보고하는 절차를 포함합니다[산업안전보건법 제57조 ②항, 제57조 ③항]. 따라서, 출근 시 발생한 교통사고는 산업재해로 인정되며, 이에 대한 조사표 제출이 필요합니다[출퇴근 교통사고, 산업재해조사표 제출 여부 (출처: 국가법령정보 (https://www.law.go.kr/))].',\n",
       " 'evaluation_report': {'scores': {'accuracy': 9,\n",
       "   'relevance': 10,\n",
       "   'completeness': 9,\n",
       "   'citation_accuracy': 8,\n",
       "   'clarity_conciseness': 9,\n",
       "   'objectivity': 10},\n",
       "  'total_score': 55,\n",
       "  'brief_evaluation': '답변은 출근 중 교통사고에 대한 산재처리와 관련된 법적 의무를 정확하게 설명하고 있으며, 관련 법 조항을 인용하여 신뢰성을 높이고 있습니다. 그러나 인용된 법 조항의 구체적인 내용이 부족하여 인용 정확성에서 약간의 감점이 있었습니다.'}}"
      ]
     },
     "execution_count": 87,
     "metadata": {},
     "output_type": "execute_result"
    }
   ],
   "source": [
    "value"
   ]
  },
  {
   "cell_type": "code",
   "execution_count": null,
   "id": "e192d91d",
   "metadata": {},
   "outputs": [
    {
     "name": "stdout",
     "output_type": "stream",
     "text": [
      "\"Node 'analyze_question':\"\n",
      "\"Value: {'datasources': ['search_labor', 'search_web']}\"\n",
      "\n",
      "----------------------------------------------------------\n",
      "\n",
      "--- 근로기준법 전문가 에이전트 시작 ---\n",
      "---문서 검색---\n",
      "--- 인터넷 검색 전문가 에이전트 시작 ---\n",
      "---문서 검색---\n",
      "---정보 추출 및 평가---\n",
      "---정보 추출 및 평가---\n",
      "---쿼리 재작성---\n",
      "---문서 검색---\n",
      "---정보 추출 및 평가---\n",
      "---답변 생성---\n",
      "\"Node 'search_web':\"\n",
      "(\"Value: {'answers': ['# 첫 출근 이전 해고 가능성\\\\n\\\\n첫 출근 이전에도 해고가 가능합니다. 회사가 어려워 채용 \"\n",
      " '내정자를 채용하지 못할 경우, 해고가 이루어질 수 있습니다. 이는 근로계약이 체결되기 전에도 사용자가 일방적으로 계약을 해지할 수 있는 '\n",
      " '권리가 있기 때문입니다.\\\\n\\\\n## 관련 출처\\\\n- '\n",
      " '[수박매거진](https://www.sukbakmagazine.com/news/articleView.html?idxno=60369)\\\\n- '\n",
      " '[이노청](http://inochong.org/faq/4506)\\\\n\\\\n## 추가 설명\\\\n해고란 근로자의 의사와 관계없이 사용자의 '\n",
      " '일방적 의사표시에 의해 근로계약관계를 해지하는 행위입니다. 따라서, 채용 내정자가 평판 정보 등의 이유로 채용이 취소될 수 있는 상황이 '\n",
      " '발생할 수 있습니다. 이러한 경우, 법적으로 문제가 되지 않는 한 해고가 가능하다는 점을 유의해야 합니다.\\\\n\\\\n## 결론 및 '\n",
      " '요약\\\\n결론적으로, 첫 출근 이전에도 해고가 가능하며, 회사의 경영상 어려움으로 인해 채용 내정자를 채용하지 못할 경우 해고가 이루어질 '\n",
      " \"수 있습니다. 이는 사용자의 권한에 해당하며, 법적으로도 인정되는 사항입니다.']}\")\n",
      "\n",
      "----------------------------------------------------------\n",
      "\n",
      "---답변 생성---\n",
      "\"Node 'search_labor':\"\n",
      "(\"Value: {'answers': ['# 첫 출근 이전 해고 가능성에 대한 답변\\\\n\\\\n1. **질문에 대한 직접적인 답변**\\\\n   \"\n",
      " '첫 출근 이전에도 해고가 가능합니다. 그러나 이 경우에도 해고 사유와 절차가 적법해야 하며, 채용 내정자에게 불이익을 주지 않도록 '\n",
      " '주의해야 합니다.\\\\n\\\\n2. **관련 법률 조항 및 해석**\\\\n   근로기준법 제23조에 따르면, 근로계약은 근로자가 근로를 '\n",
      " '제공하기로 약정한 경우에 성립합니다. 따라서 첫 출근 이전에는 근로계약이 체결되지 않았다고 볼 수 있으며, 이 경우 해고가 가능하다고 '\n",
      " '해석됩니다. 그러나 해고가 정당한 사유에 기반해야 하며, 부당한 해고는 법적으로 문제가 될 수 있습니다 (출처: 근로기준법 '\n",
      " '제23조).\\\\n\\\\n3. **추가 설명 또는 예시**\\\\n   예를 들어, 회사가 경영상의 이유로 인해 채용 내정자를 해고해야 하는 '\n",
      " '경우, 해당 사유가 객관적이고 합리적이어야 하며, 채용 내정자에게 사전 통지를 하는 것이 바람직합니다. 만약 해고가 부당하다고 판단될 '\n",
      " '경우, 채용 내정자는 법적 구제를 요청할 수 있습니다.\\\\n\\\\n4. **결론 및 요약**\\\\n   첫 출근 이전에도 해고는 가능하지만, '\n",
      " '해고 사유와 절차가 적법해야 하며, 부당한 해고로 간주될 경우 법적 문제가 발생할 수 있습니다. 따라서 회사는 신중하게 판단하고, 필요한 '\n",
      " \"경우 법률 자문을 받는 것이 좋습니다 (출처: 근로기준법 제23조).']}\")\n",
      "\n",
      "----------------------------------------------------------\n",
      "\n",
      "---최종 답변---\n",
      "\"Node 'generate_answer':\"\n",
      "(\"Value: {'question': '첫 출근 이전에도 해고를 시킬 수 있나요?  회사가 어려워져 채용 내정자를 채용하지 못할 것 \"\n",
      " \"같습니다.', 'final_answer': '첫 출근 이전에도 해고가 가능합니다. 회사가 경영상의 이유로 채용 내정자를 채용하지 못할 \"\n",
      " '경우, 해고가 이루어질 수 있습니다. 이는 근로계약이 체결되기 전에도 사용자가 일방적으로 계약을 해지할 수 있는 권리가 있기 '\n",
      " '때문입니다[출처: 수박매거진 '\n",
      " '(https://www.sukbakmagazine.com/news/articleView.html?idxno=60369), 이노청 '\n",
      " '(http://inochong.org/faq/4506)].\\\\n\\\\n그러나 해고 사유와 절차는 적법해야 하며, 부당한 해고로 간주될 경우 '\n",
      " '법적 문제가 발생할 수 있습니다. 따라서 회사는 신중하게 판단하고, 필요한 경우 법률 자문을 받는 것이 좋습니다[출처: 근로기준법 '\n",
      " \"제23조].'}\")\n",
      "\n",
      "----------------------------------------------------------\n",
      "\n",
      "\n",
      "현재 답변:\n",
      "첫 출근 이전에도 해고가 가능합니다. 회사가 경영상의 이유로 채용 내정자를 채용하지 못할 경우, 해고가 이루어질 수 있습니다. 이는 근로계약이 체결되기 전에도 사용자가 일방적으로 계약을 해지할 수 있는 권리가 있기 때문입니다[출처: 수박매거진 (https://www.sukbakmagazine.com/news/articleView.html?idxno=60369), 이노청 (http://inochong.org/faq/4506)].\n",
      "\n",
      "그러나 해고 사유와 절차는 적법해야 하며, 부당한 해고로 간주될 경우 법적 문제가 발생할 수 있습니다. 따라서 회사는 신중하게 판단하고, 필요한 경우 법률 자문을 받는 것이 좋습니다[출처: 근로기준법 제23조].\n",
      "\n",
      "평가 결과:\n",
      "총점: 51/60\n",
      "답변은 첫 출근 이전 해고 가능성에 대한 정확한 정보를 제공하며, 관련 법률을 인용하고 있습니다. 그러나 해고의 적법성에 대한 설명이 다소 부족하여 완전성에서 약간의 감점이 있었습니다.\n",
      "\"Node 'evaluate_answer':\"\n",
      "(\"Value: {'question': '첫 출근 이전에도 해고를 시킬 수 있나요?  회사가 어려워져 채용 내정자를 채용하지 못할 것 \"\n",
      " \"같습니다.', 'final_answer': '첫 출근 이전에도 해고가 가능합니다. 회사가 경영상의 이유로 채용 내정자를 채용하지 못할 \"\n",
      " '경우, 해고가 이루어질 수 있습니다. 이는 근로계약이 체결되기 전에도 사용자가 일방적으로 계약을 해지할 수 있는 권리가 있기 '\n",
      " '때문입니다[출처: 수박매거진 '\n",
      " '(https://www.sukbakmagazine.com/news/articleView.html?idxno=60369), 이노청 '\n",
      " '(http://inochong.org/faq/4506)].\\\\n\\\\n그러나 해고 사유와 절차는 적법해야 하며, 부당한 해고로 간주될 경우 '\n",
      " '법적 문제가 발생할 수 있습니다. 따라서 회사는 신중하게 판단하고, 필요한 경우 법률 자문을 받는 것이 좋습니다[출처: 근로기준법 '\n",
      " \"제23조].', 'evaluation_report': {'scores': {'accuracy': 8, 'relevance': 9, \"\n",
      " \"'completeness': 8, 'citation_accuracy': 9, 'clarity_conciseness': 8, \"\n",
      " \"'objectivity': 9}, 'total_score': 51, 'brief_evaluation': '답변은 첫 출근 이전 해고 \"\n",
      " '가능성에 대한 정확한 정보를 제공하며, 관련 법률을 인용하고 있습니다. 그러나 해고의 적법성에 대한 설명이 다소 부족하여 완전성에서 '\n",
      " \"약간의 감점이 있었습니다.'}}\")\n",
      "\n",
      "----------------------------------------------------------\n",
      "\n"
     ]
    },
    {
     "name": "stderr",
     "output_type": "stream",
     "text": [
      "Failed to multipart ingest runs: langsmith.utils.LangSmithError: Failed to POST https://api.smith.langchain.com/runs/multipart in LangSmith API. HTTPError('400 Client Error: Bad Request for url: https://api.smith.langchain.com/runs/multipart', '{\"detail\":\"Empty request\"}')\n",
      "Failed to multipart ingest runs: langsmith.utils.LangSmithError: Failed to POST https://api.smith.langchain.com/runs/multipart in LangSmith API. HTTPError('400 Client Error: Bad Request for url: https://api.smith.langchain.com/runs/multipart', '{\"detail\":\"Empty request\"}')\n"
     ]
    }
   ],
   "source": [
    "inputs = {\"question\": \"첫 출근 이전에도 해고를 시킬 수 있나요?  회사가 어려워져 채용 내정자를 채용하지 못할 것 같습니다.\"}\n",
    "for output in legal_rag_agent.stream(inputs):\n",
    "    for key, value in output.items():\n",
    "        # 노드 출력\n",
    "        pprint(f\"Node '{key}':\")\n",
    "        pprint(f\"Value: {value}\", indent=2, width=80, depth=None)\n",
    "    print(\"\\n----------------------------------------------------------\\n\")"
   ]
  },
  {
   "cell_type": "code",
   "execution_count": null,
   "id": "571fe3b1",
   "metadata": {},
   "outputs": [
    {
     "data": {
      "text/plain": [
       "{'question': '첫 출근 이전에도 해고를 시킬 수 있나요?  회사가 어려워져 채용 내정자를 채용하지 못할 것 같습니다.',\n",
       " 'final_answer': '첫 출근 이전에도 해고가 가능합니다. 회사가 경영상의 이유로 채용 내정자를 채용하지 못할 경우, 해고가 이루어질 수 있습니다. 이는 근로계약이 체결되기 전에도 사용자가 일방적으로 계약을 해지할 수 있는 권리가 있기 때문입니다[출처: 수박매거진 (https://www.sukbakmagazine.com/news/articleView.html?idxno=60369), 이노청 (http://inochong.org/faq/4506)].\\n\\n그러나 해고 사유와 절차는 적법해야 하며, 부당한 해고로 간주될 경우 법적 문제가 발생할 수 있습니다. 따라서 회사는 신중하게 판단하고, 필요한 경우 법률 자문을 받는 것이 좋습니다[출처: 근로기준법 제23조].',\n",
       " 'evaluation_report': {'scores': {'accuracy': 8,\n",
       "   'relevance': 9,\n",
       "   'completeness': 8,\n",
       "   'citation_accuracy': 9,\n",
       "   'clarity_conciseness': 8,\n",
       "   'objectivity': 9},\n",
       "  'total_score': 51,\n",
       "  'brief_evaluation': '답변은 첫 출근 이전 해고 가능성에 대한 정확한 정보를 제공하며, 관련 법률을 인용하고 있습니다. 그러나 해고의 적법성에 대한 설명이 다소 부족하여 완전성에서 약간의 감점이 있었습니다.'}}"
      ]
     },
     "execution_count": 89,
     "metadata": {},
     "output_type": "execute_result"
    }
   ],
   "source": [
    "value"
   ]
  },
  {
   "cell_type": "markdown",
   "id": "c1789c17",
   "metadata": {},
   "source": [
    "# 6. Gradio 챗봇"
   ]
  },
  {
   "cell_type": "code",
   "execution_count": null,
   "id": "6f553ef6",
   "metadata": {},
   "outputs": [
    {
     "data": {
      "image/jpeg": "[encoded data removed]",
      "text/plain": [
       "<IPython.core.display.Image object>"
      ]
     },
     "metadata": {},
     "output_type": "display_data"
    }
   ],
   "source": [
    "from langgraph.checkpoint.memory import MemorySaver\n",
    "\n",
    "# HITL 노드로 변경 (그라디오에서 입력을 처리)\n",
    "def human_review(state: ResearchAgentState):\n",
    "    pass\n",
    "\n",
    "# 그래프 생성을 위한 StateGraph 객체를 정의\n",
    "search_builder = StateGraph(ResearchAgentState)\n",
    "\n",
    "# 노드 추가\n",
    "nodes = {\n",
    "    \"analyze_question\": analyze_question_tool_search,\n",
    "    \"search_personal\": personal_rag_node,\n",
    "    \"search_labor\": labor_rag_node,\n",
    "    \"search_oshc\": oshc_rag_node,\n",
    "    \"search_web\": web_rag_node,\n",
    "    \"generate_answer\": answer_final,\n",
    "    \"llm_fallback\": llm_fallback,\n",
    "    \"evaluate_answer\": evaluate_answer_node, \n",
    "    \"human_review\": human_review,\n",
    "}\n",
    "\n",
    "for node_name, node_func in nodes.items():\n",
    "    search_builder.add_node(node_name, node_func)\n",
    "\n",
    "# 엣지 추가 (병렬 처리)\n",
    "search_builder.add_edge(START, \"analyze_question\")\n",
    "search_builder.add_conditional_edges(\n",
    "    \"analyze_question\",\n",
    "    route_datasources_tool_search,\n",
    "    [\"search_personal\", \"search_labor\", \"search_oshc\", \"search_web\", \"llm_fallback\"]\n",
    ")\n",
    "\n",
    "# 검색 노드들을 generate_answer에 연결\n",
    "for node in [\"search_personal\", \"search_labor\", \"search_oshc\", \"search_web\"]:\n",
    "    search_builder.add_edge(node, \"generate_answer\")\n",
    "\n",
    "search_builder.add_edge(\"generate_answer\", \"evaluate_answer\")\n",
    "search_builder.add_edge(\"evaluate_answer\", \"human_review\")\n",
    "\n",
    "# HITL 결과에 따른 조건부 엣지 추가\n",
    "search_builder.add_conditional_edges(\n",
    "    \"human_review\",\n",
    "    lambda x: \"approved\" if x.get(\"user_decision\") == \"approved\" else \"rejected\",\n",
    "    {\n",
    "        \"approved\": END,\n",
    "        \"rejected\": \"analyze_question\"\n",
    "    }\n",
    ")\n",
    "\n",
    "search_builder.add_edge(\"llm_fallback\", END)\n",
    "\n",
    "# 메모리 추가\n",
    "memory = MemorySaver()\n",
    "\n",
    "# 그래프 컴파일 (Breakpoint 설정)\n",
    "legal_rag_agent = search_builder.compile(checkpointer=memory, interrupt_before=[\"human_review\"])\n",
    "\n",
    "# 그래프 시각화 \n",
    "display(Image(legal_rag_agent.get_graph().draw_mermaid_png()))"
   ]
  },
  {
   "cell_type": "markdown",
   "id": "3117a32d",
   "metadata": {},
   "source": [
    "# "
   ]
  },
  {
   "cell_type": "code",
   "execution_count": null,
   "id": "2b6c5677",
   "metadata": {},
   "outputs": [
    {
     "name": "stdout",
     "output_type": "stream",
     "text": [
      "Running on local URL:  http://127.0.0.1:7860\n",
      "\n",
      "To create a public link, set `share=True` in `launch()`.\n"
     ]
    },
    {
     "data": {
      "text/html": [
       "<div><iframe src=\"http://127.0.0.1:7860/\" width=\"100%\" height=\"500\" allow=\"autoplay; camera; microphone; clipboard-read; clipboard-write;\" frameborder=\"0\" allowfullscreen></iframe></div>"
      ],
      "text/plain": [
       "<IPython.core.display.HTML object>"
      ]
     },
     "metadata": {},
     "output_type": "display_data"
    },
    {
     "data": {
      "text/plain": []
     },
     "execution_count": 91,
     "metadata": {},
     "output_type": "execute_result"
    }
   ],
   "source": [
    "import gradio as gr\n",
    "import uuid\n",
    "from typing import List, Tuple\n",
    "from langgraph.checkpoint.memory import MemorySaver\n",
    "\n",
    "# 메모리 사용 준비\n",
    "memory = MemorySaver()\n",
    "legal_rag_agent = search_builder.compile(checkpointer=memory, interrupt_before=[\"human_review\"])\n",
    "\n",
    "# 예시 질문들\n",
    "example_questions = [\n",
    "    \"첫 출근 이전에도 해고를 시킬 수 있나요?  회사가 어려워져 채용 내정자를 채용하지 못할 것 같습니다.\",\n",
    "    \"출근시 교통사고로 산재처리를 했는데, 산업재해조사표를 제출해야하나요?\",\n",
    "    \"근로자가 4대보험 가입을 원하지 않아서 회사에서 4대보험에 가입하지 않았는데 괜찮을까요?\",\n",
    "]\n",
    "\n",
    "# 챗봇 클래스 생성\n",
    "class ChatBot:\n",
    "    def __init__(self):\n",
    "        self.thread_id = str(uuid.uuid4())\n",
    "        self.user_decision = False\n",
    "\n",
    "    def process_message(self, message: str) -> str:\n",
    "        try:\n",
    "            config = {\"configurable\": {\"thread_id\": self.thread_id}}\n",
    "            \n",
    "            if not self.user_decision:\n",
    "                # Breakpoint 까지 먼저 실행\n",
    "                inputs = {\"question\": message}\n",
    "                legal_rag_agent.invoke(inputs, config=config)\n",
    "\n",
    "                # Breakpoint에서 현재 상태를 출력하고, 사용자의 승인 여부를 입력받음 \n",
    "                current_state = legal_rag_agent.get_state(config)\n",
    "                print(\"Current state:\", current_state)\n",
    "                \n",
    "                final_answer = current_state.values.get(\"final_answer\", \"No answer available\")\n",
    "                evaluation_report = current_state.values.get('evaluation_report', {'total_score': 0, 'brief_evaluation': 'No evaluation available'})\n",
    "                \n",
    "                response = f\"\"\"현재 답변:\n",
    "            {final_answer}\n",
    "\n",
    "            평가 결과:\n",
    "            총점: {evaluation_report.get('total_score', 0)}/60\n",
    "            {evaluation_report.get('brief_evaluation', 'No evaluation available')}\n",
    "\n",
    "            이 답변을 승인하시겠습니까? (y/n): \"\"\"\n",
    "                \n",
    "                # 사용자 승인 여부를 True로 변경 \n",
    "                self.user_decision = True\n",
    "                return response\n",
    "                \n",
    "            else:\n",
    "                # 사용자 입력에 따라 다음 경로를 선택\n",
    "                user_decision = message.lower()\n",
    "                if user_decision == 'y':\n",
    "                    self.user_decision = False # 초기화 \n",
    "                    # 상태 업데이트 - 질문을 수정하여 업데이트\n",
    "                    legal_rag_agent.update_state(config, {\"user_decision\": \"approved\"})\n",
    "                    # 나머지 작업을 이어서 진행 \n",
    "                    legal_rag_agent.invoke(None, config=config)\n",
    "                    # 작업이 종료되고 최종 상태의 메시지를 출력 \n",
    "                    current_state = legal_rag_agent.get_state(config)\n",
    "                    print(\"Final state:\", current_state)\n",
    "                    return current_state.values.get(\"final_answer\", \"No final answer available\")\n",
    "                else:\n",
    "                    self.user_decision = False # 초기화 \n",
    "                    # 상태 업데이트 - 질문을 수정하여 업데이트\n",
    "                    legal_rag_agent.update_state(config, {\"user_decision\": \"rejected\"})\n",
    "                    # 나머지 작업을 이어서 진행 \n",
    "                    legal_rag_agent.invoke(None, config=config)\n",
    "                    # Breakpoint에서 현재 상태를 출력하고, 사용자의 승인 여부를 입력받음 \n",
    "                    current_state = legal_rag_agent.get_state(config)\n",
    "                    print(\"Revised state:\", current_state)\n",
    "                    \n",
    "                    final_answer = current_state.values.get(\"final_answer\", \"No answer available\")\n",
    "                    evaluation_report = current_state.values.get('evaluation_report', {'total_score': 0, 'brief_evaluation': 'No evaluation available'})\n",
    "                    \n",
    "                    response = f\"\"\"다시 생성한 답변:\n",
    "                {final_answer}\n",
    "\n",
    "                평가 결과:\n",
    "                총점: {evaluation_report.get('total_score', 0)}/60\n",
    "                {evaluation_report.get('brief_evaluation', 'No evaluation available')}\n",
    "\n",
    "                이 답변을 승인하시겠습니까? (y/n): \"\"\"\n",
    "                    \n",
    "                    # 사용자 승인 여부를 True로 변경 \n",
    "                    self.user_decision = True\n",
    "                    return response\n",
    "\n",
    "        except Exception as e:\n",
    "            print(f\"Error occurred: {str(e)}\")\n",
    "            return \"죄송합니다. 응답을 생성하는 동안 오류가 발생했습니다. 다시 시도해 주세요.\"\n",
    "\n",
    "    def chat(self, message: str, history: List[Tuple[str, str]]) -> str:\n",
    "        print(f\"Thread ID: {self.thread_id}\")\n",
    "        response = self.process_message(message)\n",
    "        return response\n",
    "\n",
    "chatbot = ChatBot()\n",
    "\n",
    "# ChatInterface 생성\n",
    "demo = gr.ChatInterface(\n",
    "    fn=chatbot.chat,\n",
    "    title=\"인사노무 법률 AI 어시스턴트 QA챗봇\",\n",
    "    description=\"인사규정(취업규칙), 근로기준법, 산업안전보건법 관련 질문에 답변해 드립니다.\",\n",
    "    examples=example_questions,\n",
    "    theme=gr.themes.Soft()\n",
    ")\n",
    "\n",
    "# Gradio 앱 실행\n",
    "demo.launch()"
   ]
  },
  {
   "cell_type": "code",
   "execution_count": null,
   "id": "2cfe9e63",
   "metadata": {},
   "outputs": [
    {
     "name": "stdout",
     "output_type": "stream",
     "text": [
      "Closing server running on port: 7860\n"
     ]
    }
   ],
   "source": [
    "demo.close()"
   ]
  }
 ],
 "metadata": {
  "kernelspec": {
   "display_name": "Python 3",
   "language": "python",
   "name": "python3"
  },
  "language_info": {
   "codemirror_mode": {
    "name": "ipython",
    "version": 3
   },
   "file_extension": ".py",
   "mimetype": "text/x-python",
   "name": "python",
   "nbconvert_exporter": "python",
   "pygments_lexer": "ipython3",
   "version": "3.12.7"
  }
 },
 "nbformat": 4,
 "nbformat_minor": 5
}
